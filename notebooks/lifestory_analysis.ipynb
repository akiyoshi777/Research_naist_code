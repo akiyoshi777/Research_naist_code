{
 "cells": [
  {
   "cell_type": "code",
   "execution_count": 2,
   "metadata": {},
   "outputs": [
    {
     "name": "stdout",
     "output_type": "stream",
     "text": [
      "/home/is/akiyoshi-n/my-project\n"
     ]
    }
   ],
   "source": [
    "cd .."
   ]
  },
  {
   "cell_type": "code",
   "execution_count": 3,
   "metadata": {},
   "outputs": [],
   "source": [
    "import os\n",
    "# 使用するGPUを指定. この環境変数の場所は，pytorchをimportする前に入れる\n",
    "os.environ[\"CUDA_VISIBLE_DEVICES\"] = \"0\"\n",
    "from pathlib import Path\n",
    "from datetime import datetime\n",
    "from src.my_project.dataset import load_dataset_2class_classification, split_test_data, load_text_dataset, load_dataset_2class_classification_v2, split_test_data_stratify, preprocess_for_Trainer, load_sequential_emotion_data\n",
    "from src.my_project.train_v2 import ActClassifier\n",
    "from sklearn.model_selection import train_test_split\n",
    "from transformers import AutoTokenizer\n",
    "import wandb\n",
    "from sklearn.metrics import accuracy_score, f1_score, recall_score, precision_score"
   ]
  },
  {
   "cell_type": "code",
   "execution_count": 4,
   "metadata": {},
   "outputs": [],
   "source": [
    "DATASET_PATH = Path('/home/is/akiyoshi-n/my-project/data')\n",
    "# 本日の日付\n",
    "timestamp = datetime.now().strftime(\"%Y-%m-%d\")\n",
    "# 出力先ディレクトリ\n",
    "output_dir = Path('/home/is/akiyoshi-n/my-project/outputs/{}'.format(timestamp))"
   ]
  },
  {
   "cell_type": "code",
   "execution_count": 22,
   "metadata": {},
   "outputs": [],
   "source": [
    "import pandas as pd\n",
    "# DataFrameをExcelファイルに保存\n",
    "df = pd.read_excel(f\"{DATASET_PATH}/lifestory_annotation.xlsx\")  # index=Falseでインデックスを保存しない"
   ]
  },
  {
   "cell_type": "code",
   "execution_count": 24,
   "metadata": {},
   "outputs": [],
   "source": [
    "# 許可されているラベルのリスト（空白を取り除いた状態）\n",
    "allowed_labels = [\n",
    "    \"1-A.睡眠\",\n",
    "    \"1-B.身の回りの用事\",\n",
    "    \"1-C-a.食事-飲酒あり\",\n",
    "    \"1-C-b.食事-飲酒なし・不明\",\n",
    "    \"2-A-a.通勤・通学\",\n",
    "    \"2-A-b.その他の移動\",\n",
    "    \"2-B.仕事\",\n",
    "    \"2-C.学業\",\n",
    "    \"2-D.家事\",\n",
    "    \"2-E.介護・看護\",\n",
    "    \"2-F.育児\",\n",
    "    \"3-A.メディア（テレビ・ラジオ・新聞・雑誌・ネット）\",\n",
    "    \"3-B.買い物\",\n",
    "    \"3-C-a.趣味・娯楽-体動かす\",\n",
    "    \"3-C-b.趣味・娯楽-体動かさない\",\n",
    "    \"3-D-a.交際-物理的接触\",\n",
    "    \"3-D-b.交際-オンライン的接触\",\n",
    "    \"3-E.受診・療養\",\n",
    "    \"3-F-a.喫煙\",\n",
    "    \"3-F-b.その他の活動(事故など)\",\n",
    "    \"4.行動なし\"\n",
    "]"
   ]
  },
  {
   "cell_type": "code",
   "execution_count": 25,
   "metadata": {},
   "outputs": [],
   "source": [
    "# label1~label8のカラム名\n",
    "label_columns = ['label1', 'label2', 'label3', 'label4', 'label5', 'label6', 'label7', 'label8']\n",
    "\n",
    "# ラベルが許可されたリストに含まれているかどうかをチェック\n",
    "def is_valid_row(row):\n",
    "    for label in label_columns:\n",
    "        if pd.notna(row[label]) and ''.join(row[label].split()) not in allowed_labels:\n",
    "            return False\n",
    "    return True"
   ]
  },
  {
   "cell_type": "code",
   "execution_count": 23,
   "metadata": {},
   "outputs": [
    {
     "data": {
      "text/plain": [
       "text      突然、一局だけチャンネルが時間帯によって映ったり映らなかったりして好きな番組がリアルタイムに...\n",
       "label1                        3 - A.メディア（テレビ・ラジオ・新聞・雑誌・ネット）\n",
       "label2                                                  NaN\n",
       "label3                                                  NaN\n",
       "label4                                                  NaN\n",
       "label5                                                  NaN\n",
       "label6                                                  NaN\n",
       "label7                                                  NaN\n",
       "label8                                                  NaN\n",
       "Name: 3, dtype: object"
      ]
     },
     "execution_count": 23,
     "metadata": {},
     "output_type": "execute_result"
    }
   ],
   "source": [
    "df.iloc[3]"
   ]
  },
  {
   "cell_type": "code",
   "execution_count": 21,
   "metadata": {},
   "outputs": [
    {
     "data": {
      "text/plain": [
       "False"
      ]
     },
     "execution_count": 21,
     "metadata": {},
     "output_type": "execute_result"
    }
   ],
   "source": [
    "# df.iloc[3]には許可されていないラベルが含まれているので，is_valid_row関数を使ってチェック\n",
    "is_valid_row(df.iloc[3])"
   ]
  },
  {
   "cell_type": "code",
   "execution_count": null,
   "metadata": {},
   "outputs": [],
   "source": [
    "3 - A. メディア（テレビ・ラジオ・新聞・雑誌・ネット）\n",
    "3 - A.メディア（テレビ・ラジオ・新聞・雑誌・ネット）"
   ]
  },
  {
   "cell_type": "code",
   "execution_count": 26,
   "metadata": {},
   "outputs": [],
   "source": [
    "# 条件に合わない行を削除\n",
    "df_new = df[df.apply(is_valid_row, axis=1)]"
   ]
  },
  {
   "cell_type": "code",
   "execution_count": 27,
   "metadata": {},
   "outputs": [
    {
     "data": {
      "text/html": [
       "<div>\n",
       "<style scoped>\n",
       "    .dataframe tbody tr th:only-of-type {\n",
       "        vertical-align: middle;\n",
       "    }\n",
       "\n",
       "    .dataframe tbody tr th {\n",
       "        vertical-align: top;\n",
       "    }\n",
       "\n",
       "    .dataframe thead th {\n",
       "        text-align: right;\n",
       "    }\n",
       "</style>\n",
       "<table border=\"1\" class=\"dataframe\">\n",
       "  <thead>\n",
       "    <tr style=\"text-align: right;\">\n",
       "      <th></th>\n",
       "      <th>text</th>\n",
       "      <th>label1</th>\n",
       "      <th>label2</th>\n",
       "      <th>label3</th>\n",
       "      <th>label4</th>\n",
       "      <th>label5</th>\n",
       "      <th>label6</th>\n",
       "      <th>label7</th>\n",
       "      <th>label8</th>\n",
       "    </tr>\n",
       "  </thead>\n",
       "  <tbody>\n",
       "    <tr>\n",
       "      <th>0</th>\n",
       "      <td>北海道済みなので、仕方ないことだがせっかく綺麗に除雪したのに翌日には大吹雪で、また雪が積もっ...</td>\n",
       "      <td>2 - A - b. その他の移動</td>\n",
       "      <td>4. 行動なし</td>\n",
       "      <td>NaN</td>\n",
       "      <td>NaN</td>\n",
       "      <td>NaN</td>\n",
       "      <td>NaN</td>\n",
       "      <td>NaN</td>\n",
       "      <td>NaN</td>\n",
       "    </tr>\n",
       "    <tr>\n",
       "      <th>1</th>\n",
       "      <td>買った商品が翌日特価でさらに安くなっていたこと。</td>\n",
       "      <td>3 - B. 買い物</td>\n",
       "      <td>NaN</td>\n",
       "      <td>NaN</td>\n",
       "      <td>NaN</td>\n",
       "      <td>NaN</td>\n",
       "      <td>NaN</td>\n",
       "      <td>NaN</td>\n",
       "      <td>NaN</td>\n",
       "    </tr>\n",
       "    <tr>\n",
       "      <th>2</th>\n",
       "      <td>洗剤がなくなり安いと思いネットで購入したが、近くのドラッグストアのほうがもっと安かったこと。</td>\n",
       "      <td>3 - B. 買い物</td>\n",
       "      <td>2 - D. 家事</td>\n",
       "      <td>NaN</td>\n",
       "      <td>NaN</td>\n",
       "      <td>NaN</td>\n",
       "      <td>NaN</td>\n",
       "      <td>NaN</td>\n",
       "      <td>NaN</td>\n",
       "    </tr>\n",
       "    <tr>\n",
       "      <th>3</th>\n",
       "      <td>突然、一局だけチャンネルが時間帯によって映ったり映らなかったりして好きな番組がリアルタイムに...</td>\n",
       "      <td>3 - A.メディア（テレビ・ラジオ・新聞・雑誌・ネット）</td>\n",
       "      <td>NaN</td>\n",
       "      <td>NaN</td>\n",
       "      <td>NaN</td>\n",
       "      <td>NaN</td>\n",
       "      <td>NaN</td>\n",
       "      <td>NaN</td>\n",
       "      <td>NaN</td>\n",
       "    </tr>\n",
       "    <tr>\n",
       "      <th>4</th>\n",
       "      <td>外出先で手袋を片方なくし探したが見つからなかった。</td>\n",
       "      <td>2 - A - b. その他の移動</td>\n",
       "      <td>4. 行動なし</td>\n",
       "      <td>NaN</td>\n",
       "      <td>NaN</td>\n",
       "      <td>NaN</td>\n",
       "      <td>NaN</td>\n",
       "      <td>NaN</td>\n",
       "      <td>NaN</td>\n",
       "    </tr>\n",
       "    <tr>\n",
       "      <th>...</th>\n",
       "      <td>...</td>\n",
       "      <td>...</td>\n",
       "      <td>...</td>\n",
       "      <td>...</td>\n",
       "      <td>...</td>\n",
       "      <td>...</td>\n",
       "      <td>...</td>\n",
       "      <td>...</td>\n",
       "      <td>...</td>\n",
       "    </tr>\n",
       "    <tr>\n",
       "      <th>1359</th>\n",
       "      <td>ここのところ楽しいことはなくて、寝るのが楽しみ</td>\n",
       "      <td>1 - A. 睡眠</td>\n",
       "      <td>NaN</td>\n",
       "      <td>NaN</td>\n",
       "      <td>NaN</td>\n",
       "      <td>NaN</td>\n",
       "      <td>NaN</td>\n",
       "      <td>NaN</td>\n",
       "      <td>NaN</td>\n",
       "    </tr>\n",
       "    <tr>\n",
       "      <th>1360</th>\n",
       "      <td>ペットとの過ごす何気ない日々がとてもよい。</td>\n",
       "      <td>2 - F. 育児</td>\n",
       "      <td>1 - A. 睡眠</td>\n",
       "      <td>NaN</td>\n",
       "      <td>NaN</td>\n",
       "      <td>NaN</td>\n",
       "      <td>NaN</td>\n",
       "      <td>NaN</td>\n",
       "      <td>NaN</td>\n",
       "    </tr>\n",
       "    <tr>\n",
       "      <th>1361</th>\n",
       "      <td>生まれてくる赤ちゃんの洋服などを下見にいったこと。</td>\n",
       "      <td>2 - D. 家事</td>\n",
       "      <td>3 - B. 買い物</td>\n",
       "      <td>NaN</td>\n",
       "      <td>NaN</td>\n",
       "      <td>NaN</td>\n",
       "      <td>NaN</td>\n",
       "      <td>NaN</td>\n",
       "      <td>NaN</td>\n",
       "    </tr>\n",
       "    <tr>\n",
       "      <th>1362</th>\n",
       "      <td>高校生の娘が帰省してくると毎日が穏やかで楽しいですね！</td>\n",
       "      <td>2 - F. 育児</td>\n",
       "      <td>3 - D - a. 交際-物理的接触</td>\n",
       "      <td>NaN</td>\n",
       "      <td>NaN</td>\n",
       "      <td>NaN</td>\n",
       "      <td>NaN</td>\n",
       "      <td>NaN</td>\n",
       "      <td>NaN</td>\n",
       "    </tr>\n",
       "    <tr>\n",
       "      <th>1363</th>\n",
       "      <td>趣味でやっている編み物で、今年の冬セーターを編んでいる。だんだん形になっていくのが楽しい。</td>\n",
       "      <td>3 - C - b. 趣味・娯楽-体動かさない</td>\n",
       "      <td>NaN</td>\n",
       "      <td>NaN</td>\n",
       "      <td>NaN</td>\n",
       "      <td>NaN</td>\n",
       "      <td>NaN</td>\n",
       "      <td>NaN</td>\n",
       "      <td>NaN</td>\n",
       "    </tr>\n",
       "  </tbody>\n",
       "</table>\n",
       "<p>1150 rows × 9 columns</p>\n",
       "</div>"
      ],
      "text/plain": [
       "                                                   text  \\\n",
       "0     北海道済みなので、仕方ないことだがせっかく綺麗に除雪したのに翌日には大吹雪で、また雪が積もっ...   \n",
       "1                              買った商品が翌日特価でさらに安くなっていたこと。   \n",
       "2        洗剤がなくなり安いと思いネットで購入したが、近くのドラッグストアのほうがもっと安かったこと。   \n",
       "3     突然、一局だけチャンネルが時間帯によって映ったり映らなかったりして好きな番組がリアルタイムに...   \n",
       "4                             外出先で手袋を片方なくし探したが見つからなかった。   \n",
       "...                                                 ...   \n",
       "1359                            ここのところ楽しいことはなくて、寝るのが楽しみ   \n",
       "1360                              ペットとの過ごす何気ない日々がとてもよい。   \n",
       "1361                          生まれてくる赤ちゃんの洋服などを下見にいったこと。   \n",
       "1362                        高校生の娘が帰省してくると毎日が穏やかで楽しいですね！   \n",
       "1363      趣味でやっている編み物で、今年の冬セーターを編んでいる。だんだん形になっていくのが楽しい。   \n",
       "\n",
       "                             label1               label2 label3 label4 label5  \\\n",
       "0                 2 - A - b. その他の移動              4. 行動なし    NaN    NaN    NaN   \n",
       "1                        3 - B. 買い物                  NaN    NaN    NaN    NaN   \n",
       "2                        3 - B. 買い物            2 - D. 家事    NaN    NaN    NaN   \n",
       "3     3 - A.メディア（テレビ・ラジオ・新聞・雑誌・ネット）                  NaN    NaN    NaN    NaN   \n",
       "4                 2 - A - b. その他の移動              4. 行動なし    NaN    NaN    NaN   \n",
       "...                             ...                  ...    ...    ...    ...   \n",
       "1359                      1 - A. 睡眠                  NaN    NaN    NaN    NaN   \n",
       "1360                      2 - F. 育児            1 - A. 睡眠    NaN    NaN    NaN   \n",
       "1361                      2 - D. 家事           3 - B. 買い物    NaN    NaN    NaN   \n",
       "1362                      2 - F. 育児  3 - D - a. 交際-物理的接触    NaN    NaN    NaN   \n",
       "1363        3 - C - b. 趣味・娯楽-体動かさない                  NaN    NaN    NaN    NaN   \n",
       "\n",
       "     label6 label7 label8  \n",
       "0       NaN    NaN    NaN  \n",
       "1       NaN    NaN    NaN  \n",
       "2       NaN    NaN    NaN  \n",
       "3       NaN    NaN    NaN  \n",
       "4       NaN    NaN    NaN  \n",
       "...     ...    ...    ...  \n",
       "1359    NaN    NaN    NaN  \n",
       "1360    NaN    NaN    NaN  \n",
       "1361    NaN    NaN    NaN  \n",
       "1362    NaN    NaN    NaN  \n",
       "1363    NaN    NaN    NaN  \n",
       "\n",
       "[1150 rows x 9 columns]"
      ]
     },
     "execution_count": 27,
     "metadata": {},
     "output_type": "execute_result"
    }
   ],
   "source": [
    "df_new"
   ]
  },
  {
   "cell_type": "code",
   "execution_count": 29,
   "metadata": {},
   "outputs": [],
   "source": [
    "# 新しいエクセルファイルとして保存\n",
    "df_new.to_excel(f\"{DATASET_PATH}/lifestory_annotation_new.xlsx\", index=False)"
   ]
  },
  {
   "cell_type": "code",
   "execution_count": 30,
   "metadata": {},
   "outputs": [],
   "source": [
    "# df_newには最大でどこまでのcolumnが存在するか\n",
    "max_column = 0\n",
    "for i in range(len(df_new)):\n",
    "    for j in range(len(df_new.columns)):\n",
    "        if pd.notna(df_new.iloc[i, j]):\n",
    "            max_column = max(max_column, j)"
   ]
  },
  {
   "cell_type": "code",
   "execution_count": 31,
   "metadata": {},
   "outputs": [
    {
     "data": {
      "text/plain": [
       "5"
      ]
     },
     "execution_count": 31,
     "metadata": {},
     "output_type": "execute_result"
    }
   ],
   "source": [
    "max_column"
   ]
  },
  {
   "cell_type": "code",
   "execution_count": null,
   "metadata": {},
   "outputs": [],
   "source": []
  }
 ],
 "metadata": {
  "kernelspec": {
   "display_name": ".venv",
   "language": "python",
   "name": "python3"
  },
  "language_info": {
   "codemirror_mode": {
    "name": "ipython",
    "version": 3
   },
   "file_extension": ".py",
   "mimetype": "text/x-python",
   "name": "python",
   "nbconvert_exporter": "python",
   "pygments_lexer": "ipython3",
   "version": "3.11.5"
  }
 },
 "nbformat": 4,
 "nbformat_minor": 2
}

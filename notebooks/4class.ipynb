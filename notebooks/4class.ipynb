{
 "cells": [
  {
   "cell_type": "code",
   "execution_count": 1,
   "metadata": {},
   "outputs": [
    {
     "name": "stdout",
     "output_type": "stream",
     "text": [
      "/home/is/akiyoshi-n/my-project\n"
     ]
    }
   ],
   "source": [
    "cd .."
   ]
  },
  {
   "cell_type": "code",
   "execution_count": 2,
   "metadata": {},
   "outputs": [],
   "source": [
    "import pandas as pd\n",
    "import numpy as np\n",
    "from pathlib import Path\n",
    "import time\n",
    "from datetime import datetime\n",
    "import torch\n",
    "import torch.nn as nn\n",
    "from torch import cuda\n",
    "from torch.utils.data import DataLoader\n",
    "from src.my_project.dataset import load_multiclass_dataset, load_dataset_4class_Multi_classification, load_text_dataset, preprocess_text_dataset\n",
    "from src.my_project.train import MultiClassActClassifier, ModelPredictor\n",
    "from src.my_project.utils import count_unique_elements\n",
    "from transformers import BertTokenizer, BertJapaneseTokenizer, BertForSequenceClassification\n",
    "from transformers import AutoTokenizer, AutoModelForMaskedLM\n",
    "import pickle\n",
    "from transformers import AutoModel, AutoTokenizer\n",
    "import matplotlib.pyplot as plt\n",
    "from matplotlib.ticker import MaxNLocator\n",
    "import japanize_matplotlib"
   ]
  },
  {
   "cell_type": "code",
   "execution_count": 3,
   "metadata": {},
   "outputs": [],
   "source": [
    "DATASET_PATH = Path('/home/is/akiyoshi-n/my-project/data')\n",
    "output_dir = Path('/home/is/akiyoshi-n/my-project/outputs2')\n",
    "# パラメータの設定\n",
    "MAX_LEN = 128\n",
    "# DROP_RATE = 0.4\n",
    "BATCH_SIZE = 16\n",
    "NUM_EPOCHS = 100\n",
    "LEARNING_RATE = 2e-5\n",
    "num_folds = 5\n",
    "PATIENCE = 5\n",
    "SEED = 2023\n",
    "\n",
    "# デバイスの指定\n",
    "device = \"cuda:1\" if cuda.is_available() else \"cpu\"\n",
    "\n",
    "timestamp = datetime.now().strftime(\"%Y-%m-%dT%H:%M:%S\")"
   ]
  },
  {
   "cell_type": "code",
   "execution_count": 4,
   "metadata": {},
   "outputs": [
    {
     "name": "stderr",
     "output_type": "stream",
     "text": [
      "/home/is/akiyoshi-n/my-project/.venv/lib/python3.11/site-packages/openpyxl/worksheet/_reader.py:329: UserWarning: Data Validation extension is not supported and will be removed\n",
      "  warn(msg)\n"
     ]
    }
   ],
   "source": [
    "# データの読み込み\n",
    "data, class_name = load_dataset_4class_Multi_classification(f\"{DATASET_PATH}/act_classification_final.xlsx\")"
   ]
  },
  {
   "cell_type": "code",
   "execution_count": 8,
   "metadata": {},
   "outputs": [
    {
     "name": "stdout",
     "output_type": "stream",
     "text": [
      "----------------- Full Training -----------------\n"
     ]
    },
    {
     "name": "stderr",
     "output_type": "stream",
     "text": [
      "Some weights of BertForSequenceClassification were not initialized from the model checkpoint at cl-tohoku/bert-base-japanese-v3 and are newly initialized: ['classifier.bias', 'classifier.weight']\n",
      "You should probably TRAIN this model on a down-stream task to be able to use it for predictions and inference.\n"
     ]
    },
    {
     "name": "stdout",
     "output_type": "stream",
     "text": [
      "Early stopping. No improvement in loss.\n",
      "Training complete. Model saved to /home/is/akiyoshi-n/my-project/outputs2/cl-tohoku/bert-base-japanese-v32023-10-17T21:30:33\n"
     ]
    }
   ],
   "source": [
    "# 東北大BERT-v3\n",
    "MODEL_NAME = 'cl-tohoku/bert-base-japanese-v3'\n",
    "tokenizer = BertJapaneseTokenizer.from_pretrained(MODEL_NAME)\n",
    "trainer = MultiClassActClassifier(tokenizer=tokenizer, model_name = MODEL_NAME, device=device, seed=SEED)\n",
    "model = trainer.train_full_dataset(model_name=MODEL_NAME, data=data, NUM_EPOCHS=NUM_EPOCHS, device=device, LEARNING_RATE=LEARNING_RATE, BATCH_SIZE=BATCH_SIZE, output_dir=output_dir, MAX_LEN=MAX_LEN, timestamp=timestamp, num_labels=4)"
   ]
  },
  {
   "cell_type": "code",
   "execution_count": 5,
   "metadata": {},
   "outputs": [
    {
     "name": "stdout",
     "output_type": "stream",
     "text": [
      "-----------------Fold: 1-----------------\n"
     ]
    },
    {
     "name": "stderr",
     "output_type": "stream",
     "text": [
      "Some weights of BertForSequenceClassification were not initialized from the model checkpoint at cl-tohoku/bert-base-japanese-v3 and are newly initialized: ['classifier.weight', 'classifier.bias']\n",
      "You should probably TRAIN this model on a down-stream task to be able to use it for predictions and inference.\n"
     ]
    },
    {
     "name": "stdout",
     "output_type": "stream",
     "text": [
      "Early stopping. No improvement in loss.\n",
      "Accuracy: 0.6227272727272727\n",
      "macro f1: 0.5764003374414453\n",
      "humming: 0.1693181818181818\n",
      "-----------------Fold: 2-----------------\n"
     ]
    },
    {
     "name": "stderr",
     "output_type": "stream",
     "text": [
      "Some weights of BertForSequenceClassification were not initialized from the model checkpoint at cl-tohoku/bert-base-japanese-v3 and are newly initialized: ['classifier.weight', 'classifier.bias']\n",
      "You should probably TRAIN this model on a down-stream task to be able to use it for predictions and inference.\n"
     ]
    },
    {
     "name": "stdout",
     "output_type": "stream",
     "text": [
      "Early stopping. No improvement in loss.\n",
      "Accuracy: 0.5727272727272728\n",
      "macro f1: 0.5575657617845118\n",
      "humming: 0.19545454545454546\n",
      "-----------------Fold: 3-----------------\n"
     ]
    },
    {
     "name": "stderr",
     "output_type": "stream",
     "text": [
      "Some weights of BertForSequenceClassification were not initialized from the model checkpoint at cl-tohoku/bert-base-japanese-v3 and are newly initialized: ['classifier.weight', 'classifier.bias']\n",
      "You should probably TRAIN this model on a down-stream task to be able to use it for predictions and inference.\n"
     ]
    },
    {
     "name": "stdout",
     "output_type": "stream",
     "text": [
      "Early stopping. No improvement in loss.\n",
      "Accuracy: 0.6363636363636364\n",
      "macro f1: 0.5634573799713626\n",
      "humming: 0.17272727272727273\n",
      "-----------------Fold: 4-----------------\n"
     ]
    },
    {
     "name": "stderr",
     "output_type": "stream",
     "text": [
      "Some weights of BertForSequenceClassification were not initialized from the model checkpoint at cl-tohoku/bert-base-japanese-v3 and are newly initialized: ['classifier.weight', 'classifier.bias']\n",
      "You should probably TRAIN this model on a down-stream task to be able to use it for predictions and inference.\n"
     ]
    },
    {
     "name": "stdout",
     "output_type": "stream",
     "text": [
      "Early stopping. No improvement in loss.\n",
      "Accuracy: 0.5636363636363636\n",
      "macro f1: 0.5897615699086287\n",
      "humming: 0.1715909090909091\n",
      "-----------------Fold: 5-----------------\n"
     ]
    },
    {
     "name": "stderr",
     "output_type": "stream",
     "text": [
      "Some weights of BertForSequenceClassification were not initialized from the model checkpoint at cl-tohoku/bert-base-japanese-v3 and are newly initialized: ['classifier.weight', 'classifier.bias']\n",
      "You should probably TRAIN this model on a down-stream task to be able to use it for predictions and inference.\n"
     ]
    },
    {
     "name": "stdout",
     "output_type": "stream",
     "text": [
      "Early stopping. No improvement in loss.\n",
      "Accuracy: 0.5636363636363636\n",
      "macro f1: 0.5754264972776769\n",
      "humming: 0.18977272727272726\n",
      "-------------------------------------\n",
      "finished epochs : [54, 13, 21, 62, 19]\n",
      "Average Accuracy: 0.5918181818181817\n",
      "Average macro f1: 0.5725223092767251\n",
      "Average humming: 0.17977272727272728\n"
     ]
    }
   ],
   "source": [
    "# 東北大BERT-v3\n",
    "MODEL_NAME = 'cl-tohoku/bert-base-japanese-v3'\n",
    "tokenizer = BertJapaneseTokenizer.from_pretrained(MODEL_NAME)\n",
    "\n",
    "# 交差検証の実行\n",
    "trainer = MultiClassActClassifier(tokenizer=tokenizer, model_name = MODEL_NAME, device=device, seed=SEED)\n",
    "fold_scores, fold_f1, fold_hamming, best_model, all_predictions, all_labels = trainer.cross_validation(MODEL_NAME, data, num_folds, NUM_EPOCHS,\n",
    "                                                            device, LEARNING_RATE,\n",
    "                                                            BATCH_SIZE, output_dir, MAX_LEN, timestamp, num_labels=4)\n"
   ]
  },
  {
   "cell_type": "code",
   "execution_count": 7,
   "metadata": {},
   "outputs": [
    {
     "name": "stdout",
     "output_type": "stream",
     "text": [
      "Label 1:\n",
      "[[961  44]\n",
      " [ 41  54]]\n",
      "--------------------\n",
      "Label 2:\n",
      "[[985  20]\n",
      " [ 54  41]]\n",
      "--------------------\n",
      "Label 3:\n",
      "[[650 114]\n",
      " [189 147]]\n",
      "--------------------\n",
      "Label 4.:\n",
      "[[325 175]\n",
      " [154 446]]\n",
      "--------------------\n"
     ]
    }
   ],
   "source": [
    "from sklearn.metrics import confusion_matrix, multilabel_confusion_matrix\n",
    "\n",
    "# 混合行列を計算\n",
    "cm = multilabel_confusion_matrix(all_labels, all_predictions)\n",
    "\n",
    "# 混合行列を表示\n",
    "for i, matrix in enumerate(cm):\n",
    "    print(f\"Label {class_name[i]}:\")\n",
    "    print(matrix)\n",
    "    print(\"-\" * 20)"
   ]
  },
  {
   "cell_type": "code",
   "execution_count": 5,
   "metadata": {},
   "outputs": [
    {
     "name": "stdout",
     "output_type": "stream",
     "text": [
      "-----------------Fold: 1-----------------\n"
     ]
    },
    {
     "name": "stderr",
     "output_type": "stream",
     "text": [
      "Some weights of BertForSequenceClassification were not initialized from the model checkpoint at cl-tohoku/bert-base-japanese-v2 and are newly initialized: ['classifier.bias', 'classifier.weight']\n",
      "You should probably TRAIN this model on a down-stream task to be able to use it for predictions and inference.\n"
     ]
    },
    {
     "name": "stdout",
     "output_type": "stream",
     "text": [
      "Early stopping. No improvement in loss.\n",
      "Accuracy: 0.6181818181818182\n",
      "macro f1: 0.5670589875620814\n",
      "humming: 0.1715909090909091\n",
      "-----------------Fold: 2-----------------\n"
     ]
    },
    {
     "name": "stderr",
     "output_type": "stream",
     "text": [
      "Some weights of BertForSequenceClassification were not initialized from the model checkpoint at cl-tohoku/bert-base-japanese-v2 and are newly initialized: ['classifier.bias', 'classifier.weight']\n",
      "You should probably TRAIN this model on a down-stream task to be able to use it for predictions and inference.\n"
     ]
    },
    {
     "name": "stdout",
     "output_type": "stream",
     "text": [
      "Early stopping. No improvement in loss.\n",
      "Accuracy: 0.55\n",
      "macro f1: 0.5925450964266635\n",
      "humming: 0.19772727272727272\n",
      "-----------------Fold: 3-----------------\n"
     ]
    },
    {
     "name": "stderr",
     "output_type": "stream",
     "text": [
      "Some weights of BertForSequenceClassification were not initialized from the model checkpoint at cl-tohoku/bert-base-japanese-v2 and are newly initialized: ['classifier.bias', 'classifier.weight']\n",
      "You should probably TRAIN this model on a down-stream task to be able to use it for predictions and inference.\n"
     ]
    },
    {
     "name": "stdout",
     "output_type": "stream",
     "text": [
      "Early stopping. No improvement in loss.\n",
      "Accuracy: 0.6590909090909091\n",
      "macro f1: 0.5907058080808081\n",
      "humming: 0.16022727272727272\n",
      "-----------------Fold: 4-----------------\n"
     ]
    },
    {
     "name": "stderr",
     "output_type": "stream",
     "text": [
      "Some weights of BertForSequenceClassification were not initialized from the model checkpoint at cl-tohoku/bert-base-japanese-v2 and are newly initialized: ['classifier.bias', 'classifier.weight']\n",
      "You should probably TRAIN this model on a down-stream task to be able to use it for predictions and inference.\n"
     ]
    },
    {
     "name": "stdout",
     "output_type": "stream",
     "text": [
      "Early stopping. No improvement in loss.\n",
      "Accuracy: 0.6136363636363636\n",
      "macro f1: 0.4861993125638983\n",
      "humming: 0.18636363636363637\n",
      "-----------------Fold: 5-----------------\n"
     ]
    },
    {
     "name": "stderr",
     "output_type": "stream",
     "text": [
      "Some weights of BertForSequenceClassification were not initialized from the model checkpoint at cl-tohoku/bert-base-japanese-v2 and are newly initialized: ['classifier.bias', 'classifier.weight']\n",
      "You should probably TRAIN this model on a down-stream task to be able to use it for predictions and inference.\n"
     ]
    },
    {
     "name": "stdout",
     "output_type": "stream",
     "text": [
      "Early stopping. No improvement in loss.\n",
      "Accuracy: 0.5045454545454545\n",
      "macro f1: 0.5364028143379638\n",
      "humming: 0.20681818181818182\n",
      "-------------------------------------\n",
      "finished epochs : [14, 16, 24, 23, 21]\n",
      "Average Accuracy: 0.5890909090909091\n",
      "Average macro f1: 0.554582403794283\n",
      "Average humming: 0.18454545454545454\n"
     ]
    }
   ],
   "source": [
    "# 東北大BERT-v2\n",
    "MODEL_NAME = 'cl-tohoku/bert-base-japanese-v2'\n",
    "tokenizer = BertJapaneseTokenizer.from_pretrained(MODEL_NAME)\n",
    "\n",
    "# 交差検証の実行\n",
    "trainer = MultiClassActClassifier(tokenizer=tokenizer, model_name = MODEL_NAME, device=device, seed=SEED)\n",
    "fold_scores, fold_f1, fold_hamming, best_model, all_predictions, all_labels = trainer.cross_validation(MODEL_NAME, data, num_folds, NUM_EPOCHS,\n",
    "                                                            device, LEARNING_RATE,\n",
    "                                                            BATCH_SIZE, output_dir, MAX_LEN, timestamp, num_labels=4)\n"
   ]
  },
  {
   "cell_type": "code",
   "execution_count": 6,
   "metadata": {},
   "outputs": [
    {
     "name": "stderr",
     "output_type": "stream",
     "text": [
      "The tokenizer class you load from this checkpoint is not the same type as the class this function is called from. It may result in unexpected tokenization. \n",
      "The tokenizer class you load from this checkpoint is 'BertTokenizer'. \n",
      "The class this function is called from is 'BertJapaneseTokenizer'.\n"
     ]
    },
    {
     "name": "stdout",
     "output_type": "stream",
     "text": [
      "-----------------Fold: 1-----------------\n"
     ]
    },
    {
     "name": "stderr",
     "output_type": "stream",
     "text": [
      "Some weights of BertForSequenceClassification were not initialized from the model checkpoint at bert-base-uncased and are newly initialized: ['classifier.bias', 'classifier.weight']\n",
      "You should probably TRAIN this model on a down-stream task to be able to use it for predictions and inference.\n"
     ]
    },
    {
     "name": "stdout",
     "output_type": "stream",
     "text": [
      "Early stopping. No improvement in loss.\n",
      "Accuracy: 0.4863636363636364\n",
      "macro f1: 0.3683207822861639\n",
      "humming: 0.22386363636363638\n",
      "-----------------Fold: 2-----------------\n"
     ]
    },
    {
     "name": "stderr",
     "output_type": "stream",
     "text": [
      "Some weights of BertForSequenceClassification were not initialized from the model checkpoint at bert-base-uncased and are newly initialized: ['classifier.bias', 'classifier.weight']\n",
      "You should probably TRAIN this model on a down-stream task to be able to use it for predictions and inference.\n"
     ]
    },
    {
     "name": "stdout",
     "output_type": "stream",
     "text": [
      "Early stopping. No improvement in loss.\n",
      "Accuracy: 0.4772727272727273\n",
      "macro f1: 0.3806278585240205\n",
      "humming: 0.2159090909090909\n",
      "-----------------Fold: 3-----------------\n"
     ]
    },
    {
     "name": "stderr",
     "output_type": "stream",
     "text": [
      "Some weights of BertForSequenceClassification were not initialized from the model checkpoint at bert-base-uncased and are newly initialized: ['classifier.bias', 'classifier.weight']\n",
      "You should probably TRAIN this model on a down-stream task to be able to use it for predictions and inference.\n"
     ]
    },
    {
     "name": "stdout",
     "output_type": "stream",
     "text": [
      "Early stopping. No improvement in loss.\n",
      "Accuracy: 0.44545454545454544\n",
      "macro f1: 0.3461497211497211\n",
      "humming: 0.22727272727272727\n",
      "-----------------Fold: 4-----------------\n"
     ]
    },
    {
     "name": "stderr",
     "output_type": "stream",
     "text": [
      "Some weights of BertForSequenceClassification were not initialized from the model checkpoint at bert-base-uncased and are newly initialized: ['classifier.bias', 'classifier.weight']\n",
      "You should probably TRAIN this model on a down-stream task to be able to use it for predictions and inference.\n"
     ]
    },
    {
     "name": "stdout",
     "output_type": "stream",
     "text": [
      "Early stopping. No improvement in loss.\n",
      "Accuracy: 0.4727272727272727\n",
      "macro f1: 0.3504333204004733\n",
      "humming: 0.22272727272727272\n",
      "-----------------Fold: 5-----------------\n"
     ]
    },
    {
     "name": "stderr",
     "output_type": "stream",
     "text": [
      "Some weights of BertForSequenceClassification were not initialized from the model checkpoint at bert-base-uncased and are newly initialized: ['classifier.bias', 'classifier.weight']\n",
      "You should probably TRAIN this model on a down-stream task to be able to use it for predictions and inference.\n"
     ]
    },
    {
     "name": "stdout",
     "output_type": "stream",
     "text": [
      "Early stopping. No improvement in loss.\n",
      "Accuracy: 0.4681818181818182\n",
      "macro f1: 0.30699062164186397\n",
      "humming: 0.22954545454545455\n",
      "-------------------------------------\n",
      "finished epochs : [28, 29, 23, 30, 27]\n",
      "Average Accuracy: 0.47000000000000003\n",
      "Average macro f1: 0.35050446080044856\n",
      "Average humming: 0.22386363636363638\n"
     ]
    }
   ],
   "source": [
    "# bert-base-uncased\n",
    "MODEL_NAME = 'bert-base-uncased'\n",
    "tokenizer = BertJapaneseTokenizer.from_pretrained(MODEL_NAME)\n",
    "\n",
    "# 交差検証の実行\n",
    "trainer = MultiClassActClassifier(tokenizer=tokenizer, model_name = MODEL_NAME, device=device, seed=SEED)\n",
    "fold_scores, fold_f1, fold_hamming, best_model, all_predictions, all_labels = trainer.cross_validation(MODEL_NAME, data, num_folds, NUM_EPOCHS,\n",
    "                                                            device, LEARNING_RATE,\n",
    "                                                            BATCH_SIZE, output_dir, MAX_LEN, timestamp, num_labels=4)"
   ]
  },
  {
   "cell_type": "code",
   "execution_count": 4,
   "metadata": {},
   "outputs": [
    {
     "name": "stdout",
     "output_type": "stream",
     "text": [
      "(581014, 4)\n"
     ]
    },
    {
     "data": {
      "text/html": [
       "<div>\n",
       "<style scoped>\n",
       "    .dataframe tbody tr th:only-of-type {\n",
       "        vertical-align: middle;\n",
       "    }\n",
       "\n",
       "    .dataframe tbody tr th {\n",
       "        vertical-align: top;\n",
       "    }\n",
       "\n",
       "    .dataframe thead th {\n",
       "        text-align: right;\n",
       "    }\n",
       "</style>\n",
       "<table border=\"1\" class=\"dataframe\">\n",
       "  <thead>\n",
       "    <tr style=\"text-align: right;\">\n",
       "      <th></th>\n",
       "      <th>tweet_id</th>\n",
       "      <th>user_id</th>\n",
       "      <th>text</th>\n",
       "      <th>time</th>\n",
       "    </tr>\n",
       "  </thead>\n",
       "  <tbody>\n",
       "    <tr>\n",
       "      <th>580842</th>\n",
       "      <td>10981153445</td>\n",
       "      <td>momokama</td>\n",
       "      <td>空白充けまい</td>\n",
       "      <td>2010-03-24 23:20:17</td>\n",
       "    </tr>\n",
       "    <tr>\n",
       "      <th>580843</th>\n",
       "      <td>10981447850</td>\n",
       "      <td>momokama</td>\n",
       "      <td>鎌田です</td>\n",
       "      <td>2010-03-24 23:26:47</td>\n",
       "    </tr>\n",
       "    <tr>\n",
       "      <th>580844</th>\n",
       "      <td>10981484342</td>\n",
       "      <td>momokama</td>\n",
       "      <td>NaN</td>\n",
       "      <td>2010-03-24 23:27:36</td>\n",
       "    </tr>\n",
       "    <tr>\n",
       "      <th>580845</th>\n",
       "      <td>10981509169</td>\n",
       "      <td>momokama</td>\n",
       "      <td>NaN</td>\n",
       "      <td>2010-03-24 23:28:11</td>\n",
       "    </tr>\n",
       "    <tr>\n",
       "      <th>580846</th>\n",
       "      <td>10981513246</td>\n",
       "      <td>momokama</td>\n",
       "      <td>NaN</td>\n",
       "      <td>2010-03-24 23:28:16</td>\n",
       "    </tr>\n",
       "    <tr>\n",
       "      <th>580847</th>\n",
       "      <td>10981518175</td>\n",
       "      <td>momokama</td>\n",
       "      <td>NaN</td>\n",
       "      <td>2010-03-24 23:28:22</td>\n",
       "    </tr>\n",
       "    <tr>\n",
       "      <th>580848</th>\n",
       "      <td>10981548713</td>\n",
       "      <td>momokama</td>\n",
       "      <td>NaN</td>\n",
       "      <td>2010-03-24 23:29:02</td>\n",
       "    </tr>\n",
       "    <tr>\n",
       "      <th>580849</th>\n",
       "      <td>10981552399</td>\n",
       "      <td>momokama</td>\n",
       "      <td>NaN</td>\n",
       "      <td>2010-03-24 23:29:08</td>\n",
       "    </tr>\n",
       "    <tr>\n",
       "      <th>580850</th>\n",
       "      <td>10981555839</td>\n",
       "      <td>momokama</td>\n",
       "      <td>NaN</td>\n",
       "      <td>2010-03-24 23:29:12</td>\n",
       "    </tr>\n",
       "    <tr>\n",
       "      <th>580851</th>\n",
       "      <td>10981621153</td>\n",
       "      <td>momokama</td>\n",
       "      <td>[USR]</td>\n",
       "      <td>2010-03-24 23:30:35</td>\n",
       "    </tr>\n",
       "    <tr>\n",
       "      <th>580852</th>\n",
       "      <td>10981883314</td>\n",
       "      <td>momokama</td>\n",
       "      <td>[USR] だだー</td>\n",
       "      <td>2010-03-24 23:36:16</td>\n",
       "    </tr>\n",
       "  </tbody>\n",
       "</table>\n",
       "</div>"
      ],
      "text/plain": [
       "           tweet_id   user_id       text                 time\n",
       "580842  10981153445  momokama     空白充けまい  2010-03-24 23:20:17\n",
       "580843  10981447850  momokama       鎌田です  2010-03-24 23:26:47\n",
       "580844  10981484342  momokama        NaN  2010-03-24 23:27:36\n",
       "580845  10981509169  momokama        NaN  2010-03-24 23:28:11\n",
       "580846  10981513246  momokama        NaN  2010-03-24 23:28:16\n",
       "580847  10981518175  momokama        NaN  2010-03-24 23:28:22\n",
       "580848  10981548713  momokama        NaN  2010-03-24 23:29:02\n",
       "580849  10981552399  momokama        NaN  2010-03-24 23:29:08\n",
       "580850  10981555839  momokama        NaN  2010-03-24 23:29:12\n",
       "580851  10981621153  momokama      [USR]  2010-03-24 23:30:35\n",
       "580852  10981883314  momokama  [USR] だだー  2010-03-24 23:36:16"
      ]
     },
     "execution_count": 4,
     "metadata": {},
     "output_type": "execute_result"
    }
   ],
   "source": [
    "# データの読み込み\n",
    "df = pd.read_csv(f\"{DATASET_PATH}/rever_top10_users.csv\")\n",
    "print(df.shape)\n",
    "df.loc[580842:580852, :]"
   ]
  },
  {
   "cell_type": "code",
   "execution_count": 5,
   "metadata": {},
   "outputs": [
    {
     "name": "stdout",
     "output_type": "stream",
     "text": [
      "(581007, 4)\n"
     ]
    },
    {
     "data": {
      "text/html": [
       "<div>\n",
       "<style scoped>\n",
       "    .dataframe tbody tr th:only-of-type {\n",
       "        vertical-align: middle;\n",
       "    }\n",
       "\n",
       "    .dataframe tbody tr th {\n",
       "        vertical-align: top;\n",
       "    }\n",
       "\n",
       "    .dataframe thead th {\n",
       "        text-align: right;\n",
       "    }\n",
       "</style>\n",
       "<table border=\"1\" class=\"dataframe\">\n",
       "  <thead>\n",
       "    <tr style=\"text-align: right;\">\n",
       "      <th></th>\n",
       "      <th>tweet_id</th>\n",
       "      <th>user_id</th>\n",
       "      <th>text</th>\n",
       "      <th>time</th>\n",
       "    </tr>\n",
       "  </thead>\n",
       "  <tbody>\n",
       "    <tr>\n",
       "      <th>580842</th>\n",
       "      <td>10981153445</td>\n",
       "      <td>momokama</td>\n",
       "      <td>空白充けまい</td>\n",
       "      <td>2010-03-24 23:20:17</td>\n",
       "    </tr>\n",
       "    <tr>\n",
       "      <th>580843</th>\n",
       "      <td>10981447850</td>\n",
       "      <td>momokama</td>\n",
       "      <td>鎌田です</td>\n",
       "      <td>2010-03-24 23:26:47</td>\n",
       "    </tr>\n",
       "    <tr>\n",
       "      <th>580851</th>\n",
       "      <td>10981621153</td>\n",
       "      <td>momokama</td>\n",
       "      <td>[USR]</td>\n",
       "      <td>2010-03-24 23:30:35</td>\n",
       "    </tr>\n",
       "    <tr>\n",
       "      <th>580852</th>\n",
       "      <td>10981883314</td>\n",
       "      <td>momokama</td>\n",
       "      <td>[USR] だだー</td>\n",
       "      <td>2010-03-24 23:36:16</td>\n",
       "    </tr>\n",
       "  </tbody>\n",
       "</table>\n",
       "</div>"
      ],
      "text/plain": [
       "           tweet_id   user_id       text                 time\n",
       "580842  10981153445  momokama     空白充けまい  2010-03-24 23:20:17\n",
       "580843  10981447850  momokama       鎌田です  2010-03-24 23:26:47\n",
       "580851  10981621153  momokama      [USR]  2010-03-24 23:30:35\n",
       "580852  10981883314  momokama  [USR] だだー  2010-03-24 23:36:16"
      ]
     },
     "execution_count": 5,
     "metadata": {},
     "output_type": "execute_result"
    }
   ],
   "source": [
    "# textが欠損値の行を削除\n",
    "df = df.dropna(subset=['text'])\n",
    "print(df.shape)\n",
    "df.loc[580842:580852, :]"
   ]
  },
  {
   "cell_type": "code",
   "execution_count": 6,
   "metadata": {},
   "outputs": [
    {
     "name": "stdout",
     "output_type": "stream",
     "text": [
      "581007\n"
     ]
    }
   ],
   "source": [
    "# データの読み込み\n",
    "# 欠損値を除いたdfからテキストデータを抽出\n",
    "data = load_text_dataset(df=df)\n",
    "# data = load_text_dataset(f\"{DATASET_PATH}/rever_top10_users.csv\")\n",
    "print(len(data['texts']))"
   ]
  },
  {
   "cell_type": "code",
   "execution_count": 12,
   "metadata": {},
   "outputs": [],
   "source": [
    "# 保存したモデルのディレクトリパス\n",
    "model_path = f\"{output_dir}/cl-tohoku/bert-base-japanese-v32023-10-17T21:30:33\"\n",
    "\n",
    "# モデルを読み込む\n",
    "model = BertForSequenceClassification.from_pretrained(model_path)\n",
    "\n",
    "MODEL_NAME = 'cl-tohoku/bert-base-japanese-v3'\n",
    "tokenizer = BertJapaneseTokenizer.from_pretrained(MODEL_NAME)"
   ]
  },
  {
   "cell_type": "code",
   "execution_count": 14,
   "metadata": {},
   "outputs": [],
   "source": [
    "# ModelPredictorクラスのインスタンスを作成\n",
    "predictor = ModelPredictor(model, device)"
   ]
  },
  {
   "cell_type": "code",
   "execution_count": 15,
   "metadata": {},
   "outputs": [],
   "source": [
    "# dataから行動ラベルを予測\n",
    "predictions = predictor.predict(data, tokenizer, MAX_LEN, BATCH_SIZE)"
   ]
  },
  {
   "cell_type": "code",
   "execution_count": 18,
   "metadata": {},
   "outputs": [
    {
     "data": {
      "text/plain": [
       "list"
      ]
     },
     "execution_count": 18,
     "metadata": {},
     "output_type": "execute_result"
    }
   ],
   "source": [
    "type(predictions)"
   ]
  },
  {
   "cell_type": "code",
   "execution_count": 19,
   "metadata": {},
   "outputs": [
    {
     "data": {
      "text/plain": [
       "'2023-10-18T17:40:08'"
      ]
     },
     "execution_count": 19,
     "metadata": {},
     "output_type": "execute_result"
    }
   ],
   "source": [
    "timestamp"
   ]
  },
  {
   "cell_type": "code",
   "execution_count": 20,
   "metadata": {},
   "outputs": [],
   "source": [
    "# pickleでpredictionsを保存\n",
    "# with open(f\"{output_dir}/4_class_predictions{timestamp}.pkl\", \"wb\") as f:\n",
    "#     pickle.dump(predictions, f)"
   ]
  },
  {
   "cell_type": "code",
   "execution_count": 9,
   "metadata": {},
   "outputs": [],
   "source": [
    "# pickleで保存したデータを読み込む\n",
    "with open(f\"{output_dir}/4_class_predictions2023-10-18T17:40:08.pkl\", \"rb\") as f:\n",
    "    predictions = pickle.load(f)"
   ]
  },
  {
   "cell_type": "code",
   "execution_count": 10,
   "metadata": {},
   "outputs": [
    {
     "data": {
      "text/plain": [
       "581007"
      ]
     },
     "execution_count": 10,
     "metadata": {},
     "output_type": "execute_result"
    }
   ],
   "source": [
    "len(predictions)"
   ]
  },
  {
   "cell_type": "code",
   "execution_count": 11,
   "metadata": {},
   "outputs": [
    {
     "data": {
      "text/plain": [
       "array([0., 0., 1., 0.], dtype=float32)"
      ]
     },
     "execution_count": 11,
     "metadata": {},
     "output_type": "execute_result"
    }
   ],
   "source": [
    "predictions[0]"
   ]
  },
  {
   "cell_type": "code",
   "execution_count": 12,
   "metadata": {},
   "outputs": [],
   "source": [
    "# predictionsに含まれている配列の要素をint型に変換\n",
    "predictions = [list(map(int, prediction)) for prediction in predictions]"
   ]
  },
  {
   "cell_type": "code",
   "execution_count": 13,
   "metadata": {},
   "outputs": [
    {
     "data": {
      "text/plain": [
       "[0, 0, 1, 0]"
      ]
     },
     "execution_count": 13,
     "metadata": {},
     "output_type": "execute_result"
    }
   ],
   "source": [
    "predictions[0]"
   ]
  },
  {
   "cell_type": "code",
   "execution_count": 14,
   "metadata": {},
   "outputs": [
    {
     "data": {
      "text/html": [
       "<div>\n",
       "<style scoped>\n",
       "    .dataframe tbody tr th:only-of-type {\n",
       "        vertical-align: middle;\n",
       "    }\n",
       "\n",
       "    .dataframe tbody tr th {\n",
       "        vertical-align: top;\n",
       "    }\n",
       "\n",
       "    .dataframe thead th {\n",
       "        text-align: right;\n",
       "    }\n",
       "</style>\n",
       "<table border=\"1\" class=\"dataframe\">\n",
       "  <thead>\n",
       "    <tr style=\"text-align: right;\">\n",
       "      <th></th>\n",
       "      <th>tweet_id</th>\n",
       "      <th>user_id</th>\n",
       "      <th>text</th>\n",
       "      <th>time</th>\n",
       "      <th>predictions</th>\n",
       "    </tr>\n",
       "  </thead>\n",
       "  <tbody>\n",
       "    <tr>\n",
       "      <th>580842</th>\n",
       "      <td>10981153445</td>\n",
       "      <td>momokama</td>\n",
       "      <td>空白充けまい</td>\n",
       "      <td>2010-03-24 23:20:17</td>\n",
       "      <td>[0, 0, 0, 1]</td>\n",
       "    </tr>\n",
       "    <tr>\n",
       "      <th>580843</th>\n",
       "      <td>10981447850</td>\n",
       "      <td>momokama</td>\n",
       "      <td>鎌田です</td>\n",
       "      <td>2010-03-24 23:26:47</td>\n",
       "      <td>[0, 1, 0, 0]</td>\n",
       "    </tr>\n",
       "    <tr>\n",
       "      <th>580851</th>\n",
       "      <td>10981621153</td>\n",
       "      <td>momokama</td>\n",
       "      <td>[USR]</td>\n",
       "      <td>2010-03-24 23:30:35</td>\n",
       "      <td>[0, 0, 0, 1]</td>\n",
       "    </tr>\n",
       "    <tr>\n",
       "      <th>580852</th>\n",
       "      <td>10981883314</td>\n",
       "      <td>momokama</td>\n",
       "      <td>[USR] だだー</td>\n",
       "      <td>2010-03-24 23:36:16</td>\n",
       "      <td>[0, 0, 0, 1]</td>\n",
       "    </tr>\n",
       "  </tbody>\n",
       "</table>\n",
       "</div>"
      ],
      "text/plain": [
       "           tweet_id   user_id       text                 time   predictions\n",
       "580842  10981153445  momokama     空白充けまい  2010-03-24 23:20:17  [0, 0, 0, 1]\n",
       "580843  10981447850  momokama       鎌田です  2010-03-24 23:26:47  [0, 1, 0, 0]\n",
       "580851  10981621153  momokama      [USR]  2010-03-24 23:30:35  [0, 0, 0, 1]\n",
       "580852  10981883314  momokama  [USR] だだー  2010-03-24 23:36:16  [0, 0, 0, 1]"
      ]
     },
     "execution_count": 14,
     "metadata": {},
     "output_type": "execute_result"
    }
   ],
   "source": [
    "# predictionsに対してdfのindexを付与\n",
    "df['predictions'] = predictions\n",
    "df.loc[580842:580852, :]"
   ]
  },
  {
   "cell_type": "code",
   "execution_count": 44,
   "metadata": {},
   "outputs": [],
   "source": [
    "# pickleでdfを保存\n",
    "# with open(f\"{output_dir}/4_class_predictions_dataframe{timestamp}.pkl\", \"wb\") as f:\n",
    "#     pickle.dump(df, f)"
   ]
  },
  {
   "cell_type": "code",
   "execution_count": 4,
   "metadata": {},
   "outputs": [],
   "source": [
    "# pickleで保存した予測ラベル付きdfを読み込む\n",
    "with open(f\"{output_dir}/4_class_predictions_dataframe2023-10-18T17:40:08.pkl\", \"rb\") as f:\n",
    "    df = pickle.load(f)"
   ]
  },
  {
   "cell_type": "code",
   "execution_count": 5,
   "metadata": {},
   "outputs": [
    {
     "data": {
      "text/html": [
       "<div>\n",
       "<style scoped>\n",
       "    .dataframe tbody tr th:only-of-type {\n",
       "        vertical-align: middle;\n",
       "    }\n",
       "\n",
       "    .dataframe tbody tr th {\n",
       "        vertical-align: top;\n",
       "    }\n",
       "\n",
       "    .dataframe thead th {\n",
       "        text-align: right;\n",
       "    }\n",
       "</style>\n",
       "<table border=\"1\" class=\"dataframe\">\n",
       "  <thead>\n",
       "    <tr style=\"text-align: right;\">\n",
       "      <th></th>\n",
       "      <th>tweet_id</th>\n",
       "      <th>user_id</th>\n",
       "      <th>text</th>\n",
       "      <th>time</th>\n",
       "      <th>predictions</th>\n",
       "    </tr>\n",
       "  </thead>\n",
       "  <tbody>\n",
       "    <tr>\n",
       "      <th>0</th>\n",
       "      <td>5376319513</td>\n",
       "      <td>azusa_soleil</td>\n",
       "      <td>[あおうさ＠日記(id:bluerabbit)][技術] #appengine のDatav...</td>\n",
       "      <td>2009-11-03 08:30:27</td>\n",
       "      <td>[0, 0, 1, 0]</td>\n",
       "    </tr>\n",
       "    <tr>\n",
       "      <th>1</th>\n",
       "      <td>5376319747</td>\n",
       "      <td>azusa_soleil</td>\n",
       "      <td>[あおうさ＠日記(id:bluerabbit)][技術] #appengine で一回に削除...</td>\n",
       "      <td>2009-11-03 08:30:27</td>\n",
       "      <td>[0, 0, 0, 1]</td>\n",
       "    </tr>\n",
       "    <tr>\n",
       "      <th>2</th>\n",
       "      <td>5376567248</td>\n",
       "      <td>azusa_soleil</td>\n",
       "      <td>[asahi.com]容疑者逃走護送車、後部座席は署員１人　「太っていて」 [URL]</td>\n",
       "      <td>2009-11-03 08:40:33</td>\n",
       "      <td>[0, 0, 1, 0]</td>\n",
       "    </tr>\n",
       "    <tr>\n",
       "      <th>3</th>\n",
       "      <td>5376567291</td>\n",
       "      <td>azusa_soleil</td>\n",
       "      <td>[CNN.com]Iran urged to respond to uranium plan...</td>\n",
       "      <td>2009-11-03 08:40:34</td>\n",
       "      <td>[0, 0, 0, 1]</td>\n",
       "    </tr>\n",
       "    <tr>\n",
       "      <th>4</th>\n",
       "      <td>5376567549</td>\n",
       "      <td>azusa_soleil</td>\n",
       "      <td>[CNN.com]Peace Corps to return to Sierra Leone...</td>\n",
       "      <td>2009-11-03 08:40:34</td>\n",
       "      <td>[0, 0, 0, 1]</td>\n",
       "    </tr>\n",
       "  </tbody>\n",
       "</table>\n",
       "</div>"
      ],
      "text/plain": [
       "     tweet_id       user_id  \\\n",
       "0  5376319513  azusa_soleil   \n",
       "1  5376319747  azusa_soleil   \n",
       "2  5376567248  azusa_soleil   \n",
       "3  5376567291  azusa_soleil   \n",
       "4  5376567549  azusa_soleil   \n",
       "\n",
       "                                                text                 time  \\\n",
       "0  [あおうさ＠日記(id:bluerabbit)][技術] #appengine のDatav...  2009-11-03 08:30:27   \n",
       "1  [あおうさ＠日記(id:bluerabbit)][技術] #appengine で一回に削除...  2009-11-03 08:30:27   \n",
       "2        [asahi.com]容疑者逃走護送車、後部座席は署員１人　「太っていて」 [URL]  2009-11-03 08:40:33   \n",
       "3  [CNN.com]Iran urged to respond to uranium plan...  2009-11-03 08:40:34   \n",
       "4  [CNN.com]Peace Corps to return to Sierra Leone...  2009-11-03 08:40:34   \n",
       "\n",
       "    predictions  \n",
       "0  [0, 0, 1, 0]  \n",
       "1  [0, 0, 0, 1]  \n",
       "2  [0, 0, 1, 0]  \n",
       "3  [0, 0, 0, 1]  \n",
       "4  [0, 0, 0, 1]  "
      ]
     },
     "execution_count": 5,
     "metadata": {},
     "output_type": "execute_result"
    }
   ],
   "source": [
    "df.head(5)"
   ]
  },
  {
   "cell_type": "code",
   "execution_count": 6,
   "metadata": {},
   "outputs": [],
   "source": [
    "# time列をdatetime型に変換\n",
    "df['time'] = pd.to_datetime(df['time'])"
   ]
  },
  {
   "cell_type": "code",
   "execution_count": 7,
   "metadata": {},
   "outputs": [
    {
     "data": {
      "text/plain": [
       "user_id\n",
       "michio_mukui      100261\n",
       "fmfm_collector     76923\n",
       "azusa_soleil       61537\n",
       "midnight_bot       59875\n",
       "googlenewsjp       56491\n",
       "gadget7a           55258\n",
       "c50cub96           47250\n",
       "kyubot             42896\n",
       "mariya_hc          40911\n",
       "momokama           39605\n",
       "Name: count, dtype: int64"
      ]
     },
     "execution_count": 7,
     "metadata": {},
     "output_type": "execute_result"
    }
   ],
   "source": [
    "df['user_id'].value_counts()"
   ]
  },
  {
   "cell_type": "code",
   "execution_count": 8,
   "metadata": {},
   "outputs": [
    {
     "data": {
      "text/plain": [
       "(47250, 5)"
      ]
     },
     "execution_count": 8,
     "metadata": {},
     "output_type": "execute_result"
    }
   ],
   "source": [
    "# michio_mukuiのツイートのみ抽出\n",
    "df_c50 = df[df['user_id'] == 'c50cub96']\n",
    "df_c50.shape"
   ]
  },
  {
   "cell_type": "code",
   "execution_count": 9,
   "metadata": {},
   "outputs": [
    {
     "data": {
      "text/html": [
       "<div>\n",
       "<style scoped>\n",
       "    .dataframe tbody tr th:only-of-type {\n",
       "        vertical-align: middle;\n",
       "    }\n",
       "\n",
       "    .dataframe tbody tr th {\n",
       "        vertical-align: top;\n",
       "    }\n",
       "\n",
       "    .dataframe thead th {\n",
       "        text-align: right;\n",
       "    }\n",
       "</style>\n",
       "<table border=\"1\" class=\"dataframe\">\n",
       "  <thead>\n",
       "    <tr style=\"text-align: right;\">\n",
       "      <th></th>\n",
       "      <th>tweet_id</th>\n",
       "      <th>user_id</th>\n",
       "      <th>text</th>\n",
       "      <th>time</th>\n",
       "      <th>predictions</th>\n",
       "    </tr>\n",
       "  </thead>\n",
       "  <tbody>\n",
       "    <tr>\n",
       "      <th>61537</th>\n",
       "      <td>5377216949</td>\n",
       "      <td>c50cub96</td>\n",
       "      <td>３日間「露出」という単語に違和感を感じずには得られないクソ寒い朝です、おはよう</td>\n",
       "      <td>2009-11-03 09:07:22</td>\n",
       "      <td>[0, 0, 0, 1]</td>\n",
       "    </tr>\n",
       "    <tr>\n",
       "      <th>61538</th>\n",
       "      <td>5377579847</td>\n",
       "      <td>c50cub96</td>\n",
       "      <td>[USR] おはー、今日はソロツーだw</td>\n",
       "      <td>2009-11-03 09:22:29</td>\n",
       "      <td>[0, 0, 0, 1]</td>\n",
       "    </tr>\n",
       "    <tr>\n",
       "      <th>61539</th>\n",
       "      <td>5377586623</td>\n",
       "      <td>c50cub96</td>\n",
       "      <td>分かりませんねえ、実際被害も出てるのに、おはようございます。  RT [USR] そう！しか...</td>\n",
       "      <td>2009-11-03 09:22:46</td>\n",
       "      <td>[0, 0, 0, 1]</td>\n",
       "    </tr>\n",
       "    <tr>\n",
       "      <th>61540</th>\n",
       "      <td>5377598334</td>\n",
       "      <td>c50cub96</td>\n",
       "      <td>風呂っていいね。つま先まで暖まる。</td>\n",
       "      <td>2009-11-03 09:23:15</td>\n",
       "      <td>[1, 0, 0, 0]</td>\n",
       "    </tr>\n",
       "    <tr>\n",
       "      <th>61541</th>\n",
       "      <td>5377738531</td>\n",
       "      <td>c50cub96</td>\n",
       "      <td>朝からpupaである。</td>\n",
       "      <td>2009-11-03 09:29:03</td>\n",
       "      <td>[1, 0, 0, 0]</td>\n",
       "    </tr>\n",
       "  </tbody>\n",
       "</table>\n",
       "</div>"
      ],
      "text/plain": [
       "         tweet_id   user_id  \\\n",
       "61537  5377216949  c50cub96   \n",
       "61538  5377579847  c50cub96   \n",
       "61539  5377586623  c50cub96   \n",
       "61540  5377598334  c50cub96   \n",
       "61541  5377738531  c50cub96   \n",
       "\n",
       "                                                    text                time  \\\n",
       "61537            ３日間「露出」という単語に違和感を感じずには得られないクソ寒い朝です、おはよう 2009-11-03 09:07:22   \n",
       "61538                                [USR] おはー、今日はソロツーだw 2009-11-03 09:22:29   \n",
       "61539  分かりませんねえ、実際被害も出てるのに、おはようございます。  RT [USR] そう！しか... 2009-11-03 09:22:46   \n",
       "61540                                  風呂っていいね。つま先まで暖まる。 2009-11-03 09:23:15   \n",
       "61541                                        朝からpupaである。 2009-11-03 09:29:03   \n",
       "\n",
       "        predictions  \n",
       "61537  [0, 0, 0, 1]  \n",
       "61538  [0, 0, 0, 1]  \n",
       "61539  [0, 0, 0, 1]  \n",
       "61540  [1, 0, 0, 0]  \n",
       "61541  [1, 0, 0, 0]  "
      ]
     },
     "execution_count": 9,
     "metadata": {},
     "output_type": "execute_result"
    }
   ],
   "source": [
    "df_c50.head(5)"
   ]
  },
  {
   "cell_type": "code",
   "execution_count": 10,
   "metadata": {},
   "outputs": [
    {
     "name": "stdout",
     "output_type": "stream",
     "text": [
      "<class 'pandas._libs.tslibs.timestamps.Timestamp'>\n",
      "2009-11-03\n"
     ]
    }
   ],
   "source": [
    "print(type(df_c50.loc[61537,'time']))\n",
    "print(df_c50.loc[61537,'time'].date())"
   ]
  },
  {
   "cell_type": "code",
   "execution_count": 16,
   "metadata": {},
   "outputs": [
    {
     "data": {
      "text/plain": [
       "pandas._libs.tslibs.timestamps.Timestamp"
      ]
     },
     "execution_count": 16,
     "metadata": {},
     "output_type": "execute_result"
    }
   ],
   "source": [
    "type(df_c50.loc[61537]['time'])"
   ]
  },
  {
   "cell_type": "code",
   "execution_count": 18,
   "metadata": {},
   "outputs": [
    {
     "name": "stdout",
     "output_type": "stream",
     "text": [
      "tweet_id\n",
      "user_id\n",
      "text\n",
      "time\n",
      "predictions\n"
     ]
    }
   ],
   "source": [
    "count = 0\n",
    "for data in df_c50:\n",
    "    print(data)\n",
    "    count += 1\n",
    "    if count == 10:\n",
    "        break"
   ]
  },
  {
   "cell_type": "code",
   "execution_count": null,
   "metadata": {},
   "outputs": [],
   "source": [
    "# df_c50から1行ずつ取り出して、日付と予測ラベルを取得\n",
    "dates = []\n",
    "labels = []\n",
    "for i in range(len(df_c50)):\n",
    "    date = df_c50.iloc[i]['time'].date()\n",
    "    label = df_c50.iloc[i]['predictions']\n",
    "    dates.append(date)\n",
    "    labels.append(label)"
   ]
  },
  {
   "cell_type": "code",
   "execution_count": 31,
   "metadata": {},
   "outputs": [
    {
     "data": {
      "image/png": "[encoded data removed]",
      "text/plain": [
       "<Figure size 1000x600 with 1 Axes>"
      ]
     },
     "metadata": {},
     "output_type": "display_data"
    }
   ],
   "source": [
    "plt.figure(figsize=(10, 6))\n",
    "\n",
    "# カラム名またはカテゴリ名のリスト\n",
    "column_names = [\"一次活動\", \"二次活動\", \"三次活動\", \"活動なし\"]\n",
    "\n",
    "# カウントを初期化\n",
    "count = 0\n",
    "\n",
    "# 各行について処理を行います。\n",
    "for i, row in df_c50.iterrows():\n",
    "    date = row['time']\n",
    "    predictions = row['predictions']\n",
    "    \n",
    "    # predictionsリスト内の各値をチェックします。\n",
    "    for j, value in enumerate(predictions):\n",
    "        if value == 1:\n",
    "            # '1'の場合、その位置にプロットを追加します。\n",
    "            plt.plot(date, j, 'ro')  # 'ro'は赤色のマーカーを意味します。\n",
    "    count += 1\n",
    "    if count == 1000:\n",
    "        break\n",
    "\n",
    "# グラフのタイトルとラベルを設定します。\n",
    "plt.title('c50cub96の日付毎の各行動ツイート数')\n",
    "plt.xlabel('Date')\n",
    "plt.ylabel('行動ラベル')\n",
    "\n",
    "# Y軸のティックラベルをカラム名に設定\n",
    "plt.yticks(range(len(column_names)), column_names)\n",
    "\n",
    "# Y軸のティックを整数に制限\n",
    "plt.gca().yaxis.set_major_locator(MaxNLocator(integer=True))\n",
    "\n",
    "# グリッドラインを表示\n",
    "plt.grid(True)\n",
    "\n",
    "# グラフを表示\n",
    "plt.tight_layout()  # ラベルが重ならないようにレイアウトを自動調整\n",
    "# グラフを表示します。\n",
    "plt.show()"
   ]
  },
  {
   "cell_type": "code",
   "execution_count": null,
   "metadata": {},
   "outputs": [],
   "source": []
  },
  {
   "cell_type": "code",
   "execution_count": null,
   "metadata": {},
   "outputs": [],
   "source": []
  },
  {
   "cell_type": "code",
   "execution_count": 13,
   "metadata": {},
   "outputs": [
    {
     "name": "stderr",
     "output_type": "stream",
     "text": [
      "/tmp/ipykernel_347944/2987747275.py:2: SettingWithCopyWarning: \n",
      "A value is trying to be set on a copy of a slice from a DataFrame.\n",
      "Try using .loc[row_indexer,col_indexer] = value instead\n",
      "\n",
      "See the caveats in the documentation: https://pandas.pydata.org/pandas-docs/stable/user_guide/indexing.html#returning-a-view-versus-a-copy\n",
      "  df_c50['time_year-month-day'] = df_c50['time'].dt.date\n"
     ]
    }
   ],
   "source": [
    "# 年，月，日を抽出し，新しい列を作成\n",
    "df_c50['time_year-month-day'] = df_c50['time'].dt.date"
   ]
  },
  {
   "cell_type": "code",
   "execution_count": 14,
   "metadata": {},
   "outputs": [
    {
     "data": {
      "text/html": [
       "<div>\n",
       "<style scoped>\n",
       "    .dataframe tbody tr th:only-of-type {\n",
       "        vertical-align: middle;\n",
       "    }\n",
       "\n",
       "    .dataframe tbody tr th {\n",
       "        vertical-align: top;\n",
       "    }\n",
       "\n",
       "    .dataframe thead th {\n",
       "        text-align: right;\n",
       "    }\n",
       "</style>\n",
       "<table border=\"1\" class=\"dataframe\">\n",
       "  <thead>\n",
       "    <tr style=\"text-align: right;\">\n",
       "      <th></th>\n",
       "      <th>tweet_id</th>\n",
       "      <th>user_id</th>\n",
       "      <th>text</th>\n",
       "      <th>time</th>\n",
       "      <th>predictions</th>\n",
       "      <th>time_year-month-day</th>\n",
       "    </tr>\n",
       "  </thead>\n",
       "  <tbody>\n",
       "    <tr>\n",
       "      <th>61537</th>\n",
       "      <td>5377216949</td>\n",
       "      <td>c50cub96</td>\n",
       "      <td>３日間「露出」という単語に違和感を感じずには得られないクソ寒い朝です、おはよう</td>\n",
       "      <td>2009-11-03 09:07:22</td>\n",
       "      <td>[0, 0, 0, 1]</td>\n",
       "      <td>2009-11-03</td>\n",
       "    </tr>\n",
       "    <tr>\n",
       "      <th>61538</th>\n",
       "      <td>5377579847</td>\n",
       "      <td>c50cub96</td>\n",
       "      <td>[USR] おはー、今日はソロツーだw</td>\n",
       "      <td>2009-11-03 09:22:29</td>\n",
       "      <td>[0, 0, 0, 1]</td>\n",
       "      <td>2009-11-03</td>\n",
       "    </tr>\n",
       "  </tbody>\n",
       "</table>\n",
       "</div>"
      ],
      "text/plain": [
       "         tweet_id   user_id                                     text  \\\n",
       "61537  5377216949  c50cub96  ３日間「露出」という単語に違和感を感じずには得られないクソ寒い朝です、おはよう   \n",
       "61538  5377579847  c50cub96                      [USR] おはー、今日はソロツーだw   \n",
       "\n",
       "                     time   predictions time_year-month-day  \n",
       "61537 2009-11-03 09:07:22  [0, 0, 0, 1]          2009-11-03  \n",
       "61538 2009-11-03 09:22:29  [0, 0, 0, 1]          2009-11-03  "
      ]
     },
     "execution_count": 14,
     "metadata": {},
     "output_type": "execute_result"
    }
   ],
   "source": [
    "df_c50.head(2)"
   ]
  },
  {
   "cell_type": "code",
   "execution_count": 52,
   "metadata": {},
   "outputs": [],
   "source": [
    "# 年月日毎にグループ化\n",
    "grouped = df_c50.groupby('time_year-month-day')"
   ]
  },
  {
   "cell_type": "code",
   "execution_count": 53,
   "metadata": {},
   "outputs": [],
   "source": [
    "def sum_predictions_vertically(df):\n",
    "    # 各リストの同じ位置の要素を足し合わせる\n",
    "    summed_list = [sum(x) for x in zip(*df['predictions'])]\n",
    "    return summed_list"
   ]
  },
  {
   "cell_type": "code",
   "execution_count": 54,
   "metadata": {},
   "outputs": [],
   "source": [
    "time_label = grouped.apply(sum_predictions_vertically)"
   ]
  },
  {
   "cell_type": "code",
   "execution_count": 55,
   "metadata": {},
   "outputs": [
    {
     "data": {
      "text/plain": [
       "pandas.core.series.Series"
      ]
     },
     "execution_count": 55,
     "metadata": {},
     "output_type": "execute_result"
    }
   ],
   "source": [
    "type(time_label)"
   ]
  },
  {
   "cell_type": "code",
   "execution_count": 56,
   "metadata": {},
   "outputs": [
    {
     "data": {
      "text/plain": [
       "time_year-month-day\n",
       "2009-11-03        [4, 5, 6, 35]\n",
       "2009-11-04      [9, 13, 15, 61]\n",
       "2009-11-05    [15, 11, 60, 259]\n",
       "2009-11-06    [30, 10, 77, 264]\n",
       "2009-11-07     [15, 13, 15, 66]\n",
       "                    ...        \n",
       "2010-03-21       [8, 6, 32, 89]\n",
       "2010-03-22       [4, 9, 30, 64]\n",
       "2010-03-23     [6, 30, 39, 137]\n",
       "2010-03-24    [10, 14, 42, 170]\n",
       "2010-03-25      [6, 3, 74, 173]\n",
       "Length: 143, dtype: object"
      ]
     },
     "execution_count": 56,
     "metadata": {},
     "output_type": "execute_result"
    }
   ],
   "source": [
    "time_label"
   ]
  },
  {
   "cell_type": "code",
   "execution_count": 57,
   "metadata": {},
   "outputs": [
    {
     "data": {
      "image/png": "[encoded data removed]",
      "text/plain": [
       "<Figure size 640x480 with 1 Axes>"
      ]
     },
     "metadata": {},
     "output_type": "display_data"
    }
   ],
   "source": [
    "count = 0\n",
    "dates = [] # 日付を格納するリスト\n",
    "\n",
    "# カラム名またはカテゴリ名のリスト\n",
    "column_names = [\"一次活動\", \"二次活動\", \"三次活動\", \"活動なし\"]\n",
    "\n",
    "# 各日付に対して複数のポイントをプロット\n",
    "for date, values in time_label.items():\n",
    "    count += 1\n",
    "    if count == 10:\n",
    "        break\n",
    "    for i, value in enumerate(values):\n",
    "        plt.scatter(date, i, s=value*10, marker='o', color='skyblue')  # 各値に対してポイントをプロット\n",
    "    dates.append(date)  # プロットされた日付をリストに追加\n",
    "\n",
    "# X軸のティックラベルを傾ける\n",
    "plt.xticks(dates, rotation=45)  # ここでrotationパラメータを設定\n",
    "\n",
    "# グラフのタイトルと軸ラベルを設定\n",
    "plt.title('日付毎の各行動ツイート数')\n",
    "plt.xlabel('Date')\n",
    "plt.ylabel('label')\n",
    "\n",
    "# Y軸のティックラベルをカラム名に設定\n",
    "plt.yticks(range(len(column_names)), column_names)\n",
    "\n",
    "# Y軸のティックを整数に制限\n",
    "plt.gca().yaxis.set_major_locator(MaxNLocator(integer=True))\n",
    "\n",
    "# グリッドラインを表示\n",
    "plt.grid(True)\n",
    "\n",
    "# グラフを表示\n",
    "plt.tight_layout()  # ラベルが重ならないようにレイアウトを自動調整"
   ]
  },
  {
   "cell_type": "code",
   "execution_count": null,
   "metadata": {},
   "outputs": [],
   "source": []
  },
  {
   "cell_type": "code",
   "execution_count": 34,
   "metadata": {},
   "outputs": [
    {
     "ename": "ValueError",
     "evalue": "setting an array element with a sequence.",
     "output_type": "error",
     "traceback": [
      "\u001b[0;31m---------------------------------------------------------------------------\u001b[0m",
      "\u001b[0;31mTypeError\u001b[0m                                 Traceback (most recent call last)",
      "\u001b[0;31mTypeError\u001b[0m: float() argument must be a string or a real number, not 'list'",
      "\nThe above exception was the direct cause of the following exception:\n",
      "\u001b[0;31mValueError\u001b[0m                                Traceback (most recent call last)",
      "\u001b[1;32m/home/is/akiyoshi-n/my-project/notebooks/4class.ipynb セル 40\u001b[0m line \u001b[0;36m1\n\u001b[1;32m     <a href='vscode-notebook-cell://ssh-remote%2Bkogecha/home/is/akiyoshi-n/my-project/notebooks/4class.ipynb#X62sdnNjb2RlLXJlbW90ZQ%3D%3D?line=12'>13</a>\u001b[0m fig \u001b[39m=\u001b[39m plt\u001b[39m.\u001b[39mfigure(figsize\u001b[39m=\u001b[39m(\u001b[39m20\u001b[39m, \u001b[39m10\u001b[39m))\n\u001b[1;32m     <a href='vscode-notebook-cell://ssh-remote%2Bkogecha/home/is/akiyoshi-n/my-project/notebooks/4class.ipynb#X62sdnNjb2RlLXJlbW90ZQ%3D%3D?line=13'>14</a>\u001b[0m ax \u001b[39m=\u001b[39m fig\u001b[39m.\u001b[39madd_subplot(\u001b[39m111\u001b[39m)\n\u001b[0;32m---> <a href='vscode-notebook-cell://ssh-remote%2Bkogecha/home/is/akiyoshi-n/my-project/notebooks/4class.ipynb#X62sdnNjb2RlLXJlbW90ZQ%3D%3D?line=14'>15</a>\u001b[0m ax\u001b[39m.\u001b[39;49mplot(x, y, marker\u001b[39m=\u001b[39;49m\u001b[39m'\u001b[39;49m\u001b[39mo\u001b[39;49m\u001b[39m'\u001b[39;49m, markersize\u001b[39m=\u001b[39;49m\u001b[39m20\u001b[39;49m)\n\u001b[1;32m     <a href='vscode-notebook-cell://ssh-remote%2Bkogecha/home/is/akiyoshi-n/my-project/notebooks/4class.ipynb#X62sdnNjb2RlLXJlbW90ZQ%3D%3D?line=15'>16</a>\u001b[0m ax\u001b[39m.\u001b[39mxaxis\u001b[39m.\u001b[39mset_major_locator(mdates\u001b[39m.\u001b[39mDayLocator(interval\u001b[39m=\u001b[39m\u001b[39m1\u001b[39m))\n\u001b[1;32m     <a href='vscode-notebook-cell://ssh-remote%2Bkogecha/home/is/akiyoshi-n/my-project/notebooks/4class.ipynb#X62sdnNjb2RlLXJlbW90ZQ%3D%3D?line=16'>17</a>\u001b[0m ax\u001b[39m.\u001b[39mxaxis\u001b[39m.\u001b[39mset_major_formatter(mdates\u001b[39m.\u001b[39mDateFormatter(\u001b[39m'\u001b[39m\u001b[39m%\u001b[39m\u001b[39mm-\u001b[39m\u001b[39m%d\u001b[39;00m\u001b[39m'\u001b[39m))\n",
      "File \u001b[0;32m~/my-project/.venv/lib/python3.11/site-packages/matplotlib/axes/_axes.py:1723\u001b[0m, in \u001b[0;36mAxes.plot\u001b[0;34m(self, scalex, scaley, data, *args, **kwargs)\u001b[0m\n\u001b[1;32m   1721\u001b[0m lines \u001b[39m=\u001b[39m [\u001b[39m*\u001b[39m\u001b[39mself\u001b[39m\u001b[39m.\u001b[39m_get_lines(\u001b[39mself\u001b[39m, \u001b[39m*\u001b[39margs, data\u001b[39m=\u001b[39mdata, \u001b[39m*\u001b[39m\u001b[39m*\u001b[39mkwargs)]\n\u001b[1;32m   1722\u001b[0m \u001b[39mfor\u001b[39;00m line \u001b[39min\u001b[39;00m lines:\n\u001b[0;32m-> 1723\u001b[0m     \u001b[39mself\u001b[39;49m\u001b[39m.\u001b[39;49madd_line(line)\n\u001b[1;32m   1724\u001b[0m \u001b[39mif\u001b[39;00m scalex:\n\u001b[1;32m   1725\u001b[0m     \u001b[39mself\u001b[39m\u001b[39m.\u001b[39m_request_autoscale_view(\u001b[39m\"\u001b[39m\u001b[39mx\u001b[39m\u001b[39m\"\u001b[39m)\n",
      "File \u001b[0;32m~/my-project/.venv/lib/python3.11/site-packages/matplotlib/axes/_base.py:2309\u001b[0m, in \u001b[0;36m_AxesBase.add_line\u001b[0;34m(self, line)\u001b[0m\n\u001b[1;32m   2306\u001b[0m \u001b[39mif\u001b[39;00m line\u001b[39m.\u001b[39mget_clip_path() \u001b[39mis\u001b[39;00m \u001b[39mNone\u001b[39;00m:\n\u001b[1;32m   2307\u001b[0m     line\u001b[39m.\u001b[39mset_clip_path(\u001b[39mself\u001b[39m\u001b[39m.\u001b[39mpatch)\n\u001b[0;32m-> 2309\u001b[0m \u001b[39mself\u001b[39;49m\u001b[39m.\u001b[39;49m_update_line_limits(line)\n\u001b[1;32m   2310\u001b[0m \u001b[39mif\u001b[39;00m \u001b[39mnot\u001b[39;00m line\u001b[39m.\u001b[39mget_label():\n\u001b[1;32m   2311\u001b[0m     line\u001b[39m.\u001b[39mset_label(\u001b[39mf\u001b[39m\u001b[39m'\u001b[39m\u001b[39m_child\u001b[39m\u001b[39m{\u001b[39;00m\u001b[39mlen\u001b[39m(\u001b[39mself\u001b[39m\u001b[39m.\u001b[39m_children)\u001b[39m}\u001b[39;00m\u001b[39m'\u001b[39m)\n",
      "File \u001b[0;32m~/my-project/.venv/lib/python3.11/site-packages/matplotlib/axes/_base.py:2332\u001b[0m, in \u001b[0;36m_AxesBase._update_line_limits\u001b[0;34m(self, line)\u001b[0m\n\u001b[1;32m   2328\u001b[0m \u001b[39mdef\u001b[39;00m \u001b[39m_update_line_limits\u001b[39m(\u001b[39mself\u001b[39m, line):\n\u001b[1;32m   2329\u001b[0m \u001b[39m    \u001b[39m\u001b[39m\"\"\"\u001b[39;00m\n\u001b[1;32m   2330\u001b[0m \u001b[39m    Figures out the data limit of the given line, updating self.dataLim.\u001b[39;00m\n\u001b[1;32m   2331\u001b[0m \u001b[39m    \"\"\"\u001b[39;00m\n\u001b[0;32m-> 2332\u001b[0m     path \u001b[39m=\u001b[39m line\u001b[39m.\u001b[39;49mget_path()\n\u001b[1;32m   2333\u001b[0m     \u001b[39mif\u001b[39;00m path\u001b[39m.\u001b[39mvertices\u001b[39m.\u001b[39msize \u001b[39m==\u001b[39m \u001b[39m0\u001b[39m:\n\u001b[1;32m   2334\u001b[0m         \u001b[39mreturn\u001b[39;00m\n",
      "File \u001b[0;32m~/my-project/.venv/lib/python3.11/site-packages/matplotlib/lines.py:1032\u001b[0m, in \u001b[0;36mLine2D.get_path\u001b[0;34m(self)\u001b[0m\n\u001b[1;32m   1030\u001b[0m \u001b[39m\u001b[39m\u001b[39m\"\"\"Return the `~matplotlib.path.Path` associated with this line.\"\"\"\u001b[39;00m\n\u001b[1;32m   1031\u001b[0m \u001b[39mif\u001b[39;00m \u001b[39mself\u001b[39m\u001b[39m.\u001b[39m_invalidy \u001b[39mor\u001b[39;00m \u001b[39mself\u001b[39m\u001b[39m.\u001b[39m_invalidx:\n\u001b[0;32m-> 1032\u001b[0m     \u001b[39mself\u001b[39;49m\u001b[39m.\u001b[39;49mrecache()\n\u001b[1;32m   1033\u001b[0m \u001b[39mreturn\u001b[39;00m \u001b[39mself\u001b[39m\u001b[39m.\u001b[39m_path\n",
      "File \u001b[0;32m~/my-project/.venv/lib/python3.11/site-packages/matplotlib/lines.py:674\u001b[0m, in \u001b[0;36mLine2D.recache\u001b[0;34m(self, always)\u001b[0m\n\u001b[1;32m    672\u001b[0m \u001b[39mif\u001b[39;00m always \u001b[39mor\u001b[39;00m \u001b[39mself\u001b[39m\u001b[39m.\u001b[39m_invalidy:\n\u001b[1;32m    673\u001b[0m     yconv \u001b[39m=\u001b[39m \u001b[39mself\u001b[39m\u001b[39m.\u001b[39mconvert_yunits(\u001b[39mself\u001b[39m\u001b[39m.\u001b[39m_yorig)\n\u001b[0;32m--> 674\u001b[0m     y \u001b[39m=\u001b[39m _to_unmasked_float_array(yconv)\u001b[39m.\u001b[39mravel()\n\u001b[1;32m    675\u001b[0m \u001b[39melse\u001b[39;00m:\n\u001b[1;32m    676\u001b[0m     y \u001b[39m=\u001b[39m \u001b[39mself\u001b[39m\u001b[39m.\u001b[39m_y\n",
      "File \u001b[0;32m~/my-project/.venv/lib/python3.11/site-packages/matplotlib/cbook.py:1345\u001b[0m, in \u001b[0;36m_to_unmasked_float_array\u001b[0;34m(x)\u001b[0m\n\u001b[1;32m   1343\u001b[0m     \u001b[39mreturn\u001b[39;00m np\u001b[39m.\u001b[39mma\u001b[39m.\u001b[39masarray(x, \u001b[39mfloat\u001b[39m)\u001b[39m.\u001b[39mfilled(np\u001b[39m.\u001b[39mnan)\n\u001b[1;32m   1344\u001b[0m \u001b[39melse\u001b[39;00m:\n\u001b[0;32m-> 1345\u001b[0m     \u001b[39mreturn\u001b[39;00m np\u001b[39m.\u001b[39masarray(x, \u001b[39mfloat\u001b[39m)\n",
      "\u001b[0;31mValueError\u001b[0m: setting an array element with a sequence."
     ]
    },
    {
     "data": {
      "image/png": "[encoded data removed]",
      "text/plain": [
       "<Figure size 2000x1000 with 1 Axes>"
      ]
     },
     "metadata": {},
     "output_type": "display_data"
    }
   ],
   "source": [
    "# 横軸を日付，縦軸を予測ラベルの合計値とするグラフを作成\n",
    "# 予測ラベルの合計値が大きければ大きいほどプロットを大きくする\n",
    "import matplotlib.pyplot as plt\n",
    "import matplotlib.dates as mdates\n",
    "import matplotlib.ticker as ticker\n",
    "\n",
    "# 日付を横軸に設定\n",
    "x = grouped['time_year-month-day'].first()\n",
    "# 予測ラベルの合計値を縦軸に設定\n",
    "y = grouped.apply(sum_predictions_vertically)\n",
    "\n",
    "# グラフの作成\n",
    "fig = plt.figure(figsize=(20, 10))\n",
    "ax = fig.add_subplot(111)\n",
    "ax.plot(x, y, marker='o', markersize=20)\n",
    "ax.xaxis.set_major_locator(mdates.DayLocator(interval=1))\n",
    "ax.xaxis.set_major_formatter(mdates.DateFormatter('%m-%d'))\n",
    "ax.yaxis.set_major_locator(ticker.MultipleLocator(1))\n",
    "ax.set_ylim(0, 4)\n",
    "ax.set_xlabel('date')\n",
    "ax.set_ylabel('sum of predictions')\n",
    "ax.set_title('sum of predictions by date')\n",
    "plt.show()"
   ]
  },
  {
   "cell_type": "code",
   "execution_count": 8,
   "metadata": {},
   "outputs": [],
   "source": [
    "# 関数内でのデータローダへの変更を確認\n",
    "MODEL_NAME = 'cl-tohoku/bert-base-japanese-v3'\n",
    "tokenizer = BertJapaneseTokenizer.from_pretrained(MODEL_NAME)\n",
    "encoding = preprocess_text_dataset(data, tokenizer, MAX_LEN)\n",
    "dataloader = DataLoader(encoding, BATCH_SIZE)\n",
    "for input_ids, attention_mask in dataloader:\n",
    "    print(len(input_ids))\n",
    "    print(len(attention_mask))\n",
    "    break"
   ]
  },
  {
   "cell_type": "code",
   "execution_count": null,
   "metadata": {},
   "outputs": [],
   "source": []
  }
 ],
 "metadata": {
  "kernelspec": {
   "display_name": ".venv",
   "language": "python",
   "name": "python3"
  },
  "language_info": {
   "codemirror_mode": {
    "name": "ipython",
    "version": 3
   },
   "file_extension": ".py",
   "mimetype": "text/x-python",
   "name": "python",
   "nbconvert_exporter": "python",
   "pygments_lexer": "ipython3",
   "version": "3.11.5"
  },
  "orig_nbformat": 4
 },
 "nbformat": 4,
 "nbformat_minor": 2
}

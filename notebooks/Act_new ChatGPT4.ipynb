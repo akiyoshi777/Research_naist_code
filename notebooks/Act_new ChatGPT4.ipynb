{
 "cells": [
  {
   "cell_type": "markdown",
   "metadata": {},
   "source": [
    "このノートブックではツイートデータの「活動あり」，「活動なし」への２クラス分類タスクに取り組む<br>"
   ]
  },
  {
   "cell_type": "markdown",
   "metadata": {},
   "source": [
    "# 目次\n",
    "1. [基本設定](#section1)\n",
    "    - [使用ライブラリ](#section1-1)\n",
    "    - [使用データセット, 出力パス指定](#section1-2)\n",
    "    - [パラメータの設定](#section1-3)\n",
    "2. [実験的な予測](#section2)\n",
    "    - 2.1 [使用データの読み込み](#section2-1)\n",
    "    - 2.2 [使用モデル](#section2-2)\n",
    "    - 2.3 [実験に使用するデータを訓練用と評価用に分割（テストなし）](#section2-3)\n",
    "    - 2.4 [モデル学習](#section2-4)\n",
    "    - 2.5 [評価データを用いた評価](#section2-5)\n",
    "    - 2.6 [wandb終了](#section2-6)\n",
    "3. [Cross validation](#section3-1)"
   ]
  },
  {
   "cell_type": "markdown",
   "metadata": {},
   "source": [
    "<a id=\"section1\"></a>\n",
    "## 1. 基本設定"
   ]
  },
  {
   "cell_type": "code",
   "execution_count": 1,
   "metadata": {},
   "outputs": [
    {
     "name": "stdout",
     "output_type": "stream",
     "text": [
      "/home/is/akiyoshi-n/my-project\n"
     ]
    }
   ],
   "source": [
    "cd .."
   ]
  },
  {
   "cell_type": "markdown",
   "metadata": {},
   "source": [
    "<a id='section1-1'></a>\n",
    "### 使用ライブラリ"
   ]
  },
  {
   "cell_type": "code",
   "execution_count": 2,
   "metadata": {},
   "outputs": [],
   "source": [
    "import os\n",
    "# 使用するGPUを指定. この環境変数の場所は，pytorchをimportする前に入れる\n",
    "os.environ[\"CUDA_VISIBLE_DEVICES\"] = \"0\"\n",
    "from pathlib import Path\n",
    "from datetime import datetime\n",
    "from src.my_project.dataset import load_dataset_2class_classification, split_test_data, load_text_dataset, load_dataset_2class_classification_v2, split_test_data_stratify\n",
    "from src.my_project.train_v2 import ActClassifier\n",
    "from sklearn.model_selection import train_test_split\n",
    "import wandb\n",
    "from sklearn.metrics import accuracy_score, f1_score, recall_score, precision_score"
   ]
  },
  {
   "cell_type": "markdown",
   "metadata": {},
   "source": [
    "<a id='section1-2'></a>\n",
    "### 使用データセット, 出力パス指定"
   ]
  },
  {
   "cell_type": "code",
   "execution_count": 3,
   "metadata": {},
   "outputs": [],
   "source": [
    "DATASET_PATH = Path('/home/is/akiyoshi-n/my-project/data')\n",
    "# 本日の日付\n",
    "timestamp = datetime.now().strftime(\"%Y-%m-%d\")\n",
    "# 出力先ディレクトリ\n",
    "output_dir = Path('/home/is/akiyoshi-n/my-project/outputs/{}'.format(timestamp))"
   ]
  },
  {
   "cell_type": "markdown",
   "metadata": {},
   "source": [
    "<a id='section1-3'></a>\n",
    "### パラメータの設定"
   ]
  },
  {
   "cell_type": "code",
   "execution_count": 4,
   "metadata": {},
   "outputs": [],
   "source": [
    "# 最大トークン数\n",
    "MAX_LEN = 128\n",
    "# バッチサイズ\n",
    "BATCH_SIZE = 16\n",
    "# エポック数\n",
    "NUM_EPOCHS = 100\n",
    "# 学習率\n",
    "LEARNING_RATE = 2e-5\n",
    "# Cross Validation時のFold数\n",
    "NUM_FOLDS = 5\n",
    "# 早期停止のための忍耐値\n",
    "PATIENCE = 2\n",
    "# 乱数シード\n",
    "SEED = 2023\n",
    "# クラス数\n",
    "NUM_LABELS = 2"
   ]
  },
  {
   "cell_type": "markdown",
   "metadata": {},
   "source": [
    "<a id='section2'></a>\n",
    "## 2. 実験的な予測"
   ]
  },
  {
   "cell_type": "markdown",
   "metadata": {},
   "source": [
    "<a id='section2-1'></a>\n",
    "### 2.1 使用データの読み込み"
   ]
  },
  {
   "cell_type": "code",
   "execution_count": 5,
   "metadata": {},
   "outputs": [],
   "source": [
    "# 辞書型でデータ取得\n",
    "data = load_dataset_2class_classification(f\"{DATASET_PATH}/act_classification_final.xlsx\")"
   ]
  },
  {
   "cell_type": "markdown",
   "metadata": {},
   "source": [
    "<a id='section2-2'></a>\n",
    "### 2.2 使用モデル"
   ]
  },
  {
   "cell_type": "code",
   "execution_count": 6,
   "metadata": {},
   "outputs": [],
   "source": [
    "# 東北大BERT-v3\n",
    "MODEL_NAME = 'cl-tohoku/bert-base-japanese-v3'\n",
    "Classifier_model = ActClassifier(model_name = MODEL_NAME, num_labels=NUM_LABELS, seed=SEED)"
   ]
  },
  {
   "cell_type": "markdown",
   "metadata": {},
   "source": [
    "<a id='section2-3'></a>\n",
    "### 2.3 実験に使用するデータを訓練用と評価用に分割（テストなし）"
   ]
  },
  {
   "cell_type": "code",
   "execution_count": 7,
   "metadata": {},
   "outputs": [],
   "source": [
    "# 訓練データと評価データを辞書型で抽出\n",
    "train_dataset = {\n",
    "    'texts': [data['texts'][i] for i in range(900)],\n",
    "    'labels': [data['labels'][i] for i in range(900)]\n",
    "}\n",
    "eval_dataset = {\n",
    "    'texts': [data['texts'][i] for i in range(900, 1100)],\n",
    "    'labels': [data['labels'][i] for i in range(900, 1100)]\n",
    "}"
   ]
  },
  {
   "cell_type": "markdown",
   "metadata": {},
   "source": [
    "<a id='section2-4'></a>\n",
    "### 2.4 model学習"
   ]
  },
  {
   "cell_type": "code",
   "execution_count": 8,
   "metadata": {},
   "outputs": [
    {
     "name": "stderr",
     "output_type": "stream",
     "text": [
      "Some weights of BertForSequenceClassification were not initialized from the model checkpoint at cl-tohoku/bert-base-japanese-v3 and are newly initialized: ['classifier.weight', 'classifier.bias']\n",
      "You should probably TRAIN this model on a down-stream task to be able to use it for predictions and inference.\n",
      "Parameter 'fn_kwargs'={'tokenizer': BertJapaneseTokenizer(name_or_path='cl-tohoku/bert-base-japanese-v3', vocab_size=32768, model_max_length=512, is_fast=False, padding_side='right', truncation_side='right', special_tokens={'unk_token': '[UNK]', 'sep_token': '[SEP]', 'pad_token': '[PAD]', 'cls_token': '[CLS]', 'mask_token': '[MASK]'}, clean_up_tokenization_spaces=True),  added_tokens_decoder={\n",
      "\t0: AddedToken(\"[PAD]\", rstrip=False, lstrip=False, single_word=False, normalized=False, special=True),\n",
      "\t1: AddedToken(\"[UNK]\", rstrip=False, lstrip=False, single_word=False, normalized=False, special=True),\n",
      "\t2: AddedToken(\"[CLS]\", rstrip=False, lstrip=False, single_word=False, normalized=False, special=True),\n",
      "\t3: AddedToken(\"[SEP]\", rstrip=False, lstrip=False, single_word=False, normalized=False, special=True),\n",
      "\t4: AddedToken(\"[MASK]\", rstrip=False, lstrip=False, single_word=False, normalized=False, special=True),\n",
      "}, 'max_len': 128} of the transform datasets.arrow_dataset.Dataset._map_single couldn't be hashed properly, a random hash was used instead. Make sure your transforms and parameters are serializable with pickle or dill for the dataset fingerprinting and caching to work. If you reuse this transform, the caching mechanism will consider it to be different from the previous calls and recompute everything. This warning is only showed once. Subsequent hashing failures won't be showed.\n"
     ]
    },
    {
     "data": {
      "application/vnd.jupyter.widget-view+json": {
       "model_id": "129a8902c5f2438a9ed32cf6174378c1",
       "version_major": 2,
       "version_minor": 0
      },
      "text/plain": [
       "Map:   0%|          | 0/900 [00:00<?, ? examples/s]"
      ]
     },
     "metadata": {},
     "output_type": "display_data"
    },
    {
     "data": {
      "application/vnd.jupyter.widget-view+json": {
       "model_id": "f65e4055e2ba4d419897d872fc5f86b6",
       "version_major": 2,
       "version_minor": 0
      },
      "text/plain": [
       "Map:   0%|          | 0/200 [00:00<?, ? examples/s]"
      ]
     },
     "metadata": {},
     "output_type": "display_data"
    },
    {
     "data": {
      "text/html": [
       "\n",
       "    <div>\n",
       "      \n",
       "      <progress value='285' max='5700' style='width:300px; height:20px; vertical-align: middle;'></progress>\n",
       "      [ 285/5700 01:04 < 20:32, 4.39 it/s, Epoch 5/100]\n",
       "    </div>\n",
       "    <table border=\"1\" class=\"dataframe\">\n",
       "  <thead>\n",
       " <tr style=\"text-align: left;\">\n",
       "      <th>Epoch</th>\n",
       "      <th>Training Loss</th>\n",
       "      <th>Validation Loss</th>\n",
       "      <th>Accuracy</th>\n",
       "      <th>F1</th>\n",
       "    </tr>\n",
       "  </thead>\n",
       "  <tbody>\n",
       "    <tr>\n",
       "      <td>1</td>\n",
       "      <td>0.710000</td>\n",
       "      <td>0.691379</td>\n",
       "      <td>0.505000</td>\n",
       "      <td>0.497462</td>\n",
       "    </tr>\n",
       "    <tr>\n",
       "      <td>2</td>\n",
       "      <td>0.644400</td>\n",
       "      <td>0.623425</td>\n",
       "      <td>0.660000</td>\n",
       "      <td>0.476923</td>\n",
       "    </tr>\n",
       "    <tr>\n",
       "      <td>3</td>\n",
       "      <td>0.534500</td>\n",
       "      <td>0.617915</td>\n",
       "      <td>0.655000</td>\n",
       "      <td>0.524138</td>\n",
       "    </tr>\n",
       "    <tr>\n",
       "      <td>4</td>\n",
       "      <td>0.409900</td>\n",
       "      <td>0.628376</td>\n",
       "      <td>0.670000</td>\n",
       "      <td>0.576923</td>\n",
       "    </tr>\n",
       "    <tr>\n",
       "      <td>5</td>\n",
       "      <td>0.229700</td>\n",
       "      <td>0.800343</td>\n",
       "      <td>0.690000</td>\n",
       "      <td>0.575342</td>\n",
       "    </tr>\n",
       "  </tbody>\n",
       "</table><p>"
      ],
      "text/plain": [
       "<IPython.core.display.HTML object>"
      ]
     },
     "metadata": {},
     "output_type": "display_data"
    }
   ],
   "source": [
    "trainer = Classifier_model.train_model(train_dataset, eval_dataset, MAX_LEN, NUM_EPOCHS, LEARNING_RATE, BATCH_SIZE, PATIENCE, output_dir, project_name='ActClassification', run_name='test')"
   ]
  },
  {
   "cell_type": "code",
   "execution_count": 7,
   "metadata": {},
   "outputs": [],
   "source": [
    "import pandas as pd\n",
    "from transformers import AutoTokenizer\n",
    "from src.my_project.dataset import preprocess_for_Trainer\n",
    "import numpy as np\n",
    "# tokenizerの定義\n",
    "tokenizer = AutoTokenizer.from_pretrained(MODEL_NAME)\n",
    "column_names = ['Num_ID','Name','text','time']\n",
    "df = pd.read_csv(f\"{DATASET_PATH}/urso_users.txt\", sep='\\t', names=column_names)\n",
    "# # テキストデータを取得\n",
    "# texts = df['text'].values.tolist()\n",
    "# # テキストを含む辞書型のデータセットとして返す\n",
    "# test_dataset = {\n",
    "#     'texts': texts\n",
    "# }\n",
    "# # 辞書型をデータフレームに変換\n",
    "# test_dataset = preprocess_for_Trainer(test_dataset, tokenizer, max_len=MAX_LEN)"
   ]
  },
  {
   "cell_type": "code",
   "execution_count": 10,
   "metadata": {},
   "outputs": [
    {
     "data": {
      "text/html": [
       "<div>\n",
       "<style scoped>\n",
       "    .dataframe tbody tr th:only-of-type {\n",
       "        vertical-align: middle;\n",
       "    }\n",
       "\n",
       "    .dataframe tbody tr th {\n",
       "        vertical-align: top;\n",
       "    }\n",
       "\n",
       "    .dataframe thead th {\n",
       "        text-align: right;\n",
       "    }\n",
       "</style>\n",
       "<table border=\"1\" class=\"dataframe\">\n",
       "  <thead>\n",
       "    <tr style=\"text-align: right;\">\n",
       "      <th></th>\n",
       "      <th>Num_ID</th>\n",
       "      <th>Name</th>\n",
       "      <th>text</th>\n",
       "      <th>time</th>\n",
       "    </tr>\n",
       "  </thead>\n",
       "  <tbody>\n",
       "    <tr>\n",
       "      <th>0</th>\n",
       "      <td>5365228407</td>\n",
       "      <td>468251793</td>\n",
       "      <td>同意！ RT @yniimi: @468251793 自分は吸わないですが愛煙家の中で他人の...</td>\n",
       "      <td>2009-11-03 00:25:04</td>\n",
       "    </tr>\n",
       "    <tr>\n",
       "      <th>1</th>\n",
       "      <td>5365512833</td>\n",
       "      <td>468251793</td>\n",
       "      <td>みなさんおやすみなさい～。また明日。</td>\n",
       "      <td>2009-11-03 00:37:35</td>\n",
       "    </tr>\n",
       "    <tr>\n",
       "      <th>2</th>\n",
       "      <td>5375233193</td>\n",
       "      <td>468251793</td>\n",
       "      <td>おはようございます。今日は休みなので少し寝坊。</td>\n",
       "      <td>2009-11-03 07:45:41</td>\n",
       "    </tr>\n",
       "    <tr>\n",
       "      <th>3</th>\n",
       "      <td>5375293031</td>\n",
       "      <td>468251793</td>\n",
       "      <td>RT @TweetMedmail: Ukraine西部Ternopil, Lviv, Iva...</td>\n",
       "      <td>2009-11-03 07:48:12</td>\n",
       "    </tr>\n",
       "    <tr>\n",
       "      <th>4</th>\n",
       "      <td>5375348952</td>\n",
       "      <td>468251793</td>\n",
       "      <td>@Hurdy @mizu34 @mie_sama おはようございます。寒い！</td>\n",
       "      <td>2009-11-03 07:50:33</td>\n",
       "    </tr>\n",
       "    <tr>\n",
       "      <th>...</th>\n",
       "      <td>...</td>\n",
       "      <td>...</td>\n",
       "      <td>...</td>\n",
       "      <td>...</td>\n",
       "    </tr>\n",
       "    <tr>\n",
       "      <th>510264</th>\n",
       "      <td>11034722800</td>\n",
       "      <td>you1</td>\n",
       "      <td>仕事は俺と同じ夢を見てくれているんだろうか…。 RT @Consaneko: 仕事とともに泣...</td>\n",
       "      <td>2010-03-25 22:50:04</td>\n",
       "    </tr>\n",
       "    <tr>\n",
       "      <th>510265</th>\n",
       "      <td>11034768259</td>\n",
       "      <td>you1</td>\n",
       "      <td>@hitomi5310 いや絶対この発言するように仕向けたでしょ姐さんw</td>\n",
       "      <td>2010-03-25 22:51:05</td>\n",
       "    </tr>\n",
       "    <tr>\n",
       "      <th>510266</th>\n",
       "      <td>11035587060</td>\n",
       "      <td>you1</td>\n",
       "      <td>@hitomi5310 姐さんやっぱSだわ</td>\n",
       "      <td>2010-03-25 23:09:28</td>\n",
       "    </tr>\n",
       "    <tr>\n",
       "      <th>510267</th>\n",
       "      <td>11035699513</td>\n",
       "      <td>you1</td>\n",
       "      <td>かかか、かえるー</td>\n",
       "      <td>2010-03-25 23:12:00</td>\n",
       "    </tr>\n",
       "    <tr>\n",
       "      <th>510268</th>\n",
       "      <td>11035762407</td>\n",
       "      <td>you1</td>\n",
       "      <td>@rimse1009 ぐったりおつかれ</td>\n",
       "      <td>2010-03-25 23:13:25</td>\n",
       "    </tr>\n",
       "  </tbody>\n",
       "</table>\n",
       "<p>510269 rows × 4 columns</p>\n",
       "</div>"
      ],
      "text/plain": [
       "             Num_ID       Name  \\\n",
       "0        5365228407  468251793   \n",
       "1        5365512833  468251793   \n",
       "2        5375233193  468251793   \n",
       "3        5375293031  468251793   \n",
       "4        5375348952  468251793   \n",
       "...             ...        ...   \n",
       "510264  11034722800       you1   \n",
       "510265  11034768259       you1   \n",
       "510266  11035587060       you1   \n",
       "510267  11035699513       you1   \n",
       "510268  11035762407       you1   \n",
       "\n",
       "                                                     text                 time  \n",
       "0       同意！ RT @yniimi: @468251793 自分は吸わないですが愛煙家の中で他人の...  2009-11-03 00:25:04  \n",
       "1                                      みなさんおやすみなさい～。また明日。  2009-11-03 00:37:35  \n",
       "2                                 おはようございます。今日は休みなので少し寝坊。  2009-11-03 07:45:41  \n",
       "3       RT @TweetMedmail: Ukraine西部Ternopil, Lviv, Iva...  2009-11-03 07:48:12  \n",
       "4                  @Hurdy @mizu34 @mie_sama おはようございます。寒い！  2009-11-03 07:50:33  \n",
       "...                                                   ...                  ...  \n",
       "510264  仕事は俺と同じ夢を見てくれているんだろうか…。 RT @Consaneko: 仕事とともに泣...  2010-03-25 22:50:04  \n",
       "510265               @hitomi5310 いや絶対この発言するように仕向けたでしょ姐さんw  2010-03-25 22:51:05  \n",
       "510266                              @hitomi5310 姐さんやっぱSだわ  2010-03-25 23:09:28  \n",
       "510267                                           かかか、かえるー  2010-03-25 23:12:00  \n",
       "510268                                @rimse1009 ぐったりおつかれ  2010-03-25 23:13:25  \n",
       "\n",
       "[510269 rows x 4 columns]"
      ]
     },
     "execution_count": 10,
     "metadata": {},
     "output_type": "execute_result"
    }
   ],
   "source": [
    "df"
   ]
  },
  {
   "cell_type": "code",
   "execution_count": 16,
   "metadata": {},
   "outputs": [
    {
     "data": {
      "text/plain": [
       "Dataset({\n",
       "    features: ['texts', 'input_ids', 'token_type_ids', 'attention_mask'],\n",
       "    num_rows: 510269\n",
       "})"
      ]
     },
     "execution_count": 16,
     "metadata": {},
     "output_type": "execute_result"
    }
   ],
   "source": [
    "test_dataset"
   ]
  },
  {
   "cell_type": "code",
   "execution_count": 18,
   "metadata": {},
   "outputs": [],
   "source": [
    "import pickle\n",
    "# Datasetオブジェクトをpickleを使って保存\n",
    "with open(f\"{DATASET_PATH}/urso_Dataset_type.pkl\", 'wb') as f:\n",
    "    pickle.dump(test_dataset, f)"
   ]
  },
  {
   "cell_type": "code",
   "execution_count": 19,
   "metadata": {},
   "outputs": [],
   "source": [
    "with open(f'{DATASET_PATH}/urso_Dataset_type.pkl', 'rb') as f:\n",
    "    a = pickle.load(f)"
   ]
  },
  {
   "cell_type": "code",
   "execution_count": 22,
   "metadata": {},
   "outputs": [
    {
     "data": {
      "text/plain": [
       "['同意！ RT @yniimi: @468251793 自分は吸わないですが愛煙家の中で他人の煙は嫌いって自己中心的な方も居るそうでイラッとします。',\n",
       " 'みなさんおやすみなさい～。また明日。',\n",
       " 'おはようございます。今日は休みなので少し寝坊。',\n",
       " 'RT @TweetMedmail: Ukraine西部Ternopil, Lviv, Ivano-Frankivsk, Chernivtsiなどで新型インフルエンザによる入院、死者急増(WHO確認)。子ども1100人以上を含む2300人超が入院、ICU利用は子ども32人を含む13',\n",
       " '@Hurdy @mizu34 @mie_sama おはようございます。寒い！',\n",
       " '伊集院光さんがtwitter始めたようです。 RT @morishi_ss: 伊集院光だ！本人？とりあえずフォロー @HikaruIjuin',\n",
       " '雑誌なんかは全部電子書籍でもいいですね。 RT @jungalian: 免許更新の際に自動車教習所でもらうハンドブックなど講習の際に一度しか開かないので、そういうものが電子化されるといいですねRT @maruyama3: @mao3mao3 例えば、日本において現在発行されている',\n",
       " '予想通り風邪発症であります。これ以上悪化しないよう、今日は休養に専念します。',\n",
       " 'ありがとうございます。本当は悪寒、関節の違和感があったあたりで休めば良かったのですが、仕事で無理をしてしまいました。RT @yniimi: @468251793 お大事に',\n",
       " '上が30！よくぞご無事で・・・。RT @suizou: 嫌な感じがしたので、部屋持ちさんに報告。血圧と脈を取ってもらう。上が130を超えるくらい、普段は90。前にショックを起こした時はほとんど何も覚えていない（当たり前）。その時は上が30を切っていたから、ショックではないのかも。',\n",
       " '@maruyama3 元々デジタルデータなのですから、電子書籍にした方が出版社も利点が多いはず。',\n",
       " '@pluself アロマとかハーブは勤めてる所でも使っているので興味ありです。よろしくお願いします。',\n",
       " 'RT @47news: 速報:新型インフルに感染した６０代女性死亡と名古屋市が発表。国内の死者は疑い例も含め４７人目。 http://bit.ly/17n4iz',\n",
       " '彼女は頭が良いな。 RT @eikachan: とりあえず、心配なら検査薬使うか、医務室行くかがよいのでは？と思うのだが、まぁ直接妊娠の疑いに関して言われない限り、私も何も関与しないことにしよう。',\n",
       " '#ダライラマ来日_ 悩んでる人は是非一読を。精神科に来るより楽になれるかも！',\n",
       " '何が起こったのでしょうか RT @Hurdy: 僕のホットケーキ… 僕のホットケーキがぁー！！',\n",
       " 'RT @clione: そんな恐ろしいことが！－偽者の件、Twitter運営側の対応報告（題名訂正します） - WebScraping(仮 \"わたしの写真とプロフィールをまんまコピーしたkumi_iというアカウントができていたのです\" http://bit.ly/Hpu5S',\n",
       " 'ホットケーキを食べるムスカを想像して吹いた(笑) RT @Hurdy: @468251793 ムスカみたいな人が僕のホットケーキを全部たべちゃったんです',\n",
       " 'あれ、そんなにもらってた？ RT @mefimefi: \\u3000２０年度の医師の年収は、開業医である一般診療所の院長は平均２５２２万円で、病院勤務医の同１４５０万円の約１・７倍。、メフィメフィ・・・',\n",
       " '@qqdr ですよね・・・何かがおかしい。',\n",
       " '@bukkon そうなんですかねー。税金でだいぶ取られてるせいか、全然少ない感じなんですけど・・・',\n",
       " '@qqdr 大学病院とかだとそんなところですよね。',\n",
       " '初心者限定でfollowmeJP祭りだそうです！ RT @followmeJP: 【初心者】今夜限定企画！フォロワー20人以下で、積極的に相互フォロー＆交流をしたい人のアカウントを宣伝します。希望者は＠（返信）で「フォロワーさん求む」と送信を！ #followmeJP',\n",
       " 'twitterはフォロー&フォロワーが増えれば増えるほど面白くなってくると思うので支援！ #followmeJP',\n",
       " 'この方の仰ることは逐一もっともで感動する。 RT @kimuramoriyo: 政治は駆け引きだといわれる。実際そう思う。しかし重大なことを論じる場合には駆け引き以上のものが存在すると思う。ゲーム感覚で何かをするときはうまくゆかない。本音で論じることが自分に果たされた使命だと思う',\n",
       " 'いよいよメインで使っている2004年に買ったLavie Jの液晶がおかしくなってきた。次はA4ノートにしようと思うけど、どこのがいいかな・・・。',\n",
       " 'まだ解読してなかったのか。 RT @asahi: ブタのゲノム、解読に成功\\u3000日米英などの国際チーム  asahi.com 話題 http://tinyurl.com/y9fhr69',\n",
       " '何となく伝統で御机下にしていたが、改めて考えるとよく分からない。 RT @kaorit88: 侍史や机下に「御」をつけるのは正式なのでしょうか。よくわからないので、私は「御」はつけないようにしています。RT @NMTtky 医師同士の敬称は「御侍史」「御机下」が多い',\n",
       " 'あっ、そうなんですか。見てなかったです。というか、最近TV自体あまり見てない・・・。 RT @toshimitsu_h: この前タックルにも出られてましたよね。 RT @468251793: この方の仰ることは逐一もっともで感動する。 RT @kimuramoriyo: 政治は駆',\n",
       " 'そうでしたか！ でも周りの先生皆「御」をつけているので止めにくい。 RT @yukinojouhenge: 元来の意味からすると「御」は誤用です。 RT @468251793: 何となく伝統で御机下にしていたが、改めて考えるとよく分からない。 RT @kaorit88: 侍史や机',\n",
       " 'という事は、「◯◯先生 机下」と書くのが正しいですか？RT @kaorit88: ありがとうございました。助かります。RT @yukinojouhenge: 元来の意味からすると「御」は誤用です。 RT @468251793',\n",
       " '@mokadan_hiroto こちらこそー。',\n",
       " 'ありがとうございました！twitterしてなかったら一生気がつかなかったかも。 RT @yukinojouhenge: はい、それが正しいです。 RT @468251793: という事は、「◯◯先生 机下」と書くのが正しいですか？RT @kaorit88: ありがとうございました',\n",
       " '@kokoloveguam おやすみなさい！',\n",
       " '@sundayNA 大変ですよね・・・。',\n",
       " '@sundayNA 本当にそうだと思います。今できることをしていくしかないんですよね。',\n",
       " '早めに寝て風邪を治そう！おやすみなさい。',\n",
       " '@Zassyu @Marshal_Alloc おやすみなさーい。',\n",
       " '@mie_sama @yama_s @itm2525 ありがとうございます！おやすみなさい。',\n",
       " 'おはようございます。今日も寒いですね。',\n",
       " 'たぶん脳波のこと。電波というとなにか怪しい感じに・・・ RT @yuzuki_m: 猊下: ある程度の期間瞑想をすると、脳の電波にも変化が起こるという研究成果が出た。 #ダライラマ来日_',\n",
       " '医学的な分析とは違うんでしょうかね。 RT @yuzuki_m: 猊下: 密教では意識を様々に分析している。意識のあるとき、寝ているとき、深い眠りにあるとき、死にかけたとき、色々なレベルがあります。 #ダライラマ来日_',\n",
       " '辛い記憶は楽しい事で上書きしよう。身体を動かすのもおすすめ。',\n",
       " '「死にたい」と考えるのはいくらでもしても良い。その代わり、実行してはいけない。あなたの身体だけでなく心も傷つけ、自己嫌悪に陥る事になる。そして、周りの人をも遠ざけてしまう。',\n",
       " '@FW16 はじめまして、フォローありがとうございます。新しい向精神薬、期待してます！',\n",
       " '@getsstuckin 心の病気になってから自殺に至るまでは段階があり、まず先に死にたいという気持ちが現れます。死にたいという気持ちは人を殺したいという気持ちになっても罪にならないのと同じで、これ自体は悪ではありません。',\n",
       " '@getsstuckin しかし、真面目な人ほど「死にたいと思ってしまった自分」に対し罪悪感を覚えてしまい、余計に悩んでしまう事になります。死にたいと考える事は、ある意味では救いになり得ます。その事すら考えてはいけないというのは非常に辛い場合があるのです。',\n",
       " '是非見せて下さい！ RT @hiroyukinakano: もくもくと、作品のレンダリングしている。きれいすぎる。何度見ても飽きない。自然ってすごいなあ。タイトルは\\u3000美しい星\\u3000pacificってことにしようかな。',\n",
       " '@luvjunk_o 楽しそうだなあ。学生時代は辛い事も多かったけど、その時にしかない喜びもあった。満喫して下さい。',\n",
       " '@getsstuckin そのような時こそ精神科に来て下さい。医師には守秘義務がありますから、死についても安心して話す事が出来ます。RT @getsstuckin: @468251793 自己が消えてしまえばいいと思ったことはあるのですが，家族のことを考えればできない。そう考える',\n",
       " '無印良品がシュールなことをやっておられる RT @muji_net: ＜しりとりで無印良品８＞「クリームケース」→「スタッキングシェルフ」http://bit.ly/3I0E9j',\n",
       " '@amejistar あなたのつぶやきは誰かに影響を与えている。もちろん、私にも。',\n",
       " '@followmeJP #followJPのハッシュタグを入れた時は、まだフォロワーさんは80人強でした。さらに相互フォローリストにも載せてもらい今ではフォロワーさんは約5倍の400人強！followJPさんには本当に感謝しています…って通販番組のコメントみたいだ。',\n",
       " '@KaichiTamiya @followmeJP そうなんですよ。自分でもフォローさせてもらってますが、どんどん増えましたね。',\n",
       " '@choruswater よろしくお願いします！',\n",
       " '@s1023t @RayJanis こちらこそフォローありがとうございました。よろしくお願いします。',\n",
       " '@choruswater @kakkowarui よろしくお願いします！',\n",
       " '@yukinojouhenge @mizu34 ありがとうございます。長引かないで良かったです。',\n",
       " '@FW16 @gamitake1919 おはようございます。',\n",
       " 'RT @47news: 失明ラットが視覚回復\\u3000東北大、藻の遺伝子で http://bit.ly/1sMTJd',\n",
       " '同意。 RT @silversky12: twitterを楽しむコツってのにも、それでいいみたいにかいてありました。むしろもっと増やして諦めると楽に楽しめるのでは？ http://bit.ly/oc2dK RT @crowa960: 50フォローでTLを追い切れなくなる程度の情報',\n",
       " 'おめでとう！！！！  RT @RakutenMinnew: ヤンキースがＷシリーズ制覇、松井秀ＭＶＰ(読売新聞) - goo ニュース... http://tinyurl.com/yzzsgt6',\n",
       " '@haggie21 おめでとうございます！お仲間ですね。 RT @haggie21: というわけで、あいぼんデビュー予定。 加護ではない。',\n",
       " '面白い所に行きましたね。どうでした？健常者とは物を「見る」視点が違いそう。 RT @luvjunk_o: 盲人の方による写真展、はもちろん初めてで...展示数こそ少なかったけど、随分長い間お邪魔しました。♪Into Oblivion [Reunion] - Funeral For',\n",
       " '網膜色素変性症や加齢黄斑変性等に効果が期待できるようです。色は分からないままのようですが、モノクロのビデオみたいに見えるようになるのでは。RT @tthisachan: RT @47news: 失明ラットが視覚回復\\u3000東北大、藻の遺伝子で http://bit.ly/1sMTJd',\n",
       " '@luvjunk_o いいですね～。視覚に頼らない分、純粋に物を把握できるのかも。時間があったら行ってみたいです。',\n",
       " '@WhiteFamily0103 こんばんは。',\n",
       " '人間は道具によって自らの能力を拡張してきた。車は移動能力の拡張を、コンピューターやインターネットは脳の機能(記憶力、計算力、意思の伝達力等)の拡張をしていると言える。',\n",
       " 'さらにコンピューターはどんどん小型化し、常に持ち歩けるようになってきた。ここから先は想像だが、もっと未来には携帯するデバイスなしにiphoneのアプリのようなものを使用したり、ネットにつなげるようになるのかもしれない。その時、人間の精神はどう変化しているのだろうか。',\n",
       " '@ribbonmovement うん、応援しています！',\n",
       " 'うちにもあります。愛用中。 RT @IKEDA_MIKI: 電源いらずの加湿器 http://bit.ly/4eUsDF',\n",
       " '高校生ってこんなに大変だったっけ…。社会人になって良かったことは、テストがなくなったこと。テストは嫌だ…。 RT @luvjunk_o: 爆睡してしまった。これからやること→ベクトル平面図形、明日の英語テスト予習、世界史まとめ、塾の方の英語まとめ。土日は化学レポートしなくちゃ..',\n",
       " 'RT @fmfm_collector: RT dyrickforest: 「IQはサーチライトの明るさを測定する。しかし問題は、サーチライトでどこを照らすかということなのだ。」なるほど……：なぜ「IQが高い」は「賢い」を意味しないのか - スラッシュドット・ジャパン',\n",
       " '仰るとおりです。 RT @runeharst: 老人になっても素敵に生きたい。年を重ねても失わない美しさがある。見た目は老けて行くけれど、刻まれたシワは生きてきた歴史を物語れる。老いで恐れるのは、思考の柔軟性、行動力が衰える事だと思っている。',\n",
       " '@luvjunk_o すごいですね！自分は学校の近くに住んでいたし、勉強くらいしか真面目にしてなかったので(いや、勉強も真面目にしてたかな…)、尊敬します。luvjunk_oさんは周りから大人だって言われませんか？',\n",
       " '医学生なんですね！ご苦労さまです。私は細胞学と解剖学、循環器が苦手でした…。国試はなんとか一回で通りましたが、六年の時の統一テストでひどい成績で非常に焦ったおぼえがあります。でもまあ、人並みに出来ていれば通りますよ。目指せ偏差値50！',\n",
       " '私もそういう仕事をしてみたいです。 RT @arina21: 最近大学生が来るなあ。大学生支援とかやりたいなあ。',\n",
       " '@mie_sama おやすみなさい。',\n",
       " '私も寝ます。おやすみなさい。',\n",
       " '@yniimi @imemi_p おやすみなさいー。',\n",
       " 'おはようございます。起きなきゃ。',\n",
       " '@oz_grace @avekaz @Railsei こちらこそ、よろしくお願いします。',\n",
       " 'なるほど！ RT @ohkumaneko: スーツとYシャツを着てても、袖からシャツが出てこないのがいいですね。仕事柄、冬でも冷房をがんがん効かせた部屋に入る事があるので、重宝しそうです。RT @468251793: 9分丈…微妙に袖が短い？7分丈ならイメージできるんですけど。',\n",
       " 'O型リストに入りたいです、よろしく。 RT @gototakuhiro: O型の皆さんへ。僕はO型リスト作ってます。@gototakuhiro/ogata このリストに入りたい！という方はご連絡を！相互フォローも大歓迎です(^^ #Ogata',\n",
       " '@chakkiri こちらこそよろしくお願いします。お力になれるか分かりませんが、ダイレクトメールで詳しい情報を送って頂ければなんらかのお答えが出来ると思います。',\n",
       " 'テクノロジーはどんどん進化しているが、人間だけは何万年も前と同じ原始的なまま。そのギャップでみんな苦しんでいる気がする。',\n",
       " '本来人間のためにあるはずのテクノロジー及びテクノロジーによって作られたシステムに人間が適応を強いられている。それが現代文明の不幸なのではないか。例えば電気の発明がなければ日の出と共に起き、日の入りと共に寝る、自然な生活スタイルが維持されていたのに。ただ、もうそこには戻れない。',\n",
       " 'RT @tekusuke: 医療従事者＝金持ちってのはそろそろやめましょう。都市部（特に東京）には破産している病院・診療所が山ほどおりますよ。患者さんの要求水準が上がって、やれMRIだ内視鏡だと、設備投資が重い仕事になってますから、失敗時はハデに失敗します。',\n",
       " '同意。下着と靴下は愛用してます。あと、たまに見かけるスリムフィットのシャツ。 RT @patanori: ユニクロがダサいのは社長の趣味なのかな。インするシャツしかない、謎の柄Ｔ、難度高杉なビビッドカラー、丈が長すぎる、ウエストが寸胴等など インナーはとてもいいんですけどね。レデ',\n",
       " '@yellow_macaron よろしくお願いします！',\n",
       " '@_hiiragi フォローありがとうございます。',\n",
       " '@luvjunk_o 文体を見てると大人っぽいなと思うんですけどね。私もタイムマネジメントがうまい方ではないと思いますが、とりあえずすぐやらなくてはいけないもの、重要なものから先にやるようにしています。考えなくてもできるものは後に回すか、何かの合間にすると気分転換にもなります。',\n",
       " 'そういえば私もそうでした。こないだの当直はオールユニクロ。 RT @mmune: @468251793 私は室内着や当直時のTシャツ',\n",
       " 'その通りだと思います。下手にストレス発散の手段にしてしまうと依存的になってしまいます。 RT @27hiro: 自分で自分は飲めないと認めた方が楽だな。あとはストレス発散で飲まない方が良い。極限まで楽しんだり発散しようとして、結局飲み過ぎてあとで自己嫌悪になってストレス溜まるし。',\n",
       " '+Jはユニクロですね。デザイナーとのコラボだそうです。RT @frenchbluee: 「+J」は、ユニクロ？？ RT @468251793: そういえば私もそうでした。こないだの当直はオールユニクロ。 RT @mmune: @468251793 私は室内着や当直時のTシャツ',\n",
       " '当直用にこないだカーゴパンツ風のスウェットを買ったらあまりパジャマっぽくなくてなかなか良かったですよ。 RT @mmune: @468251793 ソフトなんとかTがお気に入りですが、ズボンの類はなかなか良いのがないのです',\n",
       " '悩みの原因を解決するのが一番ですが、悩みを人に話したり、運動することが次におすすめです。人に話しにくい時に多少お酒の力を借りるのは良いと思います。1人で飲んでもあまりストレス解消にはなりません。twitterで愚痴るのも良いかも！RT @27hiro: やはりそう思われますか！辛',\n",
       " '私も去年何枚か買いました！ RT @patanori: @468251793 インナーのユニクロ支持率高いですよね～。またこの冬もヒートテックインナー売れそう！',\n",
       " '9分丈…微妙に袖が短い？7分丈ならイメージできるんですけど。 RT @ohkumaneko: 今年は、男物の9分丈シャツがでるとのことなので、とりあえず明日見に行ってこようと思ってますRT @468251793: 私も去年何枚か買いました！',\n",
       " 'やっぱり結構暖かいです。こないだ着てみたら汗ばんでしまいました。 RT @mayu_e: ヒートテックって暖かいのかなー RT @468251793: 私も去年何枚か買いました！ RT @patanori: @468251793 インナーのユニクロ支持率高いですよね～。またこの冬',\n",
       " '消しても大丈夫ですよ。 RT @mayu_e: RTで文字数増えすぎた時はどうすればいいんだろ。下の方消してしまってもよいのか？',\n",
       " '血祭りてなんのことかと思ったら同じ血液型同士で語り合おうということらしい。 #Ogata',\n",
       " '同じく！だから野外のバーベキューとか苦手。 RT @katsumox: よく蚊に刺されるO型です。 #Ogata',\n",
       " '右 RT @kota_YA: 右 RT @kamiokan_de: 【急募】アンケート！iPhoneでTwitterやメールをする時、右手で打ちますか？左手で打ちますか？右or左でお答えください。RTで答えてもらえると嬉しいです！',\n",
       " 'twitterなので現実のいろんなことは気にせず楽しみましょう(笑)よろしく。 RT @Mommy0312: @468251793 血祭りやったら早速フォロー、ありがとうございます。しかもセンセイ...。しかも私はPD..。',\n",
       " '血液型占いにマジレスはせずおおらかに楽しむO型です。#Ogata',\n",
       " '急にフォローしてくださる方が増えて、全員にお返事できないのですが…フォローありがとうございます！！',\n",
       " '@qu_m @sayori27 @hirobeans フォローありがとうございます！よろしくお願いします。',\n",
       " 'みなさまおやすみなさい。私は明日仕事です… がんばります。',\n",
       " 'それではまた明日ー。',\n",
       " 'おはようございます。眠い。',\n",
       " 'さあ、出掛ける準備しよう。',\n",
       " '皆さんおはようございます。',\n",
       " '歯医者さんは患者さんの咳をモロに受けるから危ないですよね！ RT @holineko: 歯医者なんかカヤの外ですよー！ RT @mizu34: 精神科だって病院なのに。私が通ってる精神科も割当はバイアル二つでした。RT @468251793: 私は医師ですが、まだワクチンが回って',\n",
       " 'みんながつながり、みんなで喜ぶ。これがtwitterの醍醐味。おめでとうございます！RT @the_professor_c: あっ！気がついたらフォロワーさんが、２００人を越えている！！\\u3000うれしい！！\\u3000感謝！！\\u3000みなさん、いつもフォローありがとうございます。両手いっぱいの花束を贈',\n",
       " 'RT @47news: 医療関係者、新インフル感染死亡\\u3000茨城 http://bit.ly/8RGGt',\n",
       " '私は医師ですが、まだワクチンが回って来てません…。確かに精神科なんだけども。 RT @touko1544: 私の職場のパートさんのお姉さんが医療関係者なので、新型インフルの予防接種をしたそうな。でも、そのお姉さんは精神科勤務なのでそういうリスクは少ないんだって。よっぽど薬剤師さん',\n",
       " 'ゲームも面白いし、なによりすぐ欲しい情報にアクセス出来るのが便利。国産携帯の比ではありません。 RT @ogawakazuhiro: 回し者ではないですが、良さは使ってみて分かるのかも知れません。まさに欲しいという知覚→実際に買うという消費行動の境ですね',\n",
       " 'なので、当分マスクで自己防衛です… RT @mizu34: 精神科だって病院なのに。私が通ってる精神科も割当はバイアル二つでした。RT @468251793: 私は医師ですが、まだワクチンが回って来てません…。確かに精神科なんだけども。 RT @touko1544: 私の職場',\n",
       " '@touko1544 @sayori27 新聞で見た話ですけど、自治体によって配る基準がバラバラだそうです。なので必要な所に行き渡ってないと。',\n",
       " '@sayori27 @touko1544 @mizu34 もっと厚生労働省がきちんと管理して配布してくれないと。精神科は正直後回しで良いので、すぐに必要な所にはちゃんと回してあげて欲しいですね。',\n",
       " 'おめ！ RT @en_tsumo: おめ！ RT @npyan: おめ！ RT @takeshi1968: あっ！フォロワーさんが200を超えました！みなさんありがとうございます。なにかお礼でも差し上げたい気分ですが、つたない僕のつぶやきで勘弁してください。',\n",
       " '年代別フォローミー祭りもやってるようです！ RT @lupin_the_3rd: 【年代別フォローミー】同じ世代の友達を作りたい方を支援します。自分の世代のタグを選択してみてね。 #20dai #30dai #40dai #50dai 後は自由に作ってねｗ',\n",
       " 'RT @followmeJP: 本日限定【目指せフォロワー100＆200祭り～22時】90～99人、190～199人で壁を越えたい相互フォロー主義の人。 #followmeJP へ『目指せキリ番』の合言葉を入れてフォロー募集を！当アカウントでフォロー募集を支援',\n",
       " '確かに便利。 RT @suzukinao: RT @attrip Twitterのフォロー系で便利なツールまとめ http://bit.ly/2HZcn2',\n",
       " '@Saico315 こちらこそ！',\n",
       " 'むかーし読みました。 RT @mmune: 今更ながら\\u3000ディックの\\u3000アンドロイドは電気羊の夢を見るか\\u3000を買ってきた実は未読',\n",
       " '自分のフォロワーの増減がわかるサイト。どんな発言で増減したのかまで分かるのでちょっと怖い。ただ、自分がやってみたらかなり結果がアバウトでした。いきなり100人単位で増減してたりして。そんなに影響力ないです(笑) http://tweeteffect.com/',\n",
       " 'おめ！ RT @en_tsumo: おめ！ RT @miftnam: おめ！RT @chuan1kou3 おめ！RT @aomame: 祝！ RT @dis_irr: 気がつけば2200post越えてしまってたなう。',\n",
       " 'RT @hatebu: 費用０円で男の顔面5歳若返りする方法 わんこと (81 users) http://bit.ly/3wdxoX',\n",
       " '書けるかも RT @ARUERULA: 「人は何故自虐風自慢をするのか？」っていう本を誰か書いて。大ヒット間違いなし！',\n",
       " 'こういうことはみんなで喜びましょう！ RT @dis_irr: @468251793 うはー、ありがとうございます、ありがとうございます。',\n",
       " 'ご期待通り、おめ！(笑) RT @dis_irr: ここでとっくに2222越えてるとか書くとまた…(^^;;; RT: @468251793: こういうことはみんなで喜びましょう！ RT @dis_irr: @468251793 うはー、ありがとうございます、ありがとうございます',\n",
       " '@yonda4 アンガー・マネジメント 要するに怒りのコントロール法。認知行動療法という心理療法をベースにしているが、うまく一般向けに仕立てたなという感じ。タイトル、宣伝文句も上手い。',\n",
       " 'そうなんです。基本息抜きにやっております。よろしく。 RT @daibamboo: @468251793 フォローありがとうございます☆\\u3000お医者さんですか！？\\u3000これからも宜しくどうぞ～♪',\n",
       " '生理の前後にイライラしやすくなる女性は結構いるんですが、漢方的に言うと、血の巡りが悪くなって起こる症状。生理不順もある人におすすめなのが桂枝茯苓丸です。皮下の血行も良くなりシミやニキビにも効果がありますよ。 #189',\n",
       " 'よろしくお願いします！ RT @strangerxxx: @468251793 フォローありがとうございます よろしくです＾＾',\n",
       " '是非お試しを。桂枝茯苓丸の成分はシナモン、桃の種、牡丹の根、茯苓(キノコの一種)、芍薬の根で、血の巡りを良くする働きがあります。結構効くんですよね、これが。 #189 RT @aramiki: 私は極度に落ち込むんです…。',\n",
       " '明日は抗加齢医学会の勉強会。面白いことがあったら夜つぶやきます。ではおやすみなさい！',\n",
       " '@yoshirok お疲れさまです……',\n",
       " 'おはようございますく',\n",
       " '今日は抗加齢医学を学びに行って来ますよー。',\n",
       " '気が早い(笑) RT @luvjunk_o: @468251793 ありがとうございます！でもまだあと一週間先なんです笑。お天気よいといいですが。',\n",
       " 'ほんと？ RT @yh01: 雑学 RT @NOTE_MAN 【新生児の泣き声にも“訛り”】 http://bit.ly/47qVup',\n",
       " 'RT @yuhki23: 昨日、アメリカのプロレス番組のダイジェストを見ていたら、「まるでエヴァンゲリオンのように復活して反撃だ！」というアナウンサーの言葉があって、ぽかーんと',\n",
       " 'これはなんでしょう？ RT @atpons: 【速報】無理.jpブックマークレット開始。短縮ライフを快適に！使えた方は＠ください！\\u3000⇒\\u3000http://tinyurl.com/yjhvmce',\n",
       " 'RT @rose_m: 最近iPhoneを買われたフォロワーさんも多いので、またご紹介しておきますね。絵文字キーワード変換一覧表です。http://bit.ly/58nmG',\n",
       " 'しかし、最高のクオリティを期待していたのに最高のクオリティが提供されないと、失望する。常に良い評価を得る所は、人の期待を良い意味で裏切りますね。 RT @inadatomoyuki: 最高のものを最高のクオリティーで提供すると、人は感動する。',\n",
       " 'なるほど RT @brew_b: @matsuyou Memory Statusってアプリ、有料だけど必須ですよ、、動作が遅くなったり、語句選択がぎこちない時にiPhone使用のメモリをクリアできます( ´ ▽ ` )ﾉ http://twitpic.com/oqwo4',\n",
       " 'ありがとうございます。 RT @atpons: @468251793 無理.jpというのは…URL短縮サービスなんです。覚えやすいをテーマにしているので無理.jpとアドレスがなっております。ぜひお使いください。URLは日本語で、\\u3000http://無理.jp/ 】】】】\\u3000へどうぞ！',\n",
       " 'ブックマークした！ RT @matsuyou: RT @satoshi_c: iPhoneユーザーならこのサイト必見ですよ！\\u3000RT @matsuyou: 参考になります！！ http://ipodtouchlab.com/',\n",
       " '情報ありがとうございます！ RT @contax999: @468251793 \\u3000Spell Number というアプリを入れれば、メールでもメモでも絵文字が使えるようになります。使えるようにした後にアプリを削除しても継続して使えます。詳しい設定方法はレビューで確認して下さい。',\n",
       " 'Amazon何売ってるんでしょうね笑RT @yuzuki_m: このファミリー向け坐禅セットって商品の画像がやばすぎるwww http://bit.ly/1SVjra',\n",
       " '[アンチエイジング] 今日の抗加齢医学の勉強会の内容をかいつまんでつぶやきます。まずお断りしておくのは、抗加齢医学は新しい分野なので根拠に乏しい話もあります。全て鵜呑みにしないようによろしくお願いします。',\n",
       " '[アンチエイジング] まず、そもそも抗加齢医学とは、単に見た目を美しく保つだけの医学ではありません。加齢に伴う諸々の疾患を予防する医学です。結果、見た目も若く保てるということはありますが。',\n",
       " '[アンチエイジング] 今、この業界では長寿をもたらす手段として、⑴カロリー制限すること、⑵酸化ストレスをコントロールすることの2つの方法がおおむねコンセンサスを得られています。',\n",
       " '[アンチエイジング] ⑴のカロリー制限の根拠としては、通常の7割位のカロリー制限を行った動物の寿命が1.5倍ほど伸びたという実験結果があります。カロリー制限で長寿遺伝子が発現するのだそうです。ただし人間がそれをしようとすると栄養素が不足してしまうので、サプリの服用が推奨されてます',\n",
       " '[アンチエイジング] ⑵酸化ストレスというのは体内で発生する活性酸素によるダメージのことです。活性酸素は有益な働きもしますが、増えすぎると細胞や組織にダメージを与え病気の原因になります。活性酸素の発生の原因となるのは、大気汚染、放射線、紫外線、たばこ、ストレス等が知られています。',\n",
       " '[アンチエイジング] 水素は実は理想的な抗酸化物質なのだそうです。活性酸素にはいくつかの種類があり、生体に有益な作用をもたらすものもあります。強力な抗酸化物質を取りすぎるとこのような善玉の活性酸素も消去してしまいます。',\n",
       " '[アンチエイジング] しかし、水素は弱い抗酸化作用なので、細胞に100%有害な活性酸素しか消去しないらしいのです。しかも、細胞内にも容易に届きます。',\n",
       " '運動でも発生するのですが、適度な活性酸素の発生は体に良いようです。 RT @toshimic: 以前、運動によっても活性酸素が発生すると聞いたことがあるように思うのですが、どうなのでしょう？RT @468251793: [アンチエイジング] ⑵酸化ストレスというのは体内で発生する',\n",
       " 'やっぱり医学の話を一般向けに伝えるのは難しい！専門用語がネック。でも、一般向けに伝える努力はしないとね…',\n",
       " '結局の所食べすぎないこと、いろんな野菜や果物を積極的に摂ること、適度な運動でOKということでしょうか(笑) 余裕があったらマルチビタミン・ミネラル等のサプリを摂って、水素水は飲んでも良いんじゃないか(高いけど)というのが私の見解です。RT @Zassyu: どうすればいいの？',\n",
       " 'そうですね。個人によってもだいぶ差があるのですが、定期的な運動は効加齢学会でも推奨されていますから活性酸素はあまり気にせずやった方が良いでしょう。精神科的にもおすすめです。 RT @toshimic: ありがとうございます。適度な運動量ということになるんでしょうね。「適度」が難し',\n",
       " 'なんかそういう本があったようななかったような。 RT @niena666: @468251793 『医者に伝える痛みの擬音語』見たいな本ってありませんでした？逆に『医者の言った難しい言葉が判る本』とかあればいいのにｗ',\n",
       " '長々と付き合って下さった皆様、ありがとうございました。おやすみなさい！',\n",
       " 'おはようございます。',\n",
       " '@attoyou @daibamboo おはようございますー',\n",
       " '@mana_iwamoto 日本医科大学の太田成男先生が水素の第1人者なので、その辺から当たってみると良いと思います。逆に先生のほうで何か面白い情報があったらご教授下さい！',\n",
       " '@mikisihiho 手持ちの文献を当たってみましたが、「DMEA」に関する記載は見当たりませんでした。少なくとも抗加齢医学会でもまだポピュラーな話題ではないと思います。また何か分かったらお知らせします。',\n",
       " '@mikisihiho ちなみに昨日「水素」と書いたのは水素「分子」です。水素を食品添加物として認めているのはまだ日本だけだそうですよ。',\n",
       " '@daaishi これも説明すると非常に長くなるのですが、カロリー制限で長寿遺伝子がONになるんです。それを自分で実践してきたのが日野原先生。',\n",
       " '@luvjunk_o あるある！ そして品物を戻しに行く時の気まずさ…。',\n",
       " '@markdgibson @rod_Harper @stanleytang @GeekPolice @RobMcNealy @ShawnRobinson @techxav @nansen Thanks for following!',\n",
       " 'ありがとう！ RT @hirotakayama: おめでとう♪(o´∀｀b)b♪RT  @kiribansan @468251793 フォロワー数 800 番目は多分 zipsports でした。',\n",
       " '新しくフォローして下さった方々、ありがとうございます！よろしくお願いしますー。',\n",
       " '良いなあ。 RT @KaichiTamiya: 僕もいまーす。飛び込み歓迎！RT @ksorano: わたしもいますー  打ち合わせのはずが…笑 RT @gototakuhiro: ただいま、@dynamistar さんの1000人フォロワー記念の飲み会を赤坂見附の「あじる亭」',\n",
       " 'ありがたいですね、ほんとに。またマメ知識をつぶやいてまいります。 RT @sayori27: @468251793 おめでとうございます～',\n",
       " '面白そう RT @soeginta: ボクの結果は、精神年齢88歳って（爆）詳細年齢メーカーだと...。 http://usokomaker.com/nenrei/',\n",
       " '精神年齢80才で、肉体年齢5才って！ 体は子供、頭脳は老人… RT @dokudamy: @468251793 やってみたｗ',\n",
       " '同意 RT @neo_mx: 日本も、高速道路無料化より、公共交通網の最適化を考えた方がいい。 RT @tanpopomax: 環境に配慮して地下鉄料金を安く設定しているようですね。RT @neo_mx: ソウルの地下鉄は為替にもよりますが日本の半額。携帯も途切れず繋がります',\n",
       " 'これは知らなかったです！tres zen! RT @yuzuki_m: @468251793 曹洞宗は海外にもお寺がかなりありますので、外国人のお坊さんも多いですよ。フランスでは禅人気が高く、クールなことを「tres zen」と言ったりするらしいです。',\n",
       " 'おはようございます！',\n",
       " '昨夜フォローして下さった方々、ありがとうございます。こちらからもフォローさせて頂きました！',\n",
       " '@yukinojouhenge @daririn @Hurdy @about_3 おはようございます。',\n",
       " '@samsecurity おはようございます。',\n",
       " '@pa9mania はじめまして、よろしくお願いします。質問はお気軽にどうぞ。',\n",
       " 'さて、支度始めよう！',\n",
       " 'RT @tsuda: RT @fr_toen: ITmedia。デジ専用B-CASカードのユーザー登録制度を廃止。実質これで地デジB-CASは死ぬことが確定。http://tinyurl.com/yhh962x',\n",
       " '耳鳴りにはこれ！という漢方は残念ながらあんまり無いんですよね。まず耳鼻科でみてもらうのが良いと思います。疲れがたまっているとなりやすいです。RT @atsuko0427: @468251793 \\u3000最近忙しくて、たまに耳鳴りとか、なんかふあぁとか頭がするんです。。。',\n",
       " '仏教も欧米に！ RT @yuzuki_m: @derosa0929 @468251793 弟子丸泰仙という方が身一つで渡仏して空き地で一人坐禅するところからはじめて、フランス全土に広まるところまでされたそうです。合わせて聞いてみてください！',\n",
       " 'パニック障害には段階的曝露法という少しずつ不安に慣れさせるトレーニングを行う訳ですが、小谷野選手は頑張ったのでしょうね！ RT @pa9mania: 今日のブログ記事は、日ハムの小谷野選手のパニック障害について http://tinyurl.com/ylkbn53',\n",
       " 'もしかしたらtwitterのもたらす新しい人間関係のつながりで自殺者が減るかもしれないと夢想してみる。 RT @tw_news_jp: あなたの“つぶやき”が世界を救う!? 「Twitter」が、社会貢献のカタチを ...: 今年入って爆発http://bit.ly/355bOu',\n",
       " 'なるほど画期的！ こういうの自分で作ってみたいと思う。iphoneと本の合体「phonebook」RT @luvjunk_o: それにしてもPHONEBOOKって画期的http://tinyurl.com/yf38e65',\n",
       " '今日はTRAVATARが話題ですね。 すれ違った人のiphoneを渡り歩いて旅をするアバター。RT @happyyypez: これ、フリーアプリなんですね～！もう、ダウンロードしちゃいますっ！ (^-^)/ TRAVATAR  http://is.gd/4RAhX',\n",
       " '孤独感で死を考える人が多いので… RT @sayori27: 素敵な夢想～実現するといいですねー実現しろー☆RT @468251793: もしかしたらtwitterのもたらす新しい人間関係のつながりで自殺者が減るかもしれないと夢想してみる。',\n",
       " '本当にそうだと思います。 RT @pa9mania: @468251793 一年で試合出場が出来るようになった、と言うのはかなり驚異的な回復ぶりだと思います。記事を読むと、成功経験を自信につなげるのが上手だったように思えます。いくら成功しても、次の不安を考えてしまうものだとおもう',\n",
       " 'RT @iPodFanEdt: 『ツイッター 140文字が世界を変える』を含め、弊社書籍の一部をiPhoneアプリ化しております。ラインナップはこちらをご覧ください。 http://bit.ly/CxEOh',\n",
       " 'ある程度フォロー&フォロワーを多くしたほうがいいでしょうね。RT @momoka75: 逆に誰も呟かない時間帯に寂しくなったり、深夜のブロックやリムーブで深く落ち込む人もいるかも。 RT @468251793: 孤独感で死を考える人が多いので… RT @sayori27: 素敵な',\n",
       " 'うーん、そうですか。twitterはバラバラになった個が社会とつながりを持つ手段として非常に注目しているのですが、nyan666さんはどのような所で孤独感を感じますか？ RT @nyan666: Twitterでも孤独感を増してる俺みたいな人間は、もうどうしようもないな…',\n",
       " 'フォロー&フォロワーという気軽な関係でつながれるのが一番の利点だと思うのです。好きな時につぶやけるし、返事も好きな時で良いし。自分の出来る範囲で相互に支えあえるのではないかと。RT @momoka75: フォロー返しをしてくれる人を積極的にフォロー、ですね。→深夜の、って不要でさ',\n",
       " '@ororon こちらこそー！',\n",
       " '@nobsang @momoka75 そうですね、どのようなシステムにおいても一長一短があります。twitterをすることで逆に具合を悪くすることもあるでしょう。',\n",
       " '栄養ドリンクはカフェインが入ってると興奮して休めなくなるので、入ってないやつが良いですね。私はたまにルルの安いやつを飲んだりしてます。 RT @atsuko0427: @468251793  疲れてる時は、休養ですかね！…栄養ドリンクでお勧めありますか？',\n",
       " '栄養ドリンクは元気な人がもうひとがんばり！という時のものと、ちょっと元気がない、栄養を補充したい時のものと大きく分けて2種類ありますね。常用するものではないですが。 RT @atsuko0427: @468251793 \\u3000ルルの安いやつですか！ためしてみます＾＾\\u3000（そういう発想が',\n",
       " '[アンチエイジング] 先日の水素水の話の補足。利点：有害な活性酸素のみ除去する、細胞内のミトコンドリアまで素早く到達する、明らかな副作用は(今の所)ない 問題点:人での効果はエビデンス(根拠)が乏しい、どのくらい飲むのが適切か不明、高価、水素水はすぐに水素が気化する',\n",
       " '[アンチエイジング] 水素水の選びかた。 ⑴必ずアルミパウチまたはアルミ缶のものを選ぶ。水素分子はプラスチックを通り抜ける。⑵水素の含有量は0.8ppmくらいあるものを選ぶ。⑶活性水素、マイナス水素イオン等というものは存在しないのでそういう変なことが書いてある商品は選ばない。',\n",
       " '値段ほど効果はないと思ってます。やはり普段の生活が大事。 RT @atsuko0427: @468251793 \\u3000私は後者（？）のほうを購入してみます！いつも疑問に思うの、値段が高いのが効くのかしら？？',\n",
       " 'こちらこそありがとうございます！ RT @ororon: @468251793 フォローありがとうございます！',\n",
       " '@luvjunk_o 最近創作欲が溢れているので頑張ってみます！今の所アプリの知識は全くないけど！',\n",
       " '私もマンガのほうが好きです！ じっくりトリックを考える時間もあるし。RT @luvjunk_o: @ebdk69 マンガ読んでマンガ！マンガの方がずっとゲームの仕組みの完成度高いし秋山イケメソ！',\n",
       " 'さて、今日はおやすみなさい！',\n",
       " 'おはようございます！ちょっと寝坊。',\n",
       " '@anarchist_927 @mizu34_ @IcedOrangeTea おはようございます、仕事行ってきます！',\n",
       " 'RT @kimuramoriyo: 西洋医学も勿論必要だが、我が国には漢方医学というツールもある。WHOの国際疾病分類であるICDは2014年導入の11改訂版には漢方を導入することが決まっている。国際的な動きの中で、漢方医学の伝統地である我が国はまったく無関心である。',\n",
       " 'RT @kimuramoriyo: 効果としては今一つはっきりしないタミフルを乱用するのであれば、漢方を使うことを十分検討すべきであろう。タミフルには耐性が生じるが漢方には生じない。',\n",
       " 'RT @kimuramoriyo: 病院には医師や看護師など様々な職種が働いている。病院従事者数は100床あたり日本101人、英国704人、アメリカ504人、イタリア307人、ドイツ204人。これほどの人不足にありながら日本は世界最高水準の医療を提供している（World Heal',\n",
       " 'RT @kimuramoriyo: 病院の人で不足による労働負担が一番大きくなるのは、無制限に働く状況におかれた勤務医である。日本の勤務医の週平均勤務時間は70.3時間（厚労省）。ヨーロッパ諸国では40～50（OECD Health Working Papers)',\n",
       " 'そうですね。RT @iraniran8: 指導というより怒鳴り散らしたり傷つけるのは支配のような気がする。自分自身の傷や問題を自分で制御、ケア、管理しなければいけないところを小さな子供や弱い立場に当たり散らす。怒鳴り散らすのは本人の人格だそうです。',\n",
       " 'RT @iraniran8: 怒鳴り散らしたり、権力を使うと一時的に相手は言うことをきくようになります。ですが好きこのんで、信頼して、尊敬してと言うわけではなく恨みを残すものなんですね。権力や正論をつかう側は相手が言うことを聞くと自分の言い分が通るので好かれていると勘違いします。',\n",
       " '食べたいです RT @freebird0102: ＭajiでＫoiする里芋コロッケ作ってみました～http://bit.ly/1A8jMI',\n",
       " '面白いですね! 仏語勉強中なので機会があったら使ってみたいです。RT @mana_iwamoto: @468251793 フランス人は感情が表情にでやすいこともあり、、、、カッカしてそうな人を見ると、\"Reste Zen\"(Stay Zen＝穏やかに〜）とかよくいいますね。',\n",
       " 'ついにフォロワーさん888名！ありがとうございます！！びっくりです！ RT @wayarakasan: おめ！RT: @shin48: おめでとぉ♪RT @kiribansan: @468251793 フォロワー数 888 番目は多分 StartupPro でした。',\n",
       " 'そのほうがしっくりくる感じですね。 RT @derosa0929: フランス人にこの件を聞いてみましたが、彼が知る限りtres zenはvery relaxed とかpeacefulの意でクールとは異なる模様 RT @yuzuki_m: クールなことを「tres zen」',\n",
       " 'ありがとうございます！ RT @Mayanotopgun: オメ！RT @shin48: おめでとぉ♪RT @kiribansan: @468251793 フォロワー数 888 番目は多分 StartupPro でした。',\n",
       " 'あはははは、これ最高！思いついた人スゴイ！ じゅんこさんありがとう！一気にハッピーになりました。おもわずニヤニヤしてしまう。 RT @luvjunk_o: @468251793 今日見つけたんですがmouthoffってアプリみてください！面白い！',\n",
       " '本当、\"おもちゃ\"ですね。iphoneを使いはじめてから2ヶ月経ちますが、携帯は他に持っていることもあって、電話としては2回しか使ったことがないという衝撃の事実(笑) 。電話がかかってきてもうまく出られるか自信がありません。#iphone RT @luvjunk_o',\n",
       " 'twitterしてるといろんな人の考え方を知ることが出来て勉強になります。私も読んでみます。 RT @luvjunk_o: こんな本あるんですね！…今度読んでみまーす。RT @mocchicc: ギャル男からみたSFC http://bit.ly/4GxFJO',\n",
       " 'こちらこそよろしく！ RT @kekemaru: @468251793 ありがとうございます☆よろしくです！ #followmeJP',\n",
       " 'なるほど、そういうことですか。確かにTL見てても話題についていけないことがありますね。 RT @nyan666: @468251793 亀レスだけど、とにかくTLの人達がキャッキャウフフしてるのを横から眺めていると、どうしようもなく孤独感を感じる時がある。',\n",
       " '良いご両親ですね。普通の携帯持つより面白いし勉強にも役立ちます。確かに不便な所もあるけど、それも使いようですよね。RT @luvjunk_o: @468251793 わたしは高校生としては、親がかなりIT関連について寛大で、そのお陰でiPhoneにしてもらえました。周りではクラ',\n",
       " 'やはり高校生はメール即レスが基本ですか。でもじゅんこさんみたいな考え方の人もいるんですね。使い方上手だなあ。 RT @luvjunk_o: @468251793 例えば本当に沢山メールしたい人にしかMMSのアドレスを教えず、他の人はgoogleメールで返信も遅めとか。',\n",
       " 'iphoneのCMに出られそうな家族！お父さんにとって\"娘と共通の話題が増えた\"は大きなポイントですね。 RT @luvjunk_o: @468251793 家族全員iPhoneにして一番喜んでるのはきっと父ですね。…あとは娘と共通の話題が増えたって喜んでましたー笑',\n",
       " 'もっと強者がいらした。 RT @nono_bi: 私はまだ1回だけです。 RT @468251793: iphoneを使いはじめてから2ヶ月経ちますが、携帯は他に持っていることもあって、電話としては2回しか使ったことがないという衝撃の事実(笑) \\u3000#iphone',\n",
       " 'おいしそう！ RT @samurai_sod: おぉ、本格的。  RT @Chiharu_haru: ココナッツ牛乳プリン完成～～\\ue022 http://bit.ly/21XnqZ',\n",
       " 'たまに間違えて発信されることありますね。困り物です。RT @tthisachan: マックでtwitter 、私のiphoneは勝手に発信(意図せず発信状態に連れていかれるが正しい)は多発！です。 RT @468251793  RT @nono_bi',\n",
       " '新しくフォローして下さった方々、ありがとうございます。よろしくお願いいたします。',\n",
       " '今日は早めに休みます。おやすみなさい！',\n",
       " 'RT @mmune: @vitzy2009 抗癌剤もですね。本当に後のない癌患者さんに対する偽医療はさらにたちが悪いと思ってます。',\n",
       " 'おはようございます。雨は上がったようですね。',\n",
       " 'おめでとう!!!RT @akikoon: おぉぉぉめぇぇぇぇーーー‼‼‼ RT @eikachan めめめめめめ面接のオファーきたぁぁぁぁぁぁぁぁぁぁぁｌ!!!!!!!!!!!!!!!!あまりの驚き＆嬉しさに頭が熱くなった!!!!!!!!!!!!!!!頑張った甲斐があったょ…（涙',\n",
       " 'quickmark等のアプリでQRコードを読めるようになりますよ！ #iphone RT @brAin_1980: QRって今のところ敬遠がち。iPhone読めないから…。 RT @fshin2000: オフ会や勉強会で出会った人と簡単にﾌｫﾛﾜｰ登録しあうためのQRｺｰﾄﾞ表示',\n",
       " 'RT @_MKT_: 再つぶやき。。これは朗報！！！ アップル、承認待ちiPhoneアプリの進捗を提供開始  http://j.mp/3zGmEr',\n",
       " 'ライフハックか余計なお世話か。RT @chibalog: ショック RT @mango825: うげえええ\\u3000RT @sasanoha うわぁ。 RT @akihito: あなたの体重を Twitter でつぶやいてくれる体重計 http://ff.im/-bhMU8',\n",
       " 'こちらこそありがとうございます、よろしくお願いします。少しでもお役に立てれば幸いです。 RT @chokuzaru: @468251793 フォローありがとです♪よろしくおねがいします＾＾以前、少しだけ近い職業についていたので、お話にとっても興味あるかも。',\n",
       " '意外に知らない人が多そうなので再つぶやき。quickmark等のアプリでiphoneでもQRコードを読めるようになります！ #iphone',\n",
       " '私が使っているのは有料版ですが、無料版でも大丈夫のようです。 RT @akikoon: @468251793 こんにちは！情報ありがとうございます。quickmarkは無料版でも大丈夫ですか？',\n",
       " 'RT @haggie21: ステロイドは昔からあるおくすりで、50年以上の使用実績があり、多くの人々の命を救い、痛みを和らげてきました。 副作用はたくさん知られていますが、これは昔からある薬だから当たり前で、新しい薬のように思わぬ副作用で足をひっぱられることはありません。',\n",
       " 'RT @haggie21: ステロイドは、治療の最初に「必要な量を十分に」使うことが必要です。その後、副作用の危険を減らすために、最初使っていた量を徐々に減らしていきます。病気のいろいろな症状が良くなっても、いきなり中止することはありません',\n",
       " 'RT @haggie21: ステロイドを減らしていくと、効果が弱まって、病気が悪化してしまうこともあります。そうならないために、ステロイド以外の免疫抑制剤をいっしょに使って、ステロイドをなるべく早く減量する、という考え方もあります。',\n",
       " '@haggie21 ステロイドについてご説明ありがとうございました。普段あまり使わない薬なので勉強になりました！ #189',\n",
       " 'RT @mmune: うちの場合、ステロイド療法前にステロイドサイコーシスの話をがっちりする。「精神科の先生に見てもらい、向精神薬をがっちり使う可能性」のところを易感染並みにムンテラしておかないと、あとでトラブる',\n",
       " 'RT @mmune: @bukkon なんといっても、ステロイド使わないと仕方ないと納得させるのが大変ですよね。これはマスコミやら、偽医療やらのおかげ',\n",
       " 'なんだと… RT @01000000: RT @kmoriyama: おしっこ発電、無線で信号\\u3000立命館大、おむつに応用 http://tinyurl.com/yh7domw',\n",
       " 'アトピー等でステロイドで症状が収まっている人は、ステロイドを使い続けるのでしょうか。それとも漸減して止めるのでしょうか？ RT @mana_iwamoto: 皮膚科も同様です。さじ加減が腕の見せ所。RT @468251793 RT @haggie21: ステロイドは、治療の最初に',\n",
       " '私もお世話になってます！ RT @baobabunohana: RT @followmeJP: なかの人ながらに、祭りの効果は凄いですね。RT @okadao: およそ1時間30分の間に150人の方にフォローいただきました。ありがとうございました。#followmeJP',\n",
       " 'RT @mmune 偽医療とマスコミの共通点は「悪」を作ってそれを叩くことにあって、ステロ http://tl.gd/to5u',\n",
       " 'ご教授ありがとうございます！ RT @mana_iwamoto: 基本漸減で〜。リバウンドがひどいと入院コントロールもあり。RT @468251793 アトピーでステロイドで症状が収まっている人は、ステロイドを使い続けるのでしょうか。漸減して止めるのでしょうか？',\n",
       " '抗うつ薬は急に止めないでください。症状が軽いうちは悪化したことがわかりますが、一定のレベルを超えると分からなくなります。RT @niena666: @468251793\\u3000抗鬱薬とか急に止めると症状が悪化するって聞きますが、本人は悪化したことが気付けるものでしょうか？',\n",
       " '症状がなくなるという意味では治りますが、再発の危険が高いため、薬は飲み続けた方が安全です。その辺は糖尿病や高血圧と一緒です。RT @itm2525: @468251793 精神科の先生ということなので質問なんですが、双極性障害って本当に完治しないんですか？',\n",
       " '良くなってくると薬はいらないように感じますが、心の病気は再発しやすく、一度悪化するとまた治療に膨大な時間がかかりますから薬は主治医の指示に従って飲んだ方が良いです。 RT @niena666: @468251793 わかってはいるんですが、病院へ行くことが面倒に感じてきて',\n",
       " 'どんな人でも社会の中でなんらかの役割を持っているなと患者さん達を見ていて思う。',\n",
       " '#insomniacs 「不眠症の人々」というハッシュタグを見つけた。不眠症大会？とかやってるよ…。',\n",
       " 'バスソルトとかありますよね RT @kemokov: そういえばお風呂に塩を入れると温まるってここでどなたかお話してましたねー\\u3000今日みたいな日は試す価値あるかも！',\n",
       " '例えば病気が重く1人では何もできない人もいます。でもその人がいるからこそ成り立っている関係もあるし、学ぶべき事もたくさんあります。RT @itm2525: それはすごく思います。さっきの双極の人もすごく元気をくれます。不思議なもんです。RT @468251793:',\n",
       " 'お大事にして下さいね。 RT @niena666: @468251793 ありがとうございました。何とか頑張って病院に行ってみます。',\n",
       " 'お、どこのですか？ RT @aya_sakura: @468251793 バスソルト、昨日ついに買いましたｗもうすぐ届きます。',\n",
       " 'ありがと～！RT @happyyypez @468251793 おめでと～！',\n",
       " 'おはようございます。 #hayaoki #twioha',\n",
       " 'なんだか昨日くらいからtwitterサーバの調子が良くないような？なかなか繋がらないです。',\n",
       " 'ささやかれました(笑) RT @about_3 @468251793 おはようござい\\u3000ま\\u3000す\\u3000・・・・\\u3000ってささやきで・・・',\n",
       " '@harapekoaomusi 物を忘れる原因は様々あります。うつもその原因にはなりますが、harapekoaomusiさんがうつかどうかは診察してみないと分からないですね。お悩みのようでしたら病院に行かれる事をおすすめします。',\n",
       " '@HiroRainmaker こちらこそフォローありがとうございます。医者と言っても仕事を離れれば普通の人です。よろしくお願いします。',\n",
       " '@harapekoaomusi それなら良かったです！',\n",
       " '@harapekoaomusi 普通の返信とダイレクトメールを間違えてしまいました！失礼しました。',\n",
       " '日本人なら寿司？ RT @luvjunk_o: RT @delimiter: タリバンに拉致されたインド人「カレー作るよ！」→タリバン兵「マジうめえ！お前いい奴だな」→解放 http://tinyurl.com/yb2gso2 カレーは世界をすくうかもしれないな・・・',\n",
       " '某大学でカウンセリングをする事になり初出勤。久しぶりに学校の構内に入り、学生時代を思い出した。テストしないで良いのならまた大学生してみたい。',\n",
       " 'もっとフォロワーを集めるための50の方法（英語）\\u3000http://ow.ly/BOSD \\u3000#twitter #followmeJP',\n",
       " '結構面白かったので再送。英語だけどそんなに難しくないです。 「もっとフォロワーを集めるための50の方法」\\u3000http://ow.ly/BOSD \\u3000#twitter #followmeJP',\n",
       " 'そろそろtwitterの発言をまとめてブログにしようと思うんですけど、どこで開設するのが便利ですか？もしおすすめの所があれば教えて下さい。',\n",
       " '@HERIC0 @inbloom0421 ありがとうございます！でも、出来たらテーマ別に分けたいのです。twilogだと出来ないですよね？',\n",
       " '稲川さん、実は大ファンです(怪談の) RT @runeharst: こいつのつぶやきが危険だ！！！\\u3000http://tinyurl.com/yderu8n',\n",
       " '去年は接種したのにインフルになりました… RT @heropu: 毎年定期的にインフルワクチン接種しましょう。 http://srcrespiro.blogspot.com',\n",
       " 'フォロワーさん1000人まであと6人です！！  #followmeJP',\n",
       " 'いいえー、お返事ありがとうございました。それだけでも感謝です。 RT @inbloom0421 @468251793 twilogは確かにできないですね。お役に立てずすみません。Tweetを自動でテーマ分けとなるとハッシュタグ必須になるかもしれませんね。 #twitter',\n",
       " '@yahoro @moeka_y @sweenaswee ご支援ありがとうございます！ #followmeJP',\n",
       " '@kirenenco @SiriusArc7 @totototo4 @rowwave @fleur_bleu @hirotakayama 御支援ありがとうございました！1000突破しました～！！！',\n",
       " 'お気持ちだけでもうれしいです！ RT @white_tomato: きゃー、間にあわなかった。RT @468251793: つ、ついに夢の1000人達成！！！！みなさんご協力ありがとうございます！！！！次は目指せ10000人です！ #followmeJP  #twitter',\n",
       " 'ありがとうございますー！ RT @owata23: 祝！RT @468251793: つ、ついに夢の1000人達成！！！！みなさんご協力ありがとうございます！！！！  次は目指せ10000人です！  #followmeJP  #twitter 感謝！',\n",
       " '感謝の嵐！！ RT @yahoro: おめ！RT @owata23: 祝！RT @468251793: つ、ついに夢の1000人達成！！！！みなさんご協力ありがとうございます！！！！ 次は目指せ10000人です！ #followmeJP #twitter 感謝！',\n",
       " 'どうもありがとうございます!!!!! RT @the_professor_c: おめでとうございます！万歳！ RT @468251793: つ、ついに夢の1000人達成！！！！みなさんご協力ありがとうございます！！！！#followmeJP #twitter',\n",
       " 'ありがとうございます！ RT @fleur_bleu: おめでとうございます！！！すごい勢いですね！RT @468251793: つ、ついに夢の1000人達成！！！！みなさんご協力ありがとうございます！！！！ #followmeJP  #twitter 感謝！',\n",
       " '皆さんのおかげです！！ RT @amus_an: @468251793 Congratulations!!1000人突破おめでとうございますヽ(≧▽≦)/',\n",
       " 'ありがとうございます！twitterって本当に良いものですね～。 RT @mikurarara: @468251793 おめでとうございます！',\n",
       " 'ありがとうございます！ RT @oz_grace: おめ～RT @yahoro: おめ！RT @owata23: 祝！RT @468251793: つ、ついに夢の1000人達成！！！！みなさんご協力ありがとうございます！！！！  #followmeJP',\n",
       " 'なんとなくキリがいいのでおめでとうございます！RT @white_tomato: @468251793 おお、あたしNo.1011!',\n",
       " '@kitakatasr @mrk_iooi @Mommy031 ありがとうございます！ だんだん誰にreplyしたか分からなくなってきました(笑)',\n",
       " '@yama_s @rowwave @rin_u @nabekama @SiriusArc7 ありがとうございます！ これからもよろしくお願いします！',\n",
       " 'RT @nagayanhouse RT @2289staff 粒谷区住民票と粒谷区民パスに自動的にアカウントを入力してPDFを発行するシステムができました。 @kshigecchi さん、ありがとうございます！ http://twurl.nl/kwnc18 #2289',\n",
       " 'RT @gototakuhiro @2289staff 区民バスの新たな提携先です。Social Web2.0 Paty( @info_swp )の12月10日のイベント、粒谷区民は500円引きにしてくれるそうです。 #2289 #swp',\n",
       " '@luvjunk_o @chuan1kou3 @clock_shift ありがとうございます！ twitter始めて実はまだ19日目なのですが、1000以上の人とお知り合いになれました。twitterって不思議です。',\n",
       " '19日目で達成です！ありがとうございます。 RT @kotan @468251793 すごい～。つぃったー始めてどれ位の期間で偉業達成なのでしょうか？',\n",
       " 'おはようございます。',\n",
       " '仕事も一段楽したので、今日は休むことにします。おやすみなさい！',\n",
       " 'ネギ味噌おいしそう！お気に入り登録。ちょうどお腹が空いてきた。\\u3000RT @rose_m: . @sarnin 刻んだ葱と生姜を味噌に混ぜて、好みで砂糖や唐辛子を入れるだけです。(^^) ホントは一晩寝かすんですが、雑炊と一緒に少し食べちゃおうかと。',\n",
       " '先日、「米国ではBMI25.0～29.9までを”over weight”とし、肥満としていない」という話を聞いたのですが、もしご存知の方がいらっしゃったらお教えください。それを日本に当てはめると日本の肥満人口は全体の約3％で世界で最も肥満が少ない国になるそうです。 #189',\n",
       " '「恐怖の記憶」消す仕組み解明…ＰＴＳＤ治療にも（読売新聞）\\u3000 http://ow.ly/Cla4 \\u3000#189',\n",
       " 'ありがとうございます。「前肥満」ということはやはり「肥満」ではないということですね。内科の先生方はこのギャップをどう判断して対応しているのか気になったもので。\\u3000RT @fusow: WHOでは前肥満と呼んでますが。日本だと肥満1となります。',\n",
       " 'PTSDには決め手となる薬物がなかったので期待です。\\u3000RT @pa9mania: このニュースは一昨日の讀賣のサイトにありましたが、\\u3000 RT @468251793: 「恐怖の記憶」消す仕組み解明…ＰＴＳＤ治療にも http://ow.ly/Cla4 #189',\n",
       " '使える可能性はありそうです。\\u3000RT @pa9mania: パニック障害の治療にも有効と考えますが\\u3000 「恐怖の記憶」消す仕組み解明…ＰＴＳＤ治療にも http://ow.ly/Cla4 #189',\n",
       " 'なるほど、ありがとうございます。もう少し調べてみます。\\u3000RT @fusow: 内蔵脂肪がつきやすい日本人の特性に合わせて、独自にクラスをスライドさせたみたいですね RT @468251793: 内科の先生方はこのギャップをどう判断して対応しているのか気になったもので。',\n",
       " 'ごく単純に考えれば海馬の細胞が増えるのだから記憶が強化されそうなものですけどね。不思議です。これも元の論文を探してみようと思います。\\u3000RT @kodamatic: RT @468251793: 「恐怖の記憶」消す仕組み解明…\\u3000http://ow.ly/Cla4 \\u3000#189',\n",
       " '生命に危険が及ぶような事件・事故・災害などに巻き込まれると「心的外傷（トラウマ）」が生まれることがあります。それがしばらく経ってから特定の状況に対する恐怖、フラッシュバックなどの様々な症状を引き起こしたものを「PTSD」といいます。RT @kodamatic:',\n",
       " 'そうなってから独力で克服するのは相当困難です。ドラマみたいにはいかないと思います。トラウマのことを早期のうちに他人に話すことができる人はPTSDになりにくいようです。RT @kodamatic: @468251793 教えて下さい。PTSDっていうのは、…',\n",
       " '外反母趾を治す靴下ですね。これ気になってました。私は外反母趾ではありませんが\\u3000\\u3000RT @993G55: これ、何気に良さげだhttp://www.asahi.com/national/update/1112/OSK200911110157.html',\n",
       " 'meigenbot、いい事を言う。\\u3000RT @meigenbot: 弱い者ほど相手を許すことができない。 許すということは、強さの証だ \\u3000\\u3000マハトマ・ガンジー',\n",
       " '生きた英語を学べます。ぜひみなさんもフォローを！\\u3000RT @junfukumitsu: 《ツイッター英語》 TGIF ⇒「Thank God It’s Friday.（やったぁ！金曜日～！）」の短縮語。タグ「#TGIF」を使った例はこちら→ http://bit.ly/3wnTpY',\n",
       " 'こちらこそ勉強させていただいてます。tweets楽しみにしてます！\\u3000RT @junfukumitsu: @468251793 ご紹介RTどうもありがとうございました！&lt;(_ _)&gt;',\n",
       " 'トリビア！ RT @kj_hashi: アメリカではスーパーマーケットでワクチン接種ができる。',\n",
       " '恋心は厳密な意味でのトラウマにはなりませんが、強い感情を伴う記憶は長い間残ります。\\u3000RT @kodamatic: @468251793 恋心は知らぬ間にトラウマになるんですかね。',\n",
       " '不安や恐怖は繰り返し体験すると慣れて感じなくなります。電車でパニック障害を起こした人は電車に乗るのを避けようとしますが、これは逆効果だし、行動範囲を狭めます。出来そうなところから段階的に不安に慣れていかなければなりません。例えば最初は各駅停車に乗り、次に急行に乗るとか。',\n",
       " 'おめ！！ RT @ykubo おめ！RT @kiribansan: @468251793 フォロワー数 1,111 番目は多分 kasutimpian でした。',\n",
       " '多くの人が安全と考える場面を危険と判断し不安になるのがパニック障害。再度「安全である」と認識できるまで繰り返し体験する必要があるのです。RT @kotan @468251793 友達は…それ以来パニック障害とおつき合い中です。ふむふむ、少しずつ慣らしていくのが良いのですね。',\n",
       " 'その通りです。でも、現実世界では会えない大勢の人と関わりが持てるのはtwitterならではの体験ですよ！ RT @mark4033 後、27人で、300人フォロー達成でーす！でも、フォローの数で競っても意味がない気がしてきた。  #followmeJP',\n",
       " 'そういうことです！ RT @loudelephant @468251793 本当に危険な時にパニックになるのは病気でもなんでもないですからね。',\n",
       " '私も昨日知りました。RT @brAin_1980: ついっこ、初めて知った。http://twicco.jp/home',\n",
       " 'そうですね、難しいです。心の病気は、家族関係も影響したりします。なので、私たちが治療にあたる時は患者さんが家庭でどのようなポジションにいるかなんてことも考慮に入れてやってます。\\u3000RT @kotan: @468251793 心の病って…性質気質との線引きが微妙。家族が振り回されて',\n",
       " '支援。\\u3000RT @kazu___ki: おかげさまで、200フォロワーまであと26人！フォロー返しいたしますので、よろしくお願いします！フォローミー！ #followmejp',\n",
       " 'そういえば、さすがに今はあまり気にしないけど昔はその人の出身県から県民性も考慮に入れて精神疾患の治療をする人も居たらしい。今で言うところの国民性か。',\n",
       " '今救急車の中ですか!?お疲れ様です！救急車って狭いし乗り心地悪いので好きではありません。\\u3000RT @gamitake1919: 只今緊急転院搬送終了し、帰院中。後一時間救急車に乗っている予定。帰りもサイレン鳴らしてくれればよいのに。メシくいてー。',\n",
       " '興味深いです。また何かイベントがあるときはお教えください。ぜひ参加したいです！\\u3000RT @mana_iwamoto: ☆メディカルアロマ講座終了の御礼とご報告☆ http://bit.ly/4E6mk4',\n",
       " '偶然にも同じ事をしていました（笑）\\u3000RT @mana_iwamoto: とうとうアイコンでリストをつくってしまいました! 今のところなんとなく猫ちゃん＞ワンちゃんですけれども。#pet #dog #cat #followmejp',\n",
       " '時々患者さんに暴言を浴びせられたり暴力を受けることがありますが、治療のために必要なことは粛々とやります。\\u3000RT @Lupin_the_3rd: 仕事は、人に喜ばれるのが基本と思ってるが、嫌われても存在意義がある仕事って何があるのかな？',\n",
       " 'お気遣いありがとうございます。大丈夫ですよ！最近はtwitterがストレス解消になっていたりします。\\u3000RT @Lupin_the_3rd: @468251793  私もドクターの知り合いは多い方ですが、ストレスの多いお仕事と理解しております。ご自愛ください。',\n",
       " 'いいですね～、ぜひよろしくお願いします。\\u3000RT @Lupin_the_3rd: @468251793 先生、機会があったら一杯やりましょうね。福岡にも飲み仲間に先生いらっしゃいますよ。私は、東京にも毎月いってますのでｗ',\n",
       " 'ありがとうございます。がんばりますよ！\\u3000RT @Honestman_jpn: @468251793 お仕事頑張って下さい。かつて僕もカウンセリングは受けた事がありました。',\n",
       " 'すごくいい！欲しい！\\u3000RT @hide_apple: ミニクーパー乗り的に今度出るであろうロードスターってありなし？？ http://yfrog.com/7ehfaj 個人的には出てきたら予約購入すらしようと思っているんだけど。',\n",
       " '拝見しました、ありがとうございます。ぜひいつかお邪魔したいと思います。\\u3000RT @Lupin_the_3rd: @468251793 定期的にこんな感じでやってます。機会がございましたら http://bit.ly/2RUGsg',\n",
       " '今日も皆さんありがとうございました。おやすみなさい！',\n",
       " 'おはようございます！',\n",
       " '@pikoron @okomes @anarchist_927 @FW16 @noname_lab @rakko001 @sundayNA おはようございます。',\n",
       " 'RT @twj: みなさんにお知らせです。ダイレクトメッセージなどからのリンクで、Twitterのアカウントと他のサービスを連携するときなど、よく分からない場合はクリックしないようにしてくださいね。「ヘルプでお知らせを追加しました」→http://bit.ly/OBczG',\n",
       " '茂木先生が急につぶやき出した！RT @kenmogi_loc8r: 抱きまくら http://bit.ly/3dlnNY L:岡山県岡山市駅前町一丁目',\n",
       " 'もしフォロワーを増やしたいなら積極的にフォローしないといけません。待ってるだけで増えるのは著名人だけです。フォローされたくない人は最初から未公開にしているはずなので、どんどんフォローしましょう！ #twitter',\n",
       " 'twitter初期段階で他のユーザーに存在を知ってもらうためにするべき事。1：フォローする人を増やす 2：他の人の発言にreplyまたはretweetする 3：自分の発言にハッシュドタグをつける 4：#followmeJP でフォローしてくれる人を募集する',\n",
       " 'twitterを普通にやっていると、いずれ読みきれなくなります…が、最近リストという機能が出来ましたので、そこに親しい人などを入れておけばゆっくりメッセージを読めますよ。RT @yuhki23 @468251793 流速が追いつかない事に一抹の不安を覚えるます…',\n",
       " 'あまり不便は感じません。むしろ読みやすいかも。いろいろアプリがあるので好みのものを使えば良いと思います。私は基本的にechofon使ってます。 RT @fleur_bleu: iPhoneとかですと、さらに読みにくくなったりしませんか？',\n",
       " 'たった今、目から鱗。RT @kohmi: 歌声の支点は「お尻」到達点は、頭上の「風船」でございます！目から鱗でしょ？これ、なんで、学校教育で、このように教えてくれないのか、私は、不思議なんです。http://tinyurl.com/yht2oq9',\n",
       " 'その通りです！仕事を続けられるモチベーションですね。RT @haggie21: @waitinggodot （承前） これほど〔勉強を含めた〕努力が目に見えるアウトカムになる職業は他に思い当たりません。いわゆる「医師の身体的・精神的負担」の大きい科は避けられる傾向にあるようです…',\n",
       " '今日はこれにてtwitter終了します。皆さんまた明日！',\n",
       " '@mizu34 @sayori27 おやすみなさい。',\n",
       " '@hirotakayama @kekemaru @samurai_sod @lili_maco @en_tsumo ありがとうございます。おやすみなさい。',\n",
       " 'おはようございます！',\n",
       " '東京も10度ないくらいですね、しかも小雨。寒い。',\n",
       " '@mizuki_sakana @sundayNA @rinmon @_barcelona @fumikun318 @co_miwa @toshimitsu_h @daririn @warplotter おはようございます。東京でもほぼ100%コート着用になるくらいの寒さです。',\n",
       " '自殺者の遺族に対する強い悲嘆に対して、2005年、米コロンビア大学のshear教授がPTSDに有効な曝露療法を応用した折衷的悲嘆治療(CGT)の有効性を明らかにした。支持的精神療法より有効で、一回90分。15回前後行うらしい。 medical tribune 09年11月12日',\n",
       " '再生医療は随分進んでいるんですね。米国のアイソラジェン社、サイトリ社、日本ではセルバンク、バイオマスター、その他個人クリニックで再生医療を用いた美容医療を行なっているとのこと。 medical tribune 11月12日',\n",
       " 'サーバリックスですね。製薬会社のMRさんは自分の娘に受けさせると言ってました。 RT @J_ESTHEcruise ちなみに子宮頸がんのワクチンが承認されたそうなので、こういったものを受けておくのもよいのではないでしょうか。',\n",
       " 'RT @hkazama0309: RT @kojisato515: 楽天の会長兼社長三木谷浩史さんが１時間前にツイッターを開始されたようです。現在９６人がフォロー中。「就活生のための経営者twitterアカウントリスト」 http://koji.jobweb.jp/?p=2750',\n",
       " 'おめでとうございます！ RT @hkazama0309: 皆さんの支援RTのおかげで、1000フォロワーを達成しました。有難う！',\n",
       " 'twitter perfect guide という本を見つけた。立ち読みしているうちにtwitterがとてもめんどくさいものに思えてきたので買うのを止めた。こういうものは習うより慣れろだと思うのだが。無料なんだし。 #twitter',\n",
       " '私は基本的にフォローは選り好みしません。でもそんな私もフォローを見送るのは、フォローだけやたらと多くてフォロワーが少ない人、フォロー&フォロワーも多いけど、呟きがアンバランスに呟きが少ない人。海外の人に時々いる。',\n",
       " 'おめでとう！RT @samurai_sod: おめでと～～～～～～～～  RT @oyakata110: フォロワー120人達成しました！みんなありがとー！',\n",
       " 'まめ知識 RT @shoukaijp: なるほど、自分の3GSは09年の28週目に出たと言うことか\\u3000@jp_iphone iPhoneのシリアル番号について豆知識 http://bit.ly/1vwshP #iphone',\n",
       " '要は何か不自然な感じがする人ということですね。RT @akiosan: RT @468251793 私は基本的にフォローは選り好みしません。でもそんな私もフォローを見送るのは、フォローだけやたらと多くてフォロワーが少ない人… : 共感なう。RTさせてください。',\n",
       " '拝見しました。そうなんですよね～。RT @Railsei: 今、似たようなことをツイートしました。RT @468251793: 要は何か不自然な感じがする人ということですね。RT @akiosan: RT @468251793 私は基本的にフォローは選り好みしません。',\n",
       " 'そういうのはなんかずるい気がしますよね。RT @mmune: @468251793 フォローしてきたのに、自分は非公開にしてリクエストを受けてくれないという方もいましたね',\n",
       " '難しい所を最初に説明されると萎えるタイプです。RT @falcon2001: 使い方次第で面倒にも簡単にもなるのが面白い部分かもしれません。RT @468251793: twitter perfect guide という本を見つけた。 #twitter',\n",
       " 'その本は知ってる内容ばかりでした。 RT @jyakoneko: @468251793 既にある程度使い出してからだと「知ってるし！」って内容だったりしますよね XD',\n",
       " '@junfukumitsu 先生！LOLってどういう意味ですか？時々見かけるんですが分からなくて困っています。できたら教えて下さい！',\n",
       " 'そうですね。twitterはあくまでツールなのでそれで良いと思います。先程までの話は個人的感想ですね。RT @falcon2001: @468251793 一言でいえば自由なんです。たとえばRTは元々そういうルールがあったわけではなく、ユーザ主導で広まっていったものです。…',\n",
       " 'ありがとうございます！スッキリしました！！こういう略語はなかなか辞書にも乗っていないので助かりました。RT @junfukumitsu: Laugh Out Loud の略ですよ。日本の（笑）やwに相当します。 RT @468251793: @junfukumitsu LOLって',\n",
       " '楽しくなってまいりましたROFL  RT @junfukumitsu:  こんなのも→LOL RT @youtomama0307: @junfukumitsu ROFL---- Rolling On Floor Laughing ----笑い転げる（床をころげまわるほどおかしい）',\n",
       " 'ご紹介ありがとうございます！見てみますRT @junfukumitsu: . @468251793 【ネット略語】 次の本の「なか見！検索」で「234」を検索してみてください。 ※ディビッド セイン著『ネイティブがよく使う英語スラング』 http://bit.ly/1jtJoe',\n",
       " 'え！？RT @miyatau: え！RT @sawa3: RT @jcast_news: 「ツイッター一度も使ってない」\\u3000オバマ発言 日本でも衝撃  http://tinyurl.com/yjz4y9o',\n",
       " '気管支炎になった時、私もそんな感じでした。お大事に。RT @miyatau: 夜になると激しく咳込んでしまう。友人と一ヶ月前から約束していた映画の予定は、やっぱりキャンセルしよう。残念（泣）',\n",
       " 'おめでとう！RT @daibamboo: おめです！RT @_sorian_: おめでとう！ RT @Mikann_Batake: フォローが２００になりました！皆さんのおかげです。',\n",
       " '全米が泣いた RT @natsume_214: 泣ける RT @qqdr: 僕、総ﾘﾑｰﾌﾞ数100人達成しましたー RT @468251793:  @samurai_sod: RT @oyakata110: フォロワー120人達成しました！みんなありがとー！',\n",
       " 'RT @cooocaine: 野口 敏「誰とでも15分以上 会話がとぎれない!話し方66のルール」 を Amazon でチェック！ \\u3000http://bit.ly/2aDg3r',\n",
       " '期待！ RT @mainichijpnews: 川崎病：原因は「複数細菌」、治療法確立に期待…順天堂大 http://tinyurl.com/yhqlwya',\n",
       " 'やっぱりゴースト？ RT @syokatu: あの公式アカウントは誰が使ってんでしょう？ RT @468251793: え！？RT @miyatau: え！RT @sawa3: RT @jcast_news: 「ツイッター一度も使ってない」\\u3000オバマ発言 日本でも衝撃',\n",
       " '気になる！ RT @pentagos: これ飲みたい！【ボジョレーに対抗するビール！“麦のワイン”が絶好調】 - 東京ウォーカー http://tinyurl.com/yg8tvnw',\n",
       " '当直という言葉を見るとビクッとしてしまう。',\n",
       " 'ついでに一ヶ月くらい自宅療養したいのですが。  RT @sayori27: 職業病ですね。お薬一週間分お出ししておきます。つ［薬］RT @468251793: 当直という言葉を見るとビクッとしてしまう。',\n",
       " '当面という言葉も含みがあってドキドキします。RT @jyakoneko: 当面はこのスケジュールでいきます。とか言われると妙な安堵と緊張と。相反する気持ちになる。 RT @468251793 当直という言葉を見るとビクッとしてしまう。',\n",
       " '赤面するとパニックになるので大変です。RT @qqdr: 赤面！？ RT @468251793: 当面という言葉も含みがあってドキドキします。RT @jyakoneko: 当面はこのスケジュールでいきます。とか言われると妙な安堵と緊張と。相反する気持ちになる。',\n",
       " 'おめでとう！RT @chocolatte106: おめ！RT @poni425: お、おめ！！ RT @en_tsumo: 淳二に盛り上がってるときにアレですが、400フォロワーいきました。皆様、ありがとうございます。',\n",
       " '電磁波の影響は昔から言われているが、あまりおおっぴらにならないのは技術の進歩に水を差してしまうからではないかと思ってたりする。RT @gizmodojapan: 【最新記事】 【サイボーグ・ライフ】携帯電話の電磁波の影響はいかに http://bit.ly/KYbCR',\n",
       " '今日も一日お疲れさまでした。おやすみなさい！',\n",
       " 'おはようございます。',\n",
       " '名言bot RT @meigenbot: 生まれてきて良かったなぁって思うことが何遍かあるじゃないか。そのために人間生きてるんじゃないのか? (車寅次郎『男はつらいよ』)',\n",
       " '@t_yaman @kota_YA @samsecurity @hirotakayama @toorude @2qua おはようございます！',\n",
       " 'アルマーニがiphoneのレザーケースを発売するとのこと。確かに良い！だが、21000円。高いよ…',\n",
       " '私もそうなりそうです RT @berry_soda: そのケースを保護するためにケースしたくなりますよ私なら！笑 RT @468251793 アルマーニがiphoneのレザーケースを発売するとのこと。確かに良い！だが、21000円。高いよ…',\n",
       " '昼間PCで見たニュースなんですが、iphoneではうまく探せませんでした。 RT @hanaplus: 見てみたいｗRT: @468251793: アルマーニがiphoneのレザーケースを発売するとのこと。確かに良い！だが、21000円。高いよ…',\n",
       " '日本の製品、受賞しすぎだと思ってました。納得。RT @fmfm_collector: RT nyckume: お菓子などでよく耳にする「モンドセレクション」、実は国際的にはほとんど無名らしい。応募する製品の50％は日本からで、その80％が入賞しているらしい。う〜む。なるほど。',\n",
       " 'RT @siphon_g: 面白いから有名人もたくさん参加する。のと、有名人をたくさん参加させて面白くする。では全然違うと思うのだけどな。と、藤田さんのインタビュー見て思った。。最近は自分で楽しい事いっぱい見つけられるもん。',\n",
       " '便利そう RT @cnet_japan: イースト、複数の辞書を串刺し検索できるiPhone向け辞書アプリ「デ辞蔵」 http://bit.ly/3qMrLG',\n",
       " 'RT @mkt1019 メモメモ RT @fuurin: Twitterに@でreplyがあればメールで教えてくれるサービス。Twitter:@あらったー！モバイルの人は良いかもしれません。http://atalert.twitlife.jp/',\n",
       " 'おめRT @jyakoneko おめでとう！RT @aoizu おめ！ RT @lovejesus100 おｍｗと～～(^o^)／RT @oyakata110: 便乗おめ！RT @ykubo: おめ！RT @payopoyo: おめでとぉ！RT @riku000: 大学合格なう！',\n",
       " '人は同時に２つ以上のことを考えられません。うつや不安、イライラなど嫌な気持ちになったら、別の事をして気を紛らわすのが良いです。',\n",
       " '@gaminerie @pakana あらかじめ嫌な気持ちになった時にすることのリストを作っておくのも良いですね。',\n",
       " 'そう、無理にでも笑顔を作ると脳が「今は楽しい状況だ」と勘違いするんですね。スキップも大体楽しい時にしかしませんから同じような効果があるのでしょう。RT  @lovejesus100: 上を向いて無理してでも笑うとか、スキップもとても有効らしいです！RT @468251793:',\n",
       " '支援！RT @lili_maco: RT @strangerxxx: フォロワー 300 まであと 6 人ｗｋｔｋ #followmeJP',\n",
       " '科学館大好きな私としては残して欲しいですけど…RT @kohmi: @mainichijpedit  #kokkokokko 日本未来科学館も、事業仕分けに入っているらしいですね。',\n",
       " '@mikisihiho いろんな事があれこれ頭に浮かんで混乱しても、良く観察すれば瞬間瞬間では一つのことしか考えていないんです。注意が一つの所に留まらないだけで。脳の働きは面白いです。',\n",
       " '無くなる訳じゃないんですかね？それなら良かったです。RT @pico85 @468251793 私も好きです～特に科学未来館好きなんですけど・・・予算減額でとどまったという話ですね',\n",
       " '良かった！あの世界最高のプラネタリウムが見られなくなったら悲しいですから。 RT @pico85 @468251793 毛利さんががんばったみたいですよ！',\n",
       " 'ありがとうございま～す！RT @fleur_bleu 支援しま〜す！RT @468251793: 相互フォローしてくださる方募集しております。よろしくお願いいたします。 #followmeJP',\n",
       " 'ありがとうございます！RT @hkazama0309: 支援。RT @468251793: 相互フォローしてくださる方募集しております。よろしくお願いいたします。#followmeJP',\n",
       " 'もうiphoneのバッテリーが…。皆さんおやすみなさい！また明日。',\n",
       " 'facebookやtwitterで新しい英単語が生まれているという話。例: \"unfriend\" RT @JulieGaroni: Facebook, Twitter add new words to dictionary - http://tinyurl.com/yesjjcf',\n",
       " '精神科の仕事って、草木を育てるのと似ていると思ったり思わなかったり。伸ばすべき所は伸ばして、好ましくない所に行きそうなら修正して。育ちやすい環境を整えて、薬も使って成長するのをサポートする。そんな仕事です。',\n",
       " '本人にとって好ましくないだろうと医師が精神医学的見地から判断します。が、絶対的な正解はないし、医師の判断を強制は出来ないので最終的には患者さんが己の意思で決断した事を見守るのです。RT @akaruikodomo: @468251793 【質問',\n",
       " '草木もまた、どんなに手を加えても成長を完全にコントロールは出来ません。その時の天候や土壌、その他様々な要因で大きく左右されます。やるだけの事をやったらあとは無事に大きくなるように(良くなるように)見守るのみ。そんな所が似ていると思ってます。',\n",
       " 'それほど深くはないです(笑) 時々思っている事なのですが忘れないように呟いてみました。やはりその時その時で精神科医療に対する思いも微妙に変わっていきますので。RT @mikisihiho: @468251793 深い〜。',\n",
       " 'ちょっと受けた(笑) RT @itmedia_news: Wiiと大画面テレビをリビングに置くと家族の会話が活発になる、という実験結果が発表されました。 ＾乙女 http://bit.ly/2mEekM',\n",
       " '目指せ100！がんばれー！ RT @yahoro: 支援 RT @solo_guitar: おかげさまで90人到達大感謝。めぜせ100。冷蔵庫の淡麗を開けようかどうしようか迷っている。 #twinomi #followmeJP',\n",
       " '私も買えません… RT @rira1125: @468251793 Ｗｉｌｌが\\u3000買えない',\n",
       " '私なんて職場でも白衣を着たくないというのに…！ RT @natsume_214: 家で白衣…だと…！？また私のキーゼルバッハを崩壊させる気ね！ RT @ma_ko: 白衣きたことある人だけじゃなく、家で白衣の人まで見つかった。ついったー、すごいね！',\n",
       " '11月になると「今年ももう終わりだ」という気持ちになり絶望する。今年は何をしたんだろう…',\n",
       " 'RT @NOTE_MAN: 【ウクライナで強毒性のインフルエンザ発生か、現在すでに344人が死亡…近隣諸国はパニックに】  http://bit.ly/3NZj7o',\n",
       " 'ついに！ RT @Junji_Inagawa: みなさん、こんばんは。稲川淳二です。今から始まりますよ、いやー楽しみですね。',\n",
       " '@followmeJP さんのブログの事でしょうか。見て頂いてありがとうございます！ RT @Nozomi_Til: @468251793 webでの記事をみて、参考にさせて頂きました！',\n",
       " 'メモメモ。RT @hatebu: あの人のアイデアはどこから？有名クリエイターに学ぶ「発想法」 - はてなブックマークニュース (88 users) http://bit.ly/1ZAkr3',\n",
       " '後でチェックするつもり！ RT @hatebu: 水の中なのに川があるユカタン半島の幻想的な水中洞窟 - GIGAZINE (86 users) http://bit.ly/1CFymr',\n",
       " '意訳で良ければそのうち訳します～ RT @amay2009: いえ難しかったです、ってか読めませんｗ [RT:5676956381 @468251793] 「もっとフォロワーを集めるための50の方法」\\u3000http://ow.ly/BOSD \\u3000#twitter #followmeJP',\n",
       " 'こちらこそありがとうございます。頑張ってください！ RT @Nozomi_Til: @468251793 フォロー返しありがとうございます！目標に向かい、がんばります！',\n",
       " 'おはようございます。',\n",
       " '大丈夫！？ RT @luvjunk_o: 最後に京都に寄っておりますがわたくしインフルエンザ感染疑惑であります http://twitpic.com/q65ks',\n",
       " '購入検討中なのでメモ。 RT @koorin: 「壊れないラップトップはどのメーカー？ / Gizmono」なるほどねー。ちなみにマイToshibaノートは、初めて購入してから現３台目ですが、一度も壊れたことはないよなー。 http://ow.ly/DRr5',\n",
       " 'おめでとうございます！！RT @hkazama0309: おめでとうございます！ #followmeJP RT @natsuki_s: 気が付いたらフォロワーさん800人になってました！800番目は\\u3000@million02\\u3000でした。ありがとうございました！',\n",
       " '新型インフルは若い人が結構重症化しているので、熱が上がったらすぐ病院に行って薬をもらって下さいね。お大事に。RT @luvjunk_o: @468251793 まぁ修学旅行最終日でよかったです、途中や始めの方にかかっちゃった子もいるので。週末だしゆっくりやすみます',\n",
       " 'BMIで言うと16.8！痩せすぎですよね。RT @kazuyo_k: 再び体重の話。いや、ほんとに細いんですよ。タレントさんたち。私は158センチですが、そのくらいの身長だと、だいたい、42キロくらいが普通だそうです。',\n",
       " '.@abfly これでOK？教えて下さってありがとうございます。RT @abfly: .@Tuna_lighT 普通に『@』でリプライすると、宛先の人と、さらに発信者と宛先の両方をフォローしているひとには見えます。全員に見えるようにリプライするときは先頭に『.』ピリオドをつけます',\n",
       " '@kodokuorz  はじめまして。あなたをフォローしたのは仰る通り、followmejpとついた発言を見たからです。',\n",
       " '素晴らしい事なので RT @baobabunohana: \"教わるための技術５ヶ条 1. 表情 \\u3000表情を変えるだけで教えて貰える量が変わります。興味に満ちあふれた笑顔は極めて重要です。 2. 素直さ...\" http://tumblr.com/xk745wlv8',\n",
       " 'おめ！RT @arina21: おめーRT @lovejesus100: おめと～！！RT @plusnet_: あっとゆうまに300人ありがとございましたー！引き続き) #followmeJP',\n",
       " '阿佐ヶ谷で降りようと思ったら三鷹まで来てしまった、なう。',\n",
       " '黙って「話を聴く」のは意外と難しい事です。話を聴くという事は、相手の考え・存在を受け入れるという事だから。心に余裕がないと相手が充分話をする前に口を挟みたくなってしまいます。しかし話をしっかりと聴けた時には、相手はあなたに受け入れられたと感じ、信頼関係が生まれることでしょう。',\n",
       " '怒りという感情は、「自分の領域を侵された」と感じた時に現れます。自己を守ろうとする意識が働くので人の言動に敏感になります。あなたがもし逃げられない状況で人から怒りを向けられた時はまず話を聴くこと。下手に返答すると相手は「攻撃された」と感じ、余計に火に油を注ぐことになります。',\n",
       " 'さて、2時も過ぎたのでお休みなさい。夜ふかししてしまいました。また明日！',\n",
       " 'おはようございます。',\n",
       " '昨夜リプライ頂いた皆さん、返事出来なくてすみません。精神科医の立場でのつぶやきでしたが、それぞれのお立場で解釈して下さったようでこちらも勉強になりました。@mi_racle @Lefty0620 @xxchalixx @21tter @ermlu @arina21',\n",
       " '@kikuchi_s @samsecurity おはようございます。',\n",
       " '@ta2_o2p @ari03 @kaoru119 @raisu2009 @993G55 @kota_YA @dafinel @xShinigamigirlx @ichitaso @sentakuita @okaya2009 おはようございます！',\n",
       " '安いし便利そう！ RT @worldgoodnews: お肌の水分量、簡単に測定できるそうです。「美肌鑑定」玩具：ファンケル＆バンダイ～女性にうけそうですね♪ http://tinyurl.com/ybvdber',\n",
       " 'これはおもしろい試み。チェックしておきたい。 RT @shibainuking: 慶応２年から平成２０年までのベストセラーをリストにしてみた  http://tinyurl.com/ykvp7qu .',\n",
       " 'RT @hkazama0309: 12/1（火）19時より「気軽にTwitter活用セミナー」を開催します。場所は喫茶室ルノアール新宿区役所横店です。Twitterを積極的に活用したいと考えている方は是非ご参加下さい。http://bit.ly/aoYZS',\n",
       " 'お疲れさまでした！RT @kaikeishi1: 「書店営業ツイッターの旅」ブログ・最後の更新。全１７日間、全２０都市、全国６０書店、移動距離３０００キロ以上、関わった人たくさん、http://tinyurl.com/knqvju #jibara',\n",
       " 'ついにフォローが2001人となり、フォロワーさんが1818人を超えるまでこれ以上フォローできなくなりました。というわけで、申し訳ありませんが相互フォローになってない方は一度フォローを外させて頂きます。 #2289 #followmeJP #fureaiJP',\n",
       " 'そうなんです、ビックリですね。RT @sayori27: @468251793 おお～あっという間に増えましたね～（＾＾）',\n",
       " 'ありがとうございます！無制限にフォロー出来ないのはtwitterの仕様ですね。フォロワーが増える分には制限ないのですが。RT @sayori27: まずはおめでとうございます～増えたら増えたでフォローできなくなったりと悩みもあるみたいですが、大勢に伝えられるっていいことです！',\n",
       " 'iphoneユーザーはチェック！ RT @jp_iphone: あなたの神アプリのこの中に？！今週の特選おすすめアプリ18+11!！ http://bit.ly/6gYWst #iphone',\n",
       " '不快な発言が多い場合はアンフォローすることもあります。RT @e_flyer: （ぶっちゃけ）最近面白くないというかムカツクつぶやきが多いのでアンフォロー多いですねー\\u3000RT @468251793: RT @sayori27:',\n",
       " '@azumiman おやすみなさい。',\n",
       " '@chachamy 確かに西暦のようですね(笑) 全ての発言に目を通すのはちょっと大変です。早くIPHONEでもリストが使えるようになって欲しいです。',\n",
       " 'おはようございます。',\n",
       " 'お、フォロワーさん1500人超えた！皆様ありがとうございます。 #2289 #fureaiJP',\n",
       " '@yutiro11071 @705naoko @tuntomo @pa9mania @lueri2002 @kanazawacom @sentakuita @rakko001 @azolca @natsuminori おはようございます！',\n",
       " '@samurai_sod @samsecurity おはようございます！',\n",
       " '@kisaragiworks @yahoro @yutiro11071 @nekozukineko3 ありがとうございます！！！これからもよろしくお願いします！',\n",
       " '@natsuminori #fureaiJP は 交流のためのタグだそうです。正直あんまり使ってないのですが、今日はなんとなくつけてみました。',\n",
       " '@kkookie @teshima0123 @993G55 @FW16 おはようございます&ありがとうございます！ replyが追いつかなくなってきました(笑) 嬉しい悲鳴です。',\n",
       " '@matsu520 @untanjp @amuca どうもありがとうございます！',\n",
       " 'ありがとうございます！皆さんもそのうち到達すると思いますよ。RT @ekakou: すごすぎる。おめでとうございます！ RT @468251793: お、フォロワーさん1500人超えた！皆様ありがとうございます。 #2289 #fureaiJP',\n",
       " '@chachamy ルー語bot！(笑)',\n",
       " 'おめ！RT @noppoland: おめ！RT @ykubo: おめ！RT @moeka_y: おめ☆ QT @knock_guisse: 寝てる間にフォロワーが２００人超えてたぞ',\n",
       " 'その通り！RT @followmeJP: フォロワーさんを増やして新しい世界を求める人も、厳選して奥深さを求める人も正しい。しかし、どちらかが間違っている！と、他人の否定は悲しい。自分が肯定する楽しさを呟き、共感する仲間が増えた時、貴方の新しい道が見えます #follwomeJP',\n",
       " '遅くなりましたが、ありがとう&おめでとうございます！ RT @kiribansan @468251793 フォロワー数 1,500 番目は多分 @zoe_kk でした。',\n",
       " 'アイディアはすごくいい RT @itm2525 ワロタwRT @KyotoGion: 過去には７ちゃんねるなどという相手をほめる掲示板を作ったのはここだけの秘密 http://bit.ly/6R0IJd',\n",
       " '@arina21 フォロワー1000人おめでとうございます！！',\n",
       " 'きれいなアイコンで良いですね RT @kkki3 @468251793 アイコンをシンプルにしました',\n",
       " 'ありがとうございます！ RT @fleur_bleu おめでとうございま〜す！RT @468251793: 遅くなりましたが、ありがとう&おめでとうございます！ RT @kiribansan @468251793 フォロワー数 1,500 番目は多分 @zoe_kk でした。',\n",
       " 'RT @mocchicc: iPodのバッテリー耐用回数と新商品発売サイクルに関する研究発表なう。iPodの寿命は充電400回、毎年9月の発表。いわゆるアップルタイマーというものですね。 #orf2009',\n",
       " 'twitterだと検索ワードが分からなくても誰かが教えてくれたりしますからね。RT @hazuma: これ重要。RT @montar: 東浩紀も言ってたけど、Googleで検索するときに、検索ワードを見つけるのが一番大変。Twitterは「検索ワード」検索のコストを下げてくれる。',\n",
       " '内容もさることながら、デザインがcool！RT @edomain: 今日は面白いホームページを登録してみました。といっても絵日記が大半なんですが。。。 Funny | homepages.jp http://bit.ly/5WJu6g',\n",
       " '時々確認しましょう。 RT @kenjieno: 「Gmailを乗っ取られてないかどうか確認する方法」……ふむふむ。 http://tinyurl.com/yk3kc5f',\n",
       " 'おやすみなさい！ RT @amejistar: 嬉しい楽しいＴＬをありがとうございました！そして、応援＆支援してくれたみなさまに本当にありがとう！！今日はまさにフォロワー感謝の日になりました。少し早いですが離れます。おやすみなさい♪',\n",
       " '自分を含めて「人をほめる(評価する)」コツ。それは「人には必ず良い所があると信じる」こと。100%ダメな人間は絶対にいません。「必ず良い所がある」と思ってよく観察すれば、ほめる所が見えてきます。視点や立場を変えればいくらでもほめるポイントはあるのです。#2289',\n",
       " '人をほめる事が出来る人は、自分もほめる事が出来るということ。ほめられた人からは感謝され、自分に自信がつき、人間関係も円滑になりいい事づくめです。ただし、お世辞ではダメ。その人をよく観察して本心からほめないと逆効果になることもあるので注意が必要です。 #2289',\n",
       " '相互フォロー募集中！一緒にtwitterを楽しみましょう！ #followmeJP',\n",
       " '@1975hiro 批判される事が多い世の中ですが、もっとみんな自分を評価してよいと思うのです。',\n",
       " '@loudelephant それが分かるまでは無闇にほめず、相手の話を聞き、観察することが必要です。',\n",
       " 'RT @iPodFanEdt: どもです！ RT @Ikeeda 「Twittelator Pro」です RT @iPodFanEdt Twitterlator Proが対応しました。 RT @okamitsu リスト機能に対応したiPhone用のTwitterクライアント',\n",
       " '明日の夜は「雷を正しく避ける方法」をお送りする予定です。お楽しみに！  #2289',\n",
       " 'RT @kazuyo_k: 最近、新しい方が増えていますので、もう一度つぶやいておきます。 Twitter初心者のための使いこなしの10ステップ http://ow.ly/EzRa Twitter初級者が中級者になるための使いこなし10ステップ http://ow.ly/EzRD',\n",
       " '超幻想的！！ RT @hatebu: 水の中なのに川があるユカタン半島の幻想的な水中洞窟 - GIGAZINE (86 users) http://bit.ly/1CFymr',\n",
       " '初心者同士の語らいの場所だそうです。 #kohmitweet をチェック！私も参加します。 RT @kazuyo_k: おはようございます。昨夜、広瀬香美さん @kohmi さんの提案で、Twitter初心者の方が集う部室 #kohmitweet  ができました。',\n",
       " '是非！ RT @the_seniors 立派な初心者なので、早速参加してみます！ #kohmitweet   RT @468251793: 初心者同士の語らいの場所だそうです。 #kohmitweet をチェック！私も参加します。',\n",
       " 'ミスツイッターを探せ！というサイト。一位は超意外なあの人！ http://miss.eightbit.jp/',\n",
       " 'おめでとうございます！ RT @mana_iwamoto 本日、フォロワーさん千に達しました。ご縁に心から感謝いたします。今後も└|･･|┐iconコレクターとして、放浪しますので宜しく御願いします。#followmejp ☚のおかげです。ありがとうございます。',\n",
       " '微力ながらお役に立てて光栄です。先生も1000まで早かったですね！ こちらこそよろしくお願い致します。 RT @mana_iwamoto @468251793 ありがとうございます。1000〜へのアドバイスが大変に参考になりました！これからも宜しく御願いします。',\n",
       " '今日は皆さんお休みなさい！フォローして下さった方、ありがとうございました！一緒にtwitter楽しみましょうね。',\n",
       " 'おはようございます。まだ雨が降っているかな？',\n",
       " 'ちょっと気恥ずかしいですがお勧めして頂いて大変光栄です。今後ともよろしくお願い致します。 RT @skamio: 【お勧めツイったらー】 TARO YAMADA @468251793 精神医学のみならず心理学にも強い感じ、2001人規制と戦う人。レスポンス早いです(ー^.)ノ',\n",
       " 'RT @468251793 twittelator最新バージョン導入、今使ってます。リスト機能は人のリストを見ようとすると固まる時があるけど、ユーザーのリスト追加は簡単に出来るようになりました！#iphone #iphonefan',\n",
       " '仕事ってとても大変で、時には辞めたいと思うけど、アイデンティティの確立には不可欠なんですよね。誰かから必要とされているということは幸せなことだし。でも大変。 #2289',\n",
       " 'ツイログ、便利ですよ。私も使ってます。 RT @johnny_walker_ こんなのあったんだ、知らなかった。毎日新しい発見があるツイッター。楽しいぜ。  つぶやいたことを日付別にまとめるサービスhttp://twilog.org/',\n",
       " 'ポメラの新型じゃないとだめか… RT @fmfm_collector RT yoshitaka_yama: そうか、これでiPhoneとポメラがつながることになるのか。ならBluetoothいらないか。。。QRｺｰﾄﾞか。なるほど。 http://bit.ly/5eaPO1',\n",
       " 'だから仕事を辞めざるを得なくなった人や職につけなかった人はどうするかという問題が出てきますよね。少なくとも社会から疎外されないようにしなくてはなりません。@mana_lei @reonarasta @sweetacorn @daaishi',\n",
       " '精神科医療に対する世の中のニーズを聞いてみたいです。 こういう事を知りたいとか、精神科医の話を聞く機会を作って欲しいとか。#2289',\n",
       " 'なるほどー。ちなみにその都市伝説はウソです(笑) RT @natsuminori @468251793 ありがちな都市伝説っぽいのの実態みたいなのはどうです？ 例えば精神科医は患者と話しすぎて精神病になりがちだとかそういう変な噂けっこうあるじゃないですか。',\n",
       " '@taka4_104 他の資格を取らなくても精神科医という立場で他の所でもカウンセリング出来ちゃうんですよね。産業医の資格は取りましたが。',\n",
       " '@pa9mania ありがとうございます。twitterをやってること自体が少しは役に立っている？',\n",
       " '精神的には疲れますが、職業としてやってるのであんまり感情的に巻き込まれて泣いたり怒ったりはしませんよ。RT @solver698: 気が滅入ったりはしそう。',\n",
       " 'というか、病院だけにいると視野が狭くなる気がしまして。世間はどういう事を精神科医療に期待しているのか知りたかったのです。RT @taka4_104 @468251793 なるほどー・・・',\n",
       " '@bn2islander そうするとまず「精神科がなにをしているか」という説明が必要ですね。ご意見ありがとうございます。',\n",
       " '「なりたがり」を厳密に区別するのも難しいですが、そういう人たちもある意味では苦しんでいるので、精神科的アプローチは必要だったりします。RT @niena666 @468251793 本物となりたがりの見分け方を知りたいです。おっと、企業秘密ですかね？',\n",
       " '@tamago_zake @banto_boki @bn2islander @taka4_104 ご返答ありがとうございます。やはり「そもそも精神科ではどんな事をしているか」たという事を啓蒙するところからした方が良さそうですね。そして、それをどのように行うかと。',\n",
       " '責任感が強いのですね。尊敬します。「体調を保って長期に休まないために休む」と考えては？ RT @niena666: そうなんですか。。。『自分はなりたがりになりたくない！』って思って具合悪くてもうまく休むことが出来ないで悪循環に陥ってます。',\n",
       " '@pa9mania こちらこそよろしくお願いします。',\n",
       " '相互フォロー募集中！絶賛フォロー返し中です。よろしくお願いします。 #followmeJP',\n",
       " '皆様ご支援ありがとうございます！！なにげないつぶやきに多くの人が反応してくれるのもtwitterならではのいい所ですね。',\n",
       " '@niena666 @yuhki23 「休む事に対する不安」は現実的な問題もあり、非常に共感出来ます。ただ、頑張り過ぎても倒れてしまいます。難しいと思いますが、健康を保てるラインを超えないようにしないといけないでしょうね。',\n",
       " '典型的なのはたまに見かける程度ですね。そんなにはいないです。RT @natsuminori: @468251793 虚言癖の人って実際けっこういるんですか？',\n",
       " 'その人だけと話しているとなかなか分からなかったりするので、色んな人から情報を集めるのが肝要です。RT @natsuminori: 自分で簡単に判断する方法とかってあるんですか？ 虚言癖ってばればれなのをたくさんいう感じなんですよね～？',\n",
       " '今日は色々なご意見・ご質問ありがとうございました。お答えしきれない質問もありますが、今日は落ちます。フォロー返しも必ずしますのでお待ち下さい。それではお休みなさい…',\n",
       " 'おはようございます。通勤中です。',\n",
       " '多分いろいろな年代の人がつぶやいているんだけど、文章だけ見てると意外と年が分からないので先入観なく会話が出来て面白い。 #2289 #kohmitweet #fureaiJP',\n",
       " 'アイコンでもかなり印象が左右されますね。可愛いアイコンだと親しみやすいイメージ。 @aas_nagoya @coply @iraniran8 @Nana_miracle @xxassydow @ruuly_',\n",
       " '難しい質問は勘弁して下さい(苦笑) RT @ruuly_: @468251793 いくつに見えるぅ？',\n",
       " 'じゃあ私も特技です！やった！ RT @kogure: 特技と判明してツイてる！ RT @r_saber: 三回目で覚えられるのは得意ってことじゃないんですか？ RT @kogure: 先に書いておきますが、ぼくは人の名前と顔を覚えるのが苦手です。三回目くらいでようやく覚えられます',\n",
       " '近所で女性が泣き喚いているのですが…ケンカしている模様。',\n",
       " '英語勉強用にもう一つアカウントを作ろうかな。  #2289 #twitter  #kohmitweet #fureaiJP',\n",
       " '@okaya2009 @tuntomo @mizuki_sakana @0asmy @gaminerie @yniimi  とりあえず止んだ様子。こういうのって本当どうしたらいいか迷います。',\n",
       " 'やはりそう思われますか。やってみます。 RT @km_zap: それは名案かと。明暗ではなく。RT @468251793: 英語勉強用にもう一つアカウントを作ろうかな。  #2289 #twitter  #kohmitweet #fureaiJP',\n",
       " '@0asmy @okaya2009 自分が危ない目にあったら「火事だ！」と叫ぶと良いという話を思い出しました。 #2289',\n",
       " 'なるほど、そうかも。RT @break @468251793 外国人の方からいっぱいリプライ飛んで来ますが たぶんこのユーザ名が単語ってのが大きいのかなあと見てます 参考になれば',\n",
       " '犯罪かどうかの区別が難しいです… RT @yniimi @468251793 犯罪がらみなら「火事だあああーーーー！」と、言いながら、女性に駆け寄る、痴話げんかならほっとくでしょうかね。。。',\n",
       " 'おはようございます。',\n",
       " 'RT @holineko おはようございます！バスにて通勤中です。今日は西鉄グランドホテルで7時からパイロットクラブが主催するチャリティダンスパーティーがあります。お手伝いのために午後は休診します。チケット5000円です。軽食付き。ドリンク代別。',\n",
       " '@samsecurity @poni425 @_barcelona @asion_m @xShinigamigirlx @ykubo @toshi_koma @shin48 @mizu34 おはようございます！',\n",
       " '@mizuki_sakana @snafeee おはようございますー',\n",
       " '眠くなったり空腹になると、極端に思考能力が低下する。こんな時は何をしてもダメだから何もしないのがいいのだが、こんな時に限って何かしたくなる。 #2289',\n",
       " 'そう思います。矛盾だらけなのが人間。それを忘れると窮屈。RT @tuntomo: @468251793 そういった矛盾があるのが人間かもしれませんねｗ',\n",
       " 'お仲間！変な精神状態ですよね。RT @chachamy: @468251793 あぁ分ります。自分だけじゃなかったんだ。そしてなんだか無為に時間だけが過ぎて更に疲れ、睡眠不足に。。。 RT @468251793: 眠くなったり空腹になると、極端に思考能力が低下する。',\n",
       " '一ヶ月ぶりのフォローミー祭りですね！これのおかげでたくさんフォローして頂けました。今回もやっぱりフォローミー！よろしくお願いします。  #followmejp',\n",
       " 'これ意外とあるあるネタでした(笑) ちょっと嬉しい。RT @toshi_koma あるある RT @468251793: 眠くなったり空腹になると、極端に思考能力が低下する。こんな時は何をしてもダメだから何もしないのがいいのだが、こんな時に限って何かしたくなる。 #2289',\n",
       " '相互フォローすると楽しくなりますよ～！ RT @km_zap: おお、真打登場ですね！  RT @468251793: 一ヶ月ぶりのフォローミー祭りですね！これのおかげでたくさんフォローして頂けました。今回もやっぱりフォローミー！よろしくお願いします。  #followmejp',\n",
       " '#followmeJP ←このタグを付けている人は恥ずかしがらずににどんどんフォローしましょう。するといつの間にかフォロー返しされていて、みんながtwitterでつながり、全員がハッピーに！  #followmeJP',\n",
       " '.@followmeJP さんが始めた相互フォローのお祭りですよ。RT @icomy: 私も知りたい RT @mane247: んで、この流れはどこから始まったんだろうね\\u3000#followmeJP',\n",
       " '私も久しぶりに飲んでテンション高めです RT @shimobelly: ひさしぶりに呑んだぞー。こんな私を#followmeJP',\n",
       " 'おめでとうございます！RT @jyakeen: おめっ♪RT @Grabacr07 フォロワーさん400人突破した模様！ありがとうございます！ #followmeJP [らぼ]',\n",
       " '大勢が見てくれているから大丈夫！ RT @sudojun: @468251793  @rinta3776  @baki_you  １分間に１００件以上のツイートがあるし、とても目につかないと思ってました。フォローありがとうございます！祭り！！\\u3000#followmeJP',\n",
       " 'おめ！ RT @psychotic_louis: おめ！RT @bajiru1: フォロワー1000人！支援＆フォロワーの皆さまありがとうございます＾＾そして、これからもよろしくです！！【相互フォロー希望】 #followmeJP',\n",
       " 'RT @_hiiragi RT @zhongzi: 支援！ 毎週土曜日のアキバ清掃&lt;Akiba Smile!&gt;、明日開催です！秋葉原駅UDX側出口の階段下で10時半受付開始、11時出発です。飛び込み大歓迎！よろしくお願いします！ http://bit.ly/uMYXE',\n",
       " '自分の振る舞いを変えると、結果として相手の態度も変わりますよ。RT @taka_2 「他人を変えるのは難しいから自分を変えよう」は「他人の振る舞いをとにかく我慢すること」とは意味が違うということのような気がした。',\n",
       " '皆さんフォローありがとうございました！おかげさまでフォロー2001人制限を突破出来ました。(フォロワーが1818人以上いないと2001人以上フォロー出来ない) まだフォローしきれない人、メッセージに返信出来てない人がいますが明日必ずやります。今日はお疲れ様でした。お休みなさい！',\n",
       " 'おはようございます！今日は良い天気ですね。',\n",
       " 'お友達は日本人ですよね？強者！RT @YO_KO3: 私の親友はメグ・ライアンの切りぬきを持っていった強者です。即座に「無理。」と断られてましたが～W RT @468251793: そういうのは恥ずかしくて出来ないタイプです。RT @KaichiTamiya ふふっ(^O^)',\n",
       " 'フォローが多い人と少ない人では得られる情報量が全然違う。単なるコミュニケーションツールと考えれば問題ないのかもしれないけど、不平等と言えば不平等。 #2289 #kohmitweet',\n",
       " '欲しい情報は自分で探せば良いと言うのはもちろんその通りなんですが、フォローしている人が居なければ、混沌としたタイムラインの中で偶然興味を引く情報を見つけるということはないですよね。私はそういうのも結構重要視してます。 #2289 #kohmitweet',\n",
       " 'オーストラリアで暮らしたい！ RT @sakura_shine 泊まりに行ったお家の庭にプールがあるのですが、滑り台とジャングルクルーズの途中で見るような滝が付いています。庭のデザインの一部になっている様です。そこに太ったおばさんとかが水しぶきを上げて飛び込むのです。',\n",
       " '面白い試み。是非参加してみたいです。RT @nyattta RT @followmeJP 日本人と交流したい外国の方が多かった事から、日本語主体の外国人さんとの交流タグを #World2JP を発足。日本語が話せる外国人フォロワーさんがいる人は、タグへご誘導をお願いします',\n",
       " 'そういうのは恥ずかしくて出来ないタイプです。RT @KaichiTamiya ふふっ(^O^)ちなみに僕は雑誌を持ち込み、こんな感じでとお願いしました。RT @noburinrin: 私も『堀北真希で』って言ってみたら、一呼吸あったあとニャッと微笑(-_-)…あれ？無理？',\n",
       " '@kkki3 色的な意味で似ていますねw',\n",
       " '伸び伸び遊ばせてあげたいですね。RT @ykubo 確かに楽しい体験いっぱいしないとね。子供のうちに。RT @kaoru119: 大事であり大切なことですね。RT @ykubo: 外で遊んでる子供たちは楽しそうだなぁ。',\n",
       " 'そうなのか… RT @Galas 今は、デザイナーよりパタンナーの方が重要。こだわりのデザインで飯食えるのは、極々極々一部。名前だけ使われるのも多いし。それなら海外有名ブランドの新作で売れそうなのをパターン起こして大量生産。プレスの力でマスコミで流行に。',\n",
       " 'RT @lifehackerjapan 【最新記事】 まとめ：脱◯◯な自分！ 2010年、これを「克服」したい20選 http://bit.ly/7jjMmj',\n",
       " 'のんびり過ごせる時間を持てる事かなあ。RT @coachingbot あなたにとって利益とは何ですか？',\n",
       " 'RT @abfly Link: iPhone標準のカレンダーとgoogleカレンダーを同期させる一番便利で簡単な方法（複数のカレンダーのアカウント共有可） - これ、前にも紹介したっけ？同期問題解決した。よかった http://tumblr.com/xgi482ili',\n",
       " '買い物上手。RT @longview1124: 今日の収穫は、ロンT3枚、パーカー1枚、スラックス1本、ジャケット1枚、ブルゾン1枚。しめて、約3万円でした。意地汚いので定価調べたら、約12万でした。',\n",
       " 'おめ！RT @ykubo: おめ！RT @matu3matu3: おめ‼ RT @nekoline: フォロワーが777なう @bakeneko44 さん、こんにちは。',\n",
       " '漢方は精神科でもよく使います。保険が使えなくなると治療の選択肢が減ってしまいます。ご協力を！RT @psychotic_louis: 既出だと思うんですが、私は今知ったので…漢方薬の保険適用除外の反対署名運動にご協力を！http://bit.ly/6azpAT',\n",
       " '皆様ご協力有難うございます！ @yasuyuki_kobe @lovejesus100 @cosmoweb @saho522 @touko1544 @azumiman  @psychotic_louis 漢方薬の保険適用除外の反対署名運動http://bit.ly/6azpAT',\n",
       " 'ありがとうございます！RT @kix_nara: 署名しました。選択肢が減る事には反対です。RT @468251793 漢方は精神科でもよく使います。RT @psychotic_louis: 漢方薬の保険適用除外の反対署名運動にご協力を！http://bit.ly/6azpAT',\n",
       " 'ありがとうございます！ RT @lapislazuli921: 署名しましたー。除外されちゃ困る!!!ただでさえ慢性胃炎初診料高いのに!!  RT @psychotic_louis: 漢方薬の保険適用除外の反対署名運動にご協力を！http://bit.ly/6azpAT',\n",
       " '支援！是非フォローしてあげて下さい！ RT @ohanika: 可哀そうな方がいるので支援！\\u3000RT\\u3000@masakosama_san アカウントが勝手に抹消された！サポートとなんて待ってられない！このアイコンに見覚えある方もない方も、新アカウントにて',\n",
       " 'Quote Tweetって何ですか？ RT @NOTE_MAN: タイムラインをチラ見した限りですが。早々と、ReTweetとQuote Tweetを使い分けてる方もいらっしゃるようですね。',\n",
       " '御協力ありがとうございます！ @yumeoboro @mindlander @hirotakayama RT @psychotic_louis: 漢方薬の保険適用除外の反対署名運動にご協力を！http://bit.ly/6azpAT',\n",
       " '理解しました。ありがとうございます。RT @km_zap: 「Twitterのコメント付き RT は QT と呼ぼう。」  http://bit.ly/Q2d1Q QT @468251793: Quote Tweetって何ですか？',\n",
       " '食事の度にジェダイの戦いが起こりそうw RT @youseinomori ウチにも届いたよ〜！RT @468251793: ほ、ほしい RT @kogure スターウォーズの箸キターーーー！  http://twitpic.com/railp',\n",
       " 'アプリで対応したら使い分けても良いけど、現状では面倒。RT @yniimi @468251793 「RT」で慣れてしまってるので今頃変更してくれってのもなんだかな&#12316;って感じます。。。',\n",
       " '@sakura_shine #2でしたw',\n",
       " 'おやすみなさい。',\n",
       " 'おはようございます。寒い朝ですね。 #2289',\n",
       " 'RT @meigenbot 最初から多くのことを成しとげようとして極端な努力をすると、たちまちのうちにすべてを放棄することになります。(Dalai Lama)  #2289',\n",
       " '@wanderer_keiko @xaxrui @shin1960 @ykubo @okomes @masauru @samsecurity おはようございます！',\n",
       " 'もはや外国の人か分からないくらい日本語が上手な人もいますね！ちなみに私は日本人です。ぜひ国際交流しましょう。 RT @ftth100Mbps: 日本語主体の外国人さんとの交流タグ #World2JP を発足。',\n",
       " 'RT @shimabatake わたしの回りにも、やりがい求めてる、子育て看護婦さん、いっぱいいるよー。RT ＠kimuramoriyo 子育てなどで離職している「潜在看護師」を月1時間からの超短時間勤務制度を導入した病院がある。とても良いことだと思う',\n",
       " '@mmune ナースに限らず子育て中の母親が働こうとする時のネックの一つが勤務時間ですからね。一時間でも良いなら働きたいという人は多いはず。',\n",
       " 'これは試してみたい RT @yagamihaku: RT: @ikedachie:  @shibainuking: http://bit.ly/519xlI ベッドにiPhoneを置いておいて寝ると振動センサから寝返りや動きを察知、起きやすいタイミングでアラームを鳴らしてくれる。',\n",
       " 'おはようございます。雨は止んだかな？',\n",
       " '皆様おはありです！',\n",
       " 'そう思います。自分の他にもう一つ巨大な頭脳を持っているような感覚。自分の思いつきが無数の脳で咀嚼され、反応を返される。その中には前頭葉的な反応をする人もいるし、扁桃体的な反応をする人もいる。RT @kengo \"まるでTwitterは、人類の頭脳のようになってきたと。',\n",
       " '日本語バグはちょっとトラウマだった…  RT @tweeterjp iPhone用twitterクライアントアプリTweetie 2がバージョンアップして公式RTとリスト機能に対応！日本語バグにも対応済み！ AppStore: http://j.mp/4WJUnS',\n",
       " 'おめでとう！！ RT @daibamboo おめです！RT @en_tsumo おめ！RT @sweetviolence おめと！RT @MoAoT: おめ！！ RT @bumpyurushi: 就職受かりましたぁああああ！！＞＜',\n",
       " 'RT @mana_lei 「好きになること＝相手を知ること」違ってるからいいんだよね。真実なんて人の数だけあるんだよ。認め合うこと。受け入れること。私の言ってることは女性性ライクだけど、リンク先はビジネス系です。「説得に成功する3つのステップ」 http://ow.ly/H2Ja',\n",
       " '多様性は重要 RT @gurryjack 昔の哲学者は皆ニート・引きこもりの類RT @yoshitaka_w: RT @rkenta: 興味深い。RT @tetra_: 働かないひとが一定数いたほうが効率的？ 多様性が社会の強度を高める。 http://bit.ly/4T8vHZ',\n",
       " 'RT @iphonefan やっほーい！ RT  サークルKサンクスで、12月1日からitunes cardが20%Offだそうです。噂は本当だったんですね。 http://bit.ly/5PgSdJ/ [twicco.jp @cestcaquejm ]  #iphone',\n",
       " '値下げしてたら教えて下さい！ RT @spilca @468251793 夜中にみに行ってきます',\n",
       " 'ダイエットも節約も、成功の秘訣は日々のデータを記録する事に尽きます。人間は都合の良いように記憶を改変するので、衝動買い・衝動食い等都合の悪い事実は過少評価されてしまうからです。かくいう私もiphoneのマネー手帳で金銭チェックするようになってから反省しきり…。  #2289',\n",
       " 'RT @tchrssn 『iPhoneフェスタ2010～iPhone最強活用セミナー～』紹介者欄に「tchrssn」で無料ご招待！⇒ http://bit.ly/8iRVKk  #iphone #iphonefan #kohmitweet  #2289',\n",
       " '面白そう。 RT @arina21 心理学セミナー開始なう。今日は6人。徐々に人気コンテンツになってきているのが面白い。やっぱりモチベーションというテーマは興味深いのか。来月も違ったアプローチでのモチベーショントピック扱います。\\u3000 http://ow.ly/H453  #arys',\n",
       " 'という事で、食事も記録してみようと思ってrecrecdietというアプリを導入してみたが、いまいち使い勝手が良くない。 #iphone #2289',\n",
       " 'ベンチャー企業の社長さん達はみんな同じ雰囲気を持っているように思えるのは気のせいか。単にネクタイをしていないからそう思えるのか。 #2289',\n",
       " 'RT @2525ST 常に何かの一番でなければならない。そんな一番主義のマーケティングは余り好きではないのです。僕は僕なりの。あなたは、あなたなりのスタイルがあるのです。',\n",
       " '@natsuminori 同じようなマインドを持つ人が起業しているためかもしれませんけどね。',\n",
       " 'RT @bundokicom 【プレゼント】 #bundoki1000  http://bit.ly/2rN6i5 このTweetをRTしてくださった方の中から抽選で２名様にPILOTキャップレス万年筆をプレゼントします',\n",
       " '@tai9er  #2289 #kohmitweet 等の、多数の人が見ているハッシュタグをつけて募集してみてはいかがでしようか。もう少し反応があると思いますよ。',\n",
       " '何その物騒な覚え方… RT @luvjunk_o 死んで殺して殺して死んで、と覚えなさいと言われたwRT @mmths03_sub: なんか、覚えてるなぁーw この公式w なんでだw？RT @noname_lab: sin(a+b)=sinacosb+cosasinb',\n",
       " 'ちょっと胃がむかついたので、生姜湯を作って飲んでみた。生姜は吐き気を抑えます。 #2289',\n",
       " '意外とメジャーなのか RT @mimitane 私は、さして殺して殺して刺して、でした RT @468251793 何その物騒な覚え方… RT @luvjunk_o 死んで殺して殺して死んで、RT @noname_lab: sin(a+b)=sinacosb+cosasinb',\n",
       " 'コスコスって何!?w RT @nm7_GR 死ねコスコス死ね RT @luvjunk_o: RT @mimitane: 私はさして殺して殺して刺してでした RT @noname_lab: sin(a+b)=sinacosb+cosasinb',\n",
       " 'それは「つぶやく」と読んでですね… 漢字で書くと「粒谷区」。渋谷区のもじりです。twitterの中のコミュニティーのようなものだと思います。すいません、どなたか詳しい人説明を！RT @tai9er アドバイスをいただいたままに書いてみましたが #2289 ←コレなんですのん？',\n",
       " 'おお、ついにコスモスが咲いた…！まさかの展開 RT @Izumichael 咲いたコスモスコスモス咲いたRT @468251793: コスコスって何!?w RT @nm7_GR 死ねコスコス死ね RT @noname_lab: sin(a+b)=sinacosb+cosasinb',\n",
       " '斉田さんかわいそう RT @_barcelona 私の時は斎田殺す殺す斎田でした RT @468251793: コスコスって何!?w RT 死ねコスコス死ね RT RT 私はさして殺して殺して刺してでした RT  sin(a+b)=sinacosb+cosasinb',\n",
       " '今日もおつかれさまでした。おやすみなさい！',\n",
       " 'おはようございます！',\n",
       " '情報ありがとうございます！条件付き値下げですね。RT @spilca @468251793 値下げはされました。   ただ、店頭にそのポップはなくてサンクスの会員になってないと行けません。  Edy支払いで割引適用みたいです',\n",
       " '@tuntomo @about_3 @fumikun318 @shin48 @shin1960 @otokan @toshi_koma @chibiruri @samsecurity @kota_YA おはようございます！寒い！',\n",
       " '支援！ RT @okwave フォロワーあと3人で、777人です！ #followmeJP',\n",
       " '同じく… RT @MYJN 今年が後一ヶ月しかないなんて、考えただけでこわいこわい。\\u3000 #followmejp',\n",
       " 'これ面白いですね。JoinREDはアフリカのエイズについて啓蒙しているようです。 RT @_shimizu RT @junfukumitsu つぶやきに @JoinRED が入っていると、ウェブ上ではそのつぶやきが深紅色の文字で表示されます。。',\n",
       " 'おめでとうございます！ RT @okaya2009 おめ！RT @toshimitsu_h: おめでとうございまーす♪ RT @million02 ついに…フォロワーさんが１０００に到達しました♫皆様いつもありがとうございます。 #wanabeer 早くお祝いわなびうしなきゃ。',\n",
       " '[mealogを試してみた] レコーディングダイエットにお勧め！体重、体脂肪率、食べた物を記録するだけ。誰でもでも続けられそうです。RT @iphone_dev_jp   http://bit.ly/6NYNy4 [@malted_milk]  #iphone #2289',\n",
       " '時々こういう事を思います。RT @meigenbot 正しいことを言うときは 少しひかえめにするほうがいい、正しいことを言うときは 相手を傷つけやすいものだと気付いているほうがいい。(吉野弘『祝婚歌』)',\n",
       " '[coffee addictを試してみた] 近くの喫茶店を教えてくれるアプリ。起動一発で検索・一覧表示してくれるので便利この上ない。 #iphone #2289',\n",
       " 'ここ最近、twitterがうまく動いてないね。 #2289 #twitter #fureaiJP',\n",
       " 'おはようございます。今日も東京は晴れですね。',\n",
       " '昨夜フォローして頂いた方、フォロー返しは必ずしますので、しばしお待ち下さい。',\n",
       " '最近みんなのアイコンがサンタ帽をかぶっているけど、どこかに素材があるのでしょうか。 #2289 #kohmitweet',\n",
       " '@uragoe @bukkon @yongwho @achapy_kenji おお！ありがとうございます！！早速やってみよう。',\n",
       " '@achapy_kenji @yongwho @bukkon @uragoe @the_seniors サンタ帽はipodではうまくかぶれませんね～。家に帰ったら再トライ！',\n",
       " '情報ありがとうございます！@croron @pipipi163 @solo_guitar',\n",
       " '@mohimohidotcom 正しい事には反論出来ず、相手は言いたい事を言えなくなってしまいます。また「正しい事をしていない」と自覚している場合、相手は自分をさらに責めてしまうことになります。 #2289',\n",
       " '見間違いでなければフォロワーさん2000人～！！！ありがとうございます！！！！！  #followmeJP ありがとう！',\n",
       " 'これだけたくさんの人とほぼリアルタイムに繋がれるのはtwitterならではですよね。フォロワーが多ければ良いという訳ではないのですが、始めたばかりの方はぜひ相互フォローしてtwitterの良さを体験して頂きたいと思います。 #followmeJP',\n",
       " '@NasiLemakFujin だんだん慣れてくるので大丈夫ですよ。',\n",
       " '心地良い規模というのはありますね。ここまで来てみていろいろ分かりました。RT @followmeJP .@468251793 そうですね。最初は100人くらいで、tw交流の良さを知って、その後は、各人の方向性で、ｔｗの世界を広げて頂きたい。その一助に #followmeJP',\n",
       " '@993G55 @13nightcr0ws @chibiruri @orangesignal @428bot @_barcelona @samsecurity @mizu34 おはようございます！',\n",
       " '最近なかなかtwitterに繋がらない。投稿は出来るみたいだけど… 利用者が急増した？ #2289 #kohmitweet #twitter',\n",
       " 'おなじく支援！RT @pomaru せめて支援！ QT @lovecomu 肩こりで悩んでる人フォローし合いましょう #followmeJP',\n",
       " '近所のコーヒー屋さんでは冷凍保存を勧められました。RT @bacars #Coffee RT @key_eshop: コーヒーって実はとってもデリケート。熱や湿気を嫌います。保存は日のあたらない風通しの良い場所でお願いします。やっぱりおいしく飲みたいですよね。',\n",
       " 'なるほど RT @k_itoh うっかり結露の恐れがあるので、冷凍庫には入れません。RT @468251793: 近所のコーヒー屋さんでは冷凍保存を勧められました。RT @bacars #Coffee RT @key_eshop: コーヒーって実はとってもデリケート。',\n",
       " '皮膚科って漢字が難しくて本当に大変！学生の頃は苦手だったなぁ。RT @enodon もうグーグル日本語入力ですな。腺窩上皮も出るし、掌蹠膿疱症も出る。尋常性乾癬、尋常性疣贅、顔面播種状粟粒性狼瘡、酒渣、汎発性膿疱性乾癬、壊疽性膿皮症…体腔、尿沈渣、集塊、リンパ球の集簇… #189',\n",
       " '意外とすぐに味が悪くなってしまうんですよ。RT @dakkon_darts @468251793 コーヒーがデリケートとは知りませんでした。豆は強そうに見えましたから：）',\n",
       " 'よくあります〜 RT @sayori27 気に入った豆を大事にしすぎて味が劣化することあります…orz RT @468251793: 意外とすぐに味が悪くなってしまうんですよ。RT @dakkon_darts @468251793 コーヒーがデリケートとは知りませんでした。',\n",
       " '待ってました！ RT @suzukinao ポラロイドのインスタントフィルム、カメラが復活。名機「SX-70」も来年発売\\u3000^IT戦士\\u3000http://bit.ly/8MBdcj /via @itmedia_news けっこう売れそうな気がする。 /via @galliano 良さげ',\n",
       " '@hirotakayama @crdy @white_tomato 今までやったことありませんでした。',\n",
       " 'お茶の冷凍保存ってどうなんだろう？RT @luvjunk_o ということで今一保堂のお茶を開けたので、冷凍保存しました。 RT @cosmoweb: 冷蔵庫で http://tl.gd/14spo',\n",
       " 'RT @kazuyo_k: Twitter初心者のための使いこなしの10ステップ http://ow.ly/EzRa Twitter初級者が中級者になるための使いこなし10ステップ http://ow.ly/EzRD',\n",
       " 'なんとなく「造顔マッサージ」という言葉を思い出した。',\n",
       " '佐伯チズという人がやっているマッサージです。「10年前の顔になる」とかそんなキャッチコピーで一時話題になってました。RT @mikisihiho: 何でですか？アンチエイジング？RT @468251793 なんとなく「造顔マッサージ」という言葉を思い出した。',\n",
       " 'そうなのですか～ RT @hondarada: 茶所静岡出身ですが、子供のころからお茶は冷凍庫です。 RT @468251793 お茶の冷凍保存ってどうなんだろう？RT @luvjunk_o ということで今一保堂のお茶を開けたので、冷凍保存 http://tl.gd/14spo',\n",
       " 'おめでとうございます！ RT @yung_yi: いつの間にか2000名を超えていました。皆さんありがとう＾＾！',\n",
       " 'RT @matsuyou: 【アヒル口募集】来年マガジンハウスから発売予定「twitter発アヒル口本」ではアヒル口写真を大募集中！@ahiruro をフォロー、 #ahiru_p のタグをつけてtwitterに写真をアップして下さい！採用させて頂く方にはDM！ #ahiru',\n",
       " '@white_tomato @mikisihiho すいません、勘違いでした。申し訳ない。',\n",
       " '私も分かりませんw RT @mi_hop @468251793 アヒル口なら年齢制限なしですかぁ？ｗ',\n",
       " 'おはようございます。朝焼けがきれいな朝です。',\n",
       " '世の中には頭の良い人が沢山いる。自分は平凡な人間で、彼等の考えることにはとても叶わないと思うが、考えることを止めては進歩がないとも思う。自分の能力を見極めつつ少しずつ進んで行きたい。 #2289',\n",
       " '同意 RT @mokadan_hiroto 【なんか怪しい…】いま立続けに３件ほど\\u3000①外人アカウントで②ゼロツイートで③フォローばかり大量にしてて④フォロワーほぼゼロで⑤プロフURLが短縮URL\\u3000もしパスワード目的のフィッシングだとしたら怖いから用心してブロック。',\n",
       " '@hirameki これからは「いかにして情報を仕分けするか」ですね。\"iphoneにこのアプリを入れて、twitterはこのアカウントをフォローして下さい\"なんてことを勧めてくれるメディアをまたいだ情報のコンシェルジュみたいなサービスがあったらいいのに。  #2289',\n",
       " '気落ちしないマジックインキもお願いします。RT xxassydow: 就活で落ちないマジックインキもお願いします。 RT @magic_ink: 【合格祈願】受験生の皆さま 落ちない油性マジックインキあります。 #followmeJP',\n",
       " 'RT @hateb_sci_ac asahi.com（朝日新聞社）：ネット検索で脳イキイキ、米大学研究\\u3000認知症予防にも？ - サイエンス http://bit.ly/6DlZEw',\n",
       " 'RT @Lupin_the_3rd 本日21時よりお祭り開催します。RT連発でご迷惑をおかけいたします。【告知】本日12月４日（第１金曜日）21時から血祭り開催。自由参加ください。',\n",
       " '私も見ました(コミックの方)。実際には女性が仕事に生きる事が難しいからこそマンガのネタになるのかなと思います。RT @daaishi リアルクローズ見て思ったもの。仕事と女としての人生とのかねあいって難しいよなあ。でも仕事に生きる女性はすごく好き。私もなりたいキャリアウーマン。',\n",
       " '血液型のお祭りなんです。略して血祭り… RT @NasiLemakFujin @468251793 血祭りって、、、すごいネーミングですね。',\n",
       " '抹茶味には目がないのです。RT @sweets_portal 京都 宇治のお茶屋作挽きたて抹茶をたっぷり使った濃厚抹茶味です。http://bit.ly/7Iqtk2さ',\n",
       " '男から見ても女性の葛藤が良く分かった気になります。面白いのでつい最新刊まで買っちゃいました。 RT @daaishi @468251793 コミックが元だったんだ！なんていうかその仕事か女の人生かの狭間の葛藤とかの描写がほんっとうまくてムズムズします。',\n",
       " 'おはようございます。昨日は爆睡してしまいました！',\n",
       " '@wanderer_keiko @decor2009 @nekozukineko3 @saginomiya1989 @samsecurity おはようございます！',\n",
       " 'ライフハックという言葉をよく聞くけど、そんなに何でも効率的にやらなくても良いんじゃないかと思ったりする。 #2289',\n",
       " 'ビルケンシュトックのサンダルを買ってみた。土踏まずのところが高くなっていて、慣れるまで結構痛い。が、足の疲れは少なくなった感じ。ショップの店員は何年でも使えると言っていたが、使っている人に聞いたら、「夏場に臭くなって捨てるしかなくなる」と言われた。 #2289',\n",
       " '@toshi_koma 紹介されている方法をそのまま取り込むのではなく、考える事が必要ですよね。',\n",
       " '@superkahk55 ある意味ツボ押しされているような感覚です。人によっては耐えられない痛みかも。',\n",
       " '@harapekoaomusi 内履きなので長持ちするかな？ちょっと高いですからね。',\n",
       " '@august_the_blue とりあえず濡らさないように気をつけます！！梅雨の時期は注意ですね。',\n",
       " '@pa9mania 私も迷う所なのでなかなか病気については書けずにいます。ただ、今は調べれば誰でも情報にアクセス出来るので、教科書に載っているような事柄については書いても良いのかなという気もします。正確な情報を知る事で安心し、対策を立てる事もできると思うので。',\n",
       " 'ボラロイド大好き！期待してます！RT @PolaroidJP ポラロイドは復活します！アナログ版はもちろん、ZINKテクノロジーを搭載したデジタル版ポラロイドでインスタントカメラの楽しさを伝えたい。 http://bit.ly/3sMQbH http://bit.ly/44D3g',\n",
       " '@pa9mania 病気の情報等はtwitterよりブログの方が誤解がなくて良いと思います。よろしくお願いします。',\n",
       " 'RT @greenzjp 話題になってるこの記事、TOPSYにて101tweet突破しました！ -「楽しい！」という気持ちには人間の行動を変えるパワーがあるという実験結果 @greenzjp http://bit.ly/4Dcjsv',\n",
       " 'おはようございます。でもまた寝ます！ #2289',\n",
       " '@masauru @watabelasco @samsecurity @mizu34 おはようございます！せっかくの日曜なので二度寝しようと意気込んだは良いものの、twitter見てたら結局眠気が覚めてしまいましたw あきらめて起きます。',\n",
       " 'この位のテンションでダイエットしたい RT @leopanda2007 さあー\\u3000今日もいいかんじに脂肪が燃え始めたぞぅぅ\\u3000・・・\\u3000燃えろよもえろよ、脂肪よもえろ\\u3000♪',\n",
       " \"I am listening to 'Morning at the Beach' in Ambiance http://bit.ly/ambiance\",\n",
       " '正しい知識を伝えて下さい。頑張って！ RT @ribbonmovement HPVに感染＝子宮頸がんではない。ワクチンはその感染を防ぐ。',\n",
       " 'RT @ermlu mixiは都会人が無理して田舎の親密感を作ろうとしてるイメージ。Twitterは他人にそこまで関心がない都会人のイメージ。 RT @naoprio mixiは信号があるのに事故が多い交差点。Twitterは信号ないのに事故が起こりにくい交差点のイメージ。',\n",
       " '私の猫アイコンリストが順調に育ってます。  #2289 #kohmitweet',\n",
       " '1000まではその気さえあれば誰でもすぐ増やせると思います。RT @chappy007007 twitterフォロワーの増やし方＜１ヶ月で１千ずつフォロワーを増やす方法♪＞【つい～ぷるＴＶ：第２話】→ #tweeplejp http://bit.ly/5YFPjx',\n",
       " '@getsstuckin 発言は100人超えると全て見切れないですね。フォロワーが千人いるという事が良いかどうかはその人の価値観ですが、私は色々な人の考えを知ることが出来たり、発言に返事をもらって思考がブラッシュアップされること等に魅力を感じてます。  #kohmitweet',\n",
       " 'そういう面もありますね。RT @saomium RT @pikarrr: ツイッターはブログほどではないだろうが、通常の掲示板のようにコメントして終わりではなく、育成する面があり手間暇がかかる。そのあたりが暇な人には育成ゲームのようでおもしろいのだろう。',\n",
       " \"I am listening to 'Creek 2' in Ambiance http://bit.ly/ambiance\",\n",
       " '深い睡眠である徐波睡眠中に成長ホルモン(以下GH:glowth hormone)が下垂体から分泌される。GHが最も多く分泌されるのは午前2時頃。GHの不足により皮膚の潤い、骨密度、免疫力、気力等が低下し、老化が早まったかのような症状が出現する。',\n",
       " '松果体から分泌されるメラトニンは脳の睡眠中枢に作用して睡眠を引き起こす。メラトニンは夕方から夜にかけて産生され、深夜に最も高値となる。加齢により分泌が少なくなり高齢者の睡眠障害を起こす。また、メラトニンには直接・間接的に活性酸素を消去する能力(抗酸化作用)があると報告されている。',\n",
       " '@mizu34 一応私もお医者さんの端くれですのでw',\n",
       " '情報ありがとうございます。でも多分何を使っても読み切れませんw そんなものだと思ってます。ただ、tweetdeckは使ってみようかなと考えてました。普段はPCだとhootsuiteです。RT @h013001b TweetDeckを使うと発言が比較的見やすくなると思いますよ',\n",
       " 'おはようございます。寒いですね！',\n",
       " '@moililichacha 今ハワイにいらっしゃるんですか？良いですね～。',\n",
       " '怖いもの見たさで覗いてみたらホントにスピリチュアル。RT @poni425 RT @panapana こっちもつぶやいてみよう～ハッシュタグでスピリチュアルな会話ができたら楽しいですね！ディープな話題になりそうですが…ｗ @noya_momose  #spiritualjp',\n",
       " 'まだ落としてないけど無料だし便利そう。かなり詳しく成分を調べられるようです RT @iphonejoshi iPhone女史 更新 カロリーズLITE | 簡単にカロリーがわかるアプリ http://j.mp/7Au2ZR #followmeJP',\n",
       " 'RT @michio_mukui 【国際】 中国でニンニク高騰、「新型」で投機マネー （読売新聞）: インフル 【北京＝佐伯聡士】中国で、感染が拡大する新型インフルエンザ予防に効果があるとして、ニンニクやトウガラシの価格が相次いで高.. http://bit.ly/5MeCeW',\n",
       " 'よし起きよう。おはようございます！',\n",
       " 'sleep cycleというアプリを使い始めて1週間くらい経ちます。眠りが浅くなって体が動き始めると、その振動を感知してアラームが鳴るという仕組みでアラームが作動する時間は設定時刻を前後しますが、自然に起床できます。アラームのメロディも美しい。 #iphone',\n",
       " '幼い頃夢見た未来が少しづつ現実に！当分お金持ちしか行けないでしょうけど RT @RakutenMinnew ２０１１年に宇宙の旅実現へ 民間スペースシップ初公開 - Infoseek http://hotnews.infoseek.co.jp/article/26140/',\n",
       " 'ちょっと良さげ RT @tokyokeizai 海の石けん「ル・セル」発売のご案内\\u3000http://www.tokyo-keizai.co.jp/press/60.html',\n",
       " '@undakovr 白色ワセリンが刺激が少なくておすすめ。ドラッグストアで売ってますよ。 RT @undakovr 唇が裂けて痛い。痛いのぉぉぉ #followmejp',\n",
       " 'おめでとうございます！ RT @EFiL_net ブログ更新しました:: 昨日は誕生日でした～！＆感激の連続をご報告！ http://bit.ly/7WPJAT',\n",
       " 'RT @followmeJP: 主要な日本ユーザーの交流系ハッシュタグまとめ→ http://bit.ly/7nXntC ／ツイッター中毒者が集まる #team_naraku を追加。フォロー募集がテーマの #followmeJP との使い分けをお薦めします',\n",
       " '【iphone式簡単ダイエット】 一日一回、体重&体脂肪率を測定。食事の内容と合わせて\"mealog\"に記録。カロリーは\"caloriesLITE\"で確認する。\"AAA健康計算で基礎代謝量等を計算。運動は\"歩数計\"を使用。歩数が少なければ歩く距離を増やす。ダイエットがこれで完結！',\n",
       " 'letitsleepは寝言を記録できるアプリ。紹介文では夢のある使い方が書かれていたが、これで睡眠時無呼吸症候群が発見できるんじゃないか。寝ているはずなのに日中眠い人はやってみては。激しいイビキがあったら要注意！',\n",
       " '@malted_milk 了解であります。',\n",
       " 'おはようございます。東京は曇り。',\n",
       " '@pikoron @tomoponjp @wanderer_keiko @mizu34 @db_akb @samsecurity おはようございます！',\n",
       " '.@chibiruri @otokan @shin1960 おはようございますー。',\n",
       " '今日は成年後見人の鑑定書を書かなければ…。気も遣うし時間がかかるので大変。 #2289',\n",
       " '@bukkon 精神科にいると、年1回位は書く機会があります。診察して書く事自体も手間が掛かりますが、お金が絡むので家族間でもめることもあり…。正直あまり関わりたくない書類です。',\n",
       " '実はこういうのもアリです。ただし周りにびっくりされないように  RT @killamaru RT @25rin: ウツがひどくて死にたくなるときは「あぁぁ～、死にてぇぇぇ」と叫んでみる。するともう一人の私が「本当はそんな気ないくせにｗｗ」と笑ってくれる。',\n",
       " 'この間買い物したのに！ RT @NIKKEI_NET 【社会】 高島屋新宿店、71人分の顧客情報紛失\\u3000クレジット番号も (2009/12/09 16:31) http://ff.im/-cEfIv',\n",
       " 'RT @suizou 「1Shoot」タイマーモードもついている連射タイプの人気カメラアプリが限定無料（通常350円）\\u3000http://bit.ly/5xFnKf',\n",
       " '頑張って！RT @the_professor_c しえん RT @AyaMoana: 支援♪ RT @dezuni: 支援☆ QT @takefours: 私もあと29人で1000フォロワーになります。今日中に達成できたらいいな～！#followmeJP #team_naraku',\n",
       " '@takefours どういたしまして～。',\n",
       " '最近マイリストにニュースをつぶやくアカウントをまとめて、通勤時間等にiphoneでチェックしてます。注目ニュースはこれだけで分かるのでいい感じです。 #2289 #iphone #kohmitweet #twitter',\n",
       " '初めて修造にコメントされたw  #2289 #kohmitweet',\n",
       " 'リスパダール液剤はグレープフルーツに近い味。エビリファイ液剤はオレンジ味。少し舐めた感じだとエビリファイの方が甘いんだけど、「苦い」と言われるのはエビリファイだけ。あとから苦味が来るのかな？ #189',\n",
       " '良い言葉です RT @fmfm_collector RT sabaaitter: 「疲れた」と言うと、家族にも疲れが伝染する。逆に「頑張った」と言うと、何を頑張ったのか尋ねられる。会話が明るくなる。皆が「明日も頑張ろう」という前向きな心になる。とのことだそう。なるほど！',\n",
       " '本人が「頑張った」という分には良いと思いますよ。うつ病の人に「頑張れ」と言うのは避けた方が良いですが RT @hono_bono 良い言葉ですが、うつなど精神疾患の人には禁句です。 RT sabaaitter: 「疲れた」と言うと、家族にも疲れが伝染する。逆に「頑張った」と言うと',\n",
       " 'もちろん気軽には言いませんが、診察室では時にうつの人相手に「頑張って」と言うこともあります。その人との信頼関係や状況次第。RT @marony0607 私は軽い鬱なんですが、「頑張った」「頑張れ」の方がいいですね。鬱じゃなくて単に怠惰なのかな RT @cocoa997:',\n",
       " 'そう言えば神田橋先生という精神療法の大家が、「死にたくなった時には自分が自殺して死体となり、腐って土に還るまでを脳内でシミュレーションすると良い」という内容の事をどこかで書いていた気がする。仮想自殺だが、やってみると割とカタルシスを得られてスッキリする。',\n",
       " '泡洗顔は大事。RT @RakutenMinnew ためしてガッテン シミ対策 を紹介！... http://j.mp/8UYuaA',\n",
       " '科学的な区別は難しいですが、典型的なうつとそうでない人は経験を積んだ医者ならわかることが多いです。RT @marony0607 @468251793 正直なところ、鬱と怠惰は科学的に区別できるんですか？',\n",
       " '@SiriusArc7 そこは空想ですからw お好きな場所でどうぞ。',\n",
       " 'レシピじゃないw RT @PiroNiam こ、これは…w RT @reiko_a: 「みかん」「レシピ」で思い出した。今までで一番衝撃を受けたレシピ。http://bit.ly/Yf0E9',\n",
       " 'それも面白いかも RT @SiriusArc7 @468251793 いっそ自宅で自殺して床とかと同化する妄想ってのも面白そうですな。何年家が残るんだろうｗ',\n",
       " '面白すぎる！ RT @jmr_er マスコミの偏向報道が面白すぎる - Just Tee Off ！～病気と闘う全ての人たちのために～ http://bit.ly/86Yauc #twitbackr',\n",
       " '近赤外分光法、通称光トポグラフィーと呼ばれているものですね。心の病気も脳の病気として理解出来るようになりつつありますが、まだこういったものだけで全てが分かるところまではいっていません。RT @rayfactory うつ病は「心の病気」じゃなくて脳（=体）の病気',\n",
       " '「うつ病」と病名を言わずに「抑うつ状態」という状態像を告げることは良くあります。 RT @ymsr21034 病状がはっきりしない患者に対し、とりあえず「うつ」と呼んでおく、といったことはあるでしょうか？',\n",
       " '頑張りましたね！ RT @_itaru 今日も頑張った！（早速取り入れてみた。）→ QT @468251793 良い言葉です RT @fmfm_collector RT sabaaitter: 「疲れた」と言うと、家族にも疲れが伝染する。逆に「頑張った」と言うと、',\n",
       " 'そういう場合もありますし、もう少し経過を見ないと何とも言えないという場合もあります。RT @yuhki23 それは告げることによって何かが悪化するからですか？ RT @468251793: 「うつ病」と病名を言わずに「抑うつ状態」',\n",
       " 'おつかれさまです！RT @jmr_er ようやく帰路。これからご飯です。今がピークですが、地域医療崩壊阻止のために、明日も頑張ります！#followmejp',\n",
       " 'おはようございます！',\n",
       " 'これは絶対必要だと思う。RT @taromatsumura \"「Click Clever, Click Safe」\" - 「ネットの安全」が学校の必修科目に\\u3000英国で - ITmedia News http://j.mp/8bACcc',\n",
       " 'RT @kengo アイコンがなぜ大事かというと、Twitter のタイムライン上の識別はもちろんそうなんですが、ウェブのサービスをいろいろ利用する際にアイコンが共通しているとそれぞれ知り合いを見つけやすいのでそのためにということ…ユーザー名は同じものが取れるとは限らないしね',\n",
       " 'これはすごいニュースだと思いますよ。毎日新聞はもっと大きく取り上げるべき。RT @mainichijpnews 筋ジストロフィー：ｉＰＳ細胞で骨格筋、治療に光\\u3000鳥取大 http://j.mp/7m3UgX',\n",
       " 'なるほど、そういう考え方もありますね RT @kenichin625 生まれつき精神的には男性は繊細で弱く、女性は図太く強い。だから、子供の頃から「男らしく」、「女らしく」とある程度の矯正が必要。今は「〜らしく」が弱くなっている。悪い事ではないが。RT @IKEDA_MIKI',\n",
       " '男性は中性化してるのにね… RT @xn9nex 働く女子の「オス化」現象\\u300010人に1人「あごヒゲ生えてきた」 (J-CASTニュース) | エキサイトニュース http://ow.ly/Kyr2',\n",
       " '現代美術館好き。ワタリウム美術館も。RT @topos0204 東京都現代美術館、井上雄彦さんのプロジェクトだけでなく、スター建築家：妹島和世さんの空間デザイン/ コム・デ・ギャルソン展など、見所だらけ！http://j.mp/5yqWK #design #art',\n",
       " 'たまにいますね！本人が気にしなければいいんですが、なんとなく見てしまいますw RT @boby_wind @468251793 ジブンはカンペキにハナヒゲ生えてる人知ってる！',\n",
       " 'twitterでも応用出来そうですね。 RT @yhachisu 「アメーバなうでフォロワー1000人にする方法を考えてみた」http://bit.ly/7A2Mt6',\n",
       " 'やはり女性ホルモン。RT @sunagimomazui 仕事と関係ないヒゲもあるし。彼氏がいないと生える。 RT @sakXanadu :働いてなくても生えるのは何人に１人か RT @xn9nex 働く女子の「オス化」現象「あごヒゲ生えてきた」 http://ow.ly/Kyr2',\n",
       " 'おはようございます。東京の天気は雨の予報です。ちょっとがっかり。',\n",
       " '.@mizu34 @samsecurity @Mikann_Batake @about_3 @konalazy @noncal @kurokaichi おはようございます～',\n",
       " '『死ぬときに後悔すること２５』、買って読みました。考えさせられる内容の良い本でした。終末期医療に携わる著者だからこそ書けた本ですね。守秘義務に抵触してないかどうかだけが心配でしたが… RT @Lupin_the_3rd 『死ぬときに後悔すること２５』 #2289',\n",
       " '@Lupin_the_3rd 医師の守秘義務は刑法に定められているのでうっかり秘密を漏らすと犯罪になってしまうのです...',\n",
       " 'iphoneでブログを書きたいのですが、どこのブログがお勧めですか？twitterと連携しやすいところならなお良いです。\\u3000#iphonefan',\n",
       " 'RT @roppongihills 【イベント】豪華ギフトが当たるWHITE GIFTキャンペーン、応募締め切り間近です！クーポンは引き続き25日までもらえます。\\u3000詳しくは⇒ http://bit.ly/5gVAXf',\n",
       " 'RT @shinichiro_sudo RT @inarich: ツイッター初！★企業協賛／12月tw共同販促キャンペーン http://bit.ly/4fAGQh ★ユニークな割引き・プレゼントを追加中。フォローするだ (cont) http://tl.gd/17iqb',\n",
       " '精神分析、認知療法、対人関係療法、マインドフルネス等々、精神療法はいろいろあるけれど切り口が違うだけで内包する真実は同じなのだろう。 #2289 @myen',\n",
       " '木村先生のアイコンがプリクラ風になっている。真面目な呟きとのギャップが… RT @kimuramoriyo いわゆる幹部と言われる人が私のtweetsのプリントアウトを持っているときは驚いた。コピー大変だったろう。思わずfollow me!と言ってしまったが',\n",
       " '昔からファンだった綾辻行人のanother、買おうかどうか散々迷ってやめた。ホラーじゃなくて推理小説なら即買いだったのに。 #2289',\n",
       " '高齢者は気が付くと重症化してるので私も気になります。RT @AKITOD 発熱前に敗血症を見つける高齢者相手の仕事をしていると、今回の症状のまとめはしておきたいなぁと思う今日この頃。個人的には、咽頭粘膜の発赤などの粘膜所見が他疾患に比べて強い。咳嗽の頻度が多い。と思うのですが',\n",
       " 'twitterのオフ会に参加したいけれども根が社交的ではないのでアンビバレンツな気持ち。 #2289',\n",
       " 'コンピューターによって今まで出来なかったことが出来るようになった。しかし一方で、機械やソフトの限界以上の事は出来ないということを忘れてはいけない。 #2289 @myen',\n",
       " 'そういう人いますね！いかにも飲めそうなのに「飲めない」と言われると周りがちょっとがっかりするんですよね。本人に罪は無いんですが。RT @jmr_er 私は違う意味でオフ会に出れません・・どっからどう見ても酒豪にしか見えないのに、一滴も飲めないんです；；\\u3000なので躊躇#2289',\n",
       " '私もそれ程飲める方ではないので、雰囲気と味重視です。RT @tamago_zake .@468251793 でも最近は本当、飲めない人も多くなってる気がするので、今後、あまりくだけていないような宴（笑）はお酒に比重を置かない方向とかになるのかもですね。（＾＾',\n",
       " 'おはようございます。けさはsleep cycleがうまい具合に起こしてくれました！ #2289',\n",
       " '@pa9mania 睡眠障害もいろいろなので一概に言えませんが、sleep cycleは眠りが浅くなった時を感知してアラームを鳴らすので、何もしないよりは起きやすくなるかもしれませんね。',\n",
       " 'これが分からなかったんです。ありがとうございます。RT @MiwaOgletree 英語の略語、日本人のツイッターで英語を習ってる人に便利かも。\\u3000RT @Jason_Pollock: Twitter Dictionary http://bit.ly/7XVVNa',\n",
       " 'おめでとうございます！次のバージョンではBMIを計算出来るようにして下さい。RT @malted_milk Mealogが健康&フィットネスの7位になってる！',\n",
       " 'なるほど RT vovm: subaru0921 ブロックされると「フォローしている/されている」が、同時にへりますから。またはリムッターをフォローしてればその都度通知してくれるみたいですが...。 #kohmitweet #twitter',\n",
       " 'RT @iphonefan RT VJ_TAKUMA    卵の殻のように薄いけど丈夫なiPhoneケース｢eggshell｣ francis恩田サンのFocalから http://bit.ly/5fESVY  [twicco.jp @fujii ]  #iphone',\n",
       " '【Hipstamanic】トイカメラアプリですが、画面のデザインも含めて丸ごとトイカメラの雰囲気を再現！カメラレンズやフィルムを変えると仕上がりが変わる仕組みです。出来上がった写真は絵画的な雰囲気でgood！ #iphone http://moby.to/tkhdx2',\n",
       " '@fivetwoeleven どんな構図で撮れているかすらも分からないというw 昔HOLGAを使ってましたが、本当にあんな感じです。',\n",
       " '時々twitterの不具合でフォローやフォロワーの数が増減するようなので、あまり気にしない方が良いと思います。とりあえず続けていればだんだんフォロワーは増えていきますよ。  #kohmitweet',\n",
       " 'ふむ RT @clione ！RT @fohtake: 行動経済学会でのローウェンスタイン教授の講演によれば、食品のカロリー表示を義務付けてもダイエットには効果がないらしい。逆に、カロリー摂取量が増えるとのこと。ファース (cont) http://tl.gd/1809c',\n",
       " '必読です！！ RT @oakirb RT @toru_saito これは全ツイッターユーザー必読ではないでしょうか。 [news] - 原因不明のTwitterアカウントが壊れる現象の一部始終とその対策法まとめ http://j.mp/5fWbs0',\n",
       " '医者の不養生 RT @mabou77 自分も反省 RT @jounetsu  【情熱語録】雑誌で「こんなライフスタイル素敵ですよ」「こんな食生活素敵ですよ」って言ってるのに、自分たちは休みはない、食べ物は酷い、睡眠時間は無茶苦茶っていう生活。――雑誌編集長・岩佐十良',\n",
       " '.@KEITH_BAUR タイムライン上の自分のアカウントをクリックすると「それはあなたです！」と表示されるのですが、びっくりしますよね～。',\n",
       " '今日はそろそろ落ちます。おやすみなさい！',\n",
       " '一瞬ヤバいと思ったが、これも流行りそう。能動的な情報提供はされている訳だし。RT @mkeisuke RT @tweetmeme クレジットカードでの買い物（店・品物・値段）を友だちと共有するサービスBlippy–ヤバそうだが重要な側面も http://bit.ly/7ctMZh',\n",
       " 'RT @nyattta 2010年に世界経済が２番底になる理由まとめ http://bit.ly/8JoWIV ／再掲 @myen',\n",
       " '参加したい！ RT @followmeJP #tg_maturi 【リアル・交流系ハッシュタグ祭り in Tokyo】開催地：東京のどっか ｜内容：リアル交流をしてフォロー促進。あとは、各タグの面白プレゼン ｜雰囲気：緩め\\u3000｜料金：呑み代程度\\u3000｜ustream：出来ればやる',\n",
       " 'RT @mickey_blog: 1億！｜登録数間もなく1億人・ツイッターの登録数推移などをグラフ化してみる http://oneclip.jp/xuKAww',\n",
       " 'RT @mickey_blog: 素直にTwitter API 使ったほうが楽｜twitterの興味のあるつぶやき(ツイート)を自動で収集する仕組みを作ってみました - EC studio 技術ブログ http://oneclip.jp/3ohrCz',\n",
       " 'あるあるｗ\\u3000RT @canoin: 夜は色々考えるけど、朝になるとそのほとんどがどうでもいいなと思う。',\n",
       " '精神科医ですが、彼らを病的とは思いません。大丈夫ですよ～  RT @azumizoku: どらえもんの「のびた」や「じゃいあん」は今では「多動症候群」という有り難い病名をいただいて、矯正されるそうです。\\u3000RT @applecider52:',\n",
       " '@Honestman_jpn よほど本人や周囲が困っていなければ、多少変わっていても病名をつけるのは控えるべきだと私は思います。歴史上の多くの偉人達も「病気」でしたが、もし「矯正」されていたら今の文明や文化はなかったかもしれません。',\n",
       " '注意欠陥/多動性障害（ADHD)のことを指していると思われます。病因はまだ不明。一つのことに集中するのが困難で、落ち着いていられなかったりします。RT @getsstuckin: 多動症候群てなんですか？',\n",
       " '病名をつけて治療することが良い方向に向かえば良いけれど、「病気だからここまでしか出来ない」と本人も周りも考えてしまい、可能性をつぶしてしまうことも多々ある。',\n",
       " '自分が幸せになるように曲解したいものです\\u3000RT @meigenbot: まず事実をつかめ。それから思うままに曲解せよ。 マーク・トウェイン',\n",
       " 'そういう意味ではのびたやジャイアンの例えも役立ちますね。RT @maruchika: @468251793 ほんとうですね。ただ、全く知らない周囲に対して説明するには、わかりやすい例えがあると、納得してもらいやすいのです。',\n",
       " '非常に難しいです。正常の基準も時代や地域によって違いますし\\u3000RT @kotan: @468251793 著しく注意力散漫で忘れっぽい性格だと多動の一種になるのでしょうか。どこまでがその子の性格で、どこからが病気と診断されるのかが難しいそうです。',\n",
       " '変わると思います。身近な例ですが、「風邪を引いたかも」と考えたとたんに体の具合が悪くなり、学校を休んだりしたことはないでしょうか。意識するしないに関わらず、あるレッテルを貼るとそのレッテルに合うように考え、行動してしまうものなんです。RT @Honestman_jpn:',\n",
       " '.@Honestman_jpn 逆に言えば、良いレッテルを貼れば良いところを伸ばす事も出来ます。使えないと思っていた人がリーダーを任せた途端にきびきび動くようになったり、迷惑ばかりかけていた子供が親を亡くしてから大黒柱として一家を支えるため自立するようになったり。',\n",
       " 'もうそろそろ回診に行こう。実は当直中なのです。 #2289',\n",
       " '私はPCでhootsuite、iphoneでtwittelaterを使ってやってます。RT @hirapooh URLの短縮方法、だれか教えて～～～  #kohmitweet #2289',\n",
       " '私もあまり血は得意でなかったのですが、慣れてしまいました。意外と人間は適応するもんです。RT @matsu1224 @468251793 私も血さえ大丈夫なら精神科医になってみたかったです。でも自分が心療内科にかかってしまいました(^▽^;)',\n",
       " '普段あまり飲まないのに、当直していると飲みに行きたくなります。 #2289',\n",
       " 'ただ今戻りましたー RT @samsecurity @468251793 さん、おかえりなさい！',\n",
       " '@ahmad9314 @matsu1224 ありがとうございます！朝まで頑張りますよ！',\n",
       " '慣れですよー。医学部の動物実験、解剖実習とクリアしていくに従って、キャーキャー言ってた可愛いあの子もメスをスイスイ走らせ、ためらいなく注射するように… RT @matsu1224 @468251793 慣れ，ですかねぇ・・・注射さされているところも見られないのに(￣w￣)',\n",
       " '@tamago_zake そんなに格好良くはないですw',\n",
       " 'RT @rikuo 新たにフォローされた方は初心者の人が多いかな？以前のエントリーで初心者向けに情報をまとめたものもあったり http://j.mp/AMqWi 一方こちらは中級者向けのTwitterコネタ、裏技集です http://j.mp/Ftfo8',\n",
       " '昨夜は無事と言えば無事だが、微妙に呼ばれる当直でした。いろいろ返信くださった方、返せなくてすみません。',\n",
       " 'これも はiphoneアプリのhipstamaticで撮影。#iphone http://moby.to/91xmxy',\n",
       " '今度windows7マシンを買うのですが、32bitにするか64bitにするかでずっと迷ってます。無難に32bitにしようかなあ。 #2289 #windows7',\n",
       " '知らない人をフォローするのは最初ちょっと抵抗がありますからね。 #kohmitweet RT @endlandboss Twitterは、標準的な使い方においては、内向的（控えめ）な日本人に気質には合わないのかもしれないと最近ちょっと思う。やっているのは、いい意味で社交的な人。',\n",
       " '@konalazy 64bitだとOS自体も重くなるのですか？',\n",
       " '@konalazy そうでしたか、教えて頂きありがとうございます。',\n",
       " '情報ありがとうございます！RT @KEITH_BAUR 僕もそれでなやんでます。参考程度にどうぞ→http://bit.ly/YvFZt\\u3000RT @468251793: 今度windows7マシンを買うのですが、32bitにするか64bitにするかでずっと迷ってます。',\n",
       " 'twitterの良い所をうまく説明するのは難しいです。RT @endlandboss 僕も会うひとごとにTwitterのプレゼンをしているのですが、興味は示してくれるものの、二つ返事で乗ってくる人はいない・・・。RT @johnny_walker_ @konity524',\n",
       " 'しばらくやってみると分かるんですけどね。何も知らない人に言葉で説明するのは大変な気がします。 #twitter RT @makky12 @468251793 ゆるい感じで参加出来るところじゃないですか？',\n",
       " '同意です。RT @endlandboss ここでの説明を誰かが、わかりやすいとつぶやいていたけど、僕からすると、かえって難しくしている気がします。http://j.mp/93bWUM',\n",
       " 'おはようございます。本格的に寒くなってきました！ #2289',\n",
       " 'ウルソは胆道疾患治療薬 RT @nobukoza へ〜！あるんや！ RT @yoshirok @ai_ciel こんなんありました。\\u3000佐藤製薬、肝臓水解物にウルソデオキシコール酸を配合した滋養強壮剤「レバウルソ」を発売 http://ow.ly/MgAb',\n",
       " 'いろんな研究家がいらっしゃいます。私もフォローしました。 RT @zigstyle ありがとうございます＾＾こちらこそよろしくお願いします。 RT @bihaka 美墓研究家です。フォローありがとうございます。',\n",
       " '@chamatatsu 私もそう思います…',\n",
       " '実は私もですが、無料なので取り合えず入れてますw RT @nobukoza あいぽんゆーざーが少なすぎ、他社にも結局メールで別に連絡してるから役立たず。でもいつか使えると思って消せずにいるw RT @468251793 【私のiphoneアプリ・基本編1】bump',\n",
       " 'ぜひお願いします！RT @nobukoza 出会えたらbumpしましょ〜w  RT @nobukoza あいぽんゆーざーが少なすぎ、他社にも結局メールで別に連絡してるから役立たず。でもいつか使えると思って消せずにいるw',\n",
       " 'ラジオで聞いた「かいじゅうたちのいるところ」の主題歌。どことなく懐かしく温かいメロディですごく良かったですよ。RT @michio_mukui 【文化】 加藤清史郎：「ウエルカム！」映画「かいじゅうたちのいるところ」 http://bit.ly/4GCrAG',\n",
       " '気のせいかbumpしたいとつぶやいている人が多いような。私もbumpしたいので、誰かtwitterでbumpオフを企画して下さい。',\n",
       " 'ついていける所でフォローを打ち止めにするもよし、ついて行く事をあきらめてフォローを増やすもよしです。 #2289 #kohmitweet RT @hanage_daiku RT @e_shinta あと３人フォローすると100人。TLこれ以上早くなったら大変かしら。',\n",
       " 'たまたま立ち寄った西新宿のozoneで、デンマークのエコプロダクトの展示してました。素晴らしいコンセプト&デザインでした。http://j.mp/67D1PH @myen',\n",
       " 'RT @nyattta ツイッター初！★企業協賛／12月tw共同販促キャンペーン http://bit.ly/4fAGQh ★ユニークな割引き・プレゼントを追加中。フォローするだけの簡単応募も有！グっと来たら、お気軽にご応募下さい！弊社も参加中！',\n",
       " '以前見た記事ではお気に入りが一定数超えると壊れるとか… RT @undakovr Twitterに、ある条件下でアカウントが破壊される不具合？ http://bit.ly/8uuL9U',\n",
       " '同意。明らかに仕事が増えました。RT @changecafe 同感RT @takuyayokochin:なんか、病院機能評価ってのが始まってから始まったと聞いたことがるような気もするのですが。「機能評価のために必要」って事で新たに発生した仕事ってかなりあるんじゃないかと思うのです',\n",
       " 'そうそう、amazonのiphoneアプリ日本語版が出てましたよ！さっそくダウンロードしました。どんどんiphoneが便利になる。 #iphone #iphonefan',\n",
       " 'どこの一休さん？ RT @e_flyer すごすぎる・・・RT @haggie21: なん…だと… QT @ohfuji: うちの伝説研修医は\\u3000「面会謝絶って書いてあったから患者さんに会っていません！（キリッ）」',\n",
       " 'おやすみなさい！',\n",
       " '問屋が販売中止ですか！確かに大変です。製薬会社の話は割と聞こえてくるんですが、問屋のニュースは医師の方までなかなか届きません。@yakuzaishi2 @Mr_kanpo: 大手生薬問屋U社は、赤芍薬、党参他、ほとんどのマイナーな生薬の販売を中止。',\n",
       " 'ステキな答え！ #2289 RT @exkokoro 「誰かの人生に大きな影響を与えた事はある？」という質問の回答：\\u3000「生まれた時。母に影響を与えた。」ステキな答えです…ほかにも珍回答たくさんありましたｗ',\n",
       " '病気もその人の一部。体内に侵入した異物に対する反応が発熱という形で現れるように、精神症状も身体を守るための反応と考える事も出来る。例えばうつになると何をするにもおっくうになるが、こういう時は身体が休養を欲しているのだ。そんな時は無理をしてはいけない。#kokoro @myen',\n",
       " '面白い。 RT @koukoku_style 【広告news】 JRA、新宿駅でディスプレイ前に立ち止まった人の顔が合成されるデジタル広告を展開: http://bit.ly/7gusAp',\n",
       " 'RT @tokyokeizai エステサロン専用商品が送料無料キャンペーン実施中!!\\u3000http://www.tokyo-keizai.co.jp/press/17.html',\n",
       " '@Mr_kanpo 漢方の原料の話は知りませんでした。詳細を教えて頂けますか？まだ医師の側にはニュースが伝わってないと思います。',\n",
       " 'RT @followmeJP 【メリー・フォローミー祭り】 #followmeJP 日本ユーザーのフォロー募集タグの月一イベント。次回は12月25日21:00～です。お楽しみに！／メリフォロ 告知→ http://j.mp/46m0911 ／定期',\n",
       " 'RT @followmeJP 山田邦子さん @yamada_kuniko は相互フォロー主義みたいです。おそらく本物です。',\n",
       " 'なんだかもう数合わせのような気も。RT @michio_mukui 【科学】 新型ワクチン、中高生も1回接種に減らす （読売新聞）: インフル 厚生労働省は16日、新型インフルエンザワクチンの接種回数について、 http://bit.ly/7gDPXC',\n",
       " '私もフォローしましたよ！RT @visor1229 本物なんですか？フォローしてみました。ｗ  QT @468251793: RT @followmeJP 山田邦子さん @yamada_kuniko は相互フォロー主義みたいです。おそらく本物です。',\n",
       " 'そうですね。twitterに公式認定されれば間違いないんでしょうけど。つぶやきシローの偽物もいましたしね。RT @makky12 @468251793 本物かどうか分かるサービスがあると、うれしいですよね。',\n",
       " '@getsstuckin 自分の専門ではないと思われたのですかね？ちょっとよく分かりません。申し訳ないです。',\n",
       " '@getsstuckin なるほど。そういうことなら家族は別の医師に診てもらうこともあるかもしれません。',\n",
       " '今日は早目に就寝します。おやすみなさい。',\n",
       " 'おはようございます！',\n",
       " '今日も寒いですね。東京は最高気温が9℃だそうです。昨日からダウンジャケット着てます。',\n",
       " 'RT @natsumee: 日刊・世界の広告クリエイティブ - 凄い発想のコスプレ。 http://bit.ly/7NEZdZ',\n",
       " 'VIE DE FRANCEのコーヒーは酸味と苦味が少なくてブラックでも飲みやすかった。 #cofeejp @myen',\n",
       " '多重債務の問題とこの実験結果がリンクするのかは良く分かりませんが @myen RT @fmfm_collector RT E_Yoshimura: なるほど！：何度も痛い目に遭う人、脳内物質が不足…阪大 http://bit.ly/4HOrgz',\n",
       " 'iphoneのアプリでイヤーノート、医学辞典なんかはありますけどね。RT @takuyayokochin みんなが持ってる医学書院の内科レジデントマニュアルとか、デジタルデータにしたら売れると思うよ',\n",
       " 'RT @takuyayokochin 業界基準準拠の血圧計と医療用モバイルPCによる実証実験 ―― 国立成育医療センターhttp://bit.ly/81i1Nw',\n",
       " 'RT @iPodFanEdt 六本木のミッドタウンにあるIdea Digital Studioに行ってきました。デザインの素敵なiPodやMac用アクセサリがたくさんありました。またじっくり見に行きたいお店です。',\n",
       " 'ここまで来たか！ RT @cutplaza [B!] 今すぐ入籍したい女性のための婚活最終兵器「強制入籍セット」発売｜トピックス｜東京ナイロンガールズ http://bit.ly/5M5wDR えっ',\n",
       " 'おはようございます。明け方地震がありました。震度4だそうです。特に被害はなし。 #2289',\n",
       " '@chibiruri @harukenpapa @mizu34 @kamiryoku @shin1960 おはようございます。かなり揺れましたけど、眠くて布団から起きられませんでした。いざという時危ないです(笑)',\n",
       " 'そうですね、普段から地震対策して被害が出ないようにしないといけないですね。RT @mizu34: @468251793 とにかく無事で何よりです。朝方の地震昨夜もですけど、この時間は特に寝ていたりとか、台所で火を使いますからね。',\n",
       " 'ネットを用いた心理療法があちこちで試みられているが、未だ従来のやり方をネット上で再現しているだけのように思える。もっと新技術の特性を生かしたものを生み出せないだろうか。 #2289 @myen',\n",
       " 'RT @Canamal RSS: アップル、上下左右から覗きこめるディスプレイシステムを特許出願: Filed under: ディスプレイ 図でだいたい分かります。「SYSTEMS AND METHODS FOR ADJUST.. http://bit.ly/7FBnR8',\n",
       " '素晴らしい！！！これで日本は平和になるかも！RT @johnny_walker_ ほめられたらあまりに気持ちよかったのでタグ作っちゃいました！ #homerosJP  お互いを褒め合って気持ちよくなるためのタグです。RTで広めましょう！',\n",
       " '医学的根拠はありませんけど、ほめられた人は自己評価が上がって気分も良くなると思います。（明らかなお世辞でなければ）\\u3000RT @banto_boki: 褒め合いも精神医学的に効果があるのですか？',\n",
       " 'RT @iphonefan: ブログ更新iPhone(3GS)ホーム画面の最大数１１ページになったので１３ページまで増やしてみた【知っておきたいiPhone便利技メモ 4】 http://bit.ly/8W43SR\\u3000 #iphone [twicco.jp @iPhoneSky ]',\n",
       " 'twitter生活に役立つとてもいいサイトを見つけました。\\u3000http://twistation.com/\\u3000つぶやきをブログにするにはここが良さそうです。\\u3000http://twistation.com/archives/333740.html\\u3000#kohmitweet',\n",
       " '最近、twitterがすぐ不安定になりますね。',\n",
       " 'ほんとですか！？大丈夫かtwitter。RT @nobukoza: ハッキングされたとかで巷で騒ぎになってますね RT @468251793 最近、twitterがすぐ不安定になりますね。',\n",
       " 'RT @taromatsumura いいなー RT @numabooks: 来年2～4月くらいから1年間限定、月～金フルタイム（午後～深夜）でハードに働ける20代1名、男女不問。勤務地は表参道。カルチャー誌等での対談原稿 (cont) http://tl.gd/19otm',\n",
       " 'なるほど。RT @cosmoweb イランからのDSN攻撃のようでした…まぁ大丈夫でしょう♪\\u3000RT @468251793: ほんとですか！？大丈夫かtwitter。RT @nobukoza: ハッキングされたとかで巷で騒ぎになってますね',\n",
       " 'RT @followmeJP 【メリー・フォローミー祭り】 #followmeJP 日本ユーザーのフォロー募集タグの月一イベント。次回は12月25日21:00～です。お楽しみに！／メリフォロ 告知→ http://j.mp/46m0911 ／定期',\n",
       " '#homerosJP @johnny_walker_ さんが考えたお互いを褒め合う素晴らしいハッシュタグです！ ルールその１、このタグを使っている人をほめる。  その２、ほめられたらその人をほめ返す。  以上！これで日本は平和になります！',\n",
       " '#homerosJP のタグを使って下さった方を今日から私のリスト、homeau_#homerosJP に登録していこうと思います。お互いに褒めあって幸せな気持ちになりましょう！',\n",
       " '.@yumeoboro @aminyanko @cat_chami @Moemao48 @amejistar @ykubo ご協力大変ありがとうございます。皆さんお優しい…',\n",
       " 'バッチリです。ありがとうございます。ちょっと照れました。何か気がついた時に一言添えてあげる感じで良いのではないでしょうか。RT @aminyanko @468251793 こんな素晴らしいハッシュタグの紹介して、すごい！…こんなかんじ？  #homerosJP',\n",
       " 'うーん、またTLが読み込めなくなりました。しばし離脱してコーヒー飲みます。 #2289  #cofeejp',\n",
       " '@amejistar 丁寧なreplyありがとうございます。このタグをつける事によって、少しでも人の良い所に見つけられるようになったら素敵ですね！ #homerosJP',\n",
       " '本当にその通りですね。職業柄、とても興味深く思います。RT @kouchanusui 言葉の使い方ひとつでそのひとの性格（や生活の匂い）の一端を垣間見ることの出来る twitter ってガチで趣き深い。 #homerosJP',\n",
       " 'パーフェクトな旦那さんじゃないですか！RT @Moemao48 ほぼ毎日、朝と晩に腹筋してます。証拠写真。来年、37になります。 #homerosJP http://twitpic.com/u0adl',\n",
       " 'おはようございます。寒いのが当たり前になってきました。今日も仕事です。 #2289',\n",
       " \"I am listening to 'Morning at the Beach' in Ambiance http://bit.ly/ambiance\",\n",
       " '.@yutiro11071 @mizu34 @993G55 @yama_s @watabelasco @about_3 @chibiruri @konalazy おはようございます！',\n",
       " '@993G55 寒いのは慣れませんねー。早く南の島に移住したいです(笑)',\n",
       " 'もう屋外でiphoneいじれなくなってきました。手がかじかんで痛くなります。 #2289',\n",
       " 'なんだか素敵そうですね。今度寄ってみたいです。 #homerosJP RT @IdeaDigitalStud http://twitpic.com/tpxq0 - MAISON TAKUYAのiPhoneケース、新色入荷しました！',\n",
       " 'あ、それ欲しいです！どこかにないものでしょうか。【急募】導電繊維のiphone用手袋 RT @otsukaresama iPhone用の手袋あるといいですねー導電繊維の。',\n",
       " \"中まで完璧に緑！素晴らしい！コーヒーと合わせたい。 #cofeejp  RT @saya7 共栄製茶 の '抹茶レアチーズムースケーキ' を Amazon でチェック！ http://bit.ly/8hJGIG\",\n",
       " '.@Bonezine @spilca @tkms110 この方々のおかげでiphone用手袋、見つかりました～！！皆さん超スピードの返信ありがとうございます！凄い！ #iphone #homerosJP',\n",
       " '鑑定書の作成から早く逃れたい…。週明けには終わらそう。',\n",
       " 'おはようございます！昨日は9時頃から爆睡してしまいました。 今日は久しぶりに丸一日お休みです。 #2289',\n",
       " '.@chibiruri @Air_s @heropu @noncal @ruluvso @samurai_sod @his_mat @samsecurity @mizu34 @sayori27 おはようございますー',\n",
       " '@chibiruri ありがとうございます。とりあえず年賀状書かないと!',\n",
       " '素晴らしい記事をありがとうございます！勉強になりますよー。 #skin #homerosJP RT @mana_iwamoto ☆泡洗顔の意義について☆ http://j.mp/57HwjF',\n",
       " '@Air_s 健康的で良いですね！これが所謂「熟眠感」というもの。私も久しぶりに味わいました。 #homerosJP',\n",
       " '@mana_iwamoto 先生、日本語で美容情報を語る新しいハッシュタグ作りません？ #beautyJP とか。',\n",
       " '@chibiruri お互い頑張りましょうね！',\n",
       " 'RT @johnny_walker_ あとタグの宣伝もしときます。 #homerosJP ←人の良いところを見つけてほめ合うためのタグ。照れずに皆でほめ合おう。\\u3000#lyricsJP ←歌詞をつぶやいたり、それに対して語り合うためのタグ。',\n",
       " '【初心者向け情報】少しtwitterをやっているとRTとかQTに気が付くでしょうが、これは他の人の発言を引用しているという事です。twitterのサイトでは自分で文字を打ち込まないといけませんが、hootsuite等を使うとクリック一つで出来るようになるのでオススメです。',\n",
       " 'ものすごいクリスマス感！RT @holineko うんうん。いいですね。このアイコン。RT @Lupin_the_3rd: クリスマスっぽくなったかな？',\n",
       " 'windows7のliveメールが転送ツールを使ったのにoutlookのデータを引き継がないので凹む。どうしたらよいのでしょう。 #2289  #windows7',\n",
       " 'やはりoutlookからデータをエクスポートするしかないかな…。でもエクスポートはどうも苦手。今までうまくいった試しがない。うーむ。 #2289 #windows7',\n",
       " '明日トライしてみよう…。今日はもうダメ。おやすみなさい…。',\n",
       " 'おはようございます。暖房かけすぎて喉がからから。調節が難しいです。 #2289',\n",
       " '.@kaoru119 @chibiruri @xaxrui @samsecurity @naa__ @rainbowfoop @mizu34 おはようございます！',\n",
       " 'うちはオイルヒーターで、エアコンほど乾燥しないのですが、寒くすぎて温度をmaxにしたら流石にやられましたw RT @kaoru119 @468251793 おはようございます。同じく暖房しすぎてのど痛いですw',\n",
       " 'RT @itmedia_news 「Baidu Type」は27歳・auケータイヘビーユーザーな女子が開発。使ってみましたが個人的にはGoogle日本語入力より快適でした。アドバンストモード慣れると超便利 ^IT戦士\\u3000http://bit.ly/77rrJg',\n",
       " 'RT @az4u 【政治家へ提案】\\u3000支援者、支持層、浮動層をTWに誘って、そこで 共通タグ ＋\\u3000自己タグ のにこのタグで、政治家が演説した方が駅頭よりも効果があるのでは。しかも邪魔にならない。（RT希望）',\n",
       " '予想はしていたが、年末の書類の多さは予想以上。',\n",
       " '得る物があれば失う物もある。逆に失う物があれば得る物もある。それを見つける事が出来れば人生はそう悪くない。 #2289',\n",
       " 'RT @asahi 「公平な人」脳の活動でわかります\\u3000玉川大研究員ら発表  asahi.com 話題 http://j.mp/80MckQ @myen',\n",
       " '支援！RT @_zahir 支援 RT @syr_imow: フォロー＆支援！ RT @becle_jp RT @yamato24365 今日中のフォロワー200達成を目指してます！みなさん支援よろしくお願いいたします！ #followmeJP',\n",
       " 'おめでとう！努力の成果ですね！ #homerosJP RT @n_biscuit おめでとうございますー！ RT @kenkk0218: やった！情報処理ＳＡ合格なう！ちょ～うれしー＼（＾▽＾）／',\n",
       " 'windows7のセッティング、大体終了。outlookのメールをliveメールに移行出来ない件は、新パソコンにもoutlookを導入する事で解決！なんとか使えるようになりました。 いよいよ年賀状作りです。#windows7 #kohmitweet #2289',\n",
       " '140文字のアート。#140art #twitterART で検索をしてみると面白いですよ。  #art',\n",
       " 'RT @ses_man twitter性格診断\\u3000お試しあれ☆\\u3000http://tw.baikaku.com/?name=ses_man\\u3000 #kohmitweet #followmejp',\n",
       " '取り合えず少しでも手をつければやる気になるのはわかっているが、手をつけるためのやる気はどうしたら出るだろう。やっぱりご褒美の設定かな。 #2289  #kokoro',\n",
       " 'はいはい！ RT @yasuireiko スタトレ好きな人、手をあげて～～！RT @Masayo_I: Aye aye, Captain! からAye aye, sir! RT @yasuireiko: サーよりもやっぱり艦長@tw1963:',\n",
       " 'TARO YAMADAの性格は合理主義と活発タイプです。http://tw.baikaku.com/?name=468251793',\n",
       " 'レスベラトロールはブドウの皮、赤ワイン、ピーナッツの皮等に含まれるポリフェノール。強い抗酸化作用を持ち、肉食が多いフランス人の心血管イベントが少ない(フレンチパラドックス)のは赤ワインを良く飲むからではないかと言われているというのは有名な話。 #beautyJP',\n",
       " 'RT @kazuyo_k こちらもいらしてください!! やればできる、講演会のお知らせ。1/7新宿です。みなで夢を叶え合いましょう。 - やればできる、の講演会を下記でおこないます。 日時：1月7日（木）19時～20時30分（.. → http://am6.jp/8EL3uq',\n",
       " 'カロリーの収支バランスが大事 RT @ohkazunori 今までダイエットして成功したのって、基本的に食事制限ダイエットしかない。運動頑張ると頑張った分食べちゃうし、他の何をやっても無駄だった。だけど食事制限ダイエットをしたときは一年で２０ｋｇ痩せた。 #followmeJP',\n",
       " 'RT @mana_iwamoto コスメ成分では、”ブドウつるエキス”という表示になります。抗老化、抗炎症RT @468251793 レスベラトロール #beautyJP',\n",
       " '成年後見の鑑定書できた～！やっぱりなんだかんだで1ヶ月かかる。今、一人打ち上げ中です。 #2289',\n",
       " '@chobitto_na ありがとうございますー！',\n",
       " 'スンガリーおいしいですよね。初めてボルシチが美味しいと思ったのもここ。RT @mi2maru ロシヤレストラン\\u3000スンガリー http://j.mp/4LwcHv',\n",
       " 'RT @medicalnewsjp 「ホスピタルショウ2010」説明会と講演会を1月に開催: \\u3000日本経営協会と日本病院会は来年1月25日午後2時から、東京都新宿区のホテルグランドヒル市ヶ谷で、「国際モダンホスピタルショウ… http://bit.ly/4SaIHf @myen',\n",
       " '@davinci1972 ありがとうございます～！これのおかげでどれだけ残業したことか…',\n",
       " '@bukkon 歌舞伎町の付近ですからね。ちょっと奥に入るともうアレですからw',\n",
       " 'その通り！ RT @pou3pou6 介護保険成立までは、優秀な人材が介護業界にはたくさんいた。以降、次から次へと去っていった。未来が無いからだ。待遇が改善されていけば、優秀な人材は必ず陸続と戻ってくる。人材確保なぞより、待遇改善が一番最優先事項だぞ！ #followmejp',\n",
       " 'とても面白いコンセプトですね。 #homerosJP RT @shikisai_bot こんにちは、世界の伝統色+プチ情報をランダムにpostするbotです。現在100色(予定258色)で活動中。 フォローは手動で行っています。#followmeJP',\n",
       " 'ボット作ってみたい。RT @nyattta twitter ボット生成サービス http://twittbot.net/ で制作。主にtwitterの使いこなしTIPS。時々、ふぁぼったーからアノ人のずどんと来る名言をつぶやきます。ビジネス系の初心者の方にお薦め→ @tipsJP',\n",
       " 'どのような社会を日本人が望むか、ですね。RT @bn2islander @468251793 介護を守るために税金を上げる覚悟があるかどうかという話になってくるようには思います',\n",
       " 'おはようございます。',\n",
       " '.@chibiruri @ykubo @daibamboo @samsecurity @Scarlet_Beam @ruluvso @coquine15 皆さんおはようございます！',\n",
       " '最近wheathernewsのアプリでwebカメラの映像を見るのがマイブームです。東京タワーや新宿高層ビル街はよい眺め。#iphone #iphonefan',\n",
       " 'オハイオ！ RT @udagawafriday: オハイオごじます！ RT: @468251793: おはようございます。',\n",
       " '@mikisihiho おはようございます！',\n",
       " '「特集！7万2100桁～8万7000桁の覚え方！」とか？  RT @kaihatsu: http://twitpic.com/ur4hf - 月刊円周率なる雑誌を発見。中身はひたすら円周率の数列。誰が買うのだろうか！？\\u3000 #followmeJP',\n",
       " 'RT @followmeJP 【メリー・フォローミー祭り】 #followmeJP 日本ユーザーのフォロー募集タグの月一イベント。次回は12月25日21:00～です。お楽しみに！／メリフォロ 告知→ http://j.mp/46m0911 ／再掲',\n",
       " 'RT @followmeJP 【自分に合ったフォローワーさん探し】 #followmeJP タグと併用で、キーワードからフォロー募集が探せるWebサービス follow okをお勧め！ http://bit.ly/8nmJA ／再掲',\n",
       " 'おはようございます。',\n",
       " '.@kj_110 @masauru @noncal @ruluvso @ikazuhik @mizu34 @kazkazt おはようございます！今日はクリスマスイブですね。',\n",
       " '@kaeleo おはようございます！',\n",
       " '@mkt1019 おはようございます～',\n",
       " 'ありがとう！！ RT @waiau: おめ！ RT @okaya2009 おめ！RT @assy1966: おめでとうございます～ RT @kiribansan: @468251793 フォロワー数 2,600 番目は多分 @fullmoonhead でした。',\n",
       " 'RT @itmedia_news 【お知らせ】ITmedia News読者調査実施中。よく使うWebツールやプログラミング言語の経験などについてもおたずねしています。抽選で10人にAmazonギフト券3000円分プレゼン (cont) http://tl.gd/1bhjb',\n",
       " 'クリスマスパーティーに是非。 RT @touch_lab ケーキやピザを人数ピッタリに切り分けられる『CakeCutter』-今日のアプリ第503回 (http://bit.ly/5b1xQb)',\n",
       " '@luvjunk_o domo todo はいかがでしょう？私はgoogleカレンダーと同期できる有料版を使ってますが、無料版もあります。シンプルで使いやすいですよ。 #iphone',\n",
       " '毎日設定出来ますよ。日付設定する所の右下、リサイクルマークみたいな所から。RT @luvjunk_o \"毎日\"設定ができない(曜日毎、日付毎はできる)のと、soon?とdoneがよく分かりません。毎日ができるやつはないのかな... #iphone',\n",
       " '@luvjunk_o おや！？自分のと画面が違う。私のはこうです。これで毎日繰り返す設定が出来るのですが。 http://moby.to/mi1a2a',\n",
       " '@luvjunk_o 今、appstore見てきましたが無料版は毎日繰り返しの設定について言及されてませんね。有料版しか出来ないのかも。',\n",
       " '私も確認しました！ RT @ymd0611 なにげに見ていたら、Star Walk の宇宙の中を、ソリに乗ったサンタが駆け抜けて行った。演出にビックリ！',\n",
       " '精神科医になるとこういうロマンはなくなります… 子供の頃は信じてました。RT @to_ryo 見えることってあるの？RT @kcrystalnov3: 霊能力者になりたい。潜在脳力はあるんじゃないかと思う。',\n",
       " '@ymd0611 遊び心があっていいですよね。 #homerosJP',\n",
       " 'おはようございます。今日は年賀状を出さないと！',\n",
       " '.@es1984 @chibiruri @jyurou99 @pikoron @boogalootokyo @masauru @markeymarkey02 @k_itoh おはようございます～！',\n",
       " '@kj_110 @kazkazt @honeycomey @cosmoweb @kaeleo @mkt1019 おはようございます！東京は良い天気です。',\n",
       " '3Dで見られるとは！RT @cosmoweb おはようございますヾ(＾∇＾)\\u3000サンタさんはまだ２４時間世界一周中です。３Dで見るとスゴイですよ＾＾\\u3000RT @468251793: ここを見ると、サンタはまだプレゼント配達中みたいですね。 http://j.mp/81noVH',\n",
       " 'RT 今日★メリー・フォローミー祭り #followmeJP 日本ユーザーのフォロー募集タグの月一イベント。次回は12月25日21:00～です。お楽しみに！／メリフォロ 告知→ http://j.mp/46m0911',\n",
       " 'RT @Lupin_the_3rd 人生の棚卸は、必要です。今からの時代は、特に信頼しあえる友人の価値が上がります。',\n",
       " '@ka2zo ？ 質問の意味が良く分かりません。申し訳ないです。',\n",
       " 'iphoneのアプリと組み合わせてヘルスハック。RT @iPodFanEdt iPhoneやiPod touchと連携できる体重計「WiFi Body Scale」を発売（実売1万7,800円） http://j.mp/7gNfnJ',\n",
       " '今夜はクリスマスfollowme祭りですね！積極的にフォローしあって楽しくtwitterしましょう。私もフォローしますよー！ #followmeJP',\n",
       " 'RT @followmeJP 【メリー・フォローミー祭り】終りは自然鎮火まで！思う存分、フォローミーして下さい／上手な参加方法→http://bit.ly/2Wcs95 #followmeJP',\n",
       " 'おしい！ #followme のように、#を付けて、前後スペースを空けないとハッシュタグが機能しません。 RT @ka2zo @468251793 follow祭り、参加でお願いしますfollowmeJP',\n",
       " 'iphone、twitterをより楽しみたい方フォローミー！ #followmeJP',\n",
       " '支援 RT @heavensent1899 支援！RT @ando_mari: 今日祭りなんだー。あと10名ちょっとで800フォロワー様なんだけどいくかなー。 #followmejp',\n",
       " 'それがフォローミー祭り。RT @maboroshiitake しかしすさまじいなぁ、#followmeJP  内容があることを呟いたためしがないのにあっという間にフォロワーが倍になった・・・ｗ',\n",
       " 'iphoneユーザーの方、情報交換しましょう。 #followmeJP',\n",
       " 'フォロー人数の上限に来てしまいました！これからフォローしてくれた人は明日以降必ずフォロー返ししますのでお待ち下さい～。 #followmeJP',\n",
       " 'ご参考に RT @followmeJP #followmeJP タグもフル活用して、フォロワーさん2000人を達成した @468251793 さんの、1000人達成の時の手記の纏め。ご参考に→フォロワーさんが1000人になるまでに思った事 http://bit.ly/4AMd0G',\n",
       " '久しぶりのフォローミー祭りはやっぱり楽しいですね。@followmeJP さんにはいつも面白い企画をして頂いて感謝してます。今後ともよろしくお願いします。  #homerosJP',\n",
       " 'おはようございます！',\n",
       " '.@cuttuc @Mikann_Batake @shin1960 @kanazawacom @428bot @Yusora0080 @harokichi @samsecurity おはようございます～ 今日も寒いのであったかくして行きましょう。',\n",
       " '昨夜はフォローミー祭りだったのですが、iphoneのバッテリー切れでリタイヤしてしまいました。残念。',\n",
       " '.@chibiruri @mikisihiho おはようございます。',\n",
       " '孫社長がお風呂でつぶやく姿を想像してしまいました RT @masason 今、水没に気をつけながら湯船でつぶやき中。皆さんの返信も出来るだけ読ませていただいてマス。',\n",
       " '素晴らしい研究 #homerosJP RT @az4u RT @47news \"カキ殻で海底のヘドロ浄化\\u3000広島大が実用化研究 http://bit.ly/6NIKnr\"  #az4u',\n",
       " '睡眠と寿命の関係は広く知られる所となりましたが、睡眠時間と肥満の関係においても7〜8時間の睡眠時間の人が最もBMIが低く、それ以上睡眠時間が長くても短くてもBMIが高くなるという報告があります。 #sleepcycle #smartsleep @myen',\n",
       " '睡眠時間が短いと食欲を抑制するホルモン(レプチン)は低下し、食欲亢進させるホルモン(グレリン)は増加するという報告もありますから、ダイエットのためにも睡眠時間は取った方が良いという事ですね。#twidiet @myen',\n",
       " 'という訳で今日は寝ますです。おやすみなさい～。 #sleepcycle',\n",
       " '@jyurou99 @gyouan .@Isa_Pretender @TanukiTam @markeymarkey02 @noncal @co_miwa @moon_croix @cafecream @samsecurity 皆様おやすみなさい！',\n",
       " 'おはようございます。朝焼けが綺麗ですね。 #sleepcycle',\n",
       " '.@sentakuita @noncal @mizu34 @tuntomo @xShinigamigirlx @chibiruri @daibamboo @harokichi @samsecurity おはようございます。 今日も良い一日を！',\n",
       " 'RT @iphonefan 既出だと思いますが、nanacoを使ってiTunes カードを購入すると実質20%引きに。1/11まで http://bit.ly/pEDoH [twicco.jp @iphonenow ]',\n",
       " '町の図書館で「学生服のひみつ」という子供向けの本を見つけ読み耽ってしまった。日本で初めに制服を導入したのは明治12年、学習院だそう。雑学が増えた。 #2289',\n",
       " '@nyan666 うっかり送信に返信して頂きありがとうございますw 正解は学習院でした！',\n",
       " 'セーラー服が導入された経緯についてはあまり書かれていませんでした。なぜ女子だけ水兵の制服を導入したんでしょうね。 #2289',\n",
       " '私は #followmeJP で1000超えました。頑張って下さい！ RT @MusicVideoman 勝間本を読んで、「フォロワー１０００人超えたら・・」はどんなものかと思い、フォローしてもらえるように頑張ってきました。\\u3000現在、８６５名。\\u3000年内に達成 #followmeJP',\n",
       " '今日の雑学その2。昭和44年、セイコーが世界初のクオーツ式腕時計を発売。',\n",
       " 'なるほど、納得。RT @yuhja 詰め襟の方が上だ，という感覚があったのかもしれませんね。海軍だとうそうですし。\\u3000RT: @468251793: セーラー服が導入された経緯についてはあまり書かれていませんでした。なぜ女子だけ水兵の制服を導入したんでしょうね。',\n",
       " 'おはようございます。東京は午前中雨？ #sleepcycle',\n",
       " \"I am listening to 'Waves' in Ambiance http://bit.ly/ambiance\",\n",
       " 'ホットココア飲んだら仕事に復帰する。 #2289',\n",
       " '支援！ RT @calo69 支援ωRT @nuvola_blue: は〜い♪ RT @sadweekend: 支援\\u3000RT @pinoko45 あと15人で友達100人♪ #followmejp',\n",
       " 'twilogで出来るんですね。RT @anchan_jp Twitterのつぶやき（ツイート）をテキスト形式やブログ形式で保存する方法 http://j.mp/796tcr',\n",
       " '…cont) #twseiji   ☆MacBook by YF☆',\n",
       " 'RT @mikki813rabbit 本日19時より 年末緊急企画！「ツイッター議員との今年最後のつぶやき大会」を開催！ 詳細こちら→ http://bit.ly/7P1px7 &gt;ただ今参加予定103名ほど、目標150名！、お時間ある方是非参加を！  (cont…',\n",
       " '吐瀉物・排泄物にまみれる可能性があるので病院には安い服で行きます RT @haggie21 わたくしの友人のJOYさん（当時胸部外科）は，うっかり救急外来に立ち寄ったら開胸心マをせざるを得ないシチュエーションに遭遇してしまい，Ferragamoの靴が台無しになった',\n",
       " 'スムーズに呟くにはもう少しボトルネックを解消しなければ。 #2289',\n",
       " 'RT @HRD_plus_A3 最近、魅力的なケースの話題に事欠かない件。『ありがとうiPod ： エヴァンゲリヲンのiPhone専用バッテリー「iPhone3G(S)専用筐体保護型蓄電器\\u3000AP1500 NERV／AP1500 REI」』 http://bit.ly/5KVxLx',\n",
       " '牛乳に生姜を刻んでいれて、シナモン、クミン、胡椒を少々。ハチミツをお好みで投入し、レンジで1〜2分。名付けてジンジャースパイシーミルク。血行が良くなり体は温まって、眠気を誘うスペシャルドリンクです。 #sleepcycle #twdiet',\n",
       " '.@tuntomo @rafalelover @fumikun318 おはようございますー。',\n",
       " 'おはようございます。今日は(一応)仕事納め！頑張ります。#2289 #sleepcycle',\n",
       " '.@harokichi @yukinojouhenge @sentakuita @kamearishopping @ykubo @samsecurity おはようございます！',\n",
       " '@es1984 「一応」と付けなければいけないのが辛い所ですがw、頑張りましょうね！',\n",
       " '孫社長が進化！RT @masason: 今夜も風呂からつぶやいています。ただ、違う事は我が愛機がジップロックに入っている事。多くのアドバイスを受けて一歩前進。ささいな事で、twitterの威力を感じた。',\n",
       " \"I am listening to 'Coast' in Ambiance http://bit.ly/ambiance\",\n",
       " '残業なう！ #2289',\n",
       " '@keith2forests 来年もよろしくお願いします。',\n",
       " 'RT @mana_iwamoto 口周囲とフェイスラインのたるみや皺は、歯や歯茎の健康状態もかなりの部分を担っているであろう。もちろん適度な”あぶら”が大事なのは言うまでもなく #beautyJP ☛http://bit.ly/6xdD4e',\n",
       " 'この書類の山は無限に感じる…。やや現実逃避気味。 #2289',\n",
       " '.@azumoment @moeani @watabelasco @ykubo ありがとうございます！カロリーメイトかじってもうひと頑張りします！',\n",
       " 'RT @nyattta 限定闇市（笑） QT @kanikoubou: 【ツイッター限定闇市】本ずわいがに1キロ（合 (cont) http://tl.gd/1d0ul',\n",
       " ...]"
      ]
     },
     "execution_count": 22,
     "metadata": {},
     "output_type": "execute_result"
    }
   ],
   "source": [
    "a['texts']"
   ]
  },
  {
   "cell_type": "code",
   "execution_count": 21,
   "metadata": {},
   "outputs": [
    {
     "data": {
      "text/html": [
       "<div>\n",
       "<style scoped>\n",
       "    .dataframe tbody tr th:only-of-type {\n",
       "        vertical-align: middle;\n",
       "    }\n",
       "\n",
       "    .dataframe tbody tr th {\n",
       "        vertical-align: top;\n",
       "    }\n",
       "\n",
       "    .dataframe thead th {\n",
       "        text-align: right;\n",
       "    }\n",
       "</style>\n",
       "<table border=\"1\" class=\"dataframe\">\n",
       "  <thead>\n",
       "    <tr style=\"text-align: right;\">\n",
       "      <th></th>\n",
       "      <th>Num_ID</th>\n",
       "      <th>Name</th>\n",
       "      <th>text</th>\n",
       "      <th>time</th>\n",
       "    </tr>\n",
       "  </thead>\n",
       "  <tbody>\n",
       "    <tr>\n",
       "      <th>0</th>\n",
       "      <td>5365228407</td>\n",
       "      <td>468251793</td>\n",
       "      <td>同意！ RT @yniimi: @468251793 自分は吸わないですが愛煙家の中で他人の...</td>\n",
       "      <td>2009-11-03 00:25:04</td>\n",
       "    </tr>\n",
       "    <tr>\n",
       "      <th>1</th>\n",
       "      <td>5365512833</td>\n",
       "      <td>468251793</td>\n",
       "      <td>みなさんおやすみなさい～。また明日。</td>\n",
       "      <td>2009-11-03 00:37:35</td>\n",
       "    </tr>\n",
       "    <tr>\n",
       "      <th>2</th>\n",
       "      <td>5375233193</td>\n",
       "      <td>468251793</td>\n",
       "      <td>おはようございます。今日は休みなので少し寝坊。</td>\n",
       "      <td>2009-11-03 07:45:41</td>\n",
       "    </tr>\n",
       "    <tr>\n",
       "      <th>3</th>\n",
       "      <td>5375293031</td>\n",
       "      <td>468251793</td>\n",
       "      <td>RT @TweetMedmail: Ukraine西部Ternopil, Lviv, Iva...</td>\n",
       "      <td>2009-11-03 07:48:12</td>\n",
       "    </tr>\n",
       "    <tr>\n",
       "      <th>4</th>\n",
       "      <td>5375348952</td>\n",
       "      <td>468251793</td>\n",
       "      <td>@Hurdy @mizu34 @mie_sama おはようございます。寒い！</td>\n",
       "      <td>2009-11-03 07:50:33</td>\n",
       "    </tr>\n",
       "    <tr>\n",
       "      <th>...</th>\n",
       "      <td>...</td>\n",
       "      <td>...</td>\n",
       "      <td>...</td>\n",
       "      <td>...</td>\n",
       "    </tr>\n",
       "    <tr>\n",
       "      <th>510264</th>\n",
       "      <td>11034722800</td>\n",
       "      <td>you1</td>\n",
       "      <td>仕事は俺と同じ夢を見てくれているんだろうか…。 RT @Consaneko: 仕事とともに泣...</td>\n",
       "      <td>2010-03-25 22:50:04</td>\n",
       "    </tr>\n",
       "    <tr>\n",
       "      <th>510265</th>\n",
       "      <td>11034768259</td>\n",
       "      <td>you1</td>\n",
       "      <td>@hitomi5310 いや絶対この発言するように仕向けたでしょ姐さんw</td>\n",
       "      <td>2010-03-25 22:51:05</td>\n",
       "    </tr>\n",
       "    <tr>\n",
       "      <th>510266</th>\n",
       "      <td>11035587060</td>\n",
       "      <td>you1</td>\n",
       "      <td>@hitomi5310 姐さんやっぱSだわ</td>\n",
       "      <td>2010-03-25 23:09:28</td>\n",
       "    </tr>\n",
       "    <tr>\n",
       "      <th>510267</th>\n",
       "      <td>11035699513</td>\n",
       "      <td>you1</td>\n",
       "      <td>かかか、かえるー</td>\n",
       "      <td>2010-03-25 23:12:00</td>\n",
       "    </tr>\n",
       "    <tr>\n",
       "      <th>510268</th>\n",
       "      <td>11035762407</td>\n",
       "      <td>you1</td>\n",
       "      <td>@rimse1009 ぐったりおつかれ</td>\n",
       "      <td>2010-03-25 23:13:25</td>\n",
       "    </tr>\n",
       "  </tbody>\n",
       "</table>\n",
       "<p>510269 rows × 4 columns</p>\n",
       "</div>"
      ],
      "text/plain": [
       "             Num_ID       Name  \\\n",
       "0        5365228407  468251793   \n",
       "1        5365512833  468251793   \n",
       "2        5375233193  468251793   \n",
       "3        5375293031  468251793   \n",
       "4        5375348952  468251793   \n",
       "...             ...        ...   \n",
       "510264  11034722800       you1   \n",
       "510265  11034768259       you1   \n",
       "510266  11035587060       you1   \n",
       "510267  11035699513       you1   \n",
       "510268  11035762407       you1   \n",
       "\n",
       "                                                     text                 time  \n",
       "0       同意！ RT @yniimi: @468251793 自分は吸わないですが愛煙家の中で他人の...  2009-11-03 00:25:04  \n",
       "1                                      みなさんおやすみなさい～。また明日。  2009-11-03 00:37:35  \n",
       "2                                 おはようございます。今日は休みなので少し寝坊。  2009-11-03 07:45:41  \n",
       "3       RT @TweetMedmail: Ukraine西部Ternopil, Lviv, Iva...  2009-11-03 07:48:12  \n",
       "4                  @Hurdy @mizu34 @mie_sama おはようございます。寒い！  2009-11-03 07:50:33  \n",
       "...                                                   ...                  ...  \n",
       "510264  仕事は俺と同じ夢を見てくれているんだろうか…。 RT @Consaneko: 仕事とともに泣...  2010-03-25 22:50:04  \n",
       "510265               @hitomi5310 いや絶対この発言するように仕向けたでしょ姐さんw  2010-03-25 22:51:05  \n",
       "510266                              @hitomi5310 姐さんやっぱSだわ  2010-03-25 23:09:28  \n",
       "510267                                           かかか、かえるー  2010-03-25 23:12:00  \n",
       "510268                                @rimse1009 ぐったりおつかれ  2010-03-25 23:13:25  \n",
       "\n",
       "[510269 rows x 4 columns]"
      ]
     },
     "execution_count": 21,
     "metadata": {},
     "output_type": "execute_result"
    }
   ],
   "source": [
    "df"
   ]
  },
  {
   "cell_type": "code",
   "execution_count": 17,
   "metadata": {},
   "outputs": [
    {
     "data": {
      "text/html": [
       "\n",
       "    <div>\n",
       "      \n",
       "      <progress value='769' max='31892' style='width:300px; height:20px; vertical-align: middle;'></progress>\n",
       "      [  769/31892 00:36 < 24:45, 20.95 it/s]\n",
       "    </div>\n",
       "    "
      ],
      "text/plain": [
       "<IPython.core.display.HTML object>"
      ]
     },
     "metadata": {},
     "output_type": "display_data"
    },
    {
     "ename": "KeyboardInterrupt",
     "evalue": "",
     "output_type": "error",
     "traceback": [
      "\u001b[0;31m---------------------------------------------------------------------------\u001b[0m",
      "\u001b[0;31mKeyboardInterrupt\u001b[0m                         Traceback (most recent call last)",
      "Cell \u001b[0;32mIn[17], line 2\u001b[0m\n\u001b[1;32m      1\u001b[0m \u001b[38;5;66;03m# 活動あり/なしの予測確率\u001b[39;00m\n\u001b[0;32m----> 2\u001b[0m prediction \u001b[38;5;241m=\u001b[39m \u001b[43mtrainer\u001b[49m\u001b[38;5;241;43m.\u001b[39;49m\u001b[43mpredict\u001b[49m\u001b[43m(\u001b[49m\u001b[43mtest_dataset\u001b[49m\u001b[43m)\u001b[49m\n\u001b[1;32m      3\u001b[0m prediction\n",
      "File \u001b[0;32m~/my-project/.venv/lib/python3.11/site-packages/transformers/trainer.py:3095\u001b[0m, in \u001b[0;36mTrainer.predict\u001b[0;34m(self, test_dataset, ignore_keys, metric_key_prefix)\u001b[0m\n\u001b[1;32m   3092\u001b[0m start_time \u001b[38;5;241m=\u001b[39m time\u001b[38;5;241m.\u001b[39mtime()\n\u001b[1;32m   3094\u001b[0m eval_loop \u001b[38;5;241m=\u001b[39m \u001b[38;5;28mself\u001b[39m\u001b[38;5;241m.\u001b[39mprediction_loop \u001b[38;5;28;01mif\u001b[39;00m \u001b[38;5;28mself\u001b[39m\u001b[38;5;241m.\u001b[39margs\u001b[38;5;241m.\u001b[39muse_legacy_prediction_loop \u001b[38;5;28;01melse\u001b[39;00m \u001b[38;5;28mself\u001b[39m\u001b[38;5;241m.\u001b[39mevaluation_loop\n\u001b[0;32m-> 3095\u001b[0m output \u001b[38;5;241m=\u001b[39m \u001b[43meval_loop\u001b[49m\u001b[43m(\u001b[49m\n\u001b[1;32m   3096\u001b[0m \u001b[43m    \u001b[49m\u001b[43mtest_dataloader\u001b[49m\u001b[43m,\u001b[49m\u001b[43m \u001b[49m\u001b[43mdescription\u001b[49m\u001b[38;5;241;43m=\u001b[39;49m\u001b[38;5;124;43m\"\u001b[39;49m\u001b[38;5;124;43mPrediction\u001b[39;49m\u001b[38;5;124;43m\"\u001b[39;49m\u001b[43m,\u001b[49m\u001b[43m \u001b[49m\u001b[43mignore_keys\u001b[49m\u001b[38;5;241;43m=\u001b[39;49m\u001b[43mignore_keys\u001b[49m\u001b[43m,\u001b[49m\u001b[43m \u001b[49m\u001b[43mmetric_key_prefix\u001b[49m\u001b[38;5;241;43m=\u001b[39;49m\u001b[43mmetric_key_prefix\u001b[49m\n\u001b[1;32m   3097\u001b[0m \u001b[43m\u001b[49m\u001b[43m)\u001b[49m\n\u001b[1;32m   3098\u001b[0m total_batch_size \u001b[38;5;241m=\u001b[39m \u001b[38;5;28mself\u001b[39m\u001b[38;5;241m.\u001b[39margs\u001b[38;5;241m.\u001b[39meval_batch_size \u001b[38;5;241m*\u001b[39m \u001b[38;5;28mself\u001b[39m\u001b[38;5;241m.\u001b[39margs\u001b[38;5;241m.\u001b[39mworld_size\n\u001b[1;32m   3099\u001b[0m \u001b[38;5;28;01mif\u001b[39;00m \u001b[38;5;124mf\u001b[39m\u001b[38;5;124m\"\u001b[39m\u001b[38;5;132;01m{\u001b[39;00mmetric_key_prefix\u001b[38;5;132;01m}\u001b[39;00m\u001b[38;5;124m_jit_compilation_time\u001b[39m\u001b[38;5;124m\"\u001b[39m \u001b[38;5;129;01min\u001b[39;00m output\u001b[38;5;241m.\u001b[39mmetrics:\n",
      "File \u001b[0;32m~/my-project/.venv/lib/python3.11/site-packages/transformers/trainer.py:3198\u001b[0m, in \u001b[0;36mTrainer.evaluation_loop\u001b[0;34m(self, dataloader, description, prediction_loss_only, ignore_keys, metric_key_prefix)\u001b[0m\n\u001b[1;32m   3196\u001b[0m observed_num_examples \u001b[38;5;241m=\u001b[39m \u001b[38;5;241m0\u001b[39m\n\u001b[1;32m   3197\u001b[0m \u001b[38;5;66;03m# Main evaluation loop\u001b[39;00m\n\u001b[0;32m-> 3198\u001b[0m \u001b[38;5;28;01mfor\u001b[39;00m step, inputs \u001b[38;5;129;01min\u001b[39;00m \u001b[38;5;28menumerate\u001b[39m(dataloader):\n\u001b[1;32m   3199\u001b[0m     \u001b[38;5;66;03m# Update the observed num examples\u001b[39;00m\n\u001b[1;32m   3200\u001b[0m     observed_batch_size \u001b[38;5;241m=\u001b[39m find_batch_size(inputs)\n\u001b[1;32m   3201\u001b[0m     \u001b[38;5;28;01mif\u001b[39;00m observed_batch_size \u001b[38;5;129;01mis\u001b[39;00m \u001b[38;5;129;01mnot\u001b[39;00m \u001b[38;5;28;01mNone\u001b[39;00m:\n",
      "File \u001b[0;32m~/my-project/.venv/lib/python3.11/site-packages/accelerate/data_loader.py:458\u001b[0m, in \u001b[0;36mDataLoaderShard.__iter__\u001b[0;34m(self)\u001b[0m\n\u001b[1;32m    456\u001b[0m \u001b[38;5;28;01mif\u001b[39;00m \u001b[38;5;28mself\u001b[39m\u001b[38;5;241m.\u001b[39mdevice \u001b[38;5;129;01mis\u001b[39;00m \u001b[38;5;129;01mnot\u001b[39;00m \u001b[38;5;28;01mNone\u001b[39;00m:\n\u001b[1;32m    457\u001b[0m     current_batch \u001b[38;5;241m=\u001b[39m send_to_device(current_batch, \u001b[38;5;28mself\u001b[39m\u001b[38;5;241m.\u001b[39mdevice)\n\u001b[0;32m--> 458\u001b[0m next_batch \u001b[38;5;241m=\u001b[39m \u001b[38;5;28mnext\u001b[39m(dataloader_iter)\n\u001b[1;32m    459\u001b[0m \u001b[38;5;28;01mif\u001b[39;00m batch_index \u001b[38;5;241m>\u001b[39m\u001b[38;5;241m=\u001b[39m \u001b[38;5;28mself\u001b[39m\u001b[38;5;241m.\u001b[39mskip_batches:\n\u001b[1;32m    460\u001b[0m     \u001b[38;5;28;01myield\u001b[39;00m current_batch\n",
      "File \u001b[0;32m~/my-project/.venv/lib/python3.11/site-packages/torch/utils/data/dataloader.py:633\u001b[0m, in \u001b[0;36m_BaseDataLoaderIter.__next__\u001b[0;34m(self)\u001b[0m\n\u001b[1;32m    630\u001b[0m \u001b[38;5;28;01mif\u001b[39;00m \u001b[38;5;28mself\u001b[39m\u001b[38;5;241m.\u001b[39m_sampler_iter \u001b[38;5;129;01mis\u001b[39;00m \u001b[38;5;28;01mNone\u001b[39;00m:\n\u001b[1;32m    631\u001b[0m     \u001b[38;5;66;03m# TODO(https://github.com/pytorch/pytorch/issues/76750)\u001b[39;00m\n\u001b[1;32m    632\u001b[0m     \u001b[38;5;28mself\u001b[39m\u001b[38;5;241m.\u001b[39m_reset()  \u001b[38;5;66;03m# type: ignore[call-arg]\u001b[39;00m\n\u001b[0;32m--> 633\u001b[0m data \u001b[38;5;241m=\u001b[39m \u001b[38;5;28;43mself\u001b[39;49m\u001b[38;5;241;43m.\u001b[39;49m\u001b[43m_next_data\u001b[49m\u001b[43m(\u001b[49m\u001b[43m)\u001b[49m\n\u001b[1;32m    634\u001b[0m \u001b[38;5;28mself\u001b[39m\u001b[38;5;241m.\u001b[39m_num_yielded \u001b[38;5;241m+\u001b[39m\u001b[38;5;241m=\u001b[39m \u001b[38;5;241m1\u001b[39m\n\u001b[1;32m    635\u001b[0m \u001b[38;5;28;01mif\u001b[39;00m \u001b[38;5;28mself\u001b[39m\u001b[38;5;241m.\u001b[39m_dataset_kind \u001b[38;5;241m==\u001b[39m _DatasetKind\u001b[38;5;241m.\u001b[39mIterable \u001b[38;5;129;01mand\u001b[39;00m \\\n\u001b[1;32m    636\u001b[0m         \u001b[38;5;28mself\u001b[39m\u001b[38;5;241m.\u001b[39m_IterableDataset_len_called \u001b[38;5;129;01mis\u001b[39;00m \u001b[38;5;129;01mnot\u001b[39;00m \u001b[38;5;28;01mNone\u001b[39;00m \u001b[38;5;129;01mand\u001b[39;00m \\\n\u001b[1;32m    637\u001b[0m         \u001b[38;5;28mself\u001b[39m\u001b[38;5;241m.\u001b[39m_num_yielded \u001b[38;5;241m>\u001b[39m \u001b[38;5;28mself\u001b[39m\u001b[38;5;241m.\u001b[39m_IterableDataset_len_called:\n",
      "File \u001b[0;32m~/my-project/.venv/lib/python3.11/site-packages/torch/utils/data/dataloader.py:677\u001b[0m, in \u001b[0;36m_SingleProcessDataLoaderIter._next_data\u001b[0;34m(self)\u001b[0m\n\u001b[1;32m    675\u001b[0m \u001b[38;5;28;01mdef\u001b[39;00m \u001b[38;5;21m_next_data\u001b[39m(\u001b[38;5;28mself\u001b[39m):\n\u001b[1;32m    676\u001b[0m     index \u001b[38;5;241m=\u001b[39m \u001b[38;5;28mself\u001b[39m\u001b[38;5;241m.\u001b[39m_next_index()  \u001b[38;5;66;03m# may raise StopIteration\u001b[39;00m\n\u001b[0;32m--> 677\u001b[0m     data \u001b[38;5;241m=\u001b[39m \u001b[38;5;28;43mself\u001b[39;49m\u001b[38;5;241;43m.\u001b[39;49m\u001b[43m_dataset_fetcher\u001b[49m\u001b[38;5;241;43m.\u001b[39;49m\u001b[43mfetch\u001b[49m\u001b[43m(\u001b[49m\u001b[43mindex\u001b[49m\u001b[43m)\u001b[49m  \u001b[38;5;66;03m# may raise StopIteration\u001b[39;00m\n\u001b[1;32m    678\u001b[0m     \u001b[38;5;28;01mif\u001b[39;00m \u001b[38;5;28mself\u001b[39m\u001b[38;5;241m.\u001b[39m_pin_memory:\n\u001b[1;32m    679\u001b[0m         data \u001b[38;5;241m=\u001b[39m _utils\u001b[38;5;241m.\u001b[39mpin_memory\u001b[38;5;241m.\u001b[39mpin_memory(data, \u001b[38;5;28mself\u001b[39m\u001b[38;5;241m.\u001b[39m_pin_memory_device)\n",
      "File \u001b[0;32m~/my-project/.venv/lib/python3.11/site-packages/torch/utils/data/_utils/fetch.py:49\u001b[0m, in \u001b[0;36m_MapDatasetFetcher.fetch\u001b[0;34m(self, possibly_batched_index)\u001b[0m\n\u001b[1;32m     47\u001b[0m \u001b[38;5;28;01mif\u001b[39;00m \u001b[38;5;28mself\u001b[39m\u001b[38;5;241m.\u001b[39mauto_collation:\n\u001b[1;32m     48\u001b[0m     \u001b[38;5;28;01mif\u001b[39;00m \u001b[38;5;28mhasattr\u001b[39m(\u001b[38;5;28mself\u001b[39m\u001b[38;5;241m.\u001b[39mdataset, \u001b[38;5;124m\"\u001b[39m\u001b[38;5;124m__getitems__\u001b[39m\u001b[38;5;124m\"\u001b[39m) \u001b[38;5;129;01mand\u001b[39;00m \u001b[38;5;28mself\u001b[39m\u001b[38;5;241m.\u001b[39mdataset\u001b[38;5;241m.\u001b[39m__getitems__:\n\u001b[0;32m---> 49\u001b[0m         data \u001b[38;5;241m=\u001b[39m \u001b[38;5;28;43mself\u001b[39;49m\u001b[38;5;241;43m.\u001b[39;49m\u001b[43mdataset\u001b[49m\u001b[38;5;241;43m.\u001b[39;49m\u001b[43m__getitems__\u001b[49m\u001b[43m(\u001b[49m\u001b[43mpossibly_batched_index\u001b[49m\u001b[43m)\u001b[49m\n\u001b[1;32m     50\u001b[0m     \u001b[38;5;28;01melse\u001b[39;00m:\n\u001b[1;32m     51\u001b[0m         data \u001b[38;5;241m=\u001b[39m [\u001b[38;5;28mself\u001b[39m\u001b[38;5;241m.\u001b[39mdataset[idx] \u001b[38;5;28;01mfor\u001b[39;00m idx \u001b[38;5;129;01min\u001b[39;00m possibly_batched_index]\n",
      "File \u001b[0;32m~/my-project/.venv/lib/python3.11/site-packages/datasets/arrow_dataset.py:2804\u001b[0m, in \u001b[0;36mDataset.__getitems__\u001b[0;34m(self, keys)\u001b[0m\n\u001b[1;32m   2802\u001b[0m \u001b[38;5;28;01mdef\u001b[39;00m \u001b[38;5;21m__getitems__\u001b[39m(\u001b[38;5;28mself\u001b[39m, keys: List) \u001b[38;5;241m-\u001b[39m\u001b[38;5;241m>\u001b[39m List:\n\u001b[1;32m   2803\u001b[0m \u001b[38;5;250m    \u001b[39m\u001b[38;5;124;03m\"\"\"Can be used to get a batch using a list of integers indices.\"\"\"\u001b[39;00m\n\u001b[0;32m-> 2804\u001b[0m     batch \u001b[38;5;241m=\u001b[39m \u001b[38;5;28;43mself\u001b[39;49m\u001b[38;5;241;43m.\u001b[39;49m\u001b[38;5;21;43m__getitem__\u001b[39;49m\u001b[43m(\u001b[49m\u001b[43mkeys\u001b[49m\u001b[43m)\u001b[49m\n\u001b[1;32m   2805\u001b[0m     n_examples \u001b[38;5;241m=\u001b[39m \u001b[38;5;28mlen\u001b[39m(batch[\u001b[38;5;28mnext\u001b[39m(\u001b[38;5;28miter\u001b[39m(batch))])\n\u001b[1;32m   2806\u001b[0m     \u001b[38;5;28;01mreturn\u001b[39;00m [{col: array[i] \u001b[38;5;28;01mfor\u001b[39;00m col, array \u001b[38;5;129;01min\u001b[39;00m batch\u001b[38;5;241m.\u001b[39mitems()} \u001b[38;5;28;01mfor\u001b[39;00m i \u001b[38;5;129;01min\u001b[39;00m \u001b[38;5;28mrange\u001b[39m(n_examples)]\n",
      "File \u001b[0;32m~/my-project/.venv/lib/python3.11/site-packages/datasets/arrow_dataset.py:2800\u001b[0m, in \u001b[0;36mDataset.__getitem__\u001b[0;34m(self, key)\u001b[0m\n\u001b[1;32m   2798\u001b[0m \u001b[38;5;28;01mdef\u001b[39;00m \u001b[38;5;21m__getitem__\u001b[39m(\u001b[38;5;28mself\u001b[39m, key):  \u001b[38;5;66;03m# noqa: F811\u001b[39;00m\n\u001b[1;32m   2799\u001b[0m \u001b[38;5;250m    \u001b[39m\u001b[38;5;124;03m\"\"\"Can be used to index columns (by string names) or rows (by integer index or iterable of indices or bools).\"\"\"\u001b[39;00m\n\u001b[0;32m-> 2800\u001b[0m     \u001b[38;5;28;01mreturn\u001b[39;00m \u001b[38;5;28;43mself\u001b[39;49m\u001b[38;5;241;43m.\u001b[39;49m\u001b[43m_getitem\u001b[49m\u001b[43m(\u001b[49m\u001b[43mkey\u001b[49m\u001b[43m)\u001b[49m\n",
      "File \u001b[0;32m~/my-project/.venv/lib/python3.11/site-packages/datasets/arrow_dataset.py:2785\u001b[0m, in \u001b[0;36mDataset._getitem\u001b[0;34m(self, key, **kwargs)\u001b[0m\n\u001b[1;32m   2783\u001b[0m formatter \u001b[38;5;241m=\u001b[39m get_formatter(format_type, features\u001b[38;5;241m=\u001b[39m\u001b[38;5;28mself\u001b[39m\u001b[38;5;241m.\u001b[39m_info\u001b[38;5;241m.\u001b[39mfeatures, \u001b[38;5;241m*\u001b[39m\u001b[38;5;241m*\u001b[39mformat_kwargs)\n\u001b[1;32m   2784\u001b[0m pa_subtable \u001b[38;5;241m=\u001b[39m query_table(\u001b[38;5;28mself\u001b[39m\u001b[38;5;241m.\u001b[39m_data, key, indices\u001b[38;5;241m=\u001b[39m\u001b[38;5;28mself\u001b[39m\u001b[38;5;241m.\u001b[39m_indices \u001b[38;5;28;01mif\u001b[39;00m \u001b[38;5;28mself\u001b[39m\u001b[38;5;241m.\u001b[39m_indices \u001b[38;5;129;01mis\u001b[39;00m \u001b[38;5;129;01mnot\u001b[39;00m \u001b[38;5;28;01mNone\u001b[39;00m \u001b[38;5;28;01melse\u001b[39;00m \u001b[38;5;28;01mNone\u001b[39;00m)\n\u001b[0;32m-> 2785\u001b[0m formatted_output \u001b[38;5;241m=\u001b[39m \u001b[43mformat_table\u001b[49m\u001b[43m(\u001b[49m\n\u001b[1;32m   2786\u001b[0m \u001b[43m    \u001b[49m\u001b[43mpa_subtable\u001b[49m\u001b[43m,\u001b[49m\u001b[43m \u001b[49m\u001b[43mkey\u001b[49m\u001b[43m,\u001b[49m\u001b[43m \u001b[49m\u001b[43mformatter\u001b[49m\u001b[38;5;241;43m=\u001b[39;49m\u001b[43mformatter\u001b[49m\u001b[43m,\u001b[49m\u001b[43m \u001b[49m\u001b[43mformat_columns\u001b[49m\u001b[38;5;241;43m=\u001b[39;49m\u001b[43mformat_columns\u001b[49m\u001b[43m,\u001b[49m\u001b[43m \u001b[49m\u001b[43moutput_all_columns\u001b[49m\u001b[38;5;241;43m=\u001b[39;49m\u001b[43moutput_all_columns\u001b[49m\n\u001b[1;32m   2787\u001b[0m \u001b[43m\u001b[49m\u001b[43m)\u001b[49m\n\u001b[1;32m   2788\u001b[0m \u001b[38;5;28;01mreturn\u001b[39;00m formatted_output\n",
      "File \u001b[0;32m~/my-project/.venv/lib/python3.11/site-packages/datasets/formatting/formatting.py:629\u001b[0m, in \u001b[0;36mformat_table\u001b[0;34m(table, key, formatter, format_columns, output_all_columns)\u001b[0m\n\u001b[1;32m    627\u001b[0m python_formatter \u001b[38;5;241m=\u001b[39m PythonFormatter(features\u001b[38;5;241m=\u001b[39mformatter\u001b[38;5;241m.\u001b[39mfeatures)\n\u001b[1;32m    628\u001b[0m \u001b[38;5;28;01mif\u001b[39;00m format_columns \u001b[38;5;129;01mis\u001b[39;00m \u001b[38;5;28;01mNone\u001b[39;00m:\n\u001b[0;32m--> 629\u001b[0m     \u001b[38;5;28;01mreturn\u001b[39;00m \u001b[43mformatter\u001b[49m\u001b[43m(\u001b[49m\u001b[43mpa_table\u001b[49m\u001b[43m,\u001b[49m\u001b[43m \u001b[49m\u001b[43mquery_type\u001b[49m\u001b[38;5;241;43m=\u001b[39;49m\u001b[43mquery_type\u001b[49m\u001b[43m)\u001b[49m\n\u001b[1;32m    630\u001b[0m \u001b[38;5;28;01melif\u001b[39;00m query_type \u001b[38;5;241m==\u001b[39m \u001b[38;5;124m\"\u001b[39m\u001b[38;5;124mcolumn\u001b[39m\u001b[38;5;124m\"\u001b[39m:\n\u001b[1;32m    631\u001b[0m     \u001b[38;5;28;01mif\u001b[39;00m key \u001b[38;5;129;01min\u001b[39;00m format_columns:\n",
      "File \u001b[0;32m~/my-project/.venv/lib/python3.11/site-packages/datasets/formatting/formatting.py:400\u001b[0m, in \u001b[0;36mFormatter.__call__\u001b[0;34m(self, pa_table, query_type)\u001b[0m\n\u001b[1;32m    398\u001b[0m     \u001b[38;5;28;01mreturn\u001b[39;00m \u001b[38;5;28mself\u001b[39m\u001b[38;5;241m.\u001b[39mformat_column(pa_table)\n\u001b[1;32m    399\u001b[0m \u001b[38;5;28;01melif\u001b[39;00m query_type \u001b[38;5;241m==\u001b[39m \u001b[38;5;124m\"\u001b[39m\u001b[38;5;124mbatch\u001b[39m\u001b[38;5;124m\"\u001b[39m:\n\u001b[0;32m--> 400\u001b[0m     \u001b[38;5;28;01mreturn\u001b[39;00m \u001b[38;5;28;43mself\u001b[39;49m\u001b[38;5;241;43m.\u001b[39;49m\u001b[43mformat_batch\u001b[49m\u001b[43m(\u001b[49m\u001b[43mpa_table\u001b[49m\u001b[43m)\u001b[49m\n",
      "File \u001b[0;32m~/my-project/.venv/lib/python3.11/site-packages/datasets/formatting/formatting.py:448\u001b[0m, in \u001b[0;36mPythonFormatter.format_batch\u001b[0;34m(self, pa_table)\u001b[0m\n\u001b[1;32m    446\u001b[0m \u001b[38;5;28;01mif\u001b[39;00m \u001b[38;5;28mself\u001b[39m\u001b[38;5;241m.\u001b[39mlazy:\n\u001b[1;32m    447\u001b[0m     \u001b[38;5;28;01mreturn\u001b[39;00m LazyBatch(pa_table, \u001b[38;5;28mself\u001b[39m)\n\u001b[0;32m--> 448\u001b[0m batch \u001b[38;5;241m=\u001b[39m \u001b[38;5;28;43mself\u001b[39;49m\u001b[38;5;241;43m.\u001b[39;49m\u001b[43mpython_arrow_extractor\u001b[49m\u001b[43m(\u001b[49m\u001b[43m)\u001b[49m\u001b[38;5;241;43m.\u001b[39;49m\u001b[43mextract_batch\u001b[49m\u001b[43m(\u001b[49m\u001b[43mpa_table\u001b[49m\u001b[43m)\u001b[49m\n\u001b[1;32m    449\u001b[0m batch \u001b[38;5;241m=\u001b[39m \u001b[38;5;28mself\u001b[39m\u001b[38;5;241m.\u001b[39mpython_features_decoder\u001b[38;5;241m.\u001b[39mdecode_batch(batch)\n\u001b[1;32m    450\u001b[0m \u001b[38;5;28;01mreturn\u001b[39;00m batch\n",
      "File \u001b[0;32m~/my-project/.venv/lib/python3.11/site-packages/datasets/formatting/formatting.py:150\u001b[0m, in \u001b[0;36mPythonArrowExtractor.extract_batch\u001b[0;34m(self, pa_table)\u001b[0m\n\u001b[1;32m    149\u001b[0m \u001b[38;5;28;01mdef\u001b[39;00m \u001b[38;5;21mextract_batch\u001b[39m(\u001b[38;5;28mself\u001b[39m, pa_table: pa\u001b[38;5;241m.\u001b[39mTable) \u001b[38;5;241m-\u001b[39m\u001b[38;5;241m>\u001b[39m \u001b[38;5;28mdict\u001b[39m:\n\u001b[0;32m--> 150\u001b[0m     \u001b[38;5;28;01mreturn\u001b[39;00m \u001b[43mpa_table\u001b[49m\u001b[38;5;241;43m.\u001b[39;49m\u001b[43mto_pydict\u001b[49m\u001b[43m(\u001b[49m\u001b[43m)\u001b[49m\n",
      "\u001b[0;31mKeyboardInterrupt\u001b[0m: "
     ]
    }
   ],
   "source": [
    "# 活動あり/なしの予測確率\n",
    "prediction = trainer.predict(test_dataset)\n",
    "prediction"
   ]
  },
  {
   "cell_type": "code",
   "execution_count": 9,
   "metadata": {},
   "outputs": [
    {
     "data": {
      "application/vnd.jupyter.widget-view+json": {
       "model_id": "f7b7bbf0ba7a43d6a3b0e5ab346e6718",
       "version_major": 2,
       "version_minor": 0
      },
      "text/plain": [
       "Map:   0%|          | 0/200 [00:00<?, ? examples/s]"
      ]
     },
     "metadata": {},
     "output_type": "display_data"
    },
    {
     "data": {
      "text/html": [],
      "text/plain": [
       "<IPython.core.display.HTML object>"
      ]
     },
     "metadata": {},
     "output_type": "display_data"
    },
    {
     "data": {
      "text/plain": [
       "PredictionOutput(predictions=array([[-5.98845840e-01,  5.86128831e-01],\n",
       "       [ 1.04071844e+00, -9.57929552e-01],\n",
       "       [ 3.40541527e-02, -2.72699505e-01],\n",
       "       [ 8.02536905e-01, -1.37396419e+00],\n",
       "       [ 5.76453581e-02, -7.32637048e-01],\n",
       "       [ 8.35022688e-01, -1.42254376e+00],\n",
       "       [-5.05978823e-01, -6.35256097e-02],\n",
       "       [-6.91351295e-01, -2.39208695e-02],\n",
       "       [ 6.21732548e-02, -9.45274115e-01],\n",
       "       [ 5.61031401e-01, -1.04228950e+00],\n",
       "       [-2.72949219e-01,  4.43204612e-01],\n",
       "       [ 4.24563706e-01, -7.72331297e-01],\n",
       "       [-1.26413852e-01,  3.86720806e-01],\n",
       "       [-9.61326063e-01,  1.25460362e+00],\n",
       "       [-7.29861975e-01,  9.27565768e-02],\n",
       "       [ 7.76768267e-01, -1.08607018e+00],\n",
       "       [ 1.24802709e+00, -1.50126135e+00],\n",
       "       [ 8.02649975e-01, -1.10072803e+00],\n",
       "       [ 6.91271424e-01, -1.41748726e+00],\n",
       "       [ 6.49327159e-01, -6.78548455e-01],\n",
       "       [ 3.36950779e-01, -1.76611632e-01],\n",
       "       [-7.22840667e-01,  5.72938286e-02],\n",
       "       [ 2.21539289e-03, -8.44827175e-01],\n",
       "       [-3.97588611e-01, -8.65022540e-02],\n",
       "       [-5.60779750e-01,  4.02072281e-01],\n",
       "       [ 1.10262680e+00, -1.32965899e+00],\n",
       "       [-1.38848573e-01,  1.33183926e-01],\n",
       "       [ 1.04337406e+00, -1.18872249e+00],\n",
       "       [ 1.21088696e+00, -1.18502903e+00],\n",
       "       [ 1.05479383e+00, -1.49181974e+00],\n",
       "       [ 4.22646552e-01, -6.00672722e-01],\n",
       "       [-2.83867568e-01,  2.06445709e-01],\n",
       "       [ 7.42573738e-01, -1.44518936e+00],\n",
       "       [ 5.17140210e-01, -1.22062254e+00],\n",
       "       [-6.30572259e-01, -2.88478643e-01],\n",
       "       [ 8.51471722e-01, -1.15656209e+00],\n",
       "       [-5.00067294e-01, -2.05048651e-01],\n",
       "       [ 1.18108797e+00, -1.60115099e+00],\n",
       "       [-9.23817873e-01,  1.52010053e-01],\n",
       "       [-6.53030992e-01, -6.10925257e-03],\n",
       "       [ 7.58936644e-01, -1.41747808e+00],\n",
       "       [ 3.85378271e-01, -1.17760718e+00],\n",
       "       [-9.15444434e-01,  2.89185345e-01],\n",
       "       [ 7.00284004e-01, -1.26706016e+00],\n",
       "       [-7.31594324e-01,  2.09633484e-01],\n",
       "       [ 7.64490068e-01, -1.28315103e+00],\n",
       "       [-2.48224631e-01,  1.62653327e-01],\n",
       "       [-3.69172364e-01,  1.67254031e-01],\n",
       "       [ 5.81921339e-01, -9.37908769e-01],\n",
       "       [ 3.36436182e-01, -1.13116038e+00],\n",
       "       [-7.67257690e-01, -1.35151315e-02],\n",
       "       [ 9.92671490e-01, -1.55664325e+00],\n",
       "       [-5.90675995e-02, -3.79718512e-01],\n",
       "       [ 1.87464729e-01, -5.22828877e-01],\n",
       "       [ 8.83698046e-01, -3.06923777e-01],\n",
       "       [-6.30906075e-02,  2.92777345e-02],\n",
       "       [ 5.49745500e-01, -8.09878647e-01],\n",
       "       [-3.35007697e-01, -3.03520501e-01],\n",
       "       [-6.16280735e-01,  2.67765790e-01],\n",
       "       [ 1.28866374e+00, -1.19638121e+00],\n",
       "       [ 5.35730958e-01, -2.53360897e-01],\n",
       "       [ 5.71458876e-01, -6.66278243e-01],\n",
       "       [ 8.46337020e-01, -8.36728573e-01],\n",
       "       [ 2.08007619e-01, -7.00574756e-01],\n",
       "       [-4.86330688e-01, -1.92579180e-01],\n",
       "       [-1.63200110e-01,  2.01608077e-01],\n",
       "       [-1.09729782e-01, -3.70464385e-01],\n",
       "       [ 2.65051797e-02, -4.83463138e-01],\n",
       "       [ 3.23498636e-01, -1.00217938e+00],\n",
       "       [-1.55430898e-01, -5.96982419e-01],\n",
       "       [ 2.03908235e-01, -1.06317806e+00],\n",
       "       [ 1.02077723e+00, -1.17620945e+00],\n",
       "       [ 2.28525072e-01, -9.24344897e-01],\n",
       "       [ 9.59874094e-01, -7.65842199e-01],\n",
       "       [-5.39835393e-01, -2.63760775e-01],\n",
       "       [-2.02018067e-01,  2.30167568e-01],\n",
       "       [ 4.47301954e-01, -5.48088968e-01],\n",
       "       [ 1.15232933e+00, -1.53750277e+00],\n",
       "       [-1.59021065e-01, -7.56653249e-01],\n",
       "       [ 2.08271101e-01, -7.22640693e-01],\n",
       "       [ 9.45332527e-01, -9.67586398e-01],\n",
       "       [ 1.91479772e-01, -3.12343985e-01],\n",
       "       [-5.93076706e-01,  8.52250576e-01],\n",
       "       [-5.67782938e-01, -4.10418630e-01],\n",
       "       [ 2.84564644e-01, -1.01929021e+00],\n",
       "       [-5.99812269e-01, -2.82445252e-01],\n",
       "       [ 1.64592847e-01, -9.40797806e-01],\n",
       "       [-4.94790405e-01, -3.87863249e-01],\n",
       "       [-4.12546322e-02, -4.62773621e-01],\n",
       "       [ 9.62610304e-01, -1.15671980e+00],\n",
       "       [-3.79900157e-01,  2.04412248e-02],\n",
       "       [ 1.19432640e+00, -6.21736944e-01],\n",
       "       [-5.61055064e-01, -2.33242422e-01],\n",
       "       [ 5.18658102e-01, -5.09107113e-03],\n",
       "       [-1.38842538e-01, -3.52470458e-01],\n",
       "       [ 1.34482905e-01, -3.70047599e-01],\n",
       "       [ 1.07016921e+00, -1.49182415e+00],\n",
       "       [-8.25251639e-01, -2.93916762e-02],\n",
       "       [ 9.47543681e-01, -1.27669322e+00],\n",
       "       [-2.46993974e-01, -9.28601563e-01],\n",
       "       [-6.58011362e-02, -8.29323947e-01],\n",
       "       [ 4.31028634e-01, -1.09559000e+00],\n",
       "       [ 1.14161336e+00, -9.91145134e-01],\n",
       "       [-2.96829760e-01, -2.83435076e-01],\n",
       "       [-6.92185089e-02, -2.44368494e-01],\n",
       "       [-5.36016524e-01, -7.99738392e-02],\n",
       "       [-7.31061518e-01,  4.23273593e-01],\n",
       "       [ 7.35060513e-01, -7.81430602e-01],\n",
       "       [ 1.17117703e+00, -1.59685743e+00],\n",
       "       [ 4.48075891e-01, -4.97398674e-02],\n",
       "       [ 6.15684278e-02, -7.94559121e-01],\n",
       "       [-5.64726055e-01,  7.02238560e-01],\n",
       "       [-7.52356827e-01,  2.15527833e-01],\n",
       "       [ 8.81379604e-01, -7.46398032e-01],\n",
       "       [ 6.72055855e-02, -7.41717458e-01],\n",
       "       [-9.51061174e-02, -2.90634066e-01],\n",
       "       [-2.98045692e-04, -7.47527480e-01],\n",
       "       [ 2.45635077e-01, -7.83610702e-01],\n",
       "       [ 9.51583028e-01, -1.39699984e+00],\n",
       "       [-5.65939963e-01,  5.99320590e-01],\n",
       "       [-6.69392705e-01,  1.56147480e-01],\n",
       "       [ 6.92679703e-01, -1.26818204e+00],\n",
       "       [ 1.43785024e+00, -6.88220203e-01],\n",
       "       [ 5.23049295e-01, -1.21294582e+00],\n",
       "       [ 6.52698278e-01, -5.88176668e-01],\n",
       "       [-2.22988054e-01, -3.00227851e-02],\n",
       "       [-6.47222579e-01,  2.09158316e-01],\n",
       "       [ 8.28812838e-01, -5.19417942e-01],\n",
       "       [-3.76289487e-01, -2.64537960e-01],\n",
       "       [-8.08396339e-01,  8.55240226e-02],\n",
       "       [ 1.42745864e+00, -1.37465990e+00],\n",
       "       [ 3.35563481e-01, -1.19553292e+00],\n",
       "       [ 4.68082011e-01, -1.83173180e-01],\n",
       "       [ 9.10514653e-01, -1.51103711e+00],\n",
       "       [-1.73338339e-01,  2.93421179e-01],\n",
       "       [ 1.09859490e+00, -7.76061475e-01],\n",
       "       [ 1.67839020e-01, -2.32658908e-01],\n",
       "       [-3.78458560e-01, -2.31880665e-01],\n",
       "       [-3.60199809e-02,  3.68906297e-02],\n",
       "       [ 5.13854206e-01, -8.21746230e-01],\n",
       "       [ 3.42809185e-02, -4.55334127e-01],\n",
       "       [-1.76439583e-01, -8.08369294e-02],\n",
       "       [ 1.19870651e+00, -1.15723908e+00],\n",
       "       [-6.28269732e-01,  8.06492388e-01],\n",
       "       [-3.84199172e-01,  7.75933027e-01],\n",
       "       [-1.21530585e-01,  2.79295862e-01],\n",
       "       [-5.92568636e-01, -2.46989936e-01],\n",
       "       [-3.50436658e-01, -1.55288979e-01],\n",
       "       [-5.95747411e-01,  9.04302359e-01],\n",
       "       [ 1.16757667e+00, -1.41507459e+00],\n",
       "       [ 6.82628989e-01, -3.14875692e-01],\n",
       "       [ 5.09281933e-01, -1.07829928e+00],\n",
       "       [ 2.40257159e-01, -1.88454151e-01],\n",
       "       [ 4.87146884e-01, -5.21555841e-01],\n",
       "       [ 7.67743766e-01, -1.29444647e+00],\n",
       "       [ 2.98784047e-01, -4.56225455e-01],\n",
       "       [-1.58437282e-01, -3.16970348e-01],\n",
       "       [-2.85050094e-01,  2.68788487e-01],\n",
       "       [-4.73688096e-01, -1.88503921e-01],\n",
       "       [-1.06935523e-01,  2.63730377e-01],\n",
       "       [ 4.70921516e-01, -1.06572545e+00],\n",
       "       [ 1.08226335e+00, -1.59685087e+00],\n",
       "       [ 1.24463379e+00, -1.47808707e+00],\n",
       "       [ 1.29590988e+00, -1.30346549e+00],\n",
       "       [ 4.80268270e-01, -5.01787722e-01],\n",
       "       [ 8.01367819e-01, -8.05257201e-01],\n",
       "       [ 1.35275102e+00, -1.31909573e+00],\n",
       "       [-9.94097650e-01,  6.33591473e-01],\n",
       "       [ 7.68985093e-01, -1.38572633e+00],\n",
       "       [-2.67233610e-01, -1.97244108e-01],\n",
       "       [-2.39869371e-01, -4.59843501e-02],\n",
       "       [-2.45770901e-01, -5.25834523e-02],\n",
       "       [ 2.76942998e-01, -4.66782063e-01],\n",
       "       [-5.09820223e-01,  1.37326032e-01],\n",
       "       [-7.25235224e-01,  4.48845416e-01],\n",
       "       [ 8.34273577e-01, -1.20374918e+00],\n",
       "       [ 4.62680072e-01, -6.12368762e-01],\n",
       "       [-4.60999608e-01, -2.23313295e-03],\n",
       "       [ 7.42573738e-01, -1.44518936e+00],\n",
       "       [ 5.40871918e-01, -7.77454197e-01],\n",
       "       [-7.60550499e-02, -5.85781753e-01],\n",
       "       [-9.91913453e-02,  3.58946651e-01],\n",
       "       [ 3.98238152e-01, -2.16904134e-01],\n",
       "       [ 1.04243660e+00, -1.46872747e+00],\n",
       "       [ 9.51583028e-01, -1.39699984e+00],\n",
       "       [ 1.05263107e-01, -2.13888451e-01],\n",
       "       [ 8.61898303e-01, -6.19507849e-01],\n",
       "       [ 1.11361958e-01, -1.05514753e+00],\n",
       "       [-2.07842365e-01, -6.60953641e-01],\n",
       "       [-4.57467467e-01,  1.65448114e-02],\n",
       "       [ 8.64330292e-01, -1.60967922e+00],\n",
       "       [ 1.00337192e-02,  1.87380433e-01],\n",
       "       [-8.38764012e-02, -2.72751182e-01],\n",
       "       [-8.12941074e-01,  8.60770762e-01],\n",
       "       [ 3.26810807e-01, -1.13844323e+00],\n",
       "       [-6.69641078e-01,  4.83440578e-01],\n",
       "       [ 4.85941201e-01, -1.08544397e+00],\n",
       "       [-2.49224797e-01,  2.38556787e-02],\n",
       "       [ 4.84178692e-01, -1.40815949e+00],\n",
       "       [-5.95193803e-01,  1.38414100e-01]], dtype=float32), label_ids=array([0, 0, 0, 0, 0, 0, 0, 0, 0, 1, 1, 1, 0, 1, 1, 0, 0, 0, 0, 0, 0, 1,\n",
       "       0, 0, 1, 0, 0, 0, 0, 0, 1, 0, 0, 0, 0, 0, 0, 0, 1, 1, 1, 0, 1, 0,\n",
       "       0, 0, 1, 1, 0, 0, 1, 0, 1, 1, 0, 0, 1, 1, 1, 0, 0, 1, 0, 0, 1, 1,\n",
       "       1, 1, 0, 1, 0, 1, 0, 0, 0, 0, 1, 0, 0, 1, 0, 1, 1, 1, 1, 0, 0, 0,\n",
       "       0, 0, 0, 0, 0, 1, 1, 0, 0, 0, 0, 1, 0, 0, 0, 1, 1, 1, 1, 0, 0, 0,\n",
       "       0, 1, 1, 0, 0, 0, 0, 0, 0, 1, 1, 0, 0, 0, 0, 0, 0, 0, 0, 0, 0, 0,\n",
       "       0, 0, 0, 0, 1, 0, 1, 0, 1, 0, 0, 1, 0, 0, 0, 1, 1, 0, 0, 0, 1, 1,\n",
       "       0, 1, 0, 1, 0, 0, 0, 0, 0, 0, 0, 1, 0, 1, 0, 1, 1, 0, 1, 1, 0, 1,\n",
       "       0, 0, 0, 0, 0, 1, 1, 1, 0, 0, 1, 0, 0, 1, 0, 0, 1, 1, 1, 1, 1, 1,\n",
       "       0, 0]), metrics={'test_loss': 0.6179153919219971, 'test_accuracy': 0.655, 'test_f1': 0.5241379310344828, 'test_runtime': 0.7217, 'test_samples_per_second': 277.14, 'test_steps_per_second': 18.014})"
      ]
     },
     "execution_count": 9,
     "metadata": {},
     "output_type": "execute_result"
    }
   ],
   "source": [
    "from transformers import AutoTokenizer\n",
    "from src.my_project.dataset import preprocess_for_Trainer\n",
    "import numpy as np\n",
    "# tokenizerの定義\n",
    "tokenizer = AutoTokenizer.from_pretrained(MODEL_NAME)\n",
    "# データセットの前処理\n",
    "eval_dataset_use = preprocess_for_Trainer(eval_dataset, tokenizer, max_len=MAX_LEN)\n",
    "predictions = trainer.predict(eval_dataset_use)\n",
    "predictions"
   ]
  },
  {
   "cell_type": "code",
   "execution_count": 14,
   "metadata": {},
   "outputs": [
    {
     "data": {
      "text/plain": [
       "200"
      ]
     },
     "execution_count": 14,
     "metadata": {},
     "output_type": "execute_result"
    }
   ],
   "source": [
    "len(predictions)"
   ]
  },
  {
   "cell_type": "code",
   "execution_count": 17,
   "metadata": {},
   "outputs": [
    {
     "data": {
      "text/plain": [
       "array([1, 0, 0, 0, 0, 0, 1, 1, 0, 0, 1, 0, 1, 1, 1, 0, 0, 0, 0, 0, 0, 1,\n",
       "       0, 1, 1, 0, 1, 0, 0, 0, 0, 1, 0, 0, 1, 0, 1, 0, 1, 1, 0, 0, 1, 0,\n",
       "       1, 0, 1, 1, 0, 0, 1, 0, 0, 0, 0, 1, 0, 1, 1, 0, 0, 0, 0, 0, 1, 1,\n",
       "       0, 0, 0, 0, 0, 0, 0, 0, 1, 1, 0, 0, 0, 0, 0, 0, 1, 1, 0, 1, 0, 1,\n",
       "       0, 0, 1, 0, 1, 0, 0, 0, 0, 1, 0, 0, 0, 0, 0, 1, 0, 1, 1, 0, 0, 0,\n",
       "       0, 1, 1, 0, 0, 0, 0, 0, 0, 1, 1, 0, 0, 0, 0, 1, 1, 0, 1, 1, 0, 0,\n",
       "       0, 0, 1, 0, 0, 1, 1, 0, 0, 1, 0, 1, 1, 1, 1, 1, 1, 0, 0, 0, 0, 0,\n",
       "       0, 0, 0, 1, 1, 1, 0, 0, 0, 0, 0, 0, 0, 1, 0, 1, 1, 1, 0, 1, 1, 0,\n",
       "       0, 1, 0, 0, 0, 1, 0, 0, 0, 0, 0, 0, 0, 1, 0, 1, 0, 1, 0, 1, 0, 1,\n",
       "       0, 1])"
      ]
     },
     "execution_count": 17,
     "metadata": {},
     "output_type": "execute_result"
    }
   ],
   "source": [
    "predictions"
   ]
  },
  {
   "cell_type": "code",
   "execution_count": 21,
   "metadata": {},
   "outputs": [
    {
     "data": {
      "text/plain": [
       "[[0, 0, 0, 100],\n",
       " [0, 0, 0, 0],\n",
       " [0, 0, 0, 0],\n",
       " [0, 0, 0, 0],\n",
       " [0, 0, 0, 0],\n",
       " [0, 0, 0, 0],\n",
       " [0, 0, 0, 0],\n",
       " [0, 0, 0, 0],\n",
       " [0, 0, 0, 0],\n",
       " [0, 0, 0, 0]]"
      ]
     },
     "execution_count": 21,
     "metadata": {},
     "output_type": "execute_result"
    },
    {
     "name": "stderr",
     "output_type": "stream",
     "text": [
      "wandb: Network error (ReadTimeout), entering retry loop.\n"
     ]
    }
   ],
   "source": [
    "prediction_label = [[0 for i in range(4)] for j in range(10)]\n",
    "prediction_label[0][-1]= 100\n",
    "prediction_label"
   ]
  },
  {
   "cell_type": "code",
   "execution_count": 13,
   "metadata": {},
   "outputs": [
    {
     "ename": "AttributeError",
     "evalue": "'numpy.ndarray' object has no attribute 'predictions'",
     "output_type": "error",
     "traceback": [
      "\u001b[0;31m---------------------------------------------------------------------------\u001b[0m",
      "\u001b[0;31mAttributeError\u001b[0m                            Traceback (most recent call last)",
      "Cell \u001b[0;32mIn[13], line 1\u001b[0m\n\u001b[0;32m----> 1\u001b[0m predictions \u001b[38;5;241m=\u001b[39m np\u001b[38;5;241m.\u001b[39margmax(\u001b[43mpredictions\u001b[49m\u001b[38;5;241;43m.\u001b[39;49m\u001b[43mpredictions\u001b[49m, axis\u001b[38;5;241m=\u001b[39m\u001b[38;5;241m-\u001b[39m\u001b[38;5;241m1\u001b[39m) \u001b[38;5;66;03m# 最大値のラベルを予測値とする\u001b[39;00m\n\u001b[1;32m      2\u001b[0m predictions\n",
      "\u001b[0;31mAttributeError\u001b[0m: 'numpy.ndarray' object has no attribute 'predictions'"
     ]
    }
   ],
   "source": [
    "predictions = np.argmax(predictions.predictions, axis=-1) # 最大値のラベルを予測値とする\n",
    "predictions"
   ]
  },
  {
   "cell_type": "code",
   "execution_count": null,
   "metadata": {},
   "outputs": [],
   "source": []
  },
  {
   "cell_type": "code",
   "execution_count": 11,
   "metadata": {},
   "outputs": [
    {
     "name": "stderr",
     "output_type": "stream",
     "text": [
      "Some weights of BertForSequenceClassification were not initialized from the model checkpoint at cl-tohoku/bert-base-japanese-v3 and are newly initialized: ['classifier.bias', 'classifier.weight']\n",
      "You should probably TRAIN this model on a down-stream task to be able to use it for predictions and inference.\n"
     ]
    },
    {
     "data": {
      "application/vnd.jupyter.widget-view+json": {
       "model_id": "02d8754d706649fd9b0789d590a0669d",
       "version_major": 2,
       "version_minor": 0
      },
      "text/plain": [
       "Map:   0%|          | 0/900 [00:00<?, ? examples/s]"
      ]
     },
     "metadata": {},
     "output_type": "display_data"
    },
    {
     "data": {
      "application/vnd.jupyter.widget-view+json": {
       "model_id": "75bc5316ac5d4d10993403c7918befe6",
       "version_major": 2,
       "version_minor": 0
      },
      "text/plain": [
       "Map:   0%|          | 0/200 [00:00<?, ? examples/s]"
      ]
     },
     "metadata": {},
     "output_type": "display_data"
    },
    {
     "data": {
      "application/vnd.jupyter.widget-view+json": {
       "model_id": "c577d31cbfaa4712bbc3ff0a0063e93b",
       "version_major": 2,
       "version_minor": 0
      },
      "text/plain": [
       "VBox(children=(Label(value='Waiting for wandb.init()...\\r'), FloatProgress(value=0.0111121432027883, max=1.0))…"
      ]
     },
     "metadata": {},
     "output_type": "display_data"
    },
    {
     "data": {
      "text/html": [
       "\n",
       "    <div>\n",
       "      \n",
       "      <progress value='285' max='5700' style='width:300px; height:20px; vertical-align: middle;'></progress>\n",
       "      [ 285/5700 01:03 < 20:08, 4.48 it/s, Epoch 5/100]\n",
       "    </div>\n",
       "    <table border=\"1\" class=\"dataframe\">\n",
       "  <thead>\n",
       " <tr style=\"text-align: left;\">\n",
       "      <th>Epoch</th>\n",
       "      <th>Training Loss</th>\n",
       "      <th>Validation Loss</th>\n",
       "      <th>Accuracy</th>\n",
       "      <th>F1</th>\n",
       "    </tr>\n",
       "  </thead>\n",
       "  <tbody>\n",
       "    <tr>\n",
       "      <td>1</td>\n",
       "      <td>0.699700</td>\n",
       "      <td>0.678303</td>\n",
       "      <td>0.545000</td>\n",
       "      <td>0.461538</td>\n",
       "    </tr>\n",
       "    <tr>\n",
       "      <td>2</td>\n",
       "      <td>0.638200</td>\n",
       "      <td>0.621693</td>\n",
       "      <td>0.680000</td>\n",
       "      <td>0.542857</td>\n",
       "    </tr>\n",
       "    <tr>\n",
       "      <td>3</td>\n",
       "      <td>0.536600</td>\n",
       "      <td>0.613573</td>\n",
       "      <td>0.645000</td>\n",
       "      <td>0.517007</td>\n",
       "    </tr>\n",
       "    <tr>\n",
       "      <td>4</td>\n",
       "      <td>0.394600</td>\n",
       "      <td>0.673403</td>\n",
       "      <td>0.640000</td>\n",
       "      <td>0.526316</td>\n",
       "    </tr>\n",
       "    <tr>\n",
       "      <td>5</td>\n",
       "      <td>0.211700</td>\n",
       "      <td>0.804602</td>\n",
       "      <td>0.700000</td>\n",
       "      <td>0.583333</td>\n",
       "    </tr>\n",
       "  </tbody>\n",
       "</table><p>"
      ],
      "text/plain": [
       "<IPython.core.display.HTML object>"
      ]
     },
     "metadata": {},
     "output_type": "display_data"
    }
   ],
   "source": [
    "trainer2 = Classifier_model.train_model(train_dataset, eval_dataset, MAX_LEN, NUM_EPOCHS, LEARNING_RATE, BATCH_SIZE, PATIENCE, output_dir, project_name='ActClassification', run_name='test')"
   ]
  },
  {
   "cell_type": "code",
   "execution_count": 14,
   "metadata": {},
   "outputs": [
    {
     "data": {
      "application/vnd.jupyter.widget-view+json": {
       "model_id": "7ad1889aef04474e87545eabd601ff4a",
       "version_major": 2,
       "version_minor": 0
      },
      "text/plain": [
       "Map:   0%|          | 0/200 [00:00<?, ? examples/s]"
      ]
     },
     "metadata": {},
     "output_type": "display_data"
    },
    {
     "data": {
      "text/html": [],
      "text/plain": [
       "<IPython.core.display.HTML object>"
      ]
     },
     "metadata": {},
     "output_type": "display_data"
    }
   ],
   "source": [
    "from transformers import AutoTokenizer\n",
    "from src.my_project.dataset import preprocess_for_Trainer\n",
    "import numpy as np\n",
    "# tokenizerの定義\n",
    "tokenizer = AutoTokenizer.from_pretrained(MODEL_NAME)\n",
    "# データセットの前処理\n",
    "eval_dataset_use = preprocess_for_Trainer(eval_dataset, tokenizer, max_len=MAX_LEN)\n",
    "predictions = trainer.predict(eval_dataset_use)\n",
    "predictions = np.argmax(predictions.predictions, axis=-1) # 最大値のラベルを予測値とする"
   ]
  },
  {
   "cell_type": "code",
   "execution_count": 15,
   "metadata": {},
   "outputs": [
    {
     "data": {
      "text/plain": [
       "array([1, 0, 0, 0, 0, 0, 1, 1, 0, 0, 1, 0, 1, 1, 1, 0, 0, 0, 0, 0, 0, 1,\n",
       "       0, 1, 1, 0, 1, 0, 0, 0, 0, 1, 0, 0, 1, 0, 1, 0, 1, 1, 0, 0, 1, 0,\n",
       "       1, 0, 1, 1, 0, 0, 1, 0, 0, 0, 0, 0, 0, 1, 1, 0, 0, 0, 0, 0, 1, 1,\n",
       "       0, 0, 0, 0, 0, 0, 0, 0, 1, 0, 0, 0, 0, 0, 0, 0, 1, 1, 0, 1, 0, 0,\n",
       "       0, 0, 1, 0, 1, 1, 0, 1, 0, 1, 0, 0, 0, 0, 0, 0, 0, 1, 1, 0, 0, 0,\n",
       "       0, 1, 1, 0, 0, 0, 0, 0, 0, 1, 1, 0, 0, 0, 0, 1, 1, 0, 0, 1, 0, 0,\n",
       "       0, 0, 1, 0, 0, 0, 0, 0, 0, 1, 0, 1, 1, 1, 1, 1, 1, 0, 0, 0, 1, 0,\n",
       "       0, 0, 1, 1, 1, 0, 0, 0, 0, 0, 0, 0, 0, 1, 0, 1, 0, 0, 0, 1, 1, 0,\n",
       "       0, 0, 0, 0, 1, 1, 0, 0, 0, 1, 0, 0, 0, 0, 0, 0, 1, 1, 0, 1, 0, 1,\n",
       "       0, 1])"
      ]
     },
     "execution_count": 15,
     "metadata": {},
     "output_type": "execute_result"
    }
   ],
   "source": [
    "predictions"
   ]
  },
  {
   "cell_type": "code",
   "execution_count": 16,
   "metadata": {},
   "outputs": [
    {
     "data": {
      "application/vnd.jupyter.widget-view+json": {
       "model_id": "06b8f2ae79a946c3910aafaabe054ed3",
       "version_major": 2,
       "version_minor": 0
      },
      "text/plain": [
       "Map:   0%|          | 0/200 [00:00<?, ? examples/s]"
      ]
     },
     "metadata": {},
     "output_type": "display_data"
    },
    {
     "data": {
      "text/html": [],
      "text/plain": [
       "<IPython.core.display.HTML object>"
      ]
     },
     "metadata": {},
     "output_type": "display_data"
    }
   ],
   "source": [
    "from transformers import AutoTokenizer\n",
    "from src.my_project.dataset import preprocess_for_Trainer\n",
    "import numpy as np\n",
    "# tokenizerの定義\n",
    "tokenizer = AutoTokenizer.from_pretrained(MODEL_NAME)\n",
    "# データセットの前処理\n",
    "eval_dataset_use = preprocess_for_Trainer(eval_dataset, tokenizer, max_len=MAX_LEN)\n",
    "predictions = trainer2.predict(eval_dataset_use)\n",
    "predictions = np.argmax(predictions.predictions, axis=-1) # 最大値のラベルを予測値とする"
   ]
  },
  {
   "cell_type": "code",
   "execution_count": 17,
   "metadata": {},
   "outputs": [
    {
     "data": {
      "text/plain": [
       "array([1, 0, 0, 0, 0, 0, 1, 1, 0, 0, 1, 0, 1, 1, 1, 0, 0, 0, 0, 0, 0, 1,\n",
       "       0, 1, 1, 0, 1, 0, 0, 0, 1, 1, 0, 0, 1, 0, 1, 0, 1, 1, 0, 0, 1, 0,\n",
       "       1, 0, 1, 1, 0, 0, 1, 0, 1, 0, 0, 0, 0, 1, 1, 0, 0, 0, 0, 0, 1, 1,\n",
       "       0, 0, 0, 0, 0, 0, 0, 0, 1, 0, 0, 0, 0, 0, 0, 0, 1, 1, 0, 1, 0, 1,\n",
       "       0, 0, 1, 0, 1, 1, 0, 1, 0, 1, 0, 0, 0, 0, 0, 0, 0, 1, 1, 0, 0, 1,\n",
       "       0, 1, 1, 0, 0, 0, 1, 0, 0, 1, 1, 0, 0, 0, 0, 1, 1, 0, 1, 1, 0, 0,\n",
       "       1, 0, 1, 0, 0, 0, 0, 0, 1, 1, 0, 1, 1, 1, 1, 1, 1, 0, 0, 0, 0, 0,\n",
       "       0, 0, 1, 1, 1, 1, 0, 0, 0, 0, 0, 0, 0, 1, 0, 1, 0, 0, 0, 1, 1, 0,\n",
       "       0, 1, 0, 0, 0, 1, 0, 0, 0, 1, 0, 0, 0, 0, 0, 1, 0, 1, 0, 1, 0, 1,\n",
       "       0, 1])"
      ]
     },
     "execution_count": 17,
     "metadata": {},
     "output_type": "execute_result"
    }
   ],
   "source": [
    "predictions"
   ]
  },
  {
   "cell_type": "code",
   "execution_count": 10,
   "metadata": {},
   "outputs": [
    {
     "data": {
      "application/vnd.jupyter.widget-view+json": {
       "model_id": "5d22cefd645b4733b6f7f193a7c12ac0",
       "version_major": 2,
       "version_minor": 0
      },
      "text/plain": [
       "Map:   0%|          | 0/200 [00:00<?, ? examples/s]"
      ]
     },
     "metadata": {},
     "output_type": "display_data"
    },
    {
     "data": {
      "text/html": [],
      "text/plain": [
       "<IPython.core.display.HTML object>"
      ]
     },
     "metadata": {},
     "output_type": "display_data"
    }
   ],
   "source": [
    "from transformers import AutoTokenizer\n",
    "from src.my_project.dataset import preprocess_for_Trainer\n",
    "import numpy as np\n",
    "# tokenizerの定義\n",
    "tokenizer = AutoTokenizer.from_pretrained(MODEL_NAME)\n",
    "# データセットの前処理\n",
    "eval_dataset_use = preprocess_for_Trainer(eval_dataset, tokenizer, max_len=MAX_LEN)\n",
    "predictions = trainer.predict(eval_dataset_use)\n",
    "predictions = np.argmax(predictions.predictions, axis=-1) # 最大値のラベルを予測値とする"
   ]
  },
  {
   "cell_type": "code",
   "execution_count": 12,
   "metadata": {},
   "outputs": [
    {
     "data": {
      "application/vnd.jupyter.widget-view+json": {
       "model_id": "30f5909280f44bc39471d2ea3303c822",
       "version_major": 2,
       "version_minor": 0
      },
      "text/plain": [
       "Map:   0%|          | 0/200 [00:00<?, ? examples/s]"
      ]
     },
     "metadata": {},
     "output_type": "display_data"
    },
    {
     "data": {
      "text/html": [],
      "text/plain": [
       "<IPython.core.display.HTML object>"
      ]
     },
     "metadata": {},
     "output_type": "display_data"
    }
   ],
   "source": [
    "# predictメソッドで予測\n",
    "prediction = Classifier_model.predict(trainer, eval_dataset, MAX_LEN)"
   ]
  },
  {
   "cell_type": "code",
   "execution_count": 11,
   "metadata": {},
   "outputs": [
    {
     "data": {
      "text/plain": [
       "array([0, 0, 0, 0, 0, 0, 1, 0, 0, 0, 1, 0, 1, 1, 1, 0, 0, 0, 0, 0, 0, 0,\n",
       "       0, 1, 0, 0, 0, 0, 0, 0, 0, 1, 0, 0, 1, 0, 1, 0, 1, 1, 0, 0, 1, 0,\n",
       "       1, 0, 0, 0, 0, 0, 0, 0, 1, 0, 1, 0, 0, 1, 1, 0, 0, 0, 0, 0, 1, 1,\n",
       "       0, 0, 0, 1, 0, 0, 0, 0, 0, 0, 0, 0, 0, 0, 0, 0, 1, 0, 0, 0, 0, 1,\n",
       "       0, 0, 1, 0, 1, 1, 0, 1, 0, 1, 0, 0, 0, 0, 0, 1, 0, 0, 1, 0, 0, 1,\n",
       "       0, 1, 1, 0, 0, 0, 0, 0, 0, 1, 1, 0, 0, 0, 0, 1, 1, 0, 0, 0, 0, 0,\n",
       "       0, 0, 1, 0, 1, 1, 0, 1, 0, 1, 0, 1, 1, 0, 0, 1, 1, 0, 0, 0, 1, 1,\n",
       "       0, 0, 1, 1, 1, 1, 0, 0, 0, 0, 0, 0, 0, 1, 0, 0, 0, 0, 0, 1, 1, 0,\n",
       "       0, 1, 0, 0, 0, 1, 0, 0, 0, 1, 0, 0, 0, 0, 0, 0, 1, 1, 0, 1, 0, 1,\n",
       "       0, 1])"
      ]
     },
     "execution_count": 11,
     "metadata": {},
     "output_type": "execute_result"
    }
   ],
   "source": [
    "prediction"
   ]
  },
  {
   "cell_type": "markdown",
   "metadata": {},
   "source": [
    "<a id='section2-5'></a>\n",
    "### 2.5 評価データを用いた評価"
   ]
  },
  {
   "cell_type": "code",
   "execution_count": 13,
   "metadata": {},
   "outputs": [
    {
     "name": "stdout",
     "output_type": "stream",
     "text": [
      "Accuracy: 0.6800\n",
      "F1: 0.5294\n"
     ]
    }
   ],
   "source": [
    "# trainerの予測値とeval_dataset['labels']のAccuracyとF1を出す\n",
    "from sklearn.metrics import accuracy_score, f1_score\n",
    "accuracy = accuracy_score(eval_dataset['labels'], predictions)\n",
    "f1 = f1_score(eval_dataset['labels'], predictions)\n",
    "print(f'Accuracy: {accuracy:.4f}')\n",
    "print(f'F1: {f1:.4f}')"
   ]
  },
  {
   "cell_type": "code",
   "execution_count": 14,
   "metadata": {},
   "outputs": [
    {
     "data": {
      "application/vnd.jupyter.widget-view+json": {
       "model_id": "038441654cbe462e958959f2d100937d",
       "version_major": 2,
       "version_minor": 0
      },
      "text/plain": [
       "Map:   0%|          | 0/200 [00:00<?, ? examples/s]"
      ]
     },
     "metadata": {},
     "output_type": "display_data"
    },
    {
     "data": {
      "text/html": [
       "\n",
       "    <div>\n",
       "      \n",
       "      <progress value='13' max='13' style='width:300px; height:20px; vertical-align: middle;'></progress>\n",
       "      [13/13 00:00]\n",
       "    </div>\n",
       "    "
      ],
      "text/plain": [
       "<IPython.core.display.HTML object>"
      ]
     },
     "metadata": {},
     "output_type": "display_data"
    },
    {
     "data": {
      "text/plain": [
       "{'eval_loss': 0.5914315581321716,\n",
       " 'eval_accuracy': 0.68,\n",
       " 'eval_f1': 0.5294117647058824,\n",
       " 'eval_runtime': 0.6022,\n",
       " 'eval_samples_per_second': 332.127,\n",
       " 'eval_steps_per_second': 21.588,\n",
       " 'epoch': 5.0}"
      ]
     },
     "execution_count": 14,
     "metadata": {},
     "output_type": "execute_result"
    }
   ],
   "source": [
    "Classifier_model.evaluation(trainer, eval_dataset, MAX_LEN)"
   ]
  },
  {
   "cell_type": "code",
   "execution_count": null,
   "metadata": {},
   "outputs": [],
   "source": [
    "# add_data\n",
    "add_dataset = load_text_dataset(f\"{DATASET_PATH}/add_data_sub.txt.xlsx\")"
   ]
  },
  {
   "cell_type": "code",
   "execution_count": null,
   "metadata": {},
   "outputs": [
    {
     "data": {
      "text/plain": [
       "{'texts': ['ディズニーランドホテルなう。',\n",
       "  '舞浜地ビールなう。奈緒ちゃんの粋な計らい。',\n",
       "  'ディズニーランドホテルは仕掛けがいろいろあって面白い。喫煙所が一つしかないけど…',\n",
       "  '喫煙所は完全に隔離され、ちゃちじゃないがホテル全体のトンマナに悪影響を及ぼさない設計',\n",
       "  'レヴィ＝ストロース氏死去､ 残念だ。ご冥福を祈ります。',\n",
       "  '相反する二つの目的を同時に達成するようなルール作り。これはクリエイティブ。サッカーにおけるオフサイドのようなやつね。',\n",
       "  'やべ。いい企画おもいついったー…',\n",
       "  'バズマン、その調子だ。',\n",
       "  'ディズニーのサービスクオリティって、アタマから安心できるよね。',\n",
       "  '昨日、昔のプロフェッショナル仕事の流儀がやってて、DNAのﾅﾝﾊﾞ社長が｢仕事が人を育てる｣と頑なに言ってたけど、八割くらいそうだと思う。',\n",
       "  'バズマン、今日の進捗全部メールしといてね。',\n",
       "  'まぢで？RT伊藤直樹がGTを卒業し、wieden+kenedyの東京オフィス代表に就任しました。',\n",
       "  'いろいろ、悩むなぁ。',\n",
       "  'デスクの上の本を整理しはじめて、早2時間。。。',\n",
       "  '今月は消費が激しいが、なんとか10万貯金する。',\n",
       "  '最近、セミナー講師をやることが多く、とっても勉強になっている件。',\n",
       "  '「会食」ってコトバはやっぱりすきじゃないね。',\n",
       "  '「できること」と「できないこと」の境界線をどれだけしっているか。という点はプランナーにとって不可欠。もちろん「できる」前提で「どうすればできるか」という発想も大切なのは言うまでもないが、「境界線」を知らなければ「どうすれば・・・」という発想すら生まれないわけで。',\n",
       "  '若くして出世できる会社（この言い方、すごく違和感あるけど）は、ものすごいメリットがある反面、頭ごなしに否定してくれる人間がいないので、胃の中のなんちゃらになりがち。きちんと市場対応できるようになるためには、外に開いていないと。裸の王様になっちまう。',\n",
       "  'ガスガスっと、こう、上からグシャって感じでつぶしたい。',\n",
       "  '「代理店連結育成プログラム」ってのを代理店連結でやっているらしいのだが、代理店連結だけでやることに大して意味はないので、本部側から色々歩み寄るべきだと思う。一番でかいハブなので。専門特化している連結各社のノウハウをダイレクトに共有しても良い意味での横ストレッチにはなりにくい。',\n",
       "  'ちなみに「体で覚えたことは忘れにくい」といいつつも、しっかりとベースの弾き方等々は忘れています・・・',\n",
       "  '僕は若輩者なので比較的どんな学生とも会いたいと思っているんだけど、単純に「会う」だけってないじゃない。「出会い系」じゃないんだし、とはいえ「パートナー選び」の感覚はあるし。そういう場面は「売り込み」じゃない。',\n",
       "  'たまに「メタ」的に確認いれないと。結構、アタマの使い方に漏れがある。',\n",
       "  '仕事の質を高めるためにやることはシンプルに4つ。①重要な行動を増やす、②重要でない行動減らす、③新しい行動を追加する、④あることを完全にやめる。',\n",
       "  '「定義」とか「原理」とかを考えていくと、とても前頭葉がアツクなる。',\n",
       "  '今のYouTubeのチャンネルの構造は「見せる」よりも「見る」に適している、マイプレーヤー型であると思う。とっても使いやすい。',\n",
       "  'ホルモンとPerfumeを交互に聴きながら、たまにSex Machingunsを挟み込みつつ資料を作る。',\n",
       "  '「楽勝」の感覚が芽生え始めると、次のステージに以降する段階。「楽勝」⇒「辛勝」⇒「楽勝」⇒「辛勝」⇒「楽勝」⇒「辛勝」⇒「楽勝」⇒「辛勝」⇒「楽勝」・・・で、レベルが上がっていく。なのでそろそろ「辛勝」フェーズなオイラ。',\n",
       "  '給食食べなきゃ遊びにいけない～♪\\u3000鬼！鬼！鬼！',\n",
       "  'アンチャンのギターはホントにやばいよね。ノイジーのベースはたいしたことないけど。',\n",
       "  '意外と知られていない、アドマン元バンドマン説（笑',\n",
       "  '先週まで1ヶ月くらい新規情報摂取をほとんど止めていたんだけど（いろんな人に薦められて）、来週からまた大量情報摂取型に戻します。僕には合いませんでした。HACK型の人間なので。',\n",
       "  '「上達のスキーマ」のレベルをより高次元にもっていく。',\n",
       "  '落ち込んだ時は「ne-yoとオレは同い年」というファクトを思い出すと、良くわからず元気になれる・・・同い年かよ・・・',\n",
       "  '「ダイナミックレンジ」と「ディープジェネラリスト」。マルチ型プレーヤーとの違い。「幅の種類」と「自由度」が効く。',\n",
       "  '「スポットライトを浴び続ける人生を」「楽しい仕事を、クソ楽しく」',\n",
       "  '飲みに行きたい・・が、今夜はいろいろ全部やる。',\n",
       "  '「感覚系」と「運動系」。アウトプットベースでコネクトを強くして、トータルのレスポンススピードを上げる。たぶん、そこら辺は優れている。',\n",
       "  '「不変」と「可変」。',\n",
       "  '二項対立を相対的にする柔軟性。',\n",
       "  'たまに福山になりたいって、本気で思うよね。',\n",
       "  'デジハリの講義内容をどうするか？で、結構ドン詰まってるナウ。でも、いい意味。',\n",
       "  '今の就職活動は面白いな。僕のTwitterやブログにもガシガシメッセージやコメントが届くし、このゼロ距離感って僕の時代にはまだなかったなぁ。',\n",
       "  'う～ん。やっぱ顔が見えないと、講義ってむずかしいな。うん。',\n",
       "  '本田さん的にいうと「コントリビューション」。',\n",
       "  '結論、｢こいつ好きだわ～｣ってのが大事だと思うのだ。',\n",
       "  '｢○○は非効率的だよね｣ってフレーズは､時として格好の逃げ文句になってしまう。',\n",
       "  'オプトインとかってワードがつぶやきレベルで出ちゃうと、生活者からだいぶ離れちゃってると思う。｢生活者｣もだけど。',\n",
       "  'そういえば先ほどフォロワーが900人を突破★',\n",
       "  '最近CPAとか口にしないし、あんまり聞かなくなったなぁ。',\n",
       "  'ジャンプを買いにいく。',\n",
       "  'ジャンプと一緒に新宿スワンも購入。もちろん缶コーヒーもね★',\n",
       "  '別に相手が望まない会食ってやらないほうがいい。',\n",
       "  'ってたまに整理してみると、けっこうある。',\n",
       "  'やべぇ、白ひげがカッコよすぎるじゃねぇか（ネタばれ注意）',\n",
       "  'ダイナミックレンジというか、多芸多機能ではなく、ある種にこう対立の中でどう幅を利かせて、幅の種類を増やせるか。',\n",
       "  'やることがたくさんあったー・・・あったー・・・あったー・・・あったー・・・あったー・・・あったー・・・',\n",
       "  '＞本多先生。デジハリの資料送っておくので、確認してくんなまし★',\n",
       "  '「世界最強の男が来るぞ！」とか言われてみたい。いや「世界最高の男」と言われたい。',\n",
       "  '「朝型」がいいのはわかってるんだけど、結構「事実夜型」なオレ。「オレは夜型なんだー」と割り切りたいんだけど、「とはいえ・・・」ってハザマで悶えることってよくあるよね？',\n",
       "  '「今の仕事は、自分をどのように輝かせてくれていますか？」と、就職活動生は社員に質問してみたらいいと思う。「働かされているヒト」にこの問は答えられないから。',\n",
       "  '「奪う」という仕事の仕方は「殺伐」とするからよくないと思う。',\n",
       "  \"あ、Fit'sの応募が終わってやがる・・・\",\n",
       "  '最近エニグモさんの「プレブロ」からメール届かなくなったよね。',\n",
       "  '電車出勤はいい。大抵の人は下向いて歩いているので、上向いてあるくだけで勝者の気分★',\n",
       "  '交通情報はTwitterやね。',\n",
       "  '【ABCDの法則】当たり前のことを（A）、馬鹿にせず（B）、ちゃんと（C）やる(D）。',\n",
       "  '「僕ここまでやってるんですけど、あなたは何をやる人でしたっけ？」と言ってやりたい気持ちになることがある。',\n",
       "  'あ、今日インターンのオリエンじゃん！教えてよ人事！',\n",
       "  'さっきから広告会議さんのブログとにらめっこ。',\n",
       "  '続・インターンシップ。提案が楽しみ。使えるリソースは全部つかいましょー。',\n",
       "  'ディレクションという言葉の意味について考える。',\n",
       "  '「できる人」ってどういう人なんだろう、と改めて自問自答他問他問。自分は比較的適当な立ち居地にいるので。',\n",
       "  'セミナーが今月は五本。いやぁ～いやいやいやいや。セミナーはやる方がいい経験になる。',\n",
       "  '地獄の経費清算の巻。',\n",
       "  'さてこれからデジハリ。いい講義をしよ。',\n",
       "  '講義終了。いやぁ～､ 勉強になりました。',\n",
       "  'なんかフォロワー急増中。',\n",
       "  'バズマン、携帯の電源をONにしなさい！',\n",
       "  '今日、これ以上MTGを入れないでください。',\n",
       "  'T5改造計画、始動。',\n",
       "  'バズマンの成長速度、ハンパなくなってます。たぶん現在新卒1位。',\n",
       "  '「アカウントプランナーにもっとも必要とされるのは、広告主（クライアント）とその実施施策に対する『責任』である」',\n",
       "  'ということで、今から１０９へ撮影に。',\n",
       "  'アジェンダですら、テンション上げて作りたい。アジェンダって最初に提出するものだから、テンション高くねーとさ。ね？',\n",
       "  '最近学生からのfollowが急増。ちょっと大人になった気分（笑\\u3000これに比例して、ブログのアクセスも大学からのアクセス比率が高まった。',\n",
       "  '魅力的な人、できる人には、たくさんの「エピソード」がある。ものすごい「伝説」や「失敗談」「笑い話」が雪崩のように出てくる。「エピソードのある」人間になろう★',\n",
       "  '提案書の日本語がおかしい人がほんとに多い。まぁ、俺もだけど。',\n",
       "  'とりあえず、バズマンはがんばれるところまでがんばったので、後のフォローはオイラがいったん巻き取ります。今日は眠れんでぇ～★',\n",
       "  '「前でしゃべるのに長けている」ことと、「実務経験、実績」は必ずしも一致しない。が、「前でしゃべるのに長けている」はとても大切な能力だとも思う。',\n",
       "  '今日一日でYouTubeにいろいろ詳しくなった。というのは、多分いろんな意味で。',\n",
       "  '「横ストレッチ」を意識して実践している営業がまだまだぜんぜん少ない。個人的に、パワープレイで行こうと思う。マルチな人間になれってことじゃなく、レンジが広い人間になれってことだから、ね。',\n",
       "  '僕はリスティンガーでは現在ないが（過去リスティンガー）、リスティングを馬鹿にする人間やつまらない仕事と決め付ける人は嫌いだ。',\n",
       "  'あーなるほどね。そゆこと。',\n",
       "  'もう一回、就職活動ってやってみたい（他意はなし）。',\n",
       "  'てか、もう木曜日か。はえーなー。',\n",
       "  'もう明日は金曜日・・・って感覚がやばい。',\n",
       "  '今日はやたらとグループウェアからのアクセスが多い。何が共有されているんだろう。',\n",
       "  '一緒に同じ方向を走れない人間がいると、やっぱり滞る。なぜにネガからはいってしまうかなぁ～。リスク回避の気持ちはわからなくもないが、何もそのマインドではいいものは生み出せない。',\n",
       "  'なんつーかさー、そうじゃないじゃない。',\n",
       "  'ディレクション業務はとても大変な側面がありますが、実現までもっていくこのステップを好きになれないとね～',\n",
       "  '今のところ就職活動生に一番聞かれる質問は「なぜ今の会社を選んだんですか？」というやつ。',\n",
       "  'なぜかページの構成案を作成中。意外とこういう情報設計は得意よ、おれ。',\n",
       "  'だめだ。体調が悪い。ぐふ',\n",
       "  'なんかtaxi\\ue15aがちょー混んでるんだけど。',\n",
       "  '完全なるオバマ渋滞。',\n",
       "  '「インターネットは無法地帯」 by H',\n",
       "  '内定者たちとの飲み会終了。こんくらいフランクに飲みたいよね～★',\n",
       "  '隼氏がつぶやきだしてる。元気なら早く復帰すべし！早く～',\n",
       "  '遅くなったけど、おめでとうございます★ #ygwed',\n",
       "  '今からインターン最終プレゼン｡ 皆さん、がんばりー★',\n",
       "  'インターンいったん終了。提案レベルが高いところもあって、個人的に満足値高し。',\n",
       "  '次はアレダネ、社員vsインターン生とかも面白い。、多分、超本気でやると思う。',\n",
       "  '「有益なつぶやき」ってコトバが面白いよね。',\n",
       "  '一番乗りしてしまった',\n",
       "  'とりあえず、お疲れでした♪',\n",
       "  'うーん、体調がすこぶる悪い。',\n",
       "  'トピックスがただの共有メールになってきてるな。',\n",
       "  '今週はセミナーが3本。ちょっときつめ。',\n",
       "  'インターンの子たちから続々メールが来てる、律儀やね。',\n",
       "  '寒鰤（カンブリ）ア宮殿。',\n",
       "  'ドン・シュルツの講演。これはいくしかない。',\n",
       "  'スポットライト理論。by イケダノリユキ',\n",
       "  'ヘルシーな怒り。by 須田さん(笑)',\n",
       "  'アメーバなう、は成功すると思うけどね(立場わきまえず、客観的に、私情を介さずに冷静に、成功の定義を曖昧にしたまま語ると)',\n",
       "  '処世術。使われている方が、・・・。',\n",
       "  'お前らグチグチ言わずにかかって来いや～・・・って思う機会って、インターネットの登場で増えたよね。',\n",
       "  '簡単に言うと、肉食べたので、おなか痛い・・・',\n",
       "  'DM気づかないから、DMしたら電話してほしいｗ',\n",
       "  '「Twitterやってる人は、一般人からいかに気持ち悪いと思われているかを理解したほうがいいと思う、2chと同じ」といっている某メディアプロデューサー。僕は59％くらいアグリー。',\n",
       "  'ちなみにインフラ視点ではなく、現時点での話。',\n",
       "  'ウェブの世界は（リアルの世界とあくまで二項対立的に便宜上使うけど）リアルの影響力が持ち越される可能性が高くなってきている（数年前と比べて）。リアルでえらい人はウェブでも偉い。まぁ、そこが真価じゃないと思うけど。※ウェブでえらくて、リアルでえらくない人もいます。',\n",
       "  '僕はポケベル真拳でしたね。',\n",
       "  '決意は大事だと思う。',\n",
       "  '大学時代にエロ文化について書いた論文。やっぱり今よりあたまいい',\n",
       "  '最近、頭良さげに振る舞う学生から強気に質問されて、イライラってすることがあるが、オレはもっとひどかったんだろうな、とマヂメに反省する今日この頃。',\n",
       "  'カワムラ氏からのリプライを待っているが、意気消沈したようなので寝よう。',\n",
       "  '酔ってるのに寝れない。最悪。',\n",
       "  'おーい、みつるー。怒るよ～',\n",
       "  'アイデア脳は筋肉と一緒。鍛えなければ強くならない。',\n",
       "  'そういえば、勉強量と性欲は比例するよね。従属関係は双方向なんだろうか、一方通行なんだろうか・・・',\n",
       "  'ネガティブな質問はネガティブな回答になりやすいので、多用するべからず。',\n",
       "  'HIATUSがヤバイ件。',\n",
       "  '今日はインターン生の前でいろいろ喋ったけど、どれくらいの人が実行に移してくれるかなぁ。そこが境目。',\n",
       "  '明日のシミュレーション精度をあげると萎える。',\n",
       "  '今日はもう、がんばろう。',\n",
       "  'むちゃくちゃ寒い。めがさめる',\n",
       "  'ちなみに明日も大阪です。インターン大阪組と会食。',\n",
       "  '会食だけじゃないが楽しみである。不安は本当に行けるのか、という点。',\n",
       "  'ヌーボーはあんまり好きくない。',\n",
       "  '次から次へと～・・・',\n",
       "  '今から明日の大阪用セミナーの資料つくるぜ！',\n",
       "  'なぜペットボトルのお茶には濁りがないのか。',\n",
       "  'セミナー資料にストックができてきた。いいことだ。',\n",
       "  'あ、いいネタ思いついったー★',\n",
       "  'やべぇ、乗ってきちまった・・・',\n",
       "  '表参道なう。この後ノープロブレムで打ち合わせ。',\n",
       "  'まさかして、今日はジャンプ売ってるかんじ？',\n",
       "  '今日はトイレが近い。老人か！',\n",
       "  '大阪インターン生オモシロイ。調子に乗ってベラベラしゃべっちまった。',\n",
       "  '新幹線なう。東京帰ります!!',\n",
       "  'インターン最終ラウンド、東京インターンVS大阪インターンはホントにやったらオモシロイと思う。ここはあえてVSで(笑)',\n",
       "  '新幹線は仕事がはかどる。',\n",
       "  '白ひげーーーーーーーーー！！！',\n",
       "  '昨日の社内セミナーは反省点が多い。コトバ化、がんばろ。',\n",
       "  '「一本の映画を撮るように、人生をプロデュースしなさい」イネス・リグロン',\n",
       "  'まずは行列に並ぶこと。そして並び続けること。そうすれば誰でも先頭に立つことができる。',\n",
       "  'そう言えば、出世してある先輩から｢ついに俺に追い付いたな｣と言われ、｢とっくに追い越してるわ｣って暴言吐いてる夢を見た。',\n",
       "  'プレゼンに、銀メダルや銅メダルはない。',\n",
       "  '最近「魂の力」がキーワード。',\n",
       "  '大阪土産で買った551の豚マンが爆発しよった・・・',\n",
       "  '「プレゼンは読まずに話す。＜読む＞は解説に過ぎず、＜話す＞説得行為である」',\n",
       "  '石戸の結婚式向かうなう。',\n",
       "  '型から出ることを目指して、型にはまるべし。',\n",
       "  '東京アメリカンズクラブなう。',\n",
       "  '六本木の交差点で財布を落とした。が､ 無傷で交番に届いていました。神に感謝です。',\n",
       "  '話すことは歩くことに、書くことは走ることと似ている。歩くこと同様、長く話すことには、特別なトレーニングは比較的必要ないが､ 走ることと同様に長く書くには訓練が必要だ｡',\n",
       "  'いやあ、今日はなんか疲れましたな～。',\n",
       "  'RT もしインフルエンザが女だったら、俺をほっとかないだろうな\\u3000[押尾学]',\n",
       "  '飯がうまかった。仕事へのモチベーションが上がった。',\n",
       "  'やっぱりプレゼン資料は表紙から作る。テンション高く、芯を通すために。',\n",
       "  'セミナーやると、「自信家」という印象を持たれる。',\n",
       "  'ルフィよりも、エースよりも、白ひげになりたい、俺。',\n",
       "  '今日は、パーマをかけよう★',\n",
       "  '最近、大学生向けにセミナーやって、「ブログやってる人ー？」と「Twitterやってる人ー？」に対する回答は、ほぼ半々であることがわかった。ちなみにmixiが一番多い。',\n",
       "  'せっかくなので、ワンピースキャラクター投票開始★\\u3000ハッシュタグは、#one_piece_character',\n",
       "  'ちなみに、しつこく「サンジ」で。2位は「チョッパー」、3位は「ガイモン」ですｗ\\u3000#one_piece_character',\n",
       "  'アレなのでパーマを今からかけにいく。',\n",
       "  '広告にもサステナビリティを。',\n",
       "  '初心に戻ろう、とふと思ったが､ ちゃんとした初心が考えてみたらなかったため、改めて初心。',\n",
       "  'たまにはネガティブな感情の推進力を使う。長く使うと顔に出るが短期的にはよい弾み車になる。',\n",
       "  '一応、今日から夏休み。',\n",
       "  'なぜかアフィリエイトの提案をしている俺・・・',\n",
       "  'いかに自分中に溜め込むか？自分の中にカオスを作るか、それが問題だ。',\n",
       "  'オイラのミーティング嫌いはどうしたものか…',\n",
       "  'アイピローがとっても今ほしいの。',\n",
       "  'そう言えば、現在夏休み中。',\n",
       "  '転職サイトにいくつか登録してみた。ちなみに転職の意思はないです(笑)',\n",
       "  'プレスリリースを2本書いた。最近メキメキここら辺の能力が上がってる・・・そんなにいらんわｗ',\n",
       "  '信頼を得るまでには時間がかかるが、失うのは本当に一瞬である。ね。（俺じゃないよ）',\n",
       "  'いやぁ、俺仕事速いなぁｗｗ',\n",
       "  '今一度言おう、俺仕事早いなぁｗｗｗ',\n",
       "  '結婚式で浮くようなチャラい服が欲しい★',\n",
       "  '今電通に行くんだ～・・・ふーん。',\n",
       "  '小学校から一緒のやつが、いろいろ巡り巡って、数年遅れで広告業界A●●に。今度飲むのが楽しみ。',\n",
       "  '意外と俺よりも無礼者はたくさんいるようだ（＞＜',\n",
       "  '四週連続結婚式。本日はオイラのメンター、鷲田氏。おめでとうございます★',\n",
       "  'つたない司会でしたが、よい結婚式になって良かったです。あらためて、鷲田夫妻、おめでとうございます！ゆっくり休んでくださいな★',\n",
       "  'いや、でもマミが本当にキレイだった。うん。',\n",
       "  'RSSリーダーをすべて既読にする＝業務完了、と思わないことだ。流れに任せて眺めるべし。RSSリーダーはそういう風につかうべきもの。',\n",
       "  '「なぜあなたに仕事が来ているのですか？」を考えるべし。',\n",
       "  '今日の内藤VS亀田の試合って何時からでしたっけ？',\n",
       "  'かづ屋の餃子はうまい。',\n",
       "  '御意。RT 「右か、左か？」と聞かれたら、俺は道なき「前」を選ぶ\\u3000[押尾学]',\n",
       "  'Twitter本に出ている初心者へのススメとして「とにかくお勧めアカウントをフォローする」敵なのがあるが、あれはまったくアグリーできない。',\n",
       "  'リーダーは「No」が言える人間でなければならないし、「なぜNoなのか？」を説明できる力が必要とされる。',\n",
       "  'トイレで仕事するとはかどるよね？特に、出た瞬間はアイデアもポンと出る。。。よね？',\n",
       "  '相方の体調が悪いので、野菜たっぷりの「すいとん」を作ったが食べてくれる気配ナッシング（泣',\n",
       "  '皆さんにあまり知られていないようだが、僕はとても料理が得意です、ハイ。',\n",
       "  'ワンピース・・・第0話・・・ｗ',\n",
       "  '4月に上がる予定の総会の壇上でのスピーチが完成。いろいろと気付きがあったし、もうしゃべれる。',\n",
       "  'ちなみに今日までが夏休みであることに気がついてしまった。間違えて勤怠メール流しちゃったよ・・・',\n",
       "  'やばい、いろいろ間に合わん。。。',\n",
       "  '今からダイレクトレスポンスなミーティング泣',\n",
       "  '中目黒、五元豚なう。レッド、アズマックス、土屋が隣で飲んでるなう。',\n",
       "  'トーゴがウェブリアルに行くらしい。',\n",
       "  'わかります。by バズマン',\n",
       "  'ウェブだと流暢になる人が今日はたくさんいるなぁ～・・・オレもだけどｗ',\n",
       "  '「速さとは最高速だけではない。0→MAXへの加速力とMAX→0への減速力。すなわちアジリティ。」',\n",
       "  '午前中、激烈対応＋提案書作成20枚終了。午後は役員提案。ウシ。',\n",
       "  '最近クルマに酔いやすい。',\n",
       "  'お腹が減ったが、ここは我慢。',\n",
       "  'タカヒロさん、見つからず…',\n",
       "  'Twitterのログイン画面がカワットル！',\n",
       "  '戦略PRという言葉がミーティングで出た(笑)',\n",
       "  'キャバクラに撮影いかなきゃだな、ほんとに。',\n",
       "  '１：あなたが人生の中で最も冷や汗をかいた瞬間。血の気が引く思いをした瞬間。これを思い出す。２：そこからキーワードを単語で書き出す。３：その単語をＰＰＣ広告、キャッチコピーに使う。レターに埋め込む。従業員やメンバー全員で行い、インパクトある言葉を沢山だし、使ってください。',\n",
       "  '頑張ってる学生はオモシロイナ～★ 俺ももうちょいやれば良かったな～★',\n",
       "  'バズマンが行方不明である。',\n",
       "  '【俺が響いた就職活動心得①】「すごいヒトの含有率が高く、それらのヒトとの距離が近い会社を選ぶべし」',\n",
       "  'いったんおとなしくしよー。',\n",
       "  '月曜日はTVの収録。',\n",
       "  '改めて、ブログパワーを再構築したいと思う。そろそろアレかな・・・',\n",
       "  'タカヒロさんから頂い八つ橋が美味しい件。',\n",
       "  'バダ・ハリ vs アリスター開始！',\n",
       "  '来週は近藤しづかさんと会える。楽しみだ☆',\n",
       "  'バダ・ハリのテンションが良いカンジだ。',\n",
       "  'チャーハンを作れ、という指令が出たので、材料を買いにいく。',\n",
       "  'w-indsは韓国のアイドルみたいになってるな。',\n",
       "  '久しぶりにメガネを復活させよう。',\n",
       "  '痩せる→エンゲル係数減る→金貯まる→タワーマンションに引っ越す→モテる=仕事ができる→ハッピー。',\n",
       "  '家計簿を整理してみた。絶句する。',\n",
       "  '大阪インターン生のガシガシ質問力には恐れ入る。',\n",
       "  '現在、1人洪水状態。',\n",
       "  '学生よりも自分について考えないと。怠りがちだ。',\n",
       "  'プロモーションに定型はないんです、ってセリフはたまに格好の逃げ口上になっちまってる。',\n",
       "  '幸せな撮影だったわ～★ こんなんお金出しちゃうわ～★',\n",
       "  '一旦休憩。次は青山で打ち合わせ。東京に感謝。',\n",
       "  '次西麻布にはいつたしなみに行こう…仲間いないから、一人だな。',\n",
       "  '明日は「Amebaなう」リリース日。',\n",
       "  'twitterとAmebaなうの使い分け、どうしよー。とか考えてる時点でつぶやきではないな。',\n",
       "  'シンケンに病院に検査にいこう。',\n",
       "  'チームが逆境に立たされているとき、たったひとりの覚悟を決めた人間の一撃で状況を大逆転できる。そんな格好のケースだね、あのトピックスは。',\n",
       "  'こんばんは。アドマンの時間です。',\n",
       "  'これは禁断のツールだわぁ～・・・',\n",
       "  '久しぶりにAdwordsの管理画面をいじいじ。やはりこういうの面白かったりするｗ',\n",
       "  'あれだな。「つぶやき」ってテーマ性持たせるのがすげぇ難しいから、ブログみたいにひとりが複数のブログサービスを使い分けるとかってないな。',\n",
       "  'わかってたけどわかったのが、TwitterユーザーはAmebaなうに移行しない。それはそうだし、それでいい。',\n",
       "  '「テクノロジーはアイデアに従属する」',\n",
       "  '金ぴかの装束を身にまとった黒子になろう。',\n",
       "  '単調な作業にもクリエイティブを。',\n",
       "  '「結局、自分に不自由を課せる人が、自由を得ているのです」',\n",
       "  '「性弱説：人は生まれながらにして善良だが、弱い生き物である」',\n",
       "  '「仕事とは、喜ばれることです」',\n",
       "  '「良い組織風土を作る上で大切なのは、【上からのホウ・レン・ソウ】である。自分からのそれなしに、部下からのそれを期待してはいけない。」',\n",
       "  'となりの奴が「関西人って意外とつまんないよな」と爆弾発言をしていて、それをヒヤヒヤしながら聞いていたのは、オイラだけではないはずだ。',\n",
       "  '梨花がオイラの理想の女性だったが、崩れつつある勢いである。',\n",
       "  'なんか久しぶりにTwitterに帰ってきた感じ。とはいえ、Amebaなうでつぶやき浮気してたわけではないのだ。（つまり忙しかったということ）',\n",
       "  'とりあえず、今日から数えて100日間で18キロのダイエットを決行しようと思います。成功して、本を書きたいと思います。',\n",
       "  '日経アソシエを読んでいて「リバウンド」概念は確かにダイエットだけでなく、仕事にも活用できるな、と。',\n",
       "  'オイラの今月の目標が「穏やかになる」ことであることは、まだ誰にも気づかれていないｗ',\n",
       "  '「こころは、もっと動く。」と思って、企画を詰めよう。',\n",
       "  '高校時代の後輩が「押尾ってカッコいいっすよね！」って昔言っていたのを思い出して、これまたヒヤヒヤした。',\n",
       "  '「成長し続ける人の特徴のひとつは、【第一歩】が早いということ」',\n",
       "  '選択と集中、ってやつの大切さと難しさをわかって初めてスタートライン。そう言えば、学生時代は全くわからんかったな～★',\n",
       "  '最近｢まるくなったよね｣と言われるが、物理的なのか精神的なものなのかはっきりしない。',\n",
       "  '山手通り、ネズミ取り中。お気をつけ下さいませ。',\n",
       "  '「もし今の仕事がつまらなければ、それは仕事がつまらないのではない。あなたがつまらないのだ」',\n",
       "  '恵比寿のバカラがもう点いとる。',\n",
       "  '最近記録マニアのため、万歩計を買おうと思っている。',\n",
       "  '最近、エルレよりハイエイタスの方が好きだ。',\n",
       "  'アドワーズの管理画面をいじいじ。',\n",
       "  '受注すること「だけに」フォーカスする営業とは仕事したくない（特定の個人を指すものではありません）。',\n",
       "  'リスティングの管理画面をいじれるキャンペーンプランナーはそうはいまい・・・ｗ',\n",
       "  '眼精疲労でよく頭痛を起こすのだが、「キューピーコーワi」を飲んだら一発で治った。これ、マヂで。',\n",
       "  'ちなみに僕はコーワさんの回しもんでも、PPT（PayPerTweet）でも何でもありません。',\n",
       "  '次はもう少し高い「キューピーコーワi」を買おう。',\n",
       "  '薬を飲む時はプラシーボMAX状態に自分を暗示する。',\n",
       "  'エルレはLIVE映像を聴き流すのがいい。',\n",
       "  '腹筋５０回、腕立て５０回、ウォーキング約一時間完了。雨降ってきた。',\n",
       "  '今朝は、腹筋50回、腕立て50回、シャドー10分、ツイスト100回、柔軟5分、歩いて出社。テカテカです。目指せ18キロ減量。',\n",
       "  'マルチビタミン、マルチミネラル、ブルーベリーのサプリを購入。アサヒさんのボトルのやつ。',\n",
       "  '担々春雨＋納豆＋サプリメントで昼食をやり過ごす。お腹いっぱい、お腹いっぱい、お腹いっぱい、お腹いっぱい、お腹いっぱい、お腹いっぱい・・・速攻歯を磨いて食欲減退。',\n",
       "  'さらにキューピーコーワi投入。ｷﾀｰ',\n",
       "  '今からthe HIATUSタイム。邪魔するやつは・・・',\n",
       "  '本日も腹筋５０回、腕立て５０回、ツイスト１００回、シャドー２００回、柔軟８分完了。ダイエット開始１日目で1.1キロ減量に成功。これを１８回繰り返せば良い。なう。',\n",
       "  '今日は昼飯：春雨＋ゼリー＋ヨーグルト。とはいえ、この後会食なので、ちゃらかな。1日の食日記もつけることにしました。',\n",
       "  'なんで働いているのか、がわからんときっと辛い。それこそなんで働いてるんだろう、と。',\n",
       "  '今とっても面白い作業をやっている。',\n",
       "  '人事よりも人事について勉強しよう。',\n",
       "  '「何でも、修正するという柔軟性を前提として、まずは頭の中から出すことだ。一度頭から出せば、それは視認できる創造物となり、多角的に検証を行うことができるようになり、それにより磨きをかけるようになることだ。だからまず、頭から出すことだ。」',\n",
       "  'そういえば今日、とある学生がうちの会社に入社する夢を見た。正夢となるのかどうか・・・',\n",
       "  '僕は海外に興味はあるけど、海外進出に興味があんまりない。',\n",
       "  '「ReTweetしたのに無視されたんですけど」ってコミュニケーションはヤメテ欲しい。',\n",
       "  '「仕事を聞かれて、会社名で答えるようなやつには負けない。」',\n",
       "  '「つまんない広告をする会社は、ほぼ、つまんない。」',\n",
       "  '「First time for everything（初めて、を恐れず、楽しく、進んでやりなさい）」',\n",
       "  '「Trust is not somethingnyou have. Something you earn.（信用は、初めからあるものではない。あなたが積み重ねていくものである。」」',\n",
       "  '「印象的な服をいることは、より良い人生につながる。」',\n",
       "  '「僕の前に道はない。僕の後に道はできる。」',\n",
       "  '「あなたのヌードは、ちゃんとエッチですか？」',\n",
       "  '「イジワルとズルは、やめよう。」',\n",
       "  '「九頭神竜男が最強の男なら\\u3000坊屋春道は最高の男よ！たがが最強程度で最高に勝てるわけが\\u3000ねーだろうがあ！ 」',\n",
       "  'フォロワーが1300名を超えました★',\n",
       "  '「貧乏でも金持ちの列の一番最後に並びなさい。」',\n",
       "  '最近、5回歯磨＠1日、を日課にしている。良い。',\n",
       "  '挨拶ができんやつがおるな～',\n",
       "  '記録の習慣がレベルアップしてきた。',\n",
       "  '最近大学生からのOB訪問依頼が１通/１日ペースで来る。が、時間が取れず、申し訳ない＆全員に対応するワケにも行かないのでどうするか迷い中（迷ってないけどｗ）',\n",
       "  '「感情がすべての行動の理由である」',\n",
       "  '「質問して答える。それが考えるということ。」',\n",
       "  '「人は１日３万回以上の思考をしている」',\n",
       "  'ダイエット開始5日目でマイナス2.5キロの減量に成功。',\n",
       "  '本多さんから素敵なインビテーションが来ていたが、見過ごしとった・・・１６日・・・',\n",
       "  '久しぶりに、Yahoo!のトップを見た。',\n",
       "  'MTGがリスケになっとる。言ってよ。',\n",
       "  '自身のアウトプットの低さ、を認識せず文句を言うクリエイターほど、イラっとくるもんはない（個人攻撃ではありません）。',\n",
       "  'やっぱ恵比寿ガーデンテラスに住みたひ。',\n",
       "  '今の人、すげぇおもろい顔してた。',\n",
       "  'ビール｢東京エール｣がうまい♪',\n",
       "  'とりあえず、ダイエット1週目の成果はマイナス2.5キロで着地しそう。来週はレバレッジ賭けて3.5キロ減まで行きたい。行ける気がする～',\n",
       "  'なるほどねー。そういうふうに返してくるか～・・・主体性とか皆無だな～・・・別にいいけど。',\n",
       "  '今日は8時に起きて、2時間走って筋トレ、その後歩いて渋谷。',\n",
       "  '最近のPVは、掘り出し物的なカワイイ娘が出てるよね。見ちゃうよね。',\n",
       "  'まぁ、でも俺は近藤しづか派だけどねｗ',\n",
       "  '昨日飲みに行ったところのお姉さんが、Shu-Thang Grafixと仲がいいらしく、個人的に仲良くしたいと思った感じです。',\n",
       "  'てか指から血がめっさ出てんだけど。なぜ？',\n",
       "  '最近、女の子みたく洗顔してたりする。ちゃんと保湿。年だから。',\n",
       "  '童子－Ｔを端的に説明するには「あの\"イェー・・・\"って言う人」って言えばいいらしい★',\n",
       "  '時間とお金を記録し続けると、本気で「時は金なり」以上に思えてくる。記録は大切。もちろん体重も記録してます。',\n",
       "  'このPVの童子-Tのモジャ頭は笑いを取りに行ってるんだよね？',\n",
       "  '体重ってのは、ほんとにレコーディング（記録）すると減るね。まだ目に見えた成果歯出ていないけど、数値上は結構いい進捗。',\n",
       "  'the HIATUS「Insomnia」のPVがYouTubeから消されている。なんとなく、細見さんらしくない、とか思ったりする（本人関係ないけど。）',\n",
       "  '「肉体的な自信は、精神的な自信につながる」',\n",
       "  '会食先の表参道まであるく。徹底的にダイエット。',\n",
       "  '自分についての感覚を磨く。それすらできていなければ、自分以外に対する感覚が磨かれるわけもなく。インサイドアウト。',\n",
       "  '毎年入ってくる新卒よりも常に高い成長率を自分には課そう。',\n",
       "  '表参道なう。キレイや！住みたい!!',\n",
       "  'ADKの野口くんと飲む。彼は実は小学生の時からの付き合い。埼玉県は入間市の治安の悪さを耐えて今がある。',\n",
       "  '「創造性や革新は、実践的で、システマティックな方法で、アプローチすることができ、開発することができ、学ぶことができるということです。つまり、それは、天才の産物ではないということです。」',\n",
       "  '「世界にある、ほとんどの革新は、実際には、今あるものや、古いものをもう１度アレンジして、違った新しいものにしたものなのです。」',\n",
       "  '「人々がテレビの電源をいれるのは、番組を楽しむためであって、コマーシャルを見るためではない。」「それならば広告は、番組にとってつけられるのではなくて、番組と誘導していかなくてはいけない。ただし重要なのは、インフォマーシャルのように視聴者を退屈させないことだ。」',\n",
       "  '宣伝会議の「広告界\\u3000就職ラボ」の内容がひどいと思うのはぼくだけ？',\n",
       "  'うちの事業部の新卒の成長率はトップレベルだと思う。現状の能力でいっても、新卒レベルではないと感じる。内定者も、下手なプランナーよりも強いレベル。いい感じだ。まだまだやってもらいたいことはあるんだけどね。',\n",
       "  'ちなみに「育成」って言葉は未だに嫌いです。育ってください、自主的に。',\n",
       "  'Twitter上には、イヂワルな（笑）諸先輩方がいて、とても幸せです★（愛を込めて）\\u3000社内よりは確実に後輩力が必要ｗｗ',\n",
       "  '今日から睡眠時間もレコーティングしようと思っている。',\n",
       "  '4月から英会話学校に思っている。いろんな理由で、英会話「学校」で「4月」から。「アドマンの英語上達への道」スポンサー募集中ｗ',\n",
       "  '恵比寿ガーデンプレイスのイルミネーションはこの時間まで点いている。それは僕のために点いているんだ、と思い込むようにしてる。',\n",
       "  '明日は①２時間ランニング、②映画「ワンピース」を観る、この２つは必ず達成する。',\n",
       "  '「冒険人生は冒険から得るものもあれば、時に失うこともある。それでも、挑戦を続けなければならない時がある。冒険人生とはそういうものなのかもしれない。」',\n",
       "  'ダイエット中のアドマンに、スポンサー募集中ｗ\\u3000（ダイエット食品、サプリメント、スポーツ用品などなど）',\n",
       "  'さて、リスティングのレポートを作ろうかな・・・',\n",
       "  '他人のToDo管理、疲れるが必要だ。',\n",
       "  '努力の無いダイエットは嫌いだ。',\n",
       "  '恵比寿駅まで徒歩25分。歩いて出社。',\n",
       "  '24日を｢今日はクリスマスじゃなくね？｣とシラケる奴よりも一緒になって盛り上がってる奴の方が好き｡',\n",
       "  'メリクリ★ #merrychristmas2009',\n",
       "  '食べる量とカロリーを大幅に減らしたら、完全に糞詰り。。。ファイブミニを飲もう。',\n",
       "  '久々に電通にいく用事ができた。',\n",
       "  '人に何かしてもらったとき『すいません』じゃなく『ありがとう』って言える人間になりたいよね。',\n",
       "  '目標を設定する時は、第三者の声＝誰になんと言わせる成果を残すか、そのセリフを決める。',\n",
       "  'ニーズ（他者）とシーズ（自分の強み）のマッチング：「自分に出来ることの中で、人の役に立つことはなんだろう？」という質問。',\n",
       "  '再現性のあるスキルは「人の役に立つ」のである。',\n",
       "  '明日は10時にワイデンに行きます。',\n",
       "  'ストレスフリーとは「多くの人に感謝され、常にさわやかな気持ちでいられる」ということ。',\n",
       "  'やっぱり年末って忙しいねぇ～。ほんとに。',\n",
       "  '最近「アドマン」検索ワードからの流入が超増えてる。なんでだろ。1年前の10倍くらい。',\n",
       "  'なぜかこの聖夜にググってはいけないキーワードを検索してしまい、気分が悪いなう。',\n",
       "  '自宅クリスマスディナーが満足度高かった。',\n",
       "  '便秘に効く特効薬を誰か教えてください。。。',\n",
       "  '会食とかって、インセンティブになんのかな？',\n",
       "  '誰と行くか、によるか。',\n",
       "  '「芯」がない「マルチキャリア」に意味はない。',\n",
       "  'ネット広告（この言葉嫌いだけど）の場合、フォーマットもテクノロジーも変化というかマイナーチェンジの繰り返しなので、それに対する「習熟度の低さ」という現象は起こりうるし、業界的にジョブローテも早いので、それにまた拍車を掛けるって側面はあるとおもう。',\n",
       "  '甘やかしちゃいけないよ、甘やかしちゃ。',\n",
       "  'やっと会社に帰れる…これぞ師走！',\n",
       "  '最近、ドラッカーをよく読む。ミンツバーグやコトラーも。でもポーターの良さがまだわからん。',\n",
       "  'なんかデカイなあいつ…',\n",
       "  '営業時間中に暇そうに馬鹿笑いするのはちげーだろ。',\n",
       "  '「『人材不足』ってのは、本当に頑張っている組織だけが吐いていいセリフだ」',\n",
       "  '内藤さんの予定が空いてない・・・',\n",
       "  '人の予定見ると、働いてるか働いてないかわかるなぁ。来社ばっかの人は・・・',\n",
       "  '「広告営業力2」を買おうかどうか迷っている件。',\n",
       "  'たまには切ない気持ちになりたいよね。',\n",
       "  'いやぁ、君には負けないよ。',\n",
       "  '意外な娘に「アドマン」と言われ、若干照れるの巻。',\n",
       "  '先月の本への投資額は\\\\\\\\35,640 なり。意外と少ないな。',\n",
       "  '交際費は\\\\\\\\122,000 。これは絶対記入漏れがあるな。',\n",
       "  '食費は異様に安いな。',\n",
       "  '大阪にも事業部作りたいなぁ。',\n",
       "  '某通信会社のお偉い方から年末ご挨拶メールが喜田が、返信に困るナウ。',\n",
       "  '高級鉄板焼なう。リア充なう。',\n",
       "  'バズマンにクリスマスの奇跡が起こったらしい。',\n",
       "  'オマールエビ、テラうます★',\n",
       "  'バズマンの奇跡宣言をフォアグラ食いながら待つ。',\n",
       "  '肉がうまひ。そしてガーリックライスで締め。至福。',\n",
       "  '改めて言おう。至福。',\n",
       "  'なりすまし、ってそろそろ捕まえるべきだよ。',\n",
       "  'どうせバズマンの奇跡は予想通りだ',\n",
       "  '今日は2時間20分走った。しかし体重は減らず。',\n",
       "  '「みかん」の効用について調査中なう。',\n",
       "  '続いてヨーグルトの効用について調べるなう。',\n",
       "  '何か新しい習慣や行動を行うときは「その効用」を頭に思い浮かべながらそれをすることによって、その効果効用が数倍になる（気がする）。',\n",
       "  '備前がのろけてる件。',\n",
       "  '備前の相方ゆき氏もヒドイ（笑）',\n",
       "  '待ち合わせ場所が神社のどこかわからない…',\n",
       "  '神社の光がスポットライトのようで心地よい。',\n",
       "  '18キロ痩せたらヨシから10万いただける。',\n",
       "  'TOPICSを書こうと思ったが、妙案浮かばず。',\n",
       "  '「努力する人は希望を語り、怠ける人は不満を語る」',\n",
       "  '「ボクシングにラッキーパンチはない！！ 結果的に偶然当たったパンチにせよ、それは練習で何百何千と振った拳だ。 その拳は生きているのだ」',\n",
       "  '弊事業部、採用活動したいなう。',\n",
       "  'いやー、ま､ いいわ。',\n",
       "  'アトラスタワー中目黒に同期が行くくさいので、青山パークタワーに変更。',\n",
       "  '今日は目黒通り沿いのsacraに行く。',\n",
       "  '睡蓮花、1人で歌うとキツイ…',\n",
       "  '今年最後の外食なう。',\n",
       "  '毎日二時間走ってると、東京はどこにすんでも変わらん気がしてきた。',\n",
       "  'ザ･シティ･タワー高輪、高輪･ザ･レジデンスがテンション上がる。',\n",
       "  '代官山いいな～★ 済もうかな～★',\n",
       "  '各店舗、プレモルがバカ売れ状態。',\n",
       "  '山の下の中目黒より、山の上の代官山。',\n",
       "  'みんなが反対するような、真っ赤なマンションに注目中。いやでも、スペック高いし、住んだら住んだで「お前らしいわ・・・」と言ってもらえそうな・・・',\n",
       "  'そういえば、今日は「トロの漬け茶漬け」と「いくらの醤油漬け」を作りました。俺は天才かもしれん・・・2010年は、もっと料理の腕を鍛えよう。',\n",
       "  '明けましておめでとうございます。本年もアドマンをよろしくお願いいたします。',\n",
       "  'さっそく目黒不動で初詣を済ませて参りました。アメ横で買ったイクラを醤油漬けに､数の子を松前漬けにしてみました★',\n",
       "  '今月は２０万くらい貯金しよ。',\n",
       "  '体重はあんま減らないんだけど、体脂肪率がガシガシ下がってる。２時間ぶっ通しで走れるように鳴っている２０１０年年明け。',\n",
       "  'いやぁ、それだと目標設定あまくね？',\n",
       "  '個人的には目標200%達成以上は、一部の例外を除き、目標設定者のミスであると思います。',\n",
       "  '銀座まるかん「スリムドカン」を購入してみたｗ',\n",
       "  '家計簿をつけるのが、こんなに楽しいとは・・・「家計も把握せずに、経営数字を把握することはできない」というのは、なんとなく理解できるところまできた。',\n",
       "  'プロになればなるほど、「細かさ」への感覚が研ぎ澄まされてくる。ドラマーがスネアの張り具合を細かく聞き分けたり、画家がその色合いを細かく調整したり。そういう境地を目指したい。',\n",
       "  'ブログ「アドマン2.0」はそろそろ閉鎖な予感。',\n",
       "  '今年の目標②：体重60キロ、体脂肪率10%以下まで減量する。',\n",
       "  '3万円分の領収書をなくした・・・何とかしてくれ・・・',\n",
       "  '本日は3時間半走った。五反田→大崎タワーマンション群→高輪→麻布（十番）→溜池山王→東京タワー→神谷町→六本木一丁目（泉ガーデンで一休み）→六本木ミッドタウン3周→広尾→恵比寿→目黒→帰宅コース。',\n",
       "  '明日会議のアイデアが2個できた。今回は・・・',\n",
       "  'ちなみに僕のウォーキングのコツは、Perfumeの「Dream Fighter」を最初15分間くらいリピートして聞き、この曲のスネアの音に歩調を合わせること。スネアが入る時に「左足」が着地するように歩くと（右でも良いけど）、ちょいキツイくらいのペースで歩くリズムが出来上がります。',\n",
       "  '15分くらい同じペースで歩くと、フォームとリズムがほぼ固定され、その後すぐにいわゆる「ウォーキングハイ」な状態に突入し、2時間は歩けるようになります（これまぢで）。',\n",
       "  '「一流企業は名もない会社であった頃から、一流企業のような経営をしていたからこそ、一流企業になれたのである」大学時代に一番刺さった言葉（from E-Myth Revisited）',\n",
       "  '明日会議じゃなくて、ジギョつくだった。',\n",
       "  '今年の目標①：本を1000冊捨てる。',\n",
       "  '今年の目標③：（月並みだけど）フルマラソンを感想する。',\n",
       "  '今年の目標④：貯金200万円。',\n",
       "  '4日まで出社しないでいられる方が信じられない、という思い。',\n",
       "  '2010年はいろいろ実現して行こうと思う。',\n",
       "  '目標設定は、行動チェックシートまで落として完了、です。',\n",
       "  'ご飯をタッパーに入れて、冷凍しました。',\n",
       "  '完全な年間スケジュールリフィル、月間スケジュールリフィル、週間スケジュールリフィル、デイリースケジュールリフィルを作成した。うまく使って、うまく行ったら公開しよ。',\n",
       "  '人生で大切な質問①「今、どんな感情を持っているだろう？」：自分の感情を理解するということは、人生の中でとても大切な側面である。なぜなら感情によって行動が方向づけられているからだ。',\n",
       "  'ちなみに昨日は、35692歩歩きました。万歩計は素晴らしい見える化ツールですね。',\n",
       "  '世界一周にはあるんだろう？',\n",
       "  '埼玉県から帰ります。',\n",
       "  '「肌がきれいになったね」と3人から言われた、新年初出社日。そりゃ気ぃ使ってますからｗ',\n",
       "  '「人の欠点が気になったら、自分の器が小さいと思うべきです」',\n",
       "  'そういえば、１４００フォロワー達成★',\n",
       "  'ちょっとみんなスパムメールに引っかかりすぎｗｗ',\n",
       "  '年明け早々、バズマンのテンションが低すぎてびっくりする。',\n",
       "  '「新規性があるシステムについてデザインの初期段階でユーザ評価を行なうと、現存のインタフェースと似ていないという理由で低い評価しか得られないことがある。」',\n",
       "  '「「私はインタフェース研究におけるテストやユーザ評価はくだらないと思っている。傲慢かもしれないが、丁寧に調べなければ違いがわからないようなものはそもそも大した違いが無いのだ。」」',\n",
       "  'そういえば、ブレーンにタカヒロさんが載ってた。',\n",
       "  '1週間を日曜日に初めて、土曜日に終わるようにしたいと思う。',\n",
       "  '今月は、どこかで渋谷→ディズニーランドまで歩くor走りたいと思う（2回目）コース上通る、東急エージェンシーさん、ADKの皆さん、応援よろしくお願いしますｗ',\n",
       "  '名言・迷言が口から出まくる人間になりたい。',\n",
       "  '前にも言った気がするが、宣伝会議に知っている方が登場していることが多く、面白い。',\n",
       "  'KeyHoleTVって、苫米地英人の会社がやってんだ！知らんかった。',\n",
       "  '2日ブリに飯をくった。春雨。お腹ｲﾊﾟｲ。',\n",
       "  '新しいものを作り出すというのは一瞬の完璧さではなく、「間違いをし、修正し、学ぶ」ことの繰り返しである。（マリッサ・メイヤー）',\n",
       "  'WordPressとMovableType、どっちがいいかなぁ。それとも他の？',\n",
       "  '今週土曜に、渋谷→ディズニー間をウォークマン&ランします！',\n",
       "  '営業マンは万歩計つけるべきだと思う。一日の歩数が1万歩以下の営業は、たぶん仕事ができない。',\n",
       "  '（誤）共有主題→（正）共有手段',\n",
       "  'ちなみにうちの会社が推奨する営業像ではなく、イチ個人の意見です。ハイ。',\n",
       "  '記録の習慣は大事だけど、完璧主義になっちゃうとキツイ。管理コスト（主に時間）が馬鹿にならん。',\n",
       "  '3,4冊併読タイプですが、時間的に2冊くらいで止めようと思う。吸収率が悪くなる。',\n",
       "  'てか、今のうち経費精算しなきゃ。先月の悲劇を繰り返さないために・・・',\n",
       "  'とはいえ、社内で僕が「足で稼ぐ営業だった」なんて言ったら「違うだろ」と言われると思います。真逆に見えるタイプだと思うので。',\n",
       "  '１４０字でちゃんと語るのは難しいな。トレーニングだな。',\n",
       "  '「運命は我らを幸福にも不幸にもしない。 ただその種子を我らに提供するだけである。」',\n",
       "  '一旦帰る。歩いて帰る。',\n",
       "  '勉強になりました。あざす★',\n",
       "  'Twitterだと後輩になれる機会が多い(相対的に)｡多謝。',\n",
       "  'そういえば、ダイエット開始約３週間経過。進捗で言うと、体重4.6キロ減、体脂肪率3.4%減。ちょっと計画上芳しくないが、痩せる体にはなってきている。',\n",
       "  'ただ一企業でピンで4年の夏季採用をやっても、正直そこまで待てる学生はいないだろうな（っていうところまで考えてるはずで、そこまで考えて決断しているところがいろいろすごい）。',\n",
       "  '春雨くった。うまし★',\n",
       "  '馬場から恵比寿まで歩いて帰るのだ!!',\n",
       "  '久しぶりの本拠地歌舞伎町ワクワクo(^o^)o',\n",
       "  '着いたよ!!意外と早い。週末の渋谷→ディズニー間ウォークも楽しみや♪',\n",
       "  '昨日集まって頂いた学生の皆様、ありがとうございました＆ご協力ありがとうございました。僕は何もやってませんが、良い刺激を頂きました。また各Twitterアカウントと本人が一致してないので、よければこのTweetにReplyしてくださいな。また話しましょう★',\n",
       "  'でも共用されてTwitterやるのは、個人的になんか嫌だな。違うとおもう、って自分がSB社員だったらいうと思う。',\n",
       "  '知り合いのSB社員に聞いたら「そうなんだ」と。',\n",
       "  '社員総会の予定がサイボウズで抑えられた。俺は知ってるよ。',\n",
       "  '最近、「結婚しないんですか？」的な質問をされるが、この質問は人を選ばないといけないと思う。俺は良いけど。',\n",
       "  '「報酬は貢献に対して与えられるべきものである。単なる努力は賞賛の的にすぎない。」',\n",
       "  '「サラリーマンとは、会社に仕事をしに行く人であり、ビジネスマンとは、会社に結果を出しに行く人を指す」',\n",
       "  'ワイデンYoshiと僕以外のCA社員十名弱が出会えた今日の奇跡。',\n",
       "  'ヤバイ、大型の仕事が一気にきやがった★',\n",
       "  '昨日の伊勢原発言が意外と反応あってびっくり。',\n",
       "  '優れた者ほど間違いは多い。それだけ新しいことを試みるからである。（ドラッカー）',\n",
       "  'あ、フォロワーが1500人突破★',\n",
       "  'HootSuiteで調べてみると、僕のアカウントからのクリック総数は1日500程度。CPC50円でクリック課金型の広告やったら、すげー儲かるなｗ\\u3000なんてな。',\n",
       "  '人生とは自転車のようなものだ。倒れないようにするには走らなければならない。（アインシュタイン）',\n",
       "  'やってみせて、言って聞かせて、やらせてみて、 ほめてやらねば人は動かじ。話し合い、耳を傾け、承認し、任せてやらねば、人は育たず。やっている、姿を感謝で見守って、信頼せねば、人は実らず。（山本 五十六）',\n",
       "  '政治家が「Twitterやる時間はない！」って発言したら、「国民と対話する時間がないと言うのか！」と、半ロジック破綻なカウンターを飛ばす人がいることを想定しないといけないよね。破綻だけど、マジョリティに届くよ。',\n",
       "  '日本はうまくいく。と思うことから、日本はうまくいく。（宝島社・2010年正月広告）',\n",
       "  '昨日、W+KのYoshiさんと話してたけど、今年のTIAAは昨日のキャノンのやつだと思う。',\n",
       "  'なぜかさっきから「セイモア・ダンカン」というキーワードが頭から離れない・・・',\n",
       "  'まぁ別にどうでもいいっちゃいいんだが、あえて正直に言えば、淳になりたい。',\n",
       "  '今日は津田さんから標的が勝間さんに移ってる。',\n",
       "  '3/31にW+Kに体重を計りに行こう。６０キロだったら勝利★',\n",
       "  'モリジンが歌うまいのは反則。',\n",
       "  '参戦するメリットないけど、それは違うね。',\n",
       "  '完全に二日酔い。ディズニーまで歩くのは明日に変更。。。',\n",
       "  '今から走る。今日は自由が丘方面へ。',\n",
       "  'YTみながらTV観てる。',\n",
       "  'ひさびさの一人ビール★',\n",
       "  '会社いってからいこー。',\n",
       "  'それでは舞浜までスタート！進捗はTwitterで報告します★',\n",
       "  'ipod忘れていったん帰宅。今から行ってきます！',\n",
       "  'また渋谷まで戻るのめんどくさい。',\n",
       "  'マークシティやっと着いた。ここから。念のため無駄にハッシュタグ作っておこ♪ #wfstd',\n",
       "  '隼のつぶやきに警告。',\n",
       "  'トライバルメディアハウス前通過！ #wfstd',\n",
       "  '母校青学通過！ #wfstd',\n",
       "  '国会図書館通過！ お堀のためランナーモード入ります!!  #wfstd',\n",
       "  'ビルコム前通過！ #wfstd',\n",
       "  'ソニー・コンピュータエンターテイメントさん追加♪  #wfstd',\n",
       "  '東急エージェンシーさん､東北新社さん通過！ #wfstd',\n",
       "  'ペースあげる!!(タクシーじゃないよ) #wfstd',\n",
       "  '桜田門通過！ #wfstd',\n",
       "  'かちどき橋なう。 #wfstd',\n",
       "  '銀座の街中をラン。ちょいちょい恥ずかしい…  #wfstd',\n",
       "  '人が多くて走れない… 一応おしゃれジャージ★  #wfstd',\n",
       "  'たぶん半分は過ぎた？ #wfstd',\n",
       "  '豊洲結構きれい。#wfstd',\n",
       "  'ただいま一万七千歩。#wfstd',\n",
       "  '最終コーナーっす！ #wfstd',\n",
       "  '軽く道に迷ってる(笑) #wfstd',\n",
       "  'というか、なにをかくそう、暗い!!#wfstd',\n",
       "  'ナイキさん、スポンサーにつきませんか？ #wfstd',\n",
       "  'あと一時間半でつく予定！只今二万歩!! そして魔の湾岸道路突入!! #wfstd',\n",
       "  '浦安の文字が見えてきた！ が､ さすがに足が痛くなってキター #wfstd',\n",
       "  '湾岸道路横の草むらで若いカップルがむちゅむちゅしてるなう。 #wfstd',\n",
       "  'きっと完走して渋谷に帰れば、鈴木と成田と坂井がビールを用意してくれているはず(笑) #wfstd',\n",
       "  '葛西臨海公園の観覧車が見えてきた！ #wfstd',\n",
       "  '荒川橋、まぢ風強い… #wfstd',\n",
       "  'ゴールが近づくにつれ、足がパンパンに…つりそう… これはアレか？ スターの素質が開花してんのか？ #wfstd',\n",
       "  '葛西臨海公園前通過！ラストスパート!! #wfstd',\n",
       "  'ストレッチしながら歩く。まぢ痛し(*_*) #wfstd',\n",
       "  'そういえば、なんでオレ歩いてんだっけ？ #wfstd',\n",
       "  'あら？ まだ環七？ #wfstd',\n",
       "  '湾岸道路は殺風景過ぎる。タワーマンションのひとつもないとはどうなってんだ!? #wfstd',\n",
       "  'とはいえ、目視で東京ディズニーランドホテルを確認!! あと少し♪ #wfstd',\n",
       "  '一旦、イクスピアリでトイレ(笑) #wfstd',\n",
       "  '渋谷→ディズニー間、約四時間十分で完走&完歩!! 総歩数31589歩★ えー、みなさま、遠慮なく褒め称えてください♪ #wfstd',\n",
       "  'さてこれからどうしよう。 1500円しかないため、パーク内には入れず… #wfstd',\n",
       "  'さて買えるか!! お疲れさまでした！ 2010年、アドマンはこんなアホなことを織り混ぜながら進化したいと思います!!ありがとうございました★ #wfstd',\n",
       "  'あ､ 最後の最後で誤字… 帰ります… #wfstd',\n",
       "  'もう新木場。文明の発達しか感じない…',\n",
       "  '次はどこまで歩こうかな～★ #wfstd 埼玉県の実家とか？ 渋谷から40キロ圏内でいいとこないすかね？',\n",
       "  '足のマメがすごい。\\u3000 #wfstd',\n",
       "  'トイレ（大）でけっこう出したはずなんだけど、体重が変わってないことってあるよね？',\n",
       "  'クリーニングを出しに行きたいのだが、足がくそほど痛いｗ',\n",
       "  '今から、湯船に湯を張ってKNEIPPでゆっくり～♪\\u3000#wfstd',\n",
       "  '「何でも謝って済むことではないけれど 謝れない人間は最低だ」金パチ',\n",
       "  'ちなみに渋谷⇒ディズニー間を歩いて消費するカロリーは１６００程度です。',\n",
       "  'Twitterは日記ではない。',\n",
       "  '足の裏の皮が剥けすぎて、靴がはけない・・・',\n",
       "  '「こんばんわ」というニュースキャスターに対して「こんばんみ」と返してしまった俺。',\n",
       "  'ヒットするファストフードの3要素「たんぱく質」「脂肪」「炭水化物」',\n",
       "  '一晩寝たら、ほぼ筋肉痛が取れて、足のマメも痛くなくなった。若いね、俺。',\n",
       "  'クローズゼロ２を観よう。',\n",
       "  '「スリムドカン」を「コントレックス」で飲む。最強だろコレ★',\n",
       "  '2010年の広告会社、の中ではワイデン＋ケネディがべた褒めされています。',\n",
       "  'クローズ観ると、筋トレしたくなるよね★',\n",
       "  '久しぶりに「」働きマン読んでる。名言がいっぱい。',\n",
       "  '「面接するって、こっちも試されてるんだよね」「今まであいまいにしてた、自分の立ち居地とか考え方とかクリアにしとかないと」',\n",
       "  '目黒駅前でたくさんの新成人女性に出くわす。みんな肌キレイネ～★',\n",
       "  '熱があり、念のため病院にいきましたが、インフルエンザではありませんでした。',\n",
       "  '今日は雨が降っているので断食。',\n",
       "  '明日のMTG合計時間は5時間半。てきぱきやろう。',\n",
       "  '雨降ったので1日断食を決行したが、雨がやんだので歩いて帰った。この胃が空の状態で寝る。',\n",
       "  'なんか目黒区内ですごい火事?',\n",
       "  'うぉっ！1日で1.2キロ減量してる★',\n",
       "  'ツイッターやりながらストレッチすると柔らかくなる。長時間やるのが苦じゃなくなるから。',\n",
       "  'メールで「君」ってけっこう失礼だと思っているので、あまり使わない。',\n",
       "  'auお留守番サービスをこの半年で100回くらい聞いて、まぢで嫌いになった。',\n",
       "  '今日でおそらく-6kg達成予定。',\n",
       "  'お気に入りの学生からよい知らせが届いた。',\n",
       "  'あ、やんちゃ時代の写真があった。即消したｗ',\n",
       "  'お腹が減ったのでシジミのカップ味噌を飲む。ご満悦♪',\n",
       "  '日々の筋トレに、ジムorヨガ追加しようかな。整えるために。',\n",
       "  '名言や格言ってのは探すもんではなく、出会うもの、だということが、名言系bot見てるとよくわかる。',\n",
       "  '腹は意識的に凹ませていると凹む。',\n",
       "  'MTGの時間の押さえ方に気の使い方がにじみ出る。',\n",
       "  '完全に風邪。喉が痛すぎるので、喉ぬーるスプレーを買う。ビタミンC補給も・・・',\n",
       "  '昨日小野田商店に行ったのに体重減ってる。',\n",
       "  'お、またお気に入り学生②からうれしい報告が★',\n",
       "  '少し体調よくなってきた。',\n",
       "  'プラダを着た悪魔、をこれから観る。',\n",
       "  'ボイストレーニングに通いたい。',\n",
       "  'うーん、納得いかね。',\n",
       "  '人に「痩せたよね」って言われるようにすることは、ダイエットの成功の秘訣だと思う。',\n",
       "  'しかし風邪が治らないな。',\n",
       "  '最高を求めて～★ 終わりのない旅をするのは♪',\n",
       "  '内藤さん家前を通過。',\n",
       "  'あ､オレじゃないよ♪',\n",
       "  '小柳津家パート2通過。',\n",
       "  'ふう、大作ブログを書いてしまった。まだ公開してないけど。',\n",
       "  'エンゼルバンクってテーマ「転職」だよね？新卒採用向けになってた。',\n",
       "  '「観客の90％が寝た！」（映画「オーシャンズ」のコピー候補）',\n",
       "  '尊敬する女性の「最近のCMはお金かけて作れてないよねぇ」と言うセリフが心に残ってます。',\n",
       "  '仕事の仕方も、CPA偏重になっちゃいけないなぁ、と。',\n",
       "  '「有用の学」だけでなく、「無用の学」も学びなさい、ですな。',\n",
       "  '風邪が治らないので、ホットレモンなう。',\n",
       "  'たぶん近いうちに創作餃子ブームがくるので(根拠なし) 東京餃子番長ってサークル作りたい。',\n",
       "  'ちょこっとだけ不動産屋へ｡やっぱあそこだなぁ～★',\n",
       "  'アドバタフライからサービス終了の連絡がきた。',\n",
       "  'ちなみに僕は卒業単位ジャストで卒業しました。',\n",
       "  'なんとかなるもんです、卒業は。',\n",
       "  '久々にブログ更新したけど、やっぱりRSSと検索からのリュ入が一番多いな～。Twitterからは200程度。',\n",
       "  '今日はアボカド。毎日食いたい。アボカドラブ。',\n",
       "  '鼻水ですらダイエットに繋げたい。量的には行けそうだ(笑)',\n",
       "  '勝負パンツが欲しい。',\n",
       "  'アメーバメンテナンスなう。',\n",
       "  'お釜のご飯をパックに入れて冷凍保存した。なう。',\n",
       "  '本を借りる感覚がイマイチわかんない。',\n",
       "  '「ひねり」系の運動をやると、快便が促進される。',\n",
       "  'ん？アメーバの管理画面がなんかおかしいぞ？',\n",
       "  '営業が提案活動を止めているとき、理由をきちんと探らないと行けない。スタッフが空気読めてないのか、ただ単に忙しいだけなのか、それもと忙しいフリをしているからなのか。',\n",
       "  'いやぁ、何を隠そう、今日は快便。',\n",
       "  'そろそろ広告系総会の時期…',\n",
       "  '今年の裏目標①：上司を立てる。',\n",
       "  'この時期から学生からのOB訪問（厳密にはOBじゃないけど）が増えてくる。去年はブログからが多かったけど、今年はTwitterと五分五分くらいだな。',\n",
       "  'DMで陰口たたくな～',\n",
       "  '何気に今日も断食中。ここまでくると、腹が減らなくなる。',\n",
       "  'なぜ誤字脱字が多いのだろう？',\n",
       "  'なんで今日はナニも食ってないのに、こんなにも快便なのだろうか・・・',\n",
       "  'ｻｲｷﾝﾉｼﾞｮｼﾀﾞｲｾｲｯﾃｵﾓｼﾛｲｶﾀｶﾞｵｵｲﾃﾞｽﾈ★\\u300027ｻｲﾉｵｯｻﾝﾊﾂｲﾃｲｹﾅｲﾄｺﾛｶﾞｱﾘﾏｽｗ',\n",
       "  '「一人より十人の方が強いのは綱引きである。発想とは、一人の頭が、十人よりも強い力を出す技術を言う。」',\n",
       "  '一旦ここらで今日のつぶやきをおわりにします。',\n",
       "  '女性にウケるアドマンを目指そ(笑)',\n",
       "  '会社から中目黒まで歩いて10分で着いた。速度上がってんな♪',\n",
       "  '昨日今日で1.5キロ減った｡ ベルトの穴がひとつ細くなった♪',\n",
       "  'たぶんこの減量ペースはあと五キロくらいで止まるので、そこからが勝負だな。',\n",
       "  '最近、若作りの32歳と言われる27歳は私のことです。',\n",
       "  '今から幕張に向かう。小旅行。',\n",
       "  'めっちゃ｢私、胸大きいですけど｣的な女性がめっちゃ谷間を強調する服着ててこれ見よがしな感じでイラッとした★',\n",
       "  '須田さん出版パーティー二次会。メンバー濃すぎて最年少アドマンは恐縮中…',\n",
       "  'きっとタナカさんはしゃべり過ぎ(笑)',\n",
       "  '僕は今の立ち位置をとっても感謝すると同時に、やっぱりいろいろ頑張らんとな、と思わせてくれる会でした。ありがとうございました★',\n",
       "  'オッサンホイホイ、マネタイズできないかな・・・',\n",
       "  '今日は結構食べたけど、渋谷から歩いて帰ったら、なんとかステイ!',\n",
       "  '久々に角の立つブログを書いている。',\n",
       "  'そういえば1年目の頃は、喫煙所でタバコ吸ってるときに、他のフロアの他の会社の女性社員に話しかけられたりしたのになぁ（過去の栄光）・・・枯れてきとる・・・',\n",
       "  '「地位とは、部下の人生に責任をもつことにほかならない」',\n",
       "  'そうだ、日サロ行こう。',\n",
       "  'やっぱ、ブログは好きだなぁ～★',\n",
       "  '事業戦略頭が欲しい。',\n",
       "  '最近「いやー残念だわ」って思う時がある。',\n",
       "  '不死鳥やらなんやらで、ワンピースの「悪魔の実」がすでに悪魔じゃなくなってる件。',\n",
       "  'たまに「Twitter革命」と「Twitter社会論」を間違えて手にとる。「革命」は神田さんなのに。',\n",
       "  '「無言のRT」という文化。',\n",
       "  'たまーに、ひとりになりたひ。',\n",
       "  'いつ会社を首になっても全然やっていけるくらいまで自分を高めながらその組織で働かないと、その組織できちんとした結果は出せない。',\n",
       "  'ということで、一部の制止を振り切って、日サロマシーンに30分ほど行ってくる★',\n",
       "  'そういえば、会社の後輩がアドマンのダイエット記事を参考にしてくれているらしいｗ',\n",
       "  '忙しくて今日何も食べてない、ってのと、戦略的に食べてないのとでは、天と地ほどの差がある',\n",
       "  'やべ！財布会社に忘れた！',\n",
       "  '店員に聞いたところ、日サロは客が激減してるそうな。',\n",
       "  'なんか弊事業部、他の部署からライバル視されてるらしい(笑) 敵視ではなく。',\n",
       "  'それでは、おやすみなさい、世界！',\n",
       "  '三時間ラン完了。日サロ効果もあってか、体が引き締まって来てるように見える。',\n",
       "  'さて、今からラン。東京タワーまで走ろう。2時間くらいかな。',\n",
       "  'アメーバなうがサービス的に被るのはアメブロよりピグだと思う。ピグもオープンな同期コミュニケーションで、実は今のところピグのほうがTwitter的コミュニケーションが成り立ってる。しかも主婦層で。またピグはまったくもってアーカイブ概念がないので、より刹那的。さてさてどうするか。',\n",
       "  '「埼玉県入間市の中学3年生が爆弾を仕掛けたとHPに書き込んだ」だと！オイラの地元やん!!母校・東町中学校でないことを祈るが、可能性高いな・・・',\n",
       "  '歩くときはヘルシアウォーター、走るときはVAAM。',\n",
       "  '今月中に60キロ台に突入したいのだが、最後の1キロがなかなか遠い。ということで、行ってきます！',\n",
       "  '走って、今アボガド切ってゴマだれと春雨と和えて食った。うまし。',\n",
       "  'そういえば、御殿山付近を走っているときに、シビル・アビディとすれ違った気がしたのだが・・・たぶん気のせいだ。',\n",
       "  'そういえば「スリムドカン」が無くなったので、追加発注せねば！',\n",
       "  'さて仕事しにいこー。',\n",
       "  'あ! 万歩計忘れた(￣▽￣;)',\n",
       "  '「君は結局何になりたいんだい？」と聞かれて「スターになりたいんです」と答えた僕は、きっと広告マンに向いてない。',\n",
       "  'いや、スクープやわ。',\n",
       "  '赤西くんってあんま好きじゃないんだよなぁ。',\n",
       "  'イケメンは好きだが、かわいげのないイケメンは好きじゃない。',\n",
       "  '彼女がいたとしても、僕は「モテたい」タイプです。ポジティブな意味で。',\n",
       "  'あ、hayabusamuraiの奥様にフォローされたようだ★',\n",
       "  '「オンステージなう」はポジティブなウェブの使い方な気がする。',\n",
       "  '前回の「渡邊エージェンシー」案が、いとも簡単に却下されたので、今度こそ！',\n",
       "  'あと数時間で給料日ですが、今月は15万ほど貯金できそうです☆',\n",
       "  'ダイエットと貯金は両輪です。',\n",
       "  'あ、やべ。家計簿付け忘れがある。',\n",
       "  '何年も経ってもさぁ～♪',\n",
       "  '芸能界デビューしたい(笑)',\n",
       "  '「朝会社に来たらすぐトイレ族」に僕のペースは乱される。',\n",
       "  'Hootsuiteは今後どう展開するんだろう？興味アリ。',\n",
       "  'なに？まだ給与明細がないだと？',\n",
       "  'ウチの会社の社員ブログで上司について触れるときに、よく会社での呼び方でそのまま書いている人がいるが、アレ、なんか恥ずかしい。外部に発信してるんだからさ・・・って思ったりする。',\n",
       "  'これからは、サイト構築中でも「工事中」ではなく「工事なう」とすればいい。',\n",
       "  '真面目なダイエッターからすると、ブログ上のクチコミより、クチコミサイト（ソーシャルレイティング）の「みんなの声」の方が参考にしてしまう。',\n",
       "  'adman.tvドメインを取得しました。',\n",
       "  'コメントしにくいニュースがあるなぁ～',\n",
       "  'そういえば今日は夢で、必死こいて「嵐」の楽曲を振りつきで練習している自分を発見してしまった。夢だよ、夢ｗ\\u3000嵐なんてほぼ踊れるからｗ',\n",
       "  '今月はめっちゃ貯金する。',\n",
       "  '明日はきっと、7時に出社するんだ！',\n",
       "  '今日は内蔵系を喰らふ。',\n",
       "  'ジギョつくの資料がまだできてない・・・提出期限の延長求む！',\n",
       "  '社長は酔っ払ってると思われる(笑)',\n",
       "  '資料をシコシコ作成中。資料作成はじめはやはりホルモンを聴きながらテンション上げる。',\n",
       "  '「枯れない花はないが、咲かない花はある。世の中は決定的に不公平だ」僕はいいコトバだと思ってます。',\n",
       "  'アボカドを短冊状に切り、醤油にワサビ、少々のごまドレッシングをといたタレと納豆を合えて食べると死ぬほどうまいです。多分、ご飯にかけたら最高です・・・が、今はダイエット中のため禁止。',\n",
       "  '2年後くらいに「できる男は作ってる！？働く男のパワー飯」という料理本を書きたいなう。',\n",
       "  'あ、あと1人で1800人になりそうです。さぁ、1800人目は誰だ！？',\n",
       "  'ここ2日でフォロワーが200人増えとるな・・・スゴ。フォロワー増にもティッピングポイントってあるんだろうな。',\n",
       "  '資料のテンションが低い。音楽が悪いのか？やはりPerfumeか？',\n",
       "  '社長と飲みに行くことになりました。日程調整中★',\n",
       "  'GmailがTwitterのフォロー連絡でうもれてる・・・',\n",
       "  '女性にとってやりがいのある職場創りをシンケンに考える。考える。',\n",
       "  'パルコに行ったら、すっかりバレンタインだった。',\n",
       "  '業界をポジティブにする買収とネガティブにする買収があるんだ。',\n",
       "  'いい飲みだった(よね？)',\n",
       "  'ある側面から言えば、現役女子大生3人囲まれる会。言葉と切り口の怖さを感じつつ、きっとバズマンだったら勘違いするな(笑)',\n",
       "  'テイラーとか、ちゃんと読もう。',\n",
       "  'Twitterで議論するのは難しいなぁ。やり方をちゃんとしないと。余計なコトバを吐いちゃうから。',\n",
       "  '鉄板焼きの雲丹ご飯は何ゆえあんなにうまいのだろう。。。',\n",
       "  '300人オーバーでフォローすると、「TLを追う」なんてそもそも不可能。セレンディップに割り切るしかない。でもそれが正しい。と思う。でも個人的にはここら辺が限度だな、うん。',\n",
       "  '「経営とは、人を通じて物事を達成する技なり」「経営とは、平凡な人に非凡な仕事をさせる技なり」',\n",
       "  '腹筋100回くらいはつらくなくなってきた。',\n",
       "  '「人に魚を与えれば1日生かすことができる。だが、魚の釣り方を教えれば、一生いかすことができる。」',\n",
       "  'ダイエットの話をする機会が増えたが（笑）、よく「でもそんな方法だとリバウンドしない？」とよく言われる。たぶんそれはダイエットを短期で捉えているからであり、習慣を変えようとしない態度からの発言で、たぶんこの人はダイエットに成功することはない。たぶん。',\n",
       "  'Twitterやってるとどうしても「暇なの？」的なことを言われる。「いやいやいや」と言い訳はいくらでも思いつくが（というか言い訳ではないが）、そう思われるということが大事なところなんだと、大人になろう。',\n",
       "  'リプライがmixiでいう足跡返し的な感じになるとしんどいな。でもあると思います。',\n",
       "  '今日はインタラ塾行けないかも…',\n",
       "  '20代広告業界飲み、という変に閉鎖的な飲み会やったら人来るかしら？',\n",
       "  'ジギョつく、ウチの部署から10個は出す。',\n",
       "  '【業務連絡：20代広告系飲み会】①飲み会の名前を募集、②幹事（ワタクシアドマン＋3名ほど）募集中。',\n",
       "  '２０代で飲むと、給料日前とかの日取りはアウトだな。',\n",
       "  'そういえばさっき７７７の福田さんがマークシティにいらっしゃいました。',\n",
       "  '今からジギョつく用の提出シートを鬼のように書く。案はたくさんあるので、書けるところまで・・・',\n",
       "  'ジギョつく1案目完成！さて2案目！',\n",
       "  '今からインタラ塾飲み会に参加するのは無謀なので、残念ですが控えます・・・',\n",
       "  'ブログのアクセスが久々に4000を超えてる＠アナリティクス。今日は完全にTwitter効果。',\n",
       "  'そして六本木到着。その後インタラ塾に駆けつけられるか？？',\n",
       "  'あと1名でフォロワーが1900人☆',\n",
       "  'うーん、オレも新人賞取りたかったなぁ～。',\n",
       "  'ワイデンに行った次の日は体重が減る。',\n",
       "  'そういえば、何気に昨日伊藤さんと初対面。今後とも宜しくお願いします★',\n",
       "  '誰かと一緒に提案するとき、僕以外のメンバーがしゃべっていて「その通り！」というと思うときは、深くうなづくようにしている。',\n",
       "  'ここんとこ、フォロワーが１日１００人ずつくらい増えてる・・・',\n",
       "  'マイスウィートオフィス（トイレ大）に篭って考え事したいのだが、あいにく現在満室状態。。。',\n",
       "  '「渡邊大介 サイバー」という検索からの流入が多く、ちょっと怖い・・・',\n",
       "  'ネット系、意外と少ない？',\n",
       "  'ストリームとアーカイブ。ビビりの時代。',\n",
       "  'No Implementation,No Creativity.',\n",
       "  '最近、会社に帰るとメールではなく、Hootsuiteを開く自分がいる。',\n",
       "  '今月はタクシーが少ない。これもウォーキング効果。',\n",
       "  '髪の毛をきってくる\\u3000。',\n",
       "  'バズマンがウザイこと行ってるがシカトしよ。',\n",
       "  '明日のメタバースカンファレンスいけなそうだ…',\n",
       "  '裏で動いて決まる、ということは世の中いくらでもある。',\n",
       "  'モモちゃんのトピックスが絶妙にウザイｗ',\n",
       "  '昨日くらいからまた、面接を受けにたくさんの学生が来ている。この中から一緒に働く仲間ができると思うと面白い。ということで、今からアポ。',\n",
       "  '「企画でテーブルが揺れる時がある」そんなんが日常茶飯事な組織を作る。',\n",
       "  'うむ、いいミーティングができた。もちろんYUREX使わずに(笑)',\n",
       "  'Hootsuiteばっかやってると、Twitterのバナーを見なくなるので、新しい企業アカウントに気づきにくくなる。',\n",
       "  '今日、備前がトピックス2件送ってる。たぶんあいつ、仕事してないｗｗ',\n",
       "  'TwitterってRead Onlyなユーザーて少ないと思うんだけど、どうなんだろ？ブログは結構いる。',\n",
       "  '丸くなるな★星になれ！',\n",
       "  '社長からTwitterやりすぎてきなツッコミを受けたｗ\\u3000仕事はしてます★',\n",
       "  'これはジギョつく、落ちたパターンか？？？',\n",
       "  'ブログへのHootsuiteからの流入が多くなっている。',\n",
       "  'あ、ジギョつく通ったー★\\u30005案出して1案。うーん、次はもうちょっと確度上げたい。が、一旦最終プレゼンがんばろ。',\n",
       "  '金曜のこの時間にメディアニュースが結構来るんだが・・・',\n",
       "  '次回はジギョつく案をツイッターで募集するとか・・・だめか。',\n",
       "  '来月は弊事業部、キャパいっぱいのため、私、現場でバリバリやらせていただきます。お仕事お待ちしております★',\n",
       "  'ちなみに今年の運勢的には、2月、4月、10月が調子いいようです、私。',\n",
       "  'あ、 タイムラインが寝た。',\n",
       "  '結局、歩いて帰りました★',\n",
       "  'うーん。若干ネガティブな感じ。二年前のようだ。',\n",
       "  '誰かがどこかでad★manを呼んでいる…',\n",
       "  'アボカド納豆とシジミ味噌汁。至福。',\n",
       "  'あ、 フォロワーさんが2000人を越えてる!!あざーっす。',\n",
       "  '今更ながらTHIS IS ITをDVD買って観てる。ふぉう。',\n",
       "  'ラクーアに行くらしい。',\n",
       "  'いろんなところを歩くと、道は立体的であることに気づく。アハ体験。',\n",
       "  'ラクーアに行こうといていたが、ピンパンを着用していて危なかった…',\n",
       "  '南北線なう。やたら車内で自分撮りしている女性に、どう反応したらいいかわからないなう。',\n",
       "  '飯田橋なう。前の女子中学生がアイプチしており、その威力に改めて驚かされるなう。',\n",
       "  'スパラクーア到着なう。リア充なう。',\n",
       "  'ウォーキング続けてると、デトックス効率よくなるの巻。',\n",
       "  '見ず知らずの若者と百度のサウナで根比べ。気づいたら20分経過しており、勝負には勝ったがフラフラなう。',\n",
       "  'クッキーに遭遇した★',\n",
       "  'さっき代官山で食べたんだが、塩昆布卵かけご飯がヤバイ。小野田商店のスペたま丼に匹敵する。',\n",
       "  'オイラ、夜のプロテインは向いてないや。朝にしよ。',\n",
       "  '前にも書いたが、挨拶は基本だと思う（と、無礼者のオイラが言う）。',\n",
       "  '今日はなんかお腹が痛いです…★',\n",
       "  'ほんっとにお腹痛い件。',\n",
       "  '上司と喋らなくなるのは良くない。透明性が一気に濁る。そう、濁った感じ。',\n",
       "  '今日からコーヒーはMAX２杯まで。ジュースは基本飲まず、ベース水で行きます。',\n",
       "  'コンテンツがあるところに人があるまり会話していると言うのは、極めてお茶の間的。',\n",
       "  '今更だけど、内定者バイトは最高のアピールの場。母数が少ないからいろんな人に見てもらえる。だからちょっと仕事になれよう、くらいでやると損すると思う。いろいろ。できれば「あの子はできる！」とか「ウチの部署で働いて欲しい！」って思わせて終わってもらいたい。',\n",
       "  '本日2本目の「日田天領水」。意外とうまい！と思い込んで飲む。思い込みが大事。水500mlに158円出すさ・・・',\n",
       "  'さて、出かけます。行ってきます。',\n",
       "  '昔オヤジに「飲み会に呼ぶのと呼ばれるのでは天地の差がある。幹事は買ってでもしろ！」と言われたことを思い出した。何の差かはわからんが…',\n",
       "  '反響がなかったので今一度つぶやくけど(しつこい)、 塩昆布TKGは至高の味である。ぜひ今夜！',\n",
       "  '本日で卒業の内定者バイトsacra。容姿端麗、頭脳明晰、温厚篤実。とっても素敵なやつでした。いったんお疲れ様でした。',\n",
       "  'そろそろデッカイ波（いい意味で）がくるかなぁ、と思ったら、今日来た。糧にしよう。',\n",
       "  'あ、言ってるそばから2月パンパンムード。',\n",
       "  'ソーシャルメディアマーケティング、を戦争とするのもちょっと僕の感覚と違う。戦うもんではない。',\n",
       "  '「へー、アドマンってTwitterやってるんだ」と同期に言われ、自分が少し調子にのっていたことを反省した2/2。',\n",
       "  'ウチの母ちゃんは「公文式」の教室を持っているんだが、ぜひともTwitterをやらせたい。企画書を提出しよう★',\n",
       "  '賢明（SMART）に考えてから、一所懸命（HARD）に努力すること。また賢明に努力しながら、一所懸命に考えること。',\n",
       "  '人のパソコンを覗くのはよい趣味じゃないよね。殴るよ（念のため、嘘です）。',\n",
       "  'マークシティ４Fのサンクスが2/5～2/17まで改修工事で営業しないなんて、オイラは認めてないんだからね！',\n",
       "  '飲むものが「コントレックス」しかない状況だと、「コントレックス」もうまく感じる。',\n",
       "  'ダイエットサプリを輸入してみたｗ',\n",
       "  '今日、コーヒー飲まなかった、オレ。偉い！',\n",
       "  'そういや、アメブロの「読者登録数」をTwitterのフォロワー数が上回った。特に違和感はなし。',\n",
       "  '雪の中帰る。まだ降ってる？',\n",
       "  '営業チックな仕事が1件増えそうだ。キライじゃないけど★',\n",
       "  '3/12は僕がダメなことが判明。',\n",
       "  '幹事用にMLを作成したので、確認してみてくださいませ！',\n",
       "  'カップのなめこ汁がうますぎる件。これはハマリそう。',\n",
       "  'さて、今から40分歩く。',\n",
       "  '最近冷たい上司、演じ中★',\n",
       "  'トイレ大が満室。みんな好きね。',\n",
       "  'livedoorニュースが見れない？',\n",
       "  '長丁場アポなう。休憩中なう。',\n",
       "  'ロングロングミーティング終了。今から帰ります…',\n",
       "  '取引先のBARでワインを飲み、頭が痛い。赤ワインだけはダメ・・・',\n",
       "  'なめこ汁なう。じるなう。',\n",
       "  'あ、イケダノリユキ氏オンステージまであと40分。',\n",
       "  '本日トイレ（大）に入りすぎて、ﾋﾘﾋﾘするなう。',\n",
       "  '体重がなかなか減らなくなったが、体脂肪率はガンガン減ってきてる今日この頃。',\n",
       "  '今日はお腹痛くない。なう。',\n",
       "  'クライアントからも「痩せましたね」と言われた。こういうコトバはダイエットに一番効くサプリメント。',\n",
       "  'コーヒーを三日間くらい抜いたら、中毒性が抜けてきた。人間の本質は「慣れ」だと思う今日この頃。',\n",
       "  'THEテレビ局人に圧倒された1時間ｗ',\n",
       "  '「ビジネスブログをやりましょう」ってレベルから早く脱却してくれないと。ホント。',\n",
       "  '新人賞は獲らせるもんでも、仕立て上げるもんでもない。獲るべきやつがとればいい。上司は余計なことをしないこと。',\n",
       "  '「嘘ついてない？」って詰めるのは、詰めるほうも結構しんどい。',\n",
       "  'そういうことやってると、痛い目見ると思うな～',\n",
       "  '情が湧いちゃうから、人事向いてないな、オレ。',\n",
       "  '「無茶ぶられ力」を磨かなきゃと思うアポでした。',\n",
       "  'お昼後のこの時間、例によってトイレ（大）は満室。お腹いっぱいになり眠くなるのはわかるが、トイレの中から聞こえてくる寝息に、どうしようもない憤りを感じるなう。',\n",
       "  'あともうちょいで、UCCのやつに便乗して、GEORGIAとかBOSSのbotも出てくんだろうな。',\n",
       "  'でもこういうのは、良くないよ。',\n",
       "  '就活生を見て、「絶対この娘、普段チャラい」とか予想するのが楽しい。',\n",
       "  '待ち時間とツイッターは相性よし。',\n",
       "  '今日の夜はU-30広告系飲み会(仮)幹事会です。',\n",
       "  'ハイパーつぶやきストへの道 講座。',\n",
       "  'まるでアレが水のようだ。',\n",
       "  'この際、アメーバなうのダミーアカウントについても触れて欲しい。',\n",
       "  '人間っぽさ。人間らしさ。人間としての・・・みたいな。',\n",
       "  '【緊急連絡】U-30飲み会幹事の皆さん、わけあって場所変更です。ML確認してください！',\n",
       "  '自分のつぶやき総数が16,535に達していることを確認し、若干萎えた。。。',\n",
       "  'トピックスメールは同じ人間が続けて打つと価値が薄まる（社内）。',\n",
       "  '今日はアポ2件あったのに、7回トイレ（大）に篭りました。たぶん体重減ってるはず。。。',\n",
       "  '会社からワイデンまで歩いたら、30分で着くことが今判明。今度から歩こう♪',\n",
       "  '結局、渋谷から六本木まで歩き、六本木から家まで歩いて帰って来ました♪ 万歩計は二万五千歩を記録。',\n",
       "  '住宅展示場で料理教室。ハードルを下げる。',\n",
       "  'オリアンティってギターうまいか？',\n",
       "  '僕が言うのもなんですが、中目黒で美味しいお店を教えてください。僕が知らなそうなお店を・・・',\n",
       "  '今日は中目黒kijimaに行く。',\n",
       "  'シェイプアップベルトが欲しい。お腹ブルブルするやつ。',\n",
       "  '信号機の青は横型だと向かって左、縦型だと下。意外とわからない。',\n",
       "  '洗濯用品は白と青が多い。',\n",
       "  'そう言えば、松岡さんに千円返してない。',\n",
       "  '目黒警察でトイレを借りる。意外と優しい。',\n",
       "  '人生はプラクティス。',\n",
       "  'マスク、帽子、グラサンかけて「愛され女になる方法」的な本を読んでいる女性。',\n",
       "  '白状すると、さっき知らない人に挨拶した。',\n",
       "  'だれですかー？僕の椅子に座ったの。座って良いから、位置とか傾斜とか元に直してよね。',\n",
       "  'てか絶対座った奴、なんかこぼしやがったな？下濡れてんだけど・・・怒',\n",
       "  'コメントを控えたくない。',\n",
       "  '「負の感情」はものすごいパワーを持っているが、使いすぎると「顔」に出る。',\n",
       "  '久々にコーヒーが飲みたくなったので・・・とはいえアレなので、「豆乳飲料\\u3000麦芽コーヒー」で妥協する。',\n",
       "  '結構弊社、席替えがあるのだが、その際に思うのは、どこの席になってもすぐその人がその席であることを認知される人と、そうでない人、とがいることである。',\n",
       "  '「よくTwitterでつぶやいてますよね」と言われるが、裏にだいたい「暇なんですね」ってのが見え隠れしていることには気づいているからね。とはいえ、君より働いてるからね！とかは言い返したい。',\n",
       "  'エスカレーターは、右を空ける感じでお願いします＠東京。',\n",
       "  'てか、オフィスの湿気がスゴすぎて、本が痛んでる件。',\n",
       "  'あ、経費精算しなきゃ。',\n",
       "  '「Twitterって平均すると100字くらいじゃん？5000ツイートすれば、50万字書いたことになる。新書くらい楽勝で書けるよ。」と言っている人がいたのだが、もちろん負に落ちるわけがない。',\n",
       "  '明日はスタッフ共有会でます。',\n",
       "  '最近YouTubeに、発売前のジャンプの原稿が駄々漏れしてるが・・・あれは・・・',\n",
       "  'ie 青葉台1*16',\n",
       "  'フラットでフリーであるが故に、Twitterにおける人間関係や言動、影響力などはもちろん「平等」ではないと思う。当たり前だけど。',\n",
       "  '作ってもらったカニの味噌汁が激うまい。',\n",
       "  'ソーシャルメディアで求められるのは、ぶっちゃけ社交的、社会的スキル。',\n",
       "  'どうやら我輩は大量の霊を引き寄せる体質らしく、現在、いるらしい。',\n",
       "  '銀座線出口で徳力さんとすれ違った。が、声かけられず…',\n",
       "  'いやー、これは大変なことになりそうだ。死ぬ気でがんばろ。死なないけど。',\n",
       "  '父「富と名声で幸せは買えない」\\u3000息子「それって試したことあるの？」',\n",
       "  'スパムコメントがうざいな。',\n",
       "  'TwitterのDMって、授業中に紙に書いて回すメッセージに似ている部分がある。',\n",
       "  '「それは難しいっすね」って言われたら一歩前進。',\n",
       "  'あ、幹事会の議事録送ってないや。',\n",
       "  '業界の大先輩との飲み会なう。帰っていろいろ考えてよ',\n",
       "  'バースデイの亀田特集が面白い。',\n",
       "  '出社なう。今日は途中まで徒歩。',\n",
       "  '外出が多すぎて、学生からのOB訪問とかをリスケしまくってる件。申し訳ない。',\n",
       "  '慣れないクライアントMTGは頭が汗だくになる。まずは背景、時系列、共通言語を理解する。',\n",
       "  '今日はガシッと痩せる気がする。68.9キロまでいけば、開始から約一ヶ月半で10キロの減量に成功したことになる♪',\n",
       "  '一駅圏内のアポなら歩く。 時間は10分も変わらないし、運動になるし、いろいろ考えられる。',\n",
       "  '記憶力がいい。あと参照力がある。',\n",
       "  'ふう、ようやく終了。今から帰社しまーす。',\n",
       "  'こういうのはハッシュじゃないな。',\n",
       "  '幸せと祝福の伝播。こういうツイッターはいいなぁ。(シラフ)',\n",
       "  'auお留守番サービスめ・・・',\n",
       "  'メディア活用の資産化。',\n",
       "  'カップ春雨に水をなみなみ注いだ俺。',\n",
       "  '今から銀座でDの方と飲み会。',\n",
       "  'H金さんが面白すぎます♪',\n",
       "  '終了っす。素直に楽しませて頂きました。まだまだ頂上は遠い。楽しいね。',\n",
       "  '代官山の福躍で締め完了。眠ひ',\n",
       "  '昨日、恥ずかしながら銀座で道に迷ったのだが（行き先に対して）、人に道を聞こうと声をかけたら最初の４人にスルーされた。Tokyoは冷たいなぁ・・・大阪は１パツで教えてくれたのに。',\n",
       "  '「勉強会をやります」というのはいいんだが、主催者は「何をやるのか」っていうのを「なんでやるのか」「どうやるのか」「だれがやるのか」ってところとリンクして考えないといけない。「何」だけ単純に伝えるなら、もっと良い方法がある（と思う）。',\n",
       "  '僕の同年代（２０代後半の人間）が、最近「最近の新卒ってありえないよね」的な会話をし始めてる。「最近の若者は・・・」というギリシャ時代から伝わる「年を取った証」の片鱗が随所で見え始めている。',\n",
       "  '今日はコーヒー解禁日に制定ｗ',\n",
       "  'Google Buzzをシコシコシコシコ。',\n",
       "  'ネイルをガッツリもられている女性がキーボードを叩くと、カチャカチャカチャカチャうるさいんだが、なんだか嫌いじゃない自分がいる。',\n",
       "  'サ○モトコ○ゾウのケツがプリプリしているのを見て、改めてダイエットへの決意を。ダイエットを初めてからただいま9.9キロ減量に成功。折り返し点突破。',\n",
       "  '昨日、採用の受付をやったんだけど、受付時の挨拶や目線の配り方、姿勢、心配りはとても目立。そこで評点つけてないと思うけど、とても評価が分かれる瞬間であった。',\n",
       "  '今から三時間、マン喫で集中勉強&思考タイム。こういう何もない空間が会社に欲しい。',\n",
       "  '最近会計の勉強がオモロイ。学生時代に会計士を目指して半年くらい実は勉強したんだけど、その時はつまんなくなって辞めちゃったのよね。もったいなかったな。',\n",
       "  '最近自動ドアとかトイレのエアタオルの反応が鈍いんだよね。人間として認められてない気分。',\n",
       "  'ソーシャルメディアマーケについて書かれた本を一般ユーザーが読んで嫌悪感を持つようじゃいけない。マーケターはこう攻めてくるのか(なんて考える人はいないけど)なんて思われるようではそもそもソーシャルではない。',\n",
       "  '予算がないから知恵を絞るのと、単に低予算、あるいはフリーでやるのとでは雲泥の差。SMMに関する勘違いは結構ここにある気がする。代理店側もいけないんだけど。',\n",
       "  '休日ってフォロワーが増える気がするのは僕だけ？',\n",
       "  '最近「アチシ負けない！」ってマインドが結構強い。',\n",
       "  'なんかピーピーなってるが、何が名ってるのかが不明。',\n",
       "  'めっちゃGoogleの検索結果にBuzzでるなぁ～。',\n",
       "  '「有名税」ってコトバは結構タブーだな。慰めにはなるけど、自分の行為や言動を振り返らなくなる（ジブン、まだまだ無名っすけどｗ。',\n",
       "  '筋金入りの「東京ウォーカー」な僕ですが、雨の日は歩きたくない。',\n",
       "  'ソーシャルメディアは場であって、媒体と捉えてしまうといろいろ良くない。じゃあ、メディアじゃないじゃん、みたいなツッコミは要りません★',\n",
       "  '来週のジャンプ、史上最高にワンピースで泣く。',\n",
       "  '雨やんでないじゃん…',\n",
       "  '使うコトバを変えて、意識と思考を変える。',\n",
       "  'オンラインって、なう的なコトバになる気がする。',\n",
       "  'いつ気づいてくれるかな。',\n",
       "  'ぶっ続け三時間ミーティング終了→帰社。',\n",
       "  'とはいえ、サクランボ♪',\n",
       "  'さくら咲く～★ とはいえ、サクランボ♪',\n",
       "  'オサムもサクランボ♪',\n",
       "  'カラオケに行きたい。',\n",
       "  'カラオケ行けなかった！ジダンダ',\n",
       "  '雪が降ってまスノー★',\n",
       "  '「人生は初のスタンディングオベーションはZEDでした」(事実)',\n",
       "  '顔に生気がない。大丈夫か？',\n",
       "  'そういえば最近、ちょっと一時期よりARGというコトバを聞かなくなった気がする。ちょっとだけ。',\n",
       "  'ジョーダンじゃなーいわよーう！',\n",
       "  '大人エレベーターに子供店長。そろそろキミマロ復活の予感。',\n",
       "  '事業プレゼン３分・・・ぶっちゃけスライド１枚。それとも作り込むか、あえて・・・悩む。',\n",
       "  'ジギョつく用のプレゼン資料を３０枚作った。これを5/1くらいまで圧縮する。本気とかいてマヂ。',\n",
       "  'Broadcasting Myself.',\n",
       "  '背景説明だけで、余裕で3分行くな。やばし。',\n",
       "  'デザイナーが欲しい。',\n",
       "  'Google Buzzman',\n",
       "  'キャッシュバックがハッシュタグに見えてくる今日この頃。',\n",
       "  '無言RTの理由を聞いてはいけないｗ',\n",
       "  '本日はよっちゃん さんのお誕生日です！',\n",
       "  '母にTwitterを。公文の教室をやってるので、企画考える。',\n",
       "  '内藤さんのジギョつく説明会資料が面白かった。たぶんこの資料をもとに、こういう話をしてるんだろうな、と想像しながら読む。',\n",
       "  'ゴーーーーーーーーーーーーーーーーーーーール！',\n",
       "  'なんてこった、PKや・・・楢崎がんばれ！',\n",
       "  'いやぁ・・・2対1・・・',\n",
       "  'レッドカードぉぉぉ！馬鹿！',\n",
       "  '個人的には、トゥーリオはずっと認めてない。俺に認められなくても何もアレだが・・・',\n",
       "  'またレッドカード＠韓国。',\n",
       "  '高橋大輔には似てないと思う。 アレか？二人目の妄想癖か(笑)',\n",
       "  'バイラルディレクター。',\n",
       "  '営業じゃなくなってから、アポから帰ってきた際にメールを見るのがちょっとだけ怖くなくなった（笑）。別の怖さがあるけど。',\n",
       "  '【急募】新しいパーソナルサイト「アドマン.TV」のデザイナー募集中★ お礼は超うまい鉄板焼きでお願いします。',\n",
       "  '突如会食に呼ばれたので、このMTGをあと１０分で終わらせる。',\n",
       "  '皆さん、お疲れ様でした！',\n",
       "  ...]}"
      ]
     },
     "execution_count": 10,
     "metadata": {},
     "output_type": "execute_result"
    }
   ],
   "source": [
    "add_dataset"
   ]
  },
  {
   "cell_type": "code",
   "execution_count": null,
   "metadata": {},
   "outputs": [
    {
     "data": {
      "application/vnd.jupyter.widget-view+json": {
       "model_id": "937f97122200431192eeabe77086087e",
       "version_major": 2,
       "version_minor": 0
      },
      "text/plain": [
       "Map:   0%|          | 0/6887 [00:00<?, ? examples/s]"
      ]
     },
     "metadata": {},
     "output_type": "display_data"
    }
   ],
   "source": [
    "from transformers import AutoTokenizer\n",
    "from src.my_project.dataset import preprocess_for_Trainer\n",
    "# tokenizerの定義\n",
    "tokenizer = AutoTokenizer.from_pretrained(MODEL_NAME)\n",
    "# データセットの前処理\n",
    "add_data = preprocess_for_Trainer(add_dataset, tokenizer, max_len=MAX_LEN)"
   ]
  },
  {
   "cell_type": "code",
   "execution_count": null,
   "metadata": {},
   "outputs": [
    {
     "data": {
      "text/plain": [
       "Dataset({\n",
       "    features: ['texts', 'input_ids', 'token_type_ids', 'attention_mask'],\n",
       "    num_rows: 6887\n",
       "})"
      ]
     },
     "execution_count": 19,
     "metadata": {},
     "output_type": "execute_result"
    }
   ],
   "source": [
    "add_data"
   ]
  },
  {
   "cell_type": "code",
   "execution_count": null,
   "metadata": {},
   "outputs": [],
   "source": [
    "import numpy as np"
   ]
  },
  {
   "cell_type": "code",
   "execution_count": null,
   "metadata": {},
   "outputs": [
    {
     "data": {
      "text/html": [],
      "text/plain": [
       "<IPython.core.display.HTML object>"
      ]
     },
     "metadata": {},
     "output_type": "display_data"
    }
   ],
   "source": [
    "prediction = trainer.predict(add_data)"
   ]
  },
  {
   "cell_type": "code",
   "execution_count": null,
   "metadata": {},
   "outputs": [],
   "source": [
    "import torch"
   ]
  },
  {
   "cell_type": "code",
   "execution_count": null,
   "metadata": {},
   "outputs": [
    {
     "data": {
      "text/plain": [
       "tensor([[0.2034, 0.5783],\n",
       "        [0.1482, 0.6651],\n",
       "        [0.5333, 0.4985],\n",
       "        ...,\n",
       "        [0.4281, 0.6999],\n",
       "        [0.1768, 0.6997],\n",
       "        [0.6294, 0.5123]])"
      ]
     },
     "execution_count": 21,
     "metadata": {},
     "output_type": "execute_result"
    }
   ],
   "source": [
    "logits = torch.from_numpy(prediction.predictions)\n",
    "predictions_proba = torch.sigmoid(logits)\n",
    "predictions_proba"
   ]
  },
  {
   "cell_type": "markdown",
   "metadata": {},
   "source": [
    "<a id='section2-6'></a>\n",
    "### 2.6 wandb終了"
   ]
  },
  {
   "cell_type": "code",
   "execution_count": null,
   "metadata": {},
   "outputs": [],
   "source": [
    "wandb.finish()"
   ]
  },
  {
   "cell_type": "markdown",
   "metadata": {},
   "source": [
    "<a id='section3-1'></a>\n",
    "## 3.1 Cross Validation"
   ]
  },
  {
   "cell_type": "code",
   "execution_count": 5,
   "metadata": {},
   "outputs": [],
   "source": [
    "# 辞書型でデータ取得\n",
    "data = load_dataset_2class_classification(f\"{DATASET_PATH}/act_classification_final_ChatGPT4.xlsx\")"
   ]
  },
  {
   "cell_type": "code",
   "execution_count": 6,
   "metadata": {},
   "outputs": [],
   "source": [
    "# 東北大BERT-v3\n",
    "MODEL_NAME = 'cl-tohoku/bert-base-japanese-v3'\n",
    "Classifier_model = ActClassifier(model_name = MODEL_NAME, num_labels=2, seed=SEED)"
   ]
  },
  {
   "cell_type": "code",
   "execution_count": 7,
   "metadata": {},
   "outputs": [],
   "source": [
    "# testデータと訓練に使用するデータに分割\n",
    "dataset, test_data, a, b = split_test_data_stratify(data=data, test_size=0.1, SEED=SEED)"
   ]
  },
  {
   "cell_type": "code",
   "execution_count": 8,
   "metadata": {},
   "outputs": [
    {
     "name": "stdout",
     "output_type": "stream",
     "text": [
      "-----------------Fold: 1-----------------\n"
     ]
    },
    {
     "name": "stderr",
     "output_type": "stream",
     "text": [
      "Some weights of BertForSequenceClassification were not initialized from the model checkpoint at cl-tohoku/bert-base-japanese-v3 and are newly initialized: ['classifier.bias', 'classifier.weight']\n",
      "You should probably TRAIN this model on a down-stream task to be able to use it for predictions and inference.\n",
      "Parameter 'fn_kwargs'={'tokenizer': BertJapaneseTokenizer(name_or_path='cl-tohoku/bert-base-japanese-v3', vocab_size=32768, model_max_length=512, is_fast=False, padding_side='right', truncation_side='right', special_tokens={'unk_token': '[UNK]', 'sep_token': '[SEP]', 'pad_token': '[PAD]', 'cls_token': '[CLS]', 'mask_token': '[MASK]'}, clean_up_tokenization_spaces=True),  added_tokens_decoder={\n",
      "\t0: AddedToken(\"[PAD]\", rstrip=False, lstrip=False, single_word=False, normalized=False, special=True),\n",
      "\t1: AddedToken(\"[UNK]\", rstrip=False, lstrip=False, single_word=False, normalized=False, special=True),\n",
      "\t2: AddedToken(\"[CLS]\", rstrip=False, lstrip=False, single_word=False, normalized=False, special=True),\n",
      "\t3: AddedToken(\"[SEP]\", rstrip=False, lstrip=False, single_word=False, normalized=False, special=True),\n",
      "\t4: AddedToken(\"[MASK]\", rstrip=False, lstrip=False, single_word=False, normalized=False, special=True),\n",
      "}, 'max_len': 128} of the transform datasets.arrow_dataset.Dataset._map_single couldn't be hashed properly, a random hash was used instead. Make sure your transforms and parameters are serializable with pickle or dill for the dataset fingerprinting and caching to work. If you reuse this transform, the caching mechanism will consider it to be different from the previous calls and recompute everything. This warning is only showed once. Subsequent hashing failures won't be showed.\n"
     ]
    },
    {
     "data": {
      "application/vnd.jupyter.widget-view+json": {
       "model_id": "1d0ced6e221246e1ad99f5830d184d62",
       "version_major": 2,
       "version_minor": 0
      },
      "text/plain": [
       "Map:   0%|          | 0/864 [00:00<?, ? examples/s]"
      ]
     },
     "metadata": {},
     "output_type": "display_data"
    },
    {
     "data": {
      "application/vnd.jupyter.widget-view+json": {
       "model_id": "25a01568daa74bcf8d2a1182a1421044",
       "version_major": 2,
       "version_minor": 0
      },
      "text/plain": [
       "Map:   0%|          | 0/216 [00:00<?, ? examples/s]"
      ]
     },
     "metadata": {},
     "output_type": "display_data"
    },
    {
     "data": {
      "text/html": [
       "\n",
       "    <div>\n",
       "      \n",
       "      <progress value='270' max='5400' style='width:300px; height:20px; vertical-align: middle;'></progress>\n",
       "      [ 270/5400 00:49 < 15:40, 5.46 it/s, Epoch 5/100]\n",
       "    </div>\n",
       "    <table border=\"1\" class=\"dataframe\">\n",
       "  <thead>\n",
       " <tr style=\"text-align: left;\">\n",
       "      <th>Epoch</th>\n",
       "      <th>Training Loss</th>\n",
       "      <th>Validation Loss</th>\n",
       "      <th>Accuracy</th>\n",
       "      <th>F1</th>\n",
       "    </tr>\n",
       "  </thead>\n",
       "  <tbody>\n",
       "    <tr>\n",
       "      <td>1</td>\n",
       "      <td>0.789500</td>\n",
       "      <td>0.677569</td>\n",
       "      <td>0.592593</td>\n",
       "      <td>0.531500</td>\n",
       "    </tr>\n",
       "    <tr>\n",
       "      <td>2</td>\n",
       "      <td>0.634400</td>\n",
       "      <td>0.619041</td>\n",
       "      <td>0.629630</td>\n",
       "      <td>0.629630</td>\n",
       "    </tr>\n",
       "    <tr>\n",
       "      <td>3</td>\n",
       "      <td>0.523900</td>\n",
       "      <td>0.589360</td>\n",
       "      <td>0.699074</td>\n",
       "      <td>0.698292</td>\n",
       "    </tr>\n",
       "    <tr>\n",
       "      <td>4</td>\n",
       "      <td>0.368900</td>\n",
       "      <td>0.639660</td>\n",
       "      <td>0.699074</td>\n",
       "      <td>0.699068</td>\n",
       "    </tr>\n",
       "    <tr>\n",
       "      <td>5</td>\n",
       "      <td>0.143700</td>\n",
       "      <td>0.923452</td>\n",
       "      <td>0.694444</td>\n",
       "      <td>0.694025</td>\n",
       "    </tr>\n",
       "  </tbody>\n",
       "</table><p>"
      ],
      "text/plain": [
       "<IPython.core.display.HTML object>"
      ]
     },
     "metadata": {},
     "output_type": "display_data"
    },
    {
     "data": {
      "application/vnd.jupyter.widget-view+json": {
       "model_id": "55c2556bf33e4f90a500c44076283555",
       "version_major": 2,
       "version_minor": 0
      },
      "text/plain": [
       "Map:   0%|          | 0/120 [00:00<?, ? examples/s]"
      ]
     },
     "metadata": {},
     "output_type": "display_data"
    },
    {
     "data": {
      "text/html": [
       "\n",
       "    <div>\n",
       "      \n",
       "      <progress value='8' max='8' style='width:300px; height:20px; vertical-align: middle;'></progress>\n",
       "      [8/8 00:00]\n",
       "    </div>\n",
       "    "
      ],
      "text/plain": [
       "<IPython.core.display.HTML object>"
      ]
     },
     "metadata": {},
     "output_type": "display_data"
    },
    {
     "name": "stdout",
     "output_type": "stream",
     "text": [
      "{'eval_loss': 0.5667014718055725, 'eval_accuracy': 0.7333333333333333, 'eval_f1': 0.7314685314685314, 'eval_runtime': 0.3797, 'eval_samples_per_second': 316.054, 'eval_steps_per_second': 21.07, 'epoch': 5.0}\n",
      "-----------------Fold: 2-----------------\n"
     ]
    },
    {
     "name": "stderr",
     "output_type": "stream",
     "text": [
      "Some weights of BertForSequenceClassification were not initialized from the model checkpoint at cl-tohoku/bert-base-japanese-v3 and are newly initialized: ['classifier.bias', 'classifier.weight']\n",
      "You should probably TRAIN this model on a down-stream task to be able to use it for predictions and inference.\n"
     ]
    },
    {
     "data": {
      "application/vnd.jupyter.widget-view+json": {
       "model_id": "fd820f9e173847d48960b9256d3856e4",
       "version_major": 2,
       "version_minor": 0
      },
      "text/plain": [
       "Map:   0%|          | 0/864 [00:00<?, ? examples/s]"
      ]
     },
     "metadata": {},
     "output_type": "display_data"
    },
    {
     "data": {
      "application/vnd.jupyter.widget-view+json": {
       "model_id": "9f98ef1643794b969624225d089566b0",
       "version_major": 2,
       "version_minor": 0
      },
      "text/plain": [
       "Map:   0%|          | 0/216 [00:00<?, ? examples/s]"
      ]
     },
     "metadata": {},
     "output_type": "display_data"
    },
    {
     "name": "stderr",
     "output_type": "stream",
     "text": [
      "wandb: WARNING Source type is set to 'repo' but some required information is missing from the environment. A job will not be created from this run. See https://docs.wandb.ai/guides/launch/create-job\n"
     ]
    },
    {
     "data": {
      "application/vnd.jupyter.widget-view+json": {
       "model_id": "5f5c0619f4bf44eeabddf5e05bf1ad80",
       "version_major": 2,
       "version_minor": 0
      },
      "text/plain": [
       "VBox(children=(Label(value='Waiting for wandb.init()...\\r'), FloatProgress(value=0.011112357329370246, max=1.0…"
      ]
     },
     "metadata": {},
     "output_type": "display_data"
    },
    {
     "data": {
      "text/html": [
       "\n",
       "    <div>\n",
       "      \n",
       "      <progress value='270' max='5400' style='width:300px; height:20px; vertical-align: middle;'></progress>\n",
       "      [ 270/5400 00:48 < 15:29, 5.52 it/s, Epoch 5/100]\n",
       "    </div>\n",
       "    <table border=\"1\" class=\"dataframe\">\n",
       "  <thead>\n",
       " <tr style=\"text-align: left;\">\n",
       "      <th>Epoch</th>\n",
       "      <th>Training Loss</th>\n",
       "      <th>Validation Loss</th>\n",
       "      <th>Accuracy</th>\n",
       "      <th>F1</th>\n",
       "    </tr>\n",
       "  </thead>\n",
       "  <tbody>\n",
       "    <tr>\n",
       "      <td>1</td>\n",
       "      <td>0.702900</td>\n",
       "      <td>0.646559</td>\n",
       "      <td>0.648148</td>\n",
       "      <td>0.641227</td>\n",
       "    </tr>\n",
       "    <tr>\n",
       "      <td>2</td>\n",
       "      <td>0.622100</td>\n",
       "      <td>0.562556</td>\n",
       "      <td>0.703704</td>\n",
       "      <td>0.702786</td>\n",
       "    </tr>\n",
       "    <tr>\n",
       "      <td>3</td>\n",
       "      <td>0.532600</td>\n",
       "      <td>0.554245</td>\n",
       "      <td>0.736111</td>\n",
       "      <td>0.736060</td>\n",
       "    </tr>\n",
       "    <tr>\n",
       "      <td>4</td>\n",
       "      <td>0.381400</td>\n",
       "      <td>0.631185</td>\n",
       "      <td>0.671296</td>\n",
       "      <td>0.671120</td>\n",
       "    </tr>\n",
       "    <tr>\n",
       "      <td>5</td>\n",
       "      <td>0.206500</td>\n",
       "      <td>0.869023</td>\n",
       "      <td>0.689815</td>\n",
       "      <td>0.687396</td>\n",
       "    </tr>\n",
       "  </tbody>\n",
       "</table><p>"
      ],
      "text/plain": [
       "<IPython.core.display.HTML object>"
      ]
     },
     "metadata": {},
     "output_type": "display_data"
    },
    {
     "data": {
      "application/vnd.jupyter.widget-view+json": {
       "model_id": "3246351148174053a475c42be088fd95",
       "version_major": 2,
       "version_minor": 0
      },
      "text/plain": [
       "Map:   0%|          | 0/120 [00:00<?, ? examples/s]"
      ]
     },
     "metadata": {},
     "output_type": "display_data"
    },
    {
     "data": {
      "text/html": [
       "\n",
       "    <div>\n",
       "      \n",
       "      <progress value='8' max='8' style='width:300px; height:20px; vertical-align: middle;'></progress>\n",
       "      [8/8 00:00]\n",
       "    </div>\n",
       "    "
      ],
      "text/plain": [
       "<IPython.core.display.HTML object>"
      ]
     },
     "metadata": {},
     "output_type": "display_data"
    },
    {
     "name": "stdout",
     "output_type": "stream",
     "text": [
      "{'eval_loss': 0.5440957546234131, 'eval_accuracy': 0.7166666666666667, 'eval_f1': 0.7163515016685206, 'eval_runtime': 0.3828, 'eval_samples_per_second': 313.514, 'eval_steps_per_second': 20.901, 'epoch': 5.0}\n",
      "-----------------Fold: 3-----------------\n"
     ]
    },
    {
     "name": "stderr",
     "output_type": "stream",
     "text": [
      "Some weights of BertForSequenceClassification were not initialized from the model checkpoint at cl-tohoku/bert-base-japanese-v3 and are newly initialized: ['classifier.bias', 'classifier.weight']\n",
      "You should probably TRAIN this model on a down-stream task to be able to use it for predictions and inference.\n"
     ]
    },
    {
     "data": {
      "application/vnd.jupyter.widget-view+json": {
       "model_id": "b52d39f8073243768269218633c3c6bf",
       "version_major": 2,
       "version_minor": 0
      },
      "text/plain": [
       "Map:   0%|          | 0/864 [00:00<?, ? examples/s]"
      ]
     },
     "metadata": {},
     "output_type": "display_data"
    },
    {
     "data": {
      "application/vnd.jupyter.widget-view+json": {
       "model_id": "3755bff76f6e4d3e84fd60403bce4ebd",
       "version_major": 2,
       "version_minor": 0
      },
      "text/plain": [
       "Map:   0%|          | 0/216 [00:00<?, ? examples/s]"
      ]
     },
     "metadata": {},
     "output_type": "display_data"
    },
    {
     "name": "stderr",
     "output_type": "stream",
     "text": [
      "wandb: WARNING Source type is set to 'repo' but some required information is missing from the environment. A job will not be created from this run. See https://docs.wandb.ai/guides/launch/create-job\n"
     ]
    },
    {
     "data": {
      "application/vnd.jupyter.widget-view+json": {
       "model_id": "25798e96560f496b8a1f405ed82dfdda",
       "version_major": 2,
       "version_minor": 0
      },
      "text/plain": [
       "VBox(children=(Label(value='Waiting for wandb.init()...\\r'), FloatProgress(value=0.01111243411174251, max=1.0)…"
      ]
     },
     "metadata": {},
     "output_type": "display_data"
    },
    {
     "data": {
      "text/html": [
       "\n",
       "    <div>\n",
       "      \n",
       "      <progress value='270' max='5400' style='width:300px; height:20px; vertical-align: middle;'></progress>\n",
       "      [ 270/5400 00:48 < 15:26, 5.54 it/s, Epoch 5/100]\n",
       "    </div>\n",
       "    <table border=\"1\" class=\"dataframe\">\n",
       "  <thead>\n",
       " <tr style=\"text-align: left;\">\n",
       "      <th>Epoch</th>\n",
       "      <th>Training Loss</th>\n",
       "      <th>Validation Loss</th>\n",
       "      <th>Accuracy</th>\n",
       "      <th>F1</th>\n",
       "    </tr>\n",
       "  </thead>\n",
       "  <tbody>\n",
       "    <tr>\n",
       "      <td>1</td>\n",
       "      <td>0.698000</td>\n",
       "      <td>0.684259</td>\n",
       "      <td>0.546296</td>\n",
       "      <td>0.531806</td>\n",
       "    </tr>\n",
       "    <tr>\n",
       "      <td>2</td>\n",
       "      <td>0.614900</td>\n",
       "      <td>0.627648</td>\n",
       "      <td>0.620370</td>\n",
       "      <td>0.620338</td>\n",
       "    </tr>\n",
       "    <tr>\n",
       "      <td>3</td>\n",
       "      <td>0.543700</td>\n",
       "      <td>0.600899</td>\n",
       "      <td>0.652778</td>\n",
       "      <td>0.650614</td>\n",
       "    </tr>\n",
       "    <tr>\n",
       "      <td>4</td>\n",
       "      <td>0.378500</td>\n",
       "      <td>0.686562</td>\n",
       "      <td>0.662037</td>\n",
       "      <td>0.654929</td>\n",
       "    </tr>\n",
       "    <tr>\n",
       "      <td>5</td>\n",
       "      <td>0.222500</td>\n",
       "      <td>0.966857</td>\n",
       "      <td>0.629630</td>\n",
       "      <td>0.610390</td>\n",
       "    </tr>\n",
       "  </tbody>\n",
       "</table><p>"
      ],
      "text/plain": [
       "<IPython.core.display.HTML object>"
      ]
     },
     "metadata": {},
     "output_type": "display_data"
    },
    {
     "data": {
      "application/vnd.jupyter.widget-view+json": {
       "model_id": "0af61c310e2b49abb38f43180e07b953",
       "version_major": 2,
       "version_minor": 0
      },
      "text/plain": [
       "Map:   0%|          | 0/120 [00:00<?, ? examples/s]"
      ]
     },
     "metadata": {},
     "output_type": "display_data"
    },
    {
     "data": {
      "text/html": [
       "\n",
       "    <div>\n",
       "      \n",
       "      <progress value='8' max='8' style='width:300px; height:20px; vertical-align: middle;'></progress>\n",
       "      [8/8 00:00]\n",
       "    </div>\n",
       "    "
      ],
      "text/plain": [
       "<IPython.core.display.HTML object>"
      ]
     },
     "metadata": {},
     "output_type": "display_data"
    },
    {
     "name": "stdout",
     "output_type": "stream",
     "text": [
      "{'eval_loss': 0.5412334203720093, 'eval_accuracy': 0.7083333333333334, 'eval_f1': 0.7081509276631228, 'eval_runtime': 0.3753, 'eval_samples_per_second': 319.709, 'eval_steps_per_second': 21.314, 'epoch': 5.0}\n",
      "-----------------Fold: 4-----------------\n"
     ]
    },
    {
     "name": "stderr",
     "output_type": "stream",
     "text": [
      "Some weights of BertForSequenceClassification were not initialized from the model checkpoint at cl-tohoku/bert-base-japanese-v3 and are newly initialized: ['classifier.bias', 'classifier.weight']\n",
      "You should probably TRAIN this model on a down-stream task to be able to use it for predictions and inference.\n"
     ]
    },
    {
     "data": {
      "application/vnd.jupyter.widget-view+json": {
       "model_id": "2de0ebe142454937931247cb16ba7c63",
       "version_major": 2,
       "version_minor": 0
      },
      "text/plain": [
       "Map:   0%|          | 0/864 [00:00<?, ? examples/s]"
      ]
     },
     "metadata": {},
     "output_type": "display_data"
    },
    {
     "data": {
      "application/vnd.jupyter.widget-view+json": {
       "model_id": "2c6c9ee69bad439c82738a2176d37e8d",
       "version_major": 2,
       "version_minor": 0
      },
      "text/plain": [
       "Map:   0%|          | 0/216 [00:00<?, ? examples/s]"
      ]
     },
     "metadata": {},
     "output_type": "display_data"
    },
    {
     "name": "stderr",
     "output_type": "stream",
     "text": [
      "wandb: WARNING Source type is set to 'repo' but some required information is missing from the environment. A job will not be created from this run. See https://docs.wandb.ai/guides/launch/create-job\n"
     ]
    },
    {
     "data": {
      "application/vnd.jupyter.widget-view+json": {
       "model_id": "4d873573e25c422598cab3207d23621f",
       "version_major": 2,
       "version_minor": 0
      },
      "text/plain": [
       "VBox(children=(Label(value='Waiting for wandb.init()...\\r'), FloatProgress(value=0.011112335971039203, max=1.0…"
      ]
     },
     "metadata": {},
     "output_type": "display_data"
    },
    {
     "data": {
      "text/html": [
       "\n",
       "    <div>\n",
       "      \n",
       "      <progress value='324' max='5400' style='width:300px; height:20px; vertical-align: middle;'></progress>\n",
       "      [ 324/5400 00:58 < 15:16, 5.54 it/s, Epoch 6/100]\n",
       "    </div>\n",
       "    <table border=\"1\" class=\"dataframe\">\n",
       "  <thead>\n",
       " <tr style=\"text-align: left;\">\n",
       "      <th>Epoch</th>\n",
       "      <th>Training Loss</th>\n",
       "      <th>Validation Loss</th>\n",
       "      <th>Accuracy</th>\n",
       "      <th>F1</th>\n",
       "    </tr>\n",
       "  </thead>\n",
       "  <tbody>\n",
       "    <tr>\n",
       "      <td>1</td>\n",
       "      <td>0.698300</td>\n",
       "      <td>0.654303</td>\n",
       "      <td>0.675926</td>\n",
       "      <td>0.657578</td>\n",
       "    </tr>\n",
       "    <tr>\n",
       "      <td>2</td>\n",
       "      <td>0.630600</td>\n",
       "      <td>0.574250</td>\n",
       "      <td>0.703704</td>\n",
       "      <td>0.702786</td>\n",
       "    </tr>\n",
       "    <tr>\n",
       "      <td>3</td>\n",
       "      <td>0.560700</td>\n",
       "      <td>0.551010</td>\n",
       "      <td>0.754630</td>\n",
       "      <td>0.747212</td>\n",
       "    </tr>\n",
       "    <tr>\n",
       "      <td>4</td>\n",
       "      <td>0.404600</td>\n",
       "      <td>0.510164</td>\n",
       "      <td>0.777778</td>\n",
       "      <td>0.777090</td>\n",
       "    </tr>\n",
       "    <tr>\n",
       "      <td>5</td>\n",
       "      <td>0.251300</td>\n",
       "      <td>0.633037</td>\n",
       "      <td>0.754630</td>\n",
       "      <td>0.753100</td>\n",
       "    </tr>\n",
       "    <tr>\n",
       "      <td>6</td>\n",
       "      <td>0.114900</td>\n",
       "      <td>0.785499</td>\n",
       "      <td>0.754630</td>\n",
       "      <td>0.754624</td>\n",
       "    </tr>\n",
       "  </tbody>\n",
       "</table><p>"
      ],
      "text/plain": [
       "<IPython.core.display.HTML object>"
      ]
     },
     "metadata": {},
     "output_type": "display_data"
    },
    {
     "data": {
      "application/vnd.jupyter.widget-view+json": {
       "model_id": "b65ea19d602d419f94506318940b9da8",
       "version_major": 2,
       "version_minor": 0
      },
      "text/plain": [
       "Map:   0%|          | 0/120 [00:00<?, ? examples/s]"
      ]
     },
     "metadata": {},
     "output_type": "display_data"
    },
    {
     "data": {
      "text/html": [
       "\n",
       "    <div>\n",
       "      \n",
       "      <progress value='8' max='8' style='width:300px; height:20px; vertical-align: middle;'></progress>\n",
       "      [8/8 00:00]\n",
       "    </div>\n",
       "    "
      ],
      "text/plain": [
       "<IPython.core.display.HTML object>"
      ]
     },
     "metadata": {},
     "output_type": "display_data"
    },
    {
     "name": "stdout",
     "output_type": "stream",
     "text": [
      "{'eval_loss': 0.5839369297027588, 'eval_accuracy': 0.7, 'eval_f1': 0.6945701357466063, 'eval_runtime': 0.3819, 'eval_samples_per_second': 314.22, 'eval_steps_per_second': 20.948, 'epoch': 6.0}\n",
      "-----------------Fold: 5-----------------\n"
     ]
    },
    {
     "name": "stderr",
     "output_type": "stream",
     "text": [
      "Some weights of BertForSequenceClassification were not initialized from the model checkpoint at cl-tohoku/bert-base-japanese-v3 and are newly initialized: ['classifier.bias', 'classifier.weight']\n",
      "You should probably TRAIN this model on a down-stream task to be able to use it for predictions and inference.\n"
     ]
    },
    {
     "data": {
      "application/vnd.jupyter.widget-view+json": {
       "model_id": "8048e09c88cb4c25ae91c33fefa2b2a9",
       "version_major": 2,
       "version_minor": 0
      },
      "text/plain": [
       "Map:   0%|          | 0/864 [00:00<?, ? examples/s]"
      ]
     },
     "metadata": {},
     "output_type": "display_data"
    },
    {
     "data": {
      "application/vnd.jupyter.widget-view+json": {
       "model_id": "8558a6b350ba4a4c9e976349df5ba393",
       "version_major": 2,
       "version_minor": 0
      },
      "text/plain": [
       "Map:   0%|          | 0/216 [00:00<?, ? examples/s]"
      ]
     },
     "metadata": {},
     "output_type": "display_data"
    },
    {
     "name": "stderr",
     "output_type": "stream",
     "text": [
      "wandb: WARNING Source type is set to 'repo' but some required information is missing from the environment. A job will not be created from this run. See https://docs.wandb.ai/guides/launch/create-job\n"
     ]
    },
    {
     "data": {
      "application/vnd.jupyter.widget-view+json": {
       "model_id": "3d02bf841980473ab9ea68775a25861a",
       "version_major": 2,
       "version_minor": 0
      },
      "text/plain": [
       "VBox(children=(Label(value='Waiting for wandb.init()...\\r'), FloatProgress(value=0.011112326854426, max=1.0)))"
      ]
     },
     "metadata": {},
     "output_type": "display_data"
    },
    {
     "data": {
      "text/html": [
       "\n",
       "    <div>\n",
       "      \n",
       "      <progress value='270' max='5400' style='width:300px; height:20px; vertical-align: middle;'></progress>\n",
       "      [ 270/5400 00:49 < 15:46, 5.42 it/s, Epoch 5/100]\n",
       "    </div>\n",
       "    <table border=\"1\" class=\"dataframe\">\n",
       "  <thead>\n",
       " <tr style=\"text-align: left;\">\n",
       "      <th>Epoch</th>\n",
       "      <th>Training Loss</th>\n",
       "      <th>Validation Loss</th>\n",
       "      <th>Accuracy</th>\n",
       "      <th>F1</th>\n",
       "    </tr>\n",
       "  </thead>\n",
       "  <tbody>\n",
       "    <tr>\n",
       "      <td>1</td>\n",
       "      <td>0.685700</td>\n",
       "      <td>0.675721</td>\n",
       "      <td>0.592593</td>\n",
       "      <td>0.592278</td>\n",
       "    </tr>\n",
       "    <tr>\n",
       "      <td>2</td>\n",
       "      <td>0.632700</td>\n",
       "      <td>0.639561</td>\n",
       "      <td>0.615741</td>\n",
       "      <td>0.601379</td>\n",
       "    </tr>\n",
       "    <tr>\n",
       "      <td>3</td>\n",
       "      <td>0.523900</td>\n",
       "      <td>0.631208</td>\n",
       "      <td>0.652778</td>\n",
       "      <td>0.651875</td>\n",
       "    </tr>\n",
       "    <tr>\n",
       "      <td>4</td>\n",
       "      <td>0.372300</td>\n",
       "      <td>0.722571</td>\n",
       "      <td>0.666667</td>\n",
       "      <td>0.665951</td>\n",
       "    </tr>\n",
       "    <tr>\n",
       "      <td>5</td>\n",
       "      <td>0.221100</td>\n",
       "      <td>0.887898</td>\n",
       "      <td>0.666667</td>\n",
       "      <td>0.666409</td>\n",
       "    </tr>\n",
       "  </tbody>\n",
       "</table><p>"
      ],
      "text/plain": [
       "<IPython.core.display.HTML object>"
      ]
     },
     "metadata": {},
     "output_type": "display_data"
    },
    {
     "data": {
      "application/vnd.jupyter.widget-view+json": {
       "model_id": "dd2e73d6b0ac4bf1a3a54d9d0d2188e7",
       "version_major": 2,
       "version_minor": 0
      },
      "text/plain": [
       "Map:   0%|          | 0/120 [00:00<?, ? examples/s]"
      ]
     },
     "metadata": {},
     "output_type": "display_data"
    },
    {
     "data": {
      "text/html": [
       "\n",
       "    <div>\n",
       "      \n",
       "      <progress value='8' max='8' style='width:300px; height:20px; vertical-align: middle;'></progress>\n",
       "      [8/8 00:00]\n",
       "    </div>\n",
       "    "
      ],
      "text/plain": [
       "<IPython.core.display.HTML object>"
      ]
     },
     "metadata": {},
     "output_type": "display_data"
    },
    {
     "name": "stdout",
     "output_type": "stream",
     "text": [
      "{'eval_loss': 0.544661283493042, 'eval_accuracy': 0.7, 'eval_f1': 0.6996662958843158, 'eval_runtime': 0.3761, 'eval_samples_per_second': 319.043, 'eval_steps_per_second': 21.27, 'epoch': 5.0}\n"
     ]
    }
   ],
   "source": [
    "result = Classifier_model.cross_validation(dataset, test_data, MAX_LEN, NUM_EPOCHS, LEARNING_RATE, BATCH_SIZE, PATIENCE, NUM_FOLDS, output_dir, project_name='ChatGPT_data_2class_weight')"
   ]
  },
  {
   "cell_type": "code",
   "execution_count": 9,
   "metadata": {},
   "outputs": [
    {
     "name": "stdout",
     "output_type": "stream",
     "text": [
      "Average accuracy: 0.7116666666666667\n",
      "Average Macro f1: 0.7103996199279953\n"
     ]
    }
   ],
   "source": [
    "# 重みなしの場合の結果（cv=5）\n",
    "average_accuracy = sum(d['eval_accuracy'] for d in result)/len(result)\n",
    "average_macro_f1 = sum(d['eval_f1'] for d in result)/len(result)\n",
    "print(\"Average accuracy:\", average_accuracy)\n",
    "print(\"Average Macro f1:\", average_macro_f1)"
   ]
  },
  {
   "cell_type": "code",
   "execution_count": 10,
   "metadata": {},
   "outputs": [
    {
     "name": "stdout",
     "output_type": "stream",
     "text": [
      "Average accuracy: 0.7216666666666667\n",
      "Average Macro f1: 0.7199262505130635\n"
     ]
    }
   ],
   "source": [
    "# 重みありの場合の結果（cv=5）\n",
    "# average_accuracy = sum(d['eval_accuracy'] for d in result)/len(result)\n",
    "# average_macro_f1 = sum(d['eval_f1'] for d in result)/len(result)\n",
    "# print(\"Average accuracy:\", average_accuracy)\n",
    "# print(\"Average Macro f1:\", average_macro_f1)"
   ]
  },
  {
   "cell_type": "markdown",
   "metadata": {},
   "source": [
    "### 全データを用いたモデル作成"
   ]
  },
  {
   "cell_type": "code",
   "execution_count": 9,
   "metadata": {},
   "outputs": [],
   "source": [
    "# 辞書型でデータ取得\n",
    "data = load_dataset_2class_classification(f\"{DATASET_PATH}/act_classification_final_ChatGPT4.xlsx\")"
   ]
  },
  {
   "cell_type": "code",
   "execution_count": 11,
   "metadata": {},
   "outputs": [],
   "source": [
    "# 東北大BERT-v3\n",
    "MODEL_NAME = 'cl-tohoku/bert-base-japanese-v3'\n",
    "Classifier_model = ActClassifier(model_name = MODEL_NAME, num_labels=2, seed=SEED)"
   ]
  },
  {
   "cell_type": "code",
   "execution_count": 14,
   "metadata": {},
   "outputs": [],
   "source": [
    "# testデータと訓練に使用するデータに分割\n",
    "dataset, eval_dataset, a, b = split_test_data_stratify(data=data, test_size=0.2, SEED=SEED)"
   ]
  },
  {
   "cell_type": "code",
   "execution_count": 16,
   "metadata": {},
   "outputs": [
    {
     "name": "stderr",
     "output_type": "stream",
     "text": [
      "Some weights of BertForSequenceClassification were not initialized from the model checkpoint at cl-tohoku/bert-base-japanese-v3 and are newly initialized: ['classifier.bias', 'classifier.weight']\n",
      "You should probably TRAIN this model on a down-stream task to be able to use it for predictions and inference.\n"
     ]
    },
    {
     "data": {
      "application/vnd.jupyter.widget-view+json": {
       "model_id": "e6ab5c6e88274bd09ae1f8dfbd086837",
       "version_major": 2,
       "version_minor": 0
      },
      "text/plain": [
       "Map:   0%|          | 0/960 [00:00<?, ? examples/s]"
      ]
     },
     "metadata": {},
     "output_type": "display_data"
    },
    {
     "data": {
      "application/vnd.jupyter.widget-view+json": {
       "model_id": "1867762af2f34756970cd982f88eb2ef",
       "version_major": 2,
       "version_minor": 0
      },
      "text/plain": [
       "Map:   0%|          | 0/240 [00:00<?, ? examples/s]"
      ]
     },
     "metadata": {},
     "output_type": "display_data"
    },
    {
     "name": "stderr",
     "output_type": "stream",
     "text": [
      "wandb: WARNING Source type is set to 'repo' but some required information is missing from the environment. A job will not be created from this run. See https://docs.wandb.ai/guides/launch/create-job\n"
     ]
    },
    {
     "data": {
      "application/vnd.jupyter.widget-view+json": {
       "model_id": "b2ec248c12104a3cbb904f30a20cbbe4",
       "version_major": 2,
       "version_minor": 0
      },
      "text/plain": [
       "VBox(children=(Label(value='Waiting for wandb.init()...\\r'), FloatProgress(value=0.011112601165142325, max=1.0…"
      ]
     },
     "metadata": {},
     "output_type": "display_data"
    },
    {
     "data": {
      "text/html": [
       "\n",
       "    <div>\n",
       "      \n",
       "      <progress value='300' max='6000' style='width:300px; height:20px; vertical-align: middle;'></progress>\n",
       "      [ 300/6000 00:50 < 16:04, 5.91 it/s, Epoch 5/100]\n",
       "    </div>\n",
       "    <table border=\"1\" class=\"dataframe\">\n",
       "  <thead>\n",
       " <tr style=\"text-align: left;\">\n",
       "      <th>Epoch</th>\n",
       "      <th>Training Loss</th>\n",
       "      <th>Validation Loss</th>\n",
       "      <th>Accuracy</th>\n",
       "      <th>F1</th>\n",
       "    </tr>\n",
       "  </thead>\n",
       "  <tbody>\n",
       "    <tr>\n",
       "      <td>1</td>\n",
       "      <td>0.711400</td>\n",
       "      <td>0.653258</td>\n",
       "      <td>0.637500</td>\n",
       "      <td>0.635672</td>\n",
       "    </tr>\n",
       "    <tr>\n",
       "      <td>2</td>\n",
       "      <td>0.621600</td>\n",
       "      <td>0.589315</td>\n",
       "      <td>0.691667</td>\n",
       "      <td>0.690290</td>\n",
       "    </tr>\n",
       "    <tr>\n",
       "      <td>3</td>\n",
       "      <td>0.510200</td>\n",
       "      <td>0.565273</td>\n",
       "      <td>0.704167</td>\n",
       "      <td>0.703544</td>\n",
       "    </tr>\n",
       "    <tr>\n",
       "      <td>4</td>\n",
       "      <td>0.364400</td>\n",
       "      <td>0.623763</td>\n",
       "      <td>0.683333</td>\n",
       "      <td>0.682540</td>\n",
       "    </tr>\n",
       "    <tr>\n",
       "      <td>5</td>\n",
       "      <td>0.186700</td>\n",
       "      <td>0.816322</td>\n",
       "      <td>0.704167</td>\n",
       "      <td>0.703296</td>\n",
       "    </tr>\n",
       "  </tbody>\n",
       "</table><p>"
      ],
      "text/plain": [
       "<IPython.core.display.HTML object>"
      ]
     },
     "metadata": {},
     "output_type": "display_data"
    }
   ],
   "source": [
    "model = Classifier_model.train_model(dataset, eval_dataset, MAX_LEN, NUM_EPOCHS, LEARNING_RATE, BATCH_SIZE, PATIENCE, output_dir, project_name='ActClassification_2class_5_7', run_name='basic_model')"
   ]
  },
  {
   "cell_type": "code",
   "execution_count": 17,
   "metadata": {},
   "outputs": [
    {
     "data": {
      "text/plain": [
       "<src.my_project.train_v2.SinglelabelTrainer at 0x7f69b0c8a010>"
      ]
     },
     "execution_count": 17,
     "metadata": {},
     "output_type": "execute_result"
    }
   ],
   "source": [
    "model"
   ]
  },
  {
   "cell_type": "code",
   "execution_count": 20,
   "metadata": {},
   "outputs": [
    {
     "name": "stdout",
     "output_type": "stream",
     "text": [
      "<src.my_project.train_v2.SinglelabelTrainer object at 0x7f69b0c8a010>\n"
     ]
    }
   ],
   "source": []
  },
  {
   "cell_type": "markdown",
   "metadata": {},
   "source": [
    "### majority classの精度"
   ]
  },
  {
   "cell_type": "code",
   "execution_count": 8,
   "metadata": {},
   "outputs": [
    {
     "name": "stdout",
     "output_type": "stream",
     "text": [
      "530\n",
      "550\n"
     ]
    }
   ],
   "source": [
    "# リスト型のtest_data['labels']の1の数をカウント\n",
    "print(dataset['labels'].count(1))\n",
    "print(dataset['labels'].count(0))"
   ]
  },
  {
   "cell_type": "code",
   "execution_count": 9,
   "metadata": {},
   "outputs": [],
   "source": [
    "majority_pred = [0 for i in range(len(test_data['labels']))]"
   ]
  },
  {
   "cell_type": "code",
   "execution_count": 10,
   "metadata": {},
   "outputs": [
    {
     "name": "stdout",
     "output_type": "stream",
     "text": [
      "accuracy: 0.5083333333333333\n",
      "Macro f1: 0.33701657458563533\n"
     ]
    }
   ],
   "source": [
    "# majority classの精度\n",
    "accuracy = accuracy_score(y_true=test_data['labels'], y_pred=majority_pred)\n",
    "macro_f1 = f1_score(y_true=test_data['labels'], y_pred=majority_pred, average='macro')\n",
    "print(\"accuracy:\", accuracy)\n",
    "print(\"Macro f1:\", macro_f1)"
   ]
  },
  {
   "cell_type": "code",
   "execution_count": 11,
   "metadata": {},
   "outputs": [
    {
     "data": {
      "text/plain": [
       "array([0.67403315, 0.        ])"
      ]
     },
     "execution_count": 11,
     "metadata": {},
     "output_type": "execute_result"
    }
   ],
   "source": [
    "f1_score(y_true=test_data['labels'], y_pred=majority_pred, average=None, zero_division=0)"
   ]
  },
  {
   "cell_type": "code",
   "execution_count": 13,
   "metadata": {},
   "outputs": [],
   "source": [
    "class_recall = recall_score(y_true=test_data['labels'], y_pred=majority_pred, average=None, zero_division=0)\n",
    "# クラス毎のPrecisionを計算\n",
    "class_precision = precision_score(y_true=test_data['labels'], y_pred=majority_pred, average=None, zero_division=0)"
   ]
  },
  {
   "cell_type": "code",
   "execution_count": 14,
   "metadata": {},
   "outputs": [
    {
     "name": "stdout",
     "output_type": "stream",
     "text": [
      "[1. 0.]\n",
      "[0.50833333 0.        ]\n"
     ]
    }
   ],
   "source": [
    "print(class_recall)\n",
    "print(class_precision)"
   ]
  },
  {
   "cell_type": "code",
   "execution_count": null,
   "metadata": {},
   "outputs": [],
   "source": []
  }
 ],
 "metadata": {
  "kernelspec": {
   "display_name": ".venv",
   "language": "python",
   "name": "python3"
  },
  "language_info": {
   "codemirror_mode": {
    "name": "ipython",
    "version": 3
   },
   "file_extension": ".py",
   "mimetype": "text/x-python",
   "name": "python",
   "nbconvert_exporter": "python",
   "pygments_lexer": "ipython3",
   "version": "3.11.5"
  }
 },
 "nbformat": 4,
 "nbformat_minor": 2
}

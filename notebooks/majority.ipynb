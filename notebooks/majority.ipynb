{
 "cells": [
  {
   "cell_type": "code",
   "execution_count": 1,
   "metadata": {},
   "outputs": [
    {
     "name": "stdout",
     "output_type": "stream",
     "text": [
      "/home/is/akiyoshi-n/my-project\n"
     ]
    }
   ],
   "source": [
    "cd .."
   ]
  },
  {
   "cell_type": "code",
   "execution_count": 2,
   "metadata": {},
   "outputs": [],
   "source": [
    "import os\n",
    "# 使用するGPUを指定. この環境変数の場所は，pytorchをimportする前に入れる\n",
    "os.environ[\"CUDA_VISIBLE_DEVICES\"] = \"0\"\n",
    "from pathlib import Path\n",
    "from datetime import datetime\n",
    "from src.my_project.dataset import load_dataset_2class_classification, split_test_data, load_text_dataset, load_dataset_2class_classification_v2, split_test_data_stratify\n",
    "from src.my_project.train_v2 import ActClassifier\n",
    "from sklearn.model_selection import train_test_split\n",
    "import wandb\n",
    "import os"
   ]
  },
  {
   "cell_type": "code",
   "execution_count": 3,
   "metadata": {},
   "outputs": [],
   "source": [
    "DATASET_PATH = Path('/home/is/akiyoshi-n/my-project/data')\n",
    "# 本日の日付\n",
    "timestamp = datetime.now().strftime(\"%Y-%m-%d\")\n",
    "# 出力先ディレクトリ\n",
    "output_dir = Path('/home/is/akiyoshi-n/my-project/outputs/{}'.format(timestamp))"
   ]
  },
  {
   "cell_type": "code",
   "execution_count": 6,
   "metadata": {},
   "outputs": [],
   "source": [
    "# 最大トークン数\n",
    "MAX_LEN = 128\n",
    "# バッチサイズ\n",
    "BATCH_SIZE = 16\n",
    "# エポック数\n",
    "NUM_EPOCHS = 100\n",
    "# 学習率\n",
    "LEARNING_RATE = 2e-5\n",
    "# Cross Validation時のFold数\n",
    "NUM_FOLDS = 5\n",
    "# 早期停止のための忍耐値\n",
    "PATIENCE = 2\n",
    "# 乱数シード\n",
    "SEED = 2023\n",
    "# クラス数\n",
    "NUM_LABELS = 2"
   ]
  },
  {
   "cell_type": "code",
   "execution_count": 7,
   "metadata": {},
   "outputs": [],
   "source": [
    "# 辞書型でデータ取得\n",
    "data = load_dataset_2class_classification(f\"{DATASET_PATH}/act_classification_final_ChatGPT4.xlsx\")"
   ]
  },
  {
   "cell_type": "code",
   "execution_count": 8,
   "metadata": {},
   "outputs": [],
   "source": [
    "# testデータと訓練に使用するデータに分割\n",
    "dataset, test_data, a, b = split_test_data_stratify(data=data, test_size=0.1, SEED=SEED)"
   ]
  },
  {
   "cell_type": "code",
   "execution_count": 11,
   "metadata": {},
   "outputs": [
    {
     "data": {
      "text/plain": [
       "list"
      ]
     },
     "execution_count": 11,
     "metadata": {},
     "output_type": "execute_result"
    }
   ],
   "source": [
    "type(test_data['labels'])"
   ]
  },
  {
   "cell_type": "code",
   "execution_count": 14,
   "metadata": {},
   "outputs": [
    {
     "name": "stdout",
     "output_type": "stream",
     "text": [
      "59\n",
      "61\n"
     ]
    }
   ],
   "source": [
    "# リスト型のtest_data['labels']の1の数をカウント\n",
    "print(test_data['labels'].count(1))\n",
    "print(test_data['labels'].count(0))"
   ]
  },
  {
   "cell_type": "code",
   "execution_count": 15,
   "metadata": {},
   "outputs": [
    {
     "name": "stdout",
     "output_type": "stream",
     "text": [
      "589\n",
      "611\n"
     ]
    }
   ],
   "source": [
    "print(data['labels'].count(1))\n",
    "print(data['labels'].count(0))"
   ]
  },
  {
   "cell_type": "code",
   "execution_count": null,
   "metadata": {},
   "outputs": [],
   "source": []
  }
 ],
 "metadata": {
  "kernelspec": {
   "display_name": ".venv",
   "language": "python",
   "name": "python3"
  },
  "language_info": {
   "codemirror_mode": {
    "name": "ipython",
    "version": 3
   },
   "file_extension": ".py",
   "mimetype": "text/x-python",
   "name": "python",
   "nbconvert_exporter": "python",
   "pygments_lexer": "ipython3",
   "version": "3.11.5"
  }
 },
 "nbformat": 4,
 "nbformat_minor": 2
}

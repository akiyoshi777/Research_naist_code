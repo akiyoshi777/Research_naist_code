{
 "cells": [
  {
   "cell_type": "markdown",
   "metadata": {},
   "source": [
    "Life storyのテキストデータに対して行動ラベルの予測を行うファイルとする"
   ]
  },
  {
   "cell_type": "code",
   "execution_count": 3,
   "metadata": {},
   "outputs": [
    {
     "name": "stdout",
     "output_type": "stream",
     "text": [
      "/home/is/akiyoshi-n/my-project\n"
     ]
    }
   ],
   "source": [
    "cd .."
   ]
  },
  {
   "cell_type": "code",
   "execution_count": 8,
   "metadata": {},
   "outputs": [],
   "source": [
    "import pandas as pd\n",
    "from pathlib import Path\n",
    "import time\n",
    "from datetime import datetime\n",
    "import torch\n",
    "import torch.nn as nn\n",
    "from torch import cuda\n",
    "from src.my_project.dataset import load_dataset\n",
    "from src.my_project.train import ActClassifier\n",
    "from transformers import BertTokenizer, BertJapaneseTokenizer, BertForSequenceClassification\n",
    "from transformers import AutoTokenizer, AutoModelForMaskedLM"
   ]
  },
  {
   "cell_type": "code",
   "execution_count": 9,
   "metadata": {},
   "outputs": [],
   "source": [
    "DATASET_PATH = Path('/home/is/akiyoshi-n/my-project/data')\n",
    "output_dir = Path('/home/is/akiyoshi-n/my-project/outputs')\n",
    "\n",
    "# デバイスの指定\n",
    "device = \"cuda:1\" if cuda.is_available() else \"cpu\""
   ]
  },
  {
   "cell_type": "code",
   "execution_count": 10,
   "metadata": {},
   "outputs": [],
   "source": [
    "# 今回使用するモデル\n",
    "# 保存したモデルのディレクトリパス\n",
    "model_path = f\"{output_dir}/cl-tohoku/bert-base-japanese-v22023-11-21T20:15:32\"\n",
    "\n",
    "# モデルを読み込む\n",
    "model = BertForSequenceClassification.from_pretrained(model_path)\n",
    "\n",
    "MODEL_NAME = 'cl-tohoku/bert-base-japanese-v2'\n",
    "tokenizer = BertJapaneseTokenizer.from_pretrained(MODEL_NAME)"
   ]
  },
  {
   "cell_type": "code",
   "execution_count": null,
   "metadata": {},
   "outputs": [],
   "source": []
  }
 ],
 "metadata": {
  "kernelspec": {
   "display_name": ".venv",
   "language": "python",
   "name": "python3"
  },
  "language_info": {
   "codemirror_mode": {
    "name": "ipython",
    "version": 3
   },
   "file_extension": ".py",
   "mimetype": "text/x-python",
   "name": "python",
   "nbconvert_exporter": "python",
   "pygments_lexer": "ipython3",
   "version": "3.11.5"
  }
 },
 "nbformat": 4,
 "nbformat_minor": 2
}

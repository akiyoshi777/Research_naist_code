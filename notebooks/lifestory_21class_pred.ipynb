{
 "cells": [
  {
   "cell_type": "markdown",
   "metadata": {},
   "source": [
    "20class分類を行う．"
   ]
  },
  {
   "cell_type": "markdown",
   "metadata": {},
   "source": [
    "# 1. 基本設定"
   ]
  },
  {
   "cell_type": "code",
   "execution_count": 1,
   "metadata": {},
   "outputs": [],
   "source": [
    "import sys\n",
    "sys.path.append('/home/is/akiyoshi-n/my-project')"
   ]
  },
  {
   "cell_type": "markdown",
   "metadata": {},
   "source": [
    "# 2. 使用ライブラリ"
   ]
  },
  {
   "cell_type": "code",
   "execution_count": 2,
   "metadata": {},
   "outputs": [],
   "source": [
    "import os\n",
    "# 使用するGPUを指定. この環境変数の場所は，pytorchをimportする前に入れる\n",
    "os.environ[\"CUDA_VISIBLE_DEVICES\"] = \"1\"\n",
    "from pathlib import Path\n",
    "from datetime import datetime\n",
    "from src.my_project.dataset import load_multiclass_dataset, split_test_data, load_text_dataset, split_multilabel_data\n",
    "from src.my_project.train_v2 import MultiClassClassifier\n",
    "from sklearn.model_selection import train_test_split\n",
    "from src.my_project.dataset import load_multiclass_dataset\n",
    "import wandb\n",
    "import numpy as np"
   ]
  },
  {
   "cell_type": "code",
   "execution_count": 3,
   "metadata": {},
   "outputs": [],
   "source": [
    "DATASET_PATH = Path('/home/is/akiyoshi-n/my-project/data')\n",
    "# 本日の日付\n",
    "timestamp = datetime.now().strftime(\"%Y-%m-%d\")\n",
    "# 出力先ディレクトリ\n",
    "output_dir = Path('/home/is/akiyoshi-n/my-project/outputs/{}'.format(timestamp))"
   ]
  },
  {
   "cell_type": "markdown",
   "metadata": {},
   "source": [
    "### パラメータの設定"
   ]
  },
  {
   "cell_type": "code",
   "execution_count": 4,
   "metadata": {},
   "outputs": [],
   "source": [
    "# 最大トークン数\n",
    "MAX_LEN = 128\n",
    "# バッチサイズ\n",
    "BATCH_SIZE = 16\n",
    "# エポック数\n",
    "NUM_EPOCHS = 100\n",
    "# 学習率\n",
    "LEARNING_RATE = 2e-5\n",
    "# Cross Validation時のFold数\n",
    "NUM_FOLDS = 5\n",
    "# 早期停止のための忍耐値\n",
    "PATIENCE = 3\n",
    "# 乱数シード\n",
    "SEED = 2024\n",
    "# 閾値\n",
    "THRESH = 0.5"
   ]
  },
  {
   "cell_type": "code",
   "execution_count": 5,
   "metadata": {},
   "outputs": [],
   "source": [
    "# データの読み込み\n",
    "data, class_name = load_multiclass_dataset(f\"{DATASET_PATH}/lifestory_GPT+human_annotation.xlsx\")"
   ]
  },
  {
   "cell_type": "code",
   "execution_count": 7,
   "metadata": {},
   "outputs": [
    {
     "data": {
      "text/plain": [
       "array(['1 - A. 睡眠', '1 - B. 身の回りの用事', '1 - C - a. 食事-飲酒あり',\n",
       "       '1 - C - b. 食事-飲酒なし・不明', '2 - A - a. 通勤・通学', '2 - A - b. その他の移動',\n",
       "       '2 - B. 仕事', '2 - C. 学業', '2 - D. 家事', '2 - E. 介護・看護', '2 - F. 育児',\n",
       "       '3 - A. メディア', '3 - B. 買い物', '3 - C - a. 趣味・娯楽-体動かす',\n",
       "       '3 - C - b. 趣味・娯楽-体動かさない', '3 - D - a. 交際-物理的接触',\n",
       "       '3 - D - b. 交際-オンライン的接触', '3 - E. 受診・療養', '3 - F - b. その他の活動',\n",
       "       '4. 行動なし'], dtype=object)"
      ]
     },
     "execution_count": 7,
     "metadata": {},
     "output_type": "execute_result"
    }
   ],
   "source": [
    "class_name"
   ]
  },
  {
   "cell_type": "code",
   "execution_count": 8,
   "metadata": {},
   "outputs": [
    {
     "data": {
      "text/plain": [
       "array([  7,  13,  10,  32,   8,  47,  40,   2,  37,   9,  19,  57,  65,\n",
       "        45,  61,  52,  21,  40,  40, 467])"
      ]
     },
     "execution_count": 8,
     "metadata": {},
     "output_type": "execute_result"
    }
   ],
   "source": [
    "data_labels_np = np.array(data['labels'])\n",
    "data_labels_np.sum(axis=0)"
   ]
  },
  {
   "cell_type": "code",
   "execution_count": 9,
   "metadata": {},
   "outputs": [
    {
     "data": {
      "text/plain": [
       "20"
      ]
     },
     "execution_count": 9,
     "metadata": {},
     "output_type": "execute_result"
    }
   ],
   "source": [
    "# クラス数\n",
    "NUM_LABELS = len(data['labels'][0])\n",
    "NUM_LABELS"
   ]
  },
  {
   "cell_type": "code",
   "execution_count": 8,
   "metadata": {},
   "outputs": [],
   "source": [
    "# 東北大BERT-v3\n",
    "MODEL_NAME = 'cl-tohoku/bert-base-japanese-v3'\n",
    "Classifier_model = MultiClassClassifier(model_name = MODEL_NAME, num_labels=NUM_LABELS, seed=SEED, thresh=THRESH)"
   ]
  },
  {
   "cell_type": "code",
   "execution_count": 9,
   "metadata": {},
   "outputs": [],
   "source": [
    "# 訓練データと評価データを辞書型で抽出\n",
    "train_dataset = {\n",
    "    'texts': [data['texts'][i] for i in range(900)],\n",
    "    'labels': [data['labels'][i] for i in range(900)]\n",
    "}\n",
    "eval_dataset = {\n",
    "    'texts': [data['texts'][i] for i in range(900, 1100)],\n",
    "    'labels': [data['labels'][i] for i in range(900, 1100)]\n",
    "}"
   ]
  },
  {
   "cell_type": "code",
   "execution_count": 10,
   "metadata": {},
   "outputs": [
    {
     "name": "stderr",
     "output_type": "stream",
     "text": [
      "Some weights of BertForSequenceClassification were not initialized from the model checkpoint at cl-tohoku/bert-base-japanese-v3 and are newly initialized: ['classifier.weight', 'classifier.bias']\n",
      "You should probably TRAIN this model on a down-stream task to be able to use it for predictions and inference.\n",
      "Parameter 'fn_kwargs'={'tokenizer': BertJapaneseTokenizer(name_or_path='cl-tohoku/bert-base-japanese-v3', vocab_size=32768, model_max_length=512, is_fast=False, padding_side='right', truncation_side='right', special_tokens={'unk_token': '[UNK]', 'sep_token': '[SEP]', 'pad_token': '[PAD]', 'cls_token': '[CLS]', 'mask_token': '[MASK]'}, clean_up_tokenization_spaces=True),  added_tokens_decoder={\n",
      "\t0: AddedToken(\"[PAD]\", rstrip=False, lstrip=False, single_word=False, normalized=False, special=True),\n",
      "\t1: AddedToken(\"[UNK]\", rstrip=False, lstrip=False, single_word=False, normalized=False, special=True),\n",
      "\t2: AddedToken(\"[CLS]\", rstrip=False, lstrip=False, single_word=False, normalized=False, special=True),\n",
      "\t3: AddedToken(\"[SEP]\", rstrip=False, lstrip=False, single_word=False, normalized=False, special=True),\n",
      "\t4: AddedToken(\"[MASK]\", rstrip=False, lstrip=False, single_word=False, normalized=False, special=True),\n",
      "}, 'max_len': 128} of the transform datasets.arrow_dataset.Dataset._map_single couldn't be hashed properly, a random hash was used instead. Make sure your transforms and parameters are serializable with pickle or dill for the dataset fingerprinting and caching to work. If you reuse this transform, the caching mechanism will consider it to be different from the previous calls and recompute everything. This warning is only showed once. Subsequent hashing failures won't be showed.\n"
     ]
    },
    {
     "data": {
      "application/vnd.jupyter.widget-view+json": {
       "model_id": "3c8de8f0cfe24a62bb47eef3143b662e",
       "version_major": 2,
       "version_minor": 0
      },
      "text/plain": [
       "Map:   0%|          | 0/900 [00:00<?, ? examples/s]"
      ]
     },
     "metadata": {},
     "output_type": "display_data"
    },
    {
     "data": {
      "application/vnd.jupyter.widget-view+json": {
       "model_id": "c2fc591a6f334d41b951c6c53c2c574d",
       "version_major": 2,
       "version_minor": 0
      },
      "text/plain": [
       "Map:   0%|          | 0/200 [00:00<?, ? examples/s]"
      ]
     },
     "metadata": {},
     "output_type": "display_data"
    },
    {
     "data": {
      "text/html": [
       "\n",
       "    <div>\n",
       "      \n",
       "      <progress value='292' max='1900' style='width:300px; height:20px; vertical-align: middle;'></progress>\n",
       "      [ 292/1900 02:26 < 13:29, 1.99 it/s, Epoch 15.32/100]\n",
       "    </div>\n",
       "    <table border=\"1\" class=\"dataframe\">\n",
       "  <thead>\n",
       " <tr style=\"text-align: left;\">\n",
       "      <th>Epoch</th>\n",
       "      <th>Training Loss</th>\n",
       "      <th>Validation Loss</th>\n",
       "      <th>Accuracy</th>\n",
       "      <th>F1</th>\n",
       "    </tr>\n",
       "  </thead>\n",
       "  <tbody>\n",
       "    <tr>\n",
       "      <td>1</td>\n",
       "      <td>0.643300</td>\n",
       "      <td>0.565214</td>\n",
       "      <td>0.060000</td>\n",
       "      <td>0.045160</td>\n",
       "    </tr>\n",
       "    <tr>\n",
       "      <td>2</td>\n",
       "      <td>0.477800</td>\n",
       "      <td>0.353875</td>\n",
       "      <td>0.640000</td>\n",
       "      <td>0.039024</td>\n",
       "    </tr>\n",
       "    <tr>\n",
       "      <td>3</td>\n",
       "      <td>0.304400</td>\n",
       "      <td>0.227531</td>\n",
       "      <td>0.640000</td>\n",
       "      <td>0.039024</td>\n",
       "    </tr>\n",
       "    <tr>\n",
       "      <td>4</td>\n",
       "      <td>0.219600</td>\n",
       "      <td>0.177154</td>\n",
       "      <td>0.640000</td>\n",
       "      <td>0.039024</td>\n",
       "    </tr>\n",
       "    <tr>\n",
       "      <td>5</td>\n",
       "      <td>0.186600</td>\n",
       "      <td>0.156126</td>\n",
       "      <td>0.640000</td>\n",
       "      <td>0.039024</td>\n",
       "    </tr>\n",
       "    <tr>\n",
       "      <td>6</td>\n",
       "      <td>0.170200</td>\n",
       "      <td>0.143990</td>\n",
       "      <td>0.640000</td>\n",
       "      <td>0.039024</td>\n",
       "    </tr>\n",
       "    <tr>\n",
       "      <td>7</td>\n",
       "      <td>0.161600</td>\n",
       "      <td>0.136145</td>\n",
       "      <td>0.640000</td>\n",
       "      <td>0.039144</td>\n",
       "    </tr>\n",
       "    <tr>\n",
       "      <td>8</td>\n",
       "      <td>0.155000</td>\n",
       "      <td>0.130443</td>\n",
       "      <td>0.640000</td>\n",
       "      <td>0.039144</td>\n",
       "    </tr>\n",
       "    <tr>\n",
       "      <td>9</td>\n",
       "      <td>0.150300</td>\n",
       "      <td>0.126370</td>\n",
       "      <td>0.570000</td>\n",
       "      <td>0.038000</td>\n",
       "    </tr>\n",
       "    <tr>\n",
       "      <td>10</td>\n",
       "      <td>0.146500</td>\n",
       "      <td>0.122444</td>\n",
       "      <td>0.535000</td>\n",
       "      <td>0.037943</td>\n",
       "    </tr>\n",
       "    <tr>\n",
       "      <td>11</td>\n",
       "      <td>0.141700</td>\n",
       "      <td>0.119085</td>\n",
       "      <td>0.495000</td>\n",
       "      <td>0.038372</td>\n",
       "    </tr>\n",
       "    <tr>\n",
       "      <td>12</td>\n",
       "      <td>0.137200</td>\n",
       "      <td>0.115391</td>\n",
       "      <td>0.525000</td>\n",
       "      <td>0.039326</td>\n",
       "    </tr>\n",
       "    <tr>\n",
       "      <td>13</td>\n",
       "      <td>0.131400</td>\n",
       "      <td>0.112868</td>\n",
       "      <td>0.580000</td>\n",
       "      <td>0.039863</td>\n",
       "    </tr>\n",
       "    <tr>\n",
       "      <td>14</td>\n",
       "      <td>0.121700</td>\n",
       "      <td>0.111299</td>\n",
       "      <td>0.560000</td>\n",
       "      <td>0.039298</td>\n",
       "    </tr>\n",
       "    <tr>\n",
       "      <td>15</td>\n",
       "      <td>0.113100</td>\n",
       "      <td>0.110891</td>\n",
       "      <td>0.550000</td>\n",
       "      <td>0.038869</td>\n",
       "    </tr>\n",
       "  </tbody>\n",
       "</table><p>"
      ],
      "text/plain": [
       "<IPython.core.display.HTML object>"
      ]
     },
     "metadata": {},
     "output_type": "display_data"
    },
    {
     "ename": "KeyboardInterrupt",
     "evalue": "",
     "output_type": "error",
     "traceback": [
      "\u001b[0;31m---------------------------------------------------------------------------\u001b[0m",
      "\u001b[0;31mKeyboardInterrupt\u001b[0m                         Traceback (most recent call last)",
      "Cell \u001b[0;32mIn[10], line 1\u001b[0m\n\u001b[0;32m----> 1\u001b[0m trainer \u001b[38;5;241m=\u001b[39m \u001b[43mClassifier_model\u001b[49m\u001b[38;5;241;43m.\u001b[39;49m\u001b[43mtrain_model\u001b[49m\u001b[43m(\u001b[49m\u001b[43mtrain_dataset\u001b[49m\u001b[43m,\u001b[49m\u001b[43m \u001b[49m\u001b[43meval_dataset\u001b[49m\u001b[43m,\u001b[49m\u001b[43m \u001b[49m\u001b[43mMAX_LEN\u001b[49m\u001b[43m,\u001b[49m\u001b[43m \u001b[49m\u001b[43mNUM_EPOCHS\u001b[49m\u001b[43m,\u001b[49m\u001b[43m \u001b[49m\u001b[43mLEARNING_RATE\u001b[49m\u001b[43m,\u001b[49m\u001b[43m \u001b[49m\u001b[43mBATCH_SIZE\u001b[49m\u001b[43m,\u001b[49m\u001b[43m \u001b[49m\u001b[43mPATIENCE\u001b[49m\u001b[43m,\u001b[49m\u001b[43m \u001b[49m\u001b[43moutput_dir\u001b[49m\u001b[43m,\u001b[49m\u001b[43m \u001b[49m\u001b[43mproject_name\u001b[49m\u001b[38;5;241;43m=\u001b[39;49m\u001b[38;5;124;43m'\u001b[39;49m\u001b[38;5;124;43m21classMultiClassification\u001b[39;49m\u001b[38;5;124;43m'\u001b[39;49m\u001b[43m,\u001b[49m\u001b[43m \u001b[49m\u001b[43mrun_name\u001b[49m\u001b[38;5;241;43m=\u001b[39;49m\u001b[38;5;124;43m'\u001b[39;49m\u001b[38;5;124;43mtest\u001b[39;49m\u001b[38;5;124;43m'\u001b[39;49m\u001b[43m)\u001b[49m\n",
      "File \u001b[0;32m~/my-project/src/my_project/train_v2.py:246\u001b[0m, in \u001b[0;36mMultiClassClassifier.train_model\u001b[0;34m(self, train_dataset, eval_dataset, MAX_LEN, NUM_EPOCHS, LEARNIG_RATE, BATCH_SIZE, PATIENCE, output_dir, project_name, run_name)\u001b[0m\n\u001b[1;32m    237\u001b[0m \u001b[38;5;66;03m# Trainerの定義\u001b[39;00m\n\u001b[1;32m    238\u001b[0m trainer \u001b[38;5;241m=\u001b[39m MultilabelTrainer(\n\u001b[1;32m    239\u001b[0m     model \u001b[38;5;241m=\u001b[39m model,\n\u001b[1;32m    240\u001b[0m     args \u001b[38;5;241m=\u001b[39m training_args,\n\u001b[0;32m   (...)\u001b[0m\n\u001b[1;32m    244\u001b[0m     callbacks \u001b[38;5;241m=\u001b[39m [EarlyStoppingCallback(early_stopping_patience\u001b[38;5;241m=\u001b[39mPATIENCE)]\n\u001b[1;32m    245\u001b[0m )\n\u001b[0;32m--> 246\u001b[0m \u001b[43mtrainer\u001b[49m\u001b[38;5;241;43m.\u001b[39;49m\u001b[43mtrain\u001b[49m\u001b[43m(\u001b[49m\u001b[43m)\u001b[49m\n\u001b[1;32m    247\u001b[0m \u001b[38;5;28;01mreturn\u001b[39;00m trainer\n",
      "File \u001b[0;32m~/my-project/.venv/lib/python3.11/site-packages/transformers/trainer.py:1537\u001b[0m, in \u001b[0;36mTrainer.train\u001b[0;34m(self, resume_from_checkpoint, trial, ignore_keys_for_eval, **kwargs)\u001b[0m\n\u001b[1;32m   1535\u001b[0m         hf_hub_utils\u001b[38;5;241m.\u001b[39menable_progress_bars()\n\u001b[1;32m   1536\u001b[0m \u001b[38;5;28;01melse\u001b[39;00m:\n\u001b[0;32m-> 1537\u001b[0m     \u001b[38;5;28;01mreturn\u001b[39;00m \u001b[43minner_training_loop\u001b[49m\u001b[43m(\u001b[49m\n\u001b[1;32m   1538\u001b[0m \u001b[43m        \u001b[49m\u001b[43margs\u001b[49m\u001b[38;5;241;43m=\u001b[39;49m\u001b[43margs\u001b[49m\u001b[43m,\u001b[49m\n\u001b[1;32m   1539\u001b[0m \u001b[43m        \u001b[49m\u001b[43mresume_from_checkpoint\u001b[49m\u001b[38;5;241;43m=\u001b[39;49m\u001b[43mresume_from_checkpoint\u001b[49m\u001b[43m,\u001b[49m\n\u001b[1;32m   1540\u001b[0m \u001b[43m        \u001b[49m\u001b[43mtrial\u001b[49m\u001b[38;5;241;43m=\u001b[39;49m\u001b[43mtrial\u001b[49m\u001b[43m,\u001b[49m\n\u001b[1;32m   1541\u001b[0m \u001b[43m        \u001b[49m\u001b[43mignore_keys_for_eval\u001b[49m\u001b[38;5;241;43m=\u001b[39;49m\u001b[43mignore_keys_for_eval\u001b[49m\u001b[43m,\u001b[49m\n\u001b[1;32m   1542\u001b[0m \u001b[43m    \u001b[49m\u001b[43m)\u001b[49m\n",
      "File \u001b[0;32m~/my-project/.venv/lib/python3.11/site-packages/transformers/trainer.py:1854\u001b[0m, in \u001b[0;36mTrainer._inner_training_loop\u001b[0;34m(self, batch_size, args, resume_from_checkpoint, trial, ignore_keys_for_eval)\u001b[0m\n\u001b[1;32m   1851\u001b[0m     \u001b[38;5;28mself\u001b[39m\u001b[38;5;241m.\u001b[39mcontrol \u001b[38;5;241m=\u001b[39m \u001b[38;5;28mself\u001b[39m\u001b[38;5;241m.\u001b[39mcallback_handler\u001b[38;5;241m.\u001b[39mon_step_begin(args, \u001b[38;5;28mself\u001b[39m\u001b[38;5;241m.\u001b[39mstate, \u001b[38;5;28mself\u001b[39m\u001b[38;5;241m.\u001b[39mcontrol)\n\u001b[1;32m   1853\u001b[0m \u001b[38;5;28;01mwith\u001b[39;00m \u001b[38;5;28mself\u001b[39m\u001b[38;5;241m.\u001b[39maccelerator\u001b[38;5;241m.\u001b[39maccumulate(model):\n\u001b[0;32m-> 1854\u001b[0m     tr_loss_step \u001b[38;5;241m=\u001b[39m \u001b[38;5;28;43mself\u001b[39;49m\u001b[38;5;241;43m.\u001b[39;49m\u001b[43mtraining_step\u001b[49m\u001b[43m(\u001b[49m\u001b[43mmodel\u001b[49m\u001b[43m,\u001b[49m\u001b[43m \u001b[49m\u001b[43minputs\u001b[49m\u001b[43m)\u001b[49m\n\u001b[1;32m   1856\u001b[0m \u001b[38;5;28;01mif\u001b[39;00m (\n\u001b[1;32m   1857\u001b[0m     args\u001b[38;5;241m.\u001b[39mlogging_nan_inf_filter\n\u001b[1;32m   1858\u001b[0m     \u001b[38;5;129;01mand\u001b[39;00m \u001b[38;5;129;01mnot\u001b[39;00m is_torch_tpu_available()\n\u001b[1;32m   1859\u001b[0m     \u001b[38;5;129;01mand\u001b[39;00m (torch\u001b[38;5;241m.\u001b[39misnan(tr_loss_step) \u001b[38;5;129;01mor\u001b[39;00m torch\u001b[38;5;241m.\u001b[39misinf(tr_loss_step))\n\u001b[1;32m   1860\u001b[0m ):\n\u001b[1;32m   1861\u001b[0m     \u001b[38;5;66;03m# if loss is nan or inf simply add the average of previous logged losses\u001b[39;00m\n\u001b[1;32m   1862\u001b[0m     tr_loss \u001b[38;5;241m+\u001b[39m\u001b[38;5;241m=\u001b[39m tr_loss \u001b[38;5;241m/\u001b[39m (\u001b[38;5;241m1\u001b[39m \u001b[38;5;241m+\u001b[39m \u001b[38;5;28mself\u001b[39m\u001b[38;5;241m.\u001b[39mstate\u001b[38;5;241m.\u001b[39mglobal_step \u001b[38;5;241m-\u001b[39m \u001b[38;5;28mself\u001b[39m\u001b[38;5;241m.\u001b[39m_globalstep_last_logged)\n",
      "File \u001b[0;32m~/my-project/.venv/lib/python3.11/site-packages/transformers/trainer.py:2735\u001b[0m, in \u001b[0;36mTrainer.training_step\u001b[0;34m(self, model, inputs)\u001b[0m\n\u001b[1;32m   2732\u001b[0m     \u001b[38;5;28;01mreturn\u001b[39;00m loss_mb\u001b[38;5;241m.\u001b[39mreduce_mean()\u001b[38;5;241m.\u001b[39mdetach()\u001b[38;5;241m.\u001b[39mto(\u001b[38;5;28mself\u001b[39m\u001b[38;5;241m.\u001b[39margs\u001b[38;5;241m.\u001b[39mdevice)\n\u001b[1;32m   2734\u001b[0m \u001b[38;5;28;01mwith\u001b[39;00m \u001b[38;5;28mself\u001b[39m\u001b[38;5;241m.\u001b[39mcompute_loss_context_manager():\n\u001b[0;32m-> 2735\u001b[0m     loss \u001b[38;5;241m=\u001b[39m \u001b[38;5;28;43mself\u001b[39;49m\u001b[38;5;241;43m.\u001b[39;49m\u001b[43mcompute_loss\u001b[49m\u001b[43m(\u001b[49m\u001b[43mmodel\u001b[49m\u001b[43m,\u001b[49m\u001b[43m \u001b[49m\u001b[43minputs\u001b[49m\u001b[43m)\u001b[49m\n\u001b[1;32m   2737\u001b[0m \u001b[38;5;28;01mif\u001b[39;00m \u001b[38;5;28mself\u001b[39m\u001b[38;5;241m.\u001b[39margs\u001b[38;5;241m.\u001b[39mn_gpu \u001b[38;5;241m>\u001b[39m \u001b[38;5;241m1\u001b[39m:\n\u001b[1;32m   2738\u001b[0m     loss \u001b[38;5;241m=\u001b[39m loss\u001b[38;5;241m.\u001b[39mmean()  \u001b[38;5;66;03m# mean() to average on multi-gpu parallel training\u001b[39;00m\n",
      "File \u001b[0;32m~/my-project/src/my_project/train_v2.py:163\u001b[0m, in \u001b[0;36mMultilabelTrainer.compute_loss\u001b[0;34m(self, model, inputs, return_outputs)\u001b[0m\n\u001b[1;32m    161\u001b[0m \u001b[38;5;66;03m# 重みが無限大になるのを防ぐための処理\u001b[39;00m\n\u001b[1;32m    162\u001b[0m class_weights[torch\u001b[38;5;241m.\u001b[39misinf(class_weights)] \u001b[38;5;241m=\u001b[39m \u001b[38;5;241m0\u001b[39m\n\u001b[0;32m--> 163\u001b[0m outputs \u001b[38;5;241m=\u001b[39m \u001b[43mmodel\u001b[49m\u001b[43m(\u001b[49m\u001b[38;5;241;43m*\u001b[39;49m\u001b[38;5;241;43m*\u001b[39;49m\u001b[43minputs\u001b[49m\u001b[43m)\u001b[49m\n\u001b[1;32m    164\u001b[0m logits \u001b[38;5;241m=\u001b[39m outputs\u001b[38;5;241m.\u001b[39mlogits\n\u001b[1;32m    165\u001b[0m loss_fct \u001b[38;5;241m=\u001b[39m nn\u001b[38;5;241m.\u001b[39mBCEWithLogitsLoss() \u001b[38;5;66;03m# 多クラス分類の場合\u001b[39;00m\n",
      "File \u001b[0;32m~/my-project/.venv/lib/python3.11/site-packages/torch/nn/modules/module.py:1501\u001b[0m, in \u001b[0;36mModule._call_impl\u001b[0;34m(self, *args, **kwargs)\u001b[0m\n\u001b[1;32m   1496\u001b[0m \u001b[38;5;66;03m# If we don't have any hooks, we want to skip the rest of the logic in\u001b[39;00m\n\u001b[1;32m   1497\u001b[0m \u001b[38;5;66;03m# this function, and just call forward.\u001b[39;00m\n\u001b[1;32m   1498\u001b[0m \u001b[38;5;28;01mif\u001b[39;00m \u001b[38;5;129;01mnot\u001b[39;00m (\u001b[38;5;28mself\u001b[39m\u001b[38;5;241m.\u001b[39m_backward_hooks \u001b[38;5;129;01mor\u001b[39;00m \u001b[38;5;28mself\u001b[39m\u001b[38;5;241m.\u001b[39m_backward_pre_hooks \u001b[38;5;129;01mor\u001b[39;00m \u001b[38;5;28mself\u001b[39m\u001b[38;5;241m.\u001b[39m_forward_hooks \u001b[38;5;129;01mor\u001b[39;00m \u001b[38;5;28mself\u001b[39m\u001b[38;5;241m.\u001b[39m_forward_pre_hooks\n\u001b[1;32m   1499\u001b[0m         \u001b[38;5;129;01mor\u001b[39;00m _global_backward_pre_hooks \u001b[38;5;129;01mor\u001b[39;00m _global_backward_hooks\n\u001b[1;32m   1500\u001b[0m         \u001b[38;5;129;01mor\u001b[39;00m _global_forward_hooks \u001b[38;5;129;01mor\u001b[39;00m _global_forward_pre_hooks):\n\u001b[0;32m-> 1501\u001b[0m     \u001b[38;5;28;01mreturn\u001b[39;00m \u001b[43mforward_call\u001b[49m\u001b[43m(\u001b[49m\u001b[38;5;241;43m*\u001b[39;49m\u001b[43margs\u001b[49m\u001b[43m,\u001b[49m\u001b[43m \u001b[49m\u001b[38;5;241;43m*\u001b[39;49m\u001b[38;5;241;43m*\u001b[39;49m\u001b[43mkwargs\u001b[49m\u001b[43m)\u001b[49m\n\u001b[1;32m   1502\u001b[0m \u001b[38;5;66;03m# Do not call functions when jit is used\u001b[39;00m\n\u001b[1;32m   1503\u001b[0m full_backward_hooks, non_full_backward_hooks \u001b[38;5;241m=\u001b[39m [], []\n",
      "File \u001b[0;32m~/my-project/.venv/lib/python3.11/site-packages/torch/nn/parallel/data_parallel.py:171\u001b[0m, in \u001b[0;36mDataParallel.forward\u001b[0;34m(self, *inputs, **kwargs)\u001b[0m\n\u001b[1;32m    169\u001b[0m     \u001b[38;5;28;01mreturn\u001b[39;00m \u001b[38;5;28mself\u001b[39m\u001b[38;5;241m.\u001b[39mmodule(\u001b[38;5;241m*\u001b[39minputs[\u001b[38;5;241m0\u001b[39m], \u001b[38;5;241m*\u001b[39m\u001b[38;5;241m*\u001b[39mkwargs[\u001b[38;5;241m0\u001b[39m])\n\u001b[1;32m    170\u001b[0m replicas \u001b[38;5;241m=\u001b[39m \u001b[38;5;28mself\u001b[39m\u001b[38;5;241m.\u001b[39mreplicate(\u001b[38;5;28mself\u001b[39m\u001b[38;5;241m.\u001b[39mmodule, \u001b[38;5;28mself\u001b[39m\u001b[38;5;241m.\u001b[39mdevice_ids[:\u001b[38;5;28mlen\u001b[39m(inputs)])\n\u001b[0;32m--> 171\u001b[0m outputs \u001b[38;5;241m=\u001b[39m \u001b[38;5;28;43mself\u001b[39;49m\u001b[38;5;241;43m.\u001b[39;49m\u001b[43mparallel_apply\u001b[49m\u001b[43m(\u001b[49m\u001b[43mreplicas\u001b[49m\u001b[43m,\u001b[49m\u001b[43m \u001b[49m\u001b[43minputs\u001b[49m\u001b[43m,\u001b[49m\u001b[43m \u001b[49m\u001b[43mkwargs\u001b[49m\u001b[43m)\u001b[49m\n\u001b[1;32m    172\u001b[0m \u001b[38;5;28;01mreturn\u001b[39;00m \u001b[38;5;28mself\u001b[39m\u001b[38;5;241m.\u001b[39mgather(outputs, \u001b[38;5;28mself\u001b[39m\u001b[38;5;241m.\u001b[39moutput_device)\n",
      "File \u001b[0;32m~/my-project/.venv/lib/python3.11/site-packages/torch/nn/parallel/data_parallel.py:181\u001b[0m, in \u001b[0;36mDataParallel.parallel_apply\u001b[0;34m(self, replicas, inputs, kwargs)\u001b[0m\n\u001b[1;32m    180\u001b[0m \u001b[38;5;28;01mdef\u001b[39;00m \u001b[38;5;21mparallel_apply\u001b[39m(\u001b[38;5;28mself\u001b[39m, replicas, inputs, kwargs):\n\u001b[0;32m--> 181\u001b[0m     \u001b[38;5;28;01mreturn\u001b[39;00m \u001b[43mparallel_apply\u001b[49m\u001b[43m(\u001b[49m\u001b[43mreplicas\u001b[49m\u001b[43m,\u001b[49m\u001b[43m \u001b[49m\u001b[43minputs\u001b[49m\u001b[43m,\u001b[49m\u001b[43m \u001b[49m\u001b[43mkwargs\u001b[49m\u001b[43m,\u001b[49m\u001b[43m \u001b[49m\u001b[38;5;28;43mself\u001b[39;49m\u001b[38;5;241;43m.\u001b[39;49m\u001b[43mdevice_ids\u001b[49m\u001b[43m[\u001b[49m\u001b[43m:\u001b[49m\u001b[38;5;28;43mlen\u001b[39;49m\u001b[43m(\u001b[49m\u001b[43mreplicas\u001b[49m\u001b[43m)\u001b[49m\u001b[43m]\u001b[49m\u001b[43m)\u001b[49m\n",
      "File \u001b[0;32m~/my-project/.venv/lib/python3.11/site-packages/torch/nn/parallel/parallel_apply.py:81\u001b[0m, in \u001b[0;36mparallel_apply\u001b[0;34m(modules, inputs, kwargs_tup, devices)\u001b[0m\n\u001b[1;32m     79\u001b[0m         thread\u001b[38;5;241m.\u001b[39mstart()\n\u001b[1;32m     80\u001b[0m     \u001b[38;5;28;01mfor\u001b[39;00m thread \u001b[38;5;129;01min\u001b[39;00m threads:\n\u001b[0;32m---> 81\u001b[0m         \u001b[43mthread\u001b[49m\u001b[38;5;241;43m.\u001b[39;49m\u001b[43mjoin\u001b[49m\u001b[43m(\u001b[49m\u001b[43m)\u001b[49m\n\u001b[1;32m     82\u001b[0m \u001b[38;5;28;01melse\u001b[39;00m:\n\u001b[1;32m     83\u001b[0m     _worker(\u001b[38;5;241m0\u001b[39m, modules[\u001b[38;5;241m0\u001b[39m], inputs[\u001b[38;5;241m0\u001b[39m], kwargs_tup[\u001b[38;5;241m0\u001b[39m], devices[\u001b[38;5;241m0\u001b[39m], streams[\u001b[38;5;241m0\u001b[39m])\n",
      "File \u001b[0;32m~/.rye/py/cpython@3.11.5/install/lib/python3.11/threading.py:1112\u001b[0m, in \u001b[0;36mThread.join\u001b[0;34m(self, timeout)\u001b[0m\n\u001b[1;32m   1109\u001b[0m     \u001b[38;5;28;01mraise\u001b[39;00m \u001b[38;5;167;01mRuntimeError\u001b[39;00m(\u001b[38;5;124m\"\u001b[39m\u001b[38;5;124mcannot join current thread\u001b[39m\u001b[38;5;124m\"\u001b[39m)\n\u001b[1;32m   1111\u001b[0m \u001b[38;5;28;01mif\u001b[39;00m timeout \u001b[38;5;129;01mis\u001b[39;00m \u001b[38;5;28;01mNone\u001b[39;00m:\n\u001b[0;32m-> 1112\u001b[0m     \u001b[38;5;28;43mself\u001b[39;49m\u001b[38;5;241;43m.\u001b[39;49m\u001b[43m_wait_for_tstate_lock\u001b[49m\u001b[43m(\u001b[49m\u001b[43m)\u001b[49m\n\u001b[1;32m   1113\u001b[0m \u001b[38;5;28;01melse\u001b[39;00m:\n\u001b[1;32m   1114\u001b[0m     \u001b[38;5;66;03m# the behavior of a negative timeout isn't documented, but\u001b[39;00m\n\u001b[1;32m   1115\u001b[0m     \u001b[38;5;66;03m# historically .join(timeout=x) for x<0 has acted as if timeout=0\u001b[39;00m\n\u001b[1;32m   1116\u001b[0m     \u001b[38;5;28mself\u001b[39m\u001b[38;5;241m.\u001b[39m_wait_for_tstate_lock(timeout\u001b[38;5;241m=\u001b[39m\u001b[38;5;28mmax\u001b[39m(timeout, \u001b[38;5;241m0\u001b[39m))\n",
      "File \u001b[0;32m~/.rye/py/cpython@3.11.5/install/lib/python3.11/threading.py:1132\u001b[0m, in \u001b[0;36mThread._wait_for_tstate_lock\u001b[0;34m(self, block, timeout)\u001b[0m\n\u001b[1;32m   1129\u001b[0m     \u001b[38;5;28;01mreturn\u001b[39;00m\n\u001b[1;32m   1131\u001b[0m \u001b[38;5;28;01mtry\u001b[39;00m:\n\u001b[0;32m-> 1132\u001b[0m     \u001b[38;5;28;01mif\u001b[39;00m \u001b[43mlock\u001b[49m\u001b[38;5;241;43m.\u001b[39;49m\u001b[43macquire\u001b[49m\u001b[43m(\u001b[49m\u001b[43mblock\u001b[49m\u001b[43m,\u001b[49m\u001b[43m \u001b[49m\u001b[43mtimeout\u001b[49m\u001b[43m)\u001b[49m:\n\u001b[1;32m   1133\u001b[0m         lock\u001b[38;5;241m.\u001b[39mrelease()\n\u001b[1;32m   1134\u001b[0m         \u001b[38;5;28mself\u001b[39m\u001b[38;5;241m.\u001b[39m_stop()\n",
      "\u001b[0;31mKeyboardInterrupt\u001b[0m: "
     ]
    }
   ],
   "source": [
    "trainer = Classifier_model.train_model(train_dataset, eval_dataset, MAX_LEN, NUM_EPOCHS, LEARNING_RATE, BATCH_SIZE, PATIENCE, output_dir, project_name='21classMultiClassification', run_name='test')"
   ]
  },
  {
   "cell_type": "markdown",
   "metadata": {},
   "source": [
    "### Cross Validation"
   ]
  },
  {
   "cell_type": "code",
   "execution_count": 10,
   "metadata": {},
   "outputs": [],
   "source": [
    "# 東北大BERT-v3\n",
    "MODEL_NAME = 'cl-tohoku/bert-base-japanese-v3'\n",
    "Classifier_model = MultiClassClassifier(model_name=MODEL_NAME, num_labels=NUM_LABELS, seed=SEED, thresh=THRESH)"
   ]
  },
  {
   "cell_type": "code",
   "execution_count": 11,
   "metadata": {},
   "outputs": [],
   "source": [
    "# testデータと訓練に使用するデータに分割\n",
    "dataset, test_data, train_index, test_index = split_test_data(data=data, test_size=0.2, SEED=SEED)"
   ]
  },
  {
   "cell_type": "code",
   "execution_count": 13,
   "metadata": {},
   "outputs": [
    {
     "name": "stdout",
     "output_type": "stream",
     "text": [
      "[  5  10   7  28   7  39  32   1  26   7  15  46  50  38  48  45  18  29\n",
      "  33 374]\n",
      "[ 2  3  3  4  1  8  8  1 11  2  4 11 15  7 13  7  3 11  7 93]\n"
     ]
    }
   ],
   "source": [
    "print(np.array(dataset['labels']).sum(axis=0))\n",
    "print(np.array(test_data['labels']).sum(axis=0))"
   ]
  },
  {
   "cell_type": "code",
   "execution_count": 14,
   "metadata": {},
   "outputs": [
    {
     "name": "stdout",
     "output_type": "stream",
     "text": [
      "-----------------Fold: 1-----------------\n"
     ]
    },
    {
     "name": "stderr",
     "output_type": "stream",
     "text": [
      "Some weights of BertForSequenceClassification were not initialized from the model checkpoint at cl-tohoku/bert-base-japanese-v3 and are newly initialized: ['classifier.bias', 'classifier.weight']\n",
      "You should probably TRAIN this model on a down-stream task to be able to use it for predictions and inference.\n",
      "Parameter 'fn_kwargs'={'tokenizer': BertJapaneseTokenizer(name_or_path='cl-tohoku/bert-base-japanese-v3', vocab_size=32768, model_max_length=512, is_fast=False, padding_side='right', truncation_side='right', special_tokens={'unk_token': '[UNK]', 'sep_token': '[SEP]', 'pad_token': '[PAD]', 'cls_token': '[CLS]', 'mask_token': '[MASK]'}, clean_up_tokenization_spaces=True),  added_tokens_decoder={\n",
      "\t0: AddedToken(\"[PAD]\", rstrip=False, lstrip=False, single_word=False, normalized=False, special=True),\n",
      "\t1: AddedToken(\"[UNK]\", rstrip=False, lstrip=False, single_word=False, normalized=False, special=True),\n",
      "\t2: AddedToken(\"[CLS]\", rstrip=False, lstrip=False, single_word=False, normalized=False, special=True),\n",
      "\t3: AddedToken(\"[SEP]\", rstrip=False, lstrip=False, single_word=False, normalized=False, special=True),\n",
      "\t4: AddedToken(\"[MASK]\", rstrip=False, lstrip=False, single_word=False, normalized=False, special=True),\n",
      "}, 'max_len': 128} of the transform datasets.arrow_dataset.Dataset._map_single couldn't be hashed properly, a random hash was used instead. Make sure your transforms and parameters are serializable with pickle or dill for the dataset fingerprinting and caching to work. If you reuse this transform, the caching mechanism will consider it to be different from the previous calls and recompute everything. This warning is only showed once. Subsequent hashing failures won't be showed.\n"
     ]
    },
    {
     "data": {
      "application/vnd.jupyter.widget-view+json": {
       "model_id": "4341939cc7d74b65862c4b780b91f972",
       "version_major": 2,
       "version_minor": 0
      },
      "text/plain": [
       "Map:   0%|          | 0/637 [00:00<?, ? examples/s]"
      ]
     },
     "metadata": {},
     "output_type": "display_data"
    },
    {
     "data": {
      "application/vnd.jupyter.widget-view+json": {
       "model_id": "df259b81568641ab9bc5665d4ad5cda5",
       "version_major": 2,
       "version_minor": 0
      },
      "text/plain": [
       "Map:   0%|          | 0/163 [00:00<?, ? examples/s]"
      ]
     },
     "metadata": {},
     "output_type": "display_data"
    },
    {
     "data": {
      "text/html": [
       "\n",
       "    <div>\n",
       "      \n",
       "      <progress value='1280' max='4000' style='width:300px; height:20px; vertical-align: middle;'></progress>\n",
       "      [1280/4000 04:08 < 08:48, 5.15 it/s, Epoch 32/100]\n",
       "    </div>\n",
       "    <table border=\"1\" class=\"dataframe\">\n",
       "  <thead>\n",
       " <tr style=\"text-align: left;\">\n",
       "      <th>Epoch</th>\n",
       "      <th>Training Loss</th>\n",
       "      <th>Validation Loss</th>\n",
       "      <th>Accuracy</th>\n",
       "      <th>Macro F1</th>\n",
       "      <th>Class F1</th>\n",
       "      <th>Class Recall</th>\n",
       "      <th>Class Precision</th>\n",
       "    </tr>\n",
       "  </thead>\n",
       "  <tbody>\n",
       "    <tr>\n",
       "      <td>1</td>\n",
       "      <td>0.659100</td>\n",
       "      <td>0.507564</td>\n",
       "      <td>0.000000</td>\n",
       "      <td>0.024484</td>\n",
       "      <td>[0.0, 0.0, 0.0, 0.041, 0.0, 0.0, 0.083, 0.0, 0.0, 0.0, 0.0, 0.0, 0.088, 0.0, 0.0, 0.0, 0.154, 0.0, 0.0, 0.123]</td>\n",
       "      <td>[0.0, 0.0, 0.0, 0.4, 0.0, 0.0, 0.167, 0.0, 0.0, 0.0, 0.0, 0.0, 0.3, 0.0, 0.0, 0.0, 0.25, 0.0, 0.0, 0.068]</td>\n",
       "      <td>[0.0, 0.0, 0.0, 0.022, 0.0, 0.0, 0.056, 0.0, 0.0, 0.0, 0.0, 0.0, 0.052, 0.0, 0.0, 0.0, 0.111, 0.0, 0.0, 0.714]</td>\n",
       "    </tr>\n",
       "    <tr>\n",
       "      <td>2</td>\n",
       "      <td>0.340000</td>\n",
       "      <td>0.200767</td>\n",
       "      <td>0.000000</td>\n",
       "      <td>0.000000</td>\n",
       "      <td>[0.0, 0.0, 0.0, 0.0, 0.0, 0.0, 0.0, 0.0, 0.0, 0.0, 0.0, 0.0, 0.0, 0.0, 0.0, 0.0, 0.0, 0.0, 0.0, 0.0]</td>\n",
       "      <td>[0.0, 0.0, 0.0, 0.0, 0.0, 0.0, 0.0, 0.0, 0.0, 0.0, 0.0, 0.0, 0.0, 0.0, 0.0, 0.0, 0.0, 0.0, 0.0, 0.0]</td>\n",
       "      <td>[0.0, 0.0, 0.0, 0.0, 0.0, 0.0, 0.0, 0.0, 0.0, 0.0, 0.0, 0.0, 0.0, 0.0, 0.0, 0.0, 0.0, 0.0, 0.0, 0.0]</td>\n",
       "    </tr>\n",
       "    <tr>\n",
       "      <td>3</td>\n",
       "      <td>0.168200</td>\n",
       "      <td>0.135338</td>\n",
       "      <td>0.000000</td>\n",
       "      <td>0.000000</td>\n",
       "      <td>[0.0, 0.0, 0.0, 0.0, 0.0, 0.0, 0.0, 0.0, 0.0, 0.0, 0.0, 0.0, 0.0, 0.0, 0.0, 0.0, 0.0, 0.0, 0.0, 0.0]</td>\n",
       "      <td>[0.0, 0.0, 0.0, 0.0, 0.0, 0.0, 0.0, 0.0, 0.0, 0.0, 0.0, 0.0, 0.0, 0.0, 0.0, 0.0, 0.0, 0.0, 0.0, 0.0]</td>\n",
       "      <td>[0.0, 0.0, 0.0, 0.0, 0.0, 0.0, 0.0, 0.0, 0.0, 0.0, 0.0, 0.0, 0.0, 0.0, 0.0, 0.0, 0.0, 0.0, 0.0, 0.0]</td>\n",
       "    </tr>\n",
       "    <tr>\n",
       "      <td>4</td>\n",
       "      <td>0.129400</td>\n",
       "      <td>0.115582</td>\n",
       "      <td>0.000000</td>\n",
       "      <td>0.000000</td>\n",
       "      <td>[0.0, 0.0, 0.0, 0.0, 0.0, 0.0, 0.0, 0.0, 0.0, 0.0, 0.0, 0.0, 0.0, 0.0, 0.0, 0.0, 0.0, 0.0, 0.0, 0.0]</td>\n",
       "      <td>[0.0, 0.0, 0.0, 0.0, 0.0, 0.0, 0.0, 0.0, 0.0, 0.0, 0.0, 0.0, 0.0, 0.0, 0.0, 0.0, 0.0, 0.0, 0.0, 0.0]</td>\n",
       "      <td>[0.0, 0.0, 0.0, 0.0, 0.0, 0.0, 0.0, 0.0, 0.0, 0.0, 0.0, 0.0, 0.0, 0.0, 0.0, 0.0, 0.0, 0.0, 0.0, 0.0]</td>\n",
       "    </tr>\n",
       "    <tr>\n",
       "      <td>5</td>\n",
       "      <td>0.115700</td>\n",
       "      <td>0.107852</td>\n",
       "      <td>0.000000</td>\n",
       "      <td>0.000000</td>\n",
       "      <td>[0.0, 0.0, 0.0, 0.0, 0.0, 0.0, 0.0, 0.0, 0.0, 0.0, 0.0, 0.0, 0.0, 0.0, 0.0, 0.0, 0.0, 0.0, 0.0, 0.0]</td>\n",
       "      <td>[0.0, 0.0, 0.0, 0.0, 0.0, 0.0, 0.0, 0.0, 0.0, 0.0, 0.0, 0.0, 0.0, 0.0, 0.0, 0.0, 0.0, 0.0, 0.0, 0.0]</td>\n",
       "      <td>[0.0, 0.0, 0.0, 0.0, 0.0, 0.0, 0.0, 0.0, 0.0, 0.0, 0.0, 0.0, 0.0, 0.0, 0.0, 0.0, 0.0, 0.0, 0.0, 0.0]</td>\n",
       "    </tr>\n",
       "    <tr>\n",
       "      <td>6</td>\n",
       "      <td>0.109600</td>\n",
       "      <td>0.104025</td>\n",
       "      <td>0.000000</td>\n",
       "      <td>0.000000</td>\n",
       "      <td>[0.0, 0.0, 0.0, 0.0, 0.0, 0.0, 0.0, 0.0, 0.0, 0.0, 0.0, 0.0, 0.0, 0.0, 0.0, 0.0, 0.0, 0.0, 0.0, 0.0]</td>\n",
       "      <td>[0.0, 0.0, 0.0, 0.0, 0.0, 0.0, 0.0, 0.0, 0.0, 0.0, 0.0, 0.0, 0.0, 0.0, 0.0, 0.0, 0.0, 0.0, 0.0, 0.0]</td>\n",
       "      <td>[0.0, 0.0, 0.0, 0.0, 0.0, 0.0, 0.0, 0.0, 0.0, 0.0, 0.0, 0.0, 0.0, 0.0, 0.0, 0.0, 0.0, 0.0, 0.0, 0.0]</td>\n",
       "    </tr>\n",
       "    <tr>\n",
       "      <td>7</td>\n",
       "      <td>0.104200</td>\n",
       "      <td>0.102022</td>\n",
       "      <td>0.000000</td>\n",
       "      <td>0.000000</td>\n",
       "      <td>[0.0, 0.0, 0.0, 0.0, 0.0, 0.0, 0.0, 0.0, 0.0, 0.0, 0.0, 0.0, 0.0, 0.0, 0.0, 0.0, 0.0, 0.0, 0.0, 0.0]</td>\n",
       "      <td>[0.0, 0.0, 0.0, 0.0, 0.0, 0.0, 0.0, 0.0, 0.0, 0.0, 0.0, 0.0, 0.0, 0.0, 0.0, 0.0, 0.0, 0.0, 0.0, 0.0]</td>\n",
       "      <td>[0.0, 0.0, 0.0, 0.0, 0.0, 0.0, 0.0, 0.0, 0.0, 0.0, 0.0, 0.0, 0.0, 0.0, 0.0, 0.0, 0.0, 0.0, 0.0, 0.0]</td>\n",
       "    </tr>\n",
       "    <tr>\n",
       "      <td>8</td>\n",
       "      <td>0.102200</td>\n",
       "      <td>0.100419</td>\n",
       "      <td>0.000000</td>\n",
       "      <td>0.000000</td>\n",
       "      <td>[0.0, 0.0, 0.0, 0.0, 0.0, 0.0, 0.0, 0.0, 0.0, 0.0, 0.0, 0.0, 0.0, 0.0, 0.0, 0.0, 0.0, 0.0, 0.0, 0.0]</td>\n",
       "      <td>[0.0, 0.0, 0.0, 0.0, 0.0, 0.0, 0.0, 0.0, 0.0, 0.0, 0.0, 0.0, 0.0, 0.0, 0.0, 0.0, 0.0, 0.0, 0.0, 0.0]</td>\n",
       "      <td>[0.0, 0.0, 0.0, 0.0, 0.0, 0.0, 0.0, 0.0, 0.0, 0.0, 0.0, 0.0, 0.0, 0.0, 0.0, 0.0, 0.0, 0.0, 0.0, 0.0]</td>\n",
       "    </tr>\n",
       "    <tr>\n",
       "      <td>9</td>\n",
       "      <td>0.101700</td>\n",
       "      <td>0.098712</td>\n",
       "      <td>0.000000</td>\n",
       "      <td>0.000000</td>\n",
       "      <td>[0.0, 0.0, 0.0, 0.0, 0.0, 0.0, 0.0, 0.0, 0.0, 0.0, 0.0, 0.0, 0.0, 0.0, 0.0, 0.0, 0.0, 0.0, 0.0, 0.0]</td>\n",
       "      <td>[0.0, 0.0, 0.0, 0.0, 0.0, 0.0, 0.0, 0.0, 0.0, 0.0, 0.0, 0.0, 0.0, 0.0, 0.0, 0.0, 0.0, 0.0, 0.0, 0.0]</td>\n",
       "      <td>[0.0, 0.0, 0.0, 0.0, 0.0, 0.0, 0.0, 0.0, 0.0, 0.0, 0.0, 0.0, 0.0, 0.0, 0.0, 0.0, 0.0, 0.0, 0.0, 0.0]</td>\n",
       "    </tr>\n",
       "    <tr>\n",
       "      <td>10</td>\n",
       "      <td>0.095400</td>\n",
       "      <td>0.095252</td>\n",
       "      <td>0.000000</td>\n",
       "      <td>0.000000</td>\n",
       "      <td>[0.0, 0.0, 0.0, 0.0, 0.0, 0.0, 0.0, 0.0, 0.0, 0.0, 0.0, 0.0, 0.0, 0.0, 0.0, 0.0, 0.0, 0.0, 0.0, 0.0]</td>\n",
       "      <td>[0.0, 0.0, 0.0, 0.0, 0.0, 0.0, 0.0, 0.0, 0.0, 0.0, 0.0, 0.0, 0.0, 0.0, 0.0, 0.0, 0.0, 0.0, 0.0, 0.0]</td>\n",
       "      <td>[0.0, 0.0, 0.0, 0.0, 0.0, 0.0, 0.0, 0.0, 0.0, 0.0, 0.0, 0.0, 0.0, 0.0, 0.0, 0.0, 0.0, 0.0, 0.0, 0.0]</td>\n",
       "    </tr>\n",
       "    <tr>\n",
       "      <td>11</td>\n",
       "      <td>0.093300</td>\n",
       "      <td>0.092561</td>\n",
       "      <td>0.000000</td>\n",
       "      <td>0.000000</td>\n",
       "      <td>[0.0, 0.0, 0.0, 0.0, 0.0, 0.0, 0.0, 0.0, 0.0, 0.0, 0.0, 0.0, 0.0, 0.0, 0.0, 0.0, 0.0, 0.0, 0.0, 0.0]</td>\n",
       "      <td>[0.0, 0.0, 0.0, 0.0, 0.0, 0.0, 0.0, 0.0, 0.0, 0.0, 0.0, 0.0, 0.0, 0.0, 0.0, 0.0, 0.0, 0.0, 0.0, 0.0]</td>\n",
       "      <td>[0.0, 0.0, 0.0, 0.0, 0.0, 0.0, 0.0, 0.0, 0.0, 0.0, 0.0, 0.0, 0.0, 0.0, 0.0, 0.0, 0.0, 0.0, 0.0, 0.0]</td>\n",
       "    </tr>\n",
       "    <tr>\n",
       "      <td>12</td>\n",
       "      <td>0.088500</td>\n",
       "      <td>0.090279</td>\n",
       "      <td>0.000000</td>\n",
       "      <td>0.000000</td>\n",
       "      <td>[0.0, 0.0, 0.0, 0.0, 0.0, 0.0, 0.0, 0.0, 0.0, 0.0, 0.0, 0.0, 0.0, 0.0, 0.0, 0.0, 0.0, 0.0, 0.0, 0.0]</td>\n",
       "      <td>[0.0, 0.0, 0.0, 0.0, 0.0, 0.0, 0.0, 0.0, 0.0, 0.0, 0.0, 0.0, 0.0, 0.0, 0.0, 0.0, 0.0, 0.0, 0.0, 0.0]</td>\n",
       "      <td>[0.0, 0.0, 0.0, 0.0, 0.0, 0.0, 0.0, 0.0, 0.0, 0.0, 0.0, 0.0, 0.0, 0.0, 0.0, 0.0, 0.0, 0.0, 0.0, 0.0]</td>\n",
       "    </tr>\n",
       "    <tr>\n",
       "      <td>13</td>\n",
       "      <td>0.083800</td>\n",
       "      <td>0.086220</td>\n",
       "      <td>0.030675</td>\n",
       "      <td>0.046753</td>\n",
       "      <td>[0.0, 0.0, 0.0, 0.0, 0.0, 0.0, 0.0, 0.0, 0.0, 0.0, 0.0, 0.0, 0.571, 0.0, 0.0, 0.364, 0.0, 0.0, 0.0, 0.0]</td>\n",
       "      <td>[0.0, 0.0, 0.0, 0.0, 0.0, 0.0, 0.0, 0.0, 0.0, 0.0, 0.0, 0.0, 0.4, 0.0, 0.0, 0.222, 0.0, 0.0, 0.0, 0.0]</td>\n",
       "      <td>[0.0, 0.0, 0.0, 0.0, 0.0, 0.0, 0.0, 0.0, 0.0, 0.0, 0.0, 0.0, 1.0, 0.0, 0.0, 1.0, 0.0, 0.0, 0.0, 0.0]</td>\n",
       "    </tr>\n",
       "    <tr>\n",
       "      <td>14</td>\n",
       "      <td>0.073300</td>\n",
       "      <td>0.083632</td>\n",
       "      <td>0.024540</td>\n",
       "      <td>0.025000</td>\n",
       "      <td>[0.0, 0.0, 0.0, 0.0, 0.0, 0.0, 0.0, 0.0, 0.0, 0.0, 0.0, 0.0, 0.5, 0.0, 0.0, 0.0, 0.0, 0.0, 0.0, 0.0]</td>\n",
       "      <td>[0.0, 0.0, 0.0, 0.0, 0.0, 0.0, 0.0, 0.0, 0.0, 0.0, 0.0, 0.0, 0.4, 0.0, 0.0, 0.0, 0.0, 0.0, 0.0, 0.0]</td>\n",
       "      <td>[0.0, 0.0, 0.0, 0.0, 0.0, 0.0, 0.0, 0.0, 0.0, 0.0, 0.0, 0.0, 0.667, 0.0, 0.0, 0.0, 0.0, 0.0, 0.0, 0.0]</td>\n",
       "    </tr>\n",
       "    <tr>\n",
       "      <td>15</td>\n",
       "      <td>0.069700</td>\n",
       "      <td>0.079184</td>\n",
       "      <td>0.024540</td>\n",
       "      <td>0.025000</td>\n",
       "      <td>[0.0, 0.0, 0.0, 0.0, 0.0, 0.0, 0.0, 0.0, 0.0, 0.0, 0.0, 0.0, 0.5, 0.0, 0.0, 0.0, 0.0, 0.0, 0.0, 0.0]</td>\n",
       "      <td>[0.0, 0.0, 0.0, 0.0, 0.0, 0.0, 0.0, 0.0, 0.0, 0.0, 0.0, 0.0, 0.4, 0.0, 0.0, 0.0, 0.0, 0.0, 0.0, 0.0]</td>\n",
       "      <td>[0.0, 0.0, 0.0, 0.0, 0.0, 0.0, 0.0, 0.0, 0.0, 0.0, 0.0, 0.0, 0.667, 0.0, 0.0, 0.0, 0.0, 0.0, 0.0, 0.0]</td>\n",
       "    </tr>\n",
       "    <tr>\n",
       "      <td>16</td>\n",
       "      <td>0.062700</td>\n",
       "      <td>0.078723</td>\n",
       "      <td>0.055215</td>\n",
       "      <td>0.065960</td>\n",
       "      <td>[0.0, 0.0, 0.0, 0.0, 0.0, 0.364, 0.0, 0.0, 0.0, 0.0, 0.0, 0.2, 0.556, 0.0, 0.0, 0.2, 0.0, 0.0, 0.0, 0.0]</td>\n",
       "      <td>[0.0, 0.0, 0.0, 0.0, 0.0, 0.25, 0.0, 0.0, 0.0, 0.0, 0.0, 0.111, 0.5, 0.0, 0.0, 0.111, 0.0, 0.0, 0.0, 0.0]</td>\n",
       "      <td>[0.0, 0.0, 0.0, 0.0, 0.0, 0.667, 0.0, 0.0, 0.0, 0.0, 0.0, 1.0, 0.625, 0.0, 0.0, 1.0, 0.0, 0.0, 0.0, 0.0]</td>\n",
       "    </tr>\n",
       "    <tr>\n",
       "      <td>17</td>\n",
       "      <td>0.054700</td>\n",
       "      <td>0.075753</td>\n",
       "      <td>0.116564</td>\n",
       "      <td>0.122666</td>\n",
       "      <td>[0.0, 0.0, 0.0, 0.333, 0.0, 0.4, 0.0, 0.0, 0.0, 0.0, 0.0, 0.364, 0.556, 0.222, 0.0, 0.429, 0.0, 0.0, 0.0, 0.15]</td>\n",
       "      <td>[0.0, 0.0, 0.0, 0.2, 0.0, 0.25, 0.0, 0.0, 0.0, 0.0, 0.0, 0.222, 0.5, 0.143, 0.0, 0.333, 0.0, 0.0, 0.0, 0.081]</td>\n",
       "      <td>[0.0, 0.0, 0.0, 1.0, 0.0, 1.0, 0.0, 0.0, 0.0, 0.0, 0.0, 1.0, 0.625, 0.5, 0.0, 0.6, 0.0, 0.0, 0.0, 1.0]</td>\n",
       "    </tr>\n",
       "    <tr>\n",
       "      <td>18</td>\n",
       "      <td>0.048200</td>\n",
       "      <td>0.073443</td>\n",
       "      <td>0.184049</td>\n",
       "      <td>0.175415</td>\n",
       "      <td>[0.0, 0.0, 0.0, 0.571, 0.0, 0.5, 0.5, 0.0, 0.0, 0.0, 0.0, 0.364, 0.556, 0.222, 0.0, 0.5, 0.0, 0.0, 0.0, 0.295]</td>\n",
       "      <td>[0.0, 0.0, 0.0, 0.4, 0.0, 0.375, 0.333, 0.0, 0.0, 0.0, 0.0, 0.222, 0.5, 0.143, 0.0, 0.333, 0.0, 0.0, 0.0, 0.176]</td>\n",
       "      <td>[0.0, 0.0, 0.0, 1.0, 0.0, 0.75, 1.0, 0.0, 0.0, 0.0, 0.0, 1.0, 0.625, 0.5, 0.0, 1.0, 0.0, 0.0, 0.0, 0.929]</td>\n",
       "    </tr>\n",
       "    <tr>\n",
       "      <td>19</td>\n",
       "      <td>0.044100</td>\n",
       "      <td>0.073527</td>\n",
       "      <td>0.343558</td>\n",
       "      <td>0.170380</td>\n",
       "      <td>[0.0, 0.0, 0.0, 0.333, 0.0, 0.545, 0.0, 0.0, 0.0, 0.0, 0.0, 0.462, 0.667, 0.25, 0.0, 0.462, 0.0, 0.0, 0.0, 0.689]</td>\n",
       "      <td>[0.0, 0.0, 0.0, 0.2, 0.0, 0.375, 0.0, 0.0, 0.0, 0.0, 0.0, 0.333, 0.6, 0.143, 0.0, 0.333, 0.0, 0.0, 0.0, 0.554]</td>\n",
       "      <td>[0.0, 0.0, 0.0, 1.0, 0.0, 1.0, 0.0, 0.0, 0.0, 0.0, 0.0, 0.75, 0.75, 1.0, 0.0, 0.75, 0.0, 0.0, 0.0, 0.911]</td>\n",
       "    </tr>\n",
       "    <tr>\n",
       "      <td>20</td>\n",
       "      <td>0.039300</td>\n",
       "      <td>0.072009</td>\n",
       "      <td>0.417178</td>\n",
       "      <td>0.236696</td>\n",
       "      <td>[0.0, 0.0, 0.0, 0.75, 0.0, 0.615, 0.0, 0.0, 0.0, 0.0, 0.0, 0.462, 0.632, 0.222, 0.333, 0.526, 0.0, 0.5, 0.0, 0.694]</td>\n",
       "      <td>[0.0, 0.0, 0.0, 0.6, 0.0, 0.5, 0.0, 0.0, 0.0, 0.0, 0.0, 0.333, 0.6, 0.143, 0.222, 0.556, 0.0, 0.333, 0.0, 0.581]</td>\n",
       "      <td>[0.0, 0.0, 0.0, 1.0, 0.0, 0.8, 0.0, 0.0, 0.0, 0.0, 0.0, 0.75, 0.667, 0.5, 0.667, 0.5, 0.0, 1.0, 0.0, 0.86]</td>\n",
       "    </tr>\n",
       "    <tr>\n",
       "      <td>21</td>\n",
       "      <td>0.036600</td>\n",
       "      <td>0.071803</td>\n",
       "      <td>0.417178</td>\n",
       "      <td>0.275644</td>\n",
       "      <td>[0.0, 0.0, 0.0, 0.75, 0.0, 0.5, 0.0, 0.0, 0.333, 0.0, 0.0, 0.667, 0.571, 0.5, 0.364, 0.667, 0.0, 0.5, 0.0, 0.661]</td>\n",
       "      <td>[0.0, 0.0, 0.0, 0.6, 0.0, 0.375, 0.0, 0.0, 0.2, 0.0, 0.0, 0.556, 0.6, 0.429, 0.222, 0.556, 0.0, 0.333, 0.0, 0.541]</td>\n",
       "      <td>[0.0, 0.0, 0.0, 1.0, 0.0, 0.75, 0.0, 0.0, 1.0, 0.0, 0.0, 0.833, 0.545, 0.6, 1.0, 0.833, 0.0, 1.0, 0.0, 0.851]</td>\n",
       "    </tr>\n",
       "    <tr>\n",
       "      <td>22</td>\n",
       "      <td>0.033600</td>\n",
       "      <td>0.072259</td>\n",
       "      <td>0.447853</td>\n",
       "      <td>0.237091</td>\n",
       "      <td>[0.0, 0.0, 0.0, 0.571, 0.0, 0.5, 0.0, 0.0, 0.0, 0.0, 0.0, 0.364, 0.632, 0.2, 0.462, 0.364, 0.4, 0.5, 0.0, 0.75]</td>\n",
       "      <td>[0.0, 0.0, 0.0, 0.4, 0.0, 0.375, 0.0, 0.0, 0.0, 0.0, 0.0, 0.222, 0.6, 0.143, 0.333, 0.222, 0.25, 0.333, 0.0, 0.689]</td>\n",
       "      <td>[0.0, 0.0, 0.0, 1.0, 0.0, 0.75, 0.0, 0.0, 0.0, 0.0, 0.0, 1.0, 0.667, 0.333, 0.75, 1.0, 1.0, 1.0, 0.0, 0.823]</td>\n",
       "    </tr>\n",
       "    <tr>\n",
       "      <td>23</td>\n",
       "      <td>0.030000</td>\n",
       "      <td>0.070372</td>\n",
       "      <td>0.460123</td>\n",
       "      <td>0.262244</td>\n",
       "      <td>[0.0, 0.0, 0.0, 0.75, 0.0, 0.667, 0.0, 0.0, 0.333, 0.0, 0.0, 0.667, 0.6, 0.5, 0.0, 0.308, 0.0, 0.667, 0.0, 0.754]</td>\n",
       "      <td>[0.0, 0.0, 0.0, 0.6, 0.0, 0.625, 0.0, 0.0, 0.2, 0.0, 0.0, 0.556, 0.6, 0.429, 0.0, 0.222, 0.0, 0.5, 0.0, 0.662]</td>\n",
       "      <td>[0.0, 0.0, 0.0, 1.0, 0.0, 0.714, 0.0, 0.0, 1.0, 0.0, 0.0, 0.833, 0.6, 0.6, 0.0, 0.5, 0.0, 1.0, 0.0, 0.875]</td>\n",
       "    </tr>\n",
       "    <tr>\n",
       "      <td>24</td>\n",
       "      <td>0.027900</td>\n",
       "      <td>0.070309</td>\n",
       "      <td>0.472393</td>\n",
       "      <td>0.279898</td>\n",
       "      <td>[0.0, 0.0, 0.0, 0.75, 0.0, 0.667, 0.5, 0.0, 0.333, 0.0, 0.0, 0.571, 0.632, 0.222, 0.462, 0.2, 0.0, 0.5, 0.0, 0.761]</td>\n",
       "      <td>[0.0, 0.0, 0.0, 0.6, 0.0, 0.5, 0.333, 0.0, 0.2, 0.0, 0.0, 0.444, 0.6, 0.143, 0.333, 0.111, 0.0, 0.333, 0.0, 0.689]</td>\n",
       "      <td>[0.0, 0.0, 0.0, 1.0, 0.0, 1.0, 1.0, 0.0, 1.0, 0.0, 0.0, 0.8, 0.667, 0.5, 0.75, 1.0, 0.0, 1.0, 0.0, 0.85]</td>\n",
       "    </tr>\n",
       "    <tr>\n",
       "      <td>25</td>\n",
       "      <td>0.026100</td>\n",
       "      <td>0.070116</td>\n",
       "      <td>0.490798</td>\n",
       "      <td>0.298623</td>\n",
       "      <td>[0.0, 0.0, 0.0, 0.75, 0.0, 0.667, 0.5, 0.0, 0.333, 0.0, 0.0, 0.625, 0.6, 0.4, 0.429, 0.308, 0.0, 0.6, 0.0, 0.761]</td>\n",
       "      <td>[0.0, 0.0, 0.0, 0.6, 0.0, 0.5, 0.333, 0.0, 0.2, 0.0, 0.0, 0.556, 0.6, 0.286, 0.333, 0.222, 0.0, 0.5, 0.0, 0.689]</td>\n",
       "      <td>[0.0, 0.0, 0.0, 1.0, 0.0, 1.0, 1.0, 0.0, 1.0, 0.0, 0.0, 0.714, 0.6, 0.667, 0.6, 0.5, 0.0, 0.75, 0.0, 0.85]</td>\n",
       "    </tr>\n",
       "    <tr>\n",
       "      <td>26</td>\n",
       "      <td>0.024300</td>\n",
       "      <td>0.071199</td>\n",
       "      <td>0.509202</td>\n",
       "      <td>0.296712</td>\n",
       "      <td>[0.0, 0.0, 0.0, 0.75, 0.0, 0.615, 0.5, 0.0, 0.333, 0.0, 0.0, 0.571, 0.6, 0.4, 0.462, 0.333, 0.0, 0.6, 0.0, 0.769]</td>\n",
       "      <td>[0.0, 0.0, 0.0, 0.6, 0.0, 0.5, 0.333, 0.0, 0.2, 0.0, 0.0, 0.444, 0.6, 0.286, 0.333, 0.222, 0.0, 0.5, 0.0, 0.743]</td>\n",
       "      <td>[0.0, 0.0, 0.0, 1.0, 0.0, 0.8, 1.0, 0.0, 1.0, 0.0, 0.0, 0.8, 0.6, 0.667, 0.75, 0.667, 0.0, 0.75, 0.0, 0.797]</td>\n",
       "    </tr>\n",
       "    <tr>\n",
       "      <td>27</td>\n",
       "      <td>0.022800</td>\n",
       "      <td>0.067754</td>\n",
       "      <td>0.447853</td>\n",
       "      <td>0.271955</td>\n",
       "      <td>[0.0, 0.0, 0.0, 0.571, 0.0, 0.615, 0.286, 0.0, 0.333, 0.0, 0.0, 0.429, 0.571, 0.545, 0.462, 0.429, 0.0, 0.5, 0.0, 0.698]</td>\n",
       "      <td>[0.0, 0.0, 0.0, 0.4, 0.0, 0.5, 0.167, 0.0, 0.2, 0.0, 0.0, 0.333, 0.6, 0.429, 0.333, 0.333, 0.0, 0.333, 0.0, 0.608]</td>\n",
       "      <td>[0.0, 0.0, 0.0, 1.0, 0.0, 0.8, 1.0, 0.0, 1.0, 0.0, 0.0, 0.6, 0.545, 0.75, 0.75, 0.6, 0.0, 1.0, 0.0, 0.818]</td>\n",
       "    </tr>\n",
       "    <tr>\n",
       "      <td>28</td>\n",
       "      <td>0.021500</td>\n",
       "      <td>0.070052</td>\n",
       "      <td>0.478528</td>\n",
       "      <td>0.336081</td>\n",
       "      <td>[0.0, 0.0, 0.0, 0.75, 1.0, 0.545, 0.286, 0.0, 0.333, 0.0, 0.0, 0.571, 0.571, 0.545, 0.333, 0.556, 0.0, 0.5, 0.0, 0.73]</td>\n",
       "      <td>[0.0, 0.0, 0.0, 0.6, 1.0, 0.375, 0.167, 0.0, 0.2, 0.0, 0.0, 0.444, 0.6, 0.429, 0.222, 0.556, 0.0, 0.333, 0.0, 0.676]</td>\n",
       "      <td>[0.0, 0.0, 0.0, 1.0, 1.0, 1.0, 1.0, 0.0, 1.0, 0.0, 0.0, 0.8, 0.545, 0.75, 0.667, 0.556, 0.0, 1.0, 0.0, 0.794]</td>\n",
       "    </tr>\n",
       "    <tr>\n",
       "      <td>29</td>\n",
       "      <td>0.020500</td>\n",
       "      <td>0.066811</td>\n",
       "      <td>0.460123</td>\n",
       "      <td>0.355351</td>\n",
       "      <td>[0.0, 0.0, 0.0, 0.75, 1.0, 0.615, 0.5, 0.0, 0.333, 0.0, 0.0, 0.571, 0.6, 0.4, 0.462, 0.5, 0.0, 0.667, 0.0, 0.709]</td>\n",
       "      <td>[0.0, 0.0, 0.0, 0.6, 1.0, 0.5, 0.333, 0.0, 0.2, 0.0, 0.0, 0.444, 0.6, 0.286, 0.333, 0.444, 0.0, 0.5, 0.0, 0.608]</td>\n",
       "      <td>[0.0, 0.0, 0.0, 1.0, 1.0, 0.8, 1.0, 0.0, 1.0, 0.0, 0.0, 0.8, 0.6, 0.667, 0.75, 0.571, 0.0, 1.0, 0.0, 0.849]</td>\n",
       "    </tr>\n",
       "    <tr>\n",
       "      <td>30</td>\n",
       "      <td>0.019500</td>\n",
       "      <td>0.070580</td>\n",
       "      <td>0.515337</td>\n",
       "      <td>0.332206</td>\n",
       "      <td>[0.0, 0.0, 0.0, 0.75, 1.0, 0.615, 0.286, 0.0, 0.333, 0.0, 0.0, 0.571, 0.6, 0.545, 0.182, 0.533, 0.0, 0.444, 0.0, 0.783]</td>\n",
       "      <td>[0.0, 0.0, 0.0, 0.6, 1.0, 0.5, 0.167, 0.0, 0.2, 0.0, 0.0, 0.444, 0.6, 0.429, 0.111, 0.444, 0.0, 0.333, 0.0, 0.757]</td>\n",
       "      <td>[0.0, 0.0, 0.0, 1.0, 1.0, 0.8, 1.0, 0.0, 1.0, 0.0, 0.0, 0.8, 0.6, 0.75, 0.5, 0.667, 0.0, 0.667, 0.0, 0.812]</td>\n",
       "    </tr>\n",
       "    <tr>\n",
       "      <td>31</td>\n",
       "      <td>0.018300</td>\n",
       "      <td>0.068249</td>\n",
       "      <td>0.490798</td>\n",
       "      <td>0.351608</td>\n",
       "      <td>[0.0, 0.0, 0.0, 0.75, 1.0, 0.615, 0.5, 0.0, 0.333, 0.0, 0.0, 0.533, 0.6, 0.545, 0.462, 0.286, 0.0, 0.667, 0.0, 0.741]</td>\n",
       "      <td>[0.0, 0.0, 0.0, 0.6, 1.0, 0.5, 0.333, 0.0, 0.2, 0.0, 0.0, 0.444, 0.6, 0.429, 0.333, 0.222, 0.0, 0.5, 0.0, 0.676]</td>\n",
       "      <td>[0.0, 0.0, 0.0, 1.0, 1.0, 0.8, 1.0, 0.0, 1.0, 0.0, 0.0, 0.667, 0.6, 0.75, 0.75, 0.4, 0.0, 1.0, 0.0, 0.82]</td>\n",
       "    </tr>\n",
       "    <tr>\n",
       "      <td>32</td>\n",
       "      <td>0.017000</td>\n",
       "      <td>0.070335</td>\n",
       "      <td>0.490798</td>\n",
       "      <td>0.323468</td>\n",
       "      <td>[0.0, 0.0, 0.0, 0.75, 1.0, 0.667, 0.0, 0.0, 0.333, 0.0, 0.0, 0.571, 0.571, 0.4, 0.462, 0.286, 0.0, 0.667, 0.0, 0.763]</td>\n",
       "      <td>[0.0, 0.0, 0.0, 0.6, 1.0, 0.5, 0.0, 0.0, 0.2, 0.0, 0.0, 0.444, 0.6, 0.286, 0.333, 0.222, 0.0, 0.5, 0.0, 0.716]</td>\n",
       "      <td>[0.0, 0.0, 0.0, 1.0, 1.0, 1.0, 0.0, 0.0, 1.0, 0.0, 0.0, 0.8, 0.545, 0.667, 0.75, 0.4, 0.0, 1.0, 0.0, 0.815]</td>\n",
       "    </tr>\n",
       "  </tbody>\n",
       "</table><p>"
      ],
      "text/plain": [
       "<IPython.core.display.HTML object>"
      ]
     },
     "metadata": {},
     "output_type": "display_data"
    },
    {
     "data": {
      "application/vnd.jupyter.widget-view+json": {
       "model_id": "011e5fabc1564c048629401facd4fba2",
       "version_major": 2,
       "version_minor": 0
      },
      "text/plain": [
       "Map:   0%|          | 0/200 [00:00<?, ? examples/s]"
      ]
     },
     "metadata": {},
     "output_type": "display_data"
    },
    {
     "data": {
      "text/html": [],
      "text/plain": [
       "<IPython.core.display.HTML object>"
      ]
     },
     "metadata": {},
     "output_type": "display_data"
    },
    {
     "name": "stdout",
     "output_type": "stream",
     "text": [
      "{'accuracy': 0.7739130434782608, 'macro_f1': 0.4261113959140276, 'class_f1': [0.0, 0.0, 0.0, 0.0, 0.0, 0.5, 0.857, 0.0, 0.667, 0.0, 0.0, 0.875, 0.842, 0.909, 0.889, 0.667, 0.667, 0.75, 0.0, 0.9], 'class_recall': [0.0, 0.0, 0.0, 0.0, 0.0, 0.4, 1.0, 0.0, 0.5, 0.0, 0.0, 0.778, 0.8, 1.0, 0.889, 0.6, 0.5, 0.75, 0.0, 0.947], 'class_precision': [0.0, 0.0, 0.0, 0.0, 0.0, 0.667, 0.75, 0.0, 1.0, 0.0, 0.0, 1.0, 0.889, 0.833, 0.889, 0.75, 1.0, 0.75, 0.0, 0.857]}\n",
      "-----------------Fold: 2-----------------\n"
     ]
    },
    {
     "name": "stderr",
     "output_type": "stream",
     "text": [
      "Some weights of BertForSequenceClassification were not initialized from the model checkpoint at cl-tohoku/bert-base-japanese-v3 and are newly initialized: ['classifier.bias', 'classifier.weight']\n",
      "You should probably TRAIN this model on a down-stream task to be able to use it for predictions and inference.\n"
     ]
    },
    {
     "data": {
      "application/vnd.jupyter.widget-view+json": {
       "model_id": "ee9d3fe690ce4dc995b91531d15ef78d",
       "version_major": 2,
       "version_minor": 0
      },
      "text/plain": [
       "Map:   0%|          | 0/640 [00:00<?, ? examples/s]"
      ]
     },
     "metadata": {},
     "output_type": "display_data"
    },
    {
     "data": {
      "application/vnd.jupyter.widget-view+json": {
       "model_id": "4b899073746542ac9ab65f9039e74a7b",
       "version_major": 2,
       "version_minor": 0
      },
      "text/plain": [
       "Map:   0%|          | 0/160 [00:00<?, ? examples/s]"
      ]
     },
     "metadata": {},
     "output_type": "display_data"
    },
    {
     "name": "stderr",
     "output_type": "stream",
     "text": [
      "wandb: WARNING Source type is set to 'repo' but some required information is missing from the environment. A job will not be created from this run. See https://docs.wandb.ai/guides/launch/create-job\n"
     ]
    },
    {
     "data": {
      "application/vnd.jupyter.widget-view+json": {
       "model_id": "970c3ddeea34466ea24f91bc27dea31e",
       "version_major": 2,
       "version_minor": 0
      },
      "text/plain": [
       "VBox(children=(Label(value='Waiting for wandb.init()...\\r'), FloatProgress(value=0.011112118357171614, max=1.0…"
      ]
     },
     "metadata": {},
     "output_type": "display_data"
    },
    {
     "data": {
      "text/html": [
       "\n",
       "    <div>\n",
       "      \n",
       "      <progress value='1040' max='4000' style='width:300px; height:20px; vertical-align: middle;'></progress>\n",
       "      [1040/4000 03:06 < 08:52, 5.56 it/s, Epoch 26/100]\n",
       "    </div>\n",
       "    <table border=\"1\" class=\"dataframe\">\n",
       "  <thead>\n",
       " <tr style=\"text-align: left;\">\n",
       "      <th>Epoch</th>\n",
       "      <th>Training Loss</th>\n",
       "      <th>Validation Loss</th>\n",
       "      <th>Accuracy</th>\n",
       "      <th>Macro F1</th>\n",
       "      <th>Class F1</th>\n",
       "      <th>Class Recall</th>\n",
       "      <th>Class Precision</th>\n",
       "    </tr>\n",
       "  </thead>\n",
       "  <tbody>\n",
       "    <tr>\n",
       "      <td>1</td>\n",
       "      <td>0.634100</td>\n",
       "      <td>0.509695</td>\n",
       "      <td>0.025000</td>\n",
       "      <td>0.013366</td>\n",
       "      <td>[0.0, 0.0, 0.0, 0.0, 0.0, 0.0, 0.0, 0.0, 0.0, 0.0, 0.0, 0.083, 0.0, 0.0, 0.0, 0.048, 0.0, 0.0, 0.0, 0.136]</td>\n",
       "      <td>[0.0, 0.0, 0.0, 0.0, 0.0, 0.0, 0.0, 0.0, 0.0, 0.0, 0.0, 0.333, 0.0, 0.0, 0.0, 0.111, 0.0, 0.0, 0.0, 0.08]</td>\n",
       "      <td>[0.0, 0.0, 0.0, 0.0, 0.0, 0.0, 0.0, 0.0, 0.0, 0.0, 0.0, 0.048, 0.0, 0.0, 0.0, 0.03, 0.0, 0.0, 0.0, 0.462]</td>\n",
       "    </tr>\n",
       "    <tr>\n",
       "      <td>2</td>\n",
       "      <td>0.347100</td>\n",
       "      <td>0.213728</td>\n",
       "      <td>0.000000</td>\n",
       "      <td>0.000000</td>\n",
       "      <td>[0.0, 0.0, 0.0, 0.0, 0.0, 0.0, 0.0, 0.0, 0.0, 0.0, 0.0, 0.0, 0.0, 0.0, 0.0, 0.0, 0.0, 0.0, 0.0, 0.0]</td>\n",
       "      <td>[0.0, 0.0, 0.0, 0.0, 0.0, 0.0, 0.0, 0.0, 0.0, 0.0, 0.0, 0.0, 0.0, 0.0, 0.0, 0.0, 0.0, 0.0, 0.0, 0.0]</td>\n",
       "      <td>[0.0, 0.0, 0.0, 0.0, 0.0, 0.0, 0.0, 0.0, 0.0, 0.0, 0.0, 0.0, 0.0, 0.0, 0.0, 0.0, 0.0, 0.0, 0.0, 0.0]</td>\n",
       "    </tr>\n",
       "    <tr>\n",
       "      <td>3</td>\n",
       "      <td>0.173700</td>\n",
       "      <td>0.142673</td>\n",
       "      <td>0.000000</td>\n",
       "      <td>0.000000</td>\n",
       "      <td>[0.0, 0.0, 0.0, 0.0, 0.0, 0.0, 0.0, 0.0, 0.0, 0.0, 0.0, 0.0, 0.0, 0.0, 0.0, 0.0, 0.0, 0.0, 0.0, 0.0]</td>\n",
       "      <td>[0.0, 0.0, 0.0, 0.0, 0.0, 0.0, 0.0, 0.0, 0.0, 0.0, 0.0, 0.0, 0.0, 0.0, 0.0, 0.0, 0.0, 0.0, 0.0, 0.0]</td>\n",
       "      <td>[0.0, 0.0, 0.0, 0.0, 0.0, 0.0, 0.0, 0.0, 0.0, 0.0, 0.0, 0.0, 0.0, 0.0, 0.0, 0.0, 0.0, 0.0, 0.0, 0.0]</td>\n",
       "    </tr>\n",
       "    <tr>\n",
       "      <td>4</td>\n",
       "      <td>0.129700</td>\n",
       "      <td>0.121687</td>\n",
       "      <td>0.000000</td>\n",
       "      <td>0.000000</td>\n",
       "      <td>[0.0, 0.0, 0.0, 0.0, 0.0, 0.0, 0.0, 0.0, 0.0, 0.0, 0.0, 0.0, 0.0, 0.0, 0.0, 0.0, 0.0, 0.0, 0.0, 0.0]</td>\n",
       "      <td>[0.0, 0.0, 0.0, 0.0, 0.0, 0.0, 0.0, 0.0, 0.0, 0.0, 0.0, 0.0, 0.0, 0.0, 0.0, 0.0, 0.0, 0.0, 0.0, 0.0]</td>\n",
       "      <td>[0.0, 0.0, 0.0, 0.0, 0.0, 0.0, 0.0, 0.0, 0.0, 0.0, 0.0, 0.0, 0.0, 0.0, 0.0, 0.0, 0.0, 0.0, 0.0, 0.0]</td>\n",
       "    </tr>\n",
       "    <tr>\n",
       "      <td>5</td>\n",
       "      <td>0.116400</td>\n",
       "      <td>0.114082</td>\n",
       "      <td>0.000000</td>\n",
       "      <td>0.000000</td>\n",
       "      <td>[0.0, 0.0, 0.0, 0.0, 0.0, 0.0, 0.0, 0.0, 0.0, 0.0, 0.0, 0.0, 0.0, 0.0, 0.0, 0.0, 0.0, 0.0, 0.0, 0.0]</td>\n",
       "      <td>[0.0, 0.0, 0.0, 0.0, 0.0, 0.0, 0.0, 0.0, 0.0, 0.0, 0.0, 0.0, 0.0, 0.0, 0.0, 0.0, 0.0, 0.0, 0.0, 0.0]</td>\n",
       "      <td>[0.0, 0.0, 0.0, 0.0, 0.0, 0.0, 0.0, 0.0, 0.0, 0.0, 0.0, 0.0, 0.0, 0.0, 0.0, 0.0, 0.0, 0.0, 0.0, 0.0]</td>\n",
       "    </tr>\n",
       "    <tr>\n",
       "      <td>6</td>\n",
       "      <td>0.107200</td>\n",
       "      <td>0.110282</td>\n",
       "      <td>0.000000</td>\n",
       "      <td>0.000000</td>\n",
       "      <td>[0.0, 0.0, 0.0, 0.0, 0.0, 0.0, 0.0, 0.0, 0.0, 0.0, 0.0, 0.0, 0.0, 0.0, 0.0, 0.0, 0.0, 0.0, 0.0, 0.0]</td>\n",
       "      <td>[0.0, 0.0, 0.0, 0.0, 0.0, 0.0, 0.0, 0.0, 0.0, 0.0, 0.0, 0.0, 0.0, 0.0, 0.0, 0.0, 0.0, 0.0, 0.0, 0.0]</td>\n",
       "      <td>[0.0, 0.0, 0.0, 0.0, 0.0, 0.0, 0.0, 0.0, 0.0, 0.0, 0.0, 0.0, 0.0, 0.0, 0.0, 0.0, 0.0, 0.0, 0.0, 0.0]</td>\n",
       "    </tr>\n",
       "    <tr>\n",
       "      <td>7</td>\n",
       "      <td>0.104200</td>\n",
       "      <td>0.108355</td>\n",
       "      <td>0.000000</td>\n",
       "      <td>0.000000</td>\n",
       "      <td>[0.0, 0.0, 0.0, 0.0, 0.0, 0.0, 0.0, 0.0, 0.0, 0.0, 0.0, 0.0, 0.0, 0.0, 0.0, 0.0, 0.0, 0.0, 0.0, 0.0]</td>\n",
       "      <td>[0.0, 0.0, 0.0, 0.0, 0.0, 0.0, 0.0, 0.0, 0.0, 0.0, 0.0, 0.0, 0.0, 0.0, 0.0, 0.0, 0.0, 0.0, 0.0, 0.0]</td>\n",
       "      <td>[0.0, 0.0, 0.0, 0.0, 0.0, 0.0, 0.0, 0.0, 0.0, 0.0, 0.0, 0.0, 0.0, 0.0, 0.0, 0.0, 0.0, 0.0, 0.0, 0.0]</td>\n",
       "    </tr>\n",
       "    <tr>\n",
       "      <td>8</td>\n",
       "      <td>0.103800</td>\n",
       "      <td>0.106486</td>\n",
       "      <td>0.000000</td>\n",
       "      <td>0.000000</td>\n",
       "      <td>[0.0, 0.0, 0.0, 0.0, 0.0, 0.0, 0.0, 0.0, 0.0, 0.0, 0.0, 0.0, 0.0, 0.0, 0.0, 0.0, 0.0, 0.0, 0.0, 0.0]</td>\n",
       "      <td>[0.0, 0.0, 0.0, 0.0, 0.0, 0.0, 0.0, 0.0, 0.0, 0.0, 0.0, 0.0, 0.0, 0.0, 0.0, 0.0, 0.0, 0.0, 0.0, 0.0]</td>\n",
       "      <td>[0.0, 0.0, 0.0, 0.0, 0.0, 0.0, 0.0, 0.0, 0.0, 0.0, 0.0, 0.0, 0.0, 0.0, 0.0, 0.0, 0.0, 0.0, 0.0, 0.0]</td>\n",
       "    </tr>\n",
       "    <tr>\n",
       "      <td>9</td>\n",
       "      <td>0.099300</td>\n",
       "      <td>0.102998</td>\n",
       "      <td>0.000000</td>\n",
       "      <td>0.000000</td>\n",
       "      <td>[0.0, 0.0, 0.0, 0.0, 0.0, 0.0, 0.0, 0.0, 0.0, 0.0, 0.0, 0.0, 0.0, 0.0, 0.0, 0.0, 0.0, 0.0, 0.0, 0.0]</td>\n",
       "      <td>[0.0, 0.0, 0.0, 0.0, 0.0, 0.0, 0.0, 0.0, 0.0, 0.0, 0.0, 0.0, 0.0, 0.0, 0.0, 0.0, 0.0, 0.0, 0.0, 0.0]</td>\n",
       "      <td>[0.0, 0.0, 0.0, 0.0, 0.0, 0.0, 0.0, 0.0, 0.0, 0.0, 0.0, 0.0, 0.0, 0.0, 0.0, 0.0, 0.0, 0.0, 0.0, 0.0]</td>\n",
       "    </tr>\n",
       "    <tr>\n",
       "      <td>10</td>\n",
       "      <td>0.095400</td>\n",
       "      <td>0.101346</td>\n",
       "      <td>0.000000</td>\n",
       "      <td>0.000000</td>\n",
       "      <td>[0.0, 0.0, 0.0, 0.0, 0.0, 0.0, 0.0, 0.0, 0.0, 0.0, 0.0, 0.0, 0.0, 0.0, 0.0, 0.0, 0.0, 0.0, 0.0, 0.0]</td>\n",
       "      <td>[0.0, 0.0, 0.0, 0.0, 0.0, 0.0, 0.0, 0.0, 0.0, 0.0, 0.0, 0.0, 0.0, 0.0, 0.0, 0.0, 0.0, 0.0, 0.0, 0.0]</td>\n",
       "      <td>[0.0, 0.0, 0.0, 0.0, 0.0, 0.0, 0.0, 0.0, 0.0, 0.0, 0.0, 0.0, 0.0, 0.0, 0.0, 0.0, 0.0, 0.0, 0.0, 0.0]</td>\n",
       "    </tr>\n",
       "    <tr>\n",
       "      <td>11</td>\n",
       "      <td>0.090500</td>\n",
       "      <td>0.096249</td>\n",
       "      <td>0.000000</td>\n",
       "      <td>0.000000</td>\n",
       "      <td>[0.0, 0.0, 0.0, 0.0, 0.0, 0.0, 0.0, 0.0, 0.0, 0.0, 0.0, 0.0, 0.0, 0.0, 0.0, 0.0, 0.0, 0.0, 0.0, 0.0]</td>\n",
       "      <td>[0.0, 0.0, 0.0, 0.0, 0.0, 0.0, 0.0, 0.0, 0.0, 0.0, 0.0, 0.0, 0.0, 0.0, 0.0, 0.0, 0.0, 0.0, 0.0, 0.0]</td>\n",
       "      <td>[0.0, 0.0, 0.0, 0.0, 0.0, 0.0, 0.0, 0.0, 0.0, 0.0, 0.0, 0.0, 0.0, 0.0, 0.0, 0.0, 0.0, 0.0, 0.0, 0.0]</td>\n",
       "    </tr>\n",
       "    <tr>\n",
       "      <td>12</td>\n",
       "      <td>0.086500</td>\n",
       "      <td>0.091415</td>\n",
       "      <td>0.000000</td>\n",
       "      <td>0.000000</td>\n",
       "      <td>[0.0, 0.0, 0.0, 0.0, 0.0, 0.0, 0.0, 0.0, 0.0, 0.0, 0.0, 0.0, 0.0, 0.0, 0.0, 0.0, 0.0, 0.0, 0.0, 0.0]</td>\n",
       "      <td>[0.0, 0.0, 0.0, 0.0, 0.0, 0.0, 0.0, 0.0, 0.0, 0.0, 0.0, 0.0, 0.0, 0.0, 0.0, 0.0, 0.0, 0.0, 0.0, 0.0]</td>\n",
       "      <td>[0.0, 0.0, 0.0, 0.0, 0.0, 0.0, 0.0, 0.0, 0.0, 0.0, 0.0, 0.0, 0.0, 0.0, 0.0, 0.0, 0.0, 0.0, 0.0, 0.0]</td>\n",
       "    </tr>\n",
       "    <tr>\n",
       "      <td>13</td>\n",
       "      <td>0.079000</td>\n",
       "      <td>0.088264</td>\n",
       "      <td>0.043750</td>\n",
       "      <td>0.047500</td>\n",
       "      <td>[0.0, 0.0, 0.0, 0.0, 0.0, 0.0, 0.0, 0.0, 0.0, 0.0, 0.0, 0.2, 0.75, 0.0, 0.0, 0.0, 0.0, 0.0, 0.0, 0.0]</td>\n",
       "      <td>[0.0, 0.0, 0.0, 0.0, 0.0, 0.0, 0.0, 0.0, 0.0, 0.0, 0.0, 0.111, 0.6, 0.0, 0.0, 0.0, 0.0, 0.0, 0.0, 0.0]</td>\n",
       "      <td>[0.0, 0.0, 0.0, 0.0, 0.0, 0.0, 0.0, 0.0, 0.0, 0.0, 0.0, 1.0, 1.0, 0.0, 0.0, 0.0, 0.0, 0.0, 0.0, 0.0]</td>\n",
       "    </tr>\n",
       "    <tr>\n",
       "      <td>14</td>\n",
       "      <td>0.072600</td>\n",
       "      <td>0.083675</td>\n",
       "      <td>0.031250</td>\n",
       "      <td>0.054167</td>\n",
       "      <td>[0.0, 0.0, 0.0, 0.0, 0.0, 0.0, 0.25, 0.0, 0.0, 0.0, 0.0, 0.5, 0.333, 0.0, 0.0, 0.0, 0.0, 0.0, 0.0, 0.0]</td>\n",
       "      <td>[0.0, 0.0, 0.0, 0.0, 0.0, 0.0, 0.143, 0.0, 0.0, 0.0, 0.0, 0.333, 0.2, 0.0, 0.0, 0.0, 0.0, 0.0, 0.0, 0.0]</td>\n",
       "      <td>[0.0, 0.0, 0.0, 0.0, 0.0, 0.0, 1.0, 0.0, 0.0, 0.0, 0.0, 1.0, 1.0, 0.0, 0.0, 0.0, 0.0, 0.0, 0.0, 0.0]</td>\n",
       "    </tr>\n",
       "    <tr>\n",
       "      <td>15</td>\n",
       "      <td>0.065900</td>\n",
       "      <td>0.080511</td>\n",
       "      <td>0.056250</td>\n",
       "      <td>0.088481</td>\n",
       "      <td>[0.0, 0.0, 0.0, 0.0, 0.0, 0.364, 0.444, 0.0, 0.0, 0.0, 0.0, 0.5, 0.462, 0.0, 0.0, 0.0, 0.0, 0.0, 0.0, 0.0]</td>\n",
       "      <td>[0.0, 0.0, 0.0, 0.0, 0.0, 0.25, 0.286, 0.0, 0.0, 0.0, 0.0, 0.333, 0.3, 0.0, 0.0, 0.0, 0.0, 0.0, 0.0, 0.0]</td>\n",
       "      <td>[0.0, 0.0, 0.0, 0.0, 0.0, 0.667, 1.0, 0.0, 0.0, 0.0, 0.0, 1.0, 1.0, 0.0, 0.0, 0.0, 0.0, 0.0, 0.0, 0.0]</td>\n",
       "    </tr>\n",
       "    <tr>\n",
       "      <td>16</td>\n",
       "      <td>0.057800</td>\n",
       "      <td>0.077865</td>\n",
       "      <td>0.081250</td>\n",
       "      <td>0.141389</td>\n",
       "      <td>[0.0, 0.0, 0.0, 0.0, 0.0, 0.4, 0.444, 0.0, 0.0, 0.0, 0.0, 0.5, 0.75, 0.4, 0.0, 0.333, 0.0, 0.0, 0.0, 0.0]</td>\n",
       "      <td>[0.0, 0.0, 0.0, 0.0, 0.0, 0.25, 0.286, 0.0, 0.0, 0.0, 0.0, 0.333, 0.6, 0.25, 0.0, 0.222, 0.0, 0.0, 0.0, 0.0]</td>\n",
       "      <td>[0.0, 0.0, 0.0, 0.0, 0.0, 1.0, 1.0, 0.0, 0.0, 0.0, 0.0, 1.0, 1.0, 1.0, 0.0, 0.667, 0.0, 0.0, 0.0, 0.0]</td>\n",
       "    </tr>\n",
       "    <tr>\n",
       "      <td>17</td>\n",
       "      <td>0.051100</td>\n",
       "      <td>0.076493</td>\n",
       "      <td>0.087500</td>\n",
       "      <td>0.156743</td>\n",
       "      <td>[0.0, 0.0, 0.0, 0.0, 0.0, 0.222, 0.444, 0.0, 0.571, 0.0, 0.0, 0.5, 0.625, 0.545, 0.0, 0.2, 0.0, 0.0, 0.0, 0.026]</td>\n",
       "      <td>[0.0, 0.0, 0.0, 0.0, 0.0, 0.125, 0.286, 0.0, 0.4, 0.0, 0.0, 0.333, 0.5, 0.375, 0.0, 0.111, 0.0, 0.0, 0.0, 0.013]</td>\n",
       "      <td>[0.0, 0.0, 0.0, 0.0, 0.0, 1.0, 1.0, 0.0, 1.0, 0.0, 0.0, 1.0, 0.833, 1.0, 0.0, 1.0, 0.0, 0.0, 0.0, 1.0]</td>\n",
       "    </tr>\n",
       "    <tr>\n",
       "      <td>18</td>\n",
       "      <td>0.044800</td>\n",
       "      <td>0.075883</td>\n",
       "      <td>0.237500</td>\n",
       "      <td>0.213884</td>\n",
       "      <td>[0.0, 0.0, 0.0, 0.0, 0.0, 0.333, 0.444, 0.0, 0.333, 0.0, 0.0, 0.5, 0.667, 0.4, 0.308, 0.364, 0.0, 0.5, 0.0, 0.429]</td>\n",
       "      <td>[0.0, 0.0, 0.0, 0.0, 0.0, 0.25, 0.286, 0.0, 0.2, 0.0, 0.0, 0.333, 0.5, 0.25, 0.2, 0.222, 0.0, 0.4, 0.0, 0.28]</td>\n",
       "      <td>[0.0, 0.0, 0.0, 0.0, 0.0, 0.5, 1.0, 0.0, 1.0, 0.0, 0.0, 1.0, 1.0, 1.0, 0.667, 1.0, 0.0, 0.667, 0.0, 0.913]</td>\n",
       "    </tr>\n",
       "    <tr>\n",
       "      <td>19</td>\n",
       "      <td>0.041200</td>\n",
       "      <td>0.074866</td>\n",
       "      <td>0.343750</td>\n",
       "      <td>0.247398</td>\n",
       "      <td>[0.0, 0.0, 0.0, 0.0, 0.0, 0.364, 0.444, 0.0, 0.571, 0.0, 0.0, 0.5, 0.706, 0.545, 0.308, 0.462, 0.0, 0.444, 0.0, 0.603]</td>\n",
       "      <td>[0.0, 0.0, 0.0, 0.0, 0.0, 0.25, 0.286, 0.0, 0.4, 0.0, 0.0, 0.333, 0.6, 0.375, 0.2, 0.333, 0.0, 0.4, 0.0, 0.467]</td>\n",
       "      <td>[0.0, 0.0, 0.0, 0.0, 0.0, 0.667, 1.0, 0.0, 1.0, 0.0, 0.0, 1.0, 0.857, 1.0, 0.667, 0.75, 0.0, 0.5, 0.0, 0.854]</td>\n",
       "    </tr>\n",
       "    <tr>\n",
       "      <td>20</td>\n",
       "      <td>0.037500</td>\n",
       "      <td>0.075259</td>\n",
       "      <td>0.350000</td>\n",
       "      <td>0.245705</td>\n",
       "      <td>[0.0, 0.0, 0.0, 0.0, 0.0, 0.364, 0.444, 0.0, 0.75, 0.0, 0.0, 0.714, 0.625, 0.545, 0.167, 0.0, 0.0, 0.444, 0.25, 0.61]</td>\n",
       "      <td>[0.0, 0.0, 0.0, 0.0, 0.0, 0.25, 0.286, 0.0, 0.6, 0.0, 0.0, 0.556, 0.5, 0.375, 0.1, 0.0, 0.0, 0.4, 0.143, 0.48]</td>\n",
       "      <td>[0.0, 0.0, 0.0, 0.0, 0.0, 0.667, 1.0, 0.0, 1.0, 0.0, 0.0, 1.0, 0.833, 1.0, 0.5, 0.0, 0.0, 0.5, 1.0, 0.837]</td>\n",
       "    </tr>\n",
       "    <tr>\n",
       "      <td>21</td>\n",
       "      <td>0.033600</td>\n",
       "      <td>0.074424</td>\n",
       "      <td>0.412500</td>\n",
       "      <td>0.264748</td>\n",
       "      <td>[0.0, 0.0, 0.0, 0.0, 0.0, 0.4, 0.444, 0.0, 0.571, 0.0, 0.0, 0.615, 0.625, 0.5, 0.167, 0.364, 0.0, 0.667, 0.25, 0.692]</td>\n",
       "      <td>[0.0, 0.0, 0.0, 0.0, 0.0, 0.25, 0.286, 0.0, 0.4, 0.0, 0.0, 0.444, 0.5, 0.375, 0.1, 0.222, 0.0, 0.6, 0.143, 0.613]</td>\n",
       "      <td>[0.0, 0.0, 0.0, 0.0, 0.0, 1.0, 1.0, 0.0, 1.0, 0.0, 0.0, 1.0, 0.833, 0.75, 0.5, 1.0, 0.0, 0.75, 1.0, 0.793]</td>\n",
       "    </tr>\n",
       "    <tr>\n",
       "      <td>22</td>\n",
       "      <td>0.030700</td>\n",
       "      <td>0.073627</td>\n",
       "      <td>0.406250</td>\n",
       "      <td>0.260586</td>\n",
       "      <td>[0.0, 0.0, 0.0, 0.0, 0.0, 0.421, 0.444, 0.0, 0.667, 0.0, 0.0, 0.615, 0.706, 0.462, 0.167, 0.364, 0.0, 0.444, 0.25, 0.672]</td>\n",
       "      <td>[0.0, 0.0, 0.0, 0.0, 0.0, 0.5, 0.286, 0.0, 0.6, 0.0, 0.0, 0.444, 0.6, 0.375, 0.1, 0.222, 0.0, 0.4, 0.143, 0.56]</td>\n",
       "      <td>[0.0, 0.0, 0.0, 0.0, 0.0, 0.364, 1.0, 0.0, 0.75, 0.0, 0.0, 1.0, 0.857, 0.6, 0.5, 1.0, 0.0, 0.5, 1.0, 0.84]</td>\n",
       "    </tr>\n",
       "    <tr>\n",
       "      <td>23</td>\n",
       "      <td>0.028600</td>\n",
       "      <td>0.072769</td>\n",
       "      <td>0.443750</td>\n",
       "      <td>0.307623</td>\n",
       "      <td>[0.0, 0.0, 0.0, 0.0, 0.0, 0.5, 0.444, 0.0, 0.75, 0.0, 0.5, 0.615, 0.625, 0.5, 0.308, 0.364, 0.0, 0.6, 0.25, 0.696]</td>\n",
       "      <td>[0.0, 0.0, 0.0, 0.0, 0.0, 0.375, 0.286, 0.0, 0.6, 0.0, 0.333, 0.444, 0.5, 0.375, 0.2, 0.222, 0.0, 0.6, 0.143, 0.627]</td>\n",
       "      <td>[0.0, 0.0, 0.0, 0.0, 0.0, 0.75, 1.0, 0.0, 1.0, 0.0, 1.0, 1.0, 0.833, 0.75, 0.667, 1.0, 0.0, 0.6, 1.0, 0.783]</td>\n",
       "    </tr>\n",
       "    <tr>\n",
       "      <td>24</td>\n",
       "      <td>0.026500</td>\n",
       "      <td>0.073762</td>\n",
       "      <td>0.462500</td>\n",
       "      <td>0.276643</td>\n",
       "      <td>[0.0, 0.0, 0.0, 0.0, 0.0, 0.5, 0.444, 0.0, 0.75, 0.0, 0.0, 0.615, 0.706, 0.5, 0.308, 0.308, 0.4, 0.0, 0.25, 0.752]</td>\n",
       "      <td>[0.0, 0.0, 0.0, 0.0, 0.0, 0.375, 0.286, 0.0, 0.6, 0.0, 0.0, 0.444, 0.6, 0.375, 0.2, 0.222, 0.25, 0.0, 0.143, 0.707]</td>\n",
       "      <td>[0.0, 0.0, 0.0, 0.0, 0.0, 0.75, 1.0, 0.0, 1.0, 0.0, 0.0, 1.0, 0.857, 0.75, 0.667, 0.5, 1.0, 0.0, 1.0, 0.803]</td>\n",
       "    </tr>\n",
       "    <tr>\n",
       "      <td>25</td>\n",
       "      <td>0.025100</td>\n",
       "      <td>0.074361</td>\n",
       "      <td>0.518750</td>\n",
       "      <td>0.300072</td>\n",
       "      <td>[0.0, 0.0, 0.0, 0.0, 0.0, 0.462, 0.444, 0.0, 0.75, 0.0, 0.0, 0.615, 0.706, 0.667, 0.308, 0.364, 0.0, 0.667, 0.222, 0.797]</td>\n",
       "      <td>[0.0, 0.0, 0.0, 0.0, 0.0, 0.375, 0.286, 0.0, 0.6, 0.0, 0.0, 0.444, 0.6, 0.625, 0.2, 0.222, 0.0, 0.6, 0.143, 0.787]</td>\n",
       "      <td>[0.0, 0.0, 0.0, 0.0, 0.0, 0.6, 1.0, 0.0, 1.0, 0.0, 0.0, 1.0, 0.857, 0.714, 0.667, 1.0, 0.0, 0.75, 0.5, 0.808]</td>\n",
       "    </tr>\n",
       "    <tr>\n",
       "      <td>26</td>\n",
       "      <td>0.023600</td>\n",
       "      <td>0.072881</td>\n",
       "      <td>0.543750</td>\n",
       "      <td>0.352708</td>\n",
       "      <td>[0.0, 0.0, 0.0, 0.0, 0.0, 0.462, 0.444, 0.0, 0.75, 0.0, 0.5, 0.615, 0.8, 0.5, 0.308, 0.667, 0.4, 0.6, 0.222, 0.786]</td>\n",
       "      <td>[0.0, 0.0, 0.0, 0.0, 0.0, 0.375, 0.286, 0.0, 0.6, 0.0, 0.333, 0.444, 0.8, 0.375, 0.2, 0.556, 0.25, 0.6, 0.143, 0.76]</td>\n",
       "      <td>[0.0, 0.0, 0.0, 0.0, 0.0, 0.6, 1.0, 0.0, 1.0, 0.0, 1.0, 1.0, 0.8, 0.75, 0.667, 0.833, 1.0, 0.6, 0.5, 0.814]</td>\n",
       "    </tr>\n",
       "  </tbody>\n",
       "</table><p>"
      ],
      "text/plain": [
       "<IPython.core.display.HTML object>"
      ]
     },
     "metadata": {},
     "output_type": "display_data"
    },
    {
     "data": {
      "application/vnd.jupyter.widget-view+json": {
       "model_id": "936b51936b8a45b7993cc78d55d75c32",
       "version_major": 2,
       "version_minor": 0
      },
      "text/plain": [
       "Map:   0%|          | 0/200 [00:00<?, ? examples/s]"
      ]
     },
     "metadata": {},
     "output_type": "display_data"
    },
    {
     "data": {
      "text/html": [],
      "text/plain": [
       "<IPython.core.display.HTML object>"
      ]
     },
     "metadata": {},
     "output_type": "display_data"
    },
    {
     "name": "stdout",
     "output_type": "stream",
     "text": [
      "{'accuracy': 0.7184466019417476, 'macro_f1': 0.3885410371723701, 'class_f1': [0.0, 0.0, 0.0, 0.0, 0.0, 0.667, 1.0, 0.0, 0.286, 0.0, 0.0, 0.833, 0.737, 0.75, 0.8, 0.667, 0.0, 0.857, 0.333, 0.841], 'class_recall': [0.0, 0.0, 0.0, 0.0, 0.0, 0.667, 1.0, 0.0, 0.25, 0.0, 0.0, 0.833, 0.7, 1.0, 0.857, 0.5, 0.0, 1.0, 0.25, 0.849], 'class_precision': [0.0, 0.0, 0.0, 0.0, 0.0, 0.667, 1.0, 0.0, 0.333, 0.0, 0.0, 0.833, 0.778, 0.6, 0.75, 1.0, 0.0, 0.75, 0.5, 0.833]}\n",
      "-----------------Fold: 3-----------------\n"
     ]
    },
    {
     "name": "stderr",
     "output_type": "stream",
     "text": [
      "Some weights of BertForSequenceClassification were not initialized from the model checkpoint at cl-tohoku/bert-base-japanese-v3 and are newly initialized: ['classifier.bias', 'classifier.weight']\n",
      "You should probably TRAIN this model on a down-stream task to be able to use it for predictions and inference.\n"
     ]
    },
    {
     "data": {
      "application/vnd.jupyter.widget-view+json": {
       "model_id": "0c8ca90d4a464ec6a06caaa01da79b43",
       "version_major": 2,
       "version_minor": 0
      },
      "text/plain": [
       "Map:   0%|          | 0/643 [00:00<?, ? examples/s]"
      ]
     },
     "metadata": {},
     "output_type": "display_data"
    },
    {
     "data": {
      "application/vnd.jupyter.widget-view+json": {
       "model_id": "bd95e8585d6947ee9301615e0e20e92f",
       "version_major": 2,
       "version_minor": 0
      },
      "text/plain": [
       "Map:   0%|          | 0/157 [00:00<?, ? examples/s]"
      ]
     },
     "metadata": {},
     "output_type": "display_data"
    },
    {
     "name": "stderr",
     "output_type": "stream",
     "text": [
      "wandb: WARNING Source type is set to 'repo' but some required information is missing from the environment. A job will not be created from this run. See https://docs.wandb.ai/guides/launch/create-job\n"
     ]
    },
    {
     "data": {
      "application/vnd.jupyter.widget-view+json": {
       "model_id": "7f6158bafab9421ab064a87cde26abf5",
       "version_major": 2,
       "version_minor": 0
      },
      "text/plain": [
       "VBox(children=(Label(value='Waiting for wandb.init()...\\r'), FloatProgress(value=0.011112368003361755, max=1.0…"
      ]
     },
     "metadata": {},
     "output_type": "display_data"
    },
    {
     "data": {
      "text/html": [
       "\n",
       "    <div>\n",
       "      \n",
       "      <progress value='984' max='4100' style='width:300px; height:20px; vertical-align: middle;'></progress>\n",
       "      [ 984/4100 02:54 < 09:13, 5.63 it/s, Epoch 24/100]\n",
       "    </div>\n",
       "    <table border=\"1\" class=\"dataframe\">\n",
       "  <thead>\n",
       " <tr style=\"text-align: left;\">\n",
       "      <th>Epoch</th>\n",
       "      <th>Training Loss</th>\n",
       "      <th>Validation Loss</th>\n",
       "      <th>Accuracy</th>\n",
       "      <th>Macro F1</th>\n",
       "      <th>Class F1</th>\n",
       "      <th>Class Recall</th>\n",
       "      <th>Class Precision</th>\n",
       "    </tr>\n",
       "  </thead>\n",
       "  <tbody>\n",
       "    <tr>\n",
       "      <td>1</td>\n",
       "      <td>0.642700</td>\n",
       "      <td>0.518100</td>\n",
       "      <td>0.012739</td>\n",
       "      <td>0.030384</td>\n",
       "      <td>[0.0, 0.0, 0.038, 0.069, 0.0, 0.0, 0.0, 0.0, 0.0, 0.0, 0.0, 0.0, 0.056, 0.0, 0.113, 0.0, 0.0, 0.0, 0.0, 0.331]</td>\n",
       "      <td>[0.0, 0.0, 1.0, 0.167, 0.0, 0.0, 0.0, 0.0, 0.0, 0.0, 0.0, 0.0, 0.2, 0.0, 0.3, 0.0, 0.0, 0.0, 0.0, 0.28]</td>\n",
       "      <td>[0.0, 0.0, 0.02, 0.043, 0.0, 0.0, 0.0, 0.0, 0.0, 0.0, 0.0, 0.0, 0.033, 0.0, 0.07, 0.0, 0.0, 0.0, 0.0, 0.404]</td>\n",
       "    </tr>\n",
       "    <tr>\n",
       "      <td>2</td>\n",
       "      <td>0.369600</td>\n",
       "      <td>0.230719</td>\n",
       "      <td>0.000000</td>\n",
       "      <td>0.000000</td>\n",
       "      <td>[0.0, 0.0, 0.0, 0.0, 0.0, 0.0, 0.0, 0.0, 0.0, 0.0, 0.0, 0.0, 0.0, 0.0, 0.0, 0.0, 0.0, 0.0, 0.0, 0.0]</td>\n",
       "      <td>[0.0, 0.0, 0.0, 0.0, 0.0, 0.0, 0.0, 0.0, 0.0, 0.0, 0.0, 0.0, 0.0, 0.0, 0.0, 0.0, 0.0, 0.0, 0.0, 0.0]</td>\n",
       "      <td>[0.0, 0.0, 0.0, 0.0, 0.0, 0.0, 0.0, 0.0, 0.0, 0.0, 0.0, 0.0, 0.0, 0.0, 0.0, 0.0, 0.0, 0.0, 0.0, 0.0]</td>\n",
       "    </tr>\n",
       "    <tr>\n",
       "      <td>3</td>\n",
       "      <td>0.186700</td>\n",
       "      <td>0.149327</td>\n",
       "      <td>0.000000</td>\n",
       "      <td>0.000000</td>\n",
       "      <td>[0.0, 0.0, 0.0, 0.0, 0.0, 0.0, 0.0, 0.0, 0.0, 0.0, 0.0, 0.0, 0.0, 0.0, 0.0, 0.0, 0.0, 0.0, 0.0, 0.0]</td>\n",
       "      <td>[0.0, 0.0, 0.0, 0.0, 0.0, 0.0, 0.0, 0.0, 0.0, 0.0, 0.0, 0.0, 0.0, 0.0, 0.0, 0.0, 0.0, 0.0, 0.0, 0.0]</td>\n",
       "      <td>[0.0, 0.0, 0.0, 0.0, 0.0, 0.0, 0.0, 0.0, 0.0, 0.0, 0.0, 0.0, 0.0, 0.0, 0.0, 0.0, 0.0, 0.0, 0.0, 0.0]</td>\n",
       "    </tr>\n",
       "    <tr>\n",
       "      <td>4</td>\n",
       "      <td>0.134200</td>\n",
       "      <td>0.124309</td>\n",
       "      <td>0.000000</td>\n",
       "      <td>0.000000</td>\n",
       "      <td>[0.0, 0.0, 0.0, 0.0, 0.0, 0.0, 0.0, 0.0, 0.0, 0.0, 0.0, 0.0, 0.0, 0.0, 0.0, 0.0, 0.0, 0.0, 0.0, 0.0]</td>\n",
       "      <td>[0.0, 0.0, 0.0, 0.0, 0.0, 0.0, 0.0, 0.0, 0.0, 0.0, 0.0, 0.0, 0.0, 0.0, 0.0, 0.0, 0.0, 0.0, 0.0, 0.0]</td>\n",
       "      <td>[0.0, 0.0, 0.0, 0.0, 0.0, 0.0, 0.0, 0.0, 0.0, 0.0, 0.0, 0.0, 0.0, 0.0, 0.0, 0.0, 0.0, 0.0, 0.0, 0.0]</td>\n",
       "    </tr>\n",
       "    <tr>\n",
       "      <td>5</td>\n",
       "      <td>0.117300</td>\n",
       "      <td>0.114127</td>\n",
       "      <td>0.000000</td>\n",
       "      <td>0.000000</td>\n",
       "      <td>[0.0, 0.0, 0.0, 0.0, 0.0, 0.0, 0.0, 0.0, 0.0, 0.0, 0.0, 0.0, 0.0, 0.0, 0.0, 0.0, 0.0, 0.0, 0.0, 0.0]</td>\n",
       "      <td>[0.0, 0.0, 0.0, 0.0, 0.0, 0.0, 0.0, 0.0, 0.0, 0.0, 0.0, 0.0, 0.0, 0.0, 0.0, 0.0, 0.0, 0.0, 0.0, 0.0]</td>\n",
       "      <td>[0.0, 0.0, 0.0, 0.0, 0.0, 0.0, 0.0, 0.0, 0.0, 0.0, 0.0, 0.0, 0.0, 0.0, 0.0, 0.0, 0.0, 0.0, 0.0, 0.0]</td>\n",
       "    </tr>\n",
       "    <tr>\n",
       "      <td>6</td>\n",
       "      <td>0.108100</td>\n",
       "      <td>0.109403</td>\n",
       "      <td>0.000000</td>\n",
       "      <td>0.000000</td>\n",
       "      <td>[0.0, 0.0, 0.0, 0.0, 0.0, 0.0, 0.0, 0.0, 0.0, 0.0, 0.0, 0.0, 0.0, 0.0, 0.0, 0.0, 0.0, 0.0, 0.0, 0.0]</td>\n",
       "      <td>[0.0, 0.0, 0.0, 0.0, 0.0, 0.0, 0.0, 0.0, 0.0, 0.0, 0.0, 0.0, 0.0, 0.0, 0.0, 0.0, 0.0, 0.0, 0.0, 0.0]</td>\n",
       "      <td>[0.0, 0.0, 0.0, 0.0, 0.0, 0.0, 0.0, 0.0, 0.0, 0.0, 0.0, 0.0, 0.0, 0.0, 0.0, 0.0, 0.0, 0.0, 0.0, 0.0]</td>\n",
       "    </tr>\n",
       "    <tr>\n",
       "      <td>7</td>\n",
       "      <td>0.104300</td>\n",
       "      <td>0.107099</td>\n",
       "      <td>0.000000</td>\n",
       "      <td>0.000000</td>\n",
       "      <td>[0.0, 0.0, 0.0, 0.0, 0.0, 0.0, 0.0, 0.0, 0.0, 0.0, 0.0, 0.0, 0.0, 0.0, 0.0, 0.0, 0.0, 0.0, 0.0, 0.0]</td>\n",
       "      <td>[0.0, 0.0, 0.0, 0.0, 0.0, 0.0, 0.0, 0.0, 0.0, 0.0, 0.0, 0.0, 0.0, 0.0, 0.0, 0.0, 0.0, 0.0, 0.0, 0.0]</td>\n",
       "      <td>[0.0, 0.0, 0.0, 0.0, 0.0, 0.0, 0.0, 0.0, 0.0, 0.0, 0.0, 0.0, 0.0, 0.0, 0.0, 0.0, 0.0, 0.0, 0.0, 0.0]</td>\n",
       "    </tr>\n",
       "    <tr>\n",
       "      <td>8</td>\n",
       "      <td>0.100500</td>\n",
       "      <td>0.105437</td>\n",
       "      <td>0.000000</td>\n",
       "      <td>0.000000</td>\n",
       "      <td>[0.0, 0.0, 0.0, 0.0, 0.0, 0.0, 0.0, 0.0, 0.0, 0.0, 0.0, 0.0, 0.0, 0.0, 0.0, 0.0, 0.0, 0.0, 0.0, 0.0]</td>\n",
       "      <td>[0.0, 0.0, 0.0, 0.0, 0.0, 0.0, 0.0, 0.0, 0.0, 0.0, 0.0, 0.0, 0.0, 0.0, 0.0, 0.0, 0.0, 0.0, 0.0, 0.0]</td>\n",
       "      <td>[0.0, 0.0, 0.0, 0.0, 0.0, 0.0, 0.0, 0.0, 0.0, 0.0, 0.0, 0.0, 0.0, 0.0, 0.0, 0.0, 0.0, 0.0, 0.0, 0.0]</td>\n",
       "    </tr>\n",
       "    <tr>\n",
       "      <td>9</td>\n",
       "      <td>0.099100</td>\n",
       "      <td>0.103723</td>\n",
       "      <td>0.000000</td>\n",
       "      <td>0.000000</td>\n",
       "      <td>[0.0, 0.0, 0.0, 0.0, 0.0, 0.0, 0.0, 0.0, 0.0, 0.0, 0.0, 0.0, 0.0, 0.0, 0.0, 0.0, 0.0, 0.0, 0.0, 0.0]</td>\n",
       "      <td>[0.0, 0.0, 0.0, 0.0, 0.0, 0.0, 0.0, 0.0, 0.0, 0.0, 0.0, 0.0, 0.0, 0.0, 0.0, 0.0, 0.0, 0.0, 0.0, 0.0]</td>\n",
       "      <td>[0.0, 0.0, 0.0, 0.0, 0.0, 0.0, 0.0, 0.0, 0.0, 0.0, 0.0, 0.0, 0.0, 0.0, 0.0, 0.0, 0.0, 0.0, 0.0, 0.0]</td>\n",
       "    </tr>\n",
       "    <tr>\n",
       "      <td>10</td>\n",
       "      <td>0.097000</td>\n",
       "      <td>0.100197</td>\n",
       "      <td>0.000000</td>\n",
       "      <td>0.000000</td>\n",
       "      <td>[0.0, 0.0, 0.0, 0.0, 0.0, 0.0, 0.0, 0.0, 0.0, 0.0, 0.0, 0.0, 0.0, 0.0, 0.0, 0.0, 0.0, 0.0, 0.0, 0.0]</td>\n",
       "      <td>[0.0, 0.0, 0.0, 0.0, 0.0, 0.0, 0.0, 0.0, 0.0, 0.0, 0.0, 0.0, 0.0, 0.0, 0.0, 0.0, 0.0, 0.0, 0.0, 0.0]</td>\n",
       "      <td>[0.0, 0.0, 0.0, 0.0, 0.0, 0.0, 0.0, 0.0, 0.0, 0.0, 0.0, 0.0, 0.0, 0.0, 0.0, 0.0, 0.0, 0.0, 0.0, 0.0]</td>\n",
       "    </tr>\n",
       "    <tr>\n",
       "      <td>11</td>\n",
       "      <td>0.090700</td>\n",
       "      <td>0.097591</td>\n",
       "      <td>0.000000</td>\n",
       "      <td>0.000000</td>\n",
       "      <td>[0.0, 0.0, 0.0, 0.0, 0.0, 0.0, 0.0, 0.0, 0.0, 0.0, 0.0, 0.0, 0.0, 0.0, 0.0, 0.0, 0.0, 0.0, 0.0, 0.0]</td>\n",
       "      <td>[0.0, 0.0, 0.0, 0.0, 0.0, 0.0, 0.0, 0.0, 0.0, 0.0, 0.0, 0.0, 0.0, 0.0, 0.0, 0.0, 0.0, 0.0, 0.0, 0.0]</td>\n",
       "      <td>[0.0, 0.0, 0.0, 0.0, 0.0, 0.0, 0.0, 0.0, 0.0, 0.0, 0.0, 0.0, 0.0, 0.0, 0.0, 0.0, 0.0, 0.0, 0.0, 0.0]</td>\n",
       "    </tr>\n",
       "    <tr>\n",
       "      <td>12</td>\n",
       "      <td>0.088000</td>\n",
       "      <td>0.095686</td>\n",
       "      <td>0.000000</td>\n",
       "      <td>0.000000</td>\n",
       "      <td>[0.0, 0.0, 0.0, 0.0, 0.0, 0.0, 0.0, 0.0, 0.0, 0.0, 0.0, 0.0, 0.0, 0.0, 0.0, 0.0, 0.0, 0.0, 0.0, 0.0]</td>\n",
       "      <td>[0.0, 0.0, 0.0, 0.0, 0.0, 0.0, 0.0, 0.0, 0.0, 0.0, 0.0, 0.0, 0.0, 0.0, 0.0, 0.0, 0.0, 0.0, 0.0, 0.0]</td>\n",
       "      <td>[0.0, 0.0, 0.0, 0.0, 0.0, 0.0, 0.0, 0.0, 0.0, 0.0, 0.0, 0.0, 0.0, 0.0, 0.0, 0.0, 0.0, 0.0, 0.0, 0.0]</td>\n",
       "    </tr>\n",
       "    <tr>\n",
       "      <td>13</td>\n",
       "      <td>0.081800</td>\n",
       "      <td>0.090159</td>\n",
       "      <td>0.000000</td>\n",
       "      <td>0.000000</td>\n",
       "      <td>[0.0, 0.0, 0.0, 0.0, 0.0, 0.0, 0.0, 0.0, 0.0, 0.0, 0.0, 0.0, 0.0, 0.0, 0.0, 0.0, 0.0, 0.0, 0.0, 0.0]</td>\n",
       "      <td>[0.0, 0.0, 0.0, 0.0, 0.0, 0.0, 0.0, 0.0, 0.0, 0.0, 0.0, 0.0, 0.0, 0.0, 0.0, 0.0, 0.0, 0.0, 0.0, 0.0]</td>\n",
       "      <td>[0.0, 0.0, 0.0, 0.0, 0.0, 0.0, 0.0, 0.0, 0.0, 0.0, 0.0, 0.0, 0.0, 0.0, 0.0, 0.0, 0.0, 0.0, 0.0, 0.0]</td>\n",
       "    </tr>\n",
       "    <tr>\n",
       "      <td>14</td>\n",
       "      <td>0.077300</td>\n",
       "      <td>0.086263</td>\n",
       "      <td>0.000000</td>\n",
       "      <td>0.000000</td>\n",
       "      <td>[0.0, 0.0, 0.0, 0.0, 0.0, 0.0, 0.0, 0.0, 0.0, 0.0, 0.0, 0.0, 0.0, 0.0, 0.0, 0.0, 0.0, 0.0, 0.0, 0.0]</td>\n",
       "      <td>[0.0, 0.0, 0.0, 0.0, 0.0, 0.0, 0.0, 0.0, 0.0, 0.0, 0.0, 0.0, 0.0, 0.0, 0.0, 0.0, 0.0, 0.0, 0.0, 0.0]</td>\n",
       "      <td>[0.0, 0.0, 0.0, 0.0, 0.0, 0.0, 0.0, 0.0, 0.0, 0.0, 0.0, 0.0, 0.0, 0.0, 0.0, 0.0, 0.0, 0.0, 0.0, 0.0]</td>\n",
       "    </tr>\n",
       "    <tr>\n",
       "      <td>15</td>\n",
       "      <td>0.066700</td>\n",
       "      <td>0.086028</td>\n",
       "      <td>0.012739</td>\n",
       "      <td>0.025758</td>\n",
       "      <td>[0.0, 0.0, 0.0, 0.0, 0.0, 0.0, 0.0, 0.0, 0.0, 0.0, 0.0, 0.182, 0.333, 0.0, 0.0, 0.0, 0.0, 0.0, 0.0, 0.0]</td>\n",
       "      <td>[0.0, 0.0, 0.0, 0.0, 0.0, 0.0, 0.0, 0.0, 0.0, 0.0, 0.0, 0.111, 0.2, 0.0, 0.0, 0.0, 0.0, 0.0, 0.0, 0.0]</td>\n",
       "      <td>[0.0, 0.0, 0.0, 0.0, 0.0, 0.0, 0.0, 0.0, 0.0, 0.0, 0.0, 0.5, 1.0, 0.0, 0.0, 0.0, 0.0, 0.0, 0.0, 0.0]</td>\n",
       "    </tr>\n",
       "    <tr>\n",
       "      <td>16</td>\n",
       "      <td>0.060600</td>\n",
       "      <td>0.081965</td>\n",
       "      <td>0.121019</td>\n",
       "      <td>0.095280</td>\n",
       "      <td>[0.0, 0.0, 0.0, 0.0, 0.0, 0.222, 0.0, 0.0, 0.0, 0.0, 0.0, 0.2, 0.824, 0.222, 0.0, 0.182, 0.0, 0.0, 0.0, 0.256]</td>\n",
       "      <td>[0.0, 0.0, 0.0, 0.0, 0.0, 0.125, 0.0, 0.0, 0.0, 0.0, 0.0, 0.111, 0.7, 0.125, 0.0, 0.111, 0.0, 0.0, 0.0, 0.147]</td>\n",
       "      <td>[0.0, 0.0, 0.0, 0.0, 0.0, 1.0, 0.0, 0.0, 0.0, 0.0, 0.0, 1.0, 1.0, 1.0, 0.0, 0.5, 0.0, 0.0, 0.0, 1.0]</td>\n",
       "    </tr>\n",
       "    <tr>\n",
       "      <td>17</td>\n",
       "      <td>0.053600</td>\n",
       "      <td>0.079930</td>\n",
       "      <td>0.178344</td>\n",
       "      <td>0.147243</td>\n",
       "      <td>[0.0, 0.0, 0.0, 0.286, 0.0, 0.222, 0.615, 0.0, 0.0, 0.0, 0.0, 0.571, 0.824, 0.0, 0.154, 0.0, 0.0, 0.0, 0.0, 0.273]</td>\n",
       "      <td>[0.0, 0.0, 0.0, 0.167, 0.0, 0.125, 0.571, 0.0, 0.0, 0.0, 0.0, 0.444, 0.7, 0.0, 0.1, 0.0, 0.0, 0.0, 0.0, 0.16]</td>\n",
       "      <td>[0.0, 0.0, 0.0, 1.0, 0.0, 1.0, 0.667, 0.0, 0.0, 0.0, 0.0, 0.8, 1.0, 0.0, 0.333, 0.0, 0.0, 0.0, 0.0, 0.923]</td>\n",
       "    </tr>\n",
       "    <tr>\n",
       "      <td>18</td>\n",
       "      <td>0.047200</td>\n",
       "      <td>0.078882</td>\n",
       "      <td>0.331210</td>\n",
       "      <td>0.165727</td>\n",
       "      <td>[0.0, 0.0, 0.0, 0.0, 0.0, 0.0, 0.727, 0.0, 0.0, 0.0, 0.0, 0.571, 0.7, 0.222, 0.0, 0.182, 0.0, 0.286, 0.0, 0.626]</td>\n",
       "      <td>[0.0, 0.0, 0.0, 0.0, 0.0, 0.0, 0.571, 0.0, 0.0, 0.0, 0.0, 0.444, 0.7, 0.125, 0.0, 0.111, 0.0, 0.167, 0.0, 0.48]</td>\n",
       "      <td>[0.0, 0.0, 0.0, 0.0, 0.0, 0.0, 1.0, 0.0, 0.0, 0.0, 0.0, 0.8, 0.7, 1.0, 0.0, 0.5, 0.0, 1.0, 0.0, 0.9]</td>\n",
       "    </tr>\n",
       "    <tr>\n",
       "      <td>19</td>\n",
       "      <td>0.042000</td>\n",
       "      <td>0.079998</td>\n",
       "      <td>0.426752</td>\n",
       "      <td>0.171113</td>\n",
       "      <td>[0.0, 0.0, 0.0, 0.0, 0.0, 0.0, 0.571, 0.0, 0.0, 0.0, 0.0, 0.571, 0.778, 0.222, 0.0, 0.5, 0.0, 0.0, 0.0, 0.779]</td>\n",
       "      <td>[0.0, 0.0, 0.0, 0.0, 0.0, 0.0, 0.571, 0.0, 0.0, 0.0, 0.0, 0.444, 0.7, 0.125, 0.0, 0.333, 0.0, 0.0, 0.0, 0.707]</td>\n",
       "      <td>[0.0, 0.0, 0.0, 0.0, 0.0, 0.0, 0.571, 0.0, 0.0, 0.0, 0.0, 0.8, 0.875, 1.0, 0.0, 1.0, 0.0, 0.0, 0.0, 0.869]</td>\n",
       "    </tr>\n",
       "    <tr>\n",
       "      <td>20</td>\n",
       "      <td>0.039100</td>\n",
       "      <td>0.080643</td>\n",
       "      <td>0.471338</td>\n",
       "      <td>0.214578</td>\n",
       "      <td>[0.0, 0.0, 0.0, 0.0, 0.0, 0.2, 0.727, 0.0, 0.333, 0.0, 0.0, 0.75, 0.7, 0.2, 0.0, 0.333, 0.0, 0.286, 0.0, 0.762]</td>\n",
       "      <td>[0.0, 0.0, 0.0, 0.0, 0.0, 0.125, 0.571, 0.0, 0.2, 0.0, 0.0, 0.667, 0.7, 0.125, 0.0, 0.222, 0.0, 0.167, 0.0, 0.747]</td>\n",
       "      <td>[0.0, 0.0, 0.0, 0.0, 0.0, 0.5, 1.0, 0.0, 1.0, 0.0, 0.0, 0.857, 0.7, 0.5, 0.0, 0.667, 0.0, 1.0, 0.0, 0.778]</td>\n",
       "    </tr>\n",
       "    <tr>\n",
       "      <td>21</td>\n",
       "      <td>0.034600</td>\n",
       "      <td>0.078419</td>\n",
       "      <td>0.452229</td>\n",
       "      <td>0.234697</td>\n",
       "      <td>[0.0, 0.0, 0.0, 0.5, 0.0, 0.0, 0.571, 0.0, 0.333, 0.0, 0.0, 0.571, 0.778, 0.182, 0.143, 0.333, 0.0, 0.5, 0.0, 0.782]</td>\n",
       "      <td>[0.0, 0.0, 0.0, 0.333, 0.0, 0.0, 0.571, 0.0, 0.2, 0.0, 0.0, 0.444, 0.7, 0.125, 0.1, 0.222, 0.0, 0.333, 0.0, 0.693]</td>\n",
       "      <td>[0.0, 0.0, 0.0, 1.0, 0.0, 0.0, 0.571, 0.0, 1.0, 0.0, 0.0, 0.8, 0.875, 0.333, 0.25, 0.667, 0.0, 1.0, 0.0, 0.897]</td>\n",
       "    </tr>\n",
       "    <tr>\n",
       "      <td>22</td>\n",
       "      <td>0.032400</td>\n",
       "      <td>0.080107</td>\n",
       "      <td>0.484076</td>\n",
       "      <td>0.237913</td>\n",
       "      <td>[0.0, 0.0, 0.0, 0.5, 0.0, 0.182, 0.667, 0.0, 0.333, 0.0, 0.0, 0.75, 0.737, 0.182, 0.0, 0.333, 0.0, 0.286, 0.0, 0.789]</td>\n",
       "      <td>[0.0, 0.0, 0.0, 0.333, 0.0, 0.125, 0.571, 0.0, 0.2, 0.0, 0.0, 0.667, 0.7, 0.125, 0.0, 0.222, 0.0, 0.167, 0.0, 0.747]</td>\n",
       "      <td>[0.0, 0.0, 0.0, 1.0, 0.0, 0.333, 0.8, 0.0, 1.0, 0.0, 0.0, 0.857, 0.778, 0.333, 0.0, 0.667, 0.0, 1.0, 0.0, 0.836]</td>\n",
       "    </tr>\n",
       "    <tr>\n",
       "      <td>23</td>\n",
       "      <td>0.029600</td>\n",
       "      <td>0.079175</td>\n",
       "      <td>0.464968</td>\n",
       "      <td>0.219984</td>\n",
       "      <td>[0.0, 0.0, 0.0, 0.0, 0.0, 0.182, 0.615, 0.0, 0.333, 0.0, 0.0, 0.667, 0.7, 0.167, 0.0, 0.5, 0.0, 0.444, 0.0, 0.791]</td>\n",
       "      <td>[0.0, 0.0, 0.0, 0.0, 0.0, 0.125, 0.571, 0.0, 0.2, 0.0, 0.0, 0.556, 0.7, 0.125, 0.0, 0.333, 0.0, 0.333, 0.0, 0.733]</td>\n",
       "      <td>[0.0, 0.0, 0.0, 0.0, 0.0, 0.333, 0.667, 0.0, 1.0, 0.0, 0.0, 0.833, 0.7, 0.25, 0.0, 1.0, 0.0, 0.667, 0.0, 0.859]</td>\n",
       "    </tr>\n",
       "    <tr>\n",
       "      <td>24</td>\n",
       "      <td>0.027200</td>\n",
       "      <td>0.081486</td>\n",
       "      <td>0.477707</td>\n",
       "      <td>0.209682</td>\n",
       "      <td>[0.0, 0.0, 0.0, 0.286, 0.0, 0.0, 0.615, 0.0, 0.333, 0.0, 0.0, 0.571, 0.7, 0.286, 0.143, 0.182, 0.0, 0.286, 0.0, 0.792]</td>\n",
       "      <td>[0.0, 0.0, 0.0, 0.167, 0.0, 0.0, 0.571, 0.0, 0.2, 0.0, 0.0, 0.444, 0.7, 0.25, 0.1, 0.111, 0.0, 0.167, 0.0, 0.76]</td>\n",
       "      <td>[0.0, 0.0, 0.0, 1.0, 0.0, 0.0, 0.667, 0.0, 1.0, 0.0, 0.0, 0.8, 0.7, 0.333, 0.25, 0.5, 0.0, 1.0, 0.0, 0.826]</td>\n",
       "    </tr>\n",
       "  </tbody>\n",
       "</table><p>"
      ],
      "text/plain": [
       "<IPython.core.display.HTML object>"
      ]
     },
     "metadata": {},
     "output_type": "display_data"
    },
    {
     "data": {
      "application/vnd.jupyter.widget-view+json": {
       "model_id": "ab4534696a934c6d82d376e07433501d",
       "version_major": 2,
       "version_minor": 0
      },
      "text/plain": [
       "Map:   0%|          | 0/200 [00:00<?, ? examples/s]"
      ]
     },
     "metadata": {},
     "output_type": "display_data"
    },
    {
     "data": {
      "text/html": [],
      "text/plain": [
       "<IPython.core.display.HTML object>"
      ]
     },
     "metadata": {},
     "output_type": "display_data"
    },
    {
     "name": "stdout",
     "output_type": "stream",
     "text": [
      "{'accuracy': 0.7272727272727273, 'macro_f1': 0.4154284369114877, 'class_f1': [0.0, 0.0, 0.0, 0.667, 0.0, 0.857, 0.667, 0.0, 0.0, 0.0, 0.0, 0.8, 0.778, 1.0, 0.8, 0.75, 0.0, 0.857, 0.286, 0.847], 'class_recall': [0.0, 0.0, 0.0, 0.5, 0.0, 1.0, 0.667, 0.0, 0.0, 0.0, 0.0, 0.75, 0.778, 1.0, 0.8, 0.75, 0.0, 0.75, 0.25, 0.909], 'class_precision': [0.0, 0.0, 0.0, 1.0, 0.0, 0.75, 0.667, 0.0, 0.0, 0.0, 0.0, 0.857, 0.778, 1.0, 0.8, 0.75, 0.0, 1.0, 0.333, 0.794]}\n",
      "-----------------Fold: 4-----------------\n"
     ]
    },
    {
     "name": "stderr",
     "output_type": "stream",
     "text": [
      "Some weights of BertForSequenceClassification were not initialized from the model checkpoint at cl-tohoku/bert-base-japanese-v3 and are newly initialized: ['classifier.bias', 'classifier.weight']\n",
      "You should probably TRAIN this model on a down-stream task to be able to use it for predictions and inference.\n"
     ]
    },
    {
     "data": {
      "application/vnd.jupyter.widget-view+json": {
       "model_id": "741feb1e5fd5451eacb119366cd81173",
       "version_major": 2,
       "version_minor": 0
      },
      "text/plain": [
       "Map:   0%|          | 0/642 [00:00<?, ? examples/s]"
      ]
     },
     "metadata": {},
     "output_type": "display_data"
    },
    {
     "data": {
      "application/vnd.jupyter.widget-view+json": {
       "model_id": "214c48a890c8429d9ef28857d0807256",
       "version_major": 2,
       "version_minor": 0
      },
      "text/plain": [
       "Map:   0%|          | 0/158 [00:00<?, ? examples/s]"
      ]
     },
     "metadata": {},
     "output_type": "display_data"
    },
    {
     "name": "stderr",
     "output_type": "stream",
     "text": [
      "wandb: WARNING Source type is set to 'repo' but some required information is missing from the environment. A job will not be created from this run. See https://docs.wandb.ai/guides/launch/create-job\n"
     ]
    },
    {
     "data": {
      "application/vnd.jupyter.widget-view+json": {
       "model_id": "5df1f440dd994c198d6d217d2badd5f0",
       "version_major": 2,
       "version_minor": 0
      },
      "text/plain": [
       "VBox(children=(Label(value='Waiting for wandb.init()...\\r'), FloatProgress(value=0.011112358690136008, max=1.0…"
      ]
     },
     "metadata": {},
     "output_type": "display_data"
    },
    {
     "data": {
      "text/html": [
       "\n",
       "    <div>\n",
       "      \n",
       "      <progress value='1025' max='4100' style='width:300px; height:20px; vertical-align: middle;'></progress>\n",
       "      [1025/4100 03:00 < 09:03, 5.66 it/s, Epoch 25/100]\n",
       "    </div>\n",
       "    <table border=\"1\" class=\"dataframe\">\n",
       "  <thead>\n",
       " <tr style=\"text-align: left;\">\n",
       "      <th>Epoch</th>\n",
       "      <th>Training Loss</th>\n",
       "      <th>Validation Loss</th>\n",
       "      <th>Accuracy</th>\n",
       "      <th>Macro F1</th>\n",
       "      <th>Class F1</th>\n",
       "      <th>Class Recall</th>\n",
       "      <th>Class Precision</th>\n",
       "    </tr>\n",
       "  </thead>\n",
       "  <tbody>\n",
       "    <tr>\n",
       "      <td>1</td>\n",
       "      <td>0.607300</td>\n",
       "      <td>0.484516</td>\n",
       "      <td>0.018987</td>\n",
       "      <td>0.009345</td>\n",
       "      <td>[0.0, 0.0, 0.0, 0.0, 0.0, 0.0, 0.0, 0.0, 0.0, 0.0, 0.0, 0.0, 0.0, 0.105, 0.0, 0.0, 0.0, 0.082, 0.0, 0.0]</td>\n",
       "      <td>[0.0, 0.0, 0.0, 0.0, 0.0, 0.0, 0.0, 0.0, 0.0, 0.0, 0.0, 0.0, 0.0, 0.125, 0.0, 0.0, 0.0, 0.667, 0.0, 0.0]</td>\n",
       "      <td>[0.0, 0.0, 0.0, 0.0, 0.0, 0.0, 0.0, 0.0, 0.0, 0.0, 0.0, 0.0, 0.0, 0.091, 0.0, 0.0, 0.0, 0.043, 0.0, 0.0]</td>\n",
       "    </tr>\n",
       "    <tr>\n",
       "      <td>2</td>\n",
       "      <td>0.335600</td>\n",
       "      <td>0.209303</td>\n",
       "      <td>0.000000</td>\n",
       "      <td>0.000000</td>\n",
       "      <td>[0.0, 0.0, 0.0, 0.0, 0.0, 0.0, 0.0, 0.0, 0.0, 0.0, 0.0, 0.0, 0.0, 0.0, 0.0, 0.0, 0.0, 0.0, 0.0, 0.0]</td>\n",
       "      <td>[0.0, 0.0, 0.0, 0.0, 0.0, 0.0, 0.0, 0.0, 0.0, 0.0, 0.0, 0.0, 0.0, 0.0, 0.0, 0.0, 0.0, 0.0, 0.0, 0.0]</td>\n",
       "      <td>[0.0, 0.0, 0.0, 0.0, 0.0, 0.0, 0.0, 0.0, 0.0, 0.0, 0.0, 0.0, 0.0, 0.0, 0.0, 0.0, 0.0, 0.0, 0.0, 0.0]</td>\n",
       "    </tr>\n",
       "    <tr>\n",
       "      <td>3</td>\n",
       "      <td>0.171600</td>\n",
       "      <td>0.139733</td>\n",
       "      <td>0.000000</td>\n",
       "      <td>0.000000</td>\n",
       "      <td>[0.0, 0.0, 0.0, 0.0, 0.0, 0.0, 0.0, 0.0, 0.0, 0.0, 0.0, 0.0, 0.0, 0.0, 0.0, 0.0, 0.0, 0.0, 0.0, 0.0]</td>\n",
       "      <td>[0.0, 0.0, 0.0, 0.0, 0.0, 0.0, 0.0, 0.0, 0.0, 0.0, 0.0, 0.0, 0.0, 0.0, 0.0, 0.0, 0.0, 0.0, 0.0, 0.0]</td>\n",
       "      <td>[0.0, 0.0, 0.0, 0.0, 0.0, 0.0, 0.0, 0.0, 0.0, 0.0, 0.0, 0.0, 0.0, 0.0, 0.0, 0.0, 0.0, 0.0, 0.0, 0.0]</td>\n",
       "    </tr>\n",
       "    <tr>\n",
       "      <td>4</td>\n",
       "      <td>0.126600</td>\n",
       "      <td>0.119246</td>\n",
       "      <td>0.000000</td>\n",
       "      <td>0.000000</td>\n",
       "      <td>[0.0, 0.0, 0.0, 0.0, 0.0, 0.0, 0.0, 0.0, 0.0, 0.0, 0.0, 0.0, 0.0, 0.0, 0.0, 0.0, 0.0, 0.0, 0.0, 0.0]</td>\n",
       "      <td>[0.0, 0.0, 0.0, 0.0, 0.0, 0.0, 0.0, 0.0, 0.0, 0.0, 0.0, 0.0, 0.0, 0.0, 0.0, 0.0, 0.0, 0.0, 0.0, 0.0]</td>\n",
       "      <td>[0.0, 0.0, 0.0, 0.0, 0.0, 0.0, 0.0, 0.0, 0.0, 0.0, 0.0, 0.0, 0.0, 0.0, 0.0, 0.0, 0.0, 0.0, 0.0, 0.0]</td>\n",
       "    </tr>\n",
       "    <tr>\n",
       "      <td>5</td>\n",
       "      <td>0.112400</td>\n",
       "      <td>0.111406</td>\n",
       "      <td>0.000000</td>\n",
       "      <td>0.000000</td>\n",
       "      <td>[0.0, 0.0, 0.0, 0.0, 0.0, 0.0, 0.0, 0.0, 0.0, 0.0, 0.0, 0.0, 0.0, 0.0, 0.0, 0.0, 0.0, 0.0, 0.0, 0.0]</td>\n",
       "      <td>[0.0, 0.0, 0.0, 0.0, 0.0, 0.0, 0.0, 0.0, 0.0, 0.0, 0.0, 0.0, 0.0, 0.0, 0.0, 0.0, 0.0, 0.0, 0.0, 0.0]</td>\n",
       "      <td>[0.0, 0.0, 0.0, 0.0, 0.0, 0.0, 0.0, 0.0, 0.0, 0.0, 0.0, 0.0, 0.0, 0.0, 0.0, 0.0, 0.0, 0.0, 0.0, 0.0]</td>\n",
       "    </tr>\n",
       "    <tr>\n",
       "      <td>6</td>\n",
       "      <td>0.103100</td>\n",
       "      <td>0.107624</td>\n",
       "      <td>0.000000</td>\n",
       "      <td>0.000000</td>\n",
       "      <td>[0.0, 0.0, 0.0, 0.0, 0.0, 0.0, 0.0, 0.0, 0.0, 0.0, 0.0, 0.0, 0.0, 0.0, 0.0, 0.0, 0.0, 0.0, 0.0, 0.0]</td>\n",
       "      <td>[0.0, 0.0, 0.0, 0.0, 0.0, 0.0, 0.0, 0.0, 0.0, 0.0, 0.0, 0.0, 0.0, 0.0, 0.0, 0.0, 0.0, 0.0, 0.0, 0.0]</td>\n",
       "      <td>[0.0, 0.0, 0.0, 0.0, 0.0, 0.0, 0.0, 0.0, 0.0, 0.0, 0.0, 0.0, 0.0, 0.0, 0.0, 0.0, 0.0, 0.0, 0.0, 0.0]</td>\n",
       "    </tr>\n",
       "    <tr>\n",
       "      <td>7</td>\n",
       "      <td>0.103200</td>\n",
       "      <td>0.105709</td>\n",
       "      <td>0.000000</td>\n",
       "      <td>0.000000</td>\n",
       "      <td>[0.0, 0.0, 0.0, 0.0, 0.0, 0.0, 0.0, 0.0, 0.0, 0.0, 0.0, 0.0, 0.0, 0.0, 0.0, 0.0, 0.0, 0.0, 0.0, 0.0]</td>\n",
       "      <td>[0.0, 0.0, 0.0, 0.0, 0.0, 0.0, 0.0, 0.0, 0.0, 0.0, 0.0, 0.0, 0.0, 0.0, 0.0, 0.0, 0.0, 0.0, 0.0, 0.0]</td>\n",
       "      <td>[0.0, 0.0, 0.0, 0.0, 0.0, 0.0, 0.0, 0.0, 0.0, 0.0, 0.0, 0.0, 0.0, 0.0, 0.0, 0.0, 0.0, 0.0, 0.0, 0.0]</td>\n",
       "    </tr>\n",
       "    <tr>\n",
       "      <td>8</td>\n",
       "      <td>0.103900</td>\n",
       "      <td>0.104447</td>\n",
       "      <td>0.000000</td>\n",
       "      <td>0.000000</td>\n",
       "      <td>[0.0, 0.0, 0.0, 0.0, 0.0, 0.0, 0.0, 0.0, 0.0, 0.0, 0.0, 0.0, 0.0, 0.0, 0.0, 0.0, 0.0, 0.0, 0.0, 0.0]</td>\n",
       "      <td>[0.0, 0.0, 0.0, 0.0, 0.0, 0.0, 0.0, 0.0, 0.0, 0.0, 0.0, 0.0, 0.0, 0.0, 0.0, 0.0, 0.0, 0.0, 0.0, 0.0]</td>\n",
       "      <td>[0.0, 0.0, 0.0, 0.0, 0.0, 0.0, 0.0, 0.0, 0.0, 0.0, 0.0, 0.0, 0.0, 0.0, 0.0, 0.0, 0.0, 0.0, 0.0, 0.0]</td>\n",
       "    </tr>\n",
       "    <tr>\n",
       "      <td>9</td>\n",
       "      <td>0.099900</td>\n",
       "      <td>0.102957</td>\n",
       "      <td>0.000000</td>\n",
       "      <td>0.000000</td>\n",
       "      <td>[0.0, 0.0, 0.0, 0.0, 0.0, 0.0, 0.0, 0.0, 0.0, 0.0, 0.0, 0.0, 0.0, 0.0, 0.0, 0.0, 0.0, 0.0, 0.0, 0.0]</td>\n",
       "      <td>[0.0, 0.0, 0.0, 0.0, 0.0, 0.0, 0.0, 0.0, 0.0, 0.0, 0.0, 0.0, 0.0, 0.0, 0.0, 0.0, 0.0, 0.0, 0.0, 0.0]</td>\n",
       "      <td>[0.0, 0.0, 0.0, 0.0, 0.0, 0.0, 0.0, 0.0, 0.0, 0.0, 0.0, 0.0, 0.0, 0.0, 0.0, 0.0, 0.0, 0.0, 0.0, 0.0]</td>\n",
       "    </tr>\n",
       "    <tr>\n",
       "      <td>10</td>\n",
       "      <td>0.098300</td>\n",
       "      <td>0.098975</td>\n",
       "      <td>0.000000</td>\n",
       "      <td>0.000000</td>\n",
       "      <td>[0.0, 0.0, 0.0, 0.0, 0.0, 0.0, 0.0, 0.0, 0.0, 0.0, 0.0, 0.0, 0.0, 0.0, 0.0, 0.0, 0.0, 0.0, 0.0, 0.0]</td>\n",
       "      <td>[0.0, 0.0, 0.0, 0.0, 0.0, 0.0, 0.0, 0.0, 0.0, 0.0, 0.0, 0.0, 0.0, 0.0, 0.0, 0.0, 0.0, 0.0, 0.0, 0.0]</td>\n",
       "      <td>[0.0, 0.0, 0.0, 0.0, 0.0, 0.0, 0.0, 0.0, 0.0, 0.0, 0.0, 0.0, 0.0, 0.0, 0.0, 0.0, 0.0, 0.0, 0.0, 0.0]</td>\n",
       "    </tr>\n",
       "    <tr>\n",
       "      <td>11</td>\n",
       "      <td>0.095300</td>\n",
       "      <td>0.096739</td>\n",
       "      <td>0.000000</td>\n",
       "      <td>0.000000</td>\n",
       "      <td>[0.0, 0.0, 0.0, 0.0, 0.0, 0.0, 0.0, 0.0, 0.0, 0.0, 0.0, 0.0, 0.0, 0.0, 0.0, 0.0, 0.0, 0.0, 0.0, 0.0]</td>\n",
       "      <td>[0.0, 0.0, 0.0, 0.0, 0.0, 0.0, 0.0, 0.0, 0.0, 0.0, 0.0, 0.0, 0.0, 0.0, 0.0, 0.0, 0.0, 0.0, 0.0, 0.0]</td>\n",
       "      <td>[0.0, 0.0, 0.0, 0.0, 0.0, 0.0, 0.0, 0.0, 0.0, 0.0, 0.0, 0.0, 0.0, 0.0, 0.0, 0.0, 0.0, 0.0, 0.0, 0.0]</td>\n",
       "    </tr>\n",
       "    <tr>\n",
       "      <td>12</td>\n",
       "      <td>0.091000</td>\n",
       "      <td>0.093662</td>\n",
       "      <td>0.000000</td>\n",
       "      <td>0.000000</td>\n",
       "      <td>[0.0, 0.0, 0.0, 0.0, 0.0, 0.0, 0.0, 0.0, 0.0, 0.0, 0.0, 0.0, 0.0, 0.0, 0.0, 0.0, 0.0, 0.0, 0.0, 0.0]</td>\n",
       "      <td>[0.0, 0.0, 0.0, 0.0, 0.0, 0.0, 0.0, 0.0, 0.0, 0.0, 0.0, 0.0, 0.0, 0.0, 0.0, 0.0, 0.0, 0.0, 0.0, 0.0]</td>\n",
       "      <td>[0.0, 0.0, 0.0, 0.0, 0.0, 0.0, 0.0, 0.0, 0.0, 0.0, 0.0, 0.0, 0.0, 0.0, 0.0, 0.0, 0.0, 0.0, 0.0, 0.0]</td>\n",
       "    </tr>\n",
       "    <tr>\n",
       "      <td>13</td>\n",
       "      <td>0.082300</td>\n",
       "      <td>0.088357</td>\n",
       "      <td>0.025316</td>\n",
       "      <td>0.028571</td>\n",
       "      <td>[0.0, 0.0, 0.0, 0.0, 0.0, 0.0, 0.0, 0.0, 0.0, 0.0, 0.0, 0.0, 0.571, 0.0, 0.0, 0.0, 0.0, 0.0, 0.0, 0.0]</td>\n",
       "      <td>[0.0, 0.0, 0.0, 0.0, 0.0, 0.0, 0.0, 0.0, 0.0, 0.0, 0.0, 0.0, 0.4, 0.0, 0.0, 0.0, 0.0, 0.0, 0.0, 0.0]</td>\n",
       "      <td>[0.0, 0.0, 0.0, 0.0, 0.0, 0.0, 0.0, 0.0, 0.0, 0.0, 0.0, 0.0, 1.0, 0.0, 0.0, 0.0, 0.0, 0.0, 0.0, 0.0]</td>\n",
       "    </tr>\n",
       "    <tr>\n",
       "      <td>14</td>\n",
       "      <td>0.075200</td>\n",
       "      <td>0.085417</td>\n",
       "      <td>0.012658</td>\n",
       "      <td>0.023377</td>\n",
       "      <td>[0.0, 0.0, 0.0, 0.0, 0.0, 0.0, 0.286, 0.0, 0.0, 0.0, 0.0, 0.0, 0.182, 0.0, 0.0, 0.0, 0.0, 0.0, 0.0, 0.0]</td>\n",
       "      <td>[0.0, 0.0, 0.0, 0.0, 0.0, 0.0, 0.167, 0.0, 0.0, 0.0, 0.0, 0.0, 0.1, 0.0, 0.0, 0.0, 0.0, 0.0, 0.0, 0.0]</td>\n",
       "      <td>[0.0, 0.0, 0.0, 0.0, 0.0, 0.0, 1.0, 0.0, 0.0, 0.0, 0.0, 0.0, 1.0, 0.0, 0.0, 0.0, 0.0, 0.0, 0.0, 0.0]</td>\n",
       "    </tr>\n",
       "    <tr>\n",
       "      <td>15</td>\n",
       "      <td>0.070000</td>\n",
       "      <td>0.081997</td>\n",
       "      <td>0.044304</td>\n",
       "      <td>0.056710</td>\n",
       "      <td>[0.0, 0.0, 0.0, 0.0, 0.0, 0.0, 0.286, 0.0, 0.0, 0.0, 0.0, 0.182, 0.667, 0.0, 0.0, 0.0, 0.0, 0.0, 0.0, 0.0]</td>\n",
       "      <td>[0.0, 0.0, 0.0, 0.0, 0.0, 0.0, 0.167, 0.0, 0.0, 0.0, 0.0, 0.1, 0.5, 0.0, 0.0, 0.0, 0.0, 0.0, 0.0, 0.0]</td>\n",
       "      <td>[0.0, 0.0, 0.0, 0.0, 0.0, 0.0, 1.0, 0.0, 0.0, 0.0, 0.0, 1.0, 1.0, 0.0, 0.0, 0.0, 0.0, 0.0, 0.0, 0.0]</td>\n",
       "    </tr>\n",
       "    <tr>\n",
       "      <td>16</td>\n",
       "      <td>0.063100</td>\n",
       "      <td>0.077891</td>\n",
       "      <td>0.082278</td>\n",
       "      <td>0.120065</td>\n",
       "      <td>[0.0, 0.0, 0.0, 0.0, 0.0, 0.182, 0.5, 0.0, 0.0, 0.0, 0.0, 0.462, 0.75, 0.222, 0.0, 0.0, 0.0, 0.286, 0.0, 0.0]</td>\n",
       "      <td>[0.0, 0.0, 0.0, 0.0, 0.0, 0.125, 0.333, 0.0, 0.0, 0.0, 0.0, 0.3, 0.6, 0.125, 0.0, 0.0, 0.0, 0.167, 0.0, 0.0]</td>\n",
       "      <td>[0.0, 0.0, 0.0, 0.0, 0.0, 0.333, 1.0, 0.0, 0.0, 0.0, 0.0, 1.0, 1.0, 1.0, 0.0, 0.0, 0.0, 1.0, 0.0, 0.0]</td>\n",
       "    </tr>\n",
       "    <tr>\n",
       "      <td>17</td>\n",
       "      <td>0.055400</td>\n",
       "      <td>0.075405</td>\n",
       "      <td>0.075949</td>\n",
       "      <td>0.112262</td>\n",
       "      <td>[0.0, 0.0, 0.0, 0.0, 0.0, 0.2, 0.5, 0.0, 0.0, 0.0, 0.0, 0.429, 0.75, 0.2, 0.0, 0.167, 0.0, 0.0, 0.0, 0.0]</td>\n",
       "      <td>[0.0, 0.0, 0.0, 0.0, 0.0, 0.125, 0.333, 0.0, 0.0, 0.0, 0.0, 0.3, 0.6, 0.125, 0.0, 0.111, 0.0, 0.0, 0.0, 0.0]</td>\n",
       "      <td>[0.0, 0.0, 0.0, 0.0, 0.0, 0.5, 1.0, 0.0, 0.0, 0.0, 0.0, 0.75, 1.0, 0.5, 0.0, 0.333, 0.0, 0.0, 0.0, 0.0]</td>\n",
       "    </tr>\n",
       "    <tr>\n",
       "      <td>18</td>\n",
       "      <td>0.049600</td>\n",
       "      <td>0.071802</td>\n",
       "      <td>0.246835</td>\n",
       "      <td>0.166905</td>\n",
       "      <td>[0.0, 0.0, 0.0, 0.0, 0.0, 0.2, 0.5, 0.0, 0.0, 0.0, 0.0, 0.706, 0.75, 0.222, 0.0, 0.0, 0.0, 0.5, 0.0, 0.46]</td>\n",
       "      <td>[0.0, 0.0, 0.0, 0.0, 0.0, 0.125, 0.333, 0.0, 0.0, 0.0, 0.0, 0.6, 0.6, 0.125, 0.0, 0.0, 0.0, 0.333, 0.0, 0.307]</td>\n",
       "      <td>[0.0, 0.0, 0.0, 0.0, 0.0, 0.5, 1.0, 0.0, 0.0, 0.0, 0.0, 0.857, 1.0, 1.0, 0.0, 0.0, 0.0, 1.0, 0.0, 0.92]</td>\n",
       "    </tr>\n",
       "    <tr>\n",
       "      <td>19</td>\n",
       "      <td>0.044000</td>\n",
       "      <td>0.070206</td>\n",
       "      <td>0.265823</td>\n",
       "      <td>0.180657</td>\n",
       "      <td>[0.0, 0.0, 0.0, 0.0, 0.0, 0.182, 0.5, 0.0, 0.0, 0.0, 0.0, 0.429, 0.824, 0.2, 0.0, 0.308, 0.0, 0.667, 0.0, 0.505]</td>\n",
       "      <td>[0.0, 0.0, 0.0, 0.0, 0.0, 0.125, 0.333, 0.0, 0.0, 0.0, 0.0, 0.3, 0.7, 0.125, 0.0, 0.222, 0.0, 0.5, 0.0, 0.347]</td>\n",
       "      <td>[0.0, 0.0, 0.0, 0.0, 0.0, 0.333, 1.0, 0.0, 0.0, 0.0, 0.0, 0.75, 1.0, 0.5, 0.0, 0.5, 0.0, 1.0, 0.0, 0.929]</td>\n",
       "    </tr>\n",
       "    <tr>\n",
       "      <td>20</td>\n",
       "      <td>0.038800</td>\n",
       "      <td>0.070346</td>\n",
       "      <td>0.341772</td>\n",
       "      <td>0.209204</td>\n",
       "      <td>[0.0, 0.0, 0.0, 0.0, 0.0, 0.182, 0.5, 0.0, 0.286, 0.0, 0.0, 0.706, 0.824, 0.222, 0.0, 0.333, 0.0, 0.5, 0.0, 0.632]</td>\n",
       "      <td>[0.0, 0.0, 0.0, 0.0, 0.0, 0.125, 0.333, 0.0, 0.167, 0.0, 0.0, 0.6, 0.7, 0.125, 0.0, 0.222, 0.0, 0.333, 0.0, 0.48]</td>\n",
       "      <td>[0.0, 0.0, 0.0, 0.0, 0.0, 0.333, 1.0, 0.0, 1.0, 0.0, 0.0, 0.857, 1.0, 1.0, 0.0, 0.667, 0.0, 1.0, 0.0, 0.923]</td>\n",
       "    </tr>\n",
       "    <tr>\n",
       "      <td>21</td>\n",
       "      <td>0.035700</td>\n",
       "      <td>0.070145</td>\n",
       "      <td>0.322785</td>\n",
       "      <td>0.258444</td>\n",
       "      <td>[0.0, 0.0, 0.0, 0.667, 0.0, 0.333, 0.5, 0.0, 0.286, 0.0, 0.0, 0.818, 0.824, 0.222, 0.0, 0.333, 0.0, 0.667, 0.0, 0.519]</td>\n",
       "      <td>[0.0, 0.0, 0.0, 0.667, 0.0, 0.25, 0.333, 0.0, 0.167, 0.0, 0.0, 0.9, 0.7, 0.125, 0.0, 0.222, 0.0, 0.5, 0.0, 0.36]</td>\n",
       "      <td>[0.0, 0.0, 0.0, 0.667, 0.0, 0.5, 1.0, 0.0, 1.0, 0.0, 0.0, 0.75, 1.0, 1.0, 0.0, 0.667, 0.0, 1.0, 0.0, 0.931]</td>\n",
       "    </tr>\n",
       "    <tr>\n",
       "      <td>22</td>\n",
       "      <td>0.033400</td>\n",
       "      <td>0.066711</td>\n",
       "      <td>0.386076</td>\n",
       "      <td>0.237063</td>\n",
       "      <td>[0.0, 0.0, 0.0, 0.25, 0.0, 0.2, 0.5, 0.0, 0.286, 0.0, 0.0, 0.667, 0.75, 0.222, 0.167, 0.333, 0.0, 0.667, 0.0, 0.7]</td>\n",
       "      <td>[0.0, 0.0, 0.0, 0.167, 0.0, 0.125, 0.333, 0.0, 0.167, 0.0, 0.0, 0.6, 0.6, 0.125, 0.1, 0.222, 0.0, 0.5, 0.0, 0.56]</td>\n",
       "      <td>[0.0, 0.0, 0.0, 0.5, 0.0, 0.5, 1.0, 0.0, 1.0, 0.0, 0.0, 0.75, 1.0, 1.0, 0.5, 0.667, 0.0, 1.0, 0.0, 0.933]</td>\n",
       "    </tr>\n",
       "    <tr>\n",
       "      <td>23</td>\n",
       "      <td>0.031700</td>\n",
       "      <td>0.068606</td>\n",
       "      <td>0.449367</td>\n",
       "      <td>0.280323</td>\n",
       "      <td>[0.0, 0.0, 0.0, 0.444, 0.0, 0.333, 0.5, 0.0, 0.286, 0.0, 0.0, 0.625, 0.824, 0.222, 0.4, 0.333, 0.0, 0.667, 0.222, 0.75]</td>\n",
       "      <td>[0.0, 0.0, 0.0, 0.333, 0.0, 0.25, 0.333, 0.0, 0.167, 0.0, 0.0, 0.5, 0.7, 0.125, 0.3, 0.222, 0.0, 0.5, 0.167, 0.64]</td>\n",
       "      <td>[0.0, 0.0, 0.0, 0.667, 0.0, 0.5, 1.0, 0.0, 1.0, 0.0, 0.0, 0.833, 1.0, 1.0, 0.6, 0.667, 0.0, 1.0, 0.333, 0.906]</td>\n",
       "    </tr>\n",
       "    <tr>\n",
       "      <td>24</td>\n",
       "      <td>0.028400</td>\n",
       "      <td>0.067759</td>\n",
       "      <td>0.436709</td>\n",
       "      <td>0.244136</td>\n",
       "      <td>[0.0, 0.0, 0.0, 0.25, 0.0, 0.182, 0.5, 0.0, 0.286, 0.0, 0.0, 0.632, 0.824, 0.222, 0.0, 0.333, 0.0, 0.667, 0.222, 0.766]</td>\n",
       "      <td>[0.0, 0.0, 0.0, 0.167, 0.0, 0.125, 0.333, 0.0, 0.167, 0.0, 0.0, 0.6, 0.7, 0.125, 0.0, 0.222, 0.0, 0.5, 0.167, 0.653]</td>\n",
       "      <td>[0.0, 0.0, 0.0, 0.5, 0.0, 0.333, 1.0, 0.0, 1.0, 0.0, 0.0, 0.667, 1.0, 1.0, 0.0, 0.667, 0.0, 1.0, 0.333, 0.925]</td>\n",
       "    </tr>\n",
       "    <tr>\n",
       "      <td>25</td>\n",
       "      <td>0.025100</td>\n",
       "      <td>0.067530</td>\n",
       "      <td>0.436709</td>\n",
       "      <td>0.241010</td>\n",
       "      <td>[0.0, 0.0, 0.0, 0.25, 0.0, 0.182, 0.5, 0.0, 0.286, 0.0, 0.0, 0.7, 0.824, 0.222, 0.0, 0.333, 0.0, 0.545, 0.222, 0.756]</td>\n",
       "      <td>[0.0, 0.0, 0.0, 0.167, 0.0, 0.125, 0.333, 0.0, 0.167, 0.0, 0.0, 0.7, 0.7, 0.125, 0.0, 0.222, 0.0, 0.5, 0.167, 0.64]</td>\n",
       "      <td>[0.0, 0.0, 0.0, 0.5, 0.0, 0.333, 1.0, 0.0, 1.0, 0.0, 0.0, 0.7, 1.0, 1.0, 0.0, 0.667, 0.0, 0.6, 0.333, 0.923]</td>\n",
       "    </tr>\n",
       "  </tbody>\n",
       "</table><p>"
      ],
      "text/plain": [
       "<IPython.core.display.HTML object>"
      ]
     },
     "metadata": {},
     "output_type": "display_data"
    },
    {
     "data": {
      "application/vnd.jupyter.widget-view+json": {
       "model_id": "1a58ce15887448a5935580d18df3abb2",
       "version_major": 2,
       "version_minor": 0
      },
      "text/plain": [
       "Map:   0%|          | 0/200 [00:00<?, ? examples/s]"
      ]
     },
     "metadata": {},
     "output_type": "display_data"
    },
    {
     "data": {
      "text/html": [],
      "text/plain": [
       "<IPython.core.display.HTML object>"
      ]
     },
     "metadata": {},
     "output_type": "display_data"
    },
    {
     "name": "stdout",
     "output_type": "stream",
     "text": [
      "{'accuracy': 0.7529411764705882, 'macro_f1': 0.43458874458874464, 'class_f1': [0.0, 0.0, 0.0, 0.0, 0.0, 0.8, 0.667, 0.0, 0.571, 0.0, 0.0, 0.857, 0.778, 1.0, 0.909, 0.857, 0.0, 0.889, 0.5, 0.864], 'class_recall': [0.0, 0.0, 0.0, 0.0, 0.0, 0.667, 0.5, 0.0, 0.4, 0.0, 0.0, 0.857, 0.778, 1.0, 0.833, 0.75, 0.0, 1.0, 0.333, 0.95], 'class_precision': [0.0, 0.0, 0.0, 0.0, 0.0, 1.0, 1.0, 0.0, 1.0, 0.0, 0.0, 0.857, 0.778, 1.0, 1.0, 1.0, 0.0, 0.8, 1.0, 0.792]}\n",
      "-----------------Fold: 5-----------------\n"
     ]
    },
    {
     "name": "stderr",
     "output_type": "stream",
     "text": [
      "Some weights of BertForSequenceClassification were not initialized from the model checkpoint at cl-tohoku/bert-base-japanese-v3 and are newly initialized: ['classifier.bias', 'classifier.weight']\n",
      "You should probably TRAIN this model on a down-stream task to be able to use it for predictions and inference.\n"
     ]
    },
    {
     "data": {
      "application/vnd.jupyter.widget-view+json": {
       "model_id": "762e9f46e4394750b5a2b0ff4f74460d",
       "version_major": 2,
       "version_minor": 0
      },
      "text/plain": [
       "Map:   0%|          | 0/638 [00:00<?, ? examples/s]"
      ]
     },
     "metadata": {},
     "output_type": "display_data"
    },
    {
     "data": {
      "application/vnd.jupyter.widget-view+json": {
       "model_id": "bc1d50154fe543909f36e66ffcaa30ae",
       "version_major": 2,
       "version_minor": 0
      },
      "text/plain": [
       "Map:   0%|          | 0/162 [00:00<?, ? examples/s]"
      ]
     },
     "metadata": {},
     "output_type": "display_data"
    },
    {
     "name": "stderr",
     "output_type": "stream",
     "text": [
      "wandb: WARNING Source type is set to 'repo' but some required information is missing from the environment. A job will not be created from this run. See https://docs.wandb.ai/guides/launch/create-job\n"
     ]
    },
    {
     "data": {
      "application/vnd.jupyter.widget-view+json": {
       "model_id": "193bb4ba546e49a490a46d0743ce5de7",
       "version_major": 2,
       "version_minor": 0
      },
      "text/plain": [
       "VBox(children=(Label(value='Waiting for wandb.init()...\\r'), FloatProgress(value=0.011112393769952987, max=1.0…"
      ]
     },
     "metadata": {},
     "output_type": "display_data"
    },
    {
     "data": {
      "text/html": [
       "\n",
       "    <div>\n",
       "      \n",
       "      <progress value='920' max='4000' style='width:300px; height:20px; vertical-align: middle;'></progress>\n",
       "      [ 920/4000 02:44 < 09:11, 5.58 it/s, Epoch 23/100]\n",
       "    </div>\n",
       "    <table border=\"1\" class=\"dataframe\">\n",
       "  <thead>\n",
       " <tr style=\"text-align: left;\">\n",
       "      <th>Epoch</th>\n",
       "      <th>Training Loss</th>\n",
       "      <th>Validation Loss</th>\n",
       "      <th>Accuracy</th>\n",
       "      <th>Macro F1</th>\n",
       "      <th>Class F1</th>\n",
       "      <th>Class Recall</th>\n",
       "      <th>Class Precision</th>\n",
       "    </tr>\n",
       "  </thead>\n",
       "  <tbody>\n",
       "    <tr>\n",
       "      <td>1</td>\n",
       "      <td>0.620200</td>\n",
       "      <td>0.498679</td>\n",
       "      <td>0.185185</td>\n",
       "      <td>0.030883</td>\n",
       "      <td>[0.0, 0.0, 0.0, 0.0, 0.0, 0.0, 0.0, 0.0, 0.0, 0.0, 0.0, 0.0, 0.0, 0.0, 0.0, 0.0, 0.0, 0.0, 0.108, 0.51]</td>\n",
       "      <td>[0.0, 0.0, 0.0, 0.0, 0.0, 0.0, 0.0, 0.0, 0.0, 0.0, 0.0, 0.0, 0.0, 0.0, 0.0, 0.0, 0.0, 0.0, 0.286, 0.533]</td>\n",
       "      <td>[0.0, 0.0, 0.0, 0.0, 0.0, 0.0, 0.0, 0.0, 0.0, 0.0, 0.0, 0.0, 0.0, 0.0, 0.0, 0.0, 0.0, 0.0, 0.067, 0.488]</td>\n",
       "    </tr>\n",
       "    <tr>\n",
       "      <td>2</td>\n",
       "      <td>0.356000</td>\n",
       "      <td>0.214937</td>\n",
       "      <td>0.000000</td>\n",
       "      <td>0.000000</td>\n",
       "      <td>[0.0, 0.0, 0.0, 0.0, 0.0, 0.0, 0.0, 0.0, 0.0, 0.0, 0.0, 0.0, 0.0, 0.0, 0.0, 0.0, 0.0, 0.0, 0.0, 0.0]</td>\n",
       "      <td>[0.0, 0.0, 0.0, 0.0, 0.0, 0.0, 0.0, 0.0, 0.0, 0.0, 0.0, 0.0, 0.0, 0.0, 0.0, 0.0, 0.0, 0.0, 0.0, 0.0]</td>\n",
       "      <td>[0.0, 0.0, 0.0, 0.0, 0.0, 0.0, 0.0, 0.0, 0.0, 0.0, 0.0, 0.0, 0.0, 0.0, 0.0, 0.0, 0.0, 0.0, 0.0, 0.0]</td>\n",
       "    </tr>\n",
       "    <tr>\n",
       "      <td>3</td>\n",
       "      <td>0.177000</td>\n",
       "      <td>0.137871</td>\n",
       "      <td>0.000000</td>\n",
       "      <td>0.000000</td>\n",
       "      <td>[0.0, 0.0, 0.0, 0.0, 0.0, 0.0, 0.0, 0.0, 0.0, 0.0, 0.0, 0.0, 0.0, 0.0, 0.0, 0.0, 0.0, 0.0, 0.0, 0.0]</td>\n",
       "      <td>[0.0, 0.0, 0.0, 0.0, 0.0, 0.0, 0.0, 0.0, 0.0, 0.0, 0.0, 0.0, 0.0, 0.0, 0.0, 0.0, 0.0, 0.0, 0.0, 0.0]</td>\n",
       "      <td>[0.0, 0.0, 0.0, 0.0, 0.0, 0.0, 0.0, 0.0, 0.0, 0.0, 0.0, 0.0, 0.0, 0.0, 0.0, 0.0, 0.0, 0.0, 0.0, 0.0]</td>\n",
       "    </tr>\n",
       "    <tr>\n",
       "      <td>4</td>\n",
       "      <td>0.128500</td>\n",
       "      <td>0.116569</td>\n",
       "      <td>0.000000</td>\n",
       "      <td>0.000000</td>\n",
       "      <td>[0.0, 0.0, 0.0, 0.0, 0.0, 0.0, 0.0, 0.0, 0.0, 0.0, 0.0, 0.0, 0.0, 0.0, 0.0, 0.0, 0.0, 0.0, 0.0, 0.0]</td>\n",
       "      <td>[0.0, 0.0, 0.0, 0.0, 0.0, 0.0, 0.0, 0.0, 0.0, 0.0, 0.0, 0.0, 0.0, 0.0, 0.0, 0.0, 0.0, 0.0, 0.0, 0.0]</td>\n",
       "      <td>[0.0, 0.0, 0.0, 0.0, 0.0, 0.0, 0.0, 0.0, 0.0, 0.0, 0.0, 0.0, 0.0, 0.0, 0.0, 0.0, 0.0, 0.0, 0.0, 0.0]</td>\n",
       "    </tr>\n",
       "    <tr>\n",
       "      <td>5</td>\n",
       "      <td>0.114500</td>\n",
       "      <td>0.108719</td>\n",
       "      <td>0.000000</td>\n",
       "      <td>0.000000</td>\n",
       "      <td>[0.0, 0.0, 0.0, 0.0, 0.0, 0.0, 0.0, 0.0, 0.0, 0.0, 0.0, 0.0, 0.0, 0.0, 0.0, 0.0, 0.0, 0.0, 0.0, 0.0]</td>\n",
       "      <td>[0.0, 0.0, 0.0, 0.0, 0.0, 0.0, 0.0, 0.0, 0.0, 0.0, 0.0, 0.0, 0.0, 0.0, 0.0, 0.0, 0.0, 0.0, 0.0, 0.0]</td>\n",
       "      <td>[0.0, 0.0, 0.0, 0.0, 0.0, 0.0, 0.0, 0.0, 0.0, 0.0, 0.0, 0.0, 0.0, 0.0, 0.0, 0.0, 0.0, 0.0, 0.0, 0.0]</td>\n",
       "    </tr>\n",
       "    <tr>\n",
       "      <td>6</td>\n",
       "      <td>0.109300</td>\n",
       "      <td>0.104746</td>\n",
       "      <td>0.000000</td>\n",
       "      <td>0.000000</td>\n",
       "      <td>[0.0, 0.0, 0.0, 0.0, 0.0, 0.0, 0.0, 0.0, 0.0, 0.0, 0.0, 0.0, 0.0, 0.0, 0.0, 0.0, 0.0, 0.0, 0.0, 0.0]</td>\n",
       "      <td>[0.0, 0.0, 0.0, 0.0, 0.0, 0.0, 0.0, 0.0, 0.0, 0.0, 0.0, 0.0, 0.0, 0.0, 0.0, 0.0, 0.0, 0.0, 0.0, 0.0]</td>\n",
       "      <td>[0.0, 0.0, 0.0, 0.0, 0.0, 0.0, 0.0, 0.0, 0.0, 0.0, 0.0, 0.0, 0.0, 0.0, 0.0, 0.0, 0.0, 0.0, 0.0, 0.0]</td>\n",
       "    </tr>\n",
       "    <tr>\n",
       "      <td>7</td>\n",
       "      <td>0.104800</td>\n",
       "      <td>0.102343</td>\n",
       "      <td>0.000000</td>\n",
       "      <td>0.000000</td>\n",
       "      <td>[0.0, 0.0, 0.0, 0.0, 0.0, 0.0, 0.0, 0.0, 0.0, 0.0, 0.0, 0.0, 0.0, 0.0, 0.0, 0.0, 0.0, 0.0, 0.0, 0.0]</td>\n",
       "      <td>[0.0, 0.0, 0.0, 0.0, 0.0, 0.0, 0.0, 0.0, 0.0, 0.0, 0.0, 0.0, 0.0, 0.0, 0.0, 0.0, 0.0, 0.0, 0.0, 0.0]</td>\n",
       "      <td>[0.0, 0.0, 0.0, 0.0, 0.0, 0.0, 0.0, 0.0, 0.0, 0.0, 0.0, 0.0, 0.0, 0.0, 0.0, 0.0, 0.0, 0.0, 0.0, 0.0]</td>\n",
       "    </tr>\n",
       "    <tr>\n",
       "      <td>8</td>\n",
       "      <td>0.103900</td>\n",
       "      <td>0.101018</td>\n",
       "      <td>0.000000</td>\n",
       "      <td>0.000000</td>\n",
       "      <td>[0.0, 0.0, 0.0, 0.0, 0.0, 0.0, 0.0, 0.0, 0.0, 0.0, 0.0, 0.0, 0.0, 0.0, 0.0, 0.0, 0.0, 0.0, 0.0, 0.0]</td>\n",
       "      <td>[0.0, 0.0, 0.0, 0.0, 0.0, 0.0, 0.0, 0.0, 0.0, 0.0, 0.0, 0.0, 0.0, 0.0, 0.0, 0.0, 0.0, 0.0, 0.0, 0.0]</td>\n",
       "      <td>[0.0, 0.0, 0.0, 0.0, 0.0, 0.0, 0.0, 0.0, 0.0, 0.0, 0.0, 0.0, 0.0, 0.0, 0.0, 0.0, 0.0, 0.0, 0.0, 0.0]</td>\n",
       "    </tr>\n",
       "    <tr>\n",
       "      <td>9</td>\n",
       "      <td>0.100400</td>\n",
       "      <td>0.099161</td>\n",
       "      <td>0.000000</td>\n",
       "      <td>0.000000</td>\n",
       "      <td>[0.0, 0.0, 0.0, 0.0, 0.0, 0.0, 0.0, 0.0, 0.0, 0.0, 0.0, 0.0, 0.0, 0.0, 0.0, 0.0, 0.0, 0.0, 0.0, 0.0]</td>\n",
       "      <td>[0.0, 0.0, 0.0, 0.0, 0.0, 0.0, 0.0, 0.0, 0.0, 0.0, 0.0, 0.0, 0.0, 0.0, 0.0, 0.0, 0.0, 0.0, 0.0, 0.0]</td>\n",
       "      <td>[0.0, 0.0, 0.0, 0.0, 0.0, 0.0, 0.0, 0.0, 0.0, 0.0, 0.0, 0.0, 0.0, 0.0, 0.0, 0.0, 0.0, 0.0, 0.0, 0.0]</td>\n",
       "    </tr>\n",
       "    <tr>\n",
       "      <td>10</td>\n",
       "      <td>0.098200</td>\n",
       "      <td>0.096065</td>\n",
       "      <td>0.000000</td>\n",
       "      <td>0.000000</td>\n",
       "      <td>[0.0, 0.0, 0.0, 0.0, 0.0, 0.0, 0.0, 0.0, 0.0, 0.0, 0.0, 0.0, 0.0, 0.0, 0.0, 0.0, 0.0, 0.0, 0.0, 0.0]</td>\n",
       "      <td>[0.0, 0.0, 0.0, 0.0, 0.0, 0.0, 0.0, 0.0, 0.0, 0.0, 0.0, 0.0, 0.0, 0.0, 0.0, 0.0, 0.0, 0.0, 0.0, 0.0]</td>\n",
       "      <td>[0.0, 0.0, 0.0, 0.0, 0.0, 0.0, 0.0, 0.0, 0.0, 0.0, 0.0, 0.0, 0.0, 0.0, 0.0, 0.0, 0.0, 0.0, 0.0, 0.0]</td>\n",
       "    </tr>\n",
       "    <tr>\n",
       "      <td>11</td>\n",
       "      <td>0.094400</td>\n",
       "      <td>0.093286</td>\n",
       "      <td>0.000000</td>\n",
       "      <td>0.000000</td>\n",
       "      <td>[0.0, 0.0, 0.0, 0.0, 0.0, 0.0, 0.0, 0.0, 0.0, 0.0, 0.0, 0.0, 0.0, 0.0, 0.0, 0.0, 0.0, 0.0, 0.0, 0.0]</td>\n",
       "      <td>[0.0, 0.0, 0.0, 0.0, 0.0, 0.0, 0.0, 0.0, 0.0, 0.0, 0.0, 0.0, 0.0, 0.0, 0.0, 0.0, 0.0, 0.0, 0.0, 0.0]</td>\n",
       "      <td>[0.0, 0.0, 0.0, 0.0, 0.0, 0.0, 0.0, 0.0, 0.0, 0.0, 0.0, 0.0, 0.0, 0.0, 0.0, 0.0, 0.0, 0.0, 0.0, 0.0]</td>\n",
       "    </tr>\n",
       "    <tr>\n",
       "      <td>12</td>\n",
       "      <td>0.088400</td>\n",
       "      <td>0.088959</td>\n",
       "      <td>0.000000</td>\n",
       "      <td>0.000000</td>\n",
       "      <td>[0.0, 0.0, 0.0, 0.0, 0.0, 0.0, 0.0, 0.0, 0.0, 0.0, 0.0, 0.0, 0.0, 0.0, 0.0, 0.0, 0.0, 0.0, 0.0, 0.0]</td>\n",
       "      <td>[0.0, 0.0, 0.0, 0.0, 0.0, 0.0, 0.0, 0.0, 0.0, 0.0, 0.0, 0.0, 0.0, 0.0, 0.0, 0.0, 0.0, 0.0, 0.0, 0.0]</td>\n",
       "      <td>[0.0, 0.0, 0.0, 0.0, 0.0, 0.0, 0.0, 0.0, 0.0, 0.0, 0.0, 0.0, 0.0, 0.0, 0.0, 0.0, 0.0, 0.0, 0.0, 0.0]</td>\n",
       "    </tr>\n",
       "    <tr>\n",
       "      <td>13</td>\n",
       "      <td>0.082900</td>\n",
       "      <td>0.085944</td>\n",
       "      <td>0.006173</td>\n",
       "      <td>0.010000</td>\n",
       "      <td>[0.0, 0.0, 0.0, 0.0, 0.0, 0.0, 0.0, 0.0, 0.0, 0.0, 0.0, 0.2, 0.0, 0.0, 0.0, 0.0, 0.0, 0.0, 0.0, 0.0]</td>\n",
       "      <td>[0.0, 0.0, 0.0, 0.0, 0.0, 0.0, 0.0, 0.0, 0.0, 0.0, 0.0, 0.111, 0.0, 0.0, 0.0, 0.0, 0.0, 0.0, 0.0, 0.0]</td>\n",
       "      <td>[0.0, 0.0, 0.0, 0.0, 0.0, 0.0, 0.0, 0.0, 0.0, 0.0, 0.0, 1.0, 0.0, 0.0, 0.0, 0.0, 0.0, 0.0, 0.0, 0.0]</td>\n",
       "    </tr>\n",
       "    <tr>\n",
       "      <td>14</td>\n",
       "      <td>0.076300</td>\n",
       "      <td>0.084431</td>\n",
       "      <td>0.000000</td>\n",
       "      <td>0.000000</td>\n",
       "      <td>[0.0, 0.0, 0.0, 0.0, 0.0, 0.0, 0.0, 0.0, 0.0, 0.0, 0.0, 0.0, 0.0, 0.0, 0.0, 0.0, 0.0, 0.0, 0.0, 0.0]</td>\n",
       "      <td>[0.0, 0.0, 0.0, 0.0, 0.0, 0.0, 0.0, 0.0, 0.0, 0.0, 0.0, 0.0, 0.0, 0.0, 0.0, 0.0, 0.0, 0.0, 0.0, 0.0]</td>\n",
       "      <td>[0.0, 0.0, 0.0, 0.0, 0.0, 0.0, 0.0, 0.0, 0.0, 0.0, 0.0, 0.0, 0.0, 0.0, 0.0, 0.0, 0.0, 0.0, 0.0, 0.0]</td>\n",
       "    </tr>\n",
       "    <tr>\n",
       "      <td>15</td>\n",
       "      <td>0.069600</td>\n",
       "      <td>0.080352</td>\n",
       "      <td>0.037037</td>\n",
       "      <td>0.051667</td>\n",
       "      <td>[0.0, 0.0, 0.0, 0.0, 0.0, 0.0, 0.0, 0.0, 0.0, 0.0, 0.0, 0.5, 0.333, 0.0, 0.0, 0.2, 0.0, 0.0, 0.0, 0.0]</td>\n",
       "      <td>[0.0, 0.0, 0.0, 0.0, 0.0, 0.0, 0.0, 0.0, 0.0, 0.0, 0.0, 0.333, 0.2, 0.0, 0.0, 0.111, 0.0, 0.0, 0.0, 0.0]</td>\n",
       "      <td>[0.0, 0.0, 0.0, 0.0, 0.0, 0.0, 0.0, 0.0, 0.0, 0.0, 0.0, 1.0, 1.0, 0.0, 0.0, 1.0, 0.0, 0.0, 0.0, 0.0]</td>\n",
       "    </tr>\n",
       "    <tr>\n",
       "      <td>16</td>\n",
       "      <td>0.061300</td>\n",
       "      <td>0.078183</td>\n",
       "      <td>0.067901</td>\n",
       "      <td>0.079048</td>\n",
       "      <td>[0.0, 0.0, 0.0, 0.0, 0.0, 0.0, 0.0, 0.0, 0.0, 0.0, 0.0, 0.714, 0.667, 0.0, 0.0, 0.2, 0.0, 0.0, 0.0, 0.0]</td>\n",
       "      <td>[0.0, 0.0, 0.0, 0.0, 0.0, 0.0, 0.0, 0.0, 0.0, 0.0, 0.0, 0.556, 0.5, 0.0, 0.0, 0.111, 0.0, 0.0, 0.0, 0.0]</td>\n",
       "      <td>[0.0, 0.0, 0.0, 0.0, 0.0, 0.0, 0.0, 0.0, 0.0, 0.0, 0.0, 1.0, 1.0, 0.0, 0.0, 1.0, 0.0, 0.0, 0.0, 0.0]</td>\n",
       "    </tr>\n",
       "    <tr>\n",
       "      <td>17</td>\n",
       "      <td>0.054600</td>\n",
       "      <td>0.076034</td>\n",
       "      <td>0.086420</td>\n",
       "      <td>0.100433</td>\n",
       "      <td>[0.0, 0.0, 0.0, 0.0, 0.0, 0.0, 0.286, 0.0, 0.0, 0.0, 0.0, 0.667, 0.667, 0.0, 0.0, 0.364, 0.0, 0.0, 0.0, 0.026]</td>\n",
       "      <td>[0.0, 0.0, 0.0, 0.0, 0.0, 0.0, 0.167, 0.0, 0.0, 0.0, 0.0, 0.556, 0.5, 0.0, 0.0, 0.222, 0.0, 0.0, 0.0, 0.013]</td>\n",
       "      <td>[0.0, 0.0, 0.0, 0.0, 0.0, 0.0, 1.0, 0.0, 0.0, 0.0, 0.0, 0.833, 1.0, 0.0, 0.0, 1.0, 0.0, 0.0, 0.0, 0.5]</td>\n",
       "    </tr>\n",
       "    <tr>\n",
       "      <td>18</td>\n",
       "      <td>0.049100</td>\n",
       "      <td>0.074255</td>\n",
       "      <td>0.179012</td>\n",
       "      <td>0.123923</td>\n",
       "      <td>[0.0, 0.0, 0.0, 0.0, 0.0, 0.25, 0.286, 0.0, 0.0, 0.0, 0.0, 0.714, 0.706, 0.0, 0.0, 0.2, 0.0, 0.0, 0.0, 0.323]</td>\n",
       "      <td>[0.0, 0.0, 0.0, 0.0, 0.0, 0.143, 0.167, 0.0, 0.0, 0.0, 0.0, 0.556, 0.6, 0.0, 0.0, 0.111, 0.0, 0.0, 0.0, 0.2]</td>\n",
       "      <td>[0.0, 0.0, 0.0, 0.0, 0.0, 1.0, 1.0, 0.0, 0.0, 0.0, 0.0, 1.0, 0.857, 0.0, 0.0, 1.0, 0.0, 0.0, 0.0, 0.833]</td>\n",
       "    </tr>\n",
       "    <tr>\n",
       "      <td>19</td>\n",
       "      <td>0.043700</td>\n",
       "      <td>0.072682</td>\n",
       "      <td>0.240741</td>\n",
       "      <td>0.142605</td>\n",
       "      <td>[0.0, 0.0, 0.0, 0.0, 0.0, 0.25, 0.0, 0.0, 0.0, 0.0, 0.0, 0.5, 0.667, 0.25, 0.5, 0.2, 0.0, 0.0, 0.0, 0.485]</td>\n",
       "      <td>[0.0, 0.0, 0.0, 0.0, 0.0, 0.143, 0.0, 0.0, 0.0, 0.0, 0.0, 0.333, 0.5, 0.143, 0.333, 0.111, 0.0, 0.0, 0.0, 0.333]</td>\n",
       "      <td>[0.0, 0.0, 0.0, 0.0, 0.0, 1.0, 0.0, 0.0, 0.0, 0.0, 0.0, 1.0, 1.0, 1.0, 1.0, 1.0, 0.0, 0.0, 0.0, 0.893]</td>\n",
       "    </tr>\n",
       "    <tr>\n",
       "      <td>20</td>\n",
       "      <td>0.039400</td>\n",
       "      <td>0.071404</td>\n",
       "      <td>0.333333</td>\n",
       "      <td>0.168863</td>\n",
       "      <td>[0.0, 0.0, 0.0, 0.0, 0.0, 0.444, 0.0, 0.0, 0.0, 0.0, 0.0, 0.75, 0.667, 0.444, 0.0, 0.462, 0.0, 0.0, 0.0, 0.61]</td>\n",
       "      <td>[0.0, 0.0, 0.0, 0.0, 0.0, 0.286, 0.0, 0.0, 0.0, 0.0, 0.0, 0.667, 0.5, 0.286, 0.0, 0.333, 0.0, 0.0, 0.0, 0.48]</td>\n",
       "      <td>[0.0, 0.0, 0.0, 0.0, 0.0, 1.0, 0.0, 0.0, 0.0, 0.0, 0.0, 0.857, 1.0, 1.0, 0.0, 0.75, 0.0, 0.0, 0.0, 0.837]</td>\n",
       "    </tr>\n",
       "    <tr>\n",
       "      <td>21</td>\n",
       "      <td>0.035200</td>\n",
       "      <td>0.074205</td>\n",
       "      <td>0.407407</td>\n",
       "      <td>0.180380</td>\n",
       "      <td>[0.0, 0.0, 0.0, 0.286, 0.0, 0.25, 0.0, 0.0, 0.0, 0.0, 0.0, 0.8, 0.667, 0.0, 0.182, 0.2, 0.0, 0.5, 0.0, 0.723]</td>\n",
       "      <td>[0.0, 0.0, 0.0, 0.167, 0.0, 0.143, 0.0, 0.0, 0.0, 0.0, 0.0, 0.667, 0.5, 0.0, 0.111, 0.111, 0.0, 0.333, 0.0, 0.68]</td>\n",
       "      <td>[0.0, 0.0, 0.0, 1.0, 0.0, 1.0, 0.0, 0.0, 0.0, 0.0, 0.0, 1.0, 1.0, 0.0, 0.5, 1.0, 0.0, 1.0, 0.0, 0.773]</td>\n",
       "    </tr>\n",
       "    <tr>\n",
       "      <td>22</td>\n",
       "      <td>0.032700</td>\n",
       "      <td>0.073977</td>\n",
       "      <td>0.413580</td>\n",
       "      <td>0.158502</td>\n",
       "      <td>[0.0, 0.0, 0.0, 0.0, 0.0, 0.25, 0.0, 0.0, 0.0, 0.0, 0.0, 0.824, 0.667, 0.25, 0.462, 0.0, 0.0, 0.0, 0.0, 0.718]</td>\n",
       "      <td>[0.0, 0.0, 0.0, 0.0, 0.0, 0.143, 0.0, 0.0, 0.0, 0.0, 0.0, 0.778, 0.5, 0.143, 0.333, 0.0, 0.0, 0.0, 0.0, 0.68]</td>\n",
       "      <td>[0.0, 0.0, 0.0, 0.0, 0.0, 1.0, 0.0, 0.0, 0.0, 0.0, 0.0, 0.875, 1.0, 1.0, 0.75, 0.0, 0.0, 0.0, 0.0, 0.761]</td>\n",
       "    </tr>\n",
       "    <tr>\n",
       "      <td>23</td>\n",
       "      <td>0.031100</td>\n",
       "      <td>0.072002</td>\n",
       "      <td>0.413580</td>\n",
       "      <td>0.221229</td>\n",
       "      <td>[0.0, 0.0, 0.0, 0.286, 0.0, 0.25, 0.0, 0.0, 0.0, 0.0, 0.0, 0.824, 0.842, 0.444, 0.364, 0.333, 0.0, 0.4, 0.0, 0.682]</td>\n",
       "      <td>[0.0, 0.0, 0.0, 0.167, 0.0, 0.143, 0.0, 0.0, 0.0, 0.0, 0.0, 0.778, 0.8, 0.286, 0.222, 0.222, 0.0, 0.333, 0.0, 0.6]</td>\n",
       "      <td>[0.0, 0.0, 0.0, 1.0, 0.0, 1.0, 0.0, 0.0, 0.0, 0.0, 0.0, 0.875, 0.889, 1.0, 1.0, 0.667, 0.0, 0.5, 0.0, 0.789]</td>\n",
       "    </tr>\n",
       "  </tbody>\n",
       "</table><p>"
      ],
      "text/plain": [
       "<IPython.core.display.HTML object>"
      ]
     },
     "metadata": {},
     "output_type": "display_data"
    },
    {
     "data": {
      "application/vnd.jupyter.widget-view+json": {
       "model_id": "b9b830ced9b8499c99316e7b78ca90ed",
       "version_major": 2,
       "version_minor": 0
      },
      "text/plain": [
       "Map:   0%|          | 0/200 [00:00<?, ? examples/s]"
      ]
     },
     "metadata": {},
     "output_type": "display_data"
    },
    {
     "data": {
      "text/html": [],
      "text/plain": [
       "<IPython.core.display.HTML object>"
      ]
     },
     "metadata": {},
     "output_type": "display_data"
    },
    {
     "name": "stdout",
     "output_type": "stream",
     "text": [
      "{'accuracy': 0.7468354430379747, 'macro_f1': 0.43952380952380954, 'class_f1': [0.0, 0.0, 0.0, 0.0, 0.0, 0.75, 0.8, 0.0, 0.333, 0.0, 0.0, 1.0, 0.8, 1.0, 1.0, 0.857, 0.0, 1.0, 0.4, 0.85], 'class_recall': [0.0, 0.0, 0.0, 0.0, 0.0, 0.75, 0.667, 0.0, 0.2, 0.0, 0.0, 1.0, 0.857, 1.0, 1.0, 0.75, 0.0, 1.0, 0.25, 0.944], 'class_precision': [0.0, 0.0, 0.0, 0.0, 0.0, 0.75, 1.0, 0.0, 1.0, 0.0, 0.0, 1.0, 0.75, 1.0, 1.0, 1.0, 0.0, 1.0, 1.0, 0.773]}\n"
     ]
    }
   ],
   "source": [
    "result = Classifier_model.cross_validation(dataset, test_data, MAX_LEN, NUM_EPOCHS, LEARNING_RATE, BATCH_SIZE, PATIENCE, NUM_FOLDS, output_dir, project_name='21Classification_cross_validation')"
   ]
  },
  {
   "cell_type": "code",
   "execution_count": 16,
   "metadata": {},
   "outputs": [
    {
     "name": "stdout",
     "output_type": "stream",
     "text": [
      "Average accuracy: 0.744\n",
      "Average Macro f1: 0.421\n",
      "Average Class f1: [0.0, 0.0, 0.0, 0.133, 0.0, 0.715, 0.798, 0.0, 0.371, 0.0, 0.0, 0.873, 0.787, 0.932, 0.88, 0.76, 0.133, 0.871, 0.304, 0.86]\n",
      "Average Class recall: [0.0, 0.0, 0.0, 0.1, 0.0, 0.697, 0.767, 0.0, 0.27, 0.0, 0.0, 0.844, 0.783, 1.0, 0.876, 0.67, 0.1, 0.9, 0.217, 0.92]\n",
      "Average Class precision: [0.0, 0.0, 0.0, 0.2, 0.0, 0.767, 0.883, 0.0, 0.667, 0.0, 0.0, 0.909, 0.795, 0.887, 0.888, 0.9, 0.2, 0.86, 0.567, 0.81]\n"
     ]
    }
   ],
   "source": [
    "# 重みありの場合の結果（cv=5）\n",
    "average_accuracy = round(sum(d['accuracy'] for d in result)/len(result), 3)\n",
    "average_macro_f1 = round(sum(d['macro_f1'] for d in result)/len(result), 3)\n",
    "# クラスごとの平均値を計算\n",
    "average_class_f1 = [round(sum(d['class_f1'][i] for d in result) / len(result), 3) for i in range(len(result[0]['class_f1']))]\n",
    "average_class_recall = [round(sum(d['class_recall'][i] for d in result) / len(result), 3) for i in range(len(result[0]['class_recall']))]\n",
    "average_class_precision = [round(sum(d['class_precision'][i] for d in result) / len(result), 3) for i in range(len(result[0]['class_precision']))]\n",
    "print(\"Average accuracy:\", average_accuracy)\n",
    "print(\"Average Macro f1:\", average_macro_f1)\n",
    "print(\"Average Class f1:\", average_class_f1)\n",
    "print(\"Average Class recall:\", average_class_recall)\n",
    "print(\"Average Class precision:\", average_class_precision)"
   ]
  },
  {
   "cell_type": "code",
   "execution_count": 17,
   "metadata": {},
   "outputs": [
    {
     "name": "stdout",
     "output_type": "stream",
     "text": [
      "Average accuracy: 0.596\n",
      "Average Macro f1: 0.332\n",
      "Average Class f1: [0.0, 0.0, 0.0, 0.189, 0.0, 0.08, 0.905, 0.0, 0.467, 0.2, 0.0, 0.966, 0.871, 0.737, 0.28, 0.698, 0.0, 0.903, 0.124, 0.215]\n",
      "Average Class recall: [0.0, 0.0, 0.0, 0.18, 0.0, 0.1, 1.0, 0.0, 0.447, 0.2, 0.0, 0.938, 1.0, 0.91, 0.267, 0.711, 0.0, 0.96, 0.09, 0.184]\n",
      "Average Class precision: [0.0, 0.0, 0.0, 0.2, 0.0, 0.067, 0.85, 0.0, 0.5, 0.2, 0.0, 1.0, 0.774, 0.633, 0.35, 0.726, 0.0, 0.86, 0.2, 0.375]\n"
     ]
    }
   ],
   "source": [
    "# 重みありの場合の結果（cv=5）\n",
    "average_accuracy = round(sum(d['accuracy'] for d in result)/len(result), 3)\n",
    "average_macro_f1 = round(sum(d['macro_f1'] for d in result)/len(result), 3)\n",
    "# クラスごとの平均値を計算\n",
    "average_class_f1 = [round(sum(d['class_f1'][i] for d in result) / len(result), 3) for i in range(len(result[0]['class_f1']))]\n",
    "average_class_recall = [round(sum(d['class_recall'][i] for d in result) / len(result), 3) for i in range(len(result[0]['class_recall']))]\n",
    "average_class_precision = [round(sum(d['class_precision'][i] for d in result) / len(result), 3) for i in range(len(result[0]['class_precision']))]\n",
    "print(\"Average accuracy:\", average_accuracy)\n",
    "print(\"Average Macro f1:\", average_macro_f1)\n",
    "print(\"Average Class f1:\", average_class_f1)\n",
    "print(\"Average Class recall:\", average_class_recall)\n",
    "print(\"Average Class precision:\", average_class_precision)"
   ]
  },
  {
   "cell_type": "markdown",
   "metadata": {},
   "source": [
    "### 予測用，全データを学習データにして予測"
   ]
  },
  {
   "cell_type": "code",
   "execution_count": 36,
   "metadata": {},
   "outputs": [],
   "source": [
    "# データの読み込み\n",
    "data, class_name = load_multiclass_dataset(f\"{DATASET_PATH}/lifestory_GPT+human_annotation.xlsx\")"
   ]
  },
  {
   "cell_type": "code",
   "execution_count": 37,
   "metadata": {},
   "outputs": [],
   "source": [
    "for sublist in data['labels']:\n",
    "    sublist.insert(-2, 0)"
   ]
  },
  {
   "cell_type": "code",
   "execution_count": 38,
   "metadata": {},
   "outputs": [],
   "source": [
    "# データの読み込み\n",
    "data_add, class_name_add = load_multiclass_dataset(f\"{DATASET_PATH}/lifestory_GPT+human_annotation_2023_season2.xlsx\")"
   ]
  },
  {
   "cell_type": "code",
   "execution_count": 39,
   "metadata": {},
   "outputs": [],
   "source": [
    "# data_addをの中から500件だけ抽出（stratifiedを用いて）\n",
    "data_add_500, _ = split_multilabel_data(data=data_add, test_size=0.6, SEED=SEED)"
   ]
  },
  {
   "cell_type": "code",
   "execution_count": 41,
   "metadata": {},
   "outputs": [
    {
     "data": {
      "text/plain": [
       "523"
      ]
     },
     "execution_count": 41,
     "metadata": {},
     "output_type": "execute_result"
    }
   ],
   "source": [
    "len(data_add_500['texts'])"
   ]
  },
  {
   "cell_type": "code",
   "execution_count": 35,
   "metadata": {},
   "outputs": [
    {
     "data": {
      "text/plain": [
       "1284"
      ]
     },
     "execution_count": 35,
     "metadata": {},
     "output_type": "execute_result"
    }
   ],
   "source": [
    "len(data_add['texts'])"
   ]
  },
  {
   "cell_type": "code",
   "execution_count": 42,
   "metadata": {},
   "outputs": [],
   "source": [
    "# testデータと訓練に使用するデータに分割\n",
    "dataset, eval_data = split_multilabel_data(data=data, test_size=0.2, SEED=SEED)"
   ]
  },
  {
   "cell_type": "code",
   "execution_count": 43,
   "metadata": {},
   "outputs": [
    {
     "name": "stdout",
     "output_type": "stream",
     "text": [
      "[  6  10   8  26   6  38  32   2  30   7  15  46  52  36  49  42  17  32\n",
      "   0  32 374]\n",
      "[ 1  3  2  6  2  9  8  0  7  2  4 11 13  9 12 10  4  8  0  8 93]\n",
      "[  4   9   6  18   3  52  27   4  18  14  23  32  37  26  31  47  14  28\n",
      "   2  16 205]\n"
     ]
    }
   ],
   "source": [
    "print(np.array(dataset['labels']).sum(axis=0))\n",
    "print(np.array(eval_data['labels']).sum(axis=0))\n",
    "print(np.array(data_add_500['labels']).sum(axis=0))"
   ]
  },
  {
   "cell_type": "code",
   "execution_count": 44,
   "metadata": {},
   "outputs": [],
   "source": [
    "NUM_LABELS = 21"
   ]
  },
  {
   "cell_type": "code",
   "execution_count": 45,
   "metadata": {},
   "outputs": [],
   "source": [
    "# 東北大BERT-v3\n",
    "MODEL_NAME = 'cl-tohoku/bert-base-japanese-v3'\n",
    "Classifier_model = MultiClassClassifier(model_name=MODEL_NAME, num_labels=NUM_LABELS, seed=SEED, thresh=THRESH)"
   ]
  },
  {
   "cell_type": "code",
   "execution_count": 46,
   "metadata": {},
   "outputs": [
    {
     "name": "stderr",
     "output_type": "stream",
     "text": [
      "Some weights of BertForSequenceClassification were not initialized from the model checkpoint at cl-tohoku/bert-base-japanese-v3 and are newly initialized: ['classifier.bias', 'classifier.weight']\n",
      "You should probably TRAIN this model on a down-stream task to be able to use it for predictions and inference.\n"
     ]
    },
    {
     "data": {
      "application/vnd.jupyter.widget-view+json": {
       "model_id": "769f2cf950b4426698436fda7e01ed33",
       "version_major": 2,
       "version_minor": 0
      },
      "text/plain": [
       "Map:   0%|          | 0/1319 [00:00<?, ? examples/s]"
      ]
     },
     "metadata": {},
     "output_type": "display_data"
    },
    {
     "data": {
      "application/vnd.jupyter.widget-view+json": {
       "model_id": "519e2836ecb54c73aaff419617372364",
       "version_major": 2,
       "version_minor": 0
      },
      "text/plain": [
       "Map:   0%|          | 0/204 [00:00<?, ? examples/s]"
      ]
     },
     "metadata": {},
     "output_type": "display_data"
    },
    {
     "name": "stderr",
     "output_type": "stream",
     "text": [
      "wandb: WARNING Source type is set to 'repo' but some required information is missing from the environment. A job will not be created from this run. See https://docs.wandb.ai/guides/launch/create-job\n"
     ]
    },
    {
     "data": {
      "application/vnd.jupyter.widget-view+json": {
       "model_id": "2b7127d2b012411282172300dc8f2a65",
       "version_major": 2,
       "version_minor": 0
      },
      "text/plain": [
       "VBox(children=(Label(value='Waiting for wandb.init()...\\r'), FloatProgress(value=0.011112499552675419, max=1.0…"
      ]
     },
     "metadata": {},
     "output_type": "display_data"
    },
    {
     "data": {
      "text/html": [
       "\n",
       "    <div>\n",
       "      \n",
       "      <progress value='1992' max='8300' style='width:300px; height:20px; vertical-align: middle;'></progress>\n",
       "      [1992/8300 05:16 < 16:43, 6.28 it/s, Epoch 24/100]\n",
       "    </div>\n",
       "    <table border=\"1\" class=\"dataframe\">\n",
       "  <thead>\n",
       " <tr style=\"text-align: left;\">\n",
       "      <th>Epoch</th>\n",
       "      <th>Training Loss</th>\n",
       "      <th>Validation Loss</th>\n",
       "      <th>Accuracy</th>\n",
       "      <th>Macro F1</th>\n",
       "      <th>Class F1</th>\n",
       "      <th>Class Recall</th>\n",
       "      <th>Class Precision</th>\n",
       "    </tr>\n",
       "  </thead>\n",
       "  <tbody>\n",
       "    <tr>\n",
       "      <td>1</td>\n",
       "      <td>0.577500</td>\n",
       "      <td>0.352243</td>\n",
       "      <td>0.000000</td>\n",
       "      <td>0.000000</td>\n",
       "      <td>[0.0, 0.0, 0.0, 0.0, 0.0, 0.0, 0.0, 0.0, 0.0, 0.0, 0.0, 0.0, 0.0, 0.0, 0.0, 0.0, 0.0, 0.0, 0.0, 0.0, 0.0]</td>\n",
       "      <td>[0.0, 0.0, 0.0, 0.0, 0.0, 0.0, 0.0, 0.0, 0.0, 0.0, 0.0, 0.0, 0.0, 0.0, 0.0, 0.0, 0.0, 0.0, 0.0, 0.0, 0.0]</td>\n",
       "      <td>[0.0, 0.0, 0.0, 0.0, 0.0, 0.0, 0.0, 0.0, 0.0, 0.0, 0.0, 0.0, 0.0, 0.0, 0.0, 0.0, 0.0, 0.0, 0.0, 0.0, 0.0]</td>\n",
       "    </tr>\n",
       "    <tr>\n",
       "      <td>2</td>\n",
       "      <td>0.236700</td>\n",
       "      <td>0.147608</td>\n",
       "      <td>0.000000</td>\n",
       "      <td>0.000000</td>\n",
       "      <td>[0.0, 0.0, 0.0, 0.0, 0.0, 0.0, 0.0, 0.0, 0.0, 0.0, 0.0, 0.0, 0.0, 0.0, 0.0, 0.0, 0.0, 0.0, 0.0, 0.0, 0.0]</td>\n",
       "      <td>[0.0, 0.0, 0.0, 0.0, 0.0, 0.0, 0.0, 0.0, 0.0, 0.0, 0.0, 0.0, 0.0, 0.0, 0.0, 0.0, 0.0, 0.0, 0.0, 0.0, 0.0]</td>\n",
       "      <td>[0.0, 0.0, 0.0, 0.0, 0.0, 0.0, 0.0, 0.0, 0.0, 0.0, 0.0, 0.0, 0.0, 0.0, 0.0, 0.0, 0.0, 0.0, 0.0, 0.0, 0.0]</td>\n",
       "    </tr>\n",
       "    <tr>\n",
       "      <td>3</td>\n",
       "      <td>0.139000</td>\n",
       "      <td>0.103247</td>\n",
       "      <td>0.000000</td>\n",
       "      <td>0.000000</td>\n",
       "      <td>[0.0, 0.0, 0.0, 0.0, 0.0, 0.0, 0.0, 0.0, 0.0, 0.0, 0.0, 0.0, 0.0, 0.0, 0.0, 0.0, 0.0, 0.0, 0.0, 0.0, 0.0]</td>\n",
       "      <td>[0.0, 0.0, 0.0, 0.0, 0.0, 0.0, 0.0, 0.0, 0.0, 0.0, 0.0, 0.0, 0.0, 0.0, 0.0, 0.0, 0.0, 0.0, 0.0, 0.0, 0.0]</td>\n",
       "      <td>[0.0, 0.0, 0.0, 0.0, 0.0, 0.0, 0.0, 0.0, 0.0, 0.0, 0.0, 0.0, 0.0, 0.0, 0.0, 0.0, 0.0, 0.0, 0.0, 0.0, 0.0]</td>\n",
       "    </tr>\n",
       "    <tr>\n",
       "      <td>4</td>\n",
       "      <td>0.114200</td>\n",
       "      <td>0.090487</td>\n",
       "      <td>0.000000</td>\n",
       "      <td>0.000000</td>\n",
       "      <td>[0.0, 0.0, 0.0, 0.0, 0.0, 0.0, 0.0, 0.0, 0.0, 0.0, 0.0, 0.0, 0.0, 0.0, 0.0, 0.0, 0.0, 0.0, 0.0, 0.0, 0.0]</td>\n",
       "      <td>[0.0, 0.0, 0.0, 0.0, 0.0, 0.0, 0.0, 0.0, 0.0, 0.0, 0.0, 0.0, 0.0, 0.0, 0.0, 0.0, 0.0, 0.0, 0.0, 0.0, 0.0]</td>\n",
       "      <td>[0.0, 0.0, 0.0, 0.0, 0.0, 0.0, 0.0, 0.0, 0.0, 0.0, 0.0, 0.0, 0.0, 0.0, 0.0, 0.0, 0.0, 0.0, 0.0, 0.0, 0.0]</td>\n",
       "    </tr>\n",
       "    <tr>\n",
       "      <td>5</td>\n",
       "      <td>0.104600</td>\n",
       "      <td>0.086409</td>\n",
       "      <td>0.000000</td>\n",
       "      <td>0.000000</td>\n",
       "      <td>[0.0, 0.0, 0.0, 0.0, 0.0, 0.0, 0.0, 0.0, 0.0, 0.0, 0.0, 0.0, 0.0, 0.0, 0.0, 0.0, 0.0, 0.0, 0.0, 0.0, 0.0]</td>\n",
       "      <td>[0.0, 0.0, 0.0, 0.0, 0.0, 0.0, 0.0, 0.0, 0.0, 0.0, 0.0, 0.0, 0.0, 0.0, 0.0, 0.0, 0.0, 0.0, 0.0, 0.0, 0.0]</td>\n",
       "      <td>[0.0, 0.0, 0.0, 0.0, 0.0, 0.0, 0.0, 0.0, 0.0, 0.0, 0.0, 0.0, 0.0, 0.0, 0.0, 0.0, 0.0, 0.0, 0.0, 0.0, 0.0]</td>\n",
       "    </tr>\n",
       "    <tr>\n",
       "      <td>6</td>\n",
       "      <td>0.102200</td>\n",
       "      <td>0.083856</td>\n",
       "      <td>0.000000</td>\n",
       "      <td>0.000000</td>\n",
       "      <td>[0.0, 0.0, 0.0, 0.0, 0.0, 0.0, 0.0, 0.0, 0.0, 0.0, 0.0, 0.0, 0.0, 0.0, 0.0, 0.0, 0.0, 0.0, 0.0, 0.0, 0.0]</td>\n",
       "      <td>[0.0, 0.0, 0.0, 0.0, 0.0, 0.0, 0.0, 0.0, 0.0, 0.0, 0.0, 0.0, 0.0, 0.0, 0.0, 0.0, 0.0, 0.0, 0.0, 0.0, 0.0]</td>\n",
       "      <td>[0.0, 0.0, 0.0, 0.0, 0.0, 0.0, 0.0, 0.0, 0.0, 0.0, 0.0, 0.0, 0.0, 0.0, 0.0, 0.0, 0.0, 0.0, 0.0, 0.0, 0.0]</td>\n",
       "    </tr>\n",
       "    <tr>\n",
       "      <td>7</td>\n",
       "      <td>0.097700</td>\n",
       "      <td>0.079325</td>\n",
       "      <td>0.000000</td>\n",
       "      <td>0.000000</td>\n",
       "      <td>[0.0, 0.0, 0.0, 0.0, 0.0, 0.0, 0.0, 0.0, 0.0, 0.0, 0.0, 0.0, 0.0, 0.0, 0.0, 0.0, 0.0, 0.0, 0.0, 0.0, 0.0]</td>\n",
       "      <td>[0.0, 0.0, 0.0, 0.0, 0.0, 0.0, 0.0, 0.0, 0.0, 0.0, 0.0, 0.0, 0.0, 0.0, 0.0, 0.0, 0.0, 0.0, 0.0, 0.0, 0.0]</td>\n",
       "      <td>[0.0, 0.0, 0.0, 0.0, 0.0, 0.0, 0.0, 0.0, 0.0, 0.0, 0.0, 0.0, 0.0, 0.0, 0.0, 0.0, 0.0, 0.0, 0.0, 0.0, 0.0]</td>\n",
       "    </tr>\n",
       "    <tr>\n",
       "      <td>8</td>\n",
       "      <td>0.090100</td>\n",
       "      <td>0.073164</td>\n",
       "      <td>0.004902</td>\n",
       "      <td>0.007937</td>\n",
       "      <td>[0.0, 0.0, 0.0, 0.0, 0.0, 0.0, 0.0, 0.0, 0.0, 0.0, 0.0, 0.167, 0.0, 0.0, 0.0, 0.0, 0.0, 0.0, 0.0, 0.0, 0.0]</td>\n",
       "      <td>[0.0, 0.0, 0.0, 0.0, 0.0, 0.0, 0.0, 0.0, 0.0, 0.0, 0.0, 0.091, 0.0, 0.0, 0.0, 0.0, 0.0, 0.0, 0.0, 0.0, 0.0]</td>\n",
       "      <td>[0.0, 0.0, 0.0, 0.0, 0.0, 0.0, 0.0, 0.0, 0.0, 0.0, 0.0, 1.0, 0.0, 0.0, 0.0, 0.0, 0.0, 0.0, 0.0, 0.0, 0.0]</td>\n",
       "    </tr>\n",
       "    <tr>\n",
       "      <td>9</td>\n",
       "      <td>0.080000</td>\n",
       "      <td>0.065689</td>\n",
       "      <td>0.044118</td>\n",
       "      <td>0.047985</td>\n",
       "      <td>[0.0, 0.0, 0.0, 0.0, 0.0, 0.0, 0.0, 0.0, 0.0, 0.0, 0.0, 0.308, 0.7, 0.0, 0.0, 0.0, 0.0, 0.0, 0.0, 0.0, 0.0]</td>\n",
       "      <td>[0.0, 0.0, 0.0, 0.0, 0.0, 0.0, 0.0, 0.0, 0.0, 0.0, 0.0, 0.182, 0.538, 0.0, 0.0, 0.0, 0.0, 0.0, 0.0, 0.0, 0.0]</td>\n",
       "      <td>[0.0, 0.0, 0.0, 0.0, 0.0, 0.0, 0.0, 0.0, 0.0, 0.0, 0.0, 1.0, 1.0, 0.0, 0.0, 0.0, 0.0, 0.0, 0.0, 0.0, 0.0]</td>\n",
       "    </tr>\n",
       "    <tr>\n",
       "      <td>10</td>\n",
       "      <td>0.068700</td>\n",
       "      <td>0.062468</td>\n",
       "      <td>0.132353</td>\n",
       "      <td>0.178219</td>\n",
       "      <td>[0.0, 0.0, 0.0, 0.25, 0.0, 0.6, 0.222, 0.0, 0.0, 0.0, 0.0, 0.588, 0.783, 0.364, 0.154, 0.167, 0.0, 0.615, 0.0, 0.0, 0.0]</td>\n",
       "      <td>[0.0, 0.0, 0.0, 0.167, 0.0, 0.667, 0.125, 0.0, 0.0, 0.0, 0.0, 0.455, 0.692, 0.222, 0.083, 0.1, 0.0, 0.5, 0.0, 0.0, 0.0]</td>\n",
       "      <td>[0.0, 0.0, 0.0, 0.5, 0.0, 0.545, 1.0, 0.0, 0.0, 0.0, 0.0, 0.833, 0.9, 1.0, 1.0, 0.5, 0.0, 0.8, 0.0, 0.0, 0.0]</td>\n",
       "    </tr>\n",
       "    <tr>\n",
       "      <td>11</td>\n",
       "      <td>0.060000</td>\n",
       "      <td>0.058125</td>\n",
       "      <td>0.147059</td>\n",
       "      <td>0.203408</td>\n",
       "      <td>[0.0, 0.0, 0.0, 0.0, 0.0, 0.5, 0.308, 0.0, 0.0, 0.667, 0.0, 0.667, 0.815, 0.364, 0.154, 0.167, 0.0, 0.632, 0.0, 0.0, 0.0]</td>\n",
       "      <td>[0.0, 0.0, 0.0, 0.0, 0.0, 0.333, 0.25, 0.0, 0.0, 0.5, 0.0, 0.545, 0.846, 0.222, 0.083, 0.1, 0.0, 0.75, 0.0, 0.0, 0.0]</td>\n",
       "      <td>[0.0, 0.0, 0.0, 0.0, 0.0, 1.0, 0.4, 0.0, 0.0, 1.0, 0.0, 0.857, 0.786, 1.0, 1.0, 0.5, 0.0, 0.545, 0.0, 0.0, 0.0]</td>\n",
       "    </tr>\n",
       "    <tr>\n",
       "      <td>12</td>\n",
       "      <td>0.050800</td>\n",
       "      <td>0.056290</td>\n",
       "      <td>0.176471</td>\n",
       "      <td>0.256783</td>\n",
       "      <td>[0.0, 0.0, 0.0, 0.444, 0.0, 0.632, 0.333, 0.0, 0.0, 0.0, 0.4, 0.737, 0.783, 0.364, 0.5, 0.4, 0.4, 0.4, 0.0, 0.0, 0.0]</td>\n",
       "      <td>[0.0, 0.0, 0.0, 0.333, 0.0, 0.667, 0.25, 0.0, 0.0, 0.0, 0.25, 0.636, 0.692, 0.222, 0.333, 0.3, 0.25, 0.375, 0.0, 0.0, 0.0]</td>\n",
       "      <td>[0.0, 0.0, 0.0, 0.667, 0.0, 0.6, 0.5, 0.0, 0.0, 0.0, 1.0, 0.875, 0.9, 1.0, 1.0, 0.6, 1.0, 0.429, 0.0, 0.0, 0.0]</td>\n",
       "    </tr>\n",
       "    <tr>\n",
       "      <td>13</td>\n",
       "      <td>0.042600</td>\n",
       "      <td>0.052416</td>\n",
       "      <td>0.411765</td>\n",
       "      <td>0.335848</td>\n",
       "      <td>[0.0, 0.0, 0.0, 0.444, 0.0, 0.737, 0.286, 0.0, 0.25, 0.667, 0.4, 0.737, 0.8, 0.5, 0.4, 0.667, 0.0, 0.571, 0.0, 0.0, 0.594]</td>\n",
       "      <td>[0.0, 0.0, 0.0, 0.333, 0.0, 0.778, 0.25, 0.0, 0.143, 0.5, 0.25, 0.636, 0.769, 0.333, 0.25, 0.6, 0.0, 0.5, 0.0, 0.0, 0.441]</td>\n",
       "      <td>[0.0, 0.0, 0.0, 0.667, 0.0, 0.7, 0.333, 0.0, 1.0, 1.0, 1.0, 0.875, 0.833, 1.0, 1.0, 0.75, 0.0, 0.667, 0.0, 0.0, 0.911]</td>\n",
       "    </tr>\n",
       "    <tr>\n",
       "      <td>14</td>\n",
       "      <td>0.037800</td>\n",
       "      <td>0.051583</td>\n",
       "      <td>0.421569</td>\n",
       "      <td>0.346075</td>\n",
       "      <td>[0.0, 0.0, 0.0, 0.25, 0.0, 0.696, 0.25, 0.0, 0.0, 0.667, 0.571, 0.737, 0.769, 0.5, 0.5, 0.667, 0.0, 0.737, 0.0, 0.364, 0.561]</td>\n",
       "      <td>[0.0, 0.0, 0.0, 0.167, 0.0, 0.889, 0.25, 0.0, 0.0, 0.5, 0.5, 0.636, 0.769, 0.333, 0.333, 0.6, 0.0, 0.875, 0.0, 0.25, 0.398]</td>\n",
       "      <td>[0.0, 0.0, 0.0, 0.5, 0.0, 0.571, 0.25, 0.0, 0.0, 1.0, 0.667, 0.875, 0.769, 1.0, 1.0, 0.75, 0.0, 0.636, 0.0, 0.667, 0.949]</td>\n",
       "    </tr>\n",
       "    <tr>\n",
       "      <td>15</td>\n",
       "      <td>0.032700</td>\n",
       "      <td>0.049541</td>\n",
       "      <td>0.450980</td>\n",
       "      <td>0.345606</td>\n",
       "      <td>[0.0, 0.0, 0.0, 0.444, 0.0, 0.625, 0.375, 0.0, 0.25, 0.667, 0.4, 0.667, 0.75, 0.5, 0.5, 0.667, 0.0, 0.556, 0.0, 0.2, 0.658]</td>\n",
       "      <td>[0.0, 0.0, 0.0, 0.333, 0.0, 0.556, 0.375, 0.0, 0.143, 0.5, 0.25, 0.545, 0.692, 0.333, 0.333, 0.6, 0.0, 0.625, 0.0, 0.125, 0.527]</td>\n",
       "      <td>[0.0, 0.0, 0.0, 0.667, 0.0, 0.714, 0.375, 0.0, 1.0, 1.0, 1.0, 0.857, 0.818, 1.0, 1.0, 0.75, 0.0, 0.5, 0.0, 0.5, 0.875]</td>\n",
       "    </tr>\n",
       "    <tr>\n",
       "      <td>16</td>\n",
       "      <td>0.029500</td>\n",
       "      <td>0.049398</td>\n",
       "      <td>0.529412</td>\n",
       "      <td>0.377861</td>\n",
       "      <td>[0.0, 0.0, 0.0, 0.444, 0.0, 0.706, 0.333, 0.0, 0.25, 0.667, 0.4, 0.737, 0.8, 0.615, 0.5, 0.857, 0.0, 0.706, 0.0, 0.2, 0.72]</td>\n",
       "      <td>[0.0, 0.0, 0.0, 0.333, 0.0, 0.667, 0.25, 0.0, 0.143, 0.5, 0.25, 0.636, 0.769, 0.444, 0.333, 0.9, 0.0, 0.75, 0.0, 0.125, 0.634]</td>\n",
       "      <td>[0.0, 0.0, 0.0, 0.667, 0.0, 0.75, 0.5, 0.0, 1.0, 1.0, 1.0, 0.875, 0.833, 1.0, 1.0, 0.818, 0.0, 0.667, 0.0, 0.5, 0.831]</td>\n",
       "    </tr>\n",
       "    <tr>\n",
       "      <td>17</td>\n",
       "      <td>0.026500</td>\n",
       "      <td>0.050795</td>\n",
       "      <td>0.509804</td>\n",
       "      <td>0.399170</td>\n",
       "      <td>[0.0, 0.0, 0.0, 0.6, 0.0, 0.556, 0.25, 0.0, 0.25, 0.667, 0.4, 0.667, 0.8, 0.364, 0.5, 0.667, 0.857, 0.778, 0.0, 0.333, 0.695]</td>\n",
       "      <td>[0.0, 0.0, 0.0, 0.5, 0.0, 0.556, 0.25, 0.0, 0.143, 0.5, 0.25, 0.545, 0.769, 0.222, 0.333, 0.6, 0.75, 0.875, 0.0, 0.25, 0.613]</td>\n",
       "      <td>[0.0, 0.0, 0.0, 0.75, 0.0, 0.556, 0.25, 0.0, 1.0, 1.0, 1.0, 0.857, 0.833, 1.0, 1.0, 0.75, 1.0, 0.7, 0.0, 0.5, 0.803]</td>\n",
       "    </tr>\n",
       "    <tr>\n",
       "      <td>18</td>\n",
       "      <td>0.024200</td>\n",
       "      <td>0.048799</td>\n",
       "      <td>0.553922</td>\n",
       "      <td>0.384061</td>\n",
       "      <td>[0.0, 0.0, 0.0, 0.6, 0.0, 0.588, 0.286, 0.0, 0.222, 0.667, 0.4, 0.737, 0.783, 0.714, 0.5, 0.737, 0.0, 0.75, 0.0, 0.333, 0.749]</td>\n",
       "      <td>[0.0, 0.0, 0.0, 0.5, 0.0, 0.556, 0.25, 0.0, 0.143, 0.5, 0.25, 0.636, 0.692, 0.556, 0.333, 0.7, 0.0, 0.75, 0.0, 0.25, 0.688]</td>\n",
       "      <td>[0.0, 0.0, 0.0, 0.75, 0.0, 0.625, 0.333, 0.0, 0.5, 1.0, 1.0, 0.875, 0.9, 1.0, 1.0, 0.778, 0.0, 0.75, 0.0, 0.5, 0.821]</td>\n",
       "    </tr>\n",
       "    <tr>\n",
       "      <td>19</td>\n",
       "      <td>0.021400</td>\n",
       "      <td>0.049762</td>\n",
       "      <td>0.568627</td>\n",
       "      <td>0.424253</td>\n",
       "      <td>[0.0, 0.0, 0.0, 0.6, 0.0, 0.706, 0.267, 0.0, 0.4, 0.571, 0.571, 0.737, 0.846, 0.667, 0.5, 0.8, 0.4, 0.667, 0.0, 0.462, 0.716]</td>\n",
       "      <td>[0.0, 0.0, 0.0, 0.5, 0.0, 0.667, 0.25, 0.0, 0.286, 1.0, 0.5, 0.636, 0.846, 0.556, 0.333, 0.8, 0.25, 1.0, 0.0, 0.375, 0.624]</td>\n",
       "      <td>[0.0, 0.0, 0.0, 0.75, 0.0, 0.75, 0.286, 0.0, 0.667, 0.4, 0.667, 0.875, 0.846, 0.833, 1.0, 0.8, 1.0, 0.5, 0.0, 0.6, 0.841]</td>\n",
       "    </tr>\n",
       "    <tr>\n",
       "      <td>20</td>\n",
       "      <td>0.019700</td>\n",
       "      <td>0.054904</td>\n",
       "      <td>0.568627</td>\n",
       "      <td>0.435761</td>\n",
       "      <td>[0.0, 0.5, 0.0, 0.6, 0.667, 0.667, 0.429, 0.0, 0.25, 0.571, 0.333, 0.667, 0.75, 0.5, 0.5, 0.737, 0.4, 0.636, 0.0, 0.2, 0.744]</td>\n",
       "      <td>[0.0, 0.333, 0.0, 0.5, 0.5, 0.556, 0.375, 0.0, 0.143, 1.0, 0.25, 0.545, 0.692, 0.333, 0.333, 0.7, 0.25, 0.875, 0.0, 0.125, 0.72]</td>\n",
       "      <td>[0.0, 1.0, 0.0, 0.75, 1.0, 0.833, 0.5, 0.0, 1.0, 0.4, 0.5, 0.857, 0.818, 1.0, 1.0, 0.778, 1.0, 0.5, 0.0, 0.5, 0.77]</td>\n",
       "    </tr>\n",
       "    <tr>\n",
       "      <td>21</td>\n",
       "      <td>0.017900</td>\n",
       "      <td>0.048527</td>\n",
       "      <td>0.573529</td>\n",
       "      <td>0.460431</td>\n",
       "      <td>[0.0, 0.5, 0.0, 0.444, 0.667, 0.7, 0.286, 0.0, 0.4, 0.5, 0.667, 0.8, 0.846, 0.615, 0.5, 0.8, 0.0, 0.824, 0.0, 0.4, 0.72]</td>\n",
       "      <td>[0.0, 0.333, 0.0, 0.333, 0.5, 0.778, 0.25, 0.0, 0.286, 0.5, 0.5, 0.727, 0.846, 0.444, 0.333, 0.8, 0.0, 0.875, 0.0, 0.375, 0.624]</td>\n",
       "      <td>[0.0, 1.0, 0.0, 0.667, 1.0, 0.636, 0.333, 0.0, 0.667, 0.5, 1.0, 0.889, 0.846, 1.0, 1.0, 0.8, 0.0, 0.778, 0.0, 0.429, 0.853]</td>\n",
       "    </tr>\n",
       "    <tr>\n",
       "      <td>22</td>\n",
       "      <td>0.016900</td>\n",
       "      <td>0.049163</td>\n",
       "      <td>0.573529</td>\n",
       "      <td>0.459080</td>\n",
       "      <td>[0.0, 0.5, 0.0, 0.444, 0.667, 0.737, 0.375, 0.0, 0.5, 0.5, 0.444, 0.857, 0.846, 0.5, 0.5, 0.8, 0.0, 0.762, 0.0, 0.5, 0.708]</td>\n",
       "      <td>[0.0, 0.333, 0.0, 0.333, 0.5, 0.778, 0.375, 0.0, 0.429, 1.0, 0.5, 0.818, 0.846, 0.333, 0.333, 0.8, 0.0, 1.0, 0.0, 0.375, 0.613]</td>\n",
       "      <td>[0.0, 1.0, 0.0, 0.667, 1.0, 0.7, 0.375, 0.0, 0.6, 0.333, 0.4, 0.9, 0.846, 1.0, 1.0, 0.8, 0.0, 0.615, 0.0, 0.75, 0.838]</td>\n",
       "    </tr>\n",
       "    <tr>\n",
       "      <td>23</td>\n",
       "      <td>0.015600</td>\n",
       "      <td>0.052336</td>\n",
       "      <td>0.598039</td>\n",
       "      <td>0.456477</td>\n",
       "      <td>[0.0, 0.5, 0.0, 0.444, 0.667, 0.7, 0.286, 0.0, 0.222, 0.5, 0.4, 0.667, 0.846, 0.5, 0.5, 0.762, 0.667, 0.7, 0.0, 0.462, 0.764]</td>\n",
       "      <td>[0.0, 0.333, 0.0, 0.333, 0.5, 0.778, 0.25, 0.0, 0.143, 0.5, 0.25, 0.545, 0.846, 0.333, 0.333, 0.8, 0.5, 0.875, 0.0, 0.375, 0.731]</td>\n",
       "      <td>[0.0, 1.0, 0.0, 0.667, 1.0, 0.636, 0.333, 0.0, 0.5, 0.5, 1.0, 0.857, 0.846, 1.0, 1.0, 0.727, 1.0, 0.583, 0.0, 0.6, 0.8]</td>\n",
       "    </tr>\n",
       "    <tr>\n",
       "      <td>24</td>\n",
       "      <td>0.014200</td>\n",
       "      <td>0.051114</td>\n",
       "      <td>0.578431</td>\n",
       "      <td>0.465981</td>\n",
       "      <td>[0.0, 0.5, 0.0, 0.6, 0.667, 0.667, 0.471, 0.0, 0.364, 0.4, 0.444, 0.737, 0.846, 0.5, 0.556, 0.8, 0.4, 0.778, 0.0, 0.333, 0.724]</td>\n",
       "      <td>[0.0, 0.333, 0.0, 0.5, 0.5, 0.778, 0.5, 0.0, 0.286, 0.5, 0.5, 0.636, 0.846, 0.333, 0.417, 0.8, 0.25, 0.875, 0.0, 0.25, 0.634]</td>\n",
       "      <td>[0.0, 1.0, 0.0, 0.75, 1.0, 0.583, 0.444, 0.0, 0.5, 0.333, 0.4, 0.875, 0.846, 1.0, 0.833, 0.8, 1.0, 0.7, 0.0, 0.5, 0.843]</td>\n",
       "    </tr>\n",
       "  </tbody>\n",
       "</table><p>"
      ],
      "text/plain": [
       "<IPython.core.display.HTML object>"
      ]
     },
     "metadata": {},
     "output_type": "display_data"
    }
   ],
   "source": [
    "# 学習を行う\n",
    "trainer = Classifier_model.train_model_adding_data(dataset, eval_data, data_add_500, MAX_LEN, NUM_EPOCHS, LEARNING_RATE, BATCH_SIZE, PATIENCE, output_dir)"
   ]
  },
  {
   "cell_type": "markdown",
   "metadata": {},
   "source": [
    "### Cross Validation add data"
   ]
  },
  {
   "cell_type": "code",
   "execution_count": 18,
   "metadata": {},
   "outputs": [],
   "source": [
    "# データの読み込み\n",
    "data, class_name = load_multiclass_dataset(f\"{DATASET_PATH}/lifestory_GPT+human_annotation.xlsx\")"
   ]
  },
  {
   "cell_type": "code",
   "execution_count": 19,
   "metadata": {},
   "outputs": [],
   "source": [
    "for sublist in data['labels']:\n",
    "    sublist.insert(-2, 0)"
   ]
  },
  {
   "cell_type": "code",
   "execution_count": 20,
   "metadata": {},
   "outputs": [
    {
     "data": {
      "text/plain": [
       "21"
      ]
     },
     "execution_count": 20,
     "metadata": {},
     "output_type": "execute_result"
    }
   ],
   "source": [
    "len(data['labels'][0])"
   ]
  },
  {
   "cell_type": "code",
   "execution_count": 21,
   "metadata": {},
   "outputs": [
    {
     "data": {
      "text/plain": [
       "20"
      ]
     },
     "execution_count": 21,
     "metadata": {},
     "output_type": "execute_result"
    }
   ],
   "source": [
    "len(class_name)"
   ]
  },
  {
   "cell_type": "code",
   "execution_count": 22,
   "metadata": {},
   "outputs": [],
   "source": [
    "# データの読み込み\n",
    "data_add, class_name_add = load_multiclass_dataset(f\"{DATASET_PATH}/lifestory_GPT+human_annotation_2023_season2.xlsx\")"
   ]
  },
  {
   "cell_type": "code",
   "execution_count": 23,
   "metadata": {},
   "outputs": [
    {
     "data": {
      "text/plain": [
       "21"
      ]
     },
     "execution_count": 23,
     "metadata": {},
     "output_type": "execute_result"
    }
   ],
   "source": [
    "len(class_name_add)"
   ]
  },
  {
   "cell_type": "code",
   "execution_count": 24,
   "metadata": {},
   "outputs": [],
   "source": [
    "# data_addをの中から500件だけ抽出（stratifiedを用いて）\n",
    "data_add_500, _ = split_multilabel_data(data=data_add, test_size=0.6, SEED=SEED)"
   ]
  },
  {
   "cell_type": "code",
   "execution_count": 26,
   "metadata": {},
   "outputs": [
    {
     "data": {
      "text/plain": [
       "523"
      ]
     },
     "execution_count": 26,
     "metadata": {},
     "output_type": "execute_result"
    }
   ],
   "source": [
    "len(data_add_500['labels'])"
   ]
  },
  {
   "cell_type": "code",
   "execution_count": 27,
   "metadata": {},
   "outputs": [
    {
     "name": "stdout",
     "output_type": "stream",
     "text": [
      "[  4   9   6  18   3  52  27   4  18  14  23  32  37  26  31  47  14  28\n",
      "   2  16 205]\n"
     ]
    }
   ],
   "source": [
    "print(np.array(data_add_500['labels']).sum(axis=0))"
   ]
  },
  {
   "cell_type": "code",
   "execution_count": 24,
   "metadata": {},
   "outputs": [],
   "source": [
    "NUM_LABELS = 21"
   ]
  },
  {
   "cell_type": "code",
   "execution_count": 25,
   "metadata": {},
   "outputs": [],
   "source": [
    "# 東北大BERT-v3\n",
    "MODEL_NAME = 'cl-tohoku/bert-base-japanese-v3'\n",
    "Classifier_model = MultiClassClassifier(model_name=MODEL_NAME, num_labels=NUM_LABELS, seed=SEED, thresh=THRESH)"
   ]
  },
  {
   "cell_type": "code",
   "execution_count": 26,
   "metadata": {},
   "outputs": [],
   "source": [
    "# testデータと訓練に使用するデータに分割\n",
    "dataset, test_data, train_index, test_index = split_test_data(data=data, test_size=0.2, SEED=SEED)"
   ]
  },
  {
   "cell_type": "code",
   "execution_count": 27,
   "metadata": {},
   "outputs": [],
   "source": [
    "# testデータと訓練に使用するデータに分割\n",
    "dataset, test_data = split_multilabel_data(data=data, test_size=0.2, SEED=SEED)"
   ]
  },
  {
   "cell_type": "code",
   "execution_count": 28,
   "metadata": {},
   "outputs": [
    {
     "name": "stdout",
     "output_type": "stream",
     "text": [
      "[  6  10   8  26   6  38  32   2  30   7  15  46  52  36  49  42  17  32\n",
      "   0  32 374]\n",
      "[ 1  3  2  6  2  9  8  0  7  2  4 11 13  9 12 10  4  8  0  8 93]\n"
     ]
    }
   ],
   "source": [
    "print(np.array(dataset['labels']).sum(axis=0))\n",
    "print(np.array(test_data['labels']).sum(axis=0))"
   ]
  },
  {
   "cell_type": "code",
   "execution_count": 29,
   "metadata": {},
   "outputs": [
    {
     "name": "stdout",
     "output_type": "stream",
     "text": [
      "[  6  10   8  26   6  38  32   2  30   7  15  46  52  36  49  42  17  32\n",
      "   0  32 374]\n",
      "[ 1  3  2  6  2  9  8  0  7  2  4 11 13  9 12 10  4  8  0  8 93]\n"
     ]
    }
   ],
   "source": [
    "print(np.array(dataset['labels']).sum(axis=0))\n",
    "print(np.array(test_data['labels']).sum(axis=0))"
   ]
  },
  {
   "cell_type": "code",
   "execution_count": 30,
   "metadata": {},
   "outputs": [
    {
     "name": "stdout",
     "output_type": "stream",
     "text": [
      "-----------------Fold: 1-----------------\n"
     ]
    },
    {
     "name": "stderr",
     "output_type": "stream",
     "text": [
      "Some weights of BertForSequenceClassification were not initialized from the model checkpoint at cl-tohoku/bert-base-japanese-v3 and are newly initialized: ['classifier.bias', 'classifier.weight']\n",
      "You should probably TRAIN this model on a down-stream task to be able to use it for predictions and inference.\n"
     ]
    },
    {
     "data": {
      "application/vnd.jupyter.widget-view+json": {
       "model_id": "62f5c6282dcb46ea9c72ade143035b7e",
       "version_major": 2,
       "version_minor": 0
      },
      "text/plain": [
       "Map:   0%|          | 0/1165 [00:00<?, ? examples/s]"
      ]
     },
     "metadata": {},
     "output_type": "display_data"
    },
    {
     "data": {
      "application/vnd.jupyter.widget-view+json": {
       "model_id": "b71d835326ff455db46dcc943ae9dd57",
       "version_major": 2,
       "version_minor": 0
      },
      "text/plain": [
       "Map:   0%|          | 0/154 [00:00<?, ? examples/s]"
      ]
     },
     "metadata": {},
     "output_type": "display_data"
    },
    {
     "name": "stderr",
     "output_type": "stream",
     "text": [
      "wandb: WARNING Source type is set to 'repo' but some required information is missing from the environment. A job will not be created from this run. See https://docs.wandb.ai/guides/launch/create-job\n"
     ]
    },
    {
     "data": {
      "application/vnd.jupyter.widget-view+json": {
       "model_id": "cd25fbfd5c4d42418f2190dcbaee4edc",
       "version_major": 2,
       "version_minor": 0
      },
      "text/plain": [
       "VBox(children=(Label(value='Waiting for wandb.init()...\\r'), FloatProgress(value=0.011112330812546941, max=1.0…"
      ]
     },
     "metadata": {},
     "output_type": "display_data"
    },
    {
     "data": {
      "text/html": [
       "\n",
       "    <div>\n",
       "      \n",
       "      <progress value='1314' max='7300' style='width:300px; height:20px; vertical-align: middle;'></progress>\n",
       "      [1314/7300 03:31 < 16:06, 6.19 it/s, Epoch 18/100]\n",
       "    </div>\n",
       "    <table border=\"1\" class=\"dataframe\">\n",
       "  <thead>\n",
       " <tr style=\"text-align: left;\">\n",
       "      <th>Epoch</th>\n",
       "      <th>Training Loss</th>\n",
       "      <th>Validation Loss</th>\n",
       "      <th>Accuracy</th>\n",
       "      <th>Macro F1</th>\n",
       "      <th>Class F1</th>\n",
       "      <th>Class Recall</th>\n",
       "      <th>Class Precision</th>\n",
       "    </tr>\n",
       "  </thead>\n",
       "  <tbody>\n",
       "    <tr>\n",
       "      <td>1</td>\n",
       "      <td>0.599500</td>\n",
       "      <td>0.394762</td>\n",
       "      <td>0.000000</td>\n",
       "      <td>0.000000</td>\n",
       "      <td>[0.0, 0.0, 0.0, 0.0, 0.0, 0.0, 0.0, 0.0, 0.0, 0.0, 0.0, 0.0, 0.0, 0.0, 0.0, 0.0, 0.0, 0.0, 0.0, 0.0, 0.0]</td>\n",
       "      <td>[0.0, 0.0, 0.0, 0.0, 0.0, 0.0, 0.0, 0.0, 0.0, 0.0, 0.0, 0.0, 0.0, 0.0, 0.0, 0.0, 0.0, 0.0, 0.0, 0.0, 0.0]</td>\n",
       "      <td>[0.0, 0.0, 0.0, 0.0, 0.0, 0.0, 0.0, 0.0, 0.0, 0.0, 0.0, 0.0, 0.0, 0.0, 0.0, 0.0, 0.0, 0.0, 0.0, 0.0, 0.0]</td>\n",
       "    </tr>\n",
       "    <tr>\n",
       "      <td>2</td>\n",
       "      <td>0.250100</td>\n",
       "      <td>0.155915</td>\n",
       "      <td>0.000000</td>\n",
       "      <td>0.000000</td>\n",
       "      <td>[0.0, 0.0, 0.0, 0.0, 0.0, 0.0, 0.0, 0.0, 0.0, 0.0, 0.0, 0.0, 0.0, 0.0, 0.0, 0.0, 0.0, 0.0, 0.0, 0.0, 0.0]</td>\n",
       "      <td>[0.0, 0.0, 0.0, 0.0, 0.0, 0.0, 0.0, 0.0, 0.0, 0.0, 0.0, 0.0, 0.0, 0.0, 0.0, 0.0, 0.0, 0.0, 0.0, 0.0, 0.0]</td>\n",
       "      <td>[0.0, 0.0, 0.0, 0.0, 0.0, 0.0, 0.0, 0.0, 0.0, 0.0, 0.0, 0.0, 0.0, 0.0, 0.0, 0.0, 0.0, 0.0, 0.0, 0.0, 0.0]</td>\n",
       "    </tr>\n",
       "    <tr>\n",
       "      <td>3</td>\n",
       "      <td>0.142300</td>\n",
       "      <td>0.112854</td>\n",
       "      <td>0.000000</td>\n",
       "      <td>0.000000</td>\n",
       "      <td>[0.0, 0.0, 0.0, 0.0, 0.0, 0.0, 0.0, 0.0, 0.0, 0.0, 0.0, 0.0, 0.0, 0.0, 0.0, 0.0, 0.0, 0.0, 0.0, 0.0, 0.0]</td>\n",
       "      <td>[0.0, 0.0, 0.0, 0.0, 0.0, 0.0, 0.0, 0.0, 0.0, 0.0, 0.0, 0.0, 0.0, 0.0, 0.0, 0.0, 0.0, 0.0, 0.0, 0.0, 0.0]</td>\n",
       "      <td>[0.0, 0.0, 0.0, 0.0, 0.0, 0.0, 0.0, 0.0, 0.0, 0.0, 0.0, 0.0, 0.0, 0.0, 0.0, 0.0, 0.0, 0.0, 0.0, 0.0, 0.0]</td>\n",
       "    </tr>\n",
       "    <tr>\n",
       "      <td>4</td>\n",
       "      <td>0.116700</td>\n",
       "      <td>0.099696</td>\n",
       "      <td>0.000000</td>\n",
       "      <td>0.000000</td>\n",
       "      <td>[0.0, 0.0, 0.0, 0.0, 0.0, 0.0, 0.0, 0.0, 0.0, 0.0, 0.0, 0.0, 0.0, 0.0, 0.0, 0.0, 0.0, 0.0, 0.0, 0.0, 0.0]</td>\n",
       "      <td>[0.0, 0.0, 0.0, 0.0, 0.0, 0.0, 0.0, 0.0, 0.0, 0.0, 0.0, 0.0, 0.0, 0.0, 0.0, 0.0, 0.0, 0.0, 0.0, 0.0, 0.0]</td>\n",
       "      <td>[0.0, 0.0, 0.0, 0.0, 0.0, 0.0, 0.0, 0.0, 0.0, 0.0, 0.0, 0.0, 0.0, 0.0, 0.0, 0.0, 0.0, 0.0, 0.0, 0.0, 0.0]</td>\n",
       "    </tr>\n",
       "    <tr>\n",
       "      <td>5</td>\n",
       "      <td>0.108900</td>\n",
       "      <td>0.094954</td>\n",
       "      <td>0.000000</td>\n",
       "      <td>0.000000</td>\n",
       "      <td>[0.0, 0.0, 0.0, 0.0, 0.0, 0.0, 0.0, 0.0, 0.0, 0.0, 0.0, 0.0, 0.0, 0.0, 0.0, 0.0, 0.0, 0.0, 0.0, 0.0, 0.0]</td>\n",
       "      <td>[0.0, 0.0, 0.0, 0.0, 0.0, 0.0, 0.0, 0.0, 0.0, 0.0, 0.0, 0.0, 0.0, 0.0, 0.0, 0.0, 0.0, 0.0, 0.0, 0.0, 0.0]</td>\n",
       "      <td>[0.0, 0.0, 0.0, 0.0, 0.0, 0.0, 0.0, 0.0, 0.0, 0.0, 0.0, 0.0, 0.0, 0.0, 0.0, 0.0, 0.0, 0.0, 0.0, 0.0, 0.0]</td>\n",
       "    </tr>\n",
       "    <tr>\n",
       "      <td>6</td>\n",
       "      <td>0.104300</td>\n",
       "      <td>0.092115</td>\n",
       "      <td>0.000000</td>\n",
       "      <td>0.000000</td>\n",
       "      <td>[0.0, 0.0, 0.0, 0.0, 0.0, 0.0, 0.0, 0.0, 0.0, 0.0, 0.0, 0.0, 0.0, 0.0, 0.0, 0.0, 0.0, 0.0, 0.0, 0.0, 0.0]</td>\n",
       "      <td>[0.0, 0.0, 0.0, 0.0, 0.0, 0.0, 0.0, 0.0, 0.0, 0.0, 0.0, 0.0, 0.0, 0.0, 0.0, 0.0, 0.0, 0.0, 0.0, 0.0, 0.0]</td>\n",
       "      <td>[0.0, 0.0, 0.0, 0.0, 0.0, 0.0, 0.0, 0.0, 0.0, 0.0, 0.0, 0.0, 0.0, 0.0, 0.0, 0.0, 0.0, 0.0, 0.0, 0.0, 0.0]</td>\n",
       "    </tr>\n",
       "    <tr>\n",
       "      <td>7</td>\n",
       "      <td>0.098500</td>\n",
       "      <td>0.088190</td>\n",
       "      <td>0.000000</td>\n",
       "      <td>0.000000</td>\n",
       "      <td>[0.0, 0.0, 0.0, 0.0, 0.0, 0.0, 0.0, 0.0, 0.0, 0.0, 0.0, 0.0, 0.0, 0.0, 0.0, 0.0, 0.0, 0.0, 0.0, 0.0, 0.0]</td>\n",
       "      <td>[0.0, 0.0, 0.0, 0.0, 0.0, 0.0, 0.0, 0.0, 0.0, 0.0, 0.0, 0.0, 0.0, 0.0, 0.0, 0.0, 0.0, 0.0, 0.0, 0.0, 0.0]</td>\n",
       "      <td>[0.0, 0.0, 0.0, 0.0, 0.0, 0.0, 0.0, 0.0, 0.0, 0.0, 0.0, 0.0, 0.0, 0.0, 0.0, 0.0, 0.0, 0.0, 0.0, 0.0, 0.0]</td>\n",
       "    </tr>\n",
       "    <tr>\n",
       "      <td>8</td>\n",
       "      <td>0.092300</td>\n",
       "      <td>0.085668</td>\n",
       "      <td>0.000000</td>\n",
       "      <td>0.000000</td>\n",
       "      <td>[0.0, 0.0, 0.0, 0.0, 0.0, 0.0, 0.0, 0.0, 0.0, 0.0, 0.0, 0.0, 0.0, 0.0, 0.0, 0.0, 0.0, 0.0, 0.0, 0.0, 0.0]</td>\n",
       "      <td>[0.0, 0.0, 0.0, 0.0, 0.0, 0.0, 0.0, 0.0, 0.0, 0.0, 0.0, 0.0, 0.0, 0.0, 0.0, 0.0, 0.0, 0.0, 0.0, 0.0, 0.0]</td>\n",
       "      <td>[0.0, 0.0, 0.0, 0.0, 0.0, 0.0, 0.0, 0.0, 0.0, 0.0, 0.0, 0.0, 0.0, 0.0, 0.0, 0.0, 0.0, 0.0, 0.0, 0.0, 0.0]</td>\n",
       "    </tr>\n",
       "    <tr>\n",
       "      <td>9</td>\n",
       "      <td>0.085500</td>\n",
       "      <td>0.081045</td>\n",
       "      <td>0.012987</td>\n",
       "      <td>0.014652</td>\n",
       "      <td>[0.0, 0.0, 0.0, 0.0, 0.0, 0.0, 0.0, 0.0, 0.0, 0.0, 0.0, 0.0, 0.308, 0.0, 0.0, 0.0, 0.0, 0.0, 0.0, 0.0, 0.0]</td>\n",
       "      <td>[0.0, 0.0, 0.0, 0.0, 0.0, 0.0, 0.0, 0.0, 0.0, 0.0, 0.0, 0.0, 0.182, 0.0, 0.0, 0.0, 0.0, 0.0, 0.0, 0.0, 0.0]</td>\n",
       "      <td>[0.0, 0.0, 0.0, 0.0, 0.0, 0.0, 0.0, 0.0, 0.0, 0.0, 0.0, 0.0, 1.0, 0.0, 0.0, 0.0, 0.0, 0.0, 0.0, 0.0, 0.0]</td>\n",
       "    </tr>\n",
       "    <tr>\n",
       "      <td>10</td>\n",
       "      <td>0.074500</td>\n",
       "      <td>0.076223</td>\n",
       "      <td>0.032468</td>\n",
       "      <td>0.046032</td>\n",
       "      <td>[0.0, 0.0, 0.0, 0.0, 0.0, 0.0, 0.6, 0.0, 0.0, 0.0, 0.0, 0.0, 0.167, 0.0, 0.0, 0.2, 0.0, 0.0, 0.0, 0.0, 0.0]</td>\n",
       "      <td>[0.0, 0.0, 0.0, 0.0, 0.0, 0.0, 0.429, 0.0, 0.0, 0.0, 0.0, 0.0, 0.091, 0.0, 0.0, 0.111, 0.0, 0.0, 0.0, 0.0, 0.0]</td>\n",
       "      <td>[0.0, 0.0, 0.0, 0.0, 0.0, 0.0, 1.0, 0.0, 0.0, 0.0, 0.0, 0.0, 1.0, 0.0, 0.0, 1.0, 0.0, 0.0, 0.0, 0.0, 0.0]</td>\n",
       "    </tr>\n",
       "    <tr>\n",
       "      <td>11</td>\n",
       "      <td>0.067100</td>\n",
       "      <td>0.076074</td>\n",
       "      <td>0.032468</td>\n",
       "      <td>0.047547</td>\n",
       "      <td>[0.0, 0.0, 0.0, 0.0, 0.0, 0.167, 0.25, 0.0, 0.0, 0.0, 0.0, 0.182, 0.0, 0.0, 0.0, 0.0, 0.0, 0.4, 0.0, 0.0, 0.0]</td>\n",
       "      <td>[0.0, 0.0, 0.0, 0.0, 0.0, 0.125, 0.143, 0.0, 0.0, 0.0, 0.0, 0.1, 0.0, 0.0, 0.0, 0.0, 0.0, 0.286, 0.0, 0.0, 0.0]</td>\n",
       "      <td>[0.0, 0.0, 0.0, 0.0, 0.0, 0.25, 1.0, 0.0, 0.0, 0.0, 0.0, 1.0, 0.0, 0.0, 0.0, 0.0, 0.0, 0.667, 0.0, 0.0, 0.0]</td>\n",
       "    </tr>\n",
       "    <tr>\n",
       "      <td>12</td>\n",
       "      <td>0.058900</td>\n",
       "      <td>0.075421</td>\n",
       "      <td>0.155844</td>\n",
       "      <td>0.216956</td>\n",
       "      <td>[0.0, 0.0, 0.0, 0.5, 0.0, 0.0, 0.857, 0.0, 0.286, 0.0, 0.0, 0.625, 0.762, 0.222, 0.526, 0.333, 0.0, 0.444, 0.0, 0.0, 0.0]</td>\n",
       "      <td>[0.0, 0.0, 0.0, 0.333, 0.0, 0.0, 0.857, 0.0, 0.167, 0.0, 0.0, 0.5, 0.727, 0.125, 0.5, 0.333, 0.0, 0.286, 0.0, 0.0, 0.0]</td>\n",
       "      <td>[0.0, 0.0, 0.0, 1.0, 0.0, 0.0, 0.857, 0.0, 1.0, 0.0, 0.0, 0.833, 0.8, 1.0, 0.556, 0.333, 0.0, 1.0, 0.0, 0.0, 0.0]</td>\n",
       "    </tr>\n",
       "    <tr>\n",
       "      <td>13</td>\n",
       "      <td>0.050300</td>\n",
       "      <td>0.070127</td>\n",
       "      <td>0.181818</td>\n",
       "      <td>0.188824</td>\n",
       "      <td>[0.0, 0.0, 0.0, 0.5, 0.0, 0.0, 0.444, 0.0, 0.0, 0.0, 0.0, 0.308, 0.706, 0.4, 0.429, 0.462, 0.0, 0.444, 0.0, 0.0, 0.273]</td>\n",
       "      <td>[0.0, 0.0, 0.0, 0.333, 0.0, 0.0, 0.286, 0.0, 0.0, 0.0, 0.0, 0.2, 0.545, 0.25, 0.3, 0.333, 0.0, 0.286, 0.0, 0.0, 0.16]</td>\n",
       "      <td>[0.0, 0.0, 0.0, 1.0, 0.0, 0.0, 1.0, 0.0, 0.0, 0.0, 0.0, 0.667, 1.0, 1.0, 0.75, 0.75, 0.0, 1.0, 0.0, 0.0, 0.923]</td>\n",
       "    </tr>\n",
       "    <tr>\n",
       "      <td>14</td>\n",
       "      <td>0.045300</td>\n",
       "      <td>0.069329</td>\n",
       "      <td>0.376623</td>\n",
       "      <td>0.247547</td>\n",
       "      <td>[0.0, 0.0, 0.0, 0.25, 0.0, 0.167, 0.769, 0.0, 0.25, 0.0, 0.0, 0.706, 0.696, 0.222, 0.533, 0.333, 0.0, 0.667, 0.0, 0.0, 0.606]</td>\n",
       "      <td>[0.0, 0.0, 0.0, 0.167, 0.0, 0.125, 0.714, 0.0, 0.167, 0.0, 0.0, 0.6, 0.727, 0.125, 0.4, 0.222, 0.0, 0.571, 0.0, 0.0, 0.44]</td>\n",
       "      <td>[0.0, 0.0, 0.0, 0.5, 0.0, 0.25, 0.833, 0.0, 0.5, 0.0, 0.0, 0.857, 0.667, 1.0, 0.8, 0.667, 0.0, 0.8, 0.0, 0.0, 0.971]</td>\n",
       "    </tr>\n",
       "    <tr>\n",
       "      <td>15</td>\n",
       "      <td>0.039200</td>\n",
       "      <td>0.067860</td>\n",
       "      <td>0.350649</td>\n",
       "      <td>0.253226</td>\n",
       "      <td>[0.0, 0.0, 0.0, 0.5, 0.0, 0.167, 0.75, 0.0, 0.25, 0.0, 0.0, 0.588, 0.7, 0.222, 0.588, 0.2, 0.4, 0.4, 0.0, 0.0, 0.552]</td>\n",
       "      <td>[0.0, 0.0, 0.0, 0.333, 0.0, 0.125, 0.857, 0.0, 0.167, 0.0, 0.0, 0.5, 0.636, 0.125, 0.5, 0.111, 0.333, 0.286, 0.0, 0.0, 0.387]</td>\n",
       "      <td>[0.0, 0.0, 0.0, 1.0, 0.0, 0.25, 0.667, 0.0, 0.5, 0.0, 0.0, 0.714, 0.778, 1.0, 0.714, 1.0, 0.5, 0.667, 0.0, 0.0, 0.967]</td>\n",
       "    </tr>\n",
       "    <tr>\n",
       "      <td>16</td>\n",
       "      <td>0.034500</td>\n",
       "      <td>0.069101</td>\n",
       "      <td>0.357143</td>\n",
       "      <td>0.257755</td>\n",
       "      <td>[0.0, 0.0, 0.0, 0.6, 0.0, 0.154, 0.706, 0.0, 0.2, 0.0, 0.0, 0.625, 0.762, 0.4, 0.533, 0.286, 0.0, 0.6, 0.0, 0.0, 0.547]</td>\n",
       "      <td>[0.0, 0.0, 0.0, 0.5, 0.0, 0.125, 0.857, 0.0, 0.167, 0.0, 0.0, 0.5, 0.727, 0.25, 0.4, 0.222, 0.0, 0.429, 0.0, 0.0, 0.387]</td>\n",
       "      <td>[0.0, 0.0, 0.0, 0.75, 0.0, 0.2, 0.6, 0.0, 0.25, 0.0, 0.0, 0.833, 0.8, 1.0, 0.8, 0.4, 0.0, 1.0, 0.0, 0.0, 0.935]</td>\n",
       "    </tr>\n",
       "    <tr>\n",
       "      <td>17</td>\n",
       "      <td>0.029900</td>\n",
       "      <td>0.069682</td>\n",
       "      <td>0.422078</td>\n",
       "      <td>0.261799</td>\n",
       "      <td>[0.0, 0.0, 0.0, 0.429, 0.0, 0.182, 0.923, 0.0, 0.444, 0.0, 0.0, 0.625, 0.762, 0.222, 0.333, 0.333, 0.0, 0.6, 0.0, 0.0, 0.644]</td>\n",
       "      <td>[0.0, 0.0, 0.0, 0.5, 0.0, 0.125, 0.857, 0.0, 0.333, 0.0, 0.0, 0.5, 0.727, 0.125, 0.3, 0.222, 0.0, 0.429, 0.0, 0.0, 0.507]</td>\n",
       "      <td>[0.0, 0.0, 0.0, 0.375, 0.0, 0.333, 1.0, 0.0, 0.667, 0.0, 0.0, 0.833, 0.8, 1.0, 0.375, 0.667, 0.0, 1.0, 0.0, 0.0, 0.884]</td>\n",
       "    </tr>\n",
       "    <tr>\n",
       "      <td>18</td>\n",
       "      <td>0.027300</td>\n",
       "      <td>0.069995</td>\n",
       "      <td>0.363636</td>\n",
       "      <td>0.277532</td>\n",
       "      <td>[0.0, 0.0, 0.0, 0.4, 0.0, 0.182, 0.8, 0.0, 0.4, 0.0, 0.0, 0.778, 0.833, 0.222, 0.5, 0.182, 0.333, 0.727, 0.0, 0.0, 0.471]</td>\n",
       "      <td>[0.0, 0.0, 0.0, 0.5, 0.0, 0.125, 0.857, 0.0, 0.5, 0.0, 0.0, 0.7, 0.909, 0.125, 0.4, 0.111, 0.333, 0.571, 0.0, 0.0, 0.32]</td>\n",
       "      <td>[0.0, 0.0, 0.0, 0.333, 0.0, 0.333, 0.75, 0.0, 0.333, 0.0, 0.0, 0.875, 0.769, 1.0, 0.667, 0.5, 0.333, 1.0, 0.0, 0.0, 0.889]</td>\n",
       "    </tr>\n",
       "  </tbody>\n",
       "</table><p>"
      ],
      "text/plain": [
       "<IPython.core.display.HTML object>"
      ]
     },
     "metadata": {},
     "output_type": "display_data"
    },
    {
     "data": {
      "application/vnd.jupyter.widget-view+json": {
       "model_id": "a04e9d6d0b1047868f4df128f1a0f59c",
       "version_major": 2,
       "version_minor": 0
      },
      "text/plain": [
       "Map:   0%|          | 0/204 [00:00<?, ? examples/s]"
      ]
     },
     "metadata": {},
     "output_type": "display_data"
    },
    {
     "data": {
      "text/html": [],
      "text/plain": [
       "<IPython.core.display.HTML object>"
      ]
     },
     "metadata": {},
     "output_type": "display_data"
    },
    {
     "name": "stdout",
     "output_type": "stream",
     "text": [
      "{'accuracy': 0.7295081967213115, 'macro_f1': 0.5103811532382961, 'class_f1': [0.0, 0.0, 0.0, 0.667, 0.0, 0.769, 0.4, 0.0, 0.4, 0.8, 0.75, 0.875, 0.9, 0.667, 0.667, 0.667, 1.0, 0.909, 0.0, 0.444, 0.804], 'class_recall': [0.0, 0.0, 0.0, 0.5, 0.0, 1.0, 0.75, 0.0, 0.333, 1.0, 1.0, 0.778, 1.0, 0.5, 0.571, 0.667, 1.0, 1.0, 0.0, 0.4, 0.75], 'class_precision': [0.0, 0.0, 0.0, 1.0, 0.0, 0.625, 0.273, 0.0, 0.5, 0.667, 0.6, 1.0, 0.818, 1.0, 0.8, 0.667, 1.0, 0.833, 0.0, 0.5, 0.865]}\n",
      "-----------------Fold: 2-----------------\n"
     ]
    },
    {
     "name": "stderr",
     "output_type": "stream",
     "text": [
      "Some weights of BertForSequenceClassification were not initialized from the model checkpoint at cl-tohoku/bert-base-japanese-v3 and are newly initialized: ['classifier.bias', 'classifier.weight']\n",
      "You should probably TRAIN this model on a down-stream task to be able to use it for predictions and inference.\n"
     ]
    },
    {
     "data": {
      "application/vnd.jupyter.widget-view+json": {
       "model_id": "6cebac4ba77844dcb5881ed6a622f191",
       "version_major": 2,
       "version_minor": 0
      },
      "text/plain": [
       "Map:   0%|          | 0/1159 [00:00<?, ? examples/s]"
      ]
     },
     "metadata": {},
     "output_type": "display_data"
    },
    {
     "data": {
      "application/vnd.jupyter.widget-view+json": {
       "model_id": "a7a83b9731c74425871a4927f6631dac",
       "version_major": 2,
       "version_minor": 0
      },
      "text/plain": [
       "Map:   0%|          | 0/160 [00:00<?, ? examples/s]"
      ]
     },
     "metadata": {},
     "output_type": "display_data"
    },
    {
     "name": "stderr",
     "output_type": "stream",
     "text": [
      "wandb: WARNING Source type is set to 'repo' but some required information is missing from the environment. A job will not be created from this run. See https://docs.wandb.ai/guides/launch/create-job\n"
     ]
    },
    {
     "data": {
      "application/vnd.jupyter.widget-view+json": {
       "model_id": "fa40947c8d9c4fdd9fa2d56f1512e96d",
       "version_major": 2,
       "version_minor": 0
      },
      "text/plain": [
       "VBox(children=(Label(value='Waiting for wandb.init()...\\r'), FloatProgress(value=0.011112080457516842, max=1.0…"
      ]
     },
     "metadata": {},
     "output_type": "display_data"
    },
    {
     "data": {
      "text/html": [
       "\n",
       "    <div>\n",
       "      \n",
       "      <progress value='1460' max='7300' style='width:300px; height:20px; vertical-align: middle;'></progress>\n",
       "      [1460/7300 03:56 < 15:46, 6.17 it/s, Epoch 20/100]\n",
       "    </div>\n",
       "    <table border=\"1\" class=\"dataframe\">\n",
       "  <thead>\n",
       " <tr style=\"text-align: left;\">\n",
       "      <th>Epoch</th>\n",
       "      <th>Training Loss</th>\n",
       "      <th>Validation Loss</th>\n",
       "      <th>Accuracy</th>\n",
       "      <th>Macro F1</th>\n",
       "      <th>Class F1</th>\n",
       "      <th>Class Recall</th>\n",
       "      <th>Class Precision</th>\n",
       "    </tr>\n",
       "  </thead>\n",
       "  <tbody>\n",
       "    <tr>\n",
       "      <td>1</td>\n",
       "      <td>0.590900</td>\n",
       "      <td>0.389264</td>\n",
       "      <td>0.000000</td>\n",
       "      <td>0.000000</td>\n",
       "      <td>[0.0, 0.0, 0.0, 0.0, 0.0, 0.0, 0.0, 0.0, 0.0, 0.0, 0.0, 0.0, 0.0, 0.0, 0.0, 0.0, 0.0, 0.0, 0.0, 0.0, 0.0]</td>\n",
       "      <td>[0.0, 0.0, 0.0, 0.0, 0.0, 0.0, 0.0, 0.0, 0.0, 0.0, 0.0, 0.0, 0.0, 0.0, 0.0, 0.0, 0.0, 0.0, 0.0, 0.0, 0.0]</td>\n",
       "      <td>[0.0, 0.0, 0.0, 0.0, 0.0, 0.0, 0.0, 0.0, 0.0, 0.0, 0.0, 0.0, 0.0, 0.0, 0.0, 0.0, 0.0, 0.0, 0.0, 0.0, 0.0]</td>\n",
       "    </tr>\n",
       "    <tr>\n",
       "      <td>2</td>\n",
       "      <td>0.258000</td>\n",
       "      <td>0.165002</td>\n",
       "      <td>0.000000</td>\n",
       "      <td>0.000000</td>\n",
       "      <td>[0.0, 0.0, 0.0, 0.0, 0.0, 0.0, 0.0, 0.0, 0.0, 0.0, 0.0, 0.0, 0.0, 0.0, 0.0, 0.0, 0.0, 0.0, 0.0, 0.0, 0.0]</td>\n",
       "      <td>[0.0, 0.0, 0.0, 0.0, 0.0, 0.0, 0.0, 0.0, 0.0, 0.0, 0.0, 0.0, 0.0, 0.0, 0.0, 0.0, 0.0, 0.0, 0.0, 0.0, 0.0]</td>\n",
       "      <td>[0.0, 0.0, 0.0, 0.0, 0.0, 0.0, 0.0, 0.0, 0.0, 0.0, 0.0, 0.0, 0.0, 0.0, 0.0, 0.0, 0.0, 0.0, 0.0, 0.0, 0.0]</td>\n",
       "    </tr>\n",
       "    <tr>\n",
       "      <td>3</td>\n",
       "      <td>0.146800</td>\n",
       "      <td>0.115571</td>\n",
       "      <td>0.000000</td>\n",
       "      <td>0.000000</td>\n",
       "      <td>[0.0, 0.0, 0.0, 0.0, 0.0, 0.0, 0.0, 0.0, 0.0, 0.0, 0.0, 0.0, 0.0, 0.0, 0.0, 0.0, 0.0, 0.0, 0.0, 0.0, 0.0]</td>\n",
       "      <td>[0.0, 0.0, 0.0, 0.0, 0.0, 0.0, 0.0, 0.0, 0.0, 0.0, 0.0, 0.0, 0.0, 0.0, 0.0, 0.0, 0.0, 0.0, 0.0, 0.0, 0.0]</td>\n",
       "      <td>[0.0, 0.0, 0.0, 0.0, 0.0, 0.0, 0.0, 0.0, 0.0, 0.0, 0.0, 0.0, 0.0, 0.0, 0.0, 0.0, 0.0, 0.0, 0.0, 0.0, 0.0]</td>\n",
       "    </tr>\n",
       "    <tr>\n",
       "      <td>4</td>\n",
       "      <td>0.115700</td>\n",
       "      <td>0.101378</td>\n",
       "      <td>0.000000</td>\n",
       "      <td>0.000000</td>\n",
       "      <td>[0.0, 0.0, 0.0, 0.0, 0.0, 0.0, 0.0, 0.0, 0.0, 0.0, 0.0, 0.0, 0.0, 0.0, 0.0, 0.0, 0.0, 0.0, 0.0, 0.0, 0.0]</td>\n",
       "      <td>[0.0, 0.0, 0.0, 0.0, 0.0, 0.0, 0.0, 0.0, 0.0, 0.0, 0.0, 0.0, 0.0, 0.0, 0.0, 0.0, 0.0, 0.0, 0.0, 0.0, 0.0]</td>\n",
       "      <td>[0.0, 0.0, 0.0, 0.0, 0.0, 0.0, 0.0, 0.0, 0.0, 0.0, 0.0, 0.0, 0.0, 0.0, 0.0, 0.0, 0.0, 0.0, 0.0, 0.0, 0.0]</td>\n",
       "    </tr>\n",
       "    <tr>\n",
       "      <td>5</td>\n",
       "      <td>0.107800</td>\n",
       "      <td>0.096935</td>\n",
       "      <td>0.000000</td>\n",
       "      <td>0.000000</td>\n",
       "      <td>[0.0, 0.0, 0.0, 0.0, 0.0, 0.0, 0.0, 0.0, 0.0, 0.0, 0.0, 0.0, 0.0, 0.0, 0.0, 0.0, 0.0, 0.0, 0.0, 0.0, 0.0]</td>\n",
       "      <td>[0.0, 0.0, 0.0, 0.0, 0.0, 0.0, 0.0, 0.0, 0.0, 0.0, 0.0, 0.0, 0.0, 0.0, 0.0, 0.0, 0.0, 0.0, 0.0, 0.0, 0.0]</td>\n",
       "      <td>[0.0, 0.0, 0.0, 0.0, 0.0, 0.0, 0.0, 0.0, 0.0, 0.0, 0.0, 0.0, 0.0, 0.0, 0.0, 0.0, 0.0, 0.0, 0.0, 0.0, 0.0]</td>\n",
       "    </tr>\n",
       "    <tr>\n",
       "      <td>6</td>\n",
       "      <td>0.103300</td>\n",
       "      <td>0.094511</td>\n",
       "      <td>0.000000</td>\n",
       "      <td>0.000000</td>\n",
       "      <td>[0.0, 0.0, 0.0, 0.0, 0.0, 0.0, 0.0, 0.0, 0.0, 0.0, 0.0, 0.0, 0.0, 0.0, 0.0, 0.0, 0.0, 0.0, 0.0, 0.0, 0.0]</td>\n",
       "      <td>[0.0, 0.0, 0.0, 0.0, 0.0, 0.0, 0.0, 0.0, 0.0, 0.0, 0.0, 0.0, 0.0, 0.0, 0.0, 0.0, 0.0, 0.0, 0.0, 0.0, 0.0]</td>\n",
       "      <td>[0.0, 0.0, 0.0, 0.0, 0.0, 0.0, 0.0, 0.0, 0.0, 0.0, 0.0, 0.0, 0.0, 0.0, 0.0, 0.0, 0.0, 0.0, 0.0, 0.0, 0.0]</td>\n",
       "    </tr>\n",
       "    <tr>\n",
       "      <td>7</td>\n",
       "      <td>0.100000</td>\n",
       "      <td>0.090777</td>\n",
       "      <td>0.000000</td>\n",
       "      <td>0.000000</td>\n",
       "      <td>[0.0, 0.0, 0.0, 0.0, 0.0, 0.0, 0.0, 0.0, 0.0, 0.0, 0.0, 0.0, 0.0, 0.0, 0.0, 0.0, 0.0, 0.0, 0.0, 0.0, 0.0]</td>\n",
       "      <td>[0.0, 0.0, 0.0, 0.0, 0.0, 0.0, 0.0, 0.0, 0.0, 0.0, 0.0, 0.0, 0.0, 0.0, 0.0, 0.0, 0.0, 0.0, 0.0, 0.0, 0.0]</td>\n",
       "      <td>[0.0, 0.0, 0.0, 0.0, 0.0, 0.0, 0.0, 0.0, 0.0, 0.0, 0.0, 0.0, 0.0, 0.0, 0.0, 0.0, 0.0, 0.0, 0.0, 0.0, 0.0]</td>\n",
       "    </tr>\n",
       "    <tr>\n",
       "      <td>8</td>\n",
       "      <td>0.092200</td>\n",
       "      <td>0.086007</td>\n",
       "      <td>0.000000</td>\n",
       "      <td>0.000000</td>\n",
       "      <td>[0.0, 0.0, 0.0, 0.0, 0.0, 0.0, 0.0, 0.0, 0.0, 0.0, 0.0, 0.0, 0.0, 0.0, 0.0, 0.0, 0.0, 0.0, 0.0, 0.0, 0.0]</td>\n",
       "      <td>[0.0, 0.0, 0.0, 0.0, 0.0, 0.0, 0.0, 0.0, 0.0, 0.0, 0.0, 0.0, 0.0, 0.0, 0.0, 0.0, 0.0, 0.0, 0.0, 0.0, 0.0]</td>\n",
       "      <td>[0.0, 0.0, 0.0, 0.0, 0.0, 0.0, 0.0, 0.0, 0.0, 0.0, 0.0, 0.0, 0.0, 0.0, 0.0, 0.0, 0.0, 0.0, 0.0, 0.0, 0.0]</td>\n",
       "    </tr>\n",
       "    <tr>\n",
       "      <td>9</td>\n",
       "      <td>0.082900</td>\n",
       "      <td>0.079472</td>\n",
       "      <td>0.025000</td>\n",
       "      <td>0.032468</td>\n",
       "      <td>[0.0, 0.0, 0.0, 0.0, 0.0, 0.0, 0.0, 0.0, 0.0, 0.0, 0.0, 0.5, 0.182, 0.0, 0.0, 0.0, 0.0, 0.0, 0.0, 0.0, 0.0]</td>\n",
       "      <td>[0.0, 0.0, 0.0, 0.0, 0.0, 0.0, 0.0, 0.0, 0.0, 0.0, 0.0, 0.333, 0.1, 0.0, 0.0, 0.0, 0.0, 0.0, 0.0, 0.0, 0.0]</td>\n",
       "      <td>[0.0, 0.0, 0.0, 0.0, 0.0, 0.0, 0.0, 0.0, 0.0, 0.0, 0.0, 1.0, 1.0, 0.0, 0.0, 0.0, 0.0, 0.0, 0.0, 0.0, 0.0]</td>\n",
       "    </tr>\n",
       "    <tr>\n",
       "      <td>10</td>\n",
       "      <td>0.074000</td>\n",
       "      <td>0.074618</td>\n",
       "      <td>0.062500</td>\n",
       "      <td>0.092494</td>\n",
       "      <td>[0.0, 0.0, 0.0, 0.571, 0.0, 0.222, 0.0, 0.0, 0.0, 0.0, 0.0, 0.615, 0.533, 0.0, 0.0, 0.0, 0.0, 0.0, 0.0, 0.0, 0.0]</td>\n",
       "      <td>[0.0, 0.0, 0.0, 0.4, 0.0, 0.125, 0.0, 0.0, 0.0, 0.0, 0.0, 0.444, 0.4, 0.0, 0.0, 0.0, 0.0, 0.0, 0.0, 0.0, 0.0]</td>\n",
       "      <td>[0.0, 0.0, 0.0, 1.0, 0.0, 1.0, 0.0, 0.0, 0.0, 0.0, 0.0, 1.0, 0.8, 0.0, 0.0, 0.0, 0.0, 0.0, 0.0, 0.0, 0.0]</td>\n",
       "    </tr>\n",
       "    <tr>\n",
       "      <td>11</td>\n",
       "      <td>0.065500</td>\n",
       "      <td>0.071886</td>\n",
       "      <td>0.100000</td>\n",
       "      <td>0.147848</td>\n",
       "      <td>[0.0, 0.0, 0.0, 0.571, 0.0, 0.545, 0.0, 0.0, 0.0, 0.0, 0.0, 0.615, 0.706, 0.0, 0.0, 0.0, 0.0, 0.667, 0.0, 0.0, 0.0]</td>\n",
       "      <td>[0.0, 0.0, 0.0, 0.4, 0.0, 0.375, 0.0, 0.0, 0.0, 0.0, 0.0, 0.444, 0.6, 0.0, 0.0, 0.0, 0.0, 0.5, 0.0, 0.0, 0.0]</td>\n",
       "      <td>[0.0, 0.0, 0.0, 1.0, 0.0, 1.0, 0.0, 0.0, 0.0, 0.0, 0.0, 1.0, 0.857, 0.0, 0.0, 0.0, 0.0, 1.0, 0.0, 0.0, 0.0]</td>\n",
       "    </tr>\n",
       "    <tr>\n",
       "      <td>12</td>\n",
       "      <td>0.055500</td>\n",
       "      <td>0.075418</td>\n",
       "      <td>0.218750</td>\n",
       "      <td>0.299299</td>\n",
       "      <td>[0.0, 0.0, 0.0, 0.75, 0.0, 0.462, 0.4, 0.0, 0.286, 0.0, 0.667, 0.714, 0.909, 0.545, 0.588, 0.25, 0.0, 0.714, 0.0, 0.0, 0.0]</td>\n",
       "      <td>[0.0, 0.0, 0.0, 0.6, 0.0, 0.375, 0.333, 0.0, 0.167, 0.0, 0.667, 0.556, 1.0, 0.429, 0.5, 0.25, 0.0, 0.833, 0.0, 0.0, 0.0]</td>\n",
       "      <td>[0.0, 0.0, 0.0, 1.0, 0.0, 0.6, 0.5, 0.0, 1.0, 0.0, 0.667, 1.0, 0.833, 0.75, 0.714, 0.25, 0.0, 0.625, 0.0, 0.0, 0.0]</td>\n",
       "    </tr>\n",
       "    <tr>\n",
       "      <td>13</td>\n",
       "      <td>0.047000</td>\n",
       "      <td>0.069208</td>\n",
       "      <td>0.268750</td>\n",
       "      <td>0.269172</td>\n",
       "      <td>[0.0, 0.0, 0.0, 0.667, 0.0, 0.4, 0.286, 0.0, 0.0, 0.0, 0.667, 0.714, 0.818, 0.5, 0.571, 0.2, 0.0, 0.5, 0.0, 0.0, 0.33]</td>\n",
       "      <td>[0.0, 0.0, 0.0, 0.6, 0.0, 0.25, 0.167, 0.0, 0.0, 0.0, 0.667, 0.556, 0.9, 0.429, 0.4, 0.125, 0.0, 0.333, 0.0, 0.0, 0.2]</td>\n",
       "      <td>[0.0, 0.0, 0.0, 0.75, 0.0, 1.0, 1.0, 0.0, 0.0, 0.0, 0.667, 1.0, 0.75, 0.6, 1.0, 0.5, 0.0, 1.0, 0.0, 0.0, 0.938]</td>\n",
       "    </tr>\n",
       "    <tr>\n",
       "      <td>14</td>\n",
       "      <td>0.041400</td>\n",
       "      <td>0.070510</td>\n",
       "      <td>0.337500</td>\n",
       "      <td>0.324931</td>\n",
       "      <td>[0.0, 0.0, 0.0, 0.667, 0.0, 0.5, 0.6, 0.0, 0.286, 0.0, 0.667, 0.667, 0.9, 0.462, 0.471, 0.286, 0.4, 0.5, 0.0, 0.0, 0.42]</td>\n",
       "      <td>[0.0, 0.0, 0.0, 0.6, 0.0, 0.375, 0.5, 0.0, 0.167, 0.0, 0.667, 0.667, 0.9, 0.429, 0.4, 0.25, 0.25, 0.5, 0.0, 0.0, 0.28]</td>\n",
       "      <td>[0.0, 0.0, 0.0, 0.75, 0.0, 0.75, 0.75, 0.0, 1.0, 0.0, 0.667, 0.667, 0.9, 0.5, 0.571, 0.333, 1.0, 0.5, 0.0, 0.0, 0.84]</td>\n",
       "    </tr>\n",
       "    <tr>\n",
       "      <td>15</td>\n",
       "      <td>0.036100</td>\n",
       "      <td>0.067985</td>\n",
       "      <td>0.375000</td>\n",
       "      <td>0.317321</td>\n",
       "      <td>[0.0, 0.0, 0.0, 0.667, 0.0, 0.462, 0.25, 0.0, 0.286, 0.4, 0.5, 0.533, 0.818, 0.462, 0.571, 0.167, 0.4, 0.6, 0.0, 0.0, 0.549]</td>\n",
       "      <td>[0.0, 0.0, 0.0, 0.6, 0.0, 0.375, 0.167, 0.0, 0.167, 0.5, 0.333, 0.444, 0.9, 0.429, 0.4, 0.125, 0.25, 0.5, 0.0, 0.0, 0.413]</td>\n",
       "      <td>[0.0, 0.0, 0.0, 0.75, 0.0, 0.6, 0.5, 0.0, 1.0, 0.333, 1.0, 0.667, 0.75, 0.5, 1.0, 0.25, 1.0, 0.75, 0.0, 0.0, 0.816]</td>\n",
       "    </tr>\n",
       "    <tr>\n",
       "      <td>16</td>\n",
       "      <td>0.031900</td>\n",
       "      <td>0.068130</td>\n",
       "      <td>0.368750</td>\n",
       "      <td>0.305705</td>\n",
       "      <td>[0.0, 0.0, 0.0, 0.667, 0.0, 0.2, 0.286, 0.0, 0.286, 0.286, 0.667, 0.714, 0.857, 0.5, 0.533, 0.308, 0.0, 0.571, 0.0, 0.0, 0.545]</td>\n",
       "      <td>[0.0, 0.0, 0.0, 0.6, 0.0, 0.125, 0.167, 0.0, 0.167, 0.5, 0.667, 0.556, 0.9, 0.429, 0.4, 0.25, 0.0, 0.667, 0.0, 0.0, 0.4]</td>\n",
       "      <td>[0.0, 0.0, 0.0, 0.75, 0.0, 0.5, 1.0, 0.0, 1.0, 0.2, 0.667, 1.0, 0.818, 0.6, 0.8, 0.4, 0.0, 0.5, 0.0, 0.0, 0.857]</td>\n",
       "    </tr>\n",
       "    <tr>\n",
       "      <td>17</td>\n",
       "      <td>0.028500</td>\n",
       "      <td>0.066661</td>\n",
       "      <td>0.462500</td>\n",
       "      <td>0.336910</td>\n",
       "      <td>[0.0, 0.0, 0.0, 0.8, 0.0, 0.2, 0.545, 0.0, 0.286, 0.0, 0.8, 0.75, 0.857, 0.462, 0.533, 0.286, 0.333, 0.545, 0.0, 0.0, 0.677]</td>\n",
       "      <td>[0.0, 0.0, 0.0, 0.8, 0.0, 0.125, 0.5, 0.0, 0.167, 0.0, 0.667, 0.667, 0.9, 0.429, 0.4, 0.25, 0.25, 0.5, 0.0, 0.0, 0.56]</td>\n",
       "      <td>[0.0, 0.0, 0.0, 0.8, 0.0, 0.5, 0.6, 0.0, 1.0, 0.0, 1.0, 0.857, 0.818, 0.5, 0.8, 0.333, 0.5, 0.6, 0.0, 0.0, 0.857]</td>\n",
       "    </tr>\n",
       "    <tr>\n",
       "      <td>18</td>\n",
       "      <td>0.026300</td>\n",
       "      <td>0.069361</td>\n",
       "      <td>0.487500</td>\n",
       "      <td>0.356987</td>\n",
       "      <td>[0.0, 0.0, 0.0, 0.75, 0.0, 0.462, 0.545, 0.0, 0.25, 0.0, 0.8, 0.714, 0.8, 0.462, 0.533, 0.286, 0.4, 0.833, 0.0, 0.0, 0.662]</td>\n",
       "      <td>[0.0, 0.0, 0.0, 0.6, 0.0, 0.375, 0.5, 0.0, 0.167, 0.0, 0.667, 0.556, 1.0, 0.429, 0.4, 0.25, 0.25, 0.833, 0.0, 0.0, 0.573]</td>\n",
       "      <td>[0.0, 0.0, 0.0, 1.0, 0.0, 0.6, 0.6, 0.0, 0.5, 0.0, 1.0, 1.0, 0.667, 0.5, 0.8, 0.333, 1.0, 0.833, 0.0, 0.0, 0.782]</td>\n",
       "    </tr>\n",
       "    <tr>\n",
       "      <td>19</td>\n",
       "      <td>0.024200</td>\n",
       "      <td>0.069717</td>\n",
       "      <td>0.450000</td>\n",
       "      <td>0.338576</td>\n",
       "      <td>[0.0, 0.0, 0.0, 0.75, 0.0, 0.571, 0.545, 0.0, 0.25, 0.0, 0.667, 0.714, 0.75, 0.462, 0.533, 0.444, 0.0, 0.8, 0.0, 0.0, 0.623]</td>\n",
       "      <td>[0.0, 0.0, 0.0, 0.6, 0.0, 0.5, 0.5, 0.0, 0.167, 0.0, 0.667, 0.556, 0.9, 0.429, 0.4, 0.5, 0.0, 1.0, 0.0, 0.0, 0.507]</td>\n",
       "      <td>[0.0, 0.0, 0.0, 1.0, 0.0, 0.667, 0.6, 0.0, 0.5, 0.0, 0.667, 1.0, 0.643, 0.5, 0.8, 0.4, 0.0, 0.667, 0.0, 0.0, 0.809]</td>\n",
       "    </tr>\n",
       "    <tr>\n",
       "      <td>20</td>\n",
       "      <td>0.021600</td>\n",
       "      <td>0.070321</td>\n",
       "      <td>0.500000</td>\n",
       "      <td>0.381523</td>\n",
       "      <td>[0.0, 0.0, 0.0, 0.8, 0.0, 0.571, 0.545, 0.0, 0.286, 0.0, 0.667, 0.706, 0.769, 0.571, 0.588, 0.286, 0.857, 0.714, 0.0, 0.0, 0.651]</td>\n",
       "      <td>[0.0, 0.0, 0.0, 0.8, 0.0, 0.5, 0.5, 0.0, 0.167, 0.0, 0.667, 0.667, 1.0, 0.571, 0.5, 0.25, 0.75, 0.833, 0.0, 0.0, 0.547]</td>\n",
       "      <td>[0.0, 0.0, 0.0, 0.8, 0.0, 0.667, 0.6, 0.0, 1.0, 0.0, 0.667, 0.75, 0.625, 0.571, 0.714, 0.333, 1.0, 0.625, 0.0, 0.0, 0.804]</td>\n",
       "    </tr>\n",
       "  </tbody>\n",
       "</table><p>"
      ],
      "text/plain": [
       "<IPython.core.display.HTML object>"
      ]
     },
     "metadata": {},
     "output_type": "display_data"
    },
    {
     "data": {
      "application/vnd.jupyter.widget-view+json": {
       "model_id": "f23c8502db34495893e41dcda2363904",
       "version_major": 2,
       "version_minor": 0
      },
      "text/plain": [
       "Map:   0%|          | 0/204 [00:00<?, ? examples/s]"
      ]
     },
     "metadata": {},
     "output_type": "display_data"
    },
    {
     "data": {
      "text/html": [],
      "text/plain": [
       "<IPython.core.display.HTML object>"
      ]
     },
     "metadata": {},
     "output_type": "display_data"
    },
    {
     "name": "stdout",
     "output_type": "stream",
     "text": [
      "{'accuracy': 0.7569444444444444, 'macro_f1': 0.4763398085340719, 'class_f1': [0.0, 0.0, 0.0, 0.5, 0.0, 0.923, 0.333, 0.0, 0.0, 0.667, 0.667, 0.75, 0.87, 0.8, 0.615, 0.842, 0.8, 0.824, 0.0, 0.571, 0.841], 'class_recall': [0.0, 0.0, 0.0, 0.4, 0.0, 1.0, 0.4, 0.0, 0.0, 1.0, 1.0, 0.667, 0.833, 0.667, 0.444, 0.889, 0.667, 1.0, 0.0, 0.5, 0.836], 'class_precision': [0.0, 0.0, 0.0, 0.667, 0.0, 0.857, 0.286, 0.0, 0.0, 0.5, 0.5, 0.857, 0.909, 1.0, 1.0, 0.8, 1.0, 0.7, 0.0, 0.667, 0.847]}\n",
      "-----------------Fold: 3-----------------\n"
     ]
    },
    {
     "name": "stderr",
     "output_type": "stream",
     "text": [
      "Some weights of BertForSequenceClassification were not initialized from the model checkpoint at cl-tohoku/bert-base-japanese-v3 and are newly initialized: ['classifier.bias', 'classifier.weight']\n",
      "You should probably TRAIN this model on a down-stream task to be able to use it for predictions and inference.\n"
     ]
    },
    {
     "data": {
      "application/vnd.jupyter.widget-view+json": {
       "model_id": "2c6037edc4ee4b418c5aadc80fe6e051",
       "version_major": 2,
       "version_minor": 0
      },
      "text/plain": [
       "Map:   0%|          | 0/1159 [00:00<?, ? examples/s]"
      ]
     },
     "metadata": {},
     "output_type": "display_data"
    },
    {
     "data": {
      "application/vnd.jupyter.widget-view+json": {
       "model_id": "0e83f0d245a348a49c53f819afa046c9",
       "version_major": 2,
       "version_minor": 0
      },
      "text/plain": [
       "Map:   0%|          | 0/160 [00:00<?, ? examples/s]"
      ]
     },
     "metadata": {},
     "output_type": "display_data"
    },
    {
     "name": "stderr",
     "output_type": "stream",
     "text": [
      "wandb: WARNING Source type is set to 'repo' but some required information is missing from the environment. A job will not be created from this run. See https://docs.wandb.ai/guides/launch/create-job\n"
     ]
    },
    {
     "data": {
      "application/vnd.jupyter.widget-view+json": {
       "model_id": "52fb4d1d68c2402d815be15dc5771151",
       "version_major": 2,
       "version_minor": 0
      },
      "text/plain": [
       "VBox(children=(Label(value='Waiting for wandb.init()...\\r'), FloatProgress(value=0.011112262055070864, max=1.0…"
      ]
     },
     "metadata": {},
     "output_type": "display_data"
    },
    {
     "data": {
      "text/html": [
       "\n",
       "    <div>\n",
       "      \n",
       "      <progress value='1825' max='7300' style='width:300px; height:20px; vertical-align: middle;'></progress>\n",
       "      [1825/7300 04:55 < 14:48, 6.16 it/s, Epoch 25/100]\n",
       "    </div>\n",
       "    <table border=\"1\" class=\"dataframe\">\n",
       "  <thead>\n",
       " <tr style=\"text-align: left;\">\n",
       "      <th>Epoch</th>\n",
       "      <th>Training Loss</th>\n",
       "      <th>Validation Loss</th>\n",
       "      <th>Accuracy</th>\n",
       "      <th>Macro F1</th>\n",
       "      <th>Class F1</th>\n",
       "      <th>Class Recall</th>\n",
       "      <th>Class Precision</th>\n",
       "    </tr>\n",
       "  </thead>\n",
       "  <tbody>\n",
       "    <tr>\n",
       "      <td>1</td>\n",
       "      <td>0.575400</td>\n",
       "      <td>0.339168</td>\n",
       "      <td>0.000000</td>\n",
       "      <td>0.000000</td>\n",
       "      <td>[0.0, 0.0, 0.0, 0.0, 0.0, 0.0, 0.0, 0.0, 0.0, 0.0, 0.0, 0.0, 0.0, 0.0, 0.0, 0.0, 0.0, 0.0, 0.0, 0.0, 0.0]</td>\n",
       "      <td>[0.0, 0.0, 0.0, 0.0, 0.0, 0.0, 0.0, 0.0, 0.0, 0.0, 0.0, 0.0, 0.0, 0.0, 0.0, 0.0, 0.0, 0.0, 0.0, 0.0, 0.0]</td>\n",
       "      <td>[0.0, 0.0, 0.0, 0.0, 0.0, 0.0, 0.0, 0.0, 0.0, 0.0, 0.0, 0.0, 0.0, 0.0, 0.0, 0.0, 0.0, 0.0, 0.0, 0.0, 0.0]</td>\n",
       "    </tr>\n",
       "    <tr>\n",
       "      <td>2</td>\n",
       "      <td>0.226500</td>\n",
       "      <td>0.144669</td>\n",
       "      <td>0.000000</td>\n",
       "      <td>0.000000</td>\n",
       "      <td>[0.0, 0.0, 0.0, 0.0, 0.0, 0.0, 0.0, 0.0, 0.0, 0.0, 0.0, 0.0, 0.0, 0.0, 0.0, 0.0, 0.0, 0.0, 0.0, 0.0, 0.0]</td>\n",
       "      <td>[0.0, 0.0, 0.0, 0.0, 0.0, 0.0, 0.0, 0.0, 0.0, 0.0, 0.0, 0.0, 0.0, 0.0, 0.0, 0.0, 0.0, 0.0, 0.0, 0.0, 0.0]</td>\n",
       "      <td>[0.0, 0.0, 0.0, 0.0, 0.0, 0.0, 0.0, 0.0, 0.0, 0.0, 0.0, 0.0, 0.0, 0.0, 0.0, 0.0, 0.0, 0.0, 0.0, 0.0, 0.0]</td>\n",
       "    </tr>\n",
       "    <tr>\n",
       "      <td>3</td>\n",
       "      <td>0.136500</td>\n",
       "      <td>0.104471</td>\n",
       "      <td>0.000000</td>\n",
       "      <td>0.000000</td>\n",
       "      <td>[0.0, 0.0, 0.0, 0.0, 0.0, 0.0, 0.0, 0.0, 0.0, 0.0, 0.0, 0.0, 0.0, 0.0, 0.0, 0.0, 0.0, 0.0, 0.0, 0.0, 0.0]</td>\n",
       "      <td>[0.0, 0.0, 0.0, 0.0, 0.0, 0.0, 0.0, 0.0, 0.0, 0.0, 0.0, 0.0, 0.0, 0.0, 0.0, 0.0, 0.0, 0.0, 0.0, 0.0, 0.0]</td>\n",
       "      <td>[0.0, 0.0, 0.0, 0.0, 0.0, 0.0, 0.0, 0.0, 0.0, 0.0, 0.0, 0.0, 0.0, 0.0, 0.0, 0.0, 0.0, 0.0, 0.0, 0.0, 0.0]</td>\n",
       "    </tr>\n",
       "    <tr>\n",
       "      <td>4</td>\n",
       "      <td>0.114600</td>\n",
       "      <td>0.093045</td>\n",
       "      <td>0.000000</td>\n",
       "      <td>0.000000</td>\n",
       "      <td>[0.0, 0.0, 0.0, 0.0, 0.0, 0.0, 0.0, 0.0, 0.0, 0.0, 0.0, 0.0, 0.0, 0.0, 0.0, 0.0, 0.0, 0.0, 0.0, 0.0, 0.0]</td>\n",
       "      <td>[0.0, 0.0, 0.0, 0.0, 0.0, 0.0, 0.0, 0.0, 0.0, 0.0, 0.0, 0.0, 0.0, 0.0, 0.0, 0.0, 0.0, 0.0, 0.0, 0.0, 0.0]</td>\n",
       "      <td>[0.0, 0.0, 0.0, 0.0, 0.0, 0.0, 0.0, 0.0, 0.0, 0.0, 0.0, 0.0, 0.0, 0.0, 0.0, 0.0, 0.0, 0.0, 0.0, 0.0, 0.0]</td>\n",
       "    </tr>\n",
       "    <tr>\n",
       "      <td>5</td>\n",
       "      <td>0.107200</td>\n",
       "      <td>0.088520</td>\n",
       "      <td>0.000000</td>\n",
       "      <td>0.000000</td>\n",
       "      <td>[0.0, 0.0, 0.0, 0.0, 0.0, 0.0, 0.0, 0.0, 0.0, 0.0, 0.0, 0.0, 0.0, 0.0, 0.0, 0.0, 0.0, 0.0, 0.0, 0.0, 0.0]</td>\n",
       "      <td>[0.0, 0.0, 0.0, 0.0, 0.0, 0.0, 0.0, 0.0, 0.0, 0.0, 0.0, 0.0, 0.0, 0.0, 0.0, 0.0, 0.0, 0.0, 0.0, 0.0, 0.0]</td>\n",
       "      <td>[0.0, 0.0, 0.0, 0.0, 0.0, 0.0, 0.0, 0.0, 0.0, 0.0, 0.0, 0.0, 0.0, 0.0, 0.0, 0.0, 0.0, 0.0, 0.0, 0.0, 0.0]</td>\n",
       "    </tr>\n",
       "    <tr>\n",
       "      <td>6</td>\n",
       "      <td>0.104400</td>\n",
       "      <td>0.085601</td>\n",
       "      <td>0.000000</td>\n",
       "      <td>0.000000</td>\n",
       "      <td>[0.0, 0.0, 0.0, 0.0, 0.0, 0.0, 0.0, 0.0, 0.0, 0.0, 0.0, 0.0, 0.0, 0.0, 0.0, 0.0, 0.0, 0.0, 0.0, 0.0, 0.0]</td>\n",
       "      <td>[0.0, 0.0, 0.0, 0.0, 0.0, 0.0, 0.0, 0.0, 0.0, 0.0, 0.0, 0.0, 0.0, 0.0, 0.0, 0.0, 0.0, 0.0, 0.0, 0.0, 0.0]</td>\n",
       "      <td>[0.0, 0.0, 0.0, 0.0, 0.0, 0.0, 0.0, 0.0, 0.0, 0.0, 0.0, 0.0, 0.0, 0.0, 0.0, 0.0, 0.0, 0.0, 0.0, 0.0, 0.0]</td>\n",
       "    </tr>\n",
       "    <tr>\n",
       "      <td>7</td>\n",
       "      <td>0.098900</td>\n",
       "      <td>0.082794</td>\n",
       "      <td>0.000000</td>\n",
       "      <td>0.000000</td>\n",
       "      <td>[0.0, 0.0, 0.0, 0.0, 0.0, 0.0, 0.0, 0.0, 0.0, 0.0, 0.0, 0.0, 0.0, 0.0, 0.0, 0.0, 0.0, 0.0, 0.0, 0.0, 0.0]</td>\n",
       "      <td>[0.0, 0.0, 0.0, 0.0, 0.0, 0.0, 0.0, 0.0, 0.0, 0.0, 0.0, 0.0, 0.0, 0.0, 0.0, 0.0, 0.0, 0.0, 0.0, 0.0, 0.0]</td>\n",
       "      <td>[0.0, 0.0, 0.0, 0.0, 0.0, 0.0, 0.0, 0.0, 0.0, 0.0, 0.0, 0.0, 0.0, 0.0, 0.0, 0.0, 0.0, 0.0, 0.0, 0.0, 0.0]</td>\n",
       "    </tr>\n",
       "    <tr>\n",
       "      <td>8</td>\n",
       "      <td>0.095600</td>\n",
       "      <td>0.078790</td>\n",
       "      <td>0.000000</td>\n",
       "      <td>0.000000</td>\n",
       "      <td>[0.0, 0.0, 0.0, 0.0, 0.0, 0.0, 0.0, 0.0, 0.0, 0.0, 0.0, 0.0, 0.0, 0.0, 0.0, 0.0, 0.0, 0.0, 0.0, 0.0, 0.0]</td>\n",
       "      <td>[0.0, 0.0, 0.0, 0.0, 0.0, 0.0, 0.0, 0.0, 0.0, 0.0, 0.0, 0.0, 0.0, 0.0, 0.0, 0.0, 0.0, 0.0, 0.0, 0.0, 0.0]</td>\n",
       "      <td>[0.0, 0.0, 0.0, 0.0, 0.0, 0.0, 0.0, 0.0, 0.0, 0.0, 0.0, 0.0, 0.0, 0.0, 0.0, 0.0, 0.0, 0.0, 0.0, 0.0, 0.0]</td>\n",
       "    </tr>\n",
       "    <tr>\n",
       "      <td>9</td>\n",
       "      <td>0.086600</td>\n",
       "      <td>0.075211</td>\n",
       "      <td>0.031250</td>\n",
       "      <td>0.048810</td>\n",
       "      <td>[0.0, 0.0, 0.0, 0.0, 0.0, 0.0, 0.0, 0.0, 0.0, 0.0, 0.0, 0.0, 0.625, 0.0, 0.0, 0.4, 0.0, 0.0, 0.0, 0.0, 0.0]</td>\n",
       "      <td>[0.0, 0.0, 0.0, 0.0, 0.0, 0.0, 0.0, 0.0, 0.0, 0.0, 0.0, 0.0, 0.5, 0.0, 0.0, 0.25, 0.0, 0.0, 0.0, 0.0, 0.0]</td>\n",
       "      <td>[0.0, 0.0, 0.0, 0.0, 0.0, 0.0, 0.0, 0.0, 0.0, 0.0, 0.0, 0.0, 0.833, 0.0, 0.0, 1.0, 0.0, 0.0, 0.0, 0.0, 0.0]</td>\n",
       "    </tr>\n",
       "    <tr>\n",
       "      <td>10</td>\n",
       "      <td>0.078300</td>\n",
       "      <td>0.073488</td>\n",
       "      <td>0.062500</td>\n",
       "      <td>0.072270</td>\n",
       "      <td>[0.0, 0.0, 0.0, 0.0, 0.0, 0.222, 0.545, 0.0, 0.0, 0.0, 0.0, 0.0, 0.75, 0.0, 0.0, 0.0, 0.0, 0.0, 0.0, 0.0, 0.0]</td>\n",
       "      <td>[0.0, 0.0, 0.0, 0.0, 0.0, 0.125, 0.5, 0.0, 0.0, 0.0, 0.0, 0.0, 0.6, 0.0, 0.0, 0.0, 0.0, 0.0, 0.0, 0.0, 0.0]</td>\n",
       "      <td>[0.0, 0.0, 0.0, 0.0, 0.0, 1.0, 0.6, 0.0, 0.0, 0.0, 0.0, 0.0, 1.0, 0.0, 0.0, 0.0, 0.0, 0.0, 0.0, 0.0, 0.0]</td>\n",
       "    </tr>\n",
       "    <tr>\n",
       "      <td>11</td>\n",
       "      <td>0.070900</td>\n",
       "      <td>0.071213</td>\n",
       "      <td>0.106250</td>\n",
       "      <td>0.127090</td>\n",
       "      <td>[0.0, 0.0, 0.0, 0.0, 0.0, 0.4, 0.5, 0.0, 0.0, 0.0, 0.0, 0.462, 0.762, 0.0, 0.182, 0.364, 0.0, 0.0, 0.0, 0.0, 0.0]</td>\n",
       "      <td>[0.0, 0.0, 0.0, 0.0, 0.0, 0.25, 0.5, 0.0, 0.0, 0.0, 0.0, 0.333, 0.8, 0.0, 0.1, 0.25, 0.0, 0.0, 0.0, 0.0, 0.0]</td>\n",
       "      <td>[0.0, 0.0, 0.0, 0.0, 0.0, 1.0, 0.5, 0.0, 0.0, 0.0, 0.0, 0.75, 0.727, 0.0, 1.0, 0.667, 0.0, 0.0, 0.0, 0.0, 0.0]</td>\n",
       "    </tr>\n",
       "    <tr>\n",
       "      <td>12</td>\n",
       "      <td>0.062200</td>\n",
       "      <td>0.066405</td>\n",
       "      <td>0.131250</td>\n",
       "      <td>0.175887</td>\n",
       "      <td>[0.0, 0.0, 0.0, 0.0, 0.0, 0.667, 0.545, 0.0, 0.0, 0.0, 0.0, 0.571, 0.824, 0.25, 0.462, 0.375, 0.0, 0.0, 0.0, 0.0, 0.0]</td>\n",
       "      <td>[0.0, 0.0, 0.0, 0.0, 0.0, 0.5, 0.5, 0.0, 0.0, 0.0, 0.0, 0.444, 0.7, 0.143, 0.3, 0.375, 0.0, 0.0, 0.0, 0.0, 0.0]</td>\n",
       "      <td>[0.0, 0.0, 0.0, 0.0, 0.0, 1.0, 0.6, 0.0, 0.0, 0.0, 0.0, 0.8, 1.0, 1.0, 1.0, 0.375, 0.0, 0.0, 0.0, 0.0, 0.0]</td>\n",
       "    </tr>\n",
       "    <tr>\n",
       "      <td>13</td>\n",
       "      <td>0.052800</td>\n",
       "      <td>0.064030</td>\n",
       "      <td>0.312500</td>\n",
       "      <td>0.266037</td>\n",
       "      <td>[0.0, 0.0, 0.0, 0.286, 0.0, 0.571, 0.615, 0.0, 0.0, 0.0, 0.5, 0.75, 0.842, 0.444, 0.462, 0.375, 0.0, 0.286, 0.0, 0.0, 0.455]</td>\n",
       "      <td>[0.0, 0.0, 0.0, 0.2, 0.0, 0.5, 0.667, 0.0, 0.0, 0.0, 0.333, 0.667, 0.8, 0.286, 0.3, 0.375, 0.0, 0.167, 0.0, 0.0, 0.307]</td>\n",
       "      <td>[0.0, 0.0, 0.0, 0.5, 0.0, 0.667, 0.571, 0.0, 0.0, 0.0, 1.0, 0.857, 0.889, 1.0, 1.0, 0.375, 0.0, 1.0, 0.0, 0.0, 0.885]</td>\n",
       "    </tr>\n",
       "    <tr>\n",
       "      <td>14</td>\n",
       "      <td>0.048500</td>\n",
       "      <td>0.064529</td>\n",
       "      <td>0.287500</td>\n",
       "      <td>0.239130</td>\n",
       "      <td>[0.0, 0.0, 0.0, 0.0, 0.0, 0.615, 0.571, 0.0, 0.0, 0.0, 0.5, 0.571, 0.8, 0.444, 0.462, 0.364, 0.0, 0.286, 0.0, 0.0, 0.408]</td>\n",
       "      <td>[0.0, 0.0, 0.0, 0.0, 0.0, 0.5, 0.667, 0.0, 0.0, 0.0, 0.333, 0.444, 0.8, 0.571, 0.3, 0.25, 0.0, 0.167, 0.0, 0.0, 0.267]</td>\n",
       "      <td>[0.0, 0.0, 0.0, 0.0, 0.0, 0.8, 0.5, 0.0, 0.0, 0.0, 1.0, 0.8, 0.8, 0.364, 1.0, 0.667, 0.0, 1.0, 0.0, 0.0, 0.87]</td>\n",
       "    </tr>\n",
       "    <tr>\n",
       "      <td>15</td>\n",
       "      <td>0.043000</td>\n",
       "      <td>0.066804</td>\n",
       "      <td>0.318750</td>\n",
       "      <td>0.274483</td>\n",
       "      <td>[0.0, 0.0, 0.0, 0.444, 0.0, 0.533, 0.5, 0.0, 0.0, 0.0, 0.667, 0.824, 0.8, 0.375, 0.462, 0.462, 0.0, 0.286, 0.0, 0.0, 0.412]</td>\n",
       "      <td>[0.0, 0.0, 0.0, 0.4, 0.0, 0.5, 0.5, 0.0, 0.0, 0.0, 0.667, 0.778, 0.8, 0.429, 0.3, 0.375, 0.0, 0.167, 0.0, 0.0, 0.267]</td>\n",
       "      <td>[0.0, 0.0, 0.0, 0.5, 0.0, 0.571, 0.5, 0.0, 0.0, 0.0, 0.667, 0.875, 0.8, 0.333, 1.0, 0.6, 0.0, 1.0, 0.0, 0.0, 0.909]</td>\n",
       "    </tr>\n",
       "    <tr>\n",
       "      <td>16</td>\n",
       "      <td>0.037100</td>\n",
       "      <td>0.061339</td>\n",
       "      <td>0.356250</td>\n",
       "      <td>0.320905</td>\n",
       "      <td>[0.0, 0.0, 0.0, 0.5, 0.0, 0.667, 0.5, 0.0, 0.0, 0.0, 1.0, 0.889, 0.762, 0.571, 0.462, 0.429, 0.0, 0.5, 0.0, 0.0, 0.46]</td>\n",
       "      <td>[0.0, 0.0, 0.0, 0.4, 0.0, 0.625, 0.5, 0.0, 0.0, 0.0, 1.0, 0.889, 0.8, 0.571, 0.3, 0.375, 0.0, 0.333, 0.0, 0.0, 0.307]</td>\n",
       "      <td>[0.0, 0.0, 0.0, 0.667, 0.0, 0.714, 0.5, 0.0, 0.0, 0.0, 1.0, 0.889, 0.727, 0.571, 1.0, 0.5, 0.0, 1.0, 0.0, 0.0, 0.92]</td>\n",
       "    </tr>\n",
       "    <tr>\n",
       "      <td>17</td>\n",
       "      <td>0.033000</td>\n",
       "      <td>0.060305</td>\n",
       "      <td>0.400000</td>\n",
       "      <td>0.326702</td>\n",
       "      <td>[0.0, 0.0, 0.0, 0.5, 0.0, 0.571, 0.5, 0.0, 0.25, 0.0, 0.8, 0.875, 0.727, 0.5, 0.471, 0.462, 0.0, 0.286, 0.0, 0.364, 0.556]</td>\n",
       "      <td>[0.0, 0.0, 0.0, 0.4, 0.0, 0.5, 0.667, 0.0, 0.167, 0.0, 0.667, 0.778, 0.8, 0.429, 0.4, 0.375, 0.0, 0.167, 0.0, 0.333, 0.4]</td>\n",
       "      <td>[0.0, 0.0, 0.0, 0.667, 0.0, 0.667, 0.4, 0.0, 0.5, 0.0, 1.0, 1.0, 0.667, 0.6, 0.571, 0.6, 0.0, 1.0, 0.0, 0.4, 0.909]</td>\n",
       "    </tr>\n",
       "    <tr>\n",
       "      <td>18</td>\n",
       "      <td>0.029200</td>\n",
       "      <td>0.061900</td>\n",
       "      <td>0.443750</td>\n",
       "      <td>0.312893</td>\n",
       "      <td>[0.0, 0.0, 0.0, 0.5, 0.0, 0.571, 0.462, 0.0, 0.0, 0.0, 0.571, 0.875, 0.75, 0.471, 0.429, 0.364, 0.0, 0.5, 0.0, 0.429, 0.65]</td>\n",
       "      <td>[0.0, 0.0, 0.0, 0.4, 0.0, 0.5, 0.5, 0.0, 0.0, 0.0, 0.667, 0.778, 0.6, 0.571, 0.3, 0.25, 0.0, 0.333, 0.0, 0.5, 0.52]</td>\n",
       "      <td>[0.0, 0.0, 0.0, 0.667, 0.0, 0.667, 0.429, 0.0, 0.0, 0.0, 0.5, 1.0, 1.0, 0.4, 0.75, 0.667, 0.0, 1.0, 0.0, 0.375, 0.867]</td>\n",
       "    </tr>\n",
       "    <tr>\n",
       "      <td>19</td>\n",
       "      <td>0.027200</td>\n",
       "      <td>0.059944</td>\n",
       "      <td>0.487500</td>\n",
       "      <td>0.344210</td>\n",
       "      <td>[0.0, 0.0, 0.0, 0.5, 0.0, 0.615, 0.571, 0.0, 0.25, 0.0, 0.857, 0.889, 0.778, 0.375, 0.571, 0.364, 0.0, 0.286, 0.0, 0.5, 0.672]</td>\n",
       "      <td>[0.0, 0.0, 0.0, 0.4, 0.0, 0.5, 0.667, 0.0, 0.167, 0.0, 1.0, 0.889, 0.7, 0.429, 0.4, 0.25, 0.0, 0.167, 0.0, 0.5, 0.56]</td>\n",
       "      <td>[0.0, 0.0, 0.0, 0.667, 0.0, 0.8, 0.5, 0.0, 0.5, 0.0, 0.75, 0.889, 0.875, 0.333, 1.0, 0.667, 0.0, 1.0, 0.0, 0.5, 0.84]</td>\n",
       "    </tr>\n",
       "    <tr>\n",
       "      <td>20</td>\n",
       "      <td>0.024000</td>\n",
       "      <td>0.060364</td>\n",
       "      <td>0.537500</td>\n",
       "      <td>0.369134</td>\n",
       "      <td>[0.0, 0.0, 0.0, 0.5, 0.0, 0.571, 0.571, 0.0, 0.25, 0.0, 0.857, 0.824, 0.737, 0.615, 0.462, 0.471, 0.0, 0.5, 0.0, 0.667, 0.727]</td>\n",
       "      <td>[0.0, 0.0, 0.0, 0.4, 0.0, 0.5, 0.667, 0.0, 0.167, 0.0, 1.0, 0.778, 0.7, 0.571, 0.3, 0.5, 0.0, 0.333, 0.0, 0.667, 0.64]</td>\n",
       "      <td>[0.0, 0.0, 0.0, 0.667, 0.0, 0.667, 0.5, 0.0, 0.5, 0.0, 0.75, 0.875, 0.778, 0.667, 1.0, 0.444, 0.0, 1.0, 0.0, 0.667, 0.842]</td>\n",
       "    </tr>\n",
       "    <tr>\n",
       "      <td>21</td>\n",
       "      <td>0.022200</td>\n",
       "      <td>0.059338</td>\n",
       "      <td>0.512500</td>\n",
       "      <td>0.346267</td>\n",
       "      <td>[0.0, 0.0, 0.0, 0.8, 0.0, 0.667, 0.533, 0.0, 0.25, 0.0, 0.75, 0.8, 0.737, 0.5, 0.533, 0.364, 0.0, 0.286, 0.0, 0.333, 0.719]</td>\n",
       "      <td>[0.0, 0.0, 0.0, 0.8, 0.0, 0.5, 0.667, 0.0, 0.167, 0.0, 1.0, 0.889, 0.7, 0.571, 0.4, 0.25, 0.0, 0.167, 0.0, 0.333, 0.613]</td>\n",
       "      <td>[0.0, 0.0, 0.0, 0.8, 0.0, 1.0, 0.444, 0.0, 0.5, 0.0, 0.6, 0.727, 0.778, 0.444, 0.8, 0.667, 0.0, 1.0, 0.0, 0.333, 0.868]</td>\n",
       "    </tr>\n",
       "    <tr>\n",
       "      <td>22</td>\n",
       "      <td>0.020400</td>\n",
       "      <td>0.058719</td>\n",
       "      <td>0.531250</td>\n",
       "      <td>0.340820</td>\n",
       "      <td>[0.0, 0.0, 0.0, 0.571, 0.0, 0.533, 0.571, 0.0, 0.25, 0.0, 0.667, 0.842, 0.842, 0.533, 0.429, 0.429, 0.0, 0.286, 0.0, 0.462, 0.742]</td>\n",
       "      <td>[0.0, 0.0, 0.0, 0.4, 0.0, 0.5, 0.667, 0.0, 0.167, 0.0, 0.667, 0.889, 0.8, 0.571, 0.3, 0.375, 0.0, 0.167, 0.0, 0.5, 0.653]</td>\n",
       "      <td>[0.0, 0.0, 0.0, 1.0, 0.0, 0.571, 0.5, 0.0, 0.5, 0.0, 0.667, 0.8, 0.889, 0.5, 0.75, 0.5, 0.0, 1.0, 0.0, 0.429, 0.86]</td>\n",
       "    </tr>\n",
       "    <tr>\n",
       "      <td>23</td>\n",
       "      <td>0.018600</td>\n",
       "      <td>0.059316</td>\n",
       "      <td>0.525000</td>\n",
       "      <td>0.416986</td>\n",
       "      <td>[0.0, 0.0, 1.0, 0.667, 0.0, 0.714, 0.5, 0.0, 0.286, 0.0, 0.8, 0.842, 0.667, 0.5, 0.429, 0.421, 0.0, 0.667, 0.0, 0.571, 0.694]</td>\n",
       "      <td>[0.0, 0.0, 1.0, 0.6, 0.0, 0.625, 0.667, 0.0, 0.167, 0.0, 0.667, 0.889, 0.7, 0.571, 0.3, 0.5, 0.0, 0.5, 0.0, 0.667, 0.573]</td>\n",
       "      <td>[0.0, 0.0, 1.0, 0.75, 0.0, 0.833, 0.4, 0.0, 1.0, 0.0, 1.0, 0.8, 0.636, 0.444, 0.75, 0.364, 0.0, 1.0, 0.0, 0.5, 0.878]</td>\n",
       "    </tr>\n",
       "    <tr>\n",
       "      <td>24</td>\n",
       "      <td>0.017100</td>\n",
       "      <td>0.063966</td>\n",
       "      <td>0.462500</td>\n",
       "      <td>0.419448</td>\n",
       "      <td>[0.0, 0.0, 1.0, 0.909, 0.0, 0.667, 0.5, 0.0, 0.2, 0.4, 0.571, 0.8, 0.727, 0.5, 0.588, 0.588, 0.0, 0.286, 0.0, 0.526, 0.545]</td>\n",
       "      <td>[0.0, 0.0, 1.0, 1.0, 0.0, 0.625, 0.667, 0.0, 0.167, 0.5, 0.667, 0.667, 0.8, 0.571, 0.5, 0.625, 0.0, 0.167, 0.0, 0.833, 0.4]</td>\n",
       "      <td>[0.0, 0.0, 1.0, 0.833, 0.0, 0.714, 0.4, 0.0, 0.25, 0.333, 0.5, 1.0, 0.667, 0.444, 0.714, 0.556, 0.0, 1.0, 0.0, 0.385, 0.857]</td>\n",
       "    </tr>\n",
       "    <tr>\n",
       "      <td>25</td>\n",
       "      <td>0.016400</td>\n",
       "      <td>0.062277</td>\n",
       "      <td>0.525000</td>\n",
       "      <td>0.398950</td>\n",
       "      <td>[0.0, 0.0, 1.0, 0.5, 0.0, 0.556, 0.571, 0.0, 0.25, 0.0, 0.75, 0.75, 0.818, 0.533, 0.5, 0.545, 0.0, 0.5, 0.0, 0.4, 0.704]</td>\n",
       "      <td>[0.0, 0.0, 1.0, 0.4, 0.0, 0.625, 0.667, 0.0, 0.167, 0.0, 1.0, 0.667, 0.9, 0.571, 0.4, 0.75, 0.0, 0.333, 0.0, 0.5, 0.587]</td>\n",
       "      <td>[0.0, 0.0, 1.0, 0.667, 0.0, 0.5, 0.5, 0.0, 0.5, 0.0, 0.6, 0.857, 0.75, 0.5, 0.667, 0.429, 0.0, 1.0, 0.0, 0.333, 0.88]</td>\n",
       "    </tr>\n",
       "  </tbody>\n",
       "</table><p>"
      ],
      "text/plain": [
       "<IPython.core.display.HTML object>"
      ]
     },
     "metadata": {},
     "output_type": "display_data"
    },
    {
     "data": {
      "application/vnd.jupyter.widget-view+json": {
       "model_id": "fb86f89c372146a9b281946b4457cbc8",
       "version_major": 2,
       "version_minor": 0
      },
      "text/plain": [
       "Map:   0%|          | 0/204 [00:00<?, ? examples/s]"
      ]
     },
     "metadata": {},
     "output_type": "display_data"
    },
    {
     "data": {
      "text/html": [],
      "text/plain": [
       "<IPython.core.display.HTML object>"
      ]
     },
     "metadata": {},
     "output_type": "display_data"
    },
    {
     "name": "stdout",
     "output_type": "stream",
     "text": [
      "{'accuracy': 0.7048192771084337, 'macro_f1': 0.4736555966187586, 'class_f1': [0.0, 0.667, 0.0, 0.333, 0.0, 0.737, 0.5, 0.0, 0.25, 0.5, 1.0, 0.778, 0.783, 0.545, 0.625, 0.588, 0.667, 0.857, 0.0, 0.286, 0.831], 'class_recall': [0.0, 0.5, 0.0, 0.25, 0.0, 0.875, 0.5, 0.0, 0.25, 1.0, 1.0, 0.7, 0.75, 0.429, 0.5, 0.714, 0.5, 0.857, 0.0, 0.25, 0.862], 'class_precision': [0.0, 1.0, 0.0, 0.5, 0.0, 0.636, 0.5, 0.0, 0.25, 0.333, 1.0, 0.875, 0.818, 0.75, 0.833, 0.5, 1.0, 0.857, 0.0, 0.333, 0.802]}\n",
      "-----------------Fold: 4-----------------\n"
     ]
    },
    {
     "name": "stderr",
     "output_type": "stream",
     "text": [
      "Some weights of BertForSequenceClassification were not initialized from the model checkpoint at cl-tohoku/bert-base-japanese-v3 and are newly initialized: ['classifier.bias', 'classifier.weight']\n",
      "You should probably TRAIN this model on a down-stream task to be able to use it for predictions and inference.\n"
     ]
    },
    {
     "data": {
      "application/vnd.jupyter.widget-view+json": {
       "model_id": "a7f72b00cce047a394f9c2506c19ed97",
       "version_major": 2,
       "version_minor": 0
      },
      "text/plain": [
       "Map:   0%|          | 0/1158 [00:00<?, ? examples/s]"
      ]
     },
     "metadata": {},
     "output_type": "display_data"
    },
    {
     "data": {
      "application/vnd.jupyter.widget-view+json": {
       "model_id": "0d6baae83cbc4ab0ab8a346171693f6c",
       "version_major": 2,
       "version_minor": 0
      },
      "text/plain": [
       "Map:   0%|          | 0/161 [00:00<?, ? examples/s]"
      ]
     },
     "metadata": {},
     "output_type": "display_data"
    },
    {
     "name": "stderr",
     "output_type": "stream",
     "text": [
      "wandb: WARNING Source type is set to 'repo' but some required information is missing from the environment. A job will not be created from this run. See https://docs.wandb.ai/guides/launch/create-job\n"
     ]
    },
    {
     "data": {
      "application/vnd.jupyter.widget-view+json": {
       "model_id": "54032d6d1f794e7db7b2b98ba64da056",
       "version_major": 2,
       "version_minor": 0
      },
      "text/plain": [
       "VBox(children=(Label(value='Waiting for wandb.init()...\\r'), FloatProgress(value=0.011112516575182477, max=1.0…"
      ]
     },
     "metadata": {},
     "output_type": "display_data"
    },
    {
     "data": {
      "text/html": [
       "\n",
       "    <div>\n",
       "      \n",
       "      <progress value='1314' max='7300' style='width:300px; height:20px; vertical-align: middle;'></progress>\n",
       "      [1314/7300 03:32 < 16:07, 6.19 it/s, Epoch 18/100]\n",
       "    </div>\n",
       "    <table border=\"1\" class=\"dataframe\">\n",
       "  <thead>\n",
       " <tr style=\"text-align: left;\">\n",
       "      <th>Epoch</th>\n",
       "      <th>Training Loss</th>\n",
       "      <th>Validation Loss</th>\n",
       "      <th>Accuracy</th>\n",
       "      <th>Macro F1</th>\n",
       "      <th>Class F1</th>\n",
       "      <th>Class Recall</th>\n",
       "      <th>Class Precision</th>\n",
       "    </tr>\n",
       "  </thead>\n",
       "  <tbody>\n",
       "    <tr>\n",
       "      <td>1</td>\n",
       "      <td>0.583700</td>\n",
       "      <td>0.388044</td>\n",
       "      <td>0.012422</td>\n",
       "      <td>0.003527</td>\n",
       "      <td>[0.0, 0.0, 0.0, 0.0, 0.0, 0.0, 0.0, 0.0, 0.0, 0.0, 0.0, 0.0, 0.0, 0.0, 0.0, 0.0, 0.0, 0.0, 0.0, 0.0, 0.074]</td>\n",
       "      <td>[0.0, 0.0, 0.0, 0.0, 0.0, 0.0, 0.0, 0.0, 0.0, 0.0, 0.0, 0.0, 0.0, 0.0, 0.0, 0.0, 0.0, 0.0, 0.0, 0.0, 0.041]</td>\n",
       "      <td>[0.0, 0.0, 0.0, 0.0, 0.0, 0.0, 0.0, 0.0, 0.0, 0.0, 0.0, 0.0, 0.0, 0.0, 0.0, 0.0, 0.0, 0.0, 0.0, 0.0, 0.429]</td>\n",
       "    </tr>\n",
       "    <tr>\n",
       "      <td>2</td>\n",
       "      <td>0.242200</td>\n",
       "      <td>0.144000</td>\n",
       "      <td>0.000000</td>\n",
       "      <td>0.000000</td>\n",
       "      <td>[0.0, 0.0, 0.0, 0.0, 0.0, 0.0, 0.0, 0.0, 0.0, 0.0, 0.0, 0.0, 0.0, 0.0, 0.0, 0.0, 0.0, 0.0, 0.0, 0.0, 0.0]</td>\n",
       "      <td>[0.0, 0.0, 0.0, 0.0, 0.0, 0.0, 0.0, 0.0, 0.0, 0.0, 0.0, 0.0, 0.0, 0.0, 0.0, 0.0, 0.0, 0.0, 0.0, 0.0, 0.0]</td>\n",
       "      <td>[0.0, 0.0, 0.0, 0.0, 0.0, 0.0, 0.0, 0.0, 0.0, 0.0, 0.0, 0.0, 0.0, 0.0, 0.0, 0.0, 0.0, 0.0, 0.0, 0.0, 0.0]</td>\n",
       "    </tr>\n",
       "    <tr>\n",
       "      <td>3</td>\n",
       "      <td>0.137600</td>\n",
       "      <td>0.105281</td>\n",
       "      <td>0.000000</td>\n",
       "      <td>0.000000</td>\n",
       "      <td>[0.0, 0.0, 0.0, 0.0, 0.0, 0.0, 0.0, 0.0, 0.0, 0.0, 0.0, 0.0, 0.0, 0.0, 0.0, 0.0, 0.0, 0.0, 0.0, 0.0, 0.0]</td>\n",
       "      <td>[0.0, 0.0, 0.0, 0.0, 0.0, 0.0, 0.0, 0.0, 0.0, 0.0, 0.0, 0.0, 0.0, 0.0, 0.0, 0.0, 0.0, 0.0, 0.0, 0.0, 0.0]</td>\n",
       "      <td>[0.0, 0.0, 0.0, 0.0, 0.0, 0.0, 0.0, 0.0, 0.0, 0.0, 0.0, 0.0, 0.0, 0.0, 0.0, 0.0, 0.0, 0.0, 0.0, 0.0, 0.0]</td>\n",
       "    </tr>\n",
       "    <tr>\n",
       "      <td>4</td>\n",
       "      <td>0.114200</td>\n",
       "      <td>0.093567</td>\n",
       "      <td>0.000000</td>\n",
       "      <td>0.000000</td>\n",
       "      <td>[0.0, 0.0, 0.0, 0.0, 0.0, 0.0, 0.0, 0.0, 0.0, 0.0, 0.0, 0.0, 0.0, 0.0, 0.0, 0.0, 0.0, 0.0, 0.0, 0.0, 0.0]</td>\n",
       "      <td>[0.0, 0.0, 0.0, 0.0, 0.0, 0.0, 0.0, 0.0, 0.0, 0.0, 0.0, 0.0, 0.0, 0.0, 0.0, 0.0, 0.0, 0.0, 0.0, 0.0, 0.0]</td>\n",
       "      <td>[0.0, 0.0, 0.0, 0.0, 0.0, 0.0, 0.0, 0.0, 0.0, 0.0, 0.0, 0.0, 0.0, 0.0, 0.0, 0.0, 0.0, 0.0, 0.0, 0.0, 0.0]</td>\n",
       "    </tr>\n",
       "    <tr>\n",
       "      <td>5</td>\n",
       "      <td>0.107000</td>\n",
       "      <td>0.089526</td>\n",
       "      <td>0.000000</td>\n",
       "      <td>0.000000</td>\n",
       "      <td>[0.0, 0.0, 0.0, 0.0, 0.0, 0.0, 0.0, 0.0, 0.0, 0.0, 0.0, 0.0, 0.0, 0.0, 0.0, 0.0, 0.0, 0.0, 0.0, 0.0, 0.0]</td>\n",
       "      <td>[0.0, 0.0, 0.0, 0.0, 0.0, 0.0, 0.0, 0.0, 0.0, 0.0, 0.0, 0.0, 0.0, 0.0, 0.0, 0.0, 0.0, 0.0, 0.0, 0.0, 0.0]</td>\n",
       "      <td>[0.0, 0.0, 0.0, 0.0, 0.0, 0.0, 0.0, 0.0, 0.0, 0.0, 0.0, 0.0, 0.0, 0.0, 0.0, 0.0, 0.0, 0.0, 0.0, 0.0, 0.0]</td>\n",
       "    </tr>\n",
       "    <tr>\n",
       "      <td>6</td>\n",
       "      <td>0.103600</td>\n",
       "      <td>0.086918</td>\n",
       "      <td>0.000000</td>\n",
       "      <td>0.000000</td>\n",
       "      <td>[0.0, 0.0, 0.0, 0.0, 0.0, 0.0, 0.0, 0.0, 0.0, 0.0, 0.0, 0.0, 0.0, 0.0, 0.0, 0.0, 0.0, 0.0, 0.0, 0.0, 0.0]</td>\n",
       "      <td>[0.0, 0.0, 0.0, 0.0, 0.0, 0.0, 0.0, 0.0, 0.0, 0.0, 0.0, 0.0, 0.0, 0.0, 0.0, 0.0, 0.0, 0.0, 0.0, 0.0, 0.0]</td>\n",
       "      <td>[0.0, 0.0, 0.0, 0.0, 0.0, 0.0, 0.0, 0.0, 0.0, 0.0, 0.0, 0.0, 0.0, 0.0, 0.0, 0.0, 0.0, 0.0, 0.0, 0.0, 0.0]</td>\n",
       "    </tr>\n",
       "    <tr>\n",
       "      <td>7</td>\n",
       "      <td>0.098400</td>\n",
       "      <td>0.083458</td>\n",
       "      <td>0.000000</td>\n",
       "      <td>0.000000</td>\n",
       "      <td>[0.0, 0.0, 0.0, 0.0, 0.0, 0.0, 0.0, 0.0, 0.0, 0.0, 0.0, 0.0, 0.0, 0.0, 0.0, 0.0, 0.0, 0.0, 0.0, 0.0, 0.0]</td>\n",
       "      <td>[0.0, 0.0, 0.0, 0.0, 0.0, 0.0, 0.0, 0.0, 0.0, 0.0, 0.0, 0.0, 0.0, 0.0, 0.0, 0.0, 0.0, 0.0, 0.0, 0.0, 0.0]</td>\n",
       "      <td>[0.0, 0.0, 0.0, 0.0, 0.0, 0.0, 0.0, 0.0, 0.0, 0.0, 0.0, 0.0, 0.0, 0.0, 0.0, 0.0, 0.0, 0.0, 0.0, 0.0, 0.0]</td>\n",
       "    </tr>\n",
       "    <tr>\n",
       "      <td>8</td>\n",
       "      <td>0.093000</td>\n",
       "      <td>0.079156</td>\n",
       "      <td>0.000000</td>\n",
       "      <td>0.000000</td>\n",
       "      <td>[0.0, 0.0, 0.0, 0.0, 0.0, 0.0, 0.0, 0.0, 0.0, 0.0, 0.0, 0.0, 0.0, 0.0, 0.0, 0.0, 0.0, 0.0, 0.0, 0.0, 0.0]</td>\n",
       "      <td>[0.0, 0.0, 0.0, 0.0, 0.0, 0.0, 0.0, 0.0, 0.0, 0.0, 0.0, 0.0, 0.0, 0.0, 0.0, 0.0, 0.0, 0.0, 0.0, 0.0, 0.0]</td>\n",
       "      <td>[0.0, 0.0, 0.0, 0.0, 0.0, 0.0, 0.0, 0.0, 0.0, 0.0, 0.0, 0.0, 0.0, 0.0, 0.0, 0.0, 0.0, 0.0, 0.0, 0.0, 0.0]</td>\n",
       "    </tr>\n",
       "    <tr>\n",
       "      <td>9</td>\n",
       "      <td>0.086200</td>\n",
       "      <td>0.076608</td>\n",
       "      <td>0.031056</td>\n",
       "      <td>0.036735</td>\n",
       "      <td>[0.0, 0.0, 0.0, 0.0, 0.0, 0.0, 0.0, 0.0, 0.0, 0.0, 0.0, 0.0, 0.571, 0.0, 0.0, 0.2, 0.0, 0.0, 0.0, 0.0, 0.0]</td>\n",
       "      <td>[0.0, 0.0, 0.0, 0.0, 0.0, 0.0, 0.0, 0.0, 0.0, 0.0, 0.0, 0.0, 0.4, 0.0, 0.0, 0.111, 0.0, 0.0, 0.0, 0.0, 0.0]</td>\n",
       "      <td>[0.0, 0.0, 0.0, 0.0, 0.0, 0.0, 0.0, 0.0, 0.0, 0.0, 0.0, 0.0, 1.0, 0.0, 0.0, 1.0, 0.0, 0.0, 0.0, 0.0, 0.0]</td>\n",
       "    </tr>\n",
       "    <tr>\n",
       "      <td>10</td>\n",
       "      <td>0.077300</td>\n",
       "      <td>0.072646</td>\n",
       "      <td>0.049689</td>\n",
       "      <td>0.053724</td>\n",
       "      <td>[0.0, 0.0, 0.0, 0.0, 0.0, 0.0, 0.0, 0.0, 0.0, 0.0, 0.0, 0.667, 0.462, 0.0, 0.0, 0.0, 0.0, 0.0, 0.0, 0.0, 0.0]</td>\n",
       "      <td>[0.0, 0.0, 0.0, 0.0, 0.0, 0.0, 0.0, 0.0, 0.0, 0.0, 0.0, 0.556, 0.3, 0.0, 0.0, 0.0, 0.0, 0.0, 0.0, 0.0, 0.0]</td>\n",
       "      <td>[0.0, 0.0, 0.0, 0.0, 0.0, 0.0, 0.0, 0.0, 0.0, 0.0, 0.0, 0.833, 1.0, 0.0, 0.0, 0.0, 0.0, 0.0, 0.0, 0.0, 0.0]</td>\n",
       "    </tr>\n",
       "    <tr>\n",
       "      <td>11</td>\n",
       "      <td>0.066800</td>\n",
       "      <td>0.069462</td>\n",
       "      <td>0.093168</td>\n",
       "      <td>0.121631</td>\n",
       "      <td>[0.0, 0.0, 0.0, 0.0, 0.0, 0.4, 0.286, 0.0, 0.0, 0.0, 0.0, 0.667, 0.588, 0.25, 0.0, 0.364, 0.0, 0.0, 0.0, 0.0, 0.0]</td>\n",
       "      <td>[0.0, 0.0, 0.0, 0.0, 0.0, 0.286, 0.167, 0.0, 0.0, 0.0, 0.0, 0.556, 0.5, 0.143, 0.0, 0.222, 0.0, 0.0, 0.0, 0.0, 0.0]</td>\n",
       "      <td>[0.0, 0.0, 0.0, 0.0, 0.0, 0.667, 1.0, 0.0, 0.0, 0.0, 0.0, 0.833, 0.714, 1.0, 0.0, 1.0, 0.0, 0.0, 0.0, 0.0, 0.0]</td>\n",
       "    </tr>\n",
       "    <tr>\n",
       "      <td>12</td>\n",
       "      <td>0.059900</td>\n",
       "      <td>0.067794</td>\n",
       "      <td>0.080745</td>\n",
       "      <td>0.115139</td>\n",
       "      <td>[0.0, 0.0, 0.0, 0.0, 0.0, 0.182, 0.444, 0.0, 0.0, 0.0, 0.0, 0.667, 0.625, 0.25, 0.0, 0.0, 0.0, 0.25, 0.0, 0.0, 0.0]</td>\n",
       "      <td>[0.0, 0.0, 0.0, 0.0, 0.0, 0.143, 0.333, 0.0, 0.0, 0.0, 0.0, 0.556, 0.5, 0.143, 0.0, 0.0, 0.0, 0.143, 0.0, 0.0, 0.0]</td>\n",
       "      <td>[0.0, 0.0, 0.0, 0.0, 0.0, 0.25, 0.667, 0.0, 0.0, 0.0, 0.0, 0.833, 0.833, 1.0, 0.0, 0.0, 0.0, 1.0, 0.0, 0.0, 0.0]</td>\n",
       "    </tr>\n",
       "    <tr>\n",
       "      <td>13</td>\n",
       "      <td>0.050100</td>\n",
       "      <td>0.066389</td>\n",
       "      <td>0.229814</td>\n",
       "      <td>0.223159</td>\n",
       "      <td>[0.0, 0.0, 0.0, 0.5, 0.0, 0.286, 0.667, 0.0, 0.0, 0.0, 0.0, 0.857, 0.632, 0.25, 0.2, 0.429, 0.0, 0.6, 0.0, 0.0, 0.267]</td>\n",
       "      <td>[0.0, 0.0, 0.0, 0.4, 0.0, 0.286, 0.5, 0.0, 0.0, 0.0, 0.0, 1.0, 0.6, 0.143, 0.111, 0.333, 0.0, 0.429, 0.0, 0.0, 0.162]</td>\n",
       "      <td>[0.0, 0.0, 0.0, 0.667, 0.0, 0.286, 1.0, 0.0, 0.0, 0.0, 0.0, 0.75, 0.667, 1.0, 1.0, 0.6, 0.0, 1.0, 0.0, 0.0, 0.75]</td>\n",
       "    </tr>\n",
       "    <tr>\n",
       "      <td>14</td>\n",
       "      <td>0.044500</td>\n",
       "      <td>0.066523</td>\n",
       "      <td>0.310559</td>\n",
       "      <td>0.217924</td>\n",
       "      <td>[0.0, 0.0, 0.0, 0.5, 0.0, 0.267, 0.5, 0.0, 0.0, 0.0, 0.0, 0.857, 0.636, 0.444, 0.308, 0.333, 0.0, 0.25, 0.0, 0.0, 0.481]</td>\n",
       "      <td>[0.0, 0.0, 0.0, 0.4, 0.0, 0.286, 0.333, 0.0, 0.0, 0.0, 0.0, 1.0, 0.7, 0.286, 0.222, 0.222, 0.0, 0.143, 0.0, 0.0, 0.338]</td>\n",
       "      <td>[0.0, 0.0, 0.0, 0.667, 0.0, 0.25, 1.0, 0.0, 0.0, 0.0, 0.0, 0.75, 0.583, 1.0, 0.5, 0.667, 0.0, 1.0, 0.0, 0.0, 0.833]</td>\n",
       "    </tr>\n",
       "    <tr>\n",
       "      <td>15</td>\n",
       "      <td>0.039000</td>\n",
       "      <td>0.065890</td>\n",
       "      <td>0.372671</td>\n",
       "      <td>0.248016</td>\n",
       "      <td>[0.0, 0.0, 0.0, 0.444, 0.0, 0.25, 0.5, 0.0, 0.0, 0.0, 0.0, 0.842, 0.737, 0.6, 0.429, 0.364, 0.0, 0.444, 0.0, 0.0, 0.598]</td>\n",
       "      <td>[0.0, 0.0, 0.0, 0.4, 0.0, 0.143, 0.333, 0.0, 0.0, 0.0, 0.0, 0.889, 0.7, 0.429, 0.333, 0.222, 0.0, 0.286, 0.0, 0.0, 0.473]</td>\n",
       "      <td>[0.0, 0.0, 0.0, 0.5, 0.0, 1.0, 1.0, 0.0, 0.0, 0.0, 0.0, 0.8, 0.778, 1.0, 0.6, 1.0, 0.0, 1.0, 0.0, 0.0, 0.814]</td>\n",
       "    </tr>\n",
       "    <tr>\n",
       "      <td>16</td>\n",
       "      <td>0.034300</td>\n",
       "      <td>0.066711</td>\n",
       "      <td>0.403727</td>\n",
       "      <td>0.312429</td>\n",
       "      <td>[0.0, 0.0, 0.0, 0.444, 0.0, 0.333, 0.444, 0.0, 0.0, 0.5, 0.4, 0.778, 0.737, 0.727, 0.333, 0.462, 0.0, 0.545, 0.0, 0.25, 0.607]</td>\n",
       "      <td>[0.0, 0.0, 0.0, 0.4, 0.0, 0.286, 0.333, 0.0, 0.0, 1.0, 0.333, 0.778, 0.7, 0.571, 0.222, 0.333, 0.0, 0.429, 0.0, 0.143, 0.5]</td>\n",
       "      <td>[0.0, 0.0, 0.0, 0.5, 0.0, 0.4, 0.667, 0.0, 0.0, 0.333, 0.5, 0.778, 0.778, 1.0, 0.667, 0.75, 0.0, 0.75, 0.0, 1.0, 0.771]</td>\n",
       "    </tr>\n",
       "    <tr>\n",
       "      <td>17</td>\n",
       "      <td>0.030200</td>\n",
       "      <td>0.068652</td>\n",
       "      <td>0.316770</td>\n",
       "      <td>0.298528</td>\n",
       "      <td>[0.0, 0.0, 0.667, 0.5, 0.0, 0.25, 0.429, 0.0, 0.25, 0.0, 0.4, 0.778, 0.636, 0.444, 0.286, 0.429, 0.0, 0.5, 0.0, 0.25, 0.451]</td>\n",
       "      <td>[0.0, 0.0, 0.5, 0.4, 0.0, 0.286, 0.5, 0.0, 0.167, 0.0, 0.333, 0.778, 0.7, 0.286, 0.222, 0.333, 0.0, 0.429, 0.0, 0.143, 0.311]</td>\n",
       "      <td>[0.0, 0.0, 1.0, 0.667, 0.0, 0.222, 0.375, 0.0, 0.5, 0.0, 0.5, 0.778, 0.583, 1.0, 0.4, 0.6, 0.0, 0.6, 0.0, 1.0, 0.821]</td>\n",
       "    </tr>\n",
       "    <tr>\n",
       "      <td>18</td>\n",
       "      <td>0.026800</td>\n",
       "      <td>0.067554</td>\n",
       "      <td>0.403727</td>\n",
       "      <td>0.299228</td>\n",
       "      <td>[0.0, 0.0, 0.0, 0.444, 0.0, 0.235, 0.5, 0.0, 0.25, 0.0, 0.4, 0.857, 0.7, 0.6, 0.4, 0.462, 0.0, 0.6, 0.0, 0.25, 0.585]</td>\n",
       "      <td>[0.0, 0.0, 0.0, 0.4, 0.0, 0.286, 0.333, 0.0, 0.167, 0.0, 0.333, 1.0, 0.7, 0.429, 0.333, 0.333, 0.0, 0.429, 0.0, 0.143, 0.486]</td>\n",
       "      <td>[0.0, 0.0, 0.0, 0.5, 0.0, 0.2, 1.0, 0.0, 0.5, 0.0, 0.5, 0.75, 0.7, 1.0, 0.5, 0.75, 0.0, 1.0, 0.0, 1.0, 0.735]</td>\n",
       "    </tr>\n",
       "  </tbody>\n",
       "</table><p>"
      ],
      "text/plain": [
       "<IPython.core.display.HTML object>"
      ]
     },
     "metadata": {},
     "output_type": "display_data"
    },
    {
     "data": {
      "application/vnd.jupyter.widget-view+json": {
       "model_id": "86b891915831402798fd3a0b03c594f1",
       "version_major": 2,
       "version_minor": 0
      },
      "text/plain": [
       "Map:   0%|          | 0/204 [00:00<?, ? examples/s]"
      ]
     },
     "metadata": {},
     "output_type": "display_data"
    },
    {
     "data": {
      "text/html": [],
      "text/plain": [
       "<IPython.core.display.HTML object>"
      ]
     },
     "metadata": {},
     "output_type": "display_data"
    },
    {
     "name": "stdout",
     "output_type": "stream",
     "text": [
      "{'accuracy': 0.7719298245614035, 'macro_f1': 0.3893747881666328, 'class_f1': [0.0, 0.0, 0.0, 0.75, 0.0, 0.857, 0.8, 0.0, 0.0, 0.667, 0.0, 0.824, 0.88, 0.8, 0.5, 0.5, 0.0, 0.714, 0.0, 0.0, 0.885], 'class_recall': [0.0, 0.0, 0.0, 0.75, 0.0, 1.0, 0.667, 0.0, 0.0, 1.0, 0.0, 0.778, 0.917, 0.667, 0.375, 0.5, 0.0, 1.0, 0.0, 0.0, 0.9], 'class_precision': [0.0, 0.0, 0.0, 0.75, 0.0, 0.75, 1.0, 0.0, 0.0, 0.5, 0.0, 0.875, 0.846, 1.0, 0.75, 0.5, 0.0, 0.556, 0.0, 0.0, 0.871]}\n",
      "-----------------Fold: 5-----------------\n"
     ]
    },
    {
     "name": "stderr",
     "output_type": "stream",
     "text": [
      "Some weights of BertForSequenceClassification were not initialized from the model checkpoint at cl-tohoku/bert-base-japanese-v3 and are newly initialized: ['classifier.bias', 'classifier.weight']\n",
      "You should probably TRAIN this model on a down-stream task to be able to use it for predictions and inference.\n"
     ]
    },
    {
     "data": {
      "application/vnd.jupyter.widget-view+json": {
       "model_id": "6365e30622dc45e2b1b6bcb5883cb67c",
       "version_major": 2,
       "version_minor": 0
      },
      "text/plain": [
       "Map:   0%|          | 0/1158 [00:00<?, ? examples/s]"
      ]
     },
     "metadata": {},
     "output_type": "display_data"
    },
    {
     "data": {
      "application/vnd.jupyter.widget-view+json": {
       "model_id": "a33382f5b9f644b293707b2c03cb1eda",
       "version_major": 2,
       "version_minor": 0
      },
      "text/plain": [
       "Map:   0%|          | 0/161 [00:00<?, ? examples/s]"
      ]
     },
     "metadata": {},
     "output_type": "display_data"
    },
    {
     "name": "stderr",
     "output_type": "stream",
     "text": [
      "wandb: WARNING Source type is set to 'repo' but some required information is missing from the environment. A job will not be created from this run. See https://docs.wandb.ai/guides/launch/create-job\n"
     ]
    },
    {
     "data": {
      "application/vnd.jupyter.widget-view+json": {
       "model_id": "af662c184012434cb49586c6ef20dc84",
       "version_major": 2,
       "version_minor": 0
      },
      "text/plain": [
       "VBox(children=(Label(value='Waiting for wandb.init()...\\r'), FloatProgress(value=0.011112415267982416, max=1.0…"
      ]
     },
     "metadata": {},
     "output_type": "display_data"
    },
    {
     "data": {
      "text/html": [
       "\n",
       "    <div>\n",
       "      \n",
       "      <progress value='1314' max='7300' style='width:300px; height:20px; vertical-align: middle;'></progress>\n",
       "      [1314/7300 03:31 < 16:04, 6.21 it/s, Epoch 18/100]\n",
       "    </div>\n",
       "    <table border=\"1\" class=\"dataframe\">\n",
       "  <thead>\n",
       " <tr style=\"text-align: left;\">\n",
       "      <th>Epoch</th>\n",
       "      <th>Training Loss</th>\n",
       "      <th>Validation Loss</th>\n",
       "      <th>Accuracy</th>\n",
       "      <th>Macro F1</th>\n",
       "      <th>Class F1</th>\n",
       "      <th>Class Recall</th>\n",
       "      <th>Class Precision</th>\n",
       "    </tr>\n",
       "  </thead>\n",
       "  <tbody>\n",
       "    <tr>\n",
       "      <td>1</td>\n",
       "      <td>0.591000</td>\n",
       "      <td>0.384011</td>\n",
       "      <td>0.000000</td>\n",
       "      <td>0.000000</td>\n",
       "      <td>[0.0, 0.0, 0.0, 0.0, 0.0, 0.0, 0.0, 0.0, 0.0, 0.0, 0.0, 0.0, 0.0, 0.0, 0.0, 0.0, 0.0, 0.0, 0.0, 0.0, 0.0]</td>\n",
       "      <td>[0.0, 0.0, 0.0, 0.0, 0.0, 0.0, 0.0, 0.0, 0.0, 0.0, 0.0, 0.0, 0.0, 0.0, 0.0, 0.0, 0.0, 0.0, 0.0, 0.0, 0.0]</td>\n",
       "      <td>[0.0, 0.0, 0.0, 0.0, 0.0, 0.0, 0.0, 0.0, 0.0, 0.0, 0.0, 0.0, 0.0, 0.0, 0.0, 0.0, 0.0, 0.0, 0.0, 0.0, 0.0]</td>\n",
       "    </tr>\n",
       "    <tr>\n",
       "      <td>2</td>\n",
       "      <td>0.259300</td>\n",
       "      <td>0.159865</td>\n",
       "      <td>0.000000</td>\n",
       "      <td>0.000000</td>\n",
       "      <td>[0.0, 0.0, 0.0, 0.0, 0.0, 0.0, 0.0, 0.0, 0.0, 0.0, 0.0, 0.0, 0.0, 0.0, 0.0, 0.0, 0.0, 0.0, 0.0, 0.0, 0.0]</td>\n",
       "      <td>[0.0, 0.0, 0.0, 0.0, 0.0, 0.0, 0.0, 0.0, 0.0, 0.0, 0.0, 0.0, 0.0, 0.0, 0.0, 0.0, 0.0, 0.0, 0.0, 0.0, 0.0]</td>\n",
       "      <td>[0.0, 0.0, 0.0, 0.0, 0.0, 0.0, 0.0, 0.0, 0.0, 0.0, 0.0, 0.0, 0.0, 0.0, 0.0, 0.0, 0.0, 0.0, 0.0, 0.0, 0.0]</td>\n",
       "    </tr>\n",
       "    <tr>\n",
       "      <td>3</td>\n",
       "      <td>0.145600</td>\n",
       "      <td>0.109205</td>\n",
       "      <td>0.000000</td>\n",
       "      <td>0.000000</td>\n",
       "      <td>[0.0, 0.0, 0.0, 0.0, 0.0, 0.0, 0.0, 0.0, 0.0, 0.0, 0.0, 0.0, 0.0, 0.0, 0.0, 0.0, 0.0, 0.0, 0.0, 0.0, 0.0]</td>\n",
       "      <td>[0.0, 0.0, 0.0, 0.0, 0.0, 0.0, 0.0, 0.0, 0.0, 0.0, 0.0, 0.0, 0.0, 0.0, 0.0, 0.0, 0.0, 0.0, 0.0, 0.0, 0.0]</td>\n",
       "      <td>[0.0, 0.0, 0.0, 0.0, 0.0, 0.0, 0.0, 0.0, 0.0, 0.0, 0.0, 0.0, 0.0, 0.0, 0.0, 0.0, 0.0, 0.0, 0.0, 0.0, 0.0]</td>\n",
       "    </tr>\n",
       "    <tr>\n",
       "      <td>4</td>\n",
       "      <td>0.116100</td>\n",
       "      <td>0.094194</td>\n",
       "      <td>0.000000</td>\n",
       "      <td>0.000000</td>\n",
       "      <td>[0.0, 0.0, 0.0, 0.0, 0.0, 0.0, 0.0, 0.0, 0.0, 0.0, 0.0, 0.0, 0.0, 0.0, 0.0, 0.0, 0.0, 0.0, 0.0, 0.0, 0.0]</td>\n",
       "      <td>[0.0, 0.0, 0.0, 0.0, 0.0, 0.0, 0.0, 0.0, 0.0, 0.0, 0.0, 0.0, 0.0, 0.0, 0.0, 0.0, 0.0, 0.0, 0.0, 0.0, 0.0]</td>\n",
       "      <td>[0.0, 0.0, 0.0, 0.0, 0.0, 0.0, 0.0, 0.0, 0.0, 0.0, 0.0, 0.0, 0.0, 0.0, 0.0, 0.0, 0.0, 0.0, 0.0, 0.0, 0.0]</td>\n",
       "    </tr>\n",
       "    <tr>\n",
       "      <td>5</td>\n",
       "      <td>0.108000</td>\n",
       "      <td>0.089582</td>\n",
       "      <td>0.000000</td>\n",
       "      <td>0.000000</td>\n",
       "      <td>[0.0, 0.0, 0.0, 0.0, 0.0, 0.0, 0.0, 0.0, 0.0, 0.0, 0.0, 0.0, 0.0, 0.0, 0.0, 0.0, 0.0, 0.0, 0.0, 0.0, 0.0]</td>\n",
       "      <td>[0.0, 0.0, 0.0, 0.0, 0.0, 0.0, 0.0, 0.0, 0.0, 0.0, 0.0, 0.0, 0.0, 0.0, 0.0, 0.0, 0.0, 0.0, 0.0, 0.0, 0.0]</td>\n",
       "      <td>[0.0, 0.0, 0.0, 0.0, 0.0, 0.0, 0.0, 0.0, 0.0, 0.0, 0.0, 0.0, 0.0, 0.0, 0.0, 0.0, 0.0, 0.0, 0.0, 0.0, 0.0]</td>\n",
       "    </tr>\n",
       "    <tr>\n",
       "      <td>6</td>\n",
       "      <td>0.106300</td>\n",
       "      <td>0.086855</td>\n",
       "      <td>0.000000</td>\n",
       "      <td>0.000000</td>\n",
       "      <td>[0.0, 0.0, 0.0, 0.0, 0.0, 0.0, 0.0, 0.0, 0.0, 0.0, 0.0, 0.0, 0.0, 0.0, 0.0, 0.0, 0.0, 0.0, 0.0, 0.0, 0.0]</td>\n",
       "      <td>[0.0, 0.0, 0.0, 0.0, 0.0, 0.0, 0.0, 0.0, 0.0, 0.0, 0.0, 0.0, 0.0, 0.0, 0.0, 0.0, 0.0, 0.0, 0.0, 0.0, 0.0]</td>\n",
       "      <td>[0.0, 0.0, 0.0, 0.0, 0.0, 0.0, 0.0, 0.0, 0.0, 0.0, 0.0, 0.0, 0.0, 0.0, 0.0, 0.0, 0.0, 0.0, 0.0, 0.0, 0.0]</td>\n",
       "    </tr>\n",
       "    <tr>\n",
       "      <td>7</td>\n",
       "      <td>0.102800</td>\n",
       "      <td>0.082970</td>\n",
       "      <td>0.000000</td>\n",
       "      <td>0.000000</td>\n",
       "      <td>[0.0, 0.0, 0.0, 0.0, 0.0, 0.0, 0.0, 0.0, 0.0, 0.0, 0.0, 0.0, 0.0, 0.0, 0.0, 0.0, 0.0, 0.0, 0.0, 0.0, 0.0]</td>\n",
       "      <td>[0.0, 0.0, 0.0, 0.0, 0.0, 0.0, 0.0, 0.0, 0.0, 0.0, 0.0, 0.0, 0.0, 0.0, 0.0, 0.0, 0.0, 0.0, 0.0, 0.0, 0.0]</td>\n",
       "      <td>[0.0, 0.0, 0.0, 0.0, 0.0, 0.0, 0.0, 0.0, 0.0, 0.0, 0.0, 0.0, 0.0, 0.0, 0.0, 0.0, 0.0, 0.0, 0.0, 0.0, 0.0]</td>\n",
       "    </tr>\n",
       "    <tr>\n",
       "      <td>8</td>\n",
       "      <td>0.093700</td>\n",
       "      <td>0.077599</td>\n",
       "      <td>0.000000</td>\n",
       "      <td>0.000000</td>\n",
       "      <td>[0.0, 0.0, 0.0, 0.0, 0.0, 0.0, 0.0, 0.0, 0.0, 0.0, 0.0, 0.0, 0.0, 0.0, 0.0, 0.0, 0.0, 0.0, 0.0, 0.0, 0.0]</td>\n",
       "      <td>[0.0, 0.0, 0.0, 0.0, 0.0, 0.0, 0.0, 0.0, 0.0, 0.0, 0.0, 0.0, 0.0, 0.0, 0.0, 0.0, 0.0, 0.0, 0.0, 0.0, 0.0]</td>\n",
       "      <td>[0.0, 0.0, 0.0, 0.0, 0.0, 0.0, 0.0, 0.0, 0.0, 0.0, 0.0, 0.0, 0.0, 0.0, 0.0, 0.0, 0.0, 0.0, 0.0, 0.0, 0.0]</td>\n",
       "    </tr>\n",
       "    <tr>\n",
       "      <td>9</td>\n",
       "      <td>0.086000</td>\n",
       "      <td>0.072904</td>\n",
       "      <td>0.062112</td>\n",
       "      <td>0.063910</td>\n",
       "      <td>[0.0, 0.0, 0.0, 0.0, 0.0, 0.0, 0.0, 0.0, 0.0, 0.0, 0.0, 0.5, 0.842, 0.0, 0.0, 0.0, 0.0, 0.0, 0.0, 0.0, 0.0]</td>\n",
       "      <td>[0.0, 0.0, 0.0, 0.0, 0.0, 0.0, 0.0, 0.0, 0.0, 0.0, 0.0, 0.333, 0.727, 0.0, 0.0, 0.0, 0.0, 0.0, 0.0, 0.0, 0.0]</td>\n",
       "      <td>[0.0, 0.0, 0.0, 0.0, 0.0, 0.0, 0.0, 0.0, 0.0, 0.0, 0.0, 1.0, 1.0, 0.0, 0.0, 0.0, 0.0, 0.0, 0.0, 0.0, 0.0]</td>\n",
       "    </tr>\n",
       "    <tr>\n",
       "      <td>10</td>\n",
       "      <td>0.076800</td>\n",
       "      <td>0.068985</td>\n",
       "      <td>0.099379</td>\n",
       "      <td>0.164928</td>\n",
       "      <td>[0.0, 0.0, 0.0, 0.333, 0.0, 0.6, 0.4, 0.0, 0.0, 0.0, 0.0, 0.667, 0.778, 0.0, 0.0, 0.4, 0.0, 0.286, 0.0, 0.0, 0.0]</td>\n",
       "      <td>[0.0, 0.0, 0.0, 0.2, 0.0, 0.429, 0.286, 0.0, 0.0, 0.0, 0.0, 0.556, 0.636, 0.0, 0.0, 0.25, 0.0, 0.167, 0.0, 0.0, 0.0]</td>\n",
       "      <td>[0.0, 0.0, 0.0, 1.0, 0.0, 1.0, 0.667, 0.0, 0.0, 0.0, 0.0, 0.833, 1.0, 0.0, 0.0, 1.0, 0.0, 1.0, 0.0, 0.0, 0.0]</td>\n",
       "    </tr>\n",
       "    <tr>\n",
       "      <td>11</td>\n",
       "      <td>0.066000</td>\n",
       "      <td>0.065489</td>\n",
       "      <td>0.111801</td>\n",
       "      <td>0.170620</td>\n",
       "      <td>[0.0, 0.0, 0.0, 0.333, 0.0, 0.25, 0.545, 0.0, 0.0, 0.0, 0.0, 0.667, 0.842, 0.0, 0.0, 0.4, 0.0, 0.545, 0.0, 0.0, 0.0]</td>\n",
       "      <td>[0.0, 0.0, 0.0, 0.2, 0.0, 0.143, 0.429, 0.0, 0.0, 0.0, 0.0, 0.556, 0.727, 0.0, 0.0, 0.25, 0.0, 0.5, 0.0, 0.0, 0.0]</td>\n",
       "      <td>[0.0, 0.0, 0.0, 1.0, 0.0, 1.0, 0.75, 0.0, 0.0, 0.0, 0.0, 0.833, 1.0, 0.0, 0.0, 1.0, 0.0, 0.6, 0.0, 0.0, 0.0]</td>\n",
       "    </tr>\n",
       "    <tr>\n",
       "      <td>12</td>\n",
       "      <td>0.055600</td>\n",
       "      <td>0.063729</td>\n",
       "      <td>0.111801</td>\n",
       "      <td>0.157974</td>\n",
       "      <td>[0.0, 0.0, 0.0, 0.0, 0.0, 0.6, 0.0, 0.0, 0.0, 0.0, 0.0, 0.667, 0.778, 0.0, 0.429, 0.4, 0.0, 0.444, 0.0, 0.0, 0.0]</td>\n",
       "      <td>[0.0, 0.0, 0.0, 0.0, 0.0, 0.429, 0.0, 0.0, 0.0, 0.0, 0.0, 0.556, 0.636, 0.0, 0.3, 0.25, 0.0, 0.333, 0.0, 0.0, 0.0]</td>\n",
       "      <td>[0.0, 0.0, 0.0, 0.0, 0.0, 1.0, 0.0, 0.0, 0.0, 0.0, 0.0, 0.833, 1.0, 0.0, 0.75, 1.0, 0.0, 0.667, 0.0, 0.0, 0.0]</td>\n",
       "    </tr>\n",
       "    <tr>\n",
       "      <td>13</td>\n",
       "      <td>0.048900</td>\n",
       "      <td>0.063658</td>\n",
       "      <td>0.242236</td>\n",
       "      <td>0.253214</td>\n",
       "      <td>[0.0, 0.0, 0.0, 0.5, 0.0, 0.6, 0.222, 0.0, 0.0, 0.0, 0.0, 0.824, 0.667, 0.25, 0.429, 0.4, 0.5, 0.615, 0.0, 0.0, 0.311]</td>\n",
       "      <td>[0.0, 0.0, 0.0, 0.4, 0.0, 0.429, 0.143, 0.0, 0.0, 0.0, 0.0, 0.778, 0.545, 0.143, 0.3, 0.25, 0.333, 0.667, 0.0, 0.0, 0.187]</td>\n",
       "      <td>[0.0, 0.0, 0.0, 0.667, 0.0, 1.0, 0.5, 0.0, 0.0, 0.0, 0.0, 0.875, 0.857, 1.0, 0.75, 1.0, 1.0, 0.571, 0.0, 0.0, 0.933]</td>\n",
       "    </tr>\n",
       "    <tr>\n",
       "      <td>14</td>\n",
       "      <td>0.042100</td>\n",
       "      <td>0.062830</td>\n",
       "      <td>0.378882</td>\n",
       "      <td>0.228285</td>\n",
       "      <td>[0.0, 0.0, 0.0, 0.25, 0.0, 0.6, 0.25, 0.0, 0.0, 0.0, 0.0, 0.75, 0.778, 0.25, 0.429, 0.364, 0.0, 0.5, 0.0, 0.0, 0.624]</td>\n",
       "      <td>[0.0, 0.0, 0.0, 0.2, 0.0, 0.429, 0.143, 0.0, 0.0, 0.0, 0.0, 0.667, 0.636, 0.143, 0.3, 0.25, 0.0, 0.5, 0.0, 0.0, 0.52]</td>\n",
       "      <td>[0.0, 0.0, 0.0, 0.333, 0.0, 1.0, 1.0, 0.0, 0.0, 0.0, 0.0, 0.857, 1.0, 1.0, 0.75, 0.667, 0.0, 0.5, 0.0, 0.0, 0.78]</td>\n",
       "    </tr>\n",
       "    <tr>\n",
       "      <td>15</td>\n",
       "      <td>0.037300</td>\n",
       "      <td>0.062756</td>\n",
       "      <td>0.447205</td>\n",
       "      <td>0.269134</td>\n",
       "      <td>[0.0, 0.0, 0.0, 0.444, 0.0, 0.6, 0.25, 0.0, 0.286, 0.0, 0.0, 0.75, 0.8, 0.25, 0.308, 0.222, 0.5, 0.545, 0.0, 0.0, 0.696]</td>\n",
       "      <td>[0.0, 0.0, 0.0, 0.4, 0.0, 0.429, 0.143, 0.0, 0.167, 0.0, 0.0, 0.667, 0.727, 0.143, 0.2, 0.125, 0.333, 0.5, 0.0, 0.0, 0.627]</td>\n",
       "      <td>[0.0, 0.0, 0.0, 0.5, 0.0, 1.0, 1.0, 0.0, 1.0, 0.0, 0.0, 0.857, 0.889, 1.0, 0.667, 1.0, 1.0, 0.6, 0.0, 0.0, 0.783]</td>\n",
       "    </tr>\n",
       "    <tr>\n",
       "      <td>16</td>\n",
       "      <td>0.033100</td>\n",
       "      <td>0.064397</td>\n",
       "      <td>0.453416</td>\n",
       "      <td>0.300938</td>\n",
       "      <td>[0.0, 0.0, 0.0, 0.667, 0.0, 0.5, 0.462, 0.0, 0.545, 0.0, 0.0, 0.824, 0.778, 0.222, 0.429, 0.182, 0.5, 0.545, 0.0, 0.0, 0.667]</td>\n",
       "      <td>[0.0, 0.0, 0.0, 0.8, 0.0, 0.429, 0.429, 0.0, 0.5, 0.0, 0.0, 0.778, 0.636, 0.143, 0.3, 0.125, 0.333, 0.5, 0.0, 0.0, 0.56]</td>\n",
       "      <td>[0.0, 0.0, 0.0, 0.571, 0.0, 0.6, 0.5, 0.0, 0.6, 0.0, 0.0, 0.875, 1.0, 0.5, 0.75, 0.333, 1.0, 0.6, 0.0, 0.0, 0.824]</td>\n",
       "    </tr>\n",
       "    <tr>\n",
       "      <td>17</td>\n",
       "      <td>0.029600</td>\n",
       "      <td>0.064748</td>\n",
       "      <td>0.434783</td>\n",
       "      <td>0.311822</td>\n",
       "      <td>[0.0, 0.0, 0.0, 0.545, 0.0, 0.545, 0.364, 0.0, 0.444, 0.0, 0.0, 0.75, 0.9, 0.364, 0.526, 0.267, 0.4, 0.615, 0.0, 0.222, 0.605]</td>\n",
       "      <td>[0.0, 0.0, 0.0, 0.6, 0.0, 0.429, 0.286, 0.0, 0.333, 0.0, 0.0, 0.667, 0.818, 0.286, 0.5, 0.25, 0.333, 0.667, 0.0, 0.167, 0.48]</td>\n",
       "      <td>[0.0, 0.0, 0.0, 0.5, 0.0, 0.75, 0.5, 0.0, 0.667, 0.0, 0.0, 0.857, 1.0, 0.5, 0.556, 0.286, 0.5, 0.571, 0.0, 0.333, 0.818]</td>\n",
       "    </tr>\n",
       "    <tr>\n",
       "      <td>18</td>\n",
       "      <td>0.026700</td>\n",
       "      <td>0.063113</td>\n",
       "      <td>0.360248</td>\n",
       "      <td>0.266547</td>\n",
       "      <td>[0.0, 0.0, 0.0, 0.25, 0.0, 0.5, 0.462, 0.0, 0.545, 0.0, 0.0, 0.75, 0.8, 0.25, 0.286, 0.308, 0.4, 0.533, 0.0, 0.0, 0.514]</td>\n",
       "      <td>[0.0, 0.0, 0.0, 0.2, 0.0, 0.571, 0.429, 0.0, 0.5, 0.0, 0.0, 0.667, 0.727, 0.143, 0.2, 0.25, 0.333, 0.667, 0.0, 0.0, 0.373]</td>\n",
       "      <td>[0.0, 0.0, 0.0, 0.333, 0.0, 0.444, 0.5, 0.0, 0.6, 0.0, 0.0, 0.857, 0.889, 1.0, 0.5, 0.4, 0.5, 0.444, 0.0, 0.0, 0.824]</td>\n",
       "    </tr>\n",
       "  </tbody>\n",
       "</table><p>"
      ],
      "text/plain": [
       "<IPython.core.display.HTML object>"
      ]
     },
     "metadata": {},
     "output_type": "display_data"
    },
    {
     "data": {
      "application/vnd.jupyter.widget-view+json": {
       "model_id": "f978778da95347e19d2424914dd4707c",
       "version_major": 2,
       "version_minor": 0
      },
      "text/plain": [
       "Map:   0%|          | 0/204 [00:00<?, ? examples/s]"
      ]
     },
     "metadata": {},
     "output_type": "display_data"
    },
    {
     "data": {
      "text/html": [],
      "text/plain": [
       "<IPython.core.display.HTML object>"
      ]
     },
     "metadata": {},
     "output_type": "display_data"
    },
    {
     "name": "stdout",
     "output_type": "stream",
     "text": [
      "{'accuracy': 0.8188976377952756, 'macro_f1': 0.49475781536531976, 'class_f1': [0.0, 0.0, 0.0, 0.667, 0.0, 1.0, 0.444, 0.0, 0.0, 0.667, 1.0, 0.769, 0.87, 1.0, 0.769, 0.0, 0.8, 1.0, 0.0, 0.5, 0.904], 'class_recall': [0.0, 0.0, 0.0, 0.667, 0.0, 1.0, 0.333, 0.0, 0.0, 1.0, 1.0, 0.625, 0.833, 1.0, 0.625, 0.0, 0.667, 1.0, 0.0, 0.333, 0.971], 'class_precision': [0.0, 0.0, 0.0, 0.667, 0.0, 1.0, 0.667, 0.0, 0.0, 0.5, 1.0, 1.0, 0.909, 1.0, 1.0, 0.0, 1.0, 1.0, 0.0, 1.0, 0.846]}\n"
     ]
    }
   ],
   "source": [
    "result = Classifier_model.cross_validation_add_dataset(dataset, data_add_500, test_data, MAX_LEN, NUM_EPOCHS, LEARNING_RATE, BATCH_SIZE, PATIENCE, NUM_FOLDS, output_dir, project_name='21Classification_cross_validation')"
   ]
  },
  {
   "cell_type": "code",
   "execution_count": 31,
   "metadata": {},
   "outputs": [
    {
     "name": "stdout",
     "output_type": "stream",
     "text": [
      "Average accuracy: 0.756\n",
      "Average Macro f1: 0.469\n",
      "Average Class f1: [0.0, 0.133, 0.0, 0.583, 0.0, 0.857, 0.495, 0.0, 0.13, 0.66, 0.683, 0.799, 0.861, 0.762, 0.635, 0.519, 0.653, 0.861, 0.0, 0.36, 0.853]\n",
      "Average Class recall: [0.0, 0.1, 0.0, 0.513, 0.0, 0.975, 0.53, 0.0, 0.117, 1.0, 0.8, 0.71, 0.867, 0.653, 0.503, 0.554, 0.567, 0.971, 0.0, 0.297, 0.864]\n",
      "Average Class precision: [0.0, 0.2, 0.0, 0.717, 0.0, 0.774, 0.545, 0.0, 0.15, 0.5, 0.62, 0.921, 0.86, 0.95, 0.877, 0.493, 0.8, 0.789, 0.0, 0.5, 0.846]\n"
     ]
    }
   ],
   "source": [
    "# 重みありの場合の結果（cv=5）\n",
    "average_accuracy = round(sum(d['accuracy'] for d in result)/len(result), 3)\n",
    "average_macro_f1 = round(sum(d['macro_f1'] for d in result)/len(result), 3)\n",
    "# クラスごとの平均値を計算\n",
    "average_class_f1 = [round(sum(d['class_f1'][i] for d in result) / len(result), 3) for i in range(len(result[0]['class_f1']))]\n",
    "average_class_recall = [round(sum(d['class_recall'][i] for d in result) / len(result), 3) for i in range(len(result[0]['class_recall']))]\n",
    "average_class_precision = [round(sum(d['class_precision'][i] for d in result) / len(result), 3) for i in range(len(result[0]['class_precision']))]\n",
    "print(\"Average accuracy:\", average_accuracy)\n",
    "print(\"Average Macro f1:\", average_macro_f1)\n",
    "print(\"Average Class f1:\", average_class_f1)\n",
    "print(\"Average Class recall:\", average_class_recall)\n",
    "print(\"Average Class precision:\", average_class_precision)"
   ]
  },
  {
   "cell_type": "code",
   "execution_count": 18,
   "metadata": {},
   "outputs": [
    {
     "name": "stdout",
     "output_type": "stream",
     "text": [
      "Average accuracy: 0.642\n",
      "Average Macro f1: 0.341\n",
      "Average Class f1: [0.0, 0.0, 0.0, 0.405, 0.0, 0.704, 0.652, 0.0, 0.2, 0.467, 0.0, 0.919, 0.867, 0.548, 0.233, 0.596, 0.0, 0.863, 0.0, 0.08, 0.626]\n",
      "Average Class recall: [0.0, 0.0, 0.0, 0.363, 0.0, 0.73, 0.843, 0.0, 0.15, 0.6, 0.0, 0.908, 1.0, 0.533, 0.213, 0.633, 0.0, 0.831, 0.0, 0.067, 0.603]\n",
      "Average Class precision: [0.0, 0.0, 0.0, 0.467, 0.0, 0.768, 0.55, 0.0, 0.3, 0.4, 0.0, 0.933, 0.768, 0.603, 0.267, 0.592, 0.0, 0.917, 0.0, 0.1, 0.651]\n"
     ]
    }
   ],
   "source": [
    "# 重みありの場合の結果（cv=5）\n",
    "average_accuracy = round(sum(d['accuracy'] for d in result)/len(result), 3)\n",
    "average_macro_f1 = round(sum(d['macro_f1'] for d in result)/len(result), 3)\n",
    "# クラスごとの平均値を計算\n",
    "average_class_f1 = [round(sum(d['class_f1'][i] for d in result) / len(result), 3) for i in range(len(result[0]['class_f1']))]\n",
    "average_class_recall = [round(sum(d['class_recall'][i] for d in result) / len(result), 3) for i in range(len(result[0]['class_recall']))]\n",
    "average_class_precision = [round(sum(d['class_precision'][i] for d in result) / len(result), 3) for i in range(len(result[0]['class_precision']))]\n",
    "print(\"Average accuracy:\", average_accuracy)\n",
    "print(\"Average Macro f1:\", average_macro_f1)\n",
    "print(\"Average Class f1:\", average_class_f1)\n",
    "print(\"Average Class recall:\", average_class_recall)\n",
    "print(\"Average Class precision:\", average_class_precision)"
   ]
  },
  {
   "cell_type": "code",
   "execution_count": 17,
   "metadata": {},
   "outputs": [
    {
     "name": "stdout",
     "output_type": "stream",
     "text": [
      "Average accuracy: 0.636\n",
      "Average Macro f1: 0.367\n",
      "Average Class f1: [0.0, 0.0, 0.0, 0.423, 0.0, 0.593, 0.618, 0.0, 0.35, 0.54, 0.0, 0.969, 0.874, 0.423, 0.45, 0.592, 0.0, 0.913, 0.0, 0.204, 0.748]\n",
      "Average Class recall: [0.0, 0.0, 0.0, 0.413, 0.0, 0.663, 0.893, 0.0, 0.27, 1.0, 0.0, 0.96, 0.973, 0.329, 0.42, 0.576, 0.0, 0.841, 0.0, 0.147, 0.713]\n",
      "Average Class precision: [0.0, 0.0, 0.0, 0.464, 0.0, 0.54, 0.49, 0.0, 0.533, 0.39, 0.0, 0.983, 0.801, 0.667, 0.5, 0.611, 0.0, 1.0, 0.0, 0.4, 0.811]\n"
     ]
    }
   ],
   "source": [
    "# 重みありの場合の結果（cv=5）\n",
    "average_accuracy = round(sum(d['accuracy'] for d in result)/len(result), 3)\n",
    "average_macro_f1 = round(sum(d['macro_f1'] for d in result)/len(result), 3)\n",
    "# クラスごとの平均値を計算\n",
    "average_class_f1 = [round(sum(d['class_f1'][i] for d in result) / len(result), 3) for i in range(len(result[0]['class_f1']))]\n",
    "average_class_recall = [round(sum(d['class_recall'][i] for d in result) / len(result), 3) for i in range(len(result[0]['class_recall']))]\n",
    "average_class_precision = [round(sum(d['class_precision'][i] for d in result) / len(result), 3) for i in range(len(result[0]['class_precision']))]\n",
    "print(\"Average accuracy:\", average_accuracy)\n",
    "print(\"Average Macro f1:\", average_macro_f1)\n",
    "print(\"Average Class f1:\", average_class_f1)\n",
    "print(\"Average Class recall:\", average_class_recall)\n",
    "print(\"Average Class precision:\", average_class_precision)"
   ]
  },
  {
   "cell_type": "markdown",
   "metadata": {},
   "source": [
    "### Majority Baseline"
   ]
  },
  {
   "cell_type": "code",
   "execution_count": 12,
   "metadata": {},
   "outputs": [
    {
     "name": "stdout",
     "output_type": "stream",
     "text": [
      "[  5  10   7  28   7  39  32   1  26   7  15  46  50  38  48  45  18  29\n",
      "  33 374]\n"
     ]
    }
   ],
   "source": [
    "print(np.array(dataset['labels']).sum(axis=0))"
   ]
  },
  {
   "cell_type": "code",
   "execution_count": 13,
   "metadata": {},
   "outputs": [],
   "source": [
    "# テストサイズ×マルチラベル数の二次元リスト\n",
    "majority_pred = [[0 for i in range(20)] for j in range(len(test_data['labels']))]\n",
    "for i in range(len(test_data['labels'])):\n",
    "    majority_pred[i][-1] = 1"
   ]
  },
  {
   "cell_type": "code",
   "execution_count": 15,
   "metadata": {},
   "outputs": [],
   "source": [
    "from sklearn.metrics import accuracy_score, f1_score, precision_score, recall_score"
   ]
  },
  {
   "cell_type": "code",
   "execution_count": 16,
   "metadata": {},
   "outputs": [
    {
     "name": "stdout",
     "output_type": "stream",
     "text": [
      "Average accuracy: 0.46\n",
      "Average Macro f1: 0.032\n",
      "Average Class f1: [0.0, 0.0, 0.0, 0.0, 0.0, 0.0, 0.0, 0.0, 0.0, 0.0, 0.0, 0.0, 0.0, 0.0, 0.0, 0.0, 0.0, 0.0, 0.0, 0.635]\n",
      "Average Class recall: [0.0, 0.0, 0.0, 0.0, 0.0, 0.0, 0.0, 0.0, 0.0, 0.0, 0.0, 0.0, 0.0, 0.0, 0.0, 0.0, 0.0, 0.0, 0.0, 1.0]\n",
      "Average Class precision: [0.0, 0.0, 0.0, 0.0, 0.0, 0.0, 0.0, 0.0, 0.0, 0.0, 0.0, 0.0, 0.0, 0.0, 0.0, 0.0, 0.0, 0.0, 0.0, 0.465]\n"
     ]
    }
   ],
   "source": [
    "# accuracyを計算\n",
    "accuracy = round(accuracy_score(y_true=test_data['labels'], y_pred=majority_pred), 3)\n",
    "# macro f1を計算\n",
    "macro_f1 = round(f1_score(y_true=test_data['labels'], y_pred=majority_pred, average='macro', zero_division=0), 3)\n",
    "# クラス毎のF1値を計算\n",
    "class_f1 = [round(score, 3) for score in f1_score(y_true=test_data['labels'], y_pred=majority_pred, average=None, zero_division=0)]\n",
    "# クラス毎のrecallを計算\n",
    "class_recall = [round(score, 3) for score in recall_score(y_true=test_data['labels'], y_pred=majority_pred, average=None, zero_division=0)]\n",
    "# クラス毎のprecisionを計算\n",
    "class_precision = [round(score, 3) for score in precision_score(y_true=test_data['labels'], y_pred=majority_pred, average=None, zero_division=0)]\n",
    "print(\"Average accuracy:\", accuracy)\n",
    "print(\"Average Macro f1:\", macro_f1)\n",
    "print(\"Average Class f1:\", class_f1)\n",
    "print(\"Average Class recall:\", class_recall)\n",
    "print(\"Average Class precision:\", class_precision)"
   ]
  },
  {
   "cell_type": "code",
   "execution_count": null,
   "metadata": {},
   "outputs": [],
   "source": []
  }
 ],
 "metadata": {
  "kernelspec": {
   "display_name": ".venv",
   "language": "python",
   "name": "python3"
  },
  "language_info": {
   "codemirror_mode": {
    "name": "ipython",
    "version": 3
   },
   "file_extension": ".py",
   "mimetype": "text/x-python",
   "name": "python",
   "nbconvert_exporter": "python",
   "pygments_lexer": "ipython3",
   "version": "3.11.5"
  }
 },
 "nbformat": 4,
 "nbformat_minor": 2
}

{
 "cells": [
  {
   "cell_type": "code",
   "execution_count": 1,
   "metadata": {},
   "outputs": [
    {
     "name": "stdout",
     "output_type": "stream",
     "text": [
      "/home/is/akiyoshi-n/my-project\n"
     ]
    }
   ],
   "source": [
    "cd .."
   ]
  },
  {
   "cell_type": "code",
   "execution_count": 2,
   "metadata": {},
   "outputs": [],
   "source": [
    "import os\n",
    "# 使用するGPUを指定. この環境変数の場所は，pytorchをimportする前に入れる\n",
    "os.environ[\"CUDA_VISIBLE_DEVICES\"] = \"0\"\n",
    "from pathlib import Path\n",
    "from datetime import datetime\n",
    "from src.my_project.dataset import load_dataset_2class_classification,load_dataset_4class_Multi_classification, split_multilabel_data, split_data_by_index, load_dataset_3class_Multi_classification, split_same_texts_data\n",
    "from src.my_project.train_v2 import ActivityPrediction\n",
    "from sklearn.model_selection import train_test_split\n",
    "from src.my_project.dataset import load_multiclass_dataset\n",
    "import wandb\n",
    "import numpy as np"
   ]
  },
  {
   "cell_type": "code",
   "execution_count": 3,
   "metadata": {},
   "outputs": [],
   "source": [
    "DATASET_PATH = Path('/home/is/akiyoshi-n/my-project/data')\n",
    "# 本日の日付\n",
    "timestamp = datetime.now().strftime(\"%Y-%m-%d\")\n",
    "# 出力先ディレクトリ\n",
    "output_dir = Path('/home/is/akiyoshi-n/my-project/outputs/{}'.format(timestamp))"
   ]
  },
  {
   "cell_type": "code",
   "execution_count": 4,
   "metadata": {},
   "outputs": [],
   "source": [
    "# 最大トークン数\n",
    "MAX_LEN = 128\n",
    "# バッチサイズ\n",
    "BATCH_SIZE = 16\n",
    "# エポック数\n",
    "NUM_EPOCHS = 100\n",
    "# 学習率\n",
    "LEARNING_RATE = 2e-5\n",
    "# Cross Validation時のFold数\n",
    "NUM_FOLDS = 3\n",
    "# 早期停止のための忍耐値\n",
    "PATIENCE = 5\n",
    "# 乱数シード\n",
    "SEED = 2023\n",
    "# クラス数\n",
    "NUM_LABELS = 4\n",
    "# 閾値\n",
    "THRESH = 0.5"
   ]
  },
  {
   "cell_type": "code",
   "execution_count": 10,
   "metadata": {},
   "outputs": [],
   "source": [
    "# データの読み込み\n",
    "single_data = load_dataset_2class_classification(f\"{DATASET_PATH}/act_classification_final.xlsx\")"
   ]
  },
  {
   "cell_type": "code",
   "execution_count": 6,
   "metadata": {},
   "outputs": [],
   "source": [
    "# 訓練データと評価データを辞書型で抽出\n",
    "single_train_dataset = {\n",
    "    'texts': [single_data['texts'][i] for i in range(900)],\n",
    "    'labels': [single_data['labels'][i] for i in range(900)]\n",
    "}\n",
    "single_eval_dataset = {\n",
    "    'texts': [single_data['texts'][i] for i in range(900, 1100)],\n",
    "    'labels': [single_data['labels'][i] for i in range(900, 1100)]\n",
    "}"
   ]
  },
  {
   "cell_type": "code",
   "execution_count": 7,
   "metadata": {},
   "outputs": [],
   "source": [
    "# データの読み込み\n",
    "multi_data, class_name = load_dataset_4class_Multi_classification(f\"{DATASET_PATH}/act_classification_final.xlsx\")"
   ]
  },
  {
   "cell_type": "code",
   "execution_count": 8,
   "metadata": {},
   "outputs": [],
   "source": [
    "# 訓練データと評価データを辞書型で抽出\n",
    "multi_train_dataset = {\n",
    "    'texts': [multi_data['texts'][i] for i in range(900)],\n",
    "    'labels': [multi_data['labels'][i] for i in range(900)]\n",
    "}\n",
    "multi_eval_dataset = {\n",
    "    'texts': [multi_data['texts'][i] for i in range(900, 1100)],\n",
    "    'labels': [multi_data['labels'][i] for i in range(900, 1100)]\n",
    "}"
   ]
  },
  {
   "cell_type": "code",
   "execution_count": 10,
   "metadata": {},
   "outputs": [],
   "source": [
    "# 東北大BERT-v3\n",
    "MODEL_NAME = 'cl-tohoku/bert-base-japanese-v3'\n",
    "Classifier_model = ActivityPrediction(model_name = MODEL_NAME, seed=SEED, num_labels=4)"
   ]
  },
  {
   "cell_type": "code",
   "execution_count": null,
   "metadata": {},
   "outputs": [],
   "source": [
    "prediction = Classifier_model.train_and_predict(single_train_dataset, single_eval_dataset, multi_train_dataset, multi_eval_dataset, single_eval_dataset, multi_eval_dataset, MAX_LEN, NUM_EPOCHS, LEARNING_RATE, BATCH_SIZE, PATIENCE, output_dir, project_name='2step')"
   ]
  },
  {
   "cell_type": "code",
   "execution_count": null,
   "metadata": {},
   "outputs": [],
   "source": [
    "from sklearn.metrics import accuracy_score, f1_score\n",
    "\n",
    "def calculate_accuracy_f1(y_true, y_pred):\n",
    "    # 各サンプルに対してAccuracyを計算\n",
    "    accuracy = accuracy_score(y_true, y_pred)\n",
    "\n",
    "    # 各サンプルに対してF1値を計算（マルチクラスの場合は'average'パラメータを適切に設定する）\n",
    "    f1 = f1_score(y_true, y_pred, average='macro')\n",
    "\n",
    "    return accuracy, f1"
   ]
  },
  {
   "cell_type": "code",
   "execution_count": null,
   "metadata": {},
   "outputs": [],
   "source": [
    "a, b = calculate_accuracy_f1(multi_eval_dataset['labels'], prediction)"
   ]
  },
  {
   "cell_type": "code",
   "execution_count": null,
   "metadata": {},
   "outputs": [],
   "source": [
    "print(a)\n",
    "print(b)"
   ]
  },
  {
   "cell_type": "markdown",
   "metadata": {},
   "source": [
    "### Cross validation"
   ]
  },
  {
   "cell_type": "code",
   "execution_count": 5,
   "metadata": {},
   "outputs": [],
   "source": [
    "single_raw_data = load_dataset_2class_classification(f\"{DATASET_PATH}/act_classification_final_ChatGPT4.xlsx\")"
   ]
  },
  {
   "cell_type": "code",
   "execution_count": 6,
   "metadata": {},
   "outputs": [],
   "source": [
    "# データの読み込み\n",
    "multi_data, class_name = load_dataset_4class_Multi_classification(f\"{DATASET_PATH}/act_classification_final_ChatGPT4.xlsx\")"
   ]
  },
  {
   "cell_type": "code",
   "execution_count": 7,
   "metadata": {},
   "outputs": [],
   "source": [
    "# testデータと訓練に使用するデータに分割\n",
    "multi_data, multi_test_data = split_multilabel_data(data=multi_data, test_size=0.1, SEED=SEED)"
   ]
  },
  {
   "cell_type": "code",
   "execution_count": 8,
   "metadata": {},
   "outputs": [
    {
     "name": "stdout",
     "output_type": "stream",
     "text": [
      "[110 130 322 550]\n",
      "[12 15 36 61]\n"
     ]
    }
   ],
   "source": [
    "dataset_labels_np = np.array(multi_data['labels'])\n",
    "test_data_labels_np = np.array(multi_test_data['labels'])\n",
    "print(dataset_labels_np.sum(axis=0))\n",
    "print(test_data_labels_np.sum(axis=0))"
   ]
  },
  {
   "cell_type": "code",
   "execution_count": 9,
   "metadata": {},
   "outputs": [],
   "source": [
    "single_data = split_same_texts_data(multi_data, single_raw_data)\n",
    "single_test_data = split_same_texts_data(multi_test_data, single_raw_data)"
   ]
  },
  {
   "cell_type": "code",
   "execution_count": 10,
   "metadata": {},
   "outputs": [],
   "source": [
    "# 東北大BERT-v3\n",
    "MODEL_NAME = 'cl-tohoku/bert-base-japanese-v3'\n",
    "Classifier_model = ActivityPrediction(model_name = MODEL_NAME, seed=SEED, num_labels=4)"
   ]
  },
  {
   "cell_type": "code",
   "execution_count": 11,
   "metadata": {},
   "outputs": [
    {
     "name": "stdout",
     "output_type": "stream",
     "text": [
      "-----------------Fold: 1-----------------\n"
     ]
    },
    {
     "name": "stderr",
     "output_type": "stream",
     "text": [
      "Some weights of BertForSequenceClassification were not initialized from the model checkpoint at cl-tohoku/bert-base-japanese-v3 and are newly initialized: ['classifier.weight', 'classifier.bias']\n",
      "You should probably TRAIN this model on a down-stream task to be able to use it for predictions and inference.\n",
      "Parameter 'fn_kwargs'={'tokenizer': BertJapaneseTokenizer(name_or_path='cl-tohoku/bert-base-japanese-v3', vocab_size=32768, model_max_length=512, is_fast=False, padding_side='right', truncation_side='right', special_tokens={'unk_token': '[UNK]', 'sep_token': '[SEP]', 'pad_token': '[PAD]', 'cls_token': '[CLS]', 'mask_token': '[MASK]'}, clean_up_tokenization_spaces=True),  added_tokens_decoder={\n",
      "\t0: AddedToken(\"[PAD]\", rstrip=False, lstrip=False, single_word=False, normalized=False, special=True),\n",
      "\t1: AddedToken(\"[UNK]\", rstrip=False, lstrip=False, single_word=False, normalized=False, special=True),\n",
      "\t2: AddedToken(\"[CLS]\", rstrip=False, lstrip=False, single_word=False, normalized=False, special=True),\n",
      "\t3: AddedToken(\"[SEP]\", rstrip=False, lstrip=False, single_word=False, normalized=False, special=True),\n",
      "\t4: AddedToken(\"[MASK]\", rstrip=False, lstrip=False, single_word=False, normalized=False, special=True),\n",
      "}, 'max_len': 128} of the transform datasets.arrow_dataset.Dataset._map_single couldn't be hashed properly, a random hash was used instead. Make sure your transforms and parameters are serializable with pickle or dill for the dataset fingerprinting and caching to work. If you reuse this transform, the caching mechanism will consider it to be different from the previous calls and recompute everything. This warning is only showed once. Subsequent hashing failures won't be showed.\n"
     ]
    },
    {
     "data": {
      "application/vnd.jupyter.widget-view+json": {
       "model_id": "1dd545435fd342b387fdf5db4f22a0e7",
       "version_major": 2,
       "version_minor": 0
      },
      "text/plain": [
       "Map:   0%|          | 0/719 [00:00<?, ? examples/s]"
      ]
     },
     "metadata": {},
     "output_type": "display_data"
    },
    {
     "data": {
      "application/vnd.jupyter.widget-view+json": {
       "model_id": "b4ebcd676efd4d8ea2678ecbaa5674e4",
       "version_major": 2,
       "version_minor": 0
      },
      "text/plain": [
       "Map:   0%|          | 0/360 [00:00<?, ? examples/s]"
      ]
     },
     "metadata": {},
     "output_type": "display_data"
    },
    {
     "data": {
      "text/html": [
       "\n",
       "    <div>\n",
       "      \n",
       "      <progress value='360' max='4500' style='width:300px; height:20px; vertical-align: middle;'></progress>\n",
       "      [ 360/4500 01:28 < 16:59, 4.06 it/s, Epoch 8/100]\n",
       "    </div>\n",
       "    <table border=\"1\" class=\"dataframe\">\n",
       "  <thead>\n",
       " <tr style=\"text-align: left;\">\n",
       "      <th>Epoch</th>\n",
       "      <th>Training Loss</th>\n",
       "      <th>Validation Loss</th>\n",
       "      <th>Accuracy</th>\n",
       "      <th>F1</th>\n",
       "    </tr>\n",
       "  </thead>\n",
       "  <tbody>\n",
       "    <tr>\n",
       "      <td>1</td>\n",
       "      <td>0.696700</td>\n",
       "      <td>0.681843</td>\n",
       "      <td>0.583333</td>\n",
       "      <td>0.569735</td>\n",
       "    </tr>\n",
       "    <tr>\n",
       "      <td>2</td>\n",
       "      <td>0.626900</td>\n",
       "      <td>0.598404</td>\n",
       "      <td>0.675000</td>\n",
       "      <td>0.674696</td>\n",
       "    </tr>\n",
       "    <tr>\n",
       "      <td>3</td>\n",
       "      <td>0.535200</td>\n",
       "      <td>0.562506</td>\n",
       "      <td>0.697222</td>\n",
       "      <td>0.693243</td>\n",
       "    </tr>\n",
       "    <tr>\n",
       "      <td>4</td>\n",
       "      <td>0.371000</td>\n",
       "      <td>0.604345</td>\n",
       "      <td>0.708333</td>\n",
       "      <td>0.707681</td>\n",
       "    </tr>\n",
       "    <tr>\n",
       "      <td>5</td>\n",
       "      <td>0.248200</td>\n",
       "      <td>0.709756</td>\n",
       "      <td>0.719444</td>\n",
       "      <td>0.711701</td>\n",
       "    </tr>\n",
       "    <tr>\n",
       "      <td>6</td>\n",
       "      <td>0.136200</td>\n",
       "      <td>0.944571</td>\n",
       "      <td>0.708333</td>\n",
       "      <td>0.708313</td>\n",
       "    </tr>\n",
       "    <tr>\n",
       "      <td>7</td>\n",
       "      <td>0.043900</td>\n",
       "      <td>1.341443</td>\n",
       "      <td>0.702778</td>\n",
       "      <td>0.693992</td>\n",
       "    </tr>\n",
       "    <tr>\n",
       "      <td>8</td>\n",
       "      <td>0.032200</td>\n",
       "      <td>1.500210</td>\n",
       "      <td>0.700000</td>\n",
       "      <td>0.692561</td>\n",
       "    </tr>\n",
       "  </tbody>\n",
       "</table><p>"
      ],
      "text/plain": [
       "<IPython.core.display.HTML object>"
      ]
     },
     "metadata": {},
     "output_type": "display_data"
    },
    {
     "name": "stderr",
     "output_type": "stream",
     "text": [
      "Some weights of BertForSequenceClassification were not initialized from the model checkpoint at cl-tohoku/bert-base-japanese-v3 and are newly initialized: ['classifier.weight', 'classifier.bias']\n",
      "You should probably TRAIN this model on a down-stream task to be able to use it for predictions and inference.\n"
     ]
    },
    {
     "data": {
      "application/vnd.jupyter.widget-view+json": {
       "model_id": "609f98b93311460a8a9f73ac29662e26",
       "version_major": 2,
       "version_minor": 0
      },
      "text/plain": [
       "Map:   0%|          | 0/352 [00:00<?, ? examples/s]"
      ]
     },
     "metadata": {},
     "output_type": "display_data"
    },
    {
     "data": {
      "application/vnd.jupyter.widget-view+json": {
       "model_id": "6911c5e4bb2145199e8595a1d3858d61",
       "version_major": 2,
       "version_minor": 0
      },
      "text/plain": [
       "Map:   0%|          | 0/177 [00:00<?, ? examples/s]"
      ]
     },
     "metadata": {},
     "output_type": "display_data"
    },
    {
     "name": "stderr",
     "output_type": "stream",
     "text": [
      "wandb: WARNING Source type is set to 'repo' but some required information is missing from the environment. A job will not be created from this run. See https://docs.wandb.ai/guides/launch/create-job\n"
     ]
    },
    {
     "data": {
      "application/vnd.jupyter.widget-view+json": {
       "model_id": "c12a010178144d169f8537479c411c54",
       "version_major": 2,
       "version_minor": 0
      },
      "text/plain": [
       "VBox(children=(Label(value='Waiting for wandb.init()...\\r'), FloatProgress(value=0.01111244981487592, max=1.0)…"
      ]
     },
     "metadata": {},
     "output_type": "display_data"
    },
    {
     "data": {
      "text/html": [
       "\n",
       "    <div>\n",
       "      \n",
       "      <progress value='264' max='2200' style='width:300px; height:20px; vertical-align: middle;'></progress>\n",
       "      [ 264/2200 01:07 < 08:22, 3.86 it/s, Epoch 12/100]\n",
       "    </div>\n",
       "    <table border=\"1\" class=\"dataframe\">\n",
       "  <thead>\n",
       " <tr style=\"text-align: left;\">\n",
       "      <th>Epoch</th>\n",
       "      <th>Training Loss</th>\n",
       "      <th>Validation Loss</th>\n",
       "      <th>Accuracy</th>\n",
       "      <th>Macro F1</th>\n",
       "      <th>Class F1</th>\n",
       "      <th>Class Recall</th>\n",
       "      <th>Class Precision</th>\n",
       "    </tr>\n",
       "  </thead>\n",
       "  <tbody>\n",
       "    <tr>\n",
       "      <td>1</td>\n",
       "      <td>0.667300</td>\n",
       "      <td>0.598610</td>\n",
       "      <td>0.073446</td>\n",
       "      <td>0.140465</td>\n",
       "      <td>[0.054, 0.254, 0.114]</td>\n",
       "      <td>[0.028, 0.209, 0.065]</td>\n",
       "      <td>[1.0, 0.321, 0.438]</td>\n",
       "    </tr>\n",
       "    <tr>\n",
       "      <td>2</td>\n",
       "      <td>0.607000</td>\n",
       "      <td>0.550934</td>\n",
       "      <td>0.242938</td>\n",
       "      <td>0.215871</td>\n",
       "      <td>[0.105, 0.045, 0.497]</td>\n",
       "      <td>[0.056, 0.023, 0.374]</td>\n",
       "      <td>[1.0, 1.0, 0.741]</td>\n",
       "    </tr>\n",
       "    <tr>\n",
       "      <td>3</td>\n",
       "      <td>0.546200</td>\n",
       "      <td>0.506509</td>\n",
       "      <td>0.536723</td>\n",
       "      <td>0.548555</td>\n",
       "      <td>[0.417, 0.493, 0.736]</td>\n",
       "      <td>[0.278, 0.419, 0.729]</td>\n",
       "      <td>[0.833, 0.6, 0.743]</td>\n",
       "    </tr>\n",
       "    <tr>\n",
       "      <td>4</td>\n",
       "      <td>0.453000</td>\n",
       "      <td>0.437815</td>\n",
       "      <td>0.615819</td>\n",
       "      <td>0.661376</td>\n",
       "      <td>[0.603, 0.571, 0.81]</td>\n",
       "      <td>[0.528, 0.558, 0.794]</td>\n",
       "      <td>[0.704, 0.585, 0.825]</td>\n",
       "    </tr>\n",
       "    <tr>\n",
       "      <td>5</td>\n",
       "      <td>0.325300</td>\n",
       "      <td>0.400464</td>\n",
       "      <td>0.677966</td>\n",
       "      <td>0.702675</td>\n",
       "      <td>[0.667, 0.617, 0.824]</td>\n",
       "      <td>[0.639, 0.581, 0.832]</td>\n",
       "      <td>[0.697, 0.658, 0.817]</td>\n",
       "    </tr>\n",
       "    <tr>\n",
       "      <td>6</td>\n",
       "      <td>0.227000</td>\n",
       "      <td>0.397577</td>\n",
       "      <td>0.689266</td>\n",
       "      <td>0.706779</td>\n",
       "      <td>[0.7, 0.583, 0.837]</td>\n",
       "      <td>[0.583, 0.488, 0.888]</td>\n",
       "      <td>[0.875, 0.724, 0.792]</td>\n",
       "    </tr>\n",
       "    <tr>\n",
       "      <td>7</td>\n",
       "      <td>0.148100</td>\n",
       "      <td>0.378121</td>\n",
       "      <td>0.728814</td>\n",
       "      <td>0.740808</td>\n",
       "      <td>[0.677, 0.721, 0.824]</td>\n",
       "      <td>[0.583, 0.721, 0.832]</td>\n",
       "      <td>[0.808, 0.721, 0.817]</td>\n",
       "    </tr>\n",
       "    <tr>\n",
       "      <td>8</td>\n",
       "      <td>0.088900</td>\n",
       "      <td>0.419205</td>\n",
       "      <td>0.734463</td>\n",
       "      <td>0.763202</td>\n",
       "      <td>[0.783, 0.674, 0.833]</td>\n",
       "      <td>[0.75, 0.674, 0.86]</td>\n",
       "      <td>[0.818, 0.674, 0.807]</td>\n",
       "    </tr>\n",
       "    <tr>\n",
       "      <td>9</td>\n",
       "      <td>0.062000</td>\n",
       "      <td>0.433702</td>\n",
       "      <td>0.728814</td>\n",
       "      <td>0.762061</td>\n",
       "      <td>[0.719, 0.745, 0.822]</td>\n",
       "      <td>[0.639, 0.884, 0.757]</td>\n",
       "      <td>[0.821, 0.644, 0.9]</td>\n",
       "    </tr>\n",
       "    <tr>\n",
       "      <td>10</td>\n",
       "      <td>0.055700</td>\n",
       "      <td>0.450492</td>\n",
       "      <td>0.666667</td>\n",
       "      <td>0.737413</td>\n",
       "      <td>[0.72, 0.696, 0.796]</td>\n",
       "      <td>[0.75, 0.907, 0.71]</td>\n",
       "      <td>[0.692, 0.565, 0.905]</td>\n",
       "    </tr>\n",
       "    <tr>\n",
       "      <td>11</td>\n",
       "      <td>0.046200</td>\n",
       "      <td>0.421410</td>\n",
       "      <td>0.745763</td>\n",
       "      <td>0.783497</td>\n",
       "      <td>[0.789, 0.699, 0.862]</td>\n",
       "      <td>[0.833, 0.674, 0.907]</td>\n",
       "      <td>[0.75, 0.725, 0.822]</td>\n",
       "    </tr>\n",
       "    <tr>\n",
       "      <td>12</td>\n",
       "      <td>0.029000</td>\n",
       "      <td>0.408951</td>\n",
       "      <td>0.740113</td>\n",
       "      <td>0.790105</td>\n",
       "      <td>[0.759, 0.773, 0.838]</td>\n",
       "      <td>[0.833, 0.791, 0.822]</td>\n",
       "      <td>[0.698, 0.756, 0.854]</td>\n",
       "    </tr>\n",
       "  </tbody>\n",
       "</table><p>"
      ],
      "text/plain": [
       "<IPython.core.display.HTML object>"
      ]
     },
     "metadata": {},
     "output_type": "display_data"
    },
    {
     "data": {
      "application/vnd.jupyter.widget-view+json": {
       "model_id": "9ed8d6f24e824a39ba87b3342a7dbab9",
       "version_major": 2,
       "version_minor": 0
      },
      "text/plain": [
       "Map:   0%|          | 0/121 [00:00<?, ? examples/s]"
      ]
     },
     "metadata": {},
     "output_type": "display_data"
    },
    {
     "data": {
      "text/html": [],
      "text/plain": [
       "<IPython.core.display.HTML object>"
      ]
     },
     "metadata": {},
     "output_type": "display_data"
    },
    {
     "data": {
      "application/vnd.jupyter.widget-view+json": {
       "model_id": "73e05dcef10646e3a4ca5c48a14a9102",
       "version_major": 2,
       "version_minor": 0
      },
      "text/plain": [
       "Map:   0%|          | 0/61 [00:00<?, ? examples/s]"
      ]
     },
     "metadata": {},
     "output_type": "display_data"
    },
    {
     "data": {
      "text/html": [],
      "text/plain": [
       "<IPython.core.display.HTML object>"
      ]
     },
     "metadata": {},
     "output_type": "display_data"
    },
    {
     "name": "stdout",
     "output_type": "stream",
     "text": [
      "{'accuracy': 0.5583333333333333, 'macro_f1': 0.4798538884117304, 'class_f1': [0.353, 0.357, 0.532, 0.678], 'class_recall': [0.25, 0.333, 0.6, 0.672], 'class_precision': [0.6, 0.385, 0.477, 0.683]}\n",
      "-----------------Fold: 2-----------------\n"
     ]
    },
    {
     "name": "stderr",
     "output_type": "stream",
     "text": [
      "Some weights of BertForSequenceClassification were not initialized from the model checkpoint at cl-tohoku/bert-base-japanese-v3 and are newly initialized: ['classifier.weight', 'classifier.bias']\n",
      "You should probably TRAIN this model on a down-stream task to be able to use it for predictions and inference.\n"
     ]
    },
    {
     "data": {
      "application/vnd.jupyter.widget-view+json": {
       "model_id": "2d8ebcb155ba488290f58cb50f94323c",
       "version_major": 2,
       "version_minor": 0
      },
      "text/plain": [
       "Map:   0%|          | 0/719 [00:00<?, ? examples/s]"
      ]
     },
     "metadata": {},
     "output_type": "display_data"
    },
    {
     "data": {
      "application/vnd.jupyter.widget-view+json": {
       "model_id": "33fbd2f38ee14928af6cb85c7625bcae",
       "version_major": 2,
       "version_minor": 0
      },
      "text/plain": [
       "Map:   0%|          | 0/360 [00:00<?, ? examples/s]"
      ]
     },
     "metadata": {},
     "output_type": "display_data"
    },
    {
     "name": "stderr",
     "output_type": "stream",
     "text": [
      "wandb: WARNING Source type is set to 'repo' but some required information is missing from the environment. A job will not be created from this run. See https://docs.wandb.ai/guides/launch/create-job\n"
     ]
    },
    {
     "data": {
      "application/vnd.jupyter.widget-view+json": {
       "model_id": "01b223f513df481cb7bd8a61715040f7",
       "version_major": 2,
       "version_minor": 0
      },
      "text/plain": [
       "VBox(children=(Label(value='Waiting for wandb.init()...\\r'), FloatProgress(value=0.011112283418575923, max=1.0…"
      ]
     },
     "metadata": {},
     "output_type": "display_data"
    },
    {
     "data": {
      "text/html": [
       "\n",
       "    <div>\n",
       "      \n",
       "      <progress value='360' max='4500' style='width:300px; height:20px; vertical-align: middle;'></progress>\n",
       "      [ 360/4500 01:22 < 15:52, 4.35 it/s, Epoch 8/100]\n",
       "    </div>\n",
       "    <table border=\"1\" class=\"dataframe\">\n",
       "  <thead>\n",
       " <tr style=\"text-align: left;\">\n",
       "      <th>Epoch</th>\n",
       "      <th>Training Loss</th>\n",
       "      <th>Validation Loss</th>\n",
       "      <th>Accuracy</th>\n",
       "      <th>F1</th>\n",
       "    </tr>\n",
       "  </thead>\n",
       "  <tbody>\n",
       "    <tr>\n",
       "      <td>1</td>\n",
       "      <td>0.692500</td>\n",
       "      <td>0.657619</td>\n",
       "      <td>0.630556</td>\n",
       "      <td>0.612844</td>\n",
       "    </tr>\n",
       "    <tr>\n",
       "      <td>2</td>\n",
       "      <td>0.611500</td>\n",
       "      <td>0.597303</td>\n",
       "      <td>0.677778</td>\n",
       "      <td>0.677529</td>\n",
       "    </tr>\n",
       "    <tr>\n",
       "      <td>3</td>\n",
       "      <td>0.523400</td>\n",
       "      <td>0.578945</td>\n",
       "      <td>0.694444</td>\n",
       "      <td>0.690625</td>\n",
       "    </tr>\n",
       "    <tr>\n",
       "      <td>4</td>\n",
       "      <td>0.409100</td>\n",
       "      <td>0.603207</td>\n",
       "      <td>0.713889</td>\n",
       "      <td>0.713869</td>\n",
       "    </tr>\n",
       "    <tr>\n",
       "      <td>5</td>\n",
       "      <td>0.259900</td>\n",
       "      <td>0.708372</td>\n",
       "      <td>0.705556</td>\n",
       "      <td>0.705228</td>\n",
       "    </tr>\n",
       "    <tr>\n",
       "      <td>6</td>\n",
       "      <td>0.091900</td>\n",
       "      <td>1.142169</td>\n",
       "      <td>0.719444</td>\n",
       "      <td>0.719182</td>\n",
       "    </tr>\n",
       "    <tr>\n",
       "      <td>7</td>\n",
       "      <td>0.041000</td>\n",
       "      <td>1.486258</td>\n",
       "      <td>0.727778</td>\n",
       "      <td>0.725610</td>\n",
       "    </tr>\n",
       "    <tr>\n",
       "      <td>8</td>\n",
       "      <td>0.013800</td>\n",
       "      <td>1.556658</td>\n",
       "      <td>0.730556</td>\n",
       "      <td>0.730387</td>\n",
       "    </tr>\n",
       "  </tbody>\n",
       "</table><p>"
      ],
      "text/plain": [
       "<IPython.core.display.HTML object>"
      ]
     },
     "metadata": {},
     "output_type": "display_data"
    },
    {
     "name": "stderr",
     "output_type": "stream",
     "text": [
      "Some weights of BertForSequenceClassification were not initialized from the model checkpoint at cl-tohoku/bert-base-japanese-v3 and are newly initialized: ['classifier.weight', 'classifier.bias']\n",
      "You should probably TRAIN this model on a down-stream task to be able to use it for predictions and inference.\n"
     ]
    },
    {
     "data": {
      "application/vnd.jupyter.widget-view+json": {
       "model_id": "5ecda9be40ad47a29ac95f5fe737a52d",
       "version_major": 2,
       "version_minor": 0
      },
      "text/plain": [
       "Map:   0%|          | 0/352 [00:00<?, ? examples/s]"
      ]
     },
     "metadata": {},
     "output_type": "display_data"
    },
    {
     "data": {
      "application/vnd.jupyter.widget-view+json": {
       "model_id": "492dae885ed245338c1379dbd8ed0219",
       "version_major": 2,
       "version_minor": 0
      },
      "text/plain": [
       "Map:   0%|          | 0/177 [00:00<?, ? examples/s]"
      ]
     },
     "metadata": {},
     "output_type": "display_data"
    },
    {
     "name": "stderr",
     "output_type": "stream",
     "text": [
      "wandb: WARNING Source type is set to 'repo' but some required information is missing from the environment. A job will not be created from this run. See https://docs.wandb.ai/guides/launch/create-job\n"
     ]
    },
    {
     "data": {
      "application/vnd.jupyter.widget-view+json": {
       "model_id": "7686f09a9a4244e7ac92540430081ba9",
       "version_major": 2,
       "version_minor": 0
      },
      "text/plain": [
       "VBox(children=(Label(value='Waiting for wandb.init()...\\r'), FloatProgress(value=0.011112510537107786, max=1.0…"
      ]
     },
     "metadata": {},
     "output_type": "display_data"
    },
    {
     "data": {
      "text/html": [
       "\n",
       "    <div>\n",
       "      \n",
       "      <progress value='242' max='2200' style='width:300px; height:20px; vertical-align: middle;'></progress>\n",
       "      [ 242/2200 01:02 < 08:26, 3.86 it/s, Epoch 11/100]\n",
       "    </div>\n",
       "    <table border=\"1\" class=\"dataframe\">\n",
       "  <thead>\n",
       " <tr style=\"text-align: left;\">\n",
       "      <th>Epoch</th>\n",
       "      <th>Training Loss</th>\n",
       "      <th>Validation Loss</th>\n",
       "      <th>Accuracy</th>\n",
       "      <th>Macro F1</th>\n",
       "      <th>Class F1</th>\n",
       "      <th>Class Recall</th>\n",
       "      <th>Class Precision</th>\n",
       "    </tr>\n",
       "  </thead>\n",
       "  <tbody>\n",
       "    <tr>\n",
       "      <td>1</td>\n",
       "      <td>0.663800</td>\n",
       "      <td>0.641752</td>\n",
       "      <td>0.056497</td>\n",
       "      <td>0.145083</td>\n",
       "      <td>[0.0, 0.265, 0.171]</td>\n",
       "      <td>[0.0, 0.205, 0.103]</td>\n",
       "      <td>[0.0, 0.375, 0.5]</td>\n",
       "    </tr>\n",
       "    <tr>\n",
       "      <td>2</td>\n",
       "      <td>0.617200</td>\n",
       "      <td>0.610796</td>\n",
       "      <td>0.101695</td>\n",
       "      <td>0.105399</td>\n",
       "      <td>[0.053, 0.0, 0.264]</td>\n",
       "      <td>[0.027, 0.0, 0.159]</td>\n",
       "      <td>[1.0, 0.0, 0.773]</td>\n",
       "    </tr>\n",
       "    <tr>\n",
       "      <td>3</td>\n",
       "      <td>0.563000</td>\n",
       "      <td>0.553358</td>\n",
       "      <td>0.542373</td>\n",
       "      <td>0.556421</td>\n",
       "      <td>[0.444, 0.457, 0.768]</td>\n",
       "      <td>[0.324, 0.364, 0.71]</td>\n",
       "      <td>[0.706, 0.615, 0.835]</td>\n",
       "    </tr>\n",
       "    <tr>\n",
       "      <td>4</td>\n",
       "      <td>0.474700</td>\n",
       "      <td>0.477483</td>\n",
       "      <td>0.576271</td>\n",
       "      <td>0.652973</td>\n",
       "      <td>[0.633, 0.59, 0.736]</td>\n",
       "      <td>[0.676, 0.523, 0.626]</td>\n",
       "      <td>[0.595, 0.676, 0.893]</td>\n",
       "    </tr>\n",
       "    <tr>\n",
       "      <td>5</td>\n",
       "      <td>0.320400</td>\n",
       "      <td>0.415278</td>\n",
       "      <td>0.706215</td>\n",
       "      <td>0.727488</td>\n",
       "      <td>[0.675, 0.649, 0.858]</td>\n",
       "      <td>[0.703, 0.545, 0.85]</td>\n",
       "      <td>[0.65, 0.8, 0.867]</td>\n",
       "    </tr>\n",
       "    <tr>\n",
       "      <td>6</td>\n",
       "      <td>0.204800</td>\n",
       "      <td>0.379065</td>\n",
       "      <td>0.728814</td>\n",
       "      <td>0.741385</td>\n",
       "      <td>[0.609, 0.756, 0.86]</td>\n",
       "      <td>[0.568, 0.773, 0.832]</td>\n",
       "      <td>[0.656, 0.739, 0.89]</td>\n",
       "    </tr>\n",
       "    <tr>\n",
       "      <td>7</td>\n",
       "      <td>0.114900</td>\n",
       "      <td>0.398430</td>\n",
       "      <td>0.751412</td>\n",
       "      <td>0.773560</td>\n",
       "      <td>[0.693, 0.767, 0.86]</td>\n",
       "      <td>[0.703, 0.75, 0.832]</td>\n",
       "      <td>[0.684, 0.786, 0.89]</td>\n",
       "    </tr>\n",
       "    <tr>\n",
       "      <td>8</td>\n",
       "      <td>0.086900</td>\n",
       "      <td>0.447119</td>\n",
       "      <td>0.723164</td>\n",
       "      <td>0.745868</td>\n",
       "      <td>[0.632, 0.763, 0.843]</td>\n",
       "      <td>[0.649, 0.841, 0.804]</td>\n",
       "      <td>[0.615, 0.698, 0.887]</td>\n",
       "    </tr>\n",
       "    <tr>\n",
       "      <td>9</td>\n",
       "      <td>0.061700</td>\n",
       "      <td>0.415930</td>\n",
       "      <td>0.734463</td>\n",
       "      <td>0.770329</td>\n",
       "      <td>[0.667, 0.78, 0.864]</td>\n",
       "      <td>[0.676, 0.886, 0.804]</td>\n",
       "      <td>[0.658, 0.696, 0.935]</td>\n",
       "    </tr>\n",
       "    <tr>\n",
       "      <td>10</td>\n",
       "      <td>0.054400</td>\n",
       "      <td>0.460086</td>\n",
       "      <td>0.740113</td>\n",
       "      <td>0.778507</td>\n",
       "      <td>[0.683, 0.791, 0.861]</td>\n",
       "      <td>[0.757, 0.818, 0.813]</td>\n",
       "      <td>[0.622, 0.766, 0.916]</td>\n",
       "    </tr>\n",
       "    <tr>\n",
       "      <td>11</td>\n",
       "      <td>0.043000</td>\n",
       "      <td>0.484704</td>\n",
       "      <td>0.711864</td>\n",
       "      <td>0.765244</td>\n",
       "      <td>[0.698, 0.771, 0.827]</td>\n",
       "      <td>[0.811, 0.841, 0.738]</td>\n",
       "      <td>[0.612, 0.712, 0.94]</td>\n",
       "    </tr>\n",
       "  </tbody>\n",
       "</table><p>"
      ],
      "text/plain": [
       "<IPython.core.display.HTML object>"
      ]
     },
     "metadata": {},
     "output_type": "display_data"
    },
    {
     "data": {
      "application/vnd.jupyter.widget-view+json": {
       "model_id": "8145a28f40684878b8ce6be0b29f9e3a",
       "version_major": 2,
       "version_minor": 0
      },
      "text/plain": [
       "Map:   0%|          | 0/121 [00:00<?, ? examples/s]"
      ]
     },
     "metadata": {},
     "output_type": "display_data"
    },
    {
     "data": {
      "text/html": [],
      "text/plain": [
       "<IPython.core.display.HTML object>"
      ]
     },
     "metadata": {},
     "output_type": "display_data"
    },
    {
     "data": {
      "application/vnd.jupyter.widget-view+json": {
       "model_id": "d4599e3dd99a4843b49c130420382fd4",
       "version_major": 2,
       "version_minor": 0
      },
      "text/plain": [
       "Map:   0%|          | 0/89 [00:00<?, ? examples/s]"
      ]
     },
     "metadata": {},
     "output_type": "display_data"
    },
    {
     "data": {
      "text/html": [],
      "text/plain": [
       "<IPython.core.display.HTML object>"
      ]
     },
     "metadata": {},
     "output_type": "display_data"
    },
    {
     "name": "stdout",
     "output_type": "stream",
     "text": [
      "{'accuracy': 0.46153846153846156, 'macro_f1': 0.44355170184784787, 'class_f1': [0.353, 0.414, 0.48, 0.527], 'class_recall': [0.3, 0.4, 0.667, 0.407], 'class_precision': [0.429, 0.429, 0.375, 0.75]}\n",
      "-----------------Fold: 3-----------------\n"
     ]
    },
    {
     "name": "stderr",
     "output_type": "stream",
     "text": [
      "Some weights of BertForSequenceClassification were not initialized from the model checkpoint at cl-tohoku/bert-base-japanese-v3 and are newly initialized: ['classifier.weight', 'classifier.bias']\n",
      "You should probably TRAIN this model on a down-stream task to be able to use it for predictions and inference.\n"
     ]
    },
    {
     "data": {
      "application/vnd.jupyter.widget-view+json": {
       "model_id": "281b458583384ec9bec8d60ad7fac974",
       "version_major": 2,
       "version_minor": 0
      },
      "text/plain": [
       "Map:   0%|          | 0/720 [00:00<?, ? examples/s]"
      ]
     },
     "metadata": {},
     "output_type": "display_data"
    },
    {
     "data": {
      "application/vnd.jupyter.widget-view+json": {
       "model_id": "04e2f605a09b450d97c1f36e1e1c73c2",
       "version_major": 2,
       "version_minor": 0
      },
      "text/plain": [
       "Map:   0%|          | 0/359 [00:00<?, ? examples/s]"
      ]
     },
     "metadata": {},
     "output_type": "display_data"
    },
    {
     "name": "stderr",
     "output_type": "stream",
     "text": [
      "wandb: WARNING Source type is set to 'repo' but some required information is missing from the environment. A job will not be created from this run. See https://docs.wandb.ai/guides/launch/create-job\n"
     ]
    },
    {
     "data": {
      "application/vnd.jupyter.widget-view+json": {
       "model_id": "8649ba47a0b141b39b89270834ecbfb9",
       "version_major": 2,
       "version_minor": 0
      },
      "text/plain": [
       "VBox(children=(Label(value='Waiting for wandb.init()...\\r'), FloatProgress(value=0.011112429512043795, max=1.0…"
      ]
     },
     "metadata": {},
     "output_type": "display_data"
    },
    {
     "data": {
      "text/html": [
       "\n",
       "    <div>\n",
       "      \n",
       "      <progress value='360' max='4500' style='width:300px; height:20px; vertical-align: middle;'></progress>\n",
       "      [ 360/4500 01:25 < 16:24, 4.20 it/s, Epoch 8/100]\n",
       "    </div>\n",
       "    <table border=\"1\" class=\"dataframe\">\n",
       "  <thead>\n",
       " <tr style=\"text-align: left;\">\n",
       "      <th>Epoch</th>\n",
       "      <th>Training Loss</th>\n",
       "      <th>Validation Loss</th>\n",
       "      <th>Accuracy</th>\n",
       "      <th>F1</th>\n",
       "    </tr>\n",
       "  </thead>\n",
       "  <tbody>\n",
       "    <tr>\n",
       "      <td>1</td>\n",
       "      <td>0.736800</td>\n",
       "      <td>0.668366</td>\n",
       "      <td>0.607242</td>\n",
       "      <td>0.582134</td>\n",
       "    </tr>\n",
       "    <tr>\n",
       "      <td>2</td>\n",
       "      <td>0.633800</td>\n",
       "      <td>0.606230</td>\n",
       "      <td>0.674095</td>\n",
       "      <td>0.670784</td>\n",
       "    </tr>\n",
       "    <tr>\n",
       "      <td>3</td>\n",
       "      <td>0.517200</td>\n",
       "      <td>0.593249</td>\n",
       "      <td>0.693593</td>\n",
       "      <td>0.693401</td>\n",
       "    </tr>\n",
       "    <tr>\n",
       "      <td>4</td>\n",
       "      <td>0.387400</td>\n",
       "      <td>0.685108</td>\n",
       "      <td>0.649025</td>\n",
       "      <td>0.641796</td>\n",
       "    </tr>\n",
       "    <tr>\n",
       "      <td>5</td>\n",
       "      <td>0.221900</td>\n",
       "      <td>0.779106</td>\n",
       "      <td>0.727019</td>\n",
       "      <td>0.726406</td>\n",
       "    </tr>\n",
       "    <tr>\n",
       "      <td>6</td>\n",
       "      <td>0.089700</td>\n",
       "      <td>1.254387</td>\n",
       "      <td>0.701950</td>\n",
       "      <td>0.701616</td>\n",
       "    </tr>\n",
       "    <tr>\n",
       "      <td>7</td>\n",
       "      <td>0.032000</td>\n",
       "      <td>1.698642</td>\n",
       "      <td>0.676880</td>\n",
       "      <td>0.675548</td>\n",
       "    </tr>\n",
       "    <tr>\n",
       "      <td>8</td>\n",
       "      <td>0.018100</td>\n",
       "      <td>1.770606</td>\n",
       "      <td>0.699164</td>\n",
       "      <td>0.698488</td>\n",
       "    </tr>\n",
       "  </tbody>\n",
       "</table><p>"
      ],
      "text/plain": [
       "<IPython.core.display.HTML object>"
      ]
     },
     "metadata": {},
     "output_type": "display_data"
    },
    {
     "name": "stderr",
     "output_type": "stream",
     "text": [
      "Some weights of BertForSequenceClassification were not initialized from the model checkpoint at cl-tohoku/bert-base-japanese-v3 and are newly initialized: ['classifier.weight', 'classifier.bias']\n",
      "You should probably TRAIN this model on a down-stream task to be able to use it for predictions and inference.\n"
     ]
    },
    {
     "data": {
      "application/vnd.jupyter.widget-view+json": {
       "model_id": "e344e333a81c4f4ba58993b19dd8a1b6",
       "version_major": 2,
       "version_minor": 0
      },
      "text/plain": [
       "Map:   0%|          | 0/354 [00:00<?, ? examples/s]"
      ]
     },
     "metadata": {},
     "output_type": "display_data"
    },
    {
     "data": {
      "application/vnd.jupyter.widget-view+json": {
       "model_id": "27c78a2f010a4d87be958bdcf0cf448f",
       "version_major": 2,
       "version_minor": 0
      },
      "text/plain": [
       "Map:   0%|          | 0/175 [00:00<?, ? examples/s]"
      ]
     },
     "metadata": {},
     "output_type": "display_data"
    },
    {
     "name": "stderr",
     "output_type": "stream",
     "text": [
      "wandb: WARNING Source type is set to 'repo' but some required information is missing from the environment. A job will not be created from this run. See https://docs.wandb.ai/guides/launch/create-job\n"
     ]
    },
    {
     "data": {
      "application/vnd.jupyter.widget-view+json": {
       "model_id": "975fab962a6e4ac299aa47f7c4f17cff",
       "version_major": 2,
       "version_minor": 0
      },
      "text/plain": [
       "VBox(children=(Label(value='Waiting for wandb.init()...\\r'), FloatProgress(value=0.011112211168640189, max=1.0…"
      ]
     },
     "metadata": {},
     "output_type": "display_data"
    },
    {
     "data": {
      "text/html": [
       "\n",
       "    <div>\n",
       "      \n",
       "      <progress value='253' max='2300' style='width:300px; height:20px; vertical-align: middle;'></progress>\n",
       "      [ 253/2300 01:02 < 08:32, 4.00 it/s, Epoch 11/100]\n",
       "    </div>\n",
       "    <table border=\"1\" class=\"dataframe\">\n",
       "  <thead>\n",
       " <tr style=\"text-align: left;\">\n",
       "      <th>Epoch</th>\n",
       "      <th>Training Loss</th>\n",
       "      <th>Validation Loss</th>\n",
       "      <th>Accuracy</th>\n",
       "      <th>Macro F1</th>\n",
       "      <th>Class F1</th>\n",
       "      <th>Class Recall</th>\n",
       "      <th>Class Precision</th>\n",
       "    </tr>\n",
       "  </thead>\n",
       "  <tbody>\n",
       "    <tr>\n",
       "      <td>1</td>\n",
       "      <td>0.656000</td>\n",
       "      <td>0.635794</td>\n",
       "      <td>0.108571</td>\n",
       "      <td>0.184976</td>\n",
       "      <td>[0.051, 0.297, 0.206]</td>\n",
       "      <td>[0.027, 0.256, 0.12]</td>\n",
       "      <td>[0.5, 0.355, 0.722]</td>\n",
       "    </tr>\n",
       "    <tr>\n",
       "      <td>2</td>\n",
       "      <td>0.594200</td>\n",
       "      <td>0.598370</td>\n",
       "      <td>0.314286</td>\n",
       "      <td>0.218661</td>\n",
       "      <td>[0.053, 0.0, 0.603]</td>\n",
       "      <td>[0.027, 0.0, 0.5]</td>\n",
       "      <td>[1.0, 0.0, 0.761]</td>\n",
       "    </tr>\n",
       "    <tr>\n",
       "      <td>3</td>\n",
       "      <td>0.531100</td>\n",
       "      <td>0.550405</td>\n",
       "      <td>0.428571</td>\n",
       "      <td>0.448437</td>\n",
       "      <td>[0.367, 0.308, 0.67]</td>\n",
       "      <td>[0.243, 0.233, 0.574]</td>\n",
       "      <td>[0.75, 0.455, 0.805]</td>\n",
       "    </tr>\n",
       "    <tr>\n",
       "      <td>4</td>\n",
       "      <td>0.420000</td>\n",
       "      <td>0.479596</td>\n",
       "      <td>0.611429</td>\n",
       "      <td>0.678350</td>\n",
       "      <td>[0.632, 0.622, 0.781]</td>\n",
       "      <td>[0.649, 0.651, 0.694]</td>\n",
       "      <td>[0.615, 0.596, 0.893]</td>\n",
       "    </tr>\n",
       "    <tr>\n",
       "      <td>5</td>\n",
       "      <td>0.289500</td>\n",
       "      <td>0.509355</td>\n",
       "      <td>0.657143</td>\n",
       "      <td>0.653002</td>\n",
       "      <td>[0.526, 0.638, 0.794]</td>\n",
       "      <td>[0.405, 0.698, 0.787]</td>\n",
       "      <td>[0.75, 0.588, 0.802]</td>\n",
       "    </tr>\n",
       "    <tr>\n",
       "      <td>6</td>\n",
       "      <td>0.182000</td>\n",
       "      <td>0.424862</td>\n",
       "      <td>0.708571</td>\n",
       "      <td>0.729895</td>\n",
       "      <td>[0.667, 0.695, 0.828]</td>\n",
       "      <td>[0.622, 0.767, 0.759]</td>\n",
       "      <td>[0.719, 0.635, 0.911]</td>\n",
       "    </tr>\n",
       "    <tr>\n",
       "      <td>7</td>\n",
       "      <td>0.102500</td>\n",
       "      <td>0.452295</td>\n",
       "      <td>0.731429</td>\n",
       "      <td>0.746785</td>\n",
       "      <td>[0.675, 0.731, 0.834]</td>\n",
       "      <td>[0.73, 0.791, 0.769]</td>\n",
       "      <td>[0.628, 0.68, 0.912]</td>\n",
       "    </tr>\n",
       "    <tr>\n",
       "      <td>8</td>\n",
       "      <td>0.068300</td>\n",
       "      <td>0.538843</td>\n",
       "      <td>0.708571</td>\n",
       "      <td>0.679863</td>\n",
       "      <td>[0.583, 0.643, 0.813]</td>\n",
       "      <td>[0.568, 0.628, 0.787]</td>\n",
       "      <td>[0.6, 0.659, 0.842]</td>\n",
       "    </tr>\n",
       "    <tr>\n",
       "      <td>9</td>\n",
       "      <td>0.051000</td>\n",
       "      <td>0.628734</td>\n",
       "      <td>0.691429</td>\n",
       "      <td>0.685475</td>\n",
       "      <td>[0.557, 0.68, 0.819]</td>\n",
       "      <td>[0.459, 0.791, 0.796]</td>\n",
       "      <td>[0.708, 0.596, 0.843]</td>\n",
       "    </tr>\n",
       "    <tr>\n",
       "      <td>10</td>\n",
       "      <td>0.035800</td>\n",
       "      <td>0.578184</td>\n",
       "      <td>0.731429</td>\n",
       "      <td>0.710862</td>\n",
       "      <td>[0.575, 0.699, 0.858]</td>\n",
       "      <td>[0.568, 0.674, 0.87]</td>\n",
       "      <td>[0.583, 0.725, 0.847]</td>\n",
       "    </tr>\n",
       "    <tr>\n",
       "      <td>11</td>\n",
       "      <td>0.030900</td>\n",
       "      <td>0.744965</td>\n",
       "      <td>0.691429</td>\n",
       "      <td>0.689340</td>\n",
       "      <td>[0.509, 0.719, 0.84]</td>\n",
       "      <td>[0.378, 0.744, 0.898]</td>\n",
       "      <td>[0.778, 0.696, 0.789]</td>\n",
       "    </tr>\n",
       "  </tbody>\n",
       "</table><p>"
      ],
      "text/plain": [
       "<IPython.core.display.HTML object>"
      ]
     },
     "metadata": {},
     "output_type": "display_data"
    },
    {
     "data": {
      "application/vnd.jupyter.widget-view+json": {
       "model_id": "05873be0127444ccb60a5616b1661b01",
       "version_major": 2,
       "version_minor": 0
      },
      "text/plain": [
       "Map:   0%|          | 0/121 [00:00<?, ? examples/s]"
      ]
     },
     "metadata": {},
     "output_type": "display_data"
    },
    {
     "data": {
      "text/html": [],
      "text/plain": [
       "<IPython.core.display.HTML object>"
      ]
     },
     "metadata": {},
     "output_type": "display_data"
    },
    {
     "data": {
      "application/vnd.jupyter.widget-view+json": {
       "model_id": "7e511fbac27d44b4acf913481ba700c2",
       "version_major": 2,
       "version_minor": 0
      },
      "text/plain": [
       "Map:   0%|          | 0/74 [00:00<?, ? examples/s]"
      ]
     },
     "metadata": {},
     "output_type": "display_data"
    },
    {
     "data": {
      "text/html": [],
      "text/plain": [
       "<IPython.core.display.HTML object>"
      ]
     },
     "metadata": {},
     "output_type": "display_data"
    },
    {
     "name": "stdout",
     "output_type": "stream",
     "text": [
      "{'accuracy': 0.4782608695652174, 'macro_f1': 0.45295908886710773, 'class_f1': [0.381, 0.437, 0.39, 0.604], 'class_recall': [0.364, 0.467, 0.455, 0.542], 'class_precision': [0.4, 0.412, 0.341, 0.681]}\n"
     ]
    }
   ],
   "source": [
    "# Cross Validation\n",
    "prediction = Classifier_model.cross_validation(single_data, multi_data, single_test_data, multi_test_data, MAX_LEN, NUM_EPOCHS, LEARNING_RATE, BATCH_SIZE, PATIENCE, NUM_FOLDS, output_dir, project_name='2step_cross_validation')"
   ]
  },
  {
   "cell_type": "code",
   "execution_count": 12,
   "metadata": {},
   "outputs": [
    {
     "name": "stdout",
     "output_type": "stream",
     "text": [
      "[{'accuracy': 0.5583333333333333, 'macro_f1': 0.4798538884117304, 'class_f1': [0.353, 0.357, 0.532, 0.678], 'class_recall': [0.25, 0.333, 0.6, 0.672], 'class_precision': [0.6, 0.385, 0.477, 0.683]}, {'accuracy': 0.46153846153846156, 'macro_f1': 0.44355170184784787, 'class_f1': [0.353, 0.414, 0.48, 0.527], 'class_recall': [0.3, 0.4, 0.667, 0.407], 'class_precision': [0.429, 0.429, 0.375, 0.75]}, {'accuracy': 0.4782608695652174, 'macro_f1': 0.45295908886710773, 'class_f1': [0.381, 0.437, 0.39, 0.604], 'class_recall': [0.364, 0.467, 0.455, 0.542], 'class_precision': [0.4, 0.412, 0.341, 0.681]}]\n"
     ]
    }
   ],
   "source": [
    "print(prediction)"
   ]
  },
  {
   "cell_type": "code",
   "execution_count": 14,
   "metadata": {},
   "outputs": [
    {
     "name": "stdout",
     "output_type": "stream",
     "text": [
      "Average accuracy: 0.499\n",
      "Average Macro f1: 0.459\n",
      "Average Class f1: [0.362, 0.403, 0.467, 0.603]\n",
      "Average Class recall: [0.305, 0.4, 0.574, 0.54]\n",
      "Average Class precision: [0.476, 0.409, 0.398, 0.705]\n"
     ]
    }
   ],
   "source": [
    "# 重みありの場合の結果（cv=5）解答\n",
    "average_accuracy = round(sum(d['accuracy'] for d in prediction)/len(prediction), 3)\n",
    "average_macro_f1 = round(sum(d['macro_f1'] for d in prediction)/len(prediction), 3)\n",
    "# クラスごとの平均値を計算\n",
    "average_class_f1 = [round(sum(d['class_f1'][i] for d in prediction) / len(prediction), 3) for i in range(len(prediction[0]['class_f1']))]\n",
    "average_class_recall = [round(sum(d['class_recall'][i] for d in prediction) / len(prediction), 3) for i in range(len(prediction[0]['class_recall']))]\n",
    "average_class_precision = [round(sum(d['class_precision'][i] for d in prediction) / len(prediction), 3) for i in range(len(prediction[0]['class_precision']))]\n",
    "print(\"Average accuracy:\", average_accuracy)\n",
    "print(\"Average Macro f1:\", average_macro_f1)\n",
    "print(\"Average Class f1:\", average_class_f1)\n",
    "print(\"Average Class recall:\", average_class_recall)\n",
    "print(\"Average Class precision:\", average_class_precision)"
   ]
  },
  {
   "cell_type": "markdown",
   "metadata": {},
   "source": [
    "### 一個前のコード変更する前の結果"
   ]
  },
  {
   "cell_type": "code",
   "execution_count": null,
   "metadata": {},
   "outputs": [],
   "source": [
    "print(prediction)"
   ]
  },
  {
   "cell_type": "code",
   "execution_count": null,
   "metadata": {},
   "outputs": [],
   "source": [
    "average_accuracy = sum(d['accuracy'] for d in prediction)/len(prediction)\n",
    "average_f1 = sum(d['f1'] for d in prediction)/len(prediction)\n",
    "print(\"Average accuracy:\", average_accuracy)\n",
    "print(\"Average f1:\", average_f1)"
   ]
  },
  {
   "cell_type": "code",
   "execution_count": null,
   "metadata": {},
   "outputs": [],
   "source": []
  }
 ],
 "metadata": {
  "kernelspec": {
   "display_name": ".venv",
   "language": "python",
   "name": "python3"
  },
  "language_info": {
   "codemirror_mode": {
    "name": "ipython",
    "version": 3
   },
   "file_extension": ".py",
   "mimetype": "text/x-python",
   "name": "python",
   "nbconvert_exporter": "python",
   "pygments_lexer": "ipython3",
   "version": "3.11.5"
  }
 },
 "nbformat": 4,
 "nbformat_minor": 2
}

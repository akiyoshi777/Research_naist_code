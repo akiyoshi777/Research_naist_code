{
 "cells": [
  {
   "cell_type": "code",
   "execution_count": 1,
   "metadata": {},
   "outputs": [],
   "source": [
    "import torch"
   ]
  },
  {
   "cell_type": "markdown",
   "metadata": {},
   "source": [
    "### サーバーで利用できるGPUについて"
   ]
  },
  {
   "cell_type": "code",
   "execution_count": 2,
   "metadata": {},
   "outputs": [
    {
     "name": "stdout",
     "output_type": "stream",
     "text": [
      "利用可能なGPUの数: 3\n",
      "GPU 0: Quadro RTX 8000\n",
      "GPU 1: Quadro RTX 8000\n",
      "GPU 2: Quadro P6000\n"
     ]
    }
   ],
   "source": [
    "# 利用可能なGPUの数を確認\n",
    "if torch.cuda.is_available():\n",
    "    print(f'利用可能なGPUの数: {torch.cuda.device_count()}')\n",
    "    \n",
    "    # 各GPUの名前を表示\n",
    "    for i in range(torch.cuda.device_count()):\n",
    "        print(f'GPU {i}: {torch.cuda.get_device_name(i)}')\n",
    "else:\n",
    "    print('利用可能なGPUはありません')"
   ]
  },
  {
   "cell_type": "markdown",
   "metadata": {},
   "source": [
    "Quadro RTX 8000\n",
    "1. CUDAコア: 4608 CUDAコア\n",
    "2. メモリ: 48GBのGDDR6メモリ\n",
    "3. レイトレーシング: RTコアを搭載しており、リアルタイムレイトレーシングとAI機能をサポート\n",
    "4. テンソルコア: AIとディープラーニング計算の高速化のためのテンソルコアを搭載"
   ]
  },
  {
   "cell_type": "markdown",
   "metadata": {},
   "source": [
    "Quadro P6000\n",
    "1. CUDAコア: 3840 CUDAコア\n",
    "2. メモリ: 24GBのGDDR5Xメモリ\n",
    "3. レイトレーシング: RTコアは搭載されていない\n",
    "4. テンソルコア: テンソルコアは搭載されていない"
   ]
  },
  {
   "cell_type": "markdown",
   "metadata": {},
   "source": [
    "### テンソルについて"
   ]
  },
  {
   "cell_type": "markdown",
   "metadata": {},
   "source": [
    "PyTorchテンソルはPyTorchライブラリの基本的なデータ構造<br>\n",
    "テンソルはニューラルネットワークの入力データ，出力データ，モデルのパラメータなどを表現できる．<br>\n",
    "<br>\n",
    "特性\n",
    "1. 多次元配列\n",
    "2. GPU対応: GPU上での計算をサポートしている．計算が高速化され，ディープラーニングモデルのトレーニング時間の短縮\n",
    "3. 自動微分: 計算グラフと勾配計算のサポート．バックプロパゲーションと最適化のプロセスが容易に\n",
    "4. 操作と変換: スライシング，形状変更，結合など，多くの操作と変換が可能\n",
    "5. Numpy変換が簡単"
   ]
  },
  {
   "cell_type": "code",
   "execution_count": 8,
   "metadata": {},
   "outputs": [
    {
     "name": "stdout",
     "output_type": "stream",
     "text": [
      "tensor([[1, 2],\n",
      "        [3, 4]])\n",
      "torch.Size([2, 2])\n",
      "torch.int64\n",
      "tensor([[1, 2],\n",
      "        [3, 4]], device='cuda:0')\n",
      "tensor([[1, 2],\n",
      "        [3, 4]])\n",
      "[[1 2]\n",
      " [3 4]]\n"
     ]
    }
   ],
   "source": [
    "# テンソルの作成\n",
    "x = torch.tensor([[1, 2], [3, 4]])\n",
    "print(x)\n",
    "\n",
    "# テンソルの形状の取得\n",
    "print(x.size())\n",
    "\n",
    "# テンソルの要素のデータ型の取得\n",
    "print(x.dtype)\n",
    "\n",
    "# GPUにテンソルを移動（GPUが利用可能な場合）\n",
    "if torch.cuda.is_available():\n",
    "    x = x.to('cuda')\n",
    "    print(x)\n",
    "# CPUメモリに戻る\n",
    "x = x.cpu()\n",
    "print(x)\n",
    "numpy_array = x.numpy()\n",
    "print(numpy_array)"
   ]
  },
  {
   "cell_type": "code",
   "execution_count": null,
   "metadata": {},
   "outputs": [],
   "source": []
  }
 ],
 "metadata": {
  "kernelspec": {
   "display_name": ".venv",
   "language": "python",
   "name": "python3"
  },
  "language_info": {
   "codemirror_mode": {
    "name": "ipython",
    "version": 3
   },
   "file_extension": ".py",
   "mimetype": "text/x-python",
   "name": "python",
   "nbconvert_exporter": "python",
   "pygments_lexer": "ipython3",
   "version": "3.11.5"
  },
  "orig_nbformat": 4
 },
 "nbformat": 4,
 "nbformat_minor": 2
}

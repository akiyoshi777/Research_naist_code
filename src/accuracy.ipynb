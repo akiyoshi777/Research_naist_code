{
 "cells": [
  {
   "cell_type": "code",
   "execution_count": 1,
   "metadata": {},
   "outputs": [],
   "source": [
    "from sklearn.model_selection import cross_val_predict\n",
    "from sklearn.metrics import confusion_matrix\n",
    "from sklearn.ensemble import RandomForestClassifier\n",
    "from sklearn.datasets import load_iris\n",
    "import matplotlib.pyplot as plt\n",
    "import seaborn as sns\n",
    "from sklearn.metrics import accuracy_score, f1_score"
   ]
  },
  {
   "cell_type": "code",
   "execution_count": 3,
   "metadata": {},
   "outputs": [
    {
     "name": "stdout",
     "output_type": "stream",
     "text": [
      "[[5.1 3.5 1.4 0.2]\n",
      " [4.9 3.  1.4 0.2]\n",
      " [4.7 3.2 1.3 0.2]\n",
      " [4.6 3.1 1.5 0.2]\n",
      " [5.  3.6 1.4 0.2]]\n",
      "[0 0 0 0 0]\n"
     ]
    }
   ],
   "source": [
    "# データのロード (ここではIrisデータセットを使用)\n",
    "iris = load_iris()\n",
    "X = iris.data\n",
    "y = iris.target\n",
    "print(X[:5])\n",
    "print(y[:5])"
   ]
  },
  {
   "cell_type": "code",
   "execution_count": 4,
   "metadata": {},
   "outputs": [],
   "source": [
    "# モデルのインスタンス化\n",
    "clf = RandomForestClassifier(random_state=42)\n",
    "\n",
    "# クロスバリデーションを使用して予測を行う\n",
    "y_pred = cross_val_predict(clf, X, y, cv=5)"
   ]
  },
  {
   "cell_type": "code",
   "execution_count": 6,
   "metadata": {},
   "outputs": [
    {
     "data": {
      "text/plain": [
       "150"
      ]
     },
     "execution_count": 6,
     "metadata": {},
     "output_type": "execute_result"
    }
   ],
   "source": [
    "len(y_pred)"
   ]
  },
  {
   "cell_type": "code",
   "execution_count": 8,
   "metadata": {},
   "outputs": [
    {
     "name": "stdout",
     "output_type": "stream",
     "text": [
      "[[50  0  0]\n",
      " [ 0 47  3]\n",
      " [ 0  2 48]]\n",
      "accuracy: 0.9666666666666667\n",
      "f1: 0.9666633329999667\n"
     ]
    },
    {
     "data": {
      "image/png": "[encoded data removed]",
      "text/plain": [
       "<Figure size 640x480 with 2 Axes>"
      ]
     },
     "metadata": {},
     "output_type": "display_data"
    }
   ],
   "source": [
    "# 混同行列の生成\n",
    "conf_mat = confusion_matrix(y, y_pred)\n",
    "print(conf_mat)\n",
    "accuracy = accuracy_score(y, y_pred)\n",
    "f1 = f1_score(y, y_pred, average='macro', zero_division=0)\n",
    "print(f'accuracy: {accuracy}')\n",
    "print(f'f1: {f1}')\n",
    "# 混同行列の可視化\n",
    "sns.heatmap(conf_mat, annot=True, fmt='d', cmap='Blues', xticklabels=iris.target_names, yticklabels=iris.target_names)\n",
    "plt.xlabel('Predicted')\n",
    "plt.ylabel('True')\n",
    "plt.show()\n"
   ]
  },
  {
   "cell_type": "code",
   "execution_count": 7,
   "metadata": {},
   "outputs": [],
   "source": [
    "from sklearn.metrics import multilabel_confusion_matrix\n",
    "from sklearn.preprocessing import MultiLabelBinarizer\n",
    "import numpy as np\n",
    "\n",
    "# 真のラベルと予測ラベルの例（0, 1, 2をクラスラベルとしています）\n",
    "y_true = [(0, 1), (0, 2), (1, 2), (0, 1, 2), (2,)]\n",
    "y_pred = [(0, 1), (0, 1), (1, 2), (0, 1), (2, 1)]\n",
    "\n",
    "# MultiLabelBinarizerを使用してラベルをバイナリ形式に変換\n",
    "mlb = MultiLabelBinarizer()\n",
    "y_true_binary = mlb.fit_transform(y_true)\n",
    "y_pred_binary = mlb.transform(y_pred)"
   ]
  },
  {
   "cell_type": "code",
   "execution_count": 15,
   "metadata": {},
   "outputs": [
    {
     "name": "stdout",
     "output_type": "stream",
     "text": [
      "真ラベル \n",
      "[[1 1 0]\n",
      " [1 0 1]\n",
      " [0 1 1]\n",
      " [1 1 1]\n",
      " [0 0 1]]\n",
      "予測ラベル \n",
      "[[1 1 0]\n",
      " [1 1 0]\n",
      " [0 1 1]\n",
      " [1 1 0]\n",
      " [0 1 1]]\n"
     ]
    }
   ],
   "source": [
    "print(f'真ラベル \\n{y_true_binary}')\n",
    "print(f'予測ラベル \\n{y_pred_binary}')"
   ]
  },
  {
   "cell_type": "code",
   "execution_count": 9,
   "metadata": {},
   "outputs": [
    {
     "name": "stdout",
     "output_type": "stream",
     "text": [
      "[[[2 0]\n",
      "  [0 3]]\n",
      "\n",
      " [[0 2]\n",
      "  [0 3]]\n",
      "\n",
      " [[1 0]\n",
      "  [2 2]]]\n",
      "Class 0:\n",
      "[[2 0]\n",
      " [0 3]]\n",
      "Class 1:\n",
      "[[0 2]\n",
      " [0 3]]\n",
      "Class 2:\n",
      "[[1 0]\n",
      " [2 2]]\n"
     ]
    }
   ],
   "source": [
    "# 混同行列の計算\n",
    "conf_mat = multilabel_confusion_matrix(y_true_binary, y_pred_binary)\n",
    "print(conf_mat)\n",
    "\n",
    "# 混同行列の表示\n",
    "for i, (label, matrix) in enumerate(zip(mlb.classes_, conf_mat)):\n",
    "    print(f\"Class {label}:\")\n",
    "    print(matrix)"
   ]
  },
  {
   "cell_type": "code",
   "execution_count": null,
   "metadata": {},
   "outputs": [],
   "source": []
  }
 ],
 "metadata": {
  "kernelspec": {
   "display_name": ".venv",
   "language": "python",
   "name": "python3"
  },
  "language_info": {
   "codemirror_mode": {
    "name": "ipython",
    "version": 3
   },
   "file_extension": ".py",
   "mimetype": "text/x-python",
   "name": "python",
   "nbconvert_exporter": "python",
   "pygments_lexer": "ipython3",
   "version": "3.11.5"
  },
  "orig_nbformat": 4
 },
 "nbformat": 4,
 "nbformat_minor": 2
}
